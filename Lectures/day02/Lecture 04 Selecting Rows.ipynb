{
 "cells": [
  {
   "cell_type": "markdown",
   "metadata": {
    "slideshow": {
     "slide_type": "slide"
    }
   },
   "source": [
    "# Lecture 4 - Selecting Rows"
   ]
  },
  {
   "cell_type": "markdown",
   "metadata": {
    "slideshow": {
     "slide_type": "slide"
    }
   },
   "source": [
    "### Announcements\n",
    "\n",
    "- Lab 02 due tonight.\n",
    "- HW 02 due Sunday.\n",
    "- iClicker scores posted on TritonEd (A00 and B00 separately).\n",
    "- I can't answer lab or HW questions before or after class.\n",
    "- My office hours are Saturday 3-5pm, CSE 4109."
   ]
  },
  {
   "cell_type": "code",
   "execution_count": 1,
   "metadata": {},
   "outputs": [],
   "source": [
    "from datascience import *\n",
    "import numpy as np"
   ]
  },
  {
   "cell_type": "markdown",
   "metadata": {
    "slideshow": {
     "slide_type": "slide"
    }
   },
   "source": [
    "<center><img src=\"summary1.png\"  width=\"800\"/></center>"
   ]
  },
  {
   "cell_type": "markdown",
   "metadata": {
    "slideshow": {
     "slide_type": "slide"
    }
   },
   "source": [
    "# Sorting Tables\n",
    "\n",
    "* The `sort` method creates a new table with the same rows in a different order (the original table is unaffected).\n",
    "\n",
    "* The `show` method displays the first rows of a table"
   ]
  },
  {
   "cell_type": "code",
   "execution_count": 3,
   "metadata": {},
   "outputs": [
    {
     "data": {
      "text/html": [
       "<table border=\"1\" class=\"dataframe\">\n",
       "    <thead>\n",
       "        <tr>\n",
       "            <th>PLAYER</th> <th>POSITION</th> <th>TEAM</th> <th>'15-'16 SALARY</th>\n",
       "        </tr>\n",
       "    </thead>\n",
       "    <tbody>\n",
       "        <tr>\n",
       "            <td>Paul Millsap    </td> <td>PF      </td> <td>Atlanta Hawks</td> <td>18.6717       </td>\n",
       "        </tr>\n",
       "        <tr>\n",
       "            <td>Al Horford      </td> <td>C       </td> <td>Atlanta Hawks</td> <td>12            </td>\n",
       "        </tr>\n",
       "        <tr>\n",
       "            <td>Tiago Splitter  </td> <td>C       </td> <td>Atlanta Hawks</td> <td>9.75625       </td>\n",
       "        </tr>\n",
       "        <tr>\n",
       "            <td>Jeff Teague     </td> <td>PG      </td> <td>Atlanta Hawks</td> <td>8             </td>\n",
       "        </tr>\n",
       "        <tr>\n",
       "            <td>Kyle Korver     </td> <td>SG      </td> <td>Atlanta Hawks</td> <td>5.74648       </td>\n",
       "        </tr>\n",
       "        <tr>\n",
       "            <td>Thabo Sefolosha </td> <td>SF      </td> <td>Atlanta Hawks</td> <td>4             </td>\n",
       "        </tr>\n",
       "        <tr>\n",
       "            <td>Mike Scott      </td> <td>PF      </td> <td>Atlanta Hawks</td> <td>3.33333       </td>\n",
       "        </tr>\n",
       "        <tr>\n",
       "            <td>Kent Bazemore   </td> <td>SF      </td> <td>Atlanta Hawks</td> <td>2             </td>\n",
       "        </tr>\n",
       "        <tr>\n",
       "            <td>Dennis Schroder </td> <td>PG      </td> <td>Atlanta Hawks</td> <td>1.7634        </td>\n",
       "        </tr>\n",
       "        <tr>\n",
       "            <td>Tim Hardaway Jr.</td> <td>SG      </td> <td>Atlanta Hawks</td> <td>1.30452       </td>\n",
       "        </tr>\n",
       "    </tbody>\n",
       "</table>\n",
       "<p>... (407 rows omitted)</p>"
      ],
      "text/plain": [
       "PLAYER           | POSITION | TEAM          | '15-'16 SALARY\n",
       "Paul Millsap     | PF       | Atlanta Hawks | 18.6717\n",
       "Al Horford       | C        | Atlanta Hawks | 12\n",
       "Tiago Splitter   | C        | Atlanta Hawks | 9.75625\n",
       "Jeff Teague      | PG       | Atlanta Hawks | 8\n",
       "Kyle Korver      | SG       | Atlanta Hawks | 5.74648\n",
       "Thabo Sefolosha  | SF       | Atlanta Hawks | 4\n",
       "Mike Scott       | PF       | Atlanta Hawks | 3.33333\n",
       "Kent Bazemore    | SF       | Atlanta Hawks | 2\n",
       "Dennis Schroder  | PG       | Atlanta Hawks | 1.7634\n",
       "Tim Hardaway Jr. | SG       | Atlanta Hawks | 1.30452\n",
       "... (407 rows omitted)"
      ]
     },
     "execution_count": 3,
     "metadata": {},
     "output_type": "execute_result"
    }
   ],
   "source": [
    "nba = Table.read_table('nba_salaries.csv') # Larger tables have rows omitted\n",
    "nba "
   ]
  },
  {
   "cell_type": "markdown",
   "metadata": {
    "slideshow": {
     "slide_type": "slide"
    }
   },
   "source": [
    "# About the data\n",
    "\n",
    "<center><img src=\"nba_description.png\"  width=\"800\"/></center>"
   ]
  },
  {
   "cell_type": "markdown",
   "metadata": {
    "slideshow": {
     "slide_type": "slide"
    }
   },
   "source": [
    "### In 2015-16, what was the total payroll for all NBA teams combined?"
   ]
  },
  {
   "cell_type": "code",
   "execution_count": 6,
   "metadata": {},
   "outputs": [
    {
     "data": {
      "text/plain": [
       "2116.197639"
      ]
     },
     "execution_count": 6,
     "metadata": {},
     "output_type": "execute_result"
    }
   ],
   "source": [
    "nba.column(3).sum() #about 2 billion"
   ]
  },
  {
   "cell_type": "markdown",
   "metadata": {
    "slideshow": {
     "slide_type": "slide"
    }
   },
   "source": [
    "### What's the largest salary in the NBA in 2015-16? Who earned it?"
   ]
  },
  {
   "cell_type": "code",
   "execution_count": 22,
   "metadata": {},
   "outputs": [
    {
     "data": {
      "text/plain": [
       "'Kobe Bryant'"
      ]
     },
     "execution_count": 22,
     "metadata": {},
     "output_type": "execute_result"
    }
   ],
   "source": [
    "nba.sort(3, descending=True).column('PLAYER').item(0)"
   ]
  },
  {
   "cell_type": "markdown",
   "metadata": {},
   "source": [
    "### How about the top 5?"
   ]
  },
  {
   "cell_type": "code",
   "execution_count": 24,
   "metadata": {},
   "outputs": [
    {
     "data": {
      "text/html": [
       "<table border=\"1\" class=\"dataframe\">\n",
       "    <thead>\n",
       "        <tr>\n",
       "            <th>PLAYER</th> <th>POSITION</th> <th>TEAM</th> <th>'15-'16 SALARY</th>\n",
       "        </tr>\n",
       "    </thead>\n",
       "    <tbody>\n",
       "        <tr>\n",
       "            <td>Kobe Bryant             </td> <td>SF      </td> <td>Los Angeles Lakers    </td> <td>25            </td>\n",
       "        </tr>\n",
       "        <tr>\n",
       "            <td>Joe Johnson             </td> <td>SF      </td> <td>Brooklyn Nets         </td> <td>24.8949       </td>\n",
       "        </tr>\n",
       "        <tr>\n",
       "            <td>LeBron James            </td> <td>SF      </td> <td>Cleveland Cavaliers   </td> <td>22.9705       </td>\n",
       "        </tr>\n",
       "        <tr>\n",
       "            <td>Carmelo Anthony         </td> <td>SF      </td> <td>New York Knicks       </td> <td>22.875        </td>\n",
       "        </tr>\n",
       "        <tr>\n",
       "            <td>Dwight Howard           </td> <td>C       </td> <td>Houston Rockets       </td> <td>22.3594       </td>\n",
       "        </tr>\n",
       "        <tr>\n",
       "            <td>Chris Bosh              </td> <td>PF      </td> <td>Miami Heat            </td> <td>22.1927       </td>\n",
       "        </tr>\n",
       "        <tr>\n",
       "            <td>Chris Paul              </td> <td>PG      </td> <td>Los Angeles Clippers  </td> <td>21.4687       </td>\n",
       "        </tr>\n",
       "        <tr>\n",
       "            <td>Kevin Durant            </td> <td>SF      </td> <td>Oklahoma City Thunder </td> <td>20.1586       </td>\n",
       "        </tr>\n",
       "        <tr>\n",
       "            <td>Derrick Rose            </td> <td>PG      </td> <td>Chicago Bulls         </td> <td>20.0931       </td>\n",
       "        </tr>\n",
       "        <tr>\n",
       "            <td>Dwyane Wade             </td> <td>SG      </td> <td>Miami Heat            </td> <td>20            </td>\n",
       "        </tr>\n",
       "        <tr>\n",
       "            <td>LaMarcus Aldridge       </td> <td>PF      </td> <td>San Antonio Spurs     </td> <td>19.689        </td>\n",
       "        </tr>\n",
       "        <tr>\n",
       "            <td>Kevin Love              </td> <td>PF      </td> <td>Cleveland Cavaliers   </td> <td>19.689        </td>\n",
       "        </tr>\n",
       "        <tr>\n",
       "            <td>Marc Gasol              </td> <td>C       </td> <td>Memphis Grizzlies     </td> <td>19.688        </td>\n",
       "        </tr>\n",
       "        <tr>\n",
       "            <td>Blake Griffin           </td> <td>PF      </td> <td>Los Angeles Clippers  </td> <td>18.9077       </td>\n",
       "        </tr>\n",
       "        <tr>\n",
       "            <td>Paul Millsap            </td> <td>PF      </td> <td>Atlanta Hawks         </td> <td>18.6717       </td>\n",
       "        </tr>\n",
       "        <tr>\n",
       "            <td>Paul George             </td> <td>SF      </td> <td>Indiana Pacers        </td> <td>17.1201       </td>\n",
       "        </tr>\n",
       "        <tr>\n",
       "            <td>Russell Westbrook       </td> <td>PG      </td> <td>Oklahoma City Thunder </td> <td>16.7442       </td>\n",
       "        </tr>\n",
       "        <tr>\n",
       "            <td>Kyrie Irving            </td> <td>PG      </td> <td>Cleveland Cavaliers   </td> <td>16.4075       </td>\n",
       "        </tr>\n",
       "        <tr>\n",
       "            <td>Kawhi Leonard           </td> <td>SF      </td> <td>San Antonio Spurs     </td> <td>16.4075       </td>\n",
       "        </tr>\n",
       "        <tr>\n",
       "            <td>Enes Kanter             </td> <td>C       </td> <td>Oklahoma City Thunder </td> <td>16.4075       </td>\n",
       "        </tr>\n",
       "        <tr>\n",
       "            <td>Jimmy Butler            </td> <td>SG      </td> <td>Chicago Bulls         </td> <td>16.4075       </td>\n",
       "        </tr>\n",
       "        <tr>\n",
       "            <td>Tobias Harris           </td> <td>SF      </td> <td>Orlando Magic         </td> <td>16            </td>\n",
       "        </tr>\n",
       "        <tr>\n",
       "            <td>John Wall               </td> <td>PG      </td> <td>Washington Wizards    </td> <td>15.852        </td>\n",
       "        </tr>\n",
       "        <tr>\n",
       "            <td>DeMarcus Cousins        </td> <td>C       </td> <td>Sacramento Kings      </td> <td>15.852        </td>\n",
       "        </tr>\n",
       "        <tr>\n",
       "            <td>James Harden            </td> <td>SG      </td> <td>Houston Rockets       </td> <td>15.7564       </td>\n",
       "        </tr>\n",
       "        <tr>\n",
       "            <td>Roy Hibbert             </td> <td>C       </td> <td>Los Angeles Lakers    </td> <td>15.5922       </td>\n",
       "        </tr>\n",
       "        <tr>\n",
       "            <td>Eric Gordon             </td> <td>SG      </td> <td>New Orleans Pelicans  </td> <td>15.514        </td>\n",
       "        </tr>\n",
       "        <tr>\n",
       "            <td>Klay Thompson           </td> <td>SG      </td> <td>Golden State Warriors </td> <td>15.501        </td>\n",
       "        </tr>\n",
       "        <tr>\n",
       "            <td>David Lee               </td> <td>PF      </td> <td>Dallas Mavericks      </td> <td>15.4937       </td>\n",
       "        </tr>\n",
       "        <tr>\n",
       "            <td>Gordon Hayward          </td> <td>SF      </td> <td>Utah Jazz             </td> <td>15.4096       </td>\n",
       "        </tr>\n",
       "        <tr>\n",
       "            <td>Chandler Parsons        </td> <td>SF      </td> <td>Dallas Mavericks      </td> <td>15.3615       </td>\n",
       "        </tr>\n",
       "        <tr>\n",
       "            <td>Goran Dragic            </td> <td>PG      </td> <td>Miami Heat            </td> <td>14.783        </td>\n",
       "        </tr>\n",
       "        <tr>\n",
       "            <td>Khris Middleton         </td> <td>SG      </td> <td>Milwaukee Bucks       </td> <td>14.7          </td>\n",
       "        </tr>\n",
       "        <tr>\n",
       "            <td>Draymond Green          </td> <td>PF      </td> <td>Golden State Warriors </td> <td>14.2609       </td>\n",
       "        </tr>\n",
       "        <tr>\n",
       "            <td>Tristan Thompson        </td> <td>C       </td> <td>Cleveland Cavaliers   </td> <td>14.2609       </td>\n",
       "        </tr>\n",
       "        <tr>\n",
       "            <td>Danilo Gallinari        </td> <td>SF      </td> <td>Denver Nuggets        </td> <td>14            </td>\n",
       "        </tr>\n",
       "        <tr>\n",
       "            <td>Reggie Jackson          </td> <td>PG      </td> <td>Detroit Pistons       </td> <td>13.913        </td>\n",
       "        </tr>\n",
       "        <tr>\n",
       "            <td>Andrew Bogut            </td> <td>C       </td> <td>Golden State Warriors </td> <td>13.8          </td>\n",
       "        </tr>\n",
       "        <tr>\n",
       "            <td>DeMarre Carroll         </td> <td>SF      </td> <td>Toronto Raptors       </td> <td>13.6          </td>\n",
       "        </tr>\n",
       "        <tr>\n",
       "            <td>Eric Bledsoe            </td> <td>PG      </td> <td>Phoenix Suns          </td> <td>13.5          </td>\n",
       "        </tr>\n",
       "        <tr>\n",
       "            <td>Al Jefferson            </td> <td>C       </td> <td>Charlotte Hornets     </td> <td>13.5          </td>\n",
       "        </tr>\n",
       "        <tr>\n",
       "            <td>Tony Parker             </td> <td>PG      </td> <td>San Antonio Spurs     </td> <td>13.4375       </td>\n",
       "        </tr>\n",
       "        <tr>\n",
       "            <td>Joakim Noah             </td> <td>C       </td> <td>Chicago Bulls         </td> <td>13.4          </td>\n",
       "        </tr>\n",
       "        <tr>\n",
       "            <td>Nicolas Batum           </td> <td>SG      </td> <td>Charlotte Hornets     </td> <td>13.1253       </td>\n",
       "        </tr>\n",
       "        <tr>\n",
       "            <td>Nene Hilario            </td> <td>C       </td> <td>Washington Wizards    </td> <td>13            </td>\n",
       "        </tr>\n",
       "        <tr>\n",
       "            <td>Tyson Chandler          </td> <td>C       </td> <td>Phoenix Suns          </td> <td>13            </td>\n",
       "        </tr>\n",
       "        <tr>\n",
       "            <td>Ricky Rubio             </td> <td>PG      </td> <td>Minnesota Timberwolves</td> <td>12.7          </td>\n",
       "        </tr>\n",
       "        <tr>\n",
       "            <td>Robin Lopez             </td> <td>C       </td> <td>New York Knicks       </td> <td>12.65         </td>\n",
       "        </tr>\n",
       "        <tr>\n",
       "            <td>Ty Lawson               </td> <td>PG      </td> <td>Houston Rockets       </td> <td>12.4045       </td>\n",
       "        </tr>\n",
       "        <tr>\n",
       "            <td>Rudy Gay                </td> <td>SF      </td> <td>Sacramento Kings      </td> <td>12.4031       </td>\n",
       "        </tr>\n",
       "        <tr>\n",
       "            <td>Serge Ibaka             </td> <td>PF      </td> <td>Oklahoma City Thunder </td> <td>12.25         </td>\n",
       "        </tr>\n",
       "        <tr>\n",
       "            <td>Nikola Pekovic          </td> <td>C       </td> <td>Minnesota Timberwolves</td> <td>12.1          </td>\n",
       "        </tr>\n",
       "        <tr>\n",
       "            <td>Kyle Lowry              </td> <td>PG      </td> <td>Toronto Raptors       </td> <td>12            </td>\n",
       "        </tr>\n",
       "        <tr>\n",
       "            <td>Kemba Walker            </td> <td>PG      </td> <td>Charlotte Hornets     </td> <td>12            </td>\n",
       "        </tr>\n",
       "        <tr>\n",
       "            <td>Al Horford              </td> <td>C       </td> <td>Atlanta Hawks         </td> <td>12            </td>\n",
       "        </tr>\n",
       "        <tr>\n",
       "            <td>Andre Iguodala          </td> <td>SF      </td> <td>Golden State Warriors </td> <td>11.7105       </td>\n",
       "        </tr>\n",
       "        <tr>\n",
       "            <td>Stephen Curry           </td> <td>PG      </td> <td>Golden State Warriors </td> <td>11.3708       </td>\n",
       "        </tr>\n",
       "        <tr>\n",
       "            <td>Nikola Vucevic          </td> <td>C       </td> <td>Orlando Magic         </td> <td>11.25         </td>\n",
       "        </tr>\n",
       "        <tr>\n",
       "            <td>Kenneth Faried          </td> <td>PF      </td> <td>Denver Nuggets        </td> <td>11.236        </td>\n",
       "        </tr>\n",
       "        <tr>\n",
       "            <td>Thaddeus Young          </td> <td>PF      </td> <td>Brooklyn Nets         </td> <td>11.236        </td>\n",
       "        </tr>\n",
       "        <tr>\n",
       "            <td>Marcin Gortat           </td> <td>C       </td> <td>Washington Wizards    </td> <td>11.2174       </td>\n",
       "        </tr>\n",
       "        <tr>\n",
       "            <td>Tyreke Evans            </td> <td>SG      </td> <td>New Orleans Pelicans  </td> <td>10.7346       </td>\n",
       "        </tr>\n",
       "        <tr>\n",
       "            <td>Jrue Holiday            </td> <td>PG      </td> <td>New Orleans Pelicans  </td> <td>10.5955       </td>\n",
       "        </tr>\n",
       "        <tr>\n",
       "            <td>Brendan Haywood         </td> <td>C       </td> <td>Cleveland Cavaliers   </td> <td>10.5225       </td>\n",
       "        </tr>\n",
       "        <tr>\n",
       "            <td>Wilson Chandler         </td> <td>SF      </td> <td>Denver Nuggets        </td> <td>10.4494       </td>\n",
       "        </tr>\n",
       "        <tr>\n",
       "            <td>Monta Ellis             </td> <td>SG      </td> <td>Indiana Pacers        </td> <td>10.3          </td>\n",
       "        </tr>\n",
       "        <tr>\n",
       "            <td>Luol Deng               </td> <td>SF      </td> <td>Miami Heat            </td> <td>10.1516       </td>\n",
       "        </tr>\n",
       "        <tr>\n",
       "            <td>Gerald Wallace          </td> <td>SF      </td> <td>Philadelphia 76ers    </td> <td>10.1059       </td>\n",
       "        </tr>\n",
       "        <tr>\n",
       "            <td>DeMar DeRozan           </td> <td>SG      </td> <td>Toronto Raptors       </td> <td>10.05         </td>\n",
       "        </tr>\n",
       "        <tr>\n",
       "            <td>Danny Green             </td> <td>SG      </td> <td>San Antonio Spurs     </td> <td>10            </td>\n",
       "        </tr>\n",
       "        <tr>\n",
       "            <td>Tiago Splitter          </td> <td>C       </td> <td>Atlanta Hawks         </td> <td>9.75625       </td>\n",
       "        </tr>\n",
       "        <tr>\n",
       "            <td>Zach Randolph           </td> <td>PF      </td> <td>Memphis Grizzlies     </td> <td>9.63856       </td>\n",
       "        </tr>\n",
       "        <tr>\n",
       "            <td>Mike Conley             </td> <td>PG      </td> <td>Memphis Grizzlies     </td> <td>9.58843       </td>\n",
       "        </tr>\n",
       "        <tr>\n",
       "            <td>Rajon Rondo             </td> <td>PG      </td> <td>Sacramento Kings      </td> <td>9.5           </td>\n",
       "        </tr>\n",
       "        <tr>\n",
       "            <td>Alec Burks              </td> <td>SG      </td> <td>Utah Jazz             </td> <td>9.46348       </td>\n",
       "        </tr>\n",
       "        <tr>\n",
       "            <td>Jeff Green              </td> <td>SF      </td> <td>Memphis Grizzlies     </td> <td>9.45          </td>\n",
       "        </tr>\n",
       "        <tr>\n",
       "            <td>Omer Asik               </td> <td>C       </td> <td>New Orleans Pelicans  </td> <td>9.21348       </td>\n",
       "        </tr>\n",
       "        <tr>\n",
       "            <td>Lance Stephenson        </td> <td>SF      </td> <td>Memphis Grizzlies     </td> <td>9             </td>\n",
       "        </tr>\n",
       "        <tr>\n",
       "            <td>Iman Shumpert           </td> <td>SG      </td> <td>Cleveland Cavaliers   </td> <td>8.98876       </td>\n",
       "        </tr>\n",
       "        <tr>\n",
       "            <td>Ryan Anderson           </td> <td>PF      </td> <td>New Orleans Pelicans  </td> <td>8.5           </td>\n",
       "        </tr>\n",
       "        <tr>\n",
       "            <td>Kevin Garnett           </td> <td>PF      </td> <td>Minnesota Timberwolves</td> <td>8.5           </td>\n",
       "        </tr>\n",
       "        <tr>\n",
       "            <td>Brandon Jennings        </td> <td>PG      </td> <td>Orlando Magic         </td> <td>8.3445        </td>\n",
       "        </tr>\n",
       "        <tr>\n",
       "            <td>Dirk Nowitzki           </td> <td>PF      </td> <td>Dallas Mavericks      </td> <td>8.33333       </td>\n",
       "        </tr>\n",
       "        <tr>\n",
       "            <td>Corey Brewer            </td> <td>SG      </td> <td>Houston Rockets       </td> <td>8.22937       </td>\n",
       "        </tr>\n",
       "        <tr>\n",
       "            <td>Trevor Ariza            </td> <td>SF      </td> <td>Houston Rockets       </td> <td>8.19303       </td>\n",
       "        </tr>\n",
       "        <tr>\n",
       "            <td>Channing Frye           </td> <td>PF      </td> <td>Orlando Magic         </td> <td>8.19303       </td>\n",
       "        </tr>\n",
       "        <tr>\n",
       "            <td>Al-Farouq Aminu         </td> <td>SF      </td> <td>Portland Trail Blazers</td> <td>8.04289       </td>\n",
       "        </tr>\n",
       "        <tr>\n",
       "            <td>Markieff Morris         </td> <td>PF      </td> <td>Washington Wizards    </td> <td>8             </td>\n",
       "        </tr>\n",
       "        <tr>\n",
       "            <td>Arron Afflalo           </td> <td>SG      </td> <td>New York Knicks       </td> <td>8             </td>\n",
       "        </tr>\n",
       "        <tr>\n",
       "            <td>O.J. Mayo               </td> <td>SG      </td> <td>Milwaukee Bucks       </td> <td>8             </td>\n",
       "        </tr>\n",
       "        <tr>\n",
       "            <td>Jeff Teague             </td> <td>PG      </td> <td>Atlanta Hawks         </td> <td>8             </td>\n",
       "        </tr>\n",
       "        <tr>\n",
       "            <td>Ersan Ilyasova          </td> <td>PF      </td> <td>Orlando Magic         </td> <td>7.9           </td>\n",
       "        </tr>\n",
       "        <tr>\n",
       "            <td>Avery Bradley           </td> <td>PG      </td> <td>Boston Celtics        </td> <td>7.73034       </td>\n",
       "        </tr>\n",
       "        <tr>\n",
       "            <td>Kosta Koufos            </td> <td>C       </td> <td>Sacramento Kings      </td> <td>7.7           </td>\n",
       "        </tr>\n",
       "        <tr>\n",
       "            <td>Boris Diaw              </td> <td>C       </td> <td>San Antonio Spurs     </td> <td>7.5           </td>\n",
       "        </tr>\n",
       "        <tr>\n",
       "            <td>Pau Gasol               </td> <td>C       </td> <td>Chicago Bulls         </td> <td>7.44876       </td>\n",
       "        </tr>\n",
       "        <tr>\n",
       "            <td>Jose Calderon           </td> <td>PG      </td> <td>New York Knicks       </td> <td>7.40281       </td>\n",
       "        </tr>\n",
       "        <tr>\n",
       "            <td>Kevin Martin            </td> <td>SG      </td> <td>Minnesota Timberwolves</td> <td>7.085         </td>\n",
       "        </tr>\n",
       "        <tr>\n",
       "            <td>J.J. Redick             </td> <td>SG      </td> <td>Los Angeles Clippers  </td> <td>7.085         </td>\n",
       "        </tr>\n",
       "        <tr>\n",
       "            <td>Anthony Davis           </td> <td>PF      </td> <td>New Orleans Pelicans  </td> <td>7.07073       </td>\n",
       "        </tr>\n",
       "        <tr>\n",
       "            <td>Jason Thompson          </td> <td>PF      </td> <td>Golden State Warriors </td> <td>7.00847       </td>\n",
       "        </tr>\n",
       "        <tr>\n",
       "            <td>Cory Joseph             </td> <td>PG      </td> <td>Toronto Raptors       </td> <td>7             </td>\n",
       "        </tr>\n",
       "        <tr>\n",
       "            <td>Louis Williams          </td> <td>SG      </td> <td>Los Angeles Lakers    </td> <td>7             </td>\n",
       "        </tr>\n",
       "        <tr>\n",
       "            <td>Rodney Stuckey          </td> <td>PG      </td> <td>Indiana Pacers        </td> <td>7             </td>\n",
       "        </tr>\n",
       "        <tr>\n",
       "            <td>Marvin Williams         </td> <td>PF      </td> <td>Charlotte Hornets     </td> <td>7             </td>\n",
       "        </tr>\n",
       "        <tr>\n",
       "            <td>Ed Davis                </td> <td>C       </td> <td>Portland Trail Blazers</td> <td>6.9808        </td>\n",
       "        </tr>\n",
       "        <tr>\n",
       "            <td>Isaiah Thomas           </td> <td>PG      </td> <td>Boston Celtics        </td> <td>6.91287       </td>\n",
       "        </tr>\n",
       "        <tr>\n",
       "            <td>Jae Crowder             </td> <td>SF      </td> <td>Boston Celtics        </td> <td>6.79612       </td>\n",
       "        </tr>\n",
       "        <tr>\n",
       "            <td>Greivis Vasquez         </td> <td>PG      </td> <td>Milwaukee Bucks       </td> <td>6.6           </td>\n",
       "        </tr>\n",
       "        <tr>\n",
       "            <td>Carl Landry             </td> <td>PF      </td> <td>Philadelphia 76ers    </td> <td>6.5           </td>\n",
       "        </tr>\n",
       "        <tr>\n",
       "            <td>Aron Baynes             </td> <td>C       </td> <td>Detroit Pistons       </td> <td>6.5           </td>\n",
       "        </tr>\n",
       "        <tr>\n",
       "            <td>Patrick Beverley        </td> <td>PG      </td> <td>Houston Rockets       </td> <td>6.48649       </td>\n",
       "        </tr>\n",
       "        <tr>\n",
       "            <td>Michael Kidd-Gilchrist  </td> <td>SF      </td> <td>Charlotte Hornets     </td> <td>6.3314        </td>\n",
       "        </tr>\n",
       "        <tr>\n",
       "            <td>Jarrett Jack            </td> <td>PG      </td> <td>Brooklyn Nets         </td> <td>6.3           </td>\n",
       "        </tr>\n",
       "        <tr>\n",
       "            <td>Jodie Meeks             </td> <td>SG      </td> <td>Detroit Pistons       </td> <td>6.27          </td>\n",
       "        </tr>\n",
       "        <tr>\n",
       "            <td>Patrick Patterson       </td> <td>PF      </td> <td>Toronto Raptors       </td> <td>6.26867       </td>\n",
       "        </tr>\n",
       "        <tr>\n",
       "            <td>Spencer Hawes           </td> <td>PF      </td> <td>Charlotte Hornets     </td> <td>6.11003       </td>\n",
       "        </tr>\n",
       "        <tr>\n",
       "            <td>Marco Belinelli         </td> <td>SG      </td> <td>Sacramento Kings      </td> <td>6.06061       </td>\n",
       "        </tr>\n",
       "        <tr>\n",
       "            <td>Gerald Henderson        </td> <td>SG      </td> <td>Portland Trail Blazers</td> <td>6             </td>\n",
       "        </tr>\n",
       "        <tr>\n",
       "            <td>Andrew Wiggins          </td> <td>SG      </td> <td>Minnesota Timberwolves</td> <td>5.75868       </td>\n",
       "        </tr>\n",
       "        <tr>\n",
       "            <td>Kyle Korver             </td> <td>SG      </td> <td>Atlanta Hawks         </td> <td>5.74648       </td>\n",
       "        </tr>\n",
       "        <tr>\n",
       "            <td>Karl-Anthony Towns      </td> <td>C       </td> <td>Minnesota Timberwolves</td> <td>5.7036        </td>\n",
       "        </tr>\n",
       "        <tr>\n",
       "            <td>Bradley Beal            </td> <td>SG      </td> <td>Washington Wizards    </td> <td>5.69467       </td>\n",
       "        </tr>\n",
       "        <tr>\n",
       "            <td>Jamal Crawford          </td> <td>SG      </td> <td>Los Angeles Clippers  </td> <td>5.675         </td>\n",
       "        </tr>\n",
       "        <tr>\n",
       "            <td>Courtney Lee            </td> <td>SG      </td> <td>Charlotte Hornets     </td> <td>5.675         </td>\n",
       "        </tr>\n",
       "        <tr>\n",
       "            <td>Martell Webster         </td> <td>SF      </td> <td>Washington Wizards    </td> <td>5.6135        </td>\n",
       "        </tr>\n",
       "        <tr>\n",
       "            <td>JJ Hickson              </td> <td>C       </td> <td>Denver Nuggets        </td> <td>5.6135        </td>\n",
       "        </tr>\n",
       "        <tr>\n",
       "            <td>Josh McRoberts          </td> <td>PF      </td> <td>Miami Heat            </td> <td>5.54373       </td>\n",
       "        </tr>\n",
       "        <tr>\n",
       "            <td>Shaun Livingston        </td> <td>PG      </td> <td>Golden State Warriors </td> <td>5.54373       </td>\n",
       "        </tr>\n",
       "        <tr>\n",
       "            <td>Nikola Mirotic          </td> <td>PF      </td> <td>Chicago Bulls         </td> <td>5.54373       </td>\n",
       "        </tr>\n",
       "        <tr>\n",
       "            <td>P.J. Tucker             </td> <td>SF      </td> <td>Phoenix Suns          </td> <td>5.5           </td>\n",
       "        </tr>\n",
       "        <tr>\n",
       "            <td>Mirza Teletovic         </td> <td>PF      </td> <td>Phoenix Suns          </td> <td>5.5           </td>\n",
       "        </tr>\n",
       "        <tr>\n",
       "            <td>Brandan Wright          </td> <td>PF      </td> <td>Memphis Grizzlies     </td> <td>5.464         </td>\n",
       "        </tr>\n",
       "        <tr>\n",
       "            <td>Deron Williams          </td> <td>PG      </td> <td>Dallas Mavericks      </td> <td>5.37897       </td>\n",
       "        </tr>\n",
       "        <tr>\n",
       "            <td>Tim Duncan              </td> <td>C       </td> <td>San Antonio Spurs     </td> <td>5.25          </td>\n",
       "        </tr>\n",
       "        <tr>\n",
       "            <td>Nick Young              </td> <td>SF      </td> <td>Los Angeles Lakers    </td> <td>5.21917       </td>\n",
       "        </tr>\n",
       "        <tr>\n",
       "            <td>Zaza Pachulia           </td> <td>C       </td> <td>Dallas Mavericks      </td> <td>5.2           </td>\n",
       "        </tr>\n",
       "        <tr>\n",
       "            <td>Victor Oladipo          </td> <td>SG      </td> <td>Orlando Magic         </td> <td>5.19252       </td>\n",
       "        </tr>\n",
       "        <tr>\n",
       "            <td>Tony Allen              </td> <td>SG      </td> <td>Memphis Grizzlies     </td> <td>5.15854       </td>\n",
       "        </tr>\n",
       "        <tr>\n",
       "            <td>Jabari Parker           </td> <td>PF      </td> <td>Milwaukee Bucks       </td> <td>5.15244       </td>\n",
       "        </tr>\n",
       "        <tr>\n",
       "            <td>Dion Waiters            </td> <td>SG      </td> <td>Oklahoma City Thunder </td> <td>5.13843       </td>\n",
       "        </tr>\n",
       "        <tr>\n",
       "            <td>D'Angelo Russell        </td> <td>PG      </td> <td>Los Angeles Lakers    </td> <td>5.10312       </td>\n",
       "        </tr>\n",
       "        <tr>\n",
       "            <td>Chris Kaman             </td> <td>C       </td> <td>Portland Trail Blazers</td> <td>5.016         </td>\n",
       "        </tr>\n",
       "        <tr>\n",
       "            <td>Darren Collison         </td> <td>PG      </td> <td>Sacramento Kings      </td> <td>5.01356       </td>\n",
       "        </tr>\n",
       "        <tr>\n",
       "            <td>Chris Andersen          </td> <td>PF      </td> <td>Memphis Grizzlies     </td> <td>5             </td>\n",
       "        </tr>\n",
       "        <tr>\n",
       "            <td>Chase Budinger          </td> <td>SF      </td> <td>Indiana Pacers        </td> <td>5             </td>\n",
       "        </tr>\n",
       "        <tr>\n",
       "            <td>Jonas Jerebko           </td> <td>PF      </td> <td>Boston Celtics        </td> <td>5             </td>\n",
       "        </tr>\n",
       "        <tr>\n",
       "            <td>Timofey Mozgov          </td> <td>C       </td> <td>Cleveland Cavaliers   </td> <td>4.95          </td>\n",
       "        </tr>\n",
       "        <tr>\n",
       "            <td>Trevor Booker           </td> <td>PF      </td> <td>Utah Jazz             </td> <td>4.775         </td>\n",
       "        </tr>\n",
       "        <tr>\n",
       "            <td>Otto Porter Jr.         </td> <td>SF      </td> <td>Washington Wizards    </td> <td>4.66296       </td>\n",
       "        </tr>\n",
       "        <tr>\n",
       "            <td>Jonas Valanciunas       </td> <td>C       </td> <td>Toronto Raptors       </td> <td>4.66048       </td>\n",
       "        </tr>\n",
       "        <tr>\n",
       "            <td>Joel Embiid             </td> <td>C       </td> <td>Philadelphia 76ers    </td> <td>4.62696       </td>\n",
       "        </tr>\n",
       "        <tr>\n",
       "            <td>Jahlil Okafor           </td> <td>C       </td> <td>Philadelphia 76ers    </td> <td>4.58268       </td>\n",
       "        </tr>\n",
       "        <tr>\n",
       "            <td>Kyle Singler            </td> <td>SF      </td> <td>Oklahoma City Thunder </td> <td>4.5           </td>\n",
       "        </tr>\n",
       "        <tr>\n",
       "            <td>Mike Dunleavy           </td> <td>SG      </td> <td>Chicago Bulls         </td> <td>4.5           </td>\n",
       "        </tr>\n",
       "        <tr>\n",
       "            <td>Kris Humphries          </td> <td>PF      </td> <td>Washington Wizards    </td> <td>4.44          </td>\n",
       "        </tr>\n",
       "        <tr>\n",
       "            <td>C.J. Miles              </td> <td>SF      </td> <td>Indiana Pacers        </td> <td>4.39422       </td>\n",
       "        </tr>\n",
       "        <tr>\n",
       "            <td>Alexis Ajinca           </td> <td>C       </td> <td>New Orleans Pelicans  </td> <td>4.38961       </td>\n",
       "        </tr>\n",
       "        <tr>\n",
       "            <td>Jared Dudley            </td> <td>SF      </td> <td>Washington Wizards    </td> <td>4.375         </td>\n",
       "        </tr>\n",
       "        <tr>\n",
       "            <td>Jameer Nelson           </td> <td>PG      </td> <td>Denver Nuggets        </td> <td>4.345         </td>\n",
       "        </tr>\n",
       "        <tr>\n",
       "            <td>Jason Smith             </td> <td>PF      </td> <td>Orlando Magic         </td> <td>4.3           </td>\n",
       "        </tr>\n",
       "        <tr>\n",
       "            <td>Mario Chalmers          </td> <td>PG      </td> <td>Memphis Grizzlies     </td> <td>4.3           </td>\n",
       "        </tr>\n",
       "        <tr>\n",
       "            <td>J.J. Barea              </td> <td>PG      </td> <td>Dallas Mavericks      </td> <td>4.29          </td>\n",
       "        </tr>\n",
       "        <tr>\n",
       "            <td>Damian Lillard          </td> <td>PG      </td> <td>Portland Trail Blazers</td> <td>4.23629       </td>\n",
       "        </tr>\n",
       "        <tr>\n",
       "            <td>Cody Zeller             </td> <td>C       </td> <td>Charlotte Hornets     </td> <td>4.2042        </td>\n",
       "        </tr>\n",
       "        <tr>\n",
       "            <td>Aaron Gordon            </td> <td>PF      </td> <td>Orlando Magic         </td> <td>4.17168       </td>\n",
       "        </tr>\n",
       "        <tr>\n",
       "            <td>Kristaps Porzingis      </td> <td>PF      </td> <td>New York Knicks       </td> <td>4.13172       </td>\n",
       "        </tr>\n",
       "        <tr>\n",
       "            <td>Vince Carter            </td> <td>SG      </td> <td>Memphis Grizzlies     </td> <td>4.08802       </td>\n",
       "        </tr>\n",
       "        <tr>\n",
       "            <td>Devin Harris            </td> <td>PG      </td> <td>Dallas Mavericks      </td> <td>4.05345       </td>\n",
       "        </tr>\n",
       "        <tr>\n",
       "            <td>Lavoy Allen             </td> <td>PF      </td> <td>Indiana Pacers        </td> <td>4.05          </td>\n",
       "        </tr>\n",
       "        <tr>\n",
       "            <td>Alan Anderson           </td> <td>SG      </td> <td>Washington Wizards    </td> <td>4             </td>\n",
       "        </tr>\n",
       "        <tr>\n",
       "            <td>Derrick Williams        </td> <td>PF      </td> <td>New York Knicks       </td> <td>4             </td>\n",
       "        </tr>\n",
       "        <tr>\n",
       "            <td>Ian Mahinmi             </td> <td>C       </td> <td>Indiana Pacers        </td> <td>4             </td>\n",
       "        </tr>\n",
       "        <tr>\n",
       "            <td>Jordan Hill             </td> <td>C       </td> <td>Indiana Pacers        </td> <td>4             </td>\n",
       "        </tr>\n",
       "        <tr>\n",
       "            <td>Thabo Sefolosha         </td> <td>SF      </td> <td>Atlanta Hawks         </td> <td>4             </td>\n",
       "        </tr>\n",
       "        <tr>\n",
       "            <td>Raymond Felton          </td> <td>PG      </td> <td>Dallas Mavericks      </td> <td>3.95031       </td>\n",
       "        </tr>\n",
       "        <tr>\n",
       "            <td>Nemanja Bjelica         </td> <td>PF      </td> <td>Minnesota Timberwolves</td> <td>3.95          </td>\n",
       "        </tr>\n",
       "        <tr>\n",
       "            <td>Harrison Barnes         </td> <td>SF      </td> <td>Golden State Warriors </td> <td>3.8734        </td>\n",
       "        </tr>\n",
       "        <tr>\n",
       "            <td>Marreese Speights       </td> <td>C       </td> <td>Golden State Warriors </td> <td>3.815         </td>\n",
       "        </tr>\n",
       "        <tr>\n",
       "            <td>Alex Len                </td> <td>C       </td> <td>Phoenix Suns          </td> <td>3.80712       </td>\n",
       "        </tr>\n",
       "        <tr>\n",
       "            <td>Dante Exum              </td> <td>PG      </td> <td>Utah Jazz             </td> <td>3.77772       </td>\n",
       "        </tr>\n",
       "        <tr>\n",
       "            <td>Nick Collison           </td> <td>PF      </td> <td>Oklahoma City Thunder </td> <td>3.75          </td>\n",
       "        </tr>\n",
       "        <tr>\n",
       "            <td>Kyle O'Quinn            </td> <td>PF      </td> <td>New York Knicks       </td> <td>3.75          </td>\n",
       "        </tr>\n",
       "        <tr>\n",
       "            <td>Mario Hezonja           </td> <td>SG      </td> <td>Orlando Magic         </td> <td>3.74148       </td>\n",
       "        </tr>\n",
       "        <tr>\n",
       "            <td>Patty Mills             </td> <td>PG      </td> <td>San Antonio Spurs     </td> <td>3.57895       </td>\n",
       "        </tr>\n",
       "        <tr>\n",
       "            <td>Terrence Ross           </td> <td>SF      </td> <td>Toronto Raptors       </td> <td>3.55392       </td>\n",
       "        </tr>\n",
       "        <tr>\n",
       "            <td>Matt Barnes             </td> <td>SF      </td> <td>Memphis Grizzlies     </td> <td>3.5425        </td>\n",
       "        </tr>\n",
       "        <tr>\n",
       "            <td>Will Barton             </td> <td>SF      </td> <td>Denver Nuggets        </td> <td>3.53333       </td>\n",
       "        </tr>\n",
       "        <tr>\n",
       "            <td>Nerlens Noel            </td> <td>PF      </td> <td>Philadelphia 76ers    </td> <td>3.4578        </td>\n",
       "        </tr>\n",
       "        <tr>\n",
       "            <td>Marcus Smart            </td> <td>PG      </td> <td>Boston Celtics        </td> <td>3.43104       </td>\n",
       "        </tr>\n",
       "        <tr>\n",
       "            <td>Bojan Bogdanovic        </td> <td>SG      </td> <td>Brooklyn Nets         </td> <td>3.42551       </td>\n",
       "        </tr>\n",
       "        <tr>\n",
       "            <td>Evan Turner             </td> <td>SG      </td> <td>Boston Celtics        </td> <td>3.42551       </td>\n",
       "        </tr>\n",
       "        <tr>\n",
       "            <td>Willie Cauley-Stein     </td> <td>C       </td> <td>Sacramento Kings      </td> <td>3.39828       </td>\n",
       "        </tr>\n",
       "        <tr>\n",
       "            <td>Quincy Pondexter        </td> <td>SF      </td> <td>New Orleans Pelicans  </td> <td>3.38202       </td>\n",
       "        </tr>\n",
       "        <tr>\n",
       "            <td>Paul Pierce             </td> <td>SF      </td> <td>Los Angeles Clippers  </td> <td>3.376         </td>\n",
       "        </tr>\n",
       "        <tr>\n",
       "            <td>Anthony Morrow          </td> <td>SG      </td> <td>Oklahoma City Thunder </td> <td>3.344         </td>\n",
       "        </tr>\n",
       "        <tr>\n",
       "            <td>Mike Scott              </td> <td>PF      </td> <td>Atlanta Hawks         </td> <td>3.33333       </td>\n",
       "        </tr>\n",
       "        <tr>\n",
       "            <td>Drew Gooden             </td> <td>PF      </td> <td>Washington Wizards    </td> <td>3.3           </td>\n",
       "        </tr>\n",
       "        <tr>\n",
       "            <td>Andre Drummond          </td> <td>C       </td> <td>Detroit Pistons       </td> <td>3.27209       </td>\n",
       "        </tr>\n",
       "        <tr>\n",
       "            <td>K.J. McDaniels          </td> <td>SG      </td> <td>Houston Rockets       </td> <td>3.18979       </td>\n",
       "        </tr>\n",
       "        <tr>\n",
       "            <td>Ben McLemore            </td> <td>SG      </td> <td>Sacramento Kings      </td> <td>3.1566        </td>\n",
       "        </tr>\n",
       "        <tr>\n",
       "            <td>Randy Foye              </td> <td>SG      </td> <td>Oklahoma City Thunder </td> <td>3.135         </td>\n",
       "        </tr>\n",
       "        <tr>\n",
       "            <td>Julius Randle           </td> <td>PF      </td> <td>Los Angeles Lakers    </td> <td>3.13224       </td>\n",
       "        </tr>\n",
       "        <tr>\n",
       "            <td>Austin Rivers           </td> <td>PG      </td> <td>Los Angeles Clippers  </td> <td>3.1108        </td>\n",
       "        </tr>\n",
       "        <tr>\n",
       "            <td>Emmanuel Mudiay         </td> <td>PG      </td> <td>Denver Nuggets        </td> <td>3.10224       </td>\n",
       "        </tr>\n",
       "        <tr>\n",
       "            <td>Meyers Leonard          </td> <td>PF      </td> <td>Portland Trail Blazers</td> <td>3.07588       </td>\n",
       "        </tr>\n",
       "        <tr>\n",
       "            <td>Norris Cole             </td> <td>PG      </td> <td>New Orleans Pelicans  </td> <td>3.03693       </td>\n",
       "        </tr>\n",
       "        <tr>\n",
       "            <td>Jeremy Lamb             </td> <td>SG      </td> <td>Charlotte Hornets     </td> <td>3.03436       </td>\n",
       "        </tr>\n",
       "        <tr>\n",
       "            <td>D.J. Augustin           </td> <td>PG      </td> <td>Oklahoma City Thunder </td> <td>3             </td>\n",
       "        </tr>\n",
       "        <tr>\n",
       "            <td>Jerryd Bayless          </td> <td>PG      </td> <td>Milwaukee Bucks       </td> <td>3             </td>\n",
       "        </tr>\n",
       "        <tr>\n",
       "            <td>Brandon Bass            </td> <td>PF      </td> <td>Los Angeles Lakers    </td> <td>3             </td>\n",
       "        </tr>\n",
       "        <tr>\n",
       "            <td>John Henson             </td> <td>PF      </td> <td>Milwaukee Bucks       </td> <td>2.94322       </td>\n",
       "        </tr>\n",
       "        <tr>\n",
       "            <td>Tibor Pleiss            </td> <td>C       </td> <td>Utah Jazz             </td> <td>2.9           </td>\n",
       "        </tr>\n",
       "        <tr>\n",
       "            <td>Luis Scola              </td> <td>PF      </td> <td>Toronto Raptors       </td> <td>2.9           </td>\n",
       "        </tr>\n",
       "        <tr>\n",
       "            <td>Maurice Harkless        </td> <td>SF      </td> <td>Portland Trail Blazers</td> <td>2.89406       </td>\n",
       "        </tr>\n",
       "        <tr>\n",
       "            <td>Kentavious Caldwell-Pope</td> <td>SG      </td> <td>Detroit Pistons       </td> <td>2.89176       </td>\n",
       "        </tr>\n",
       "        <tr>\n",
       "            <td>Nik Stauskas            </td> <td>SG      </td> <td>Philadelphia 76ers    </td> <td>2.86944       </td>\n",
       "        </tr>\n",
       "        <tr>\n",
       "            <td>Udonis Haslem           </td> <td>PF      </td> <td>Miami Heat            </td> <td>2.85494       </td>\n",
       "        </tr>\n",
       "        <tr>\n",
       "            <td>Kirk Hinrich            </td> <td>SG      </td> <td>Chicago Bulls         </td> <td>2.85494       </td>\n",
       "        </tr>\n",
       "        <tr>\n",
       "            <td>Brian Roberts           </td> <td>PG      </td> <td>Charlotte Hornets     </td> <td>2.85494       </td>\n",
       "        </tr>\n",
       "        <tr>\n",
       "            <td>Dante Cunningham        </td> <td>PF      </td> <td>New Orleans Pelicans  </td> <td>2.85          </td>\n",
       "        </tr>\n",
       "        <tr>\n",
       "            <td>Stanley Johnson         </td> <td>SF      </td> <td>Detroit Pistons       </td> <td>2.84196       </td>\n",
       "        </tr>\n",
       "        <tr>\n",
       "            <td>Furkan Aldemir          </td> <td>PF      </td> <td>Philadelphia 76ers    </td> <td>2.83677       </td>\n",
       "        </tr>\n",
       "        <tr>\n",
       "            <td>Omri Casspi             </td> <td>SF      </td> <td>Sacramento Kings      </td> <td>2.83619       </td>\n",
       "        </tr>\n",
       "        <tr>\n",
       "            <td>Bismack Biyombo         </td> <td>C       </td> <td>Toronto Raptors       </td> <td>2.814         </td>\n",
       "        </tr>\n",
       "        <tr>\n",
       "            <td>Manu Ginobili           </td> <td>SG      </td> <td>San Antonio Spurs     </td> <td>2.814         </td>\n",
       "        </tr>\n",
       "        <tr>\n",
       "            <td>Darrell Arthur          </td> <td>PF      </td> <td>Denver Nuggets        </td> <td>2.814         </td>\n",
       "        </tr>\n",
       "        <tr>\n",
       "            <td>Luke Ridnour            </td> <td>PG      </td> <td>Toronto Raptors       </td> <td>2.75          </td>\n",
       "        </tr>\n",
       "        <tr>\n",
       "            <td>Trey Burke              </td> <td>PG      </td> <td>Utah Jazz             </td> <td>2.65824       </td>\n",
       "        </tr>\n",
       "        <tr>\n",
       "            <td>Noah Vonleh             </td> <td>PF      </td> <td>Portland Trail Blazers</td> <td>2.63772       </td>\n",
       "        </tr>\n",
       "        <tr>\n",
       "            <td>Tyler Zeller            </td> <td>C       </td> <td>Boston Celtics        </td> <td>2.61698       </td>\n",
       "        </tr>\n",
       "        <tr>\n",
       "            <td>Frank Kaminsky III      </td> <td>C       </td> <td>Charlotte Hornets     </td> <td>2.61252       </td>\n",
       "        </tr>\n",
       "        <tr>\n",
       "            <td>Jared Sullinger         </td> <td>C       </td> <td>Boston Celtics        </td> <td>2.56926       </td>\n",
       "        </tr>\n",
       "        <tr>\n",
       "            <td>C.J. McCollum           </td> <td>SG      </td> <td>Portland Trail Blazers</td> <td>2.52516       </td>\n",
       "        </tr>\n",
       "        <tr>\n",
       "            <td>Elfrid Payton           </td> <td>PG      </td> <td>Orlando Magic         </td> <td>2.50572       </td>\n",
       "        </tr>\n",
       "        <tr>\n",
       "            <td>James Johnson           </td> <td>PF      </td> <td>Toronto Raptors       </td> <td>2.5           </td>\n",
       "        </tr>\n",
       "        <tr>\n",
       "            <td>Leandro Barbosa         </td> <td>SG      </td> <td>Golden State Warriors </td> <td>2.5           </td>\n",
       "        </tr>\n",
       "        <tr>\n",
       "            <td>Joel Anthony            </td> <td>C       </td> <td>Detroit Pistons       </td> <td>2.5           </td>\n",
       "        </tr>\n",
       "        <tr>\n",
       "            <td>Terrence Jones          </td> <td>PF      </td> <td>Houston Rockets       </td> <td>2.48953       </td>\n",
       "        </tr>\n",
       "        <tr>\n",
       "            <td>Justise Winslow         </td> <td>SF      </td> <td>Miami Heat            </td> <td>2.48172       </td>\n",
       "        </tr>\n",
       "        <tr>\n",
       "            <td>Shelvin Mack            </td> <td>PG      </td> <td>Utah Jazz             </td> <td>2.43333       </td>\n",
       "        </tr>\n",
       "        <tr>\n",
       "            <td>Michael Carter-Williams </td> <td>PG      </td> <td>Milwaukee Bucks       </td> <td>2.39904       </td>\n",
       "        </tr>\n",
       "        <tr>\n",
       "            <td>Andrew Nicholson        </td> <td>PF      </td> <td>Orlando Magic         </td> <td>2.38059       </td>\n",
       "        </tr>\n",
       "        <tr>\n",
       "            <td>Doug McDermott          </td> <td>SF      </td> <td>Chicago Bulls         </td> <td>2.38044       </td>\n",
       "        </tr>\n",
       "        <tr>\n",
       "            <td>Myles Turner            </td> <td>PF      </td> <td>Indiana Pacers        </td> <td>2.35776       </td>\n",
       "        </tr>\n",
       "        <tr>\n",
       "            <td>Evan Fournier           </td> <td>SG      </td> <td>Orlando Magic         </td> <td>2.28821       </td>\n",
       "        </tr>\n",
       "        <tr>\n",
       "            <td>Donatas Motiejunas      </td> <td>PF      </td> <td>Houston Rockets       </td> <td>2.28821       </td>\n",
       "        </tr>\n",
       "        <tr>\n",
       "            <td>Steven Adams            </td> <td>C       </td> <td>Oklahoma City Thunder </td> <td>2.27904       </td>\n",
       "        </tr>\n",
       "        <tr>\n",
       "            <td>Aaron Brooks            </td> <td>PG      </td> <td>Chicago Bulls         </td> <td>2.25          </td>\n",
       "        </tr>\n",
       "        <tr>\n",
       "            <td>Trey Lyles              </td> <td>PF      </td> <td>Utah Jazz             </td> <td>2.2398        </td>\n",
       "        </tr>\n",
       "        <tr>\n",
       "            <td>Tony Wroten             </td> <td>SG      </td> <td>Philadelphia 76ers    </td> <td>2.17935       </td>\n",
       "        </tr>\n",
       "        <tr>\n",
       "            <td>Ramon Sessions          </td> <td>PG      </td> <td>Washington Wizards    </td> <td>2.17047       </td>\n",
       "        </tr>\n",
       "        <tr>\n",
       "            <td>Beno Udrih              </td> <td>PG      </td> <td>Memphis Grizzlies     </td> <td>2.17047       </td>\n",
       "        </tr>\n",
       "        <tr>\n",
       "            <td>Danny Granger           </td> <td>SF      </td> <td>Detroit Pistons       </td> <td>2.17047       </td>\n",
       "        </tr>\n",
       "        <tr>\n",
       "            <td>Kelly Olynyk            </td> <td>C       </td> <td>Boston Celtics        </td> <td>2.16516       </td>\n",
       "        </tr>\n",
       "        <tr>\n",
       "            <td>Zach LaVine             </td> <td>PG      </td> <td>Minnesota Timberwolves</td> <td>2.14836       </td>\n",
       "        </tr>\n",
       "        <tr>\n",
       "            <td>Kendall Marshall        </td> <td>PG      </td> <td>Philadelphia 76ers    </td> <td>2.14477       </td>\n",
       "        </tr>\n",
       "        <tr>\n",
       "            <td>Gary Neal               </td> <td>PG      </td> <td>Washington Wizards    </td> <td>2.139         </td>\n",
       "        </tr>\n",
       "        <tr>\n",
       "            <td>Jeremy Lin              </td> <td>PG      </td> <td>Charlotte Hornets     </td> <td>2.139         </td>\n",
       "        </tr>\n",
       "        <tr>\n",
       "            <td>Devin Booker            </td> <td>SG      </td> <td>Phoenix Suns          </td> <td>2.12784       </td>\n",
       "        </tr>\n",
       "        <tr>\n",
       "            <td>Miles Plumlee           </td> <td>C       </td> <td>Milwaukee Bucks       </td> <td>2.10929       </td>\n",
       "        </tr>\n",
       "        <tr>\n",
       "            <td>Mo Williams             </td> <td>PG      </td> <td>Cleveland Cavaliers   </td> <td>2.1           </td>\n",
       "        </tr>\n",
       "        <tr>\n",
       "            <td>Shabazz Muhammad        </td> <td>SF      </td> <td>Minnesota Timberwolves</td> <td>2.05692       </td>\n",
       "        </tr>\n",
       "        <tr>\n",
       "            <td>Joe Ingles              </td> <td>SF      </td> <td>Utah Jazz             </td> <td>2.05          </td>\n",
       "        </tr>\n",
       "        <tr>\n",
       "            <td>T.J. Warren             </td> <td>SF      </td> <td>Phoenix Suns          </td> <td>2.04108       </td>\n",
       "        </tr>\n",
       "        <tr>\n",
       "            <td>Perry Jones             </td> <td>SF      </td> <td>Boston Celtics        </td> <td>2.03821       </td>\n",
       "        </tr>\n",
       "        <tr>\n",
       "            <td>Cameron Payne           </td> <td>PG      </td> <td>Oklahoma City Thunder </td> <td>2.02152       </td>\n",
       "        </tr>\n",
       "        <tr>\n",
       "            <td>Festus Ezeli            </td> <td>C       </td> <td>Golden State Warriors </td> <td>2.00875       </td>\n",
       "        </tr>\n",
       "        <tr>\n",
       "            <td>DeJuan Blair            </td> <td>C       </td> <td>Washington Wizards    </td> <td>2             </td>\n",
       "        </tr>\n",
       "        <tr>\n",
       "            <td>Kent Bazemore           </td> <td>SF      </td> <td>Atlanta Hawks         </td> <td>2             </td>\n",
       "        </tr>\n",
       "        <tr>\n",
       "            <td>Giannis Antetokounmpo   </td> <td>SF      </td> <td>Milwaukee Bucks       </td> <td>1.95396       </td>\n",
       "        </tr>\n",
       "        <tr>\n",
       "            <td>Adreian Payne           </td> <td>PF      </td> <td>Minnesota Timberwolves</td> <td>1.93884       </td>\n",
       "        </tr>\n",
       "        <tr>\n",
       "            <td>Kelly Oubre Jr.         </td> <td>SF      </td> <td>Washington Wizards    </td> <td>1.92024       </td>\n",
       "        </tr>\n",
       "        <tr>\n",
       "            <td>Lucas Nogueira          </td> <td>C       </td> <td>Toronto Raptors       </td> <td>1.842         </td>\n",
       "        </tr>\n",
       "        <tr>\n",
       "            <td>Jusuf Nurkic            </td> <td>C       </td> <td>Denver Nuggets        </td> <td>1.842         </td>\n",
       "        </tr>\n",
       "        <tr>\n",
       "            <td>Terry Rozier            </td> <td>PG      </td> <td>Boston Celtics        </td> <td>1.82436       </td>\n",
       "        </tr>\n",
       "        <tr>\n",
       "            <td>Dennis Schroder         </td> <td>PG      </td> <td>Atlanta Hawks         </td> <td>1.7634        </td>\n",
       "        </tr>\n",
       "        <tr>\n",
       "            <td>James Young             </td> <td>SG      </td> <td>Boston Celtics        </td> <td>1.74984       </td>\n",
       "        </tr>\n",
       "        <tr>\n",
       "            <td>Rashad Vaughn           </td> <td>SG      </td> <td>Milwaukee Bucks       </td> <td>1.73304       </td>\n",
       "        </tr>\n",
       "        <tr>\n",
       "            <td>Ryan Kelly              </td> <td>PF      </td> <td>Los Angeles Lakers    </td> <td>1.72425       </td>\n",
       "        </tr>\n",
       "        <tr>\n",
       "            <td>Joffrey Lauvergne       </td> <td>C       </td> <td>Denver Nuggets        </td> <td>1.70972       </td>\n",
       "        </tr>\n",
       "        <tr>\n",
       "            <td>Zoran Dragic            </td> <td>SG      </td> <td>Boston Celtics        </td> <td>1.70623       </td>\n",
       "        </tr>\n",
       "        <tr>\n",
       "            <td>Tyler Ennis             </td> <td>PG      </td> <td>Milwaukee Bucks       </td> <td>1.66236       </td>\n",
       "        </tr>\n",
       "        <tr>\n",
       "            <td>Sam Dekker              </td> <td>SF      </td> <td>Houston Rockets       </td> <td>1.6464        </td>\n",
       "        </tr>\n",
       "        <tr>\n",
       "            <td>Lance Thomas            </td> <td>SF      </td> <td>New York Knicks       </td> <td>1.63684       </td>\n",
       "        </tr>\n",
       "        <tr>\n",
       "            <td>Lou Amundson            </td> <td>PF      </td> <td>New York Knicks       </td> <td>1.63548       </td>\n",
       "        </tr>\n",
       "        <tr>\n",
       "            <td>Sergey Karasev          </td> <td>SG      </td> <td>Brooklyn Nets         </td> <td>1.59984       </td>\n",
       "        </tr>\n",
       "        <tr>\n",
       "            <td>Gary Harris             </td> <td>SG      </td> <td>Denver Nuggets        </td> <td>1.58448       </td>\n",
       "        </tr>\n",
       "        <tr>\n",
       "            <td>Jerian Grant            </td> <td>PG      </td> <td>New York Knicks       </td> <td>1.57236       </td>\n",
       "        </tr>\n",
       "        <tr>\n",
       "            <td>Tony Snell              </td> <td>SF      </td> <td>Chicago Bulls         </td> <td>1.53588       </td>\n",
       "        </tr>\n",
       "        <tr>\n",
       "            <td>Bruno Caboclo           </td> <td>SF      </td> <td>Toronto Raptors       </td> <td>1.524         </td>\n",
       "        </tr>\n",
       "        <tr>\n",
       "            <td>Delon Wright            </td> <td>PG      </td> <td>Toronto Raptors       </td> <td>1.50936       </td>\n",
       "        </tr>\n",
       "        <tr>\n",
       "            <td>Shane Larkin            </td> <td>PG      </td> <td>Brooklyn Nets         </td> <td>1.5           </td>\n",
       "        </tr>\n",
       "        <tr>\n",
       "            <td>Wayne Ellington         </td> <td>SG      </td> <td>Brooklyn Nets         </td> <td>1.5           </td>\n",
       "        </tr>\n",
       "        <tr>\n",
       "            <td>David West              </td> <td>PF      </td> <td>San Antonio Spurs     </td> <td>1.49919       </td>\n",
       "        </tr>\n",
       "        <tr>\n",
       "            <td>Gorgui Dieng            </td> <td>C       </td> <td>Minnesota Timberwolves</td> <td>1.47444       </td>\n",
       "        </tr>\n",
       "        <tr>\n",
       "            <td>Mitch McGary            </td> <td>PF      </td> <td>Oklahoma City Thunder </td> <td>1.46304       </td>\n",
       "        </tr>\n",
       "        <tr>\n",
       "            <td>Caron Butler            </td> <td>SF      </td> <td>Sacramento Kings      </td> <td>1.44919       </td>\n",
       "        </tr>\n",
       "        <tr>\n",
       "            <td>Justin Anderson         </td> <td>SG      </td> <td>Dallas Mavericks      </td> <td>1.449         </td>\n",
       "        </tr>\n",
       "        <tr>\n",
       "            <td>Mason Plumlee           </td> <td>C       </td> <td>Portland Trail Blazers</td> <td>1.41552       </td>\n",
       "        </tr>\n",
       "        <tr>\n",
       "            <td>Jordan Adams            </td> <td>SG      </td> <td>Memphis Grizzlies     </td> <td>1.4046        </td>\n",
       "        </tr>\n",
       "        <tr>\n",
       "            <td>Bobby Portis            </td> <td>PF      </td> <td>Chicago Bulls         </td> <td>1.39116       </td>\n",
       "        </tr>\n",
       "        <tr>\n",
       "            <td>Andrea Bargnani         </td> <td>C       </td> <td>Brooklyn Nets         </td> <td>1.3629        </td>\n",
       "        </tr>\n",
       "        <tr>\n",
       "            <td>Solomon Hill            </td> <td>SF      </td> <td>Indiana Pacers        </td> <td>1.35888       </td>\n",
       "        </tr>\n",
       "        <tr>\n",
       "            <td>Rodney Hood             </td> <td>SG      </td> <td>Utah Jazz             </td> <td>1.34844       </td>\n",
       "        </tr>\n",
       "        <tr>\n",
       "            <td>Rondae Hollis-Jefferson </td> <td>SG      </td> <td>Brooklyn Nets         </td> <td>1.33548       </td>\n",
       "        </tr>\n",
       "        <tr>\n",
       "            <td>Alonzo Gee              </td> <td>SF      </td> <td>New Orleans Pelicans  </td> <td>1.32          </td>\n",
       "        </tr>\n",
       "        <tr>\n",
       "            <td>Tim Hardaway Jr.        </td> <td>SG      </td> <td>Atlanta Hawks         </td> <td>1.30452       </td>\n",
       "        </tr>\n",
       "        <tr>\n",
       "            <td>Nikola Jokic            </td> <td>C       </td> <td>Denver Nuggets        </td> <td>1.3           </td>\n",
       "        </tr>\n",
       "        <tr>\n",
       "            <td>Shabazz Napier          </td> <td>PG      </td> <td>Orlando Magic         </td> <td>1.29444       </td>\n",
       "        </tr>\n",
       "        <tr>\n",
       "            <td>Tyus Jones              </td> <td>PG      </td> <td>Minnesota Timberwolves</td> <td>1.28208       </td>\n",
       "        </tr>\n",
       "        <tr>\n",
       "            <td>Sasha Kaun              </td> <td>C       </td> <td>Cleveland Cavaliers   </td> <td>1.276         </td>\n",
       "        </tr>\n",
       "        <tr>\n",
       "            <td>Brandon Rush            </td> <td>SF      </td> <td>Golden State Warriors </td> <td>1.27096       </td>\n",
       "        </tr>\n",
       "        <tr>\n",
       "            <td>JaVale McGee            </td> <td>C       </td> <td>Dallas Mavericks      </td> <td>1.27096       </td>\n",
       "        </tr>\n",
       "        <tr>\n",
       "            <td>Reggie Bullock          </td> <td>SF      </td> <td>Detroit Pistons       </td> <td>1.25244       </td>\n",
       "        </tr>\n",
       "        <tr>\n",
       "            <td>Clint Capela            </td> <td>PF      </td> <td>Houston Rockets       </td> <td>1.24272       </td>\n",
       "        </tr>\n",
       "        <tr>\n",
       "            <td>Jarell Martin           </td> <td>PF      </td> <td>Memphis Grizzlies     </td> <td>1.23084       </td>\n",
       "        </tr>\n",
       "        <tr>\n",
       "            <td>Andre Roberson          </td> <td>SG      </td> <td>Oklahoma City Thunder </td> <td>1.2108        </td>\n",
       "        </tr>\n",
       "        <tr>\n",
       "            <td>P.J. Hairston           </td> <td>SF      </td> <td>Charlotte Hornets     </td> <td>1.20144       </td>\n",
       "        </tr>\n",
       "        <tr>\n",
       "            <td>Boban Marjanovic        </td> <td>C       </td> <td>San Antonio Spurs     </td> <td>1.2           </td>\n",
       "        </tr>\n",
       "        <tr>\n",
       "            <td>Reggie Williams         </td> <td>SF      </td> <td>San Antonio Spurs     </td> <td>1.18578       </td>\n",
       "        </tr>\n",
       "        <tr>\n",
       "            <td>Earl Clark              </td> <td>SF      </td> <td>Brooklyn Nets         </td> <td>1.18578       </td>\n",
       "        </tr>\n",
       "        <tr>\n",
       "            <td>Rudy Gobert             </td> <td>C       </td> <td>Utah Jazz             </td> <td>1.17588       </td>\n",
       "        </tr>\n",
       "        <tr>\n",
       "            <td>Jordan Mickey           </td> <td>PF      </td> <td>Boston Celtics        </td> <td>1.17096       </td>\n",
       "        </tr>\n",
       "        <tr>\n",
       "            <td>Toney Douglas           </td> <td>PG      </td> <td>New Orleans Pelicans  </td> <td>1.16486       </td>\n",
       "        </tr>\n",
       "        <tr>\n",
       "            <td>Archie Goodwin          </td> <td>SG      </td> <td>Phoenix Suns          </td> <td>1.16016       </td>\n",
       "        </tr>\n",
       "        <tr>\n",
       "            <td>C.J. Wilcox             </td> <td>SG      </td> <td>Los Angeles Clippers  </td> <td>1.15968       </td>\n",
       "        </tr>\n",
       "        <tr>\n",
       "            <td>Larry Nance Jr.         </td> <td>PF      </td> <td>Los Angeles Lakers    </td> <td>1.1556        </td>\n",
       "        </tr>\n",
       "        <tr>\n",
       "            <td>Chris Copeland          </td> <td>SF      </td> <td>Milwaukee Bucks       </td> <td>1.15          </td>\n",
       "        </tr>\n",
       "        <tr>\n",
       "            <td>Damjan Rudez            </td> <td>SF      </td> <td>Minnesota Timberwolves</td> <td>1.1495        </td>\n",
       "        </tr>\n",
       "        <tr>\n",
       "            <td>R.J. Hunter             </td> <td>SG      </td> <td>Boston Celtics        </td> <td>1.14864       </td>\n",
       "        </tr>\n",
       "        <tr>\n",
       "            <td>Matthew Dellavedova     </td> <td>PG      </td> <td>Cleveland Cavaliers   </td> <td>1.14728       </td>\n",
       "        </tr>\n",
       "        <tr>\n",
       "            <td>Kyle Anderson           </td> <td>SF      </td> <td>San Antonio Spurs     </td> <td>1.14288       </td>\n",
       "        </tr>\n",
       "        <tr>\n",
       "            <td>Josh Huestis            </td> <td>SF      </td> <td>Oklahoma City Thunder </td> <td>1.14024       </td>\n",
       "        </tr>\n",
       "        <tr>\n",
       "            <td>Chris McCullough        </td> <td>PF      </td> <td>Brooklyn Nets         </td> <td>1.14024       </td>\n",
       "        </tr>\n",
       "        <tr>\n",
       "            <td>Kevon Looney            </td> <td>SF      </td> <td>Golden State Warriors </td> <td>1.13196       </td>\n",
       "        </tr>\n",
       "        <tr>\n",
       "            <td>Garrett Temple          </td> <td>SG      </td> <td>Washington Wizards    </td> <td>1.1006        </td>\n",
       "        </tr>\n",
       "        <tr>\n",
       "            <td>Luke Babbitt            </td> <td>SF      </td> <td>New Orleans Pelicans  </td> <td>1.1006        </td>\n",
       "        </tr>\n",
       "        <tr>\n",
       "            <td>Henry Walker            </td> <td>SF      </td> <td>Miami Heat            </td> <td>1.1006        </td>\n",
       "        </tr>\n",
       "        <tr>\n",
       "            <td>Wesley Johnson          </td> <td>SF      </td> <td>Los Angeles Clippers  </td> <td>1.1006        </td>\n",
       "        </tr>\n",
       "        <tr>\n",
       "            <td>Cole Aldrich            </td> <td>C       </td> <td>Los Angeles Clippers  </td> <td>1.1006        </td>\n",
       "        </tr>\n",
       "        <tr>\n",
       "            <td>Glenn Robinson III      </td> <td>SG      </td> <td>Indiana Pacers        </td> <td>1.1           </td>\n",
       "        </tr>\n",
       "        <tr>\n",
       "            <td>Richaun Holmes          </td> <td>PF      </td> <td>Philadelphia 76ers    </td> <td>1.07417       </td>\n",
       "        </tr>\n",
       "        <tr>\n",
       "            <td>Jon Leuer               </td> <td>PF      </td> <td>Phoenix Suns          </td> <td>1.035         </td>\n",
       "        </tr>\n",
       "        <tr>\n",
       "            <td>James Anderson          </td> <td>SG      </td> <td>Sacramento Kings      </td> <td>1.01542       </td>\n",
       "        </tr>\n",
       "        <tr>\n",
       "            <td>Lester Hudson           </td> <td>SG      </td> <td>Los Angeles Clippers  </td> <td>1.01542       </td>\n",
       "        </tr>\n",
       "        <tr>\n",
       "            <td>Jordan Hamilton         </td> <td>SG      </td> <td>Los Angeles Clippers  </td> <td>1.01542       </td>\n",
       "        </tr>\n",
       "        <tr>\n",
       "            <td>E'Twaun Moore           </td> <td>SG      </td> <td>Chicago Bulls         </td> <td>1.01542       </td>\n",
       "        </tr>\n",
       "        <tr>\n",
       "            <td>Joe Young               </td> <td>PG      </td> <td>Indiana Pacers        </td> <td>1.00703       </td>\n",
       "        </tr>\n",
       "        <tr>\n",
       "            <td>Rakeem Christmas        </td> <td>PF      </td> <td>Indiana Pacers        </td> <td>1.00703       </td>\n",
       "        </tr>\n",
       "        <tr>\n",
       "            <td>Robert Covington        </td> <td>SF      </td> <td>Philadelphia 76ers    </td> <td>1             </td>\n",
       "        </tr>\n",
       "        <tr>\n",
       "            <td>Montrezl Harrell        </td> <td>PF      </td> <td>Houston Rockets       </td> <td>1             </td>\n",
       "        </tr>\n",
       "        <tr>\n",
       "            <td>Walter Tavares          </td> <td>C       </td> <td>Atlanta Hawks         </td> <td>1             </td>\n",
       "        </tr>\n",
       "        <tr>\n",
       "            <td>Chris Johnson           </td> <td>SF      </td> <td>Utah Jazz             </td> <td>0.981348      </td>\n",
       "        </tr>\n",
       "        <tr>\n",
       "            <td>Jerel McNeal            </td> <td>SG      </td> <td>Phoenix Suns          </td> <td>0.981348      </td>\n",
       "        </tr>\n",
       "        <tr>\n",
       "            <td>Robert Sacre            </td> <td>C       </td> <td>Los Angeles Lakers    </td> <td>0.981348      </td>\n",
       "        </tr>\n",
       "        <tr>\n",
       "            <td>John Jenkins            </td> <td>SG      </td> <td>Dallas Mavericks      </td> <td>0.981348      </td>\n",
       "        </tr>\n",
       "        <tr>\n",
       "            <td>Thomas Robinson         </td> <td>PF      </td> <td>Brooklyn Nets         </td> <td>0.981348      </td>\n",
       "        </tr>\n",
       "        <tr>\n",
       "            <td>Pablo Prigioni          </td> <td>PG      </td> <td>Los Angeles Clippers  </td> <td>0.947726      </td>\n",
       "        </tr>\n",
       "        <tr>\n",
       "            <td>Jeff Withey             </td> <td>C       </td> <td>Utah Jazz             </td> <td>0.947276      </td>\n",
       "        </tr>\n",
       "        <tr>\n",
       "            <td>Grant Jerrett           </td> <td>PF      </td> <td>Utah Jazz             </td> <td>0.947276      </td>\n",
       "        </tr>\n",
       "        <tr>\n",
       "            <td>Ray McCallum            </td> <td>PG      </td> <td>San Antonio Spurs     </td> <td>0.947276      </td>\n",
       "        </tr>\n",
       "        <tr>\n",
       "            <td>Allen Crabbe            </td> <td>SG      </td> <td>Portland Trail Blazers</td> <td>0.947276      </td>\n",
       "        </tr>\n",
       "        <tr>\n",
       "            <td>Kendrick Perkins        </td> <td>C       </td> <td>New Orleans Pelicans  </td> <td>0.947276      </td>\n",
       "        </tr>\n",
       "        <tr>\n",
       "            <td>Troy Daniels            </td> <td>SG      </td> <td>Charlotte Hornets     </td> <td>0.947276      </td>\n",
       "        </tr>\n",
       "        <tr>\n",
       "            <td>Tyler Hansbrough        </td> <td>PF      </td> <td>Charlotte Hornets     </td> <td>0.947276      </td>\n",
       "        </tr>\n",
       "        <tr>\n",
       "            <td>Jorge Gutierrez         </td> <td>PG      </td> <td>Charlotte Hornets     </td> <td>0.947276      </td>\n",
       "        </tr>\n",
       "        <tr>\n",
       "            <td>Damien Wilkins          </td> <td>SG      </td> <td>Charlotte Hornets     </td> <td>0.947276      </td>\n",
       "        </tr>\n",
       "        <tr>\n",
       "            <td>Jason Richardson        </td> <td>SG      </td> <td>Atlanta Hawks         </td> <td>0.947276      </td>\n",
       "        </tr>\n",
       "        <tr>\n",
       "            <td>Raul Neto               </td> <td>PG      </td> <td>Utah Jazz             </td> <td>0.9           </td>\n",
       "        </tr>\n",
       "        <tr>\n",
       "            <td>Jimmer Fredette         </td> <td>PG      </td> <td>New York Knicks       </td> <td>0.874837      </td>\n",
       "        </tr>\n",
       "        <tr>\n",
       "            <td>Damien Inglis           </td> <td>SF      </td> <td>Milwaukee Bucks       </td> <td>0.855         </td>\n",
       "        </tr>\n",
       "        <tr>\n",
       "            <td>Terrico White           </td> <td>SG      </td> <td>Phoenix Suns          </td> <td>0.845059      </td>\n",
       "        </tr>\n",
       "        <tr>\n",
       "            <td>Jerami Grant            </td> <td>SF      </td> <td>Philadelphia 76ers    </td> <td>0.845059      </td>\n",
       "        </tr>\n",
       "        <tr>\n",
       "            <td>Langston Galloway       </td> <td>SG      </td> <td>New York Knicks       </td> <td>0.845059      </td>\n",
       "        </tr>\n",
       "        <tr>\n",
       "            <td>Tyler Johnson           </td> <td>SG      </td> <td>Miami Heat            </td> <td>0.845059      </td>\n",
       "        </tr>\n",
       "        <tr>\n",
       "            <td>Jarnell Stokes          </td> <td>PF      </td> <td>Memphis Grizzlies     </td> <td>0.845059      </td>\n",
       "        </tr>\n",
       "        <tr>\n",
       "            <td>James Ennis             </td> <td>SF      </td> <td>Memphis Grizzlies     </td> <td>0.845059      </td>\n",
       "        </tr>\n",
       "        <tr>\n",
       "            <td>Russ Smith              </td> <td>PG      </td> <td>Memphis Grizzlies     </td> <td>0.845059      </td>\n",
       "        </tr>\n",
       "        <tr>\n",
       "            <td>JaMychal Green          </td> <td>PF      </td> <td>Memphis Grizzlies     </td> <td>0.845059      </td>\n",
       "        </tr>\n",
       "        <tr>\n",
       "            <td>Markel Brown            </td> <td>SG      </td> <td>Brooklyn Nets         </td> <td>0.845059      </td>\n",
       "        </tr>\n",
       "        <tr>\n",
       "            <td>Kostas Papanikolaou     </td> <td>SF      </td> <td>Denver Nuggets        </td> <td>0.800321      </td>\n",
       "        </tr>\n",
       "        <tr>\n",
       "            <td>Bryce Cotton            </td> <td>PG      </td> <td>Phoenix Suns          </td> <td>0.700902      </td>\n",
       "        </tr>\n",
       "        <tr>\n",
       "            <td>Anthony Brown           </td> <td>SF      </td> <td>Los Angeles Lakers    </td> <td>0.7           </td>\n",
       "        </tr>\n",
       "        <tr>\n",
       "            <td>Norman Powell           </td> <td>SG      </td> <td>Toronto Raptors       </td> <td>0.65          </td>\n",
       "        </tr>\n",
       "        <tr>\n",
       "            <td>Pat Connaughton         </td> <td>SG      </td> <td>Portland Trail Blazers</td> <td>0.625093      </td>\n",
       "        </tr>\n",
       "        <tr>\n",
       "            <td>Darrun Hilliard         </td> <td>SF      </td> <td>Detroit Pistons       </td> <td>0.6           </td>\n",
       "        </tr>\n",
       "        <tr>\n",
       "            <td>Jarell Eddie            </td> <td>SG      </td> <td>Washington Wizards    </td> <td>0.561716      </td>\n",
       "        </tr>\n",
       "        <tr>\n",
       "            <td>Treveon Graham          </td> <td>SG      </td> <td>Utah Jazz             </td> <td>0.525093      </td>\n",
       "        </tr>\n",
       "        <tr>\n",
       "            <td>Ronald Roberts Jr.      </td> <td>PF      </td> <td>Toronto Raptors       </td> <td>0.525093      </td>\n",
       "        </tr>\n",
       "        <tr>\n",
       "            <td>Shannon Scott           </td> <td>PG      </td> <td>Toronto Raptors       </td> <td>0.525093      </td>\n",
       "        </tr>\n",
       "        <tr>\n",
       "            <td>Cliff Alexander         </td> <td>PF      </td> <td>Portland Trail Blazers</td> <td>0.525093      </td>\n",
       "        </tr>\n",
       "        <tr>\n",
       "            <td>Luis Montero            </td> <td>SG      </td> <td>Portland Trail Blazers</td> <td>0.525093      </td>\n",
       "        </tr>\n",
       "        <tr>\n",
       "            <td>Bo McCalebb             </td> <td>PG      </td> <td>New Orleans Pelicans  </td> <td>0.525093      </td>\n",
       "        </tr>\n",
       "        <tr>\n",
       "            <td>Corey Hawkins           </td> <td>PG      </td> <td>Miami Heat            </td> <td>0.525093      </td>\n",
       "        </tr>\n",
       "        <tr>\n",
       "            <td>Josh Richardson         </td> <td>SG      </td> <td>Miami Heat            </td> <td>0.525093      </td>\n",
       "        </tr>\n",
       "        <tr>\n",
       "            <td>Greg Whittington        </td> <td>SF      </td> <td>Miami Heat            </td> <td>0.525093      </td>\n",
       "        </tr>\n",
       "        <tr>\n",
       "            <td>Jarrid Famous           </td> <td>PF      </td> <td>Memphis Grizzlies     </td> <td>0.525093      </td>\n",
       "        </tr>\n",
       "        <tr>\n",
       "            <td>Aaron Harrison          </td> <td>SG      </td> <td>Charlotte Hornets     </td> <td>0.525093      </td>\n",
       "        </tr>\n",
       "        <tr>\n",
       "            <td>Terran Petteway         </td> <td>SG      </td> <td>Atlanta Hawks         </td> <td>0.525093      </td>\n",
       "        </tr>\n",
       "        <tr>\n",
       "            <td>Lamar Patterson         </td> <td>SG      </td> <td>Atlanta Hawks         </td> <td>0.525093      </td>\n",
       "        </tr>\n",
       "        <tr>\n",
       "            <td>Steve Novak             </td> <td>SF      </td> <td>Oklahoma City Thunder </td> <td>0.289755      </td>\n",
       "        </tr>\n",
       "        <tr>\n",
       "            <td>Anderson Varejao        </td> <td>PF      </td> <td>Golden State Warriors </td> <td>0.289755      </td>\n",
       "        </tr>\n",
       "        <tr>\n",
       "            <td>JaKarr Sampson          </td> <td>SG      </td> <td>Philadelphia 76ers    </td> <td>0.258489      </td>\n",
       "        </tr>\n",
       "        <tr>\n",
       "            <td>Bryce Dejean-Jones      </td> <td>SG      </td> <td>New Orleans Pelicans  </td> <td>0.169883      </td>\n",
       "        </tr>\n",
       "        <tr>\n",
       "            <td>Lorenzo Brown           </td> <td>PG      </td> <td>Phoenix Suns          </td> <td>0.111444      </td>\n",
       "        </tr>\n",
       "        <tr>\n",
       "            <td>Ryan Hollins            </td> <td>C       </td> <td>Memphis Grizzlies     </td> <td>0.111444      </td>\n",
       "        </tr>\n",
       "        <tr>\n",
       "            <td>Jeff Ayres              </td> <td>PF      </td> <td>Los Angeles Clippers  </td> <td>0.111444      </td>\n",
       "        </tr>\n",
       "        <tr>\n",
       "            <td>Erick Green             </td> <td>PG      </td> <td>Utah Jazz             </td> <td>0.099418      </td>\n",
       "        </tr>\n",
       "        <tr>\n",
       "            <td>Sean Kilpatrick         </td> <td>SG      </td> <td>Denver Nuggets        </td> <td>0.099418      </td>\n",
       "        </tr>\n",
       "        <tr>\n",
       "            <td>Keith Appling           </td> <td>PG      </td> <td>Orlando Magic         </td> <td>0.061776      </td>\n",
       "        </tr>\n",
       "        <tr>\n",
       "            <td>Phil Pressey            </td> <td>PG      </td> <td>Phoenix Suns          </td> <td>0.055722      </td>\n",
       "        </tr>\n",
       "        <tr>\n",
       "            <td>Orlando Johnson         </td> <td>SG      </td> <td>Phoenix Suns          </td> <td>0.055722      </td>\n",
       "        </tr>\n",
       "        <tr>\n",
       "            <td>Elliot Williams         </td> <td>SG      </td> <td>Memphis Grizzlies     </td> <td>0.055722      </td>\n",
       "        </tr>\n",
       "        <tr>\n",
       "            <td>Cory Jefferson          </td> <td>PF      </td> <td>Phoenix Suns          </td> <td>0.049709      </td>\n",
       "        </tr>\n",
       "        <tr>\n",
       "            <td>Jordan McRae            </td> <td>SG      </td> <td>Phoenix Suns          </td> <td>0.049709      </td>\n",
       "        </tr>\n",
       "        <tr>\n",
       "            <td>Thanasis Antetokounmpo  </td> <td>SF      </td> <td>New York Knicks       </td> <td>0.030888      </td>\n",
       "        </tr>\n",
       "    </tbody>\n",
       "</table>"
      ],
      "text/plain": [
       "<IPython.core.display.HTML object>"
      ]
     },
     "metadata": {},
     "output_type": "display_data"
    }
   ],
   "source": [
    "nba.sort(3, descending=True).show(417)"
   ]
  },
  {
   "cell_type": "markdown",
   "metadata": {
    "slideshow": {
     "slide_type": "slide"
    }
   },
   "source": [
    "### What are the optional arguments for `sort`?\n",
    "* `descending=True`, sorts the column in descending order (default: ascending order).\n",
    "* `distinct=True`, omits repeated values of the column, keeping the only the first. \n",
    "\n",
    "### What does the code below do?"
   ]
  },
  {
   "cell_type": "code",
   "execution_count": 26,
   "metadata": {},
   "outputs": [
    {
     "data": {
      "text/html": [
       "<table border=\"1\" class=\"dataframe\">\n",
       "    <thead>\n",
       "        <tr>\n",
       "            <th>PLAYER</th> <th>POSITION</th> <th>TEAM</th> <th>'15-'16 SALARY</th>\n",
       "        </tr>\n",
       "    </thead>\n",
       "    <tbody>\n",
       "        <tr>\n",
       "            <td>Dwight Howard</td> <td>C       </td> <td>Houston Rockets     </td> <td>22.3594       </td>\n",
       "        </tr>\n",
       "        <tr>\n",
       "            <td>Chris Bosh   </td> <td>PF      </td> <td>Miami Heat          </td> <td>22.1927       </td>\n",
       "        </tr>\n",
       "        <tr>\n",
       "            <td>Chris Paul   </td> <td>PG      </td> <td>Los Angeles Clippers</td> <td>21.4687       </td>\n",
       "        </tr>\n",
       "        <tr>\n",
       "            <td>Kobe Bryant  </td> <td>SF      </td> <td>Los Angeles Lakers  </td> <td>25            </td>\n",
       "        </tr>\n",
       "        <tr>\n",
       "            <td>Dwyane Wade  </td> <td>SG      </td> <td>Miami Heat          </td> <td>20            </td>\n",
       "        </tr>\n",
       "    </tbody>\n",
       "</table>"
      ],
      "text/plain": [
       "PLAYER        | POSITION | TEAM                 | '15-'16 SALARY\n",
       "Dwight Howard | C        | Houston Rockets      | 22.3594\n",
       "Chris Bosh    | PF       | Miami Heat           | 22.1927\n",
       "Chris Paul    | PG       | Los Angeles Clippers | 21.4687\n",
       "Kobe Bryant   | SF       | Los Angeles Lakers   | 25\n",
       "Dwyane Wade   | SG       | Miami Heat           | 20"
      ]
     },
     "execution_count": 26,
     "metadata": {},
     "output_type": "execute_result"
    }
   ],
   "source": [
    "nba.sort(3, descending=True).sort(1, distinct=True)"
   ]
  },
  {
   "cell_type": "markdown",
   "metadata": {
    "slideshow": {
     "slide_type": "slide"
    }
   },
   "source": [
    "<center><img src=\"q7.png\"  width=\"1000\"/></center>"
   ]
  },
  {
   "cell_type": "code",
   "execution_count": 30,
   "metadata": {},
   "outputs": [
    {
     "data": {
      "text/html": [
       "<table border=\"1\" class=\"dataframe\">\n",
       "    <thead>\n",
       "        <tr>\n",
       "            <th>PLAYER</th> <th>POSITION</th> <th>TEAM</th> <th>'15-'16 SALARY</th>\n",
       "        </tr>\n",
       "    </thead>\n",
       "    <tbody>\n",
       "        <tr>\n",
       "            <td>Thabo Sefolosha</td> <td>SF      </td> <td>Atlanta Hawks</td> <td>4             </td>\n",
       "        </tr>\n",
       "        <tr>\n",
       "            <td>Kyle Korver    </td> <td>SG      </td> <td>Atlanta Hawks</td> <td>5.74648       </td>\n",
       "        </tr>\n",
       "        <tr>\n",
       "            <td>Jeff Teague    </td> <td>PG      </td> <td>Atlanta Hawks</td> <td>8             </td>\n",
       "        </tr>\n",
       "        <tr>\n",
       "            <td>Al Horford     </td> <td>C       </td> <td>Atlanta Hawks</td> <td>12            </td>\n",
       "        </tr>\n",
       "        <tr>\n",
       "            <td>Paul Millsap   </td> <td>PF      </td> <td>Atlanta Hawks</td> <td>18.6717       </td>\n",
       "        </tr>\n",
       "    </tbody>\n",
       "</table>"
      ],
      "text/plain": [
       "PLAYER          | POSITION | TEAM          | '15-'16 SALARY\n",
       "Thabo Sefolosha | SF       | Atlanta Hawks | 4\n",
       "Kyle Korver     | SG       | Atlanta Hawks | 5.74648\n",
       "Jeff Teague     | PG       | Atlanta Hawks | 8\n",
       "Al Horford      | C        | Atlanta Hawks | 12\n",
       "Paul Millsap    | PF       | Atlanta Hawks | 18.6717"
      ]
     },
     "execution_count": 30,
     "metadata": {},
     "output_type": "execute_result"
    }
   ],
   "source": [
    "nba.sort(1, distinct=True).sort(3, descending=False)"
   ]
  },
  {
   "cell_type": "markdown",
   "metadata": {
    "slideshow": {
     "slide_type": "slide"
    }
   },
   "source": [
    "# Digression: Lists"
   ]
  },
  {
   "cell_type": "markdown",
   "metadata": {
    "slideshow": {
     "slide_type": "slide"
    }
   },
   "source": [
    "What happens when you make an array with objects of different types?"
   ]
  },
  {
   "cell_type": "code",
   "execution_count": 31,
   "metadata": {
    "slideshow": {
     "slide_type": "-"
    }
   },
   "outputs": [
    {
     "data": {
      "text/plain": [
       "array(['1', '3.1415', 'n/a'], dtype='<U32')"
      ]
     },
     "execution_count": 31,
     "metadata": {},
     "output_type": "execute_result"
    }
   ],
   "source": [
    "data = make_array(1, 3.1415, 'n/a')\n",
    "data"
   ]
  },
  {
   "cell_type": "markdown",
   "metadata": {
    "slideshow": {
     "slide_type": "fragment"
    }
   },
   "source": [
    "Wait, what is the type of the first element?"
   ]
  },
  {
   "cell_type": "code",
   "execution_count": 32,
   "metadata": {},
   "outputs": [
    {
     "data": {
      "text/plain": [
       "str"
      ]
     },
     "execution_count": 32,
     "metadata": {},
     "output_type": "execute_result"
    }
   ],
   "source": [
    "type(data.item(0))"
   ]
  },
  {
   "cell_type": "markdown",
   "metadata": {
    "slideshow": {
     "slide_type": "slide"
    }
   },
   "source": [
    "## Lists are generic sequences\n",
    "\n",
    "- Arrays should only hold objects of one type.\n",
    "- But `list`s can hold objects of different types."
   ]
  },
  {
   "cell_type": "code",
   "execution_count": 33,
   "metadata": {},
   "outputs": [
    {
     "data": {
      "text/plain": [
       "[1, 3.1415, 'hey']"
      ]
     },
     "execution_count": 33,
     "metadata": {},
     "output_type": "execute_result"
    }
   ],
   "source": [
    "[1, 3.1415, 'hey']"
   ]
  },
  {
   "cell_type": "markdown",
   "metadata": {
    "slideshow": {
     "slide_type": "slide"
    }
   },
   "source": [
    "## If lists are more general, why use arrays at all?"
   ]
  },
  {
   "cell_type": "markdown",
   "metadata": {},
   "source": [
    "Big reason: arrays are fast."
   ]
  },
  {
   "cell_type": "code",
   "execution_count": 34,
   "metadata": {},
   "outputs": [],
   "source": [
    "# an array and a list with the same data\n",
    "n = 9_999_999\n",
    "arr = np.arange(n)\n",
    "lst = list(range(n))"
   ]
  },
  {
   "cell_type": "code",
   "execution_count": 35,
   "metadata": {},
   "outputs": [
    {
     "name": "stdout",
     "output_type": "stream",
     "text": [
      "5.38 ms ± 136 µs per loop (mean ± std. dev. of 7 runs, 100 loops each)\n"
     ]
    }
   ],
   "source": [
    "%timeit arr.sum() # work with array"
   ]
  },
  {
   "cell_type": "code",
   "execution_count": 36,
   "metadata": {},
   "outputs": [
    {
     "name": "stdout",
     "output_type": "stream",
     "text": [
      "304 ms ± 6.4 ms per loop (mean ± std. dev. of 7 runs, 1 loop each)\n"
     ]
    }
   ],
   "source": [
    "%timeit sum(lst) # work with list"
   ]
  },
  {
   "cell_type": "markdown",
   "metadata": {
    "slideshow": {
     "slide_type": "slide"
    }
   },
   "source": [
    "## Creating tables from lists"
   ]
  },
  {
   "cell_type": "markdown",
   "metadata": {},
   "source": [
    "Passing a list to `.with_column` converts it to an array implicity."
   ]
  },
  {
   "cell_type": "code",
   "execution_count": 37,
   "metadata": {},
   "outputs": [
    {
     "data": {
      "text/html": [
       "<table border=\"1\" class=\"dataframe\">\n",
       "    <thead>\n",
       "        <tr>\n",
       "            <th>Stuff</th>\n",
       "        </tr>\n",
       "    </thead>\n",
       "    <tbody>\n",
       "        <tr>\n",
       "            <td>1     </td>\n",
       "        </tr>\n",
       "        <tr>\n",
       "            <td>3.1415</td>\n",
       "        </tr>\n",
       "        <tr>\n",
       "            <td>hey   </td>\n",
       "        </tr>\n",
       "    </tbody>\n",
       "</table>"
      ],
      "text/plain": [
       "Stuff\n",
       "1\n",
       "3.1415\n",
       "hey"
      ]
     },
     "execution_count": 37,
     "metadata": {},
     "output_type": "execute_result"
    }
   ],
   "source": [
    "data = Table().with_column('Stuff', [1, 3.1415, 'hey'])\n",
    "data"
   ]
  },
  {
   "cell_type": "markdown",
   "metadata": {
    "slideshow": {
     "slide_type": "fragment"
    }
   },
   "source": [
    "But look at the types..."
   ]
  },
  {
   "cell_type": "code",
   "execution_count": 38,
   "metadata": {},
   "outputs": [
    {
     "data": {
      "text/plain": [
       "array(['1', '3.1415', 'hey'], dtype='<U32')"
      ]
     },
     "execution_count": 38,
     "metadata": {},
     "output_type": "execute_result"
    }
   ],
   "source": [
    "data.column('Stuff')"
   ]
  },
  {
   "cell_type": "markdown",
   "metadata": {
    "slideshow": {
     "slide_type": "slide"
    }
   },
   "source": [
    "# Getting rows"
   ]
  },
  {
   "cell_type": "code",
   "execution_count": 39,
   "metadata": {},
   "outputs": [
    {
     "data": {
      "text/html": [
       "<table border=\"1\" class=\"dataframe\">\n",
       "    <thead>\n",
       "        <tr>\n",
       "            <th>PLAYER</th> <th>POSITION</th> <th>TEAM</th> <th>'15-'16 SALARY</th>\n",
       "        </tr>\n",
       "    </thead>\n",
       "    <tbody>\n",
       "        <tr>\n",
       "            <td>Paul Millsap    </td> <td>PF      </td> <td>Atlanta Hawks</td> <td>18.6717       </td>\n",
       "        </tr>\n",
       "        <tr>\n",
       "            <td>Al Horford      </td> <td>C       </td> <td>Atlanta Hawks</td> <td>12            </td>\n",
       "        </tr>\n",
       "        <tr>\n",
       "            <td>Tiago Splitter  </td> <td>C       </td> <td>Atlanta Hawks</td> <td>9.75625       </td>\n",
       "        </tr>\n",
       "        <tr>\n",
       "            <td>Jeff Teague     </td> <td>PG      </td> <td>Atlanta Hawks</td> <td>8             </td>\n",
       "        </tr>\n",
       "        <tr>\n",
       "            <td>Kyle Korver     </td> <td>SG      </td> <td>Atlanta Hawks</td> <td>5.74648       </td>\n",
       "        </tr>\n",
       "        <tr>\n",
       "            <td>Thabo Sefolosha </td> <td>SF      </td> <td>Atlanta Hawks</td> <td>4             </td>\n",
       "        </tr>\n",
       "        <tr>\n",
       "            <td>Mike Scott      </td> <td>PF      </td> <td>Atlanta Hawks</td> <td>3.33333       </td>\n",
       "        </tr>\n",
       "        <tr>\n",
       "            <td>Kent Bazemore   </td> <td>SF      </td> <td>Atlanta Hawks</td> <td>2             </td>\n",
       "        </tr>\n",
       "        <tr>\n",
       "            <td>Dennis Schroder </td> <td>PG      </td> <td>Atlanta Hawks</td> <td>1.7634        </td>\n",
       "        </tr>\n",
       "        <tr>\n",
       "            <td>Tim Hardaway Jr.</td> <td>SG      </td> <td>Atlanta Hawks</td> <td>1.30452       </td>\n",
       "        </tr>\n",
       "    </tbody>\n",
       "</table>\n",
       "<p>... (407 rows omitted)</p>"
      ],
      "text/plain": [
       "PLAYER           | POSITION | TEAM          | '15-'16 SALARY\n",
       "Paul Millsap     | PF       | Atlanta Hawks | 18.6717\n",
       "Al Horford       | C        | Atlanta Hawks | 12\n",
       "Tiago Splitter   | C        | Atlanta Hawks | 9.75625\n",
       "Jeff Teague      | PG       | Atlanta Hawks | 8\n",
       "Kyle Korver      | SG       | Atlanta Hawks | 5.74648\n",
       "Thabo Sefolosha  | SF       | Atlanta Hawks | 4\n",
       "Mike Scott       | PF       | Atlanta Hawks | 3.33333\n",
       "Kent Bazemore    | SF       | Atlanta Hawks | 2\n",
       "Dennis Schroder  | PG       | Atlanta Hawks | 1.7634\n",
       "Tim Hardaway Jr. | SG       | Atlanta Hawks | 1.30452\n",
       "... (407 rows omitted)"
      ]
     },
     "execution_count": 39,
     "metadata": {},
     "output_type": "execute_result"
    }
   ],
   "source": [
    "nba = Table.read_table('nba_salaries.csv')\n",
    "nba"
   ]
  },
  {
   "cell_type": "markdown",
   "metadata": {
    "slideshow": {
     "slide_type": "slide"
    }
   },
   "source": [
    "## `.select()` columns, `.take()`rows\n",
    "\n",
    "- We know that `.select()` returns a table with the requested columns\n",
    "- To get a *table* with requested rows, use `.take()`\n",
    "- As with `.item()`, counting starts with 0"
   ]
  },
  {
   "cell_type": "code",
   "execution_count": 40,
   "metadata": {},
   "outputs": [
    {
     "data": {
      "text/html": [
       "<table border=\"1\" class=\"dataframe\">\n",
       "    <thead>\n",
       "        <tr>\n",
       "            <th>PLAYER</th> <th>POSITION</th> <th>TEAM</th> <th>'15-'16 SALARY</th>\n",
       "        </tr>\n",
       "    </thead>\n",
       "    <tbody>\n",
       "        <tr>\n",
       "            <td>Paul Millsap</td> <td>PF      </td> <td>Atlanta Hawks</td> <td>18.6717       </td>\n",
       "        </tr>\n",
       "    </tbody>\n",
       "</table>"
      ],
      "text/plain": [
       "PLAYER       | POSITION | TEAM          | '15-'16 SALARY\n",
       "Paul Millsap | PF       | Atlanta Hawks | 18.6717"
      ]
     },
     "execution_count": 40,
     "metadata": {},
     "output_type": "execute_result"
    }
   ],
   "source": [
    "# get the first row\n",
    "nba.take(0)"
   ]
  },
  {
   "cell_type": "markdown",
   "metadata": {
    "slideshow": {
     "slide_type": "slide"
    }
   },
   "source": [
    "## Multiple rows\n",
    "\n",
    "Take multiple rows by providing a list of row indices:"
   ]
  },
  {
   "cell_type": "code",
   "execution_count": 41,
   "metadata": {},
   "outputs": [
    {
     "data": {
      "text/html": [
       "<table border=\"1\" class=\"dataframe\">\n",
       "    <thead>\n",
       "        <tr>\n",
       "            <th>PLAYER</th> <th>POSITION</th> <th>TEAM</th> <th>'15-'16 SALARY</th>\n",
       "        </tr>\n",
       "    </thead>\n",
       "    <tbody>\n",
       "        <tr>\n",
       "            <td>Paul Millsap   </td> <td>PF      </td> <td>Atlanta Hawks</td> <td>18.6717       </td>\n",
       "        </tr>\n",
       "        <tr>\n",
       "            <td>Thabo Sefolosha</td> <td>SF      </td> <td>Atlanta Hawks</td> <td>4             </td>\n",
       "        </tr>\n",
       "        <tr>\n",
       "            <td>Mike Scott     </td> <td>PF      </td> <td>Atlanta Hawks</td> <td>3.33333       </td>\n",
       "        </tr>\n",
       "    </tbody>\n",
       "</table>"
      ],
      "text/plain": [
       "PLAYER          | POSITION | TEAM          | '15-'16 SALARY\n",
       "Paul Millsap    | PF       | Atlanta Hawks | 18.6717\n",
       "Thabo Sefolosha | SF       | Atlanta Hawks | 4\n",
       "Mike Scott      | PF       | Atlanta Hawks | 3.33333"
      ]
     },
     "execution_count": 41,
     "metadata": {},
     "output_type": "execute_result"
    }
   ],
   "source": [
    "nba.take([0,5,6])"
   ]
  },
  {
   "cell_type": "code",
   "execution_count": 42,
   "metadata": {
    "slideshow": {
     "slide_type": "fragment"
    }
   },
   "outputs": [
    {
     "ename": "TypeError",
     "evalue": "__call__() takes 2 positional arguments but 4 were given",
     "output_type": "error",
     "traceback": [
      "\u001b[1;31m---------------------------------------------------------------------------\u001b[0m",
      "\u001b[1;31mTypeError\u001b[0m                                 Traceback (most recent call last)",
      "\u001b[1;32m<ipython-input-42-c701f5d71043>\u001b[0m in \u001b[0;36m<module>\u001b[1;34m\u001b[0m\n\u001b[0;32m      1\u001b[0m \u001b[1;31m#: indices have to be in a list or array\u001b[0m\u001b[1;33m\u001b[0m\u001b[1;33m\u001b[0m\u001b[1;33m\u001b[0m\u001b[0m\n\u001b[1;32m----> 2\u001b[1;33m \u001b[0mnba\u001b[0m\u001b[1;33m.\u001b[0m\u001b[0mtake\u001b[0m\u001b[1;33m(\u001b[0m\u001b[1;36m0\u001b[0m\u001b[1;33m,\u001b[0m \u001b[1;36m5\u001b[0m\u001b[1;33m,\u001b[0m \u001b[1;36m6\u001b[0m\u001b[1;33m)\u001b[0m\u001b[1;33m\u001b[0m\u001b[1;33m\u001b[0m\u001b[0m\n\u001b[0m",
      "\u001b[1;31mTypeError\u001b[0m: __call__() takes 2 positional arguments but 4 were given"
     ]
    }
   ],
   "source": [
    "#: indices have to be in a list or array\n",
    "nba.take(0, 5, 6)"
   ]
  },
  {
   "cell_type": "markdown",
   "metadata": {
    "slideshow": {
     "slide_type": "slide"
    }
   },
   "source": [
    "## Discuss\n",
    "\n",
    "For columns, we have:\n",
    "\n",
    "- `.select()`: returns a table\n",
    "- `.column()`: returns an array\n",
    "\n",
    "For rows, we just have:\n",
    "\n",
    "- `.take()`: returns a table\n",
    "\n",
    "Why don't we have something that returns a row as an array?"
   ]
  },
  {
   "cell_type": "markdown",
   "metadata": {
    "slideshow": {
     "slide_type": "slide"
    }
   },
   "source": [
    "# Retrieving a row "
   ]
  },
  {
   "cell_type": "code",
   "execution_count": 46,
   "metadata": {},
   "outputs": [
    {
     "data": {
      "text/plain": [
       "Row(PLAYER='Paul Millsap', POSITION='PF', TEAM='Atlanta Hawks', '15-'16 SALARY=18.671659)"
      ]
     },
     "execution_count": 46,
     "metadata": {},
     "output_type": "execute_result"
    }
   ],
   "source": [
    "nba.row(0)"
   ]
  },
  {
   "cell_type": "code",
   "execution_count": 44,
   "metadata": {
    "slideshow": {
     "slide_type": "fragment"
    }
   },
   "outputs": [
    {
     "data": {
      "text/html": [
       "<table border=\"1\" class=\"dataframe\">\n",
       "    <thead>\n",
       "        <tr>\n",
       "            <th>PLAYER</th> <th>POSITION</th> <th>TEAM</th> <th>'15-'16 SALARY</th>\n",
       "        </tr>\n",
       "    </thead>\n",
       "    <tbody>\n",
       "        <tr>\n",
       "            <td>Paul Millsap</td> <td>PF      </td> <td>Atlanta Hawks</td> <td>18.6717       </td>\n",
       "        </tr>\n",
       "    </tbody>\n",
       "</table>"
      ],
      "text/plain": [
       "PLAYER       | POSITION | TEAM          | '15-'16 SALARY\n",
       "Paul Millsap | PF       | Atlanta Hawks | 18.6717"
      ]
     },
     "execution_count": 44,
     "metadata": {},
     "output_type": "execute_result"
    }
   ],
   "source": [
    "#compare to\n",
    "nba.take(0)"
   ]
  },
  {
   "cell_type": "markdown",
   "metadata": {
    "slideshow": {
     "slide_type": "slide"
    }
   },
   "source": [
    "# Retrieving rows conditionally"
   ]
  },
  {
   "cell_type": "markdown",
   "metadata": {
    "slideshow": {
     "slide_type": "-"
    }
   },
   "source": [
    "- We often want to grab a subset of rows *conditionally*, when some condition is satisfied.\n",
    "- Examples:\n",
    "    - All NBA players who make over 20 million / year.\n",
    "    - All point guards (PGs) and centers (Cs).\n",
    "    - Any player with more than 20 letters in their name"
   ]
  },
  {
   "cell_type": "markdown",
   "metadata": {
    "slideshow": {
     "slide_type": "slide"
    }
   },
   "source": [
    "## Predicates\n",
    "\n",
    "- A predicate is a function that returns `True` or `False`.\n",
    "- We use predicates as conditions, keeping only rows that satisfy the condition.\n",
    "- Apply a predicate to each item in a column.\n",
    "    - Keep entries for which it is `True`.\n",
    "    - Discard those for which it is `False`."
   ]
  },
  {
   "cell_type": "markdown",
   "metadata": {
    "slideshow": {
     "slide_type": "slide"
    }
   },
   "source": [
    "## The `.where()` method\n",
    "\n",
    "- Applies a predicate to a column.\n",
    "- Returns a new table containing only the rows where the predicate is `True`.\n",
    "- Many predicates are provided."
   ]
  },
  {
   "cell_type": "code",
   "execution_count": 47,
   "metadata": {},
   "outputs": [
    {
     "data": {
      "text/html": [
       "<table border=\"1\" class=\"dataframe\">\n",
       "    <thead>\n",
       "        <tr>\n",
       "            <th>PLAYER</th> <th>POSITION</th> <th>TEAM</th> <th>'15-'16 SALARY</th>\n",
       "        </tr>\n",
       "    </thead>\n",
       "    <tbody>\n",
       "        <tr>\n",
       "            <td>Joe Johnson    </td> <td>SF      </td> <td>Brooklyn Nets        </td> <td>24.8949       </td>\n",
       "        </tr>\n",
       "        <tr>\n",
       "            <td>Derrick Rose   </td> <td>PG      </td> <td>Chicago Bulls        </td> <td>20.0931       </td>\n",
       "        </tr>\n",
       "        <tr>\n",
       "            <td>LeBron James   </td> <td>SF      </td> <td>Cleveland Cavaliers  </td> <td>22.9705       </td>\n",
       "        </tr>\n",
       "        <tr>\n",
       "            <td>Dwight Howard  </td> <td>C       </td> <td>Houston Rockets      </td> <td>22.3594       </td>\n",
       "        </tr>\n",
       "        <tr>\n",
       "            <td>Chris Paul     </td> <td>PG      </td> <td>Los Angeles Clippers </td> <td>21.4687       </td>\n",
       "        </tr>\n",
       "        <tr>\n",
       "            <td>Kobe Bryant    </td> <td>SF      </td> <td>Los Angeles Lakers   </td> <td>25            </td>\n",
       "        </tr>\n",
       "        <tr>\n",
       "            <td>Chris Bosh     </td> <td>PF      </td> <td>Miami Heat           </td> <td>22.1927       </td>\n",
       "        </tr>\n",
       "        <tr>\n",
       "            <td>Carmelo Anthony</td> <td>SF      </td> <td>New York Knicks      </td> <td>22.875        </td>\n",
       "        </tr>\n",
       "        <tr>\n",
       "            <td>Kevin Durant   </td> <td>SF      </td> <td>Oklahoma City Thunder</td> <td>20.1586       </td>\n",
       "        </tr>\n",
       "    </tbody>\n",
       "</table>"
      ],
      "text/plain": [
       "PLAYER          | POSITION | TEAM                  | '15-'16 SALARY\n",
       "Joe Johnson     | SF       | Brooklyn Nets         | 24.8949\n",
       "Derrick Rose    | PG       | Chicago Bulls         | 20.0931\n",
       "LeBron James    | SF       | Cleveland Cavaliers   | 22.9705\n",
       "Dwight Howard   | C        | Houston Rockets       | 22.3594\n",
       "Chris Paul      | PG       | Los Angeles Clippers  | 21.4687\n",
       "Kobe Bryant     | SF       | Los Angeles Lakers    | 25\n",
       "Chris Bosh      | PF       | Miami Heat            | 22.1927\n",
       "Carmelo Anthony | SF       | New York Knicks       | 22.875\n",
       "Kevin Durant    | SF       | Oklahoma City Thunder | 20.1586"
      ]
     },
     "execution_count": 47,
     "metadata": {},
     "output_type": "execute_result"
    }
   ],
   "source": [
    "nba.where(\"'15-'16 SALARY\", are.above(20))"
   ]
  },
  {
   "cell_type": "markdown",
   "metadata": {
    "slideshow": {
     "slide_type": "slide"
    }
   },
   "source": [
    "## Provided predicates\n",
    "\n",
    "|Predicate|Description|\n",
    "|---------|-----------|\n",
    "|`are.above(y)`|Greater than y|\n",
    "|`are.above_or_equal_to(y)`|Greater than or equal to y|\n",
    "|`are.below(y)`|Less than y|\n",
    "|`are.below_or_equal_to(y)`|Less than or equal to y|\n",
    "|`are.between(y, z)`|Greater than or equal to y and less than z|\n",
    "|`are.between_or_equal_to(y, z)`|Greater than or equal to y and less than or equal to z|\n",
    "|`are.contained_in(superstring)`|A string that is part of the given superstring|\n",
    "|`are.containing(substring)`|A string that contains within it the given substring|\n",
    "|`are.equal_to(y)`|Equal to y|\n",
    "|`are.not_above(y)`|Is not above |\n",
    "|`are.not_above_or_equal_to(y)`|Is neither above y nor equal to |\n",
    "|`are.not_below(y)`|Is not below |\n",
    "|`are.not_below_or_equal_to(y)`|Is neither below y nor equal to |\n",
    "|`are.not_between(y, z)`|Is equal to y or less than y or greater than |\n",
    "|`are.not_between_or_equal_to(y, z)`|Is less than y or greater than |\n",
    "|`are.not_contained_in(superstring)`|A string that is not contained within the superstrin|\n",
    "|`are.not_containing(substring)`|A string that does not contain substrin|\n",
    "|`are.not_equal_to(y)`|Is not equal to |\n",
    "|`are.not_strictly_between(y, z)`|Is equal to y or equal to z or less than y or greater than |\n",
    "|`are.strictly_between(y, z)`|Greater than y and less than z|"
   ]
  },
  {
   "cell_type": "markdown",
   "metadata": {
    "slideshow": {
     "slide_type": "slide"
    }
   },
   "source": [
    "## Example\n",
    "\n",
    "Get LeBron's row."
   ]
  },
  {
   "cell_type": "code",
   "execution_count": 48,
   "metadata": {},
   "outputs": [
    {
     "data": {
      "text/html": [
       "<table border=\"1\" class=\"dataframe\">\n",
       "    <thead>\n",
       "        <tr>\n",
       "            <th>PLAYER</th> <th>POSITION</th> <th>TEAM</th> <th>'15-'16 SALARY</th>\n",
       "        </tr>\n",
       "    </thead>\n",
       "    <tbody>\n",
       "        <tr>\n",
       "            <td>LeBron James</td> <td>SF      </td> <td>Cleveland Cavaliers</td> <td>22.9705       </td>\n",
       "        </tr>\n",
       "    </tbody>\n",
       "</table>"
      ],
      "text/plain": [
       "PLAYER       | POSITION | TEAM                | '15-'16 SALARY\n",
       "LeBron James | SF       | Cleveland Cavaliers | 22.9705"
      ]
     },
     "execution_count": 48,
     "metadata": {},
     "output_type": "execute_result"
    }
   ],
   "source": [
    "nba.where('PLAYER', are.equal_to('LeBron James'))"
   ]
  },
  {
   "cell_type": "markdown",
   "metadata": {
    "slideshow": {
     "slide_type": "fragment"
    }
   },
   "source": [
    "`are.equal_to` is the default behavior:"
   ]
  },
  {
   "cell_type": "code",
   "execution_count": 49,
   "metadata": {},
   "outputs": [
    {
     "data": {
      "text/html": [
       "<table border=\"1\" class=\"dataframe\">\n",
       "    <thead>\n",
       "        <tr>\n",
       "            <th>PLAYER</th> <th>POSITION</th> <th>TEAM</th> <th>'15-'16 SALARY</th>\n",
       "        </tr>\n",
       "    </thead>\n",
       "    <tbody>\n",
       "        <tr>\n",
       "            <td>LeBron James</td> <td>SF      </td> <td>Cleveland Cavaliers</td> <td>22.9705       </td>\n",
       "        </tr>\n",
       "    </tbody>\n",
       "</table>"
      ],
      "text/plain": [
       "PLAYER       | POSITION | TEAM                | '15-'16 SALARY\n",
       "LeBron James | SF       | Cleveland Cavaliers | 22.9705"
      ]
     },
     "execution_count": 49,
     "metadata": {},
     "output_type": "execute_result"
    }
   ],
   "source": [
    "nba.where('PLAYER', 'LeBron James')"
   ]
  },
  {
   "cell_type": "markdown",
   "metadata": {
    "slideshow": {
     "slide_type": "slide"
    }
   },
   "source": [
    "## Example\n",
    "\n",
    "Grab all players with a salary between 5 and 6 million."
   ]
  },
  {
   "cell_type": "code",
   "execution_count": 50,
   "metadata": {},
   "outputs": [
    {
     "data": {
      "text/html": [
       "<table border=\"1\" class=\"dataframe\">\n",
       "    <thead>\n",
       "        <tr>\n",
       "            <th>PLAYER</th> <th>POSITION</th> <th>TEAM</th> <th>'15-'16 SALARY</th>\n",
       "        </tr>\n",
       "    </thead>\n",
       "    <tbody>\n",
       "        <tr>\n",
       "            <td>Kyle Korver     </td> <td>SG      </td> <td>Atlanta Hawks        </td> <td>5.74648       </td>\n",
       "        </tr>\n",
       "        <tr>\n",
       "            <td>Jonas Jerebko   </td> <td>PF      </td> <td>Boston Celtics       </td> <td>5             </td>\n",
       "        </tr>\n",
       "        <tr>\n",
       "            <td>Courtney Lee    </td> <td>SG      </td> <td>Charlotte Hornets    </td> <td>5.675         </td>\n",
       "        </tr>\n",
       "        <tr>\n",
       "            <td>Nikola Mirotic  </td> <td>PF      </td> <td>Chicago Bulls        </td> <td>5.54373       </td>\n",
       "        </tr>\n",
       "        <tr>\n",
       "            <td>Deron Williams  </td> <td>PG      </td> <td>Dallas Mavericks     </td> <td>5.37897       </td>\n",
       "        </tr>\n",
       "        <tr>\n",
       "            <td>Zaza Pachulia   </td> <td>C       </td> <td>Dallas Mavericks     </td> <td>5.2           </td>\n",
       "        </tr>\n",
       "        <tr>\n",
       "            <td>JJ Hickson      </td> <td>C       </td> <td>Denver Nuggets       </td> <td>5.6135        </td>\n",
       "        </tr>\n",
       "        <tr>\n",
       "            <td>Shaun Livingston</td> <td>PG      </td> <td>Golden State Warriors</td> <td>5.54373       </td>\n",
       "        </tr>\n",
       "        <tr>\n",
       "            <td>Chase Budinger  </td> <td>SF      </td> <td>Indiana Pacers       </td> <td>5             </td>\n",
       "        </tr>\n",
       "        <tr>\n",
       "            <td>Jamal Crawford  </td> <td>SG      </td> <td>Los Angeles Clippers </td> <td>5.675         </td>\n",
       "        </tr>\n",
       "    </tbody>\n",
       "</table>\n",
       "<p>... (18 rows omitted)</p>"
      ],
      "text/plain": [
       "PLAYER           | POSITION | TEAM                  | '15-'16 SALARY\n",
       "Kyle Korver      | SG       | Atlanta Hawks         | 5.74648\n",
       "Jonas Jerebko    | PF       | Boston Celtics        | 5\n",
       "Courtney Lee     | SG       | Charlotte Hornets     | 5.675\n",
       "Nikola Mirotic   | PF       | Chicago Bulls         | 5.54373\n",
       "Deron Williams   | PG       | Dallas Mavericks      | 5.37897\n",
       "Zaza Pachulia    | C        | Dallas Mavericks      | 5.2\n",
       "JJ Hickson       | C        | Denver Nuggets        | 5.6135\n",
       "Shaun Livingston | PG       | Golden State Warriors | 5.54373\n",
       "Chase Budinger   | SF       | Indiana Pacers        | 5\n",
       "Jamal Crawford   | SG       | Los Angeles Clippers  | 5.675\n",
       "... (18 rows omitted)"
      ]
     },
     "execution_count": 50,
     "metadata": {},
     "output_type": "execute_result"
    }
   ],
   "source": [
    "nba.where(\"'15-'16 SALARY\", are.between(5, 6))"
   ]
  },
  {
   "cell_type": "markdown",
   "metadata": {
    "slideshow": {
     "slide_type": "slide"
    }
   },
   "source": [
    "## Example\n",
    "\n",
    "Grab all of the players from Los Angeles ."
   ]
  },
  {
   "cell_type": "code",
   "execution_count": 53,
   "metadata": {},
   "outputs": [
    {
     "data": {
      "text/html": [
       "<table border=\"1\" class=\"dataframe\">\n",
       "    <thead>\n",
       "        <tr>\n",
       "            <th>PLAYER</th> <th>POSITION</th> <th>TEAM</th> <th>'15-'16 SALARY</th>\n",
       "        </tr>\n",
       "    </thead>\n",
       "    <tbody>\n",
       "        <tr>\n",
       "            <td>Chris Paul     </td> <td>PG      </td> <td>Los Angeles Clippers</td> <td>21.4687       </td>\n",
       "        </tr>\n",
       "        <tr>\n",
       "            <td>Blake Griffin  </td> <td>PF      </td> <td>Los Angeles Clippers</td> <td>18.9077       </td>\n",
       "        </tr>\n",
       "        <tr>\n",
       "            <td>J.J. Redick    </td> <td>SG      </td> <td>Los Angeles Clippers</td> <td>7.085         </td>\n",
       "        </tr>\n",
       "        <tr>\n",
       "            <td>Jamal Crawford </td> <td>SG      </td> <td>Los Angeles Clippers</td> <td>5.675         </td>\n",
       "        </tr>\n",
       "        <tr>\n",
       "            <td>Paul Pierce    </td> <td>SF      </td> <td>Los Angeles Clippers</td> <td>3.376         </td>\n",
       "        </tr>\n",
       "        <tr>\n",
       "            <td>Austin Rivers  </td> <td>PG      </td> <td>Los Angeles Clippers</td> <td>3.1108        </td>\n",
       "        </tr>\n",
       "        <tr>\n",
       "            <td>C.J. Wilcox    </td> <td>SG      </td> <td>Los Angeles Clippers</td> <td>1.15968       </td>\n",
       "        </tr>\n",
       "        <tr>\n",
       "            <td>Cole Aldrich   </td> <td>C       </td> <td>Los Angeles Clippers</td> <td>1.1006        </td>\n",
       "        </tr>\n",
       "        <tr>\n",
       "            <td>Wesley Johnson </td> <td>SF      </td> <td>Los Angeles Clippers</td> <td>1.1006        </td>\n",
       "        </tr>\n",
       "        <tr>\n",
       "            <td>Jordan Hamilton</td> <td>SG      </td> <td>Los Angeles Clippers</td> <td>1.01542       </td>\n",
       "        </tr>\n",
       "        <tr>\n",
       "            <td>Lester Hudson  </td> <td>SG      </td> <td>Los Angeles Clippers</td> <td>1.01542       </td>\n",
       "        </tr>\n",
       "        <tr>\n",
       "            <td>Pablo Prigioni </td> <td>PG      </td> <td>Los Angeles Clippers</td> <td>0.947726      </td>\n",
       "        </tr>\n",
       "        <tr>\n",
       "            <td>Jeff Ayres     </td> <td>PF      </td> <td>Los Angeles Clippers</td> <td>0.111444      </td>\n",
       "        </tr>\n",
       "        <tr>\n",
       "            <td>Kobe Bryant    </td> <td>SF      </td> <td>Los Angeles Lakers  </td> <td>25            </td>\n",
       "        </tr>\n",
       "        <tr>\n",
       "            <td>Roy Hibbert    </td> <td>C       </td> <td>Los Angeles Lakers  </td> <td>15.5922       </td>\n",
       "        </tr>\n",
       "    </tbody>\n",
       "</table>\n",
       "<p>... (9 rows omitted)</p>"
      ],
      "text/plain": [
       "<IPython.core.display.HTML object>"
      ]
     },
     "metadata": {},
     "output_type": "display_data"
    }
   ],
   "source": [
    "nba.where('TEAM', are.containing('Los Angeles')).show(15)"
   ]
  },
  {
   "cell_type": "markdown",
   "metadata": {
    "slideshow": {
     "slide_type": "slide"
    }
   },
   "source": [
    "## Example\n",
    "\n",
    "Find all teammates of LeBron James."
   ]
  },
  {
   "cell_type": "code",
   "execution_count": 59,
   "metadata": {},
   "outputs": [
    {
     "data": {
      "text/html": [
       "<table border=\"1\" class=\"dataframe\">\n",
       "    <thead>\n",
       "        <tr>\n",
       "            <th>PLAYER</th> <th>POSITION</th> <th>TEAM</th> <th>'15-'16 SALARY</th>\n",
       "        </tr>\n",
       "    </thead>\n",
       "    <tbody>\n",
       "        <tr>\n",
       "            <td>Kevin Love         </td> <td>PF      </td> <td>Cleveland Cavaliers</td> <td>19.689        </td>\n",
       "        </tr>\n",
       "        <tr>\n",
       "            <td>Kyrie Irving       </td> <td>PG      </td> <td>Cleveland Cavaliers</td> <td>16.4075       </td>\n",
       "        </tr>\n",
       "        <tr>\n",
       "            <td>Tristan Thompson   </td> <td>C       </td> <td>Cleveland Cavaliers</td> <td>14.2609       </td>\n",
       "        </tr>\n",
       "        <tr>\n",
       "            <td>Brendan Haywood    </td> <td>C       </td> <td>Cleveland Cavaliers</td> <td>10.5225       </td>\n",
       "        </tr>\n",
       "        <tr>\n",
       "            <td>Iman Shumpert      </td> <td>SG      </td> <td>Cleveland Cavaliers</td> <td>8.98876       </td>\n",
       "        </tr>\n",
       "        <tr>\n",
       "            <td>Timofey Mozgov     </td> <td>C       </td> <td>Cleveland Cavaliers</td> <td>4.95          </td>\n",
       "        </tr>\n",
       "        <tr>\n",
       "            <td>Mo Williams        </td> <td>PG      </td> <td>Cleveland Cavaliers</td> <td>2.1           </td>\n",
       "        </tr>\n",
       "        <tr>\n",
       "            <td>Sasha Kaun         </td> <td>C       </td> <td>Cleveland Cavaliers</td> <td>1.276         </td>\n",
       "        </tr>\n",
       "        <tr>\n",
       "            <td>Matthew Dellavedova</td> <td>PG      </td> <td>Cleveland Cavaliers</td> <td>1.14728       </td>\n",
       "        </tr>\n",
       "    </tbody>\n",
       "</table>"
      ],
      "text/plain": [
       "PLAYER              | POSITION | TEAM                | '15-'16 SALARY\n",
       "Kevin Love          | PF       | Cleveland Cavaliers | 19.689\n",
       "Kyrie Irving        | PG       | Cleveland Cavaliers | 16.4075\n",
       "Tristan Thompson    | C        | Cleveland Cavaliers | 14.2609\n",
       "Brendan Haywood     | C        | Cleveland Cavaliers | 10.5225\n",
       "Iman Shumpert       | SG       | Cleveland Cavaliers | 8.98876\n",
       "Timofey Mozgov      | C        | Cleveland Cavaliers | 4.95\n",
       "Mo Williams         | PG       | Cleveland Cavaliers | 2.1\n",
       "Sasha Kaun          | C        | Cleveland Cavaliers | 1.276\n",
       "Matthew Dellavedova | PG       | Cleveland Cavaliers | 1.14728"
      ]
     },
     "execution_count": 59,
     "metadata": {},
     "output_type": "execute_result"
    }
   ],
   "source": [
    "lebron = nba.where('PLAYER', 'LeBron James')# make table with just LeBron's row\n",
    "team = lebron.column('TEAM').item(0)# extract his team name\n",
    "lebrons_teammates = nba.where('TEAM', team).where('PLAYER', are.not_equal_to('LeBron James'))\n",
    "lebrons_teammates  # make table with just his teammates"
   ]
  },
  {
   "cell_type": "markdown",
   "metadata": {
    "slideshow": {
     "slide_type": "slide"
    }
   },
   "source": [
    "## Example\n",
    "\n",
    "Create an array containing the names of all point guards (PG) who made more than 15 million dollars.\n"
   ]
  },
  {
   "cell_type": "code",
   "execution_count": 63,
   "metadata": {},
   "outputs": [
    {
     "data": {
      "text/html": [
       "<table border=\"1\" class=\"dataframe\">\n",
       "    <thead>\n",
       "        <tr>\n",
       "            <th>PLAYER</th> <th>POSITION</th> <th>TEAM</th> <th>'15-'16 SALARY</th>\n",
       "        </tr>\n",
       "    </thead>\n",
       "    <tbody>\n",
       "        <tr>\n",
       "            <td>Derrick Rose     </td> <td>PG      </td> <td>Chicago Bulls        </td> <td>20.0931       </td>\n",
       "        </tr>\n",
       "        <tr>\n",
       "            <td>Kyrie Irving     </td> <td>PG      </td> <td>Cleveland Cavaliers  </td> <td>16.4075       </td>\n",
       "        </tr>\n",
       "        <tr>\n",
       "            <td>Chris Paul       </td> <td>PG      </td> <td>Los Angeles Clippers </td> <td>21.4687       </td>\n",
       "        </tr>\n",
       "        <tr>\n",
       "            <td>Russell Westbrook</td> <td>PG      </td> <td>Oklahoma City Thunder</td> <td>16.7442       </td>\n",
       "        </tr>\n",
       "        <tr>\n",
       "            <td>John Wall        </td> <td>PG      </td> <td>Washington Wizards   </td> <td>15.852        </td>\n",
       "        </tr>\n",
       "    </tbody>\n",
       "</table>"
      ],
      "text/plain": [
       "PLAYER            | POSITION | TEAM                  | '15-'16 SALARY\n",
       "Derrick Rose      | PG       | Chicago Bulls         | 20.0931\n",
       "Kyrie Irving      | PG       | Cleveland Cavaliers   | 16.4075\n",
       "Chris Paul        | PG       | Los Angeles Clippers  | 21.4687\n",
       "Russell Westbrook | PG       | Oklahoma City Thunder | 16.7442\n",
       "John Wall         | PG       | Washington Wizards    | 15.852"
      ]
     },
     "execution_count": 63,
     "metadata": {},
     "output_type": "execute_result"
    }
   ],
   "source": [
    "nba.where(3, are.above(15)).where('POSITION', 'PG')"
   ]
  },
  {
   "cell_type": "markdown",
   "metadata": {
    "slideshow": {
     "slide_type": "slide"
    }
   },
   "source": [
    "## Predicates are functions!"
   ]
  },
  {
   "cell_type": "code",
   "execution_count": 64,
   "metadata": {},
   "outputs": [],
   "source": [
    "# this creates a new function, f\n",
    "f = are.above(30)"
   ]
  },
  {
   "cell_type": "code",
   "execution_count": 65,
   "metadata": {},
   "outputs": [
    {
     "data": {
      "text/plain": [
       "True"
      ]
     },
     "execution_count": 65,
     "metadata": {},
     "output_type": "execute_result"
    }
   ],
   "source": [
    "f(31)"
   ]
  },
  {
   "cell_type": "code",
   "execution_count": 66,
   "metadata": {},
   "outputs": [
    {
     "data": {
      "text/plain": [
       "False"
      ]
     },
     "execution_count": 66,
     "metadata": {},
     "output_type": "execute_result"
    }
   ],
   "source": [
    "f(29)"
   ]
  },
  {
   "cell_type": "markdown",
   "metadata": {
    "slideshow": {
     "slide_type": "slide"
    }
   },
   "source": [
    "## Looking ahead: creating own predicates"
   ]
  },
  {
   "cell_type": "markdown",
   "metadata": {},
   "source": [
    "In Python, as in most languages, you can create your own functions."
   ]
  },
  {
   "cell_type": "code",
   "execution_count": 67,
   "metadata": {},
   "outputs": [],
   "source": [
    "#: we can define our own predicates...\n",
    "def name_is_20_or_more_letters(name):\n",
    "    return len(name) >= 20"
   ]
  },
  {
   "cell_type": "code",
   "execution_count": 68,
   "metadata": {},
   "outputs": [
    {
     "data": {
      "text/html": [
       "<table border=\"1\" class=\"dataframe\">\n",
       "    <thead>\n",
       "        <tr>\n",
       "            <th>PLAYER</th> <th>POSITION</th> <th>TEAM</th> <th>'15-'16 SALARY</th>\n",
       "        </tr>\n",
       "    </thead>\n",
       "    <tbody>\n",
       "        <tr>\n",
       "            <td>Rondae Hollis-Jefferson </td> <td>SG      </td> <td>Brooklyn Nets    </td> <td>1.33548       </td>\n",
       "        </tr>\n",
       "        <tr>\n",
       "            <td>Michael Kidd-Gilchrist  </td> <td>SF      </td> <td>Charlotte Hornets</td> <td>6.3314        </td>\n",
       "        </tr>\n",
       "        <tr>\n",
       "            <td>Kentavious Caldwell-Pope</td> <td>SG      </td> <td>Detroit Pistons  </td> <td>2.89176       </td>\n",
       "        </tr>\n",
       "        <tr>\n",
       "            <td>Michael Carter-Williams </td> <td>PG      </td> <td>Milwaukee Bucks  </td> <td>2.39904       </td>\n",
       "        </tr>\n",
       "        <tr>\n",
       "            <td>Giannis Antetokounmpo   </td> <td>SF      </td> <td>Milwaukee Bucks  </td> <td>1.95396       </td>\n",
       "        </tr>\n",
       "        <tr>\n",
       "            <td>Thanasis Antetokounmpo  </td> <td>SF      </td> <td>New York Knicks  </td> <td>0.030888      </td>\n",
       "        </tr>\n",
       "    </tbody>\n",
       "</table>"
      ],
      "text/plain": [
       "PLAYER                   | POSITION | TEAM              | '15-'16 SALARY\n",
       "Rondae Hollis-Jefferson  | SG       | Brooklyn Nets     | 1.33548\n",
       "Michael Kidd-Gilchrist   | SF       | Charlotte Hornets | 6.3314\n",
       "Kentavious Caldwell-Pope | SG       | Detroit Pistons   | 2.89176\n",
       "Michael Carter-Williams  | PG       | Milwaukee Bucks   | 2.39904\n",
       "Giannis Antetokounmpo    | SF       | Milwaukee Bucks   | 1.95396\n",
       "Thanasis Antetokounmpo   | SF       | New York Knicks   | 0.030888"
      ]
     },
     "execution_count": 68,
     "metadata": {},
     "output_type": "execute_result"
    }
   ],
   "source": [
    "nba.where('PLAYER', name_is_20_or_more_letters)"
   ]
  },
  {
   "cell_type": "markdown",
   "metadata": {
    "slideshow": {
     "slide_type": "slide"
    }
   },
   "source": [
    "# Discussion Question\n",
    "\n",
    "`.with_row()` works like `.with_column()`, except you give a *list* of row entries. \n",
    "\n",
    "The table `nba` has columns `PLAYER`, `POSITION`, `TEAM`, `SALARY`. What is the output when we execute a cell containing these two lines of code?\n",
    "\n",
    "```\n",
    "nba.with_row(['Jazz Bear', 'Mascot', 'Utah Jazz', 100])\n",
    "nba.where('PLAYER', are.containing('Bear'))\n",
    "```\n",
    "\n",
    "A. A table with one row for Jazz Bear  \n",
    "B. An empty table with no rows  \n",
    "C. An error message"
   ]
  },
  {
   "cell_type": "code",
   "execution_count": 70,
   "metadata": {
    "slideshow": {
     "slide_type": "slide"
    }
   },
   "outputs": [
    {
     "data": {
      "text/html": [
       "<table border=\"1\" class=\"dataframe\">\n",
       "    <thead>\n",
       "        <tr>\n",
       "            <th>PLAYER</th> <th>POSITION</th> <th>TEAM</th> <th>'15-'16 SALARY</th>\n",
       "        </tr>\n",
       "    </thead>\n",
       "    <tbody>\n",
       "        <tr>\n",
       "            <td>Jazz Bear</td> <td>Mascot  </td> <td>Utah Jazz</td> <td>100           </td>\n",
       "        </tr>\n",
       "    </tbody>\n",
       "</table>"
      ],
      "text/plain": [
       "PLAYER    | POSITION | TEAM      | '15-'16 SALARY\n",
       "Jazz Bear | Mascot   | Utah Jazz | 100"
      ]
     },
     "execution_count": 70,
     "metadata": {},
     "output_type": "execute_result"
    }
   ],
   "source": [
    "nba = nba.with_row(['Jazz Bear', 'Mascot', 'Utah Jazz', 100])\n",
    "nba.where('PLAYER', are.containing('Bear'))"
   ]
  },
  {
   "cell_type": "markdown",
   "metadata": {
    "slideshow": {
     "slide_type": "slide"
    }
   },
   "source": [
    "<center><img src=\"summary2.png\"  width=\"800\"/></center>"
   ]
  },
  {
   "cell_type": "markdown",
   "metadata": {
    "slideshow": {
     "slide_type": "slide"
    }
   },
   "source": [
    "# Practice: Census data\n",
    "\n",
    "- Every ten years, the U.S. Census Bureau counts the number of people in the U.S.\n",
    "- On other years, the bureau *estimates* the population\n",
    "- Data is published online"
   ]
  },
  {
   "cell_type": "code",
   "execution_count": 72,
   "metadata": {},
   "outputs": [
    {
     "data": {
      "text/html": [
       "<table border=\"1\" class=\"dataframe\">\n",
       "    <thead>\n",
       "        <tr>\n",
       "            <th>SEX</th> <th>AGE</th> <th>CENSUS2010POP</th> <th>ESTIMATESBASE2010</th> <th>POPESTIMATE2010</th> <th>POPESTIMATE2011</th> <th>POPESTIMATE2012</th> <th>POPESTIMATE2013</th> <th>POPESTIMATE2014</th> <th>POPESTIMATE2015</th>\n",
       "        </tr>\n",
       "    </thead>\n",
       "    <tbody>\n",
       "        <tr>\n",
       "            <td>0   </td> <td>0   </td> <td>3944153      </td> <td>3944160          </td> <td>3951330        </td> <td>3963087        </td> <td>3926540        </td> <td>3931141        </td> <td>3949775        </td> <td>3978038        </td>\n",
       "        </tr>\n",
       "        <tr>\n",
       "            <td>0   </td> <td>1   </td> <td>3978070      </td> <td>3978090          </td> <td>3957888        </td> <td>3966551        </td> <td>3977939        </td> <td>3942872        </td> <td>3949776        </td> <td>3968564        </td>\n",
       "        </tr>\n",
       "        <tr>\n",
       "            <td>0   </td> <td>2   </td> <td>4096929      </td> <td>4096939          </td> <td>4090862        </td> <td>3971565        </td> <td>3980095        </td> <td>3992720        </td> <td>3959664        </td> <td>3966583        </td>\n",
       "        </tr>\n",
       "        <tr>\n",
       "            <td>0   </td> <td>3   </td> <td>4119040      </td> <td>4119051          </td> <td>4111920        </td> <td>4102470        </td> <td>3983157        </td> <td>3992734        </td> <td>4007079        </td> <td>3974061        </td>\n",
       "        </tr>\n",
       "        <tr>\n",
       "            <td>0   </td> <td>4   </td> <td>4063170      </td> <td>4063186          </td> <td>4077551        </td> <td>4122294        </td> <td>4112849        </td> <td>3994449        </td> <td>4005716        </td> <td>4020035        </td>\n",
       "        </tr>\n",
       "        <tr>\n",
       "            <td>0   </td> <td>5   </td> <td>4056858      </td> <td>4056872          </td> <td>4064653        </td> <td>4087709        </td> <td>4132242        </td> <td>4123626        </td> <td>4006900        </td> <td>4018158        </td>\n",
       "        </tr>\n",
       "        <tr>\n",
       "            <td>0   </td> <td>6   </td> <td>4066381      </td> <td>4066412          </td> <td>4073013        </td> <td>4074993        </td> <td>4097605        </td> <td>4142916        </td> <td>4135930        </td> <td>4019207        </td>\n",
       "        </tr>\n",
       "        <tr>\n",
       "            <td>0   </td> <td>7   </td> <td>4030579      </td> <td>4030594          </td> <td>4043046        </td> <td>4083225        </td> <td>4084913        </td> <td>4108349        </td> <td>4155326        </td> <td>4148360        </td>\n",
       "        </tr>\n",
       "        <tr>\n",
       "            <td>0   </td> <td>8   </td> <td>4046486      </td> <td>4046497          </td> <td>4025604        </td> <td>4053203        </td> <td>4093177        </td> <td>4095711        </td> <td>4120903        </td> <td>4167887        </td>\n",
       "        </tr>\n",
       "        <tr>\n",
       "            <td>0   </td> <td>9   </td> <td>4148353      </td> <td>4148369          </td> <td>4125415        </td> <td>4035710        </td> <td>4063152        </td> <td>4104072        </td> <td>4108349        </td> <td>4133564        </td>\n",
       "        </tr>\n",
       "    </tbody>\n",
       "</table>\n",
       "<p>... (296 rows omitted)</p>"
      ],
      "text/plain": [
       "SEX  | AGE  | CENSUS2010POP | ESTIMATESBASE2010 | POPESTIMATE2010 | POPESTIMATE2011 | POPESTIMATE2012 | POPESTIMATE2013 | POPESTIMATE2014 | POPESTIMATE2015\n",
       "0    | 0    | 3944153       | 3944160           | 3951330         | 3963087         | 3926540         | 3931141         | 3949775         | 3978038\n",
       "0    | 1    | 3978070       | 3978090           | 3957888         | 3966551         | 3977939         | 3942872         | 3949776         | 3968564\n",
       "0    | 2    | 4096929       | 4096939           | 4090862         | 3971565         | 3980095         | 3992720         | 3959664         | 3966583\n",
       "0    | 3    | 4119040       | 4119051           | 4111920         | 4102470         | 3983157         | 3992734         | 4007079         | 3974061\n",
       "0    | 4    | 4063170       | 4063186           | 4077551         | 4122294         | 4112849         | 3994449         | 4005716         | 4020035\n",
       "0    | 5    | 4056858       | 4056872           | 4064653         | 4087709         | 4132242         | 4123626         | 4006900         | 4018158\n",
       "0    | 6    | 4066381       | 4066412           | 4073013         | 4074993         | 4097605         | 4142916         | 4135930         | 4019207\n",
       "0    | 7    | 4030579       | 4030594           | 4043046         | 4083225         | 4084913         | 4108349         | 4155326         | 4148360\n",
       "0    | 8    | 4046486       | 4046497           | 4025604         | 4053203         | 4093177         | 4095711         | 4120903         | 4167887\n",
       "0    | 9    | 4148353       | 4148369           | 4125415         | 4035710         | 4063152         | 4104072         | 4108349         | 4133564\n",
       "... (296 rows omitted)"
      ]
     },
     "execution_count": 72,
     "metadata": {},
     "output_type": "execute_result"
    }
   ],
   "source": [
    "census = Table.read_table('census.csv')\n",
    "census"
   ]
  },
  {
   "cell_type": "markdown",
   "metadata": {
    "slideshow": {
     "slide_type": "slide"
    }
   },
   "source": [
    "## What do we have?\n",
    "\n",
    "A description of the dataset is available at [census.gov](https://www2.census.gov/programs-surveys/popest/datasets/2010-2015/national/asrh/nc-est2015-agesex-res.pdf)."
   ]
  },
  {
   "cell_type": "markdown",
   "metadata": {
    "slideshow": {
     "slide_type": "fragment"
    }
   },
   "source": [
    "Unfortunately...\n",
    "\n",
    "<center>\n",
    "<img src=\"./moved.png\" width=50%>\n",
    "</center>"
   ]
  },
  {
   "cell_type": "markdown",
   "metadata": {
    "slideshow": {
     "slide_type": "slide"
    }
   },
   "source": [
    "## What are the column labels?"
   ]
  },
  {
   "cell_type": "code",
   "execution_count": 73,
   "metadata": {},
   "outputs": [
    {
     "data": {
      "text/plain": [
       "('SEX',\n",
       " 'AGE',\n",
       " 'CENSUS2010POP',\n",
       " 'ESTIMATESBASE2010',\n",
       " 'POPESTIMATE2010',\n",
       " 'POPESTIMATE2011',\n",
       " 'POPESTIMATE2012',\n",
       " 'POPESTIMATE2013',\n",
       " 'POPESTIMATE2014',\n",
       " 'POPESTIMATE2015')"
      ]
     },
     "execution_count": 73,
     "metadata": {},
     "output_type": "execute_result"
    }
   ],
   "source": [
    "census.labels"
   ]
  },
  {
   "cell_type": "markdown",
   "metadata": {
    "slideshow": {
     "slide_type": "slide"
    }
   },
   "source": [
    "## What values occur in each column?\n",
    "\n",
    "Use `np.unique` to get the unique values."
   ]
  },
  {
   "cell_type": "code",
   "execution_count": 74,
   "metadata": {},
   "outputs": [
    {
     "data": {
      "text/plain": [
       "array([  0,   1,   2,   3,   4,   5,   6,   7,   8,   9,  10,  11,  12,\n",
       "        13,  14,  15,  16,  17,  18,  19,  20,  21,  22,  23,  24,  25,\n",
       "        26,  27,  28,  29,  30,  31,  32,  33,  34,  35,  36,  37,  38,\n",
       "        39,  40,  41,  42,  43,  44,  45,  46,  47,  48,  49,  50,  51,\n",
       "        52,  53,  54,  55,  56,  57,  58,  59,  60,  61,  62,  63,  64,\n",
       "        65,  66,  67,  68,  69,  70,  71,  72,  73,  74,  75,  76,  77,\n",
       "        78,  79,  80,  81,  82,  83,  84,  85,  86,  87,  88,  89,  90,\n",
       "        91,  92,  93,  94,  95,  96,  97,  98,  99, 100, 999])"
      ]
     },
     "execution_count": 74,
     "metadata": {},
     "output_type": "execute_result"
    }
   ],
   "source": [
    "# what ages occur in the data?\n",
    "np.unique(census.column('AGE'))"
   ]
  },
  {
   "cell_type": "markdown",
   "metadata": {
    "slideshow": {
     "slide_type": "fragment"
    }
   },
   "source": [
    "Wait, `999`?"
   ]
  },
  {
   "cell_type": "markdown",
   "metadata": {
    "slideshow": {
     "slide_type": "slide"
    }
   },
   "source": [
    "## What is `999` used for?"
   ]
  },
  {
   "cell_type": "code",
   "execution_count": 75,
   "metadata": {},
   "outputs": [
    {
     "data": {
      "text/html": [
       "<table border=\"1\" class=\"dataframe\">\n",
       "    <thead>\n",
       "        <tr>\n",
       "            <th>SEX</th> <th>AGE</th> <th>CENSUS2010POP</th> <th>ESTIMATESBASE2010</th> <th>POPESTIMATE2010</th> <th>POPESTIMATE2011</th> <th>POPESTIMATE2012</th> <th>POPESTIMATE2013</th> <th>POPESTIMATE2014</th> <th>POPESTIMATE2015</th>\n",
       "        </tr>\n",
       "    </thead>\n",
       "    <tbody>\n",
       "        <tr>\n",
       "            <td>0   </td> <td>999 </td> <td>308745538    </td> <td>308758105        </td> <td>309346863      </td> <td>311718857      </td> <td>314102623      </td> <td>316427395      </td> <td>318907401      </td> <td>321418820      </td>\n",
       "        </tr>\n",
       "        <tr>\n",
       "            <td>1   </td> <td>999 </td> <td>151781326    </td> <td>151788777        </td> <td>152088043      </td> <td>153291772      </td> <td>154521077      </td> <td>155706770      </td> <td>156955337      </td> <td>158229297      </td>\n",
       "        </tr>\n",
       "        <tr>\n",
       "            <td>2   </td> <td>999 </td> <td>156964212    </td> <td>156969328        </td> <td>157258820      </td> <td>158427085      </td> <td>159581546      </td> <td>160720625      </td> <td>161952064      </td> <td>163189523      </td>\n",
       "        </tr>\n",
       "    </tbody>\n",
       "</table>"
      ],
      "text/plain": [
       "SEX  | AGE  | CENSUS2010POP | ESTIMATESBASE2010 | POPESTIMATE2010 | POPESTIMATE2011 | POPESTIMATE2012 | POPESTIMATE2013 | POPESTIMATE2014 | POPESTIMATE2015\n",
       "0    | 999  | 308745538     | 308758105         | 309346863       | 311718857       | 314102623       | 316427395       | 318907401       | 321418820\n",
       "1    | 999  | 151781326     | 151788777         | 152088043       | 153291772       | 154521077       | 155706770       | 156955337       | 158229297\n",
       "2    | 999  | 156964212     | 156969328         | 157258820       | 158427085       | 159581546       | 160720625       | 161952064       | 163189523"
      ]
     },
     "execution_count": 75,
     "metadata": {},
     "output_type": "execute_result"
    }
   ],
   "source": [
    "census.where('AGE', 999)"
   ]
  },
  {
   "cell_type": "markdown",
   "metadata": {
    "slideshow": {
     "slide_type": "fragment"
    }
   },
   "source": [
    "- It looks like `999` means *all ages together*.\n",
    "- Similarly, a `SEX` of `0` means *all sexes together*."
   ]
  },
  {
   "cell_type": "markdown",
   "metadata": {
    "slideshow": {
     "slide_type": "slide"
    }
   },
   "source": [
    "## Discuss\n",
    "\n",
    "Using the data alone, how might we make an educated guess as to which value of `SEX` means \"male\" and which means \"female\"?"
   ]
  },
  {
   "cell_type": "code",
   "execution_count": 76,
   "metadata": {},
   "outputs": [
    {
     "data": {
      "text/html": [
       "<table border=\"1\" class=\"dataframe\">\n",
       "    <thead>\n",
       "        <tr>\n",
       "            <th>SEX</th> <th>AGE</th> <th>CENSUS2010POP</th> <th>ESTIMATESBASE2010</th> <th>POPESTIMATE2010</th> <th>POPESTIMATE2011</th> <th>POPESTIMATE2012</th> <th>POPESTIMATE2013</th> <th>POPESTIMATE2014</th> <th>POPESTIMATE2015</th>\n",
       "        </tr>\n",
       "    </thead>\n",
       "    <tbody>\n",
       "        <tr>\n",
       "            <td>0   </td> <td>87  </td> <td>712908       </td> <td>713046           </td> <td>721196         </td> <td>741551         </td> <td>756097         </td> <td>751513         </td> <td>768676         </td> <td>774639         </td>\n",
       "        </tr>\n",
       "        <tr>\n",
       "            <td>1   </td> <td>87  </td> <td>249803       </td> <td>249840           </td> <td>253621         </td> <td>261735         </td> <td>269496         </td> <td>272275         </td> <td>282423         </td> <td>287383         </td>\n",
       "        </tr>\n",
       "        <tr>\n",
       "            <td>2   </td> <td>87  </td> <td>463105       </td> <td>463206           </td> <td>467575         </td> <td>479816         </td> <td>486601         </td> <td>479238         </td> <td>486253         </td> <td>487256         </td>\n",
       "        </tr>\n",
       "    </tbody>\n",
       "</table>"
      ],
      "text/plain": [
       "SEX  | AGE  | CENSUS2010POP | ESTIMATESBASE2010 | POPESTIMATE2010 | POPESTIMATE2011 | POPESTIMATE2012 | POPESTIMATE2013 | POPESTIMATE2014 | POPESTIMATE2015\n",
       "0    | 87   | 712908        | 713046            | 721196          | 741551          | 756097          | 751513          | 768676          | 774639\n",
       "1    | 87   | 249803        | 249840            | 253621          | 261735          | 269496          | 272275          | 282423          | 287383\n",
       "2    | 87   | 463105        | 463206            | 467575          | 479816          | 486601          | 479238          | 486253          | 487256"
      ]
     },
     "execution_count": 76,
     "metadata": {},
     "output_type": "execute_result"
    }
   ],
   "source": [
    "census.where('AGE', 87)"
   ]
  },
  {
   "cell_type": "markdown",
   "metadata": {
    "slideshow": {
     "slide_type": "fragment"
    }
   },
   "source": [
    "- Women tend to live longer. This suggests that `1` is \"male\" and `2` is \"female\"."
   ]
  },
  {
   "cell_type": "markdown",
   "metadata": {
    "slideshow": {
     "slide_type": "slide"
    }
   },
   "source": [
    "## Analyzing population trends\n",
    "\n",
    "Let's look at how the population changed between 2010 and 2015."
   ]
  },
  {
   "cell_type": "code",
   "execution_count": 77,
   "metadata": {},
   "outputs": [],
   "source": [
    "# we only need a few columns\n",
    "us_pop = census.select('SEX', 'AGE', 'POPESTIMATE2010', 'POPESTIMATE2015')"
   ]
  },
  {
   "cell_type": "code",
   "execution_count": 78,
   "metadata": {},
   "outputs": [
    {
     "data": {
      "text/html": [
       "<table border=\"1\" class=\"dataframe\">\n",
       "    <thead>\n",
       "        <tr>\n",
       "            <th>SEX</th> <th>AGE</th> <th>2010</th> <th>2015</th>\n",
       "        </tr>\n",
       "    </thead>\n",
       "    <tbody>\n",
       "        <tr>\n",
       "            <td>0   </td> <td>0   </td> <td>3951330</td> <td>3978038</td>\n",
       "        </tr>\n",
       "        <tr>\n",
       "            <td>0   </td> <td>1   </td> <td>3957888</td> <td>3968564</td>\n",
       "        </tr>\n",
       "        <tr>\n",
       "            <td>0   </td> <td>2   </td> <td>4090862</td> <td>3966583</td>\n",
       "        </tr>\n",
       "        <tr>\n",
       "            <td>0   </td> <td>3   </td> <td>4111920</td> <td>3974061</td>\n",
       "        </tr>\n",
       "        <tr>\n",
       "            <td>0   </td> <td>4   </td> <td>4077551</td> <td>4020035</td>\n",
       "        </tr>\n",
       "        <tr>\n",
       "            <td>0   </td> <td>5   </td> <td>4064653</td> <td>4018158</td>\n",
       "        </tr>\n",
       "        <tr>\n",
       "            <td>0   </td> <td>6   </td> <td>4073013</td> <td>4019207</td>\n",
       "        </tr>\n",
       "        <tr>\n",
       "            <td>0   </td> <td>7   </td> <td>4043046</td> <td>4148360</td>\n",
       "        </tr>\n",
       "        <tr>\n",
       "            <td>0   </td> <td>8   </td> <td>4025604</td> <td>4167887</td>\n",
       "        </tr>\n",
       "        <tr>\n",
       "            <td>0   </td> <td>9   </td> <td>4125415</td> <td>4133564</td>\n",
       "        </tr>\n",
       "    </tbody>\n",
       "</table>\n",
       "<p>... (296 rows omitted)</p>"
      ],
      "text/plain": [
       "SEX  | AGE  | 2010    | 2015\n",
       "0    | 0    | 3951330 | 3978038\n",
       "0    | 1    | 3957888 | 3968564\n",
       "0    | 2    | 4090862 | 3966583\n",
       "0    | 3    | 4111920 | 3974061\n",
       "0    | 4    | 4077551 | 4020035\n",
       "0    | 5    | 4064653 | 4018158\n",
       "0    | 6    | 4073013 | 4019207\n",
       "0    | 7    | 4043046 | 4148360\n",
       "0    | 8    | 4025604 | 4167887\n",
       "0    | 9    | 4125415 | 4133564\n",
       "... (296 rows omitted)"
      ]
     },
     "execution_count": 78,
     "metadata": {},
     "output_type": "execute_result"
    }
   ],
   "source": [
    "# we don't like to type POPESTIMATE2010. Relabel to something shorter...\n",
    "us_pop = us_pop.relabeled('POPESTIMATE2010', '2010').relabeled('POPESTIMATE2015', '2015')\n",
    "us_pop"
   ]
  },
  {
   "cell_type": "markdown",
   "metadata": {
    "slideshow": {
     "slide_type": "slide"
    }
   },
   "source": [
    "## Population changes\n",
    "\n",
    "Compute absolute and percentage changes."
   ]
  },
  {
   "cell_type": "code",
   "execution_count": 79,
   "metadata": {},
   "outputs": [],
   "source": [
    "us_pop = us_pop.with_column(\n",
    "    'CHANGE',\n",
    "    us_pop.column('2015') - us_pop.column('2010')\n",
    ")"
   ]
  },
  {
   "cell_type": "code",
   "execution_count": 80,
   "metadata": {},
   "outputs": [
    {
     "data": {
      "text/html": [
       "<table border=\"1\" class=\"dataframe\">\n",
       "    <thead>\n",
       "        <tr>\n",
       "            <th>SEX</th> <th>AGE</th> <th>2010</th> <th>2015</th> <th>CHANGE</th> <th>PCT CHANGE</th>\n",
       "        </tr>\n",
       "    </thead>\n",
       "    <tbody>\n",
       "        <tr>\n",
       "            <td>0   </td> <td>0   </td> <td>3951330</td> <td>3978038</td> <td>26708  </td> <td>0.00675924</td>\n",
       "        </tr>\n",
       "        <tr>\n",
       "            <td>0   </td> <td>1   </td> <td>3957888</td> <td>3968564</td> <td>10676  </td> <td>0.0026974 </td>\n",
       "        </tr>\n",
       "        <tr>\n",
       "            <td>0   </td> <td>2   </td> <td>4090862</td> <td>3966583</td> <td>-124279</td> <td>-0.0303797</td>\n",
       "        </tr>\n",
       "        <tr>\n",
       "            <td>0   </td> <td>3   </td> <td>4111920</td> <td>3974061</td> <td>-137859</td> <td>-0.0335267</td>\n",
       "        </tr>\n",
       "        <tr>\n",
       "            <td>0   </td> <td>4   </td> <td>4077551</td> <td>4020035</td> <td>-57516 </td> <td>-0.0141055</td>\n",
       "        </tr>\n",
       "        <tr>\n",
       "            <td>0   </td> <td>5   </td> <td>4064653</td> <td>4018158</td> <td>-46495 </td> <td>-0.0114389</td>\n",
       "        </tr>\n",
       "        <tr>\n",
       "            <td>0   </td> <td>6   </td> <td>4073013</td> <td>4019207</td> <td>-53806 </td> <td>-0.0132104</td>\n",
       "        </tr>\n",
       "        <tr>\n",
       "            <td>0   </td> <td>7   </td> <td>4043046</td> <td>4148360</td> <td>105314 </td> <td>0.0260482 </td>\n",
       "        </tr>\n",
       "        <tr>\n",
       "            <td>0   </td> <td>8   </td> <td>4025604</td> <td>4167887</td> <td>142283 </td> <td>0.0353445 </td>\n",
       "        </tr>\n",
       "        <tr>\n",
       "            <td>0   </td> <td>9   </td> <td>4125415</td> <td>4133564</td> <td>8149   </td> <td>0.00197532</td>\n",
       "        </tr>\n",
       "    </tbody>\n",
       "</table>\n",
       "<p>... (296 rows omitted)</p>"
      ],
      "text/plain": [
       "SEX  | AGE  | 2010    | 2015    | CHANGE  | PCT CHANGE\n",
       "0    | 0    | 3951330 | 3978038 | 26708   | 0.00675924\n",
       "0    | 1    | 3957888 | 3968564 | 10676   | 0.0026974\n",
       "0    | 2    | 4090862 | 3966583 | -124279 | -0.0303797\n",
       "0    | 3    | 4111920 | 3974061 | -137859 | -0.0335267\n",
       "0    | 4    | 4077551 | 4020035 | -57516  | -0.0141055\n",
       "0    | 5    | 4064653 | 4018158 | -46495  | -0.0114389\n",
       "0    | 6    | 4073013 | 4019207 | -53806  | -0.0132104\n",
       "0    | 7    | 4043046 | 4148360 | 105314  | 0.0260482\n",
       "0    | 8    | 4025604 | 4167887 | 142283  | 0.0353445\n",
       "0    | 9    | 4125415 | 4133564 | 8149    | 0.00197532\n",
       "... (296 rows omitted)"
      ]
     },
     "execution_count": 80,
     "metadata": {},
     "output_type": "execute_result"
    }
   ],
   "source": [
    "us_pop = us_pop.with_column(\n",
    "    'PCT CHANGE',\n",
    "    us_pop.column('CHANGE') / us_pop.column('2010')\n",
    "    )\n",
    "us_pop"
   ]
  },
  {
   "cell_type": "markdown",
   "metadata": {
    "slideshow": {
     "slide_type": "slide"
    }
   },
   "source": [
    "## Display percentages nicely"
   ]
  },
  {
   "cell_type": "code",
   "execution_count": 81,
   "metadata": {},
   "outputs": [
    {
     "data": {
      "text/html": [
       "<table border=\"1\" class=\"dataframe\">\n",
       "    <thead>\n",
       "        <tr>\n",
       "            <th>SEX</th> <th>AGE</th> <th>2010</th> <th>2015</th> <th>CHANGE</th> <th>PCT CHANGE</th>\n",
       "        </tr>\n",
       "    </thead>\n",
       "    <tbody>\n",
       "        <tr>\n",
       "            <td>0   </td> <td>0   </td> <td>3951330</td> <td>3978038</td> <td>26708  </td> <td>0.68%     </td>\n",
       "        </tr>\n",
       "        <tr>\n",
       "            <td>0   </td> <td>1   </td> <td>3957888</td> <td>3968564</td> <td>10676  </td> <td>0.27%     </td>\n",
       "        </tr>\n",
       "        <tr>\n",
       "            <td>0   </td> <td>2   </td> <td>4090862</td> <td>3966583</td> <td>-124279</td> <td>-3.04%    </td>\n",
       "        </tr>\n",
       "        <tr>\n",
       "            <td>0   </td> <td>3   </td> <td>4111920</td> <td>3974061</td> <td>-137859</td> <td>-3.35%    </td>\n",
       "        </tr>\n",
       "        <tr>\n",
       "            <td>0   </td> <td>4   </td> <td>4077551</td> <td>4020035</td> <td>-57516 </td> <td>-1.41%    </td>\n",
       "        </tr>\n",
       "        <tr>\n",
       "            <td>0   </td> <td>5   </td> <td>4064653</td> <td>4018158</td> <td>-46495 </td> <td>-1.14%    </td>\n",
       "        </tr>\n",
       "        <tr>\n",
       "            <td>0   </td> <td>6   </td> <td>4073013</td> <td>4019207</td> <td>-53806 </td> <td>-1.32%    </td>\n",
       "        </tr>\n",
       "        <tr>\n",
       "            <td>0   </td> <td>7   </td> <td>4043046</td> <td>4148360</td> <td>105314 </td> <td>2.60%     </td>\n",
       "        </tr>\n",
       "        <tr>\n",
       "            <td>0   </td> <td>8   </td> <td>4025604</td> <td>4167887</td> <td>142283 </td> <td>3.53%     </td>\n",
       "        </tr>\n",
       "        <tr>\n",
       "            <td>0   </td> <td>9   </td> <td>4125415</td> <td>4133564</td> <td>8149   </td> <td>0.20%     </td>\n",
       "        </tr>\n",
       "    </tbody>\n",
       "</table>\n",
       "<p>... (296 rows omitted)</p>"
      ],
      "text/plain": [
       "SEX  | AGE  | 2010    | 2015    | CHANGE  | PCT CHANGE\n",
       "0    | 0    | 3951330 | 3978038 | 26708   | 0.68%\n",
       "0    | 1    | 3957888 | 3968564 | 10676   | 0.27%\n",
       "0    | 2    | 4090862 | 3966583 | -124279 | -3.04%\n",
       "0    | 3    | 4111920 | 3974061 | -137859 | -3.35%\n",
       "0    | 4    | 4077551 | 4020035 | -57516  | -1.41%\n",
       "0    | 5    | 4064653 | 4018158 | -46495  | -1.14%\n",
       "0    | 6    | 4073013 | 4019207 | -53806  | -1.32%\n",
       "0    | 7    | 4043046 | 4148360 | 105314  | 2.60%\n",
       "0    | 8    | 4025604 | 4167887 | 142283  | 3.53%\n",
       "0    | 9    | 4125415 | 4133564 | 8149    | 0.20%\n",
       "... (296 rows omitted)"
      ]
     },
     "execution_count": 81,
     "metadata": {},
     "output_type": "execute_result"
    }
   ],
   "source": [
    "us_pop.set_format('PCT CHANGE', PercentFormatter)"
   ]
  },
  {
   "cell_type": "markdown",
   "metadata": {
    "slideshow": {
     "slide_type": "slide"
    }
   },
   "source": [
    "## What age group(s) grew the most in size?\n",
    "\n",
    "1. Any guesses?\n",
    "2. How could we find out?"
   ]
  },
  {
   "cell_type": "code",
   "execution_count": null,
   "metadata": {
    "slideshow": {
     "slide_type": "fragment"
    }
   },
   "outputs": [],
   "source": [
    "us_pop.sort('CHANGE', descending=True)"
   ]
  },
  {
   "cell_type": "markdown",
   "metadata": {
    "slideshow": {
     "slide_type": "slide"
    }
   },
   "source": [
    "## Why?"
   ]
  },
  {
   "cell_type": "code",
   "execution_count": null,
   "metadata": {},
   "outputs": [],
   "source": [
    "2010 - 68"
   ]
  },
  {
   "cell_type": "code",
   "execution_count": null,
   "metadata": {},
   "outputs": [],
   "source": [
    "2015 - 68"
   ]
  },
  {
   "cell_type": "markdown",
   "metadata": {
    "slideshow": {
     "slide_type": "fragment"
    }
   },
   "source": [
    "The post-WWII baby boom."
   ]
  },
  {
   "cell_type": "markdown",
   "metadata": {
    "slideshow": {
     "slide_type": "slide"
    }
   },
   "source": [
    "## How does female:male ratio change with age?\n",
    "\n",
    "General approach:  \n",
    "1. Keep data for only one year (say, 2015).\n",
    "2. Make a table of females and a table of males.\n",
    "3. Divide # of females at each age by # of males at that age."
   ]
  },
  {
   "cell_type": "markdown",
   "metadata": {
    "slideshow": {
     "slide_type": "slide"
    }
   },
   "source": [
    "## 1. Keep data for only 2015"
   ]
  },
  {
   "cell_type": "code",
   "execution_count": null,
   "metadata": {},
   "outputs": [],
   "source": [
    "us_pop_2015 = us_pop.select('SEX', 'AGE', '2015')\n",
    "us_pop_2015"
   ]
  },
  {
   "cell_type": "markdown",
   "metadata": {
    "slideshow": {
     "slide_type": "slide"
    }
   },
   "source": [
    "## 2. Make a table of females and a table of males"
   ]
  },
  {
   "cell_type": "code",
   "execution_count": null,
   "metadata": {},
   "outputs": [],
   "source": [
    "females = us_pop_2015.where('SEX', 2).where('AGE', are.not_equal_to(999))\n",
    "females"
   ]
  },
  {
   "cell_type": "code",
   "execution_count": null,
   "metadata": {},
   "outputs": [],
   "source": [
    "males = us_pop_2015.where('SEX', 1).where('AGE', are.not_equal_to(999))\n",
    "males"
   ]
  },
  {
   "cell_type": "markdown",
   "metadata": {
    "slideshow": {
     "slide_type": "slide"
    }
   },
   "source": [
    "## 3. Divide # of females at each age by # of males at that age"
   ]
  },
  {
   "cell_type": "code",
   "execution_count": null,
   "metadata": {},
   "outputs": [],
   "source": [
    "# we should \"align\" the data first to make sure rows are in the same order\n",
    "females = females.sort('AGE')\n",
    "males = males.sort('AGE')"
   ]
  },
  {
   "cell_type": "code",
   "execution_count": null,
   "metadata": {
    "scrolled": true
   },
   "outputs": [],
   "source": [
    "ratios = Table().with_columns(\n",
    "    'AGE', females.column('AGE'),\n",
    "    'F:M RATIO', females.column('2015') / males.column('2015')\n",
    ")\n",
    "ratios"
   ]
  },
  {
   "cell_type": "code",
   "execution_count": null,
   "metadata": {
    "slideshow": {
     "slide_type": "slide"
    }
   },
   "outputs": [],
   "source": [
    "ratios.sort('AGE')"
   ]
  },
  {
   "cell_type": "code",
   "execution_count": null,
   "metadata": {},
   "outputs": [],
   "source": [
    "ratios.sort('AGE', descending=True)"
   ]
  },
  {
   "cell_type": "markdown",
   "metadata": {
    "slideshow": {
     "slide_type": "slide"
    }
   },
   "source": [
    "## Visualize"
   ]
  },
  {
   "cell_type": "code",
   "execution_count": null,
   "metadata": {},
   "outputs": [],
   "source": [
    "#: a few new imports for displaying nice plots\n",
    "import matplotlib.pyplot as plt\n",
    "plt.style.use('fivethirtyeight')\n",
    "%matplotlib inline"
   ]
  },
  {
   "cell_type": "code",
   "execution_count": null,
   "metadata": {},
   "outputs": [],
   "source": [
    "ratios.plot('AGE')"
   ]
  },
  {
   "cell_type": "markdown",
   "metadata": {
    "slideshow": {
     "slide_type": "slide"
    }
   },
   "source": [
    "## Why? Our data analysis raises questions that are the topic of research."
   ]
  },
  {
   "cell_type": "markdown",
   "metadata": {},
   "source": [
    "[Why do women live longer than men?](https://ourworldindata.org/why-do-women-live-longer-than-men)"
   ]
  },
  {
   "cell_type": "markdown",
   "metadata": {},
   "source": [
    "[Why are there more baby boys than baby girls?](https://www.pewresearch.org/fact-tank/2013/09/24/the-odds-that-you-will-give-birth-to-a-boy-or-girl-depend-on-where-in-the-world-you-live/)"
   ]
  }
 ],
 "metadata": {
  "celltoolbar": "Slideshow",
  "kernelspec": {
   "display_name": "Python 3",
   "language": "python",
   "name": "python3"
  },
  "language_info": {
   "codemirror_mode": {
    "name": "ipython",
    "version": 3
   },
   "file_extension": ".py",
   "mimetype": "text/x-python",
   "name": "python",
   "nbconvert_exporter": "python",
   "pygments_lexer": "ipython3",
   "version": "3.6.8"
  },
  "livereveal": {
   "scroll": true
  }
 },
 "nbformat": 4,
 "nbformat_minor": 2
}
