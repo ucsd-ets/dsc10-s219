{
 "cells": [
  {
   "cell_type": "code",
   "execution_count": 1,
   "metadata": {},
   "outputs": [],
   "source": [
    "#: the usual imports\n",
    "from datascience import *\n",
    "import numpy as np\n",
    "\n",
    "%matplotlib inline\n",
    "import matplotlib.pyplot as plt\n",
    "import warnings; warnings.simplefilter('ignore')\n",
    "\n",
    "plt.style.use('fivethirtyeight')"
   ]
  },
  {
   "cell_type": "markdown",
   "metadata": {
    "slideshow": {
     "slide_type": "slide"
    }
   },
   "source": [
    "# Lecture 13\n",
    "\n",
    "### The Bootstrap and Confidence Intervals"
   ]
  },
  {
   "cell_type": "markdown",
   "metadata": {
    "slideshow": {
     "slide_type": "slide"
    }
   },
   "source": [
    "## Question\n",
    "\n",
    "- What is the median salary of San Diego city employees?\n",
    "- All city employee salary data is public."
   ]
  },
  {
   "cell_type": "code",
   "execution_count": 2,
   "metadata": {},
   "outputs": [
    {
     "data": {
      "text/html": [
       "<table border=\"1\" class=\"dataframe\">\n",
       "    <thead>\n",
       "        <tr>\n",
       "            <th>Employee Name</th> <th>Job Title</th> <th>Base Pay</th> <th>Overtime Pay</th> <th>Other Pay</th> <th>Benefits</th> <th>Total Pay</th> <th>Total Pay & Benefits</th> <th>Year</th> <th>Notes</th> <th>Agency</th> <th>Status</th>\n",
       "        </tr>\n",
       "    </thead>\n",
       "    <tbody>\n",
       "        <tr>\n",
       "            <td>David P Gerboth  </td> <td>Fire Battalion Chief    </td> <td>81917   </td> <td>172590      </td> <td>68870    </td> <td>5194    </td> <td>323377   </td> <td>328571              </td> <td>2017</td> <td>nan  </td> <td>San Diego</td> <td>FT    </td>\n",
       "        </tr>\n",
       "        <tr>\n",
       "            <td>Glen A Bartolome </td> <td>Fire Captain            </td> <td>85904   </td> <td>120682      </td> <td>99408    </td> <td>10107   </td> <td>305994   </td> <td>316101              </td> <td>2017</td> <td>nan  </td> <td>San Diego</td> <td>FT    </td>\n",
       "        </tr>\n",
       "        <tr>\n",
       "            <td>Scott C Chadwick </td> <td>Chief Operating Officer </td> <td>255000  </td> <td>0           </td> <td>31164    </td> <td>22688   </td> <td>286164   </td> <td>308852              </td> <td>2017</td> <td>nan  </td> <td>San Diego</td> <td>FT    </td>\n",
       "        </tr>\n",
       "        <tr>\n",
       "            <td>David W Pilkerton</td> <td>Fire Battalion Chief    </td> <td>100110  </td> <td>118798      </td> <td>62895    </td> <td>18746   </td> <td>281803   </td> <td>300549              </td> <td>2017</td> <td>nan  </td> <td>San Diego</td> <td>FT    </td>\n",
       "        </tr>\n",
       "        <tr>\n",
       "            <td>Daniel S Reeves  </td> <td>Fire Captain            </td> <td>41389   </td> <td>196284      </td> <td>42027    </td> <td>20125   </td> <td>279700   </td> <td>299825              </td> <td>2017</td> <td>nan  </td> <td>San Diego</td> <td>PT    </td>\n",
       "        </tr>\n",
       "        <tr>\n",
       "            <td>Edward S Jones   </td> <td>Fire Captain            </td> <td>46020   </td> <td>171896      </td> <td>59944    </td> <td>19669   </td> <td>277860   </td> <td>297529              </td> <td>2017</td> <td>nan  </td> <td>San Diego</td> <td>PT    </td>\n",
       "        </tr>\n",
       "        <tr>\n",
       "            <td>Richard L Ballard</td> <td>Fire Battalion Chief    </td> <td>99629   </td> <td>93528       </td> <td>61055    </td> <td>16630   </td> <td>254212   </td> <td>270842              </td> <td>2017</td> <td>nan  </td> <td>San Diego</td> <td>FT    </td>\n",
       "        </tr>\n",
       "        <tr>\n",
       "            <td>Mark A Hovey     </td> <td>Retirement Administrator</td> <td>240000  </td> <td>0           </td> <td>6190     </td> <td>21909   </td> <td>246190   </td> <td>268099              </td> <td>2017</td> <td>nan  </td> <td>San Diego</td> <td>FT    </td>\n",
       "        </tr>\n",
       "        <tr>\n",
       "            <td>Adrian A Blackson</td> <td>Fire Captain            </td> <td>44280   </td> <td>196978      </td> <td>16933    </td> <td>8304    </td> <td>258191   </td> <td>266495              </td> <td>2017</td> <td>nan  </td> <td>San Diego</td> <td>PT    </td>\n",
       "        </tr>\n",
       "        <tr>\n",
       "            <td>Stacey D Lomedico</td> <td>Asst Chief Oper Ofcr    </td> <td>215000  </td> <td>0           </td> <td>20352    </td> <td>30087   </td> <td>235352   </td> <td>265439              </td> <td>2017</td> <td>nan  </td> <td>San Diego</td> <td>FT    </td>\n",
       "        </tr>\n",
       "    </tbody>\n",
       "</table>\n",
       "<p>... (11174 rows omitted)</p>"
      ],
      "text/plain": [
       "Employee Name     | Job Title                | Base Pay | Overtime Pay | Other Pay | Benefits | Total Pay | Total Pay & Benefits | Year | Notes | Agency    | Status\n",
       "David P Gerboth   | Fire Battalion Chief     | 81917    | 172590       | 68870     | 5194     | 323377    | 328571               | 2017 | nan   | San Diego | FT\n",
       "Glen A Bartolome  | Fire Captain             | 85904    | 120682       | 99408     | 10107    | 305994    | 316101               | 2017 | nan   | San Diego | FT\n",
       "Scott C Chadwick  | Chief Operating Officer  | 255000   | 0            | 31164     | 22688    | 286164    | 308852               | 2017 | nan   | San Diego | FT\n",
       "David W Pilkerton | Fire Battalion Chief     | 100110   | 118798       | 62895     | 18746    | 281803    | 300549               | 2017 | nan   | San Diego | FT\n",
       "Daniel S Reeves   | Fire Captain             | 41389    | 196284       | 42027     | 20125    | 279700    | 299825               | 2017 | nan   | San Diego | PT\n",
       "Edward S Jones    | Fire Captain             | 46020    | 171896       | 59944     | 19669    | 277860    | 297529               | 2017 | nan   | San Diego | PT\n",
       "Richard L Ballard | Fire Battalion Chief     | 99629    | 93528        | 61055     | 16630    | 254212    | 270842               | 2017 | nan   | San Diego | FT\n",
       "Mark A Hovey      | Retirement Administrator | 240000   | 0            | 6190      | 21909    | 246190    | 268099               | 2017 | nan   | San Diego | FT\n",
       "Adrian A Blackson | Fire Captain             | 44280    | 196978       | 16933     | 8304     | 258191    | 266495               | 2017 | nan   | San Diego | PT\n",
       "Stacey D Lomedico | Asst Chief Oper Ofcr     | 215000   | 0            | 20352     | 30087    | 235352    | 265439               | 2017 | nan   | San Diego | FT\n",
       "... (11174 rows omitted)"
      ]
     },
     "execution_count": 2,
     "metadata": {},
     "output_type": "execute_result"
    }
   ],
   "source": [
    "#: read in the data\n",
    "population = Table.read_table('salaries.csv')\n",
    "population"
   ]
  },
  {
   "cell_type": "markdown",
   "metadata": {
    "slideshow": {
     "slide_type": "slide"
    }
   },
   "source": [
    "## The median salary\n",
    "\n",
    "- We can use `np.median()`:"
   ]
  },
  {
   "cell_type": "code",
   "execution_count": 3,
   "metadata": {},
   "outputs": [
    {
     "data": {
      "text/plain": [
       "66665.5"
      ]
     },
     "execution_count": 3,
     "metadata": {},
     "output_type": "execute_result"
    }
   ],
   "source": [
    "#...population_median\n",
    "# the median of the \"Total Pay\" column\n",
    "population_median = np.median(population.column('Total Pay'))\n",
    "population_median"
   ]
  },
  {
   "cell_type": "markdown",
   "metadata": {
    "slideshow": {
     "slide_type": "slide"
    }
   },
   "source": [
    "## But now...\n",
    "\n",
    "- ...suppose we don't have access to this data.\n",
    "- It is costly and time-consuming to survey *all* 11,000+ employees.\n",
    "- So we gather salaries for a random sample of, say, 500 people.\n",
    "- Hope the median of the sample $\\approx$ median of the population."
   ]
  },
  {
   "cell_type": "markdown",
   "metadata": {
    "slideshow": {
     "slide_type": "slide"
    }
   },
   "source": [
    "## In the language of statistics...\n",
    "\n",
    "- The full table of salaries is the **population**.\n",
    "- The median salary of all employees is a **parameter** of this population.\n",
    "- We observe a **sample** of 500 salaries from the population.\n",
    "- We really want the population median, but we don't have the whole population.\n",
    "- So we compute sample median, a **statistic** as an **estimate** of the population median.\n",
    "- Hopefully the sample median is close to the population median."
   ]
  },
  {
   "cell_type": "markdown",
   "metadata": {
    "slideshow": {
     "slide_type": "slide"
    }
   },
   "source": [
    "## The sample median\n",
    "\n",
    "- Let's survey 500 employees at random.\n",
    "- We can use `.sample()`:"
   ]
  },
  {
   "cell_type": "code",
   "execution_count": 6,
   "metadata": {},
   "outputs": [],
   "source": [
    "#: take a sample of size 500\n",
    "sample_500 = population.sample(500, with_replacement=False)"
   ]
  },
  {
   "cell_type": "code",
   "execution_count": 7,
   "metadata": {},
   "outputs": [
    {
     "data": {
      "text/plain": [
       "69879.5"
      ]
     },
     "execution_count": 7,
     "metadata": {},
     "output_type": "execute_result"
    }
   ],
   "source": [
    "#: compute the sample median\n",
    "sample_median = np.median(sample_500.column('Total Pay'))\n",
    "sample_median"
   ]
  },
  {
   "cell_type": "markdown",
   "metadata": {
    "slideshow": {
     "slide_type": "slide"
    }
   },
   "source": [
    "## How confident are we?\n",
    "\n",
    "- Our estimate depended on a random sample.\n",
    "- If our sample was different, our estimate would've been different, too.\n",
    "- **How different could the estimate have been?**\n",
    "- Our confidence in the estimate depends on the answer."
   ]
  },
  {
   "cell_type": "markdown",
   "metadata": {
    "slideshow": {
     "slide_type": "slide"
    }
   },
   "source": [
    "## The sample median is random\n",
    "\n",
    "- The sample median is a random number.\n",
    "- It comes from some distribution of how the sample median could have turned out, based on which 500 people were in our sample.\n",
    "    - This is called the sampling distribution.\n",
    "    - It's not known to us, because we only have one sample.\n",
    "- How different could the estimate have been?\n",
    "    - \"Narrow\" sampling distribution $\\Rightarrow$ not too different\n",
    "    - \"Wide\" sampling distribution $\\Rightarrow$ quite different\n",
    "- **What is the distribution of the sample median?**"
   ]
  },
  {
   "cell_type": "markdown",
   "metadata": {
    "slideshow": {
     "slide_type": "slide"
    }
   },
   "source": [
    "## A (costly) approach\n",
    "\n",
    "- Every sample of 500 people gives me one observation of the sample median.\n",
    "- So draw a bunch of samples, compute medians."
   ]
  },
  {
   "cell_type": "code",
   "execution_count": 8,
   "metadata": {},
   "outputs": [],
   "source": [
    "#: imports for animation\n",
    "from lecture import sampling_animation\n",
    "from IPython.display import HTML"
   ]
  },
  {
   "cell_type": "code",
   "execution_count": 9,
   "metadata": {},
   "outputs": [],
   "source": [
    "%%capture\n",
    "anim, sample_medians = sampling_animation(population)"
   ]
  },
  {
   "cell_type": "code",
   "execution_count": 10,
   "metadata": {},
   "outputs": [
    {
     "data": {
      "text/html": [
       "\n",
       "<link rel=\"stylesheet\"\n",
       "href=\"https://maxcdn.bootstrapcdn.com/font-awesome/4.4.0/\n",
       "css/font-awesome.min.css\">\n",
       "<script language=\"javascript\">\n",
       "  function isInternetExplorer() {\n",
       "    ua = navigator.userAgent;\n",
       "    /* MSIE used to detect old browsers and Trident used to newer ones*/\n",
       "    return ua.indexOf(\"MSIE \") > -1 || ua.indexOf(\"Trident/\") > -1;\n",
       "  }\n",
       "\n",
       "  /* Define the Animation class */\n",
       "  function Animation(frames, img_id, slider_id, interval, loop_select_id){\n",
       "    this.img_id = img_id;\n",
       "    this.slider_id = slider_id;\n",
       "    this.loop_select_id = loop_select_id;\n",
       "    this.interval = interval;\n",
       "    this.current_frame = 0;\n",
       "    this.direction = 0;\n",
       "    this.timer = null;\n",
       "    this.frames = new Array(frames.length);\n",
       "\n",
       "    for (var i=0; i<frames.length; i++)\n",
       "    {\n",
       "     this.frames[i] = new Image();\n",
       "     this.frames[i].src = frames[i];\n",
       "    }\n",
       "    var slider = document.getElementById(this.slider_id);\n",
       "    slider.max = this.frames.length - 1;\n",
       "    if (isInternetExplorer()) {\n",
       "        // switch from oninput to onchange because IE <= 11 does not conform\n",
       "        // with W3C specification. It ignores oninput and onchange behaves\n",
       "        // like oninput. In contrast, Mircosoft Edge behaves correctly.\n",
       "        slider.setAttribute('onchange', slider.getAttribute('oninput'));\n",
       "        slider.setAttribute('oninput', null);\n",
       "    }\n",
       "    this.set_frame(this.current_frame);\n",
       "  }\n",
       "\n",
       "  Animation.prototype.get_loop_state = function(){\n",
       "    var button_group = document[this.loop_select_id].state;\n",
       "    for (var i = 0; i < button_group.length; i++) {\n",
       "        var button = button_group[i];\n",
       "        if (button.checked) {\n",
       "            return button.value;\n",
       "        }\n",
       "    }\n",
       "    return undefined;\n",
       "  }\n",
       "\n",
       "  Animation.prototype.set_frame = function(frame){\n",
       "    this.current_frame = frame;\n",
       "    document.getElementById(this.img_id).src =\n",
       "            this.frames[this.current_frame].src;\n",
       "    document.getElementById(this.slider_id).value = this.current_frame;\n",
       "  }\n",
       "\n",
       "  Animation.prototype.next_frame = function()\n",
       "  {\n",
       "    this.set_frame(Math.min(this.frames.length - 1, this.current_frame + 1));\n",
       "  }\n",
       "\n",
       "  Animation.prototype.previous_frame = function()\n",
       "  {\n",
       "    this.set_frame(Math.max(0, this.current_frame - 1));\n",
       "  }\n",
       "\n",
       "  Animation.prototype.first_frame = function()\n",
       "  {\n",
       "    this.set_frame(0);\n",
       "  }\n",
       "\n",
       "  Animation.prototype.last_frame = function()\n",
       "  {\n",
       "    this.set_frame(this.frames.length - 1);\n",
       "  }\n",
       "\n",
       "  Animation.prototype.slower = function()\n",
       "  {\n",
       "    this.interval /= 0.7;\n",
       "    if(this.direction > 0){this.play_animation();}\n",
       "    else if(this.direction < 0){this.reverse_animation();}\n",
       "  }\n",
       "\n",
       "  Animation.prototype.faster = function()\n",
       "  {\n",
       "    this.interval *= 0.7;\n",
       "    if(this.direction > 0){this.play_animation();}\n",
       "    else if(this.direction < 0){this.reverse_animation();}\n",
       "  }\n",
       "\n",
       "  Animation.prototype.anim_step_forward = function()\n",
       "  {\n",
       "    this.current_frame += 1;\n",
       "    if(this.current_frame < this.frames.length){\n",
       "      this.set_frame(this.current_frame);\n",
       "    }else{\n",
       "      var loop_state = this.get_loop_state();\n",
       "      if(loop_state == \"loop\"){\n",
       "        this.first_frame();\n",
       "      }else if(loop_state == \"reflect\"){\n",
       "        this.last_frame();\n",
       "        this.reverse_animation();\n",
       "      }else{\n",
       "        this.pause_animation();\n",
       "        this.last_frame();\n",
       "      }\n",
       "    }\n",
       "  }\n",
       "\n",
       "  Animation.prototype.anim_step_reverse = function()\n",
       "  {\n",
       "    this.current_frame -= 1;\n",
       "    if(this.current_frame >= 0){\n",
       "      this.set_frame(this.current_frame);\n",
       "    }else{\n",
       "      var loop_state = this.get_loop_state();\n",
       "      if(loop_state == \"loop\"){\n",
       "        this.last_frame();\n",
       "      }else if(loop_state == \"reflect\"){\n",
       "        this.first_frame();\n",
       "        this.play_animation();\n",
       "      }else{\n",
       "        this.pause_animation();\n",
       "        this.first_frame();\n",
       "      }\n",
       "    }\n",
       "  }\n",
       "\n",
       "  Animation.prototype.pause_animation = function()\n",
       "  {\n",
       "    this.direction = 0;\n",
       "    if (this.timer){\n",
       "      clearInterval(this.timer);\n",
       "      this.timer = null;\n",
       "    }\n",
       "  }\n",
       "\n",
       "  Animation.prototype.play_animation = function()\n",
       "  {\n",
       "    this.pause_animation();\n",
       "    this.direction = 1;\n",
       "    var t = this;\n",
       "    if (!this.timer) this.timer = setInterval(function() {\n",
       "        t.anim_step_forward();\n",
       "    }, this.interval);\n",
       "  }\n",
       "\n",
       "  Animation.prototype.reverse_animation = function()\n",
       "  {\n",
       "    this.pause_animation();\n",
       "    this.direction = -1;\n",
       "    var t = this;\n",
       "    if (!this.timer) this.timer = setInterval(function() {\n",
       "        t.anim_step_reverse();\n",
       "    }, this.interval);\n",
       "  }\n",
       "</script>\n",
       "\n",
       "<style>\n",
       ".animation {\n",
       "    display: inline-block;\n",
       "    text-align: center;\n",
       "}\n",
       "input[type=range].anim-slider {\n",
       "    width: 374px;\n",
       "    margin-left: auto;\n",
       "    margin-right: auto;\n",
       "}\n",
       ".anim-buttons {\n",
       "    margin: 8px 0px;\n",
       "}\n",
       ".anim-buttons button {\n",
       "    padding: 0;\n",
       "    width: 36px;\n",
       "}\n",
       ".anim-state label {\n",
       "    margin-right: 8px;\n",
       "}\n",
       ".anim-state input {\n",
       "    margin: 0;\n",
       "    vertical-align: middle;\n",
       "}\n",
       "</style>\n",
       "\n",
       "<div class=\"animation\">\n",
       "  <img id=\"_anim_imgb4fd88d6b8e44267a098c6448f472b98\">\n",
       "  <div class=\"anim-controls\">\n",
       "    <input id=\"_anim_sliderb4fd88d6b8e44267a098c6448f472b98\" type=\"range\" class=\"anim-slider\"\n",
       "           name=\"points\" min=\"0\" max=\"1\" step=\"1\" value=\"0\"\n",
       "           oninput=\"animb4fd88d6b8e44267a098c6448f472b98.set_frame(parseInt(this.value));\"></input>\n",
       "    <div class=\"anim-buttons\">\n",
       "      <button onclick=\"animb4fd88d6b8e44267a098c6448f472b98.slower()\"><i class=\"fa fa-minus\"></i></button>\n",
       "      <button onclick=\"animb4fd88d6b8e44267a098c6448f472b98.first_frame()\"><i class=\"fa fa-fast-backward\">\n",
       "          </i></button>\n",
       "      <button onclick=\"animb4fd88d6b8e44267a098c6448f472b98.previous_frame()\">\n",
       "          <i class=\"fa fa-step-backward\"></i></button>\n",
       "      <button onclick=\"animb4fd88d6b8e44267a098c6448f472b98.reverse_animation()\">\n",
       "          <i class=\"fa fa-play fa-flip-horizontal\"></i></button>\n",
       "      <button onclick=\"animb4fd88d6b8e44267a098c6448f472b98.pause_animation()\"><i class=\"fa fa-pause\">\n",
       "          </i></button>\n",
       "      <button onclick=\"animb4fd88d6b8e44267a098c6448f472b98.play_animation()\"><i class=\"fa fa-play\"></i>\n",
       "          </button>\n",
       "      <button onclick=\"animb4fd88d6b8e44267a098c6448f472b98.next_frame()\"><i class=\"fa fa-step-forward\">\n",
       "          </i></button>\n",
       "      <button onclick=\"animb4fd88d6b8e44267a098c6448f472b98.last_frame()\"><i class=\"fa fa-fast-forward\">\n",
       "          </i></button>\n",
       "      <button onclick=\"animb4fd88d6b8e44267a098c6448f472b98.faster()\"><i class=\"fa fa-plus\"></i></button>\n",
       "    </div>\n",
       "    <form action=\"#n\" name=\"_anim_loop_selectb4fd88d6b8e44267a098c6448f472b98\" class=\"anim-state\">\n",
       "      <input type=\"radio\" name=\"state\" value=\"once\" id=\"_anim_radio1_b4fd88d6b8e44267a098c6448f472b98\"\n",
       "             >\n",
       "      <label for=\"_anim_radio1_b4fd88d6b8e44267a098c6448f472b98\">Once</label>\n",
       "      <input type=\"radio\" name=\"state\" value=\"loop\" id=\"_anim_radio2_b4fd88d6b8e44267a098c6448f472b98\"\n",
       "             checked>\n",
       "      <label for=\"_anim_radio2_b4fd88d6b8e44267a098c6448f472b98\">Loop</label>\n",
       "      <input type=\"radio\" name=\"state\" value=\"reflect\" id=\"_anim_radio3_b4fd88d6b8e44267a098c6448f472b98\"\n",
       "             >\n",
       "      <label for=\"_anim_radio3_b4fd88d6b8e44267a098c6448f472b98\">Reflect</label>\n",
       "    </form>\n",
       "  </div>\n",
       "</div>\n",
       "\n",
       "\n",
       "<script language=\"javascript\">\n",
       "  /* Instantiate the Animation class. */\n",
       "  /* The IDs given should match those used in the template above. */\n",
       "  (function() {\n",
       "    var img_id = \"_anim_imgb4fd88d6b8e44267a098c6448f472b98\";\n",
       "    var slider_id = \"_anim_sliderb4fd88d6b8e44267a098c6448f472b98\";\n",
       "    var loop_select_id = \"_anim_loop_selectb4fd88d6b8e44267a098c6448f472b98\";\n",
       "    var frames = new Array(9);\n",
       "    \n",
       "  frames[0] = \"data:image/png;base64,iVBORw0KGgoAAAANSUhEUgAAAbAAAAEgCAYAAADVKCZpAAAABHNCSVQICAgIfAhkiAAAAAlwSFlz\\\n",
       "AAALEgAACxIB0t1+/AAAADh0RVh0U29mdHdhcmUAbWF0cGxvdGxpYiB2ZXJzaW9uMy4xLjAsIGh0\\\n",
       "dHA6Ly9tYXRwbG90bGliLm9yZy+17YcXAAAciElEQVR4nO3de1RVdf7/8RciN01FCRAVdESEEVGz\\\n",
       "EryWMSNpo2YqttLJcalUalOWpWZlao4ydNHKaSp1uqnVaKMQphNFhkDQzXvi0RaWZuiXOCaOF8D9\\\n",
       "+8MfZzyCghN4+MDzsRar1dmbfT5vdPFk77MPutntdksAABimkasXAADA/4KAAQCMRMAAAEYiYAAA\\\n",
       "IxEwAICRCBgAwEgEDABgJAIGADASAQMAGImAAQCMRMAAAEYiYAAAIxEwAICRCBhQhyxatEi+vr7K\\\n",
       "yMhw9VKAOo+AAbjqSkpK9PLLL2vKlCnq16+f/P395evrq5UrV7p6aTBIY1cvAEDDc/LkSc2ePVuS\\\n",
       "FBAQoMDAQB06dMjFq4JpOAMDcNU1adJE//znP7V3717t27dPY8eOdfWSYCAChhp38OBB+fr66rbb\\\n",
       "blNhYaEeeOABhYeHKyAgQDExMXr77bd/1fGzsrJ05513KjIyUgEBAerUqZNuvvlmzZkzR5b1339g\\\n",
       "/MiRI0pMTFRcXJw6d+4sf39/RUREaOLEifr2228vu+6jR49q6tSpCgsLU5s2bTRo0CBlZWVJOn/2\\\n",
       "8MQTT6hr164KCAhQdHS01q9fX+F4q1atkq+vrxYtWqTPP/9cw4YNU3BwsIKDgzVq1Cht27btiub+\\\n",
       "7rvvdP/99zueNzQ0VGPHjq30OCdOnFBSUpL69OmjkJAQtW3bVt26ddO4cePqxOtrnp6e+v3vf6/W\\\n",
       "rVu7eikwGJcQUWuOHz+uuLg4eXp6atiwYTp79qzWr1+vadOmqVGjRrrrrruu+JhpaWmKj4/XNddc\\\n",
       "o8GDB6tt27ay2+06cOCAXnnlFc2bN0+NG5//a52VlaUlS5aof//+GjZsmJo2baoDBw4oOTlZH374\\\n",
       "oT788EN17979kutu2bKlRo8erR9//FEbNmzQyJEj9dFHH+mBBx5QcXGxhgwZohMnTmjdunWaMGGC\\\n",
       "2rZtqxtvvLHC8b766is9//zzGjhwoCZPnqwDBw4oJSVFmZmZWr9+vaKjo6uce8uWLRo7dqxOnz6t\\\n",
       "uLg4hYaG6siRI0pJSVFaWppWr16t2NhYSZJlWRo1apRycnJ0/fXXa+zYsfL09NSRI0eUlZWlLVu2\\\n",
       "qH///lf8tQfqGgKGWrNr1y798Y9/1JIlS+Tu7i5Juu+++9S3b18tXbr0fwrYG2+8oXPnzumDDz5Q\\\n",
       "t27dnLb9/PPPjnhJ0oABA7Rv3z41a9bMab+dO3fq1ltv1fz587Vu3bpK152QkKDExES5ublJkp59\\\n",
       "9lktWLBAf/jDH9S/f3+tWLFCnp6ekqRbbrlFkydP1pIlS7Rq1aoKx0tLS1NSUpImT57seGzDhg0a\\\n",
       "P368pk2bptzcXMfzVOb48eOaMGGCPDw8lJaWpoiICMe2vLw8xcbGaurUqdq+fbu8vLy0Z88e5eTk\\\n",
       "aMiQIVq9erXTsSzLUlFR0SWf60I7duxQampqtfYtd9ddd6l9+/ZX9DnA/4qAodY0adJECxcudMRL\\\n",
       "kiIiIhQdHa2srCwVFxfrmmuu+Z+O7ePjU+GxVq1aOf2/v79/pZ8bFRWl/v37Kz09XSUlJfLw8HDa\\\n",
       "3rRpUz355JNOURkzZowWLFggu92up59+2hEvSbrjjjs0ZcoU7dy5s9Ln69ixoyZOnOj02PDhw9Wr\\\n",
       "Vy/l5uYqJydHMTExl5z1nXfe0c8//6zFixc7xUuSwsPDdffdd+tvf/ubtmzZokGDBjm2VfY1cnNz\\\n",
       "q/B1upSdO3cqMTGxWvuW69evHwHDVUPAUGs6duyo5s2bV3i8Xbt2kiS73X7FARs9erRSUlIUGxur\\\n",
       "ESNGqH///rrxxhsv+U1z8+bNWrlypbZt26bCwkKVlpY6bS8sLKzwOkzHjh0rrKt8nxYtWlR4Lnd3\\\n",
       "d/n7++vHH3+sdA29e/dWo0YVX27u27evcnNztWPHjssGLCcnR5K0e/duLVq0qML2/fv3Szp/NjZo\\\n",
       "0CBFREQoKipK69at0/fff68hQ4YoOjpaPXv2lLe39yWf52Jjx47l5grUaQQMtaZFixaVPl5+RlZW\\\n",
       "VnbFxxw2bJjee+89LVu2TGvWrNEbb7whSerSpYtmzpyp4cOHO/Z9+eWXNXv2bPn6+mrgwIFq166d\\\n",
       "fHx85ObmptTUVO3atUtnzpyp8ByVRbf80mRl28pnujiO5QICAip9vPwM8ZdffrnMxOcvjUrSW2+9\\\n",
       "ddn9Tp486VhLSkqKkpKSlJycrHnz5kk6f0Y8YsQIzZ8/X35+fpc9FmACAgbjDBo0SIMGDdKpU6f0\\\n",
       "9ddfKy0tTcuXL9ef/vQnpaSkqF+/fiotLdXixYsVGBioLVu2VDjL+uKLL67aeo8ePVrp48eOHZN0\\\n",
       "6SiWK9/+6aefqkePHtV6Tl9fXy1cuFALFy5Ufn6+srKy9Pbbb2vVqlX6/vvvlZKSUuUxeA0MdR0B\\\n",
       "g7F8fHzUt29f9e3bV+3bt9eDDz6o1NRU9evXT4WFhTp+/LgGDBhQIV7FxcXavn37VVvn559/rnPn\\\n",
       "zlW4jJiZmSlJFW5GudiNN96o5ORkZWdnVztgF+rQoYM6dOig+Ph49ejRQxkZGTp+/Pglz5DL8RoY\\\n",
       "6jreBwajbN26tdJLdQUFBZLOXyaTzl+ea9KkibZt26bi4mLHfiUlJZo1a5YKCwuvzoIlHThwQCtW\\\n",
       "rHB6bMOGDcrNzVVYWFiVt9GPGzdOvr6+SkpKUm5uboXtlmUpOztbZ8+elSTl5+crPz+/wn7FxcU6\\\n",
       "efKkPDw8nO7WvJSxY8fKbrdf0Qe35+Nq4gwMRpk1a5YOHz6smJgYhYSEyNvbW7t379bHH3+sVq1a\\\n",
       "afz48ZKkRo0a6Z577tHzzz+vPn36aMiQISopKVFGRoaKiorUv3//q/aG3tjYWM2ZM0dpaWmKjIx0\\\n",
       "vA/Mx8dHL7744mVvoZekli1b6s0339S4ceM0aNAgDRgwQBEREfLw8NDhw4f15Zdf6tChQ8rPz5en\\\n",
       "p6fj7Qs9evRQeHi4goKCZLfbtXnzZhUVFWnatGlq2rTpVZn9cp5//nnt27dPkhx3cK5Zs8Zxebdz\\\n",
       "586aPn26y9aHuo+AwSgPP/ywUlNT9c033zgC1KZNG913332aMmWK4w5HSZozZ478/Pz01ltv6fXX\\\n",
       "X1fz5s1188036/HHH6/0br7acsMNN+iRRx7RwoUL9eqrr0qSBg4cqCeeeKLalwQHDBigzMxMvfTS\\\n",
       "S/r444+Vm5urxo0bKzAwUL169dJTTz3leK3suuuu00MPPaStW7cqPT1dRUVFatWqlTp37qy//OUv\\\n",
       "uv3222tt1iuRlpbmuIxa7osvvnAErG/fvgQMl+Vmt9utqncDcKVWrVqlqVOnaubMmY5fXAug5vAa\\\n",
       "GADASAQMAGAkXgODSx08eLDC7+u7FN5jBOBCvAYGl8rIyNDQoUOrtW9KSgq3aQNwIGAAACPxGhgA\\\n",
       "wEgEDABgJAL2/9lsNlcvwWUa6uwNdW6p4c7eUOeW6ufsBAwAYCQCBgAwEgEDABiJgAEAjETAAABG\\\n",
       "ImAAACMRMACAkerkr5Kqj+9XAICGKCwsrNaOXScD5go2m61Wv9B1WUOdvaHOLTXc2Rvq3FL9nJ1L\\\n",
       "iAAAIxEwAICRCBgAwEgEDABgJAIGADASAQMAGImAAQCMRMAAAEYiYAAAIxEwAICRCBgAwEgEDABg\\\n",
       "JAIGADASAQMAGImAAQCMRMAAAEYiYAAAIxEwAICRCBgAwEgEDABgJAIGADASAQMAGImAAQCMRMAA\\\n",
       "AEYiYAAAIxEwAICRCBgAwEgEDABgJAIGADASAQMAGImAAQCMRMAAAEYiYAAAIxEwAICRCBgAwEgE\\\n",
       "DABgJAIGADASAQMAGImAAQCMRMAAAEYiYAAAI7nZ7XbL1Yu4mM1mc/USAAA1ICwsrNaOXScD5go2\\\n",
       "m61Wv9B1WUOdvaHOLTXc2Rvq3FL9nJ1LiAAAIxEwAICRCBgAwEgEDABgJAIGADASAQMAGImAAQCM\\\n",
       "RMAAAEYiYAAAIxEwAICRCBgAwEgEDABgJAIGADASAQMAGImAAQCMRMAAAEYiYAAAIxEwAICRCBgA\\\n",
       "wEgEDABgJAIGADASAQMAGImAAQCMRMAAAEYiYAAAIxEwAICRCBgAwEgEDABgJAIGADASAQMAGImA\\\n",
       "AQCMRMAAAEYiYAAAIxEwAICRCBgAwEgEDABgJAIGADASAQMAGImAAQCMRMAAAEZys9vtlqsXcTGb\\\n",
       "zebqJQAAakBYWFitHbtOBswVbDZbrX6h67KGOntDnVtquLM31Lml+jk7lxABAEYiYAAAIxEwAICR\\\n",
       "CBgAwEgEDABgJAIGADASAQMAGImAAQCMRMAAAEYiYAAAIxEwAICRCBgAwEgEDABgJAIGADASAQMA\\\n",
       "GImAAQCMRMAAAEYiYAAAIxEwAICRCBgAwEgEDABgJAIGADASAQMAGImAAQCMRMAAAEYiYAAAIxEw\\\n",
       "AICRCBgAwEgEDABgJAIGADASAQMAGImAAQCMRMAAAEYiYAAAIxEwAICRCBgAwEgEDABgJAIGADAS\\\n",
       "AQMAGImAAQCM5Ga32y1XL+JiNpvN1UsAANSAsLCwWjt2nQyYK9hstlr9QtdlDXX2hjq31HBnb6hz\\\n",
       "S/Vzdi4hAgCMRMAAAEYiYAAAIxEwAICRCBgAwEgEDABgJAIGADASAQMAGImAAQCMRMAAAEYiYAAA\\\n",
       "IxEwAICRCBgAwEgEDABgJAIGADASAQMAGImAAQCMRMAAAEYiYAAAIxEwAICRCBgAwEgEDABgJAIG\\\n",
       "ADASAQMAGImAAQCMRMAAAEYiYAAAIxEwAICRCBgAwEgEDABgJAIGADASAQMAGImAAQCMRMAAAEYi\\\n",
       "YAAAIxEwAICRCBgAwEgEDABgJAIGADASAQMAGImAAQCM5Ga32y1XL+JiNpvN1UsAANSAsLCwWjt2\\\n",
       "nQyYK9hstlr9QtdlDXX2hjq31HBnb6hzS/Vzdi4hAgCMRMAAAEYiYAAAIxEwAICRCBgAwEgEDABg\\\n",
       "JAIGADASAQMAGImAAQCMRMAAAEYiYAAAIxEwAICRCBgAwEgEDABgJAIGADASAQMAGImAAQCMRMAA\\\n",
       "AEYiYAAAIxEwAICRCBgAwEgEDABgJAIGADASAQMAGImAAQCMRMAAAEYiYAAAIxEwAICRCBgAwEgE\\\n",
       "DABgJAIGADASAQMAGImAAQCMRMAAAEYiYEAtKTxddkWPA7gyBAyoBTkFZ7R870ntKSpxenxPUYmW\\\n",
       "7z2pnIIzLloZUH80dvUCgPomp+CMPvnxfKCS809Jkrq09NCeohIl55+SJTm2Rwd6uWqZgPEIGFCD\\\n",
       "Ck+X6dMj/z27snQ+Yt8Wlch2vFTWBft+euSMOrVoLD9v96u+TqA+4BIiUIP8vN01tL2P3C54zJK0\\\n",
       "76J4uUka2t6HeAG/AgEDaliXlh4a1sE5YhdykzSsg4+6tPS4mssC6h03u91uVb3b1WWz2Vy9BOBX\\\n",
       "+/cxd+X/p+LPiB2anNMgf+5ERMMQFhZWa8euk6+B1ebAl2Kz2VzyvHVBQ529NufeU1SiE8Wn1Mqn\\\n",
       "4rYTkkqude0ZGH/mDU99nJ1LiEANu/Buw8qU39hx8S32AK4MAQNqUOHpMqUcPFXhho3OLRpXuLEj\\\n",
       "5eAp3tQM/AoEDKhBft7uujnov+/tKr9hY2THJhVu7Lg5yIu7EIFfoU6+BgaYrPzNyZ8eOaOh7f/7\\\n",
       "Wlf5f1MOntLNQV68iRn4lQgYUAuiA70qfZNyl5YeCvRpxJkXUAO4hAjUkktFingBNYOAAQCMRMAA\\\n",
       "AEaqk7+JAwCAqnAGBgAwEgEDABiJgAEAjETAAABGMjZgP/30k+69916FhoYqMDBQ0dHR2rp1qySp\\\n",
       "pKREc+fOVZ8+fdSmTRuFh4dr0qRJ+uGHH5yOcebMGT3yyCPq2LGj2rRpozvvvFOHDx922ueHH37Q\\\n",
       "mDFj1KZNG3Xs2FGPPvqozp4967TP1q1bddNNNykwMFDdu3fXypUrXTb7xR588EH5+vrqxRdfdHrc\\\n",
       "xNmrM/f+/fs1btw4hYSEKCgoSAMGDFBeXp7Rc0tVz15cXKxHHnlEXbp0UevWrXXDDTdo2bJlTscw\\\n",
       "cfaoqCj5+vpW+IiPj3fss3z5cnXr1k2BgYG66aablJWVVe/nfu655zRw4EAFBwcrNDRUY8aM0Z49\\\n",
       "e5yOYVmWFi1apIiICLVu3Vq33Xabvv32W6d97Ha7EhISFBISopCQECUkJMhutzvts3v3bg0ZMkSt\\\n",
       "W7fWb3/7WyUmJsqy6sa9f0YGzG63Ky4uTpZl6b333lNOTo7++te/yt/fX5L0n//8R9u3b9eMGTO0\\\n",
       "ZcsWrV69WocPH9aoUaNUWlrqOM7s2bOVkpKiFStWaOPGjTpx4oTGjBmjsrLzv2C1rKxMY8aMUXFx\\\n",
       "sTZu3KgVK1YoOTlZc+bMcRwjPz9f8fHx6tWrlz777DM99NBDevTRR7VhwwaXzH6hDRs26KuvvlJQ\\\n",
       "UFCFbabNXp258/PzFRcXp/bt2ys5OVnZ2dl6/PHH1bRpU2Pnru7sc+bM0b///W/9/e9/V05Ojh5+\\\n",
       "+GHNmzdP77zzjtGzp6enKy8vz/GxZcsWubm56fbbb5ckvf/++5o1a5YefvhhffbZZ+rVq5dGjx7t\\\n",
       "9MNqfZx769atmjhxojZv3qzk5GQ1btxYt99+u4qKihzHWLp0qZYtW6bExER98skn8vf314gRI3Ti\\\n",
       "xAnHPpMmTdKOHTu0du1arV27Vjt27NA999zj2P7LL79oxIgRCggI0CeffKLFixfrxRdf1EsvvVQr\\\n",
       "c18pI2+jnz9/vjIzM7V58+Zqf87evXsVExOjzMxMRUZG6vjx4+rUqZOWLVvm+Knm0KFDioqK0tq1\\\n",
       "axUbG6uPPvpI8fHx2rlzp9q1aydJevfdd/XnP/9ZNptNzZs319y5c5WSkqKvv/7a8Vz333+/9u7d\\\n",
       "q48++qhmB1f1Z//+++8VFxen9evXa9SoUUpISND9998vSUbOXp25J02aJDc3N7322muVbjdxbql6\\\n",
       "s/fu3VtDhw7VY4895nhsyJAhioyMVFJSkrGzX+yZZ57RCy+8oLy8PPn4+Cg2NlaRkZF64YUXHPv0\\\n",
       "7NlTw4cP19y5c+vt3BcrLi5WSEiIVq1apcGDB8uyLEVERGjy5MmaMWOGJOnUqVMKCwvTggULNGHC\\\n",
       "BOXl5Sk6OlqbNm1STEyMJCk7O1uDBw/WF198obCwMK1YsUJPPfWU9u3b53jepKQkrVy5Unv27JGb\\\n",
       "26X+3fGrw8gzsNTUVF1//fWaMGGCOnXqpH79+unVV1+97Glt+U8dvr6+kqRt27appKREt9xyi2Of\\\n",
       "du3aKTw8XDk5OZKk3NxchYeHO/5SS1JsbKzOnDmjbdu2Ofa58Bjl+3zzzTcqKan5f++pOrOXlpZq\\\n",
       "0qRJmjFjhsLDwyscw8TZq5r73Llz2rRpk8LDwzVy5EiFhoZq4MCBev/9942euzqzS1JMTIw2bdqk\\\n",
       "Q4cOSZJycnK0a9cuxcbGGj37hSzL0ltvvaUxY8bIx8dHZ8+e1bZt2yqs55ZbbnHMVB/nrkxxcbHO\\\n",
       "nTvn+P528OBBFRQUOK3Zx8dHffr0cZr7mmuuUXR0tGOfmJgYNW3a1Gmf3r17Oz1vbGysjhw5ooMH\\\n",
       "D9b4rFfKyIDl5+drxYoV6tChg9atW6d7771X8+bNu+RP3mfPntXjjz+uW2+9VW3btpUkHT16VO7u\\\n",
       "7vLz83Pa19/fX0ePHnXsc/GlOT8/P7m7u192H39/f5WWlqqwsLBG5r1QdWZftGiRWrVqpYkTJ1Z6\\\n",
       "DBNnr2ruY8eOqbi42PHawL/+9S+NHDlSkydPdpy5mDh3dWaXpMTERHXt2lVdu3bVtddeq9tuu01P\\\n",
       "PfWUbr31VqNnv1B6eroOHjyou+++W5JUWFiosrKyStdz4Xrr29yVmTVrlqKiotSrVy9JUkFBgWON\\\n",
       "F7p4bj8/P6ezKDc3N1177bVVzl2+zdWM/G30586d03XXXae5c+dKkrp3767vvvtOy5cvV0JCgtO+\\\n",
       "paWlSkhI0PHjx7VmzRpXLLdGVTV7RkaGVq9erYyMDBevtGZVNfe5c+cknb9sNm3aNElSt27dtG3b\\\n",
       "Nr322muKi4tz2dp/rer8fX/llVeUm5urNWvWKDg4WFlZWXriiScUEhKi3/3ud65cfo1544031LNn\\\n",
       "T0VFRbl6KVdVVXM/9thj+vzzz7Vp0ya5uzesXxRt5BlYYGBghUtjnTt3dlw+KVdaWqqJEydq9+7d\\\n",
       "2rBhg1q1auXYFhAQoLKysgo/PR07dkwBAQGOfY4dO+a0vfynvsvtc+zYMTVu3LjCT301oarZt27d\\\n",
       "qp9++knh4eHy8/OTn5+ffvjhB82dO1ddunRxrNm02aua28/PT40bN77sPibOLVU9+6lTpzR//nzN\\\n",
       "mzdPgwcPVteuXZWQkKA77rjDcfepqbNf+BwbN27U+PHjHY+VnyVVtp4L11vf5r7Q7NmztW7dOiUn\\\n",
       "J6tDhw6OxwMDAx2ff/HxLpypsLDQ6VK0ZVn6v//7vyrnLt/makYGLCYmRvv373d6bP/+/QoODnb8\\\n",
       "f0lJiSZMmKDdu3crJSXF8QdarkePHvLw8FB6errjscOHDzte2JSkXr16KS8vz+mW2/T0dHl5ealH\\\n",
       "jx6OfS48Rvk+1113nTw8PGpm4AtUNfukSZOUmZmpjIwMx0dQUJCmTJniuGPKxNmrmtvT01M9e/aU\\\n",
       "zWa75D4mzi1VPXtJSYlKSkoq/PTt7u7uODM1dfZyq1evlpeXl0aOHOl4zNPTUz169Kh0PeUz1ce5\\\n",
       "y82cOdMRr86dOztta9++vQIDA53WfPr0aWVnZzvNXVxcrNzcXMc+ubm5OnnypNM+2dnZOn36tGOf\\\n",
       "9PR0BQUFqX379jU66//CfdasWU+5ehFXql27dkpMTFSjRo3UunVrbdmyRU8//bSmT5+u66+/XqWl\\\n",
       "pRo/fry+/vprvfnmm2rWrJlOnjypkydPyt3dXR4eHvL29tZPP/2k5cuXO+5KnD59upo3b6558+ap\\\n",
       "UaNG6tChg1JSUvTJJ58oMjJSe/fu1YwZMzR69GgNHTpUkvSb3/xGS5cu1bFjxxQcHKyNGzfq2Wef\\\n",
       "1dNPP62IiIirPnvTpk3l7+/v9PHKK6/opptu0uDBgyXJyNmrmluSWrZsqcWLFysgIEDNmzdXcnKy\\\n",
       "li5dqoULF6pTp05Gzl2d2b28vJSRkeG4icWyLKWmpuq5557TPffcoxtuuMHY2aXzZwVTp05VXFyc\\\n",
       "hg8f7rStWbNmWrRokVq3bi1vb28lJSUpKytLL730klq0aFFv554xY4beeecdvf7662rXrp3j+5t0\\\n",
       "Puxubm4qKyvTkiVLFBoaqrKyMs2ZM0cFBQVasmSJvLy8dO211+rLL7/U2rVrFRUVpcOHD2v69Onq\\\n",
       "2bOn41b60NBQ/eMf/9DOnTsVFham7OxsPfnkk3rwwQedbv5wGbvdbpn48e6771qRkZGWl5eXFRoa\\\n",
       "ai1evNgqKiqy7Ha7tX37dktSpR/Lli1zHKOgoMCaPHmy1bJlS8vHx8eKi4uzdu3a5fQ8O3futOLi\\\n",
       "4iwfHx+rZcuWVkJCglVQUOC0zwcffGB169bN8vT0tEJCQqznnnvOZbNX9hEcHGwtWLDA6TETZ6/O\\\n",
       "3MuWLbNCQ0Mtb29vq0uXLtby5cuNn7s6s+fl5Vl33XWXFRQUZHl7e1thYWHWggULnPYxdfbk5GRL\\\n",
       "kvXxxx9Xuv2ZZ56xgoODLU9PT6t79+5Wampqvfgzv9zcl/r+NnPmTMc+RUVF1syZM63AwEDLy8vL\\\n",
       "6tOnj5WVleV0nPz8fCs+Pt5q1qyZ1axZMys+Pt7Kz8932iczM9Pq3bu35eXlZQUGBlqzZs267Peb\\\n",
       "q/lh5PvAAAAw8jUwAAAIGADASAQMAGAkAgYAMBIBAwAY6f8B49GBdDDLeRQAAAAASUVORK5CYII=\\\n",
       "\"\n",
       "  frames[1] = \"data:image/png;base64,iVBORw0KGgoAAAANSUhEUgAAAbAAAAEgCAYAAADVKCZpAAAABHNCSVQICAgIfAhkiAAAAAlwSFlz\\\n",
       "AAALEgAACxIB0t1+/AAAADh0RVh0U29mdHdhcmUAbWF0cGxvdGxpYiB2ZXJzaW9uMy4xLjAsIGh0\\\n",
       "dHA6Ly9tYXRwbG90bGliLm9yZy+17YcXAAAdiklEQVR4nO3deVSVdeLH8Q8iIJmKIuAGOiLCqCha\\\n",
       "Ce4pHVFKzdyatByPQos6ZVpqVqbmqEOLZs5MpY0tLnW0FNR0cslQCNrc0652oDJDh7gkjgvL8/vD\\\n",
       "HzevoGAjXL7yfp1zT6fn+fLc7+eBcz/3We7VzW63WwIAwDA1XD0BAAB+DwoMAGAkCgwAYCQKDABg\\\n",
       "JAoMAGAkCgwAYCQKDABgJAoMAGAkCgwAYCQKDABgJAoMAGAkCgwAYCQKDABgJAoMqELmzZsnHx8f\\\n",
       "JScnu3oqQJVX09UTAFD9HDt2TBs2bND27dt17NgxZWVlqW7duoqIiNDYsWMVGxvr6inCABQYgEo3\\\n",
       "d+5cffDBBwoJCVHv3r3VsGFDZWZmasOGDdq2bZsmTpyoOXPmuHqaqOIoMACVrk+fPpo4caI6duzo\\\n",
       "tPzQoUPq16+fFi9erCFDhigiIsJFM4QJuAaG6y4zM1M+Pj668847lZ2drUcffVShoaHy9/dXVFSU\\\n",
       "3n333f9p+ykpKbr33nvVtm1b+fv7q1WrVrr99ts1Y8YMWdZv/8D4iRMntGDBAsXExKh169by8/NT\\\n",
       "WFiYxo4dq2+++eaq8z558qTGjx+vkJAQNWnSRH379lVKSook6cyZM3rmmWfUrl07+fv7KzIyUuvW\\\n",
       "rSuxvRUrVsjHx0fz5s3TZ599poEDByowMFCBgYEaOnSo9uzZc025v/vuO02cONHxvMHBwRo5cmSp\\\n",
       "2zl9+rQSEhLUtWtXBQUFqWnTpmrfvr1GjRpVJa6vjRo1qkR5SVKbNm00ePBgSaoS80TVxhEYKkxu\\\n",
       "bq5iYmLk6empgQMH6sKFC1q3bp0mTJigGjVq6L777rvmbW7dulXDhw/XzTffrP79+6tp06ay2+06\\\n",
       "duyYXnvtNc2aNUs1a178s05JSdHChQvVo0cPDRw4ULVr19axY8eUmJiojz76SB999JE6dOhwxXnX\\\n",
       "r19fw4YN008//aT169dryJAh+vjjj/Xoo48qLy9PsbGxOn36tNauXasxY8aoadOmuu2220ps78sv\\\n",
       "v9TLL7+s3r17Ky4uTseOHVNSUpJ2796tdevWKTIysszcO3fu1MiRI3Xu3DnFxMQoODhYJ06cUFJS\\\n",
       "krZu3aqVK1cqOjpakmRZloYOHaq0tDTdcsstGjlypDw9PXXixAmlpKRo586d6tGjxzXv+8ri4eEh\\\n",
       "SY7fI3Al/IWgwhw4cED333+/Fi5cKHd3d0nSww8/rG7dumnRokW/q8DeeustFRUVacOGDWrfvr3T\\\n",
       "ul9++cXpRa9nz5769ttvVadOHadx+/fvV79+/TR79mytXbu21HnHx8drwYIFcnNzkyS9+OKLmjNn\\\n",
       "ju666y716NFDy5Ytk6enp6SLp8Pi4uK0cOFCrVixosT2tm7dqoSEBMXFxTmWrV+/XqNHj9aECROU\\\n",
       "np7ueJ7S5ObmasyYMfLw8NDWrVsVFhbmWHfkyBFFR0dr/Pjx2rt3r7y8vHTo0CGlpaUpNjZWK1eu\\\n",
       "dNqWZVnKycm54nNdat++fdq4cWO5xha777771Lx582v6mUvl5uYqMTFRNWrUUJ8+fX73dlA9UGCo\\\n",
       "MDfddJPmzp3rKC9JCgsLU2RkpFJSUpSXl6ebb775d23b29u7xLIGDRo4/b+fn1+pPxseHq4ePXpo\\\n",
       "x44dys/Pd7zjL1a7dm09++yzTqUyYsQIzZkzR3a7Xc8//7yjvCTpnnvu0SOPPKL9+/eX+nwtW7bU\\\n",
       "2LFjnZYNGjRInTt3Vnp6utLS0hQVFXXFrKtXr9Yvv/yi+fPnO5WXJIWGhuqBBx7Q3//+d+3cuVN9\\\n",
       "+/Z1rCttH7m5uZXYT1eyf/9+LViwoFxji3Xv3v13F1hRUZHGjx+vkydPKi4uTqGhob9rO6g+KDBU\\\n",
       "mJYtW6pu3bolljdr1kySZLfbr7nAhg0bpqSkJEVHR2vw4MHq0aOHbrvttiu+aG7ZskVvvvmm9uzZ\\\n",
       "o+zsbBUUFDitz87OVqNGjUrM+/J5FY+pV69eiedyd3eXn5+ffvrpp1Ln0KVLF9WoUfJyc7du3ZSe\\\n",
       "nq59+/ZdtcDS0tIkSQcPHtS8efNKrD969Kiki0djffv2VVhYmMLDw7V27Vp9//33io2NVWRkpDp1\\\n",
       "6qRatWpd8XkuN3LkSI0cObLc4/8XlmVp8uTJ2rBhg7p37665c+dWyvPCbBQYKky9evVKXV58RFZY\\\n",
       "WHjN2xw4cKDef/99LVmyRKtWrdJbb70l6eLF/6lTp2rQoEGOsf/4xz80ffp0+fj4qHfv3mrWrJm8\\\n",
       "vb3l5uamjRs36sCBAzp//nyJ5yitdItPTZa2rjjT5eVYzN/fv9TlxUeIv/7661USXzw1KknvvPPO\\\n",
       "VcedOXPGMZekpCQlJCQoMTFRs2bNknTxiHjw4MGaPXu2fH19r7qtymRZliZNmqTly5erV69eWrVq\\\n",
       "ldMRLnAlFBiM07dvX/Xt21dnz57VV199pa1bt2rp0qX685//rKSkJHXv3l0FBQWaP3++AgICtHPn\\\n",
       "zhJHWZ9//nmlzffkyZOlLj916pSkK5diseL1n3zySblvK/fx8dHcuXM1d+5cZWRkKCUlRe+++65W\\\n",
       "rFih77//XklJSWVuozKugRUWFmr8+PFavXq17rjjDr377rvXdJSI6o0Cg7G8vb3VrVs3devWTc2b\\\n",
       "N9djjz2mjRs3qnv37srOzlZubq569uxZorzy8vK0d+/eSpvnZ599pqKiohKnEXfv3i1JJW5Gudxt\\\n",
       "t92mxMREpaam/q7PRbVo0UItWrTQ8OHDFRERoeTkZOXm5l7xCLlYRV8Dy8/PV3x8vD788EPFxsZq\\\n",
       "+fLlHHnhmvA5MBhl165dpZ6qy8rKknTxNJl08fTcTTfdpD179igvL88xLj8/X9OmTVN2dnblTFgX\\\n",
       "vzZp2bJlTsvWr1+v9PR0hYSElHkb/ahRo+Tj46OEhASlp6eXWG9ZllJTU3XhwgVJUkZGhjIyMkqM\\\n",
       "y8vL05kzZ+Th4VGuW9RHjhwpu91+TY/y3p5//vx53X///frwww81ePBgvf3225QXrhlHYDDKtGnT\\\n",
       "dPz4cUVFRSkoKEi1atXSwYMHtW3bNjVo0ECjR4+WJNWoUUMPPvigXn75ZXXt2lWxsbHKz89XcnKy\\\n",
       "cnJy1KNHj0r7oGx0dLRmzJihrVu3qm3bto7PgXl7e2vx4sVXvYVekurXr6+3335bo0aNUt++fdWz\\\n",
       "Z0+FhYXJw8NDx48f1xdffKEff/xRGRkZ8vT0dHx8ISIiQqGhoWrcuLHsdru2bNminJwcTZgwQbVr\\\n",
       "166U7FcyadIkbd68WXXr1lVwcLASEhJKjAkPD9ddd93lgtnBFBQYjDJ58mRt3LhRX3/9taOAmjRp\\\n",
       "oocffliPPPKI4w5HSZoxY4Z8fX31zjvvaPny5apbt65uv/12Pf3006XezVdRbr31Vj3xxBOaO3eu\\\n",
       "Xn/9dUlS79699cwzz5T7lGDPnj21e/duvfrqq9q2bZvS09NVs2ZNBQQEqHPnznruuecc18o6duyo\\\n",
       "xx9/XLt27dKOHTuUk5OjBg0aqHXr1vrrX/+qu+++u8KylldmZqakizewvPDCC6WO+dOf/kSB4arc\\\n",
       "7Ha7VfYwANdqxYoVGj9+vKZOnarp06e7ejrADYdrYAAAI1FgAAAjcQ0MLpWZmVni+/qu5H/9nj0A\\\n",
       "NxaugcGlkpOTNWDAgHKNTUpKqtLfog6gclFgAAAjcQ0MAGAkCgwAYCQK7P/ZbDZXT8Flqmv26ppb\\\n",
       "qr7Zq2tu6cbMToEBAIxEgQEAjESBAQCMRIEBAIxEgQEAjESBAQCMRIEBAIxUJb9K6kb8vAIAVEch\\\n",
       "ISEVtu0qWWCuYLPZKnRHV2XVNXt1zS1V3+zVNbd0Y2bnFCIAwEgUGADASBQYAMBIFBgAwEgUGADA\\\n",
       "SBQYAMBIFBgAwEgUGADASBQYAMBIFBgAwEgUGADASBQYAMBIFBgAwEgUGADASBQYAMBIFBgAwEgU\\\n",
       "GADASBQYAMBIFBgAwEgUGADASBQYAMBIFBgAwEgUGADASBQYAMBIFBgAwEgUGADASBQYAMBIFBgA\\\n",
       "wEgUGADASBQYAMBIFBgAwEgUGADASBQYAMBIFBgAwEgUGADASBQYAMBIFBgAwEgUGADASBQYAMBI\\\n",
       "FBgAwEgUGADASG52u91y9SQuZ7PZXD0FAMB1EBISUmHbrpIF5go2m61Cd3RVVl2zV9fcUvXNXl1z\\\n",
       "Szdmdk4hAgCMRIEBAIxEgQEAjESBAQCMRIEBAIxEgQEAjESBAQCMRIEBAIxEgQEAjESBAQCMRIEB\\\n",
       "AIxEgQEAjESBAQCMRIEBAIxEgQEAjESBAQCMRIEBAIxEgQEAjESBAQCMRIEBAIxEgQEAjESBAQCM\\\n",
       "RIEBAIxEgQEAjESBAQCMRIEBAIxEgQEAjESBAQCMRIEBAIxEgQEAjESBAQCMRIEBAIxEgQEAjESB\\\n",
       "AQCMRIEBAIxEgQEAjESBAQCMRIEBAIxEgQEAjESBAQCM5Ga32y1XT+JyNpvN1VMAAFwHISEhFbbt\\\n",
       "KllgrmCz2Sp0R1dl1TV7dc0tVd/s1TW3dGNm5xQiAMBIFBgAwEgUGADASBQYAMBIFBgAwEgUGADA\\\n",
       "SBQYAMBIFBgAwEgUGADASBQYAMBIFBgAwEgUGADASBQYAMBIFBgAwEgUGADASBQYAMBIFBgAwEgU\\\n",
       "GADASBQYAMBIFBgAwEgUGADASBQYAMBIFBgAwEgUGADASBQYAMBIFBgAwEgUGADASBQYAMBIFBgA\\\n",
       "wEgUGADASBQYAMBIFBgAwEgUGADASBQYAMBIFBgAwEgUGADASBQYAMBIFBgAwEgUGADASBQYAMBI\\\n",
       "bna73XL1JC5ns9lcPQUAwHUQEhJSYduukgXmCjabrUJ3dFVWXbNX19xS9c1eXXNLN2Z2TiECAIxE\\\n",
       "gQEAjESBAQCMRIEBAIxEgQEAjESBAQCMRIEBAIxEgQEAjESBAQCMRIEBAIxEgQEAjESBAQCMRIEB\\\n",
       "AIxEgQEAjESBAQCMRIEBAIxEgQEAjESBAQCMRIEBAIxEgQEAjESBAQCMRIEBAIxEgQEAjESBAQCM\\\n",
       "RIEBAIxEgQEAjESBAQCMRIEBAIxEgQEAjESBAQCMRIEBAIxEgQEAjESBAQCMRIEBAIxEgQEAjESB\\\n",
       "AQCMRIEBAIxEgQEAjESBAQCMRIEBAIxEgQEAjORmt9stV0/icjabzdVTAABcByEhIRW27SpZYK5g\\\n",
       "s9kqdEdXZdU1e3XNLVXf7NU1t3RjZucUIgDASBQYAMBIFBgAwEgUGADASBQYAMBIFBgAwEgUGADA\\\n",
       "SBQYAMBIFBgAwEgUGADASBQYAMBIFBgAwEgUGADASBQYAMBIFBgAwEgUGADASBQYAMBIFBgAwEgU\\\n",
       "GADASBQYAMBIFBgAwEgUGADASBQYAMBIFBgAwEgUGADASBQYAMBIFBgAwEgUGADASBQYAMBIFBgA\\\n",
       "wEgUGADASBQYAMBIFBgAwEgUGADASBQYrln2ucJrWl5dsZ+AikWB4ZqkZZ3X0sNndCgn32n5oZx8\\\n",
       "LT18RmlZ5100s6qF/QRUvJqungDMkZZ1Xtt/uvjCm5hxVpLUpr6HDuXkKzHjrCzJsT4ywMtV03Q5\\\n",
       "9hNQOSgwlEv2uUJ9cuK3owZLF1+cv8nJly23QNYlYz85cV6t6tWUby33Sp+nq7GfgMrDKUSUi28t\\\n",
       "dw1o7i23S5ZZkr697EXZTdKA5t7V9kWZ/QRUHgoM5damvocGtnB+cb6Um6SBLbzVpr5HZU6rymE/\\\n",
       "AZXDzW63W2UPq1w2m83VU8BV/PuUuzL+W/K9T4ubitTXjzvsirGfACkkJKTCtl0lr4FVZOArsdls\\\n",
       "LnnequBash/KydfpvLNq4F1y3WlJ+Q3NObKoyN95Vd9P1fXvvbrmlm7M7JxCRLldehddaYpvWLj8\\\n",
       "1vHqhv0EVA4KDOWSfa5QSZlnS9yI0LpezRI3LCRlnq22H9ZlPwGVhwJDufjWctftjX/7zFLxjQhD\\\n",
       "Wt5U4oaF2xt7Vdu769hPQOWpktfAUDUVf+j2kxPnNaD5b9dwiv+blHlWtzf2qvYfzmU/AZWDAsM1\\\n",
       "iQzwKvXDt23qeyjAuwZHFP+P/QRUPE4h4ppd6cWXF2Vn7CegYlFgAAAjUWAAACNVyW/iAACgLByB\\\n",
       "AQCMRIEBAIxEgQEAjESBAQCMZGyB/fzzz3rooYcUHBysgIAARUZGateuXZKk/Px8zZw5U127dlWT\\\n",
       "Jk0UGhqqcePG6YcffnDaxvnz5/XEE0+oZcuWatKkie69914dP37cacwPP/ygESNGqEmTJmrZsqWe\\\n",
       "fPJJXbhwwWnMrl271KtXLwUEBKhDhw568803XZb9co899ph8fHy0ePFip+UmZi9P7qNHj2rUqFEK\\\n",
       "CgpS48aN1bNnTx05csTo3FLZ2fPy8vTEE0+oTZs2atSokW699VYtWbLEaRsmZg8PD5ePj0+Jx/Dh\\\n",
       "wx1jli5dqvbt2ysgIEC9evVSSkrKDZ/7pZdeUu/evRUYGKjg4GCNGDFChw4dctqGZVmaN2+ewsLC\\\n",
       "1KhRI91555365ptvnMbY7XbFx8crKChIQUFBio+Pl91udxpz8OBBxcbGqlGjRvrjH/+oBQsWyLKq\\\n",
       "xr1/RhaY3W5XTEyMLMvS+++/r7S0NP3tb3+Tn5+fJOm///2v9u7dqylTpmjnzp1auXKljh8/rqFD\\\n",
       "h6qgoMCxnenTpyspKUnLli3Tpk2bdPr0aY0YMUKFhRe/YLWwsFAjRoxQXl6eNm3apGXLlikxMVEz\\\n",
       "ZsxwbCMjI0PDhw9X586d9emnn+rxxx/Xk08+qfXr17sk+6XWr1+vL7/8Uo0bNy6xzrTs5cmdkZGh\\\n",
       "mJgYNW/eXImJiUpNTdXTTz+t2rVrG5u7vNlnzJihf//73/rnP/+ptLQ0TZ48WbNmzdLq1auNzr5j\\\n",
       "xw4dOXLE8di5c6fc3Nx09913S5I++OADTZs2TZMnT9ann36qzp07a9iwYU5vVm/E3Lt27dLYsWO1\\\n",
       "ZcsWJSYmqmbNmrr77ruVk5Pj2MaiRYu0ZMkSLViwQNu3b5efn58GDx6s06dPO8aMGzdO+/bt05o1\\\n",
       "a7RmzRrt27dPDz74oGP9r7/+qsGDB8vf31/bt2/X/PnztXjxYr366qsVkvtaGXkb/ezZs7V7925t\\\n",
       "2bKl3D9z+PBhRUVFaffu3Wrbtq1yc3PVqlUrLVmyxPGu5scff1R4eLjWrFmj6Ohoffzxxxo+fLj2\\\n",
       "79+vZs2aSZLee+89/eUvf5HNZlPdunU1c+ZMJSUl6auvvnI818SJE3X48GF9/PHH1ze4yp/9+++/\\\n",
       "V0xMjNatW6ehQ4cqPj5eEydOlCQjs5cn97hx4+Tm5qY33nij1PUm5pbKl71Lly4aMGCAnnrqKcey\\\n",
       "2NhYtW3bVgkJCcZmv9wLL7ygV155RUeOHJG3t7eio6PVtm1bvfLKK44xnTp10qBBgzRz5swbNvfl\\\n",
       "8vLyFBQUpBUrVqh///6yLEthYWGKi4vTlClTJElnz55VSEiI5syZozFjxujIkSOKjIzU5s2bFRUV\\\n",
       "JUlKTU1V//799fnnnyskJETLli3Tc889p2+//dbxvAkJCXrzzTd16NAhubld6d8drxxGHoFt3LhR\\\n",
       "t9xyi8aMGaNWrVqpe/fuev311696WFv8rsPHx0eStGfPHuXn56tPnz6OMc2aNVNoaKjS0tIkSenp\\\n",
       "6QoNDXX8UUtSdHS0zp8/rz179jjGXLqN4jFff/218vOv/7/3VJ7sBQUFGjdunKZMmaLQ0NAS2zAx\\\n",
       "e1m5i4qKtHnzZoWGhmrIkCEKDg5W79699cEHHxiduzzZJSkqKkqbN2/Wjz/+KElKS0vTgQMHFB0d\\\n",
       "bXT2S1mWpXfeeUcjRoyQt7e3Lly4oD179pSYT58+fRyZbsTcpcnLy1NRUZHj9S0zM1NZWVlOc/b2\\\n",
       "9lbXrl2dct98882KjIx0jImKilLt2rWdxnTp0sXpeaOjo3XixAllZmZe96zXysgCy8jI0LJly9Si\\\n",
       "RQutXbtWDz30kGbNmnXFd94XLlzQ008/rX79+qlp06aSpJMnT8rd3V2+vr5OY/38/HTy5EnHmMtP\\\n",
       "zfn6+srd3f2qY/z8/FRQUKDs7OzrkvdS5ck+b948NWjQQGPHji11GyZmLyv3qVOnlJeX57g28OGH\\\n",
       "H2rIkCGKi4tzHLmYmLs82SVpwYIFateundq1a6eGDRvqzjvv1HPPPad+/foZnf1SO3bsUGZmph54\\\n",
       "4AFJUnZ2tgoLC0udz6XzvdFyl2batGkKDw9X586dJUlZWVmOOV7q8ty+vr5OR1Fubm5q2LBhmbmL\\\n",
       "17makd9GX1RUpI4dO2rmzJmSpA4dOui7777T0qVLFR8f7zS2oKBA8fHxys3N1apVq1wx3euqrOzJ\\\n",
       "yclauXKlkpOTXTzT66us3EVFRZIunjabMGGCJKl9+/bas2eP3njjDcXExLhs7v+r8vy9v/baa0pP\\\n",
       "T9eqVasUGBiolJQUPfPMMwoKCtIdd9zhyulfN2+99ZY6deqk8PBwV0+lUpWV+6mnntJnn32mzZs3\\\n",
       "y929en1RtJFHYAEBASVOjbVu3dpx+qRYQUGBxo4dq4MHD2r9+vVq0KCBY52/v78KCwtLvHs6deqU\\\n",
       "/P39HWNOnTrltL74Xd/Vxpw6dUo1a9Ys8a7veigr+65du/Tzzz8rNDRUvr6+8vX11Q8//KCZM2eq\\\n",
       "TZs2jjmblr2s3L6+vqpZs+ZVx5iYWyo7+9mzZzV79mzNmjVL/fv3V7t27RQfH6977rnHcfepqdkv\\\n",
       "fY5NmzZp9OjRjmXFR0mlzefS+d5ouS81ffp0rV27VomJiWrRooVjeUBAgOPnL9/epZmys7OdTkVb\\\n",
       "lqX//Oc/ZeYuXudqRhZYVFSUjh496rTs6NGjCgwMdPx/fn6+xowZo4MHDyopKcnxCy0WEREhDw8P\\\n",
       "7dixw7Hs+PHjjgubktS5c2cdOXLE6ZbbHTt2yMvLSxEREY4xl26jeEzHjh3l4eFxfQJfoqzs48aN\\\n",
       "0+7du5WcnOx4NG7cWI888ojjjikTs5eV29PTU506dZLNZrviGBNzS2Vnz8/PV35+fol33+7u7o4j\\\n",
       "U1OzF1u5cqW8vLw0ZMgQxzJPT09FRESUOp/iTDdi7mJTp051lFfr1q2d1jVv3lwBAQFOcz537pxS\\\n",
       "U1Odcufl5Sk9Pd0xJj09XWfOnHEak5qaqnPnzjnG7NixQ40bN1bz5s2va9bfw33atGnPuXoS16pZ\\\n",
       "s2ZasGCBatSooUaNGmnnzp16/vnnNWnSJN1yyy0qKCjQ6NGj9dVXX+ntt99WnTp1dObMGZ05c0bu\\\n",
       "7u7y8PBQrVq19PPPP2vp0qWOuxInTZqkunXratasWapRo4ZatGihpKQkbd++XW3bttXhw4c1ZcoU\\\n",
       "DRs2TAMGDJAk/eEPf9CiRYt06tQpBQYGatOmTXrxxRf1/PPPKywsrNKz165dW35+fk6P1157Tb16\\\n",
       "9VL//v0lycjsZeWWpPr162v+/Pny9/dX3bp1lZiYqEWLFmnu3Llq1aqVkbnLk93Ly0vJycmOm1gs\\\n",
       "y9LGjRv10ksv6cEHH9Stt95qbHbp4lHB+PHjFRMTo0GDBjmtq1OnjubNm6dGjRqpVq1aSkhIUEpK\\\n",
       "il599VXVq1fvhs09ZcoUrV69WsuXL1ezZs0cr2/SxWJ3c3NTYWGhFi5cqODgYBUWFmrGjBnKysrS\\\n",
       "woUL5eXlpYYNG+qLL77QmjVrFB4eruPHj2vSpEnq1KmT41b64OBg/etf/9L+/fsVEhKi1NRUPfvs\\\n",
       "s3rsscecbv5wGbvdbpn4eO+996y2bdtaXl5eVnBwsDV//nwrJyfHstvt1t69ey1JpT6WLFni2EZW\\\n",
       "VpYVFxdn1a9f3/L29rZiYmKsAwcOOD3P/v37rZiYGMvb29uqX7++FR8fb2VlZTmN2bBhg9W+fXvL\\\n",
       "09PTCgoKsl566SWXZS/tERgYaM2ZM8dpmYnZy5N7yZIlVnBwsFWrVi2rTZs21tKlS43PXZ7sR44c\\\n",
       "se677z6rcePGVq1atayQkBBrzpw5TmNMzZ6YmGhJsrZt21bq+hdeeMEKDAy0PD09rQ4dOlgbN268\\\n",
       "IX7nV8t9pde3qVOnOsbk5ORYU6dOtQICAiwvLy+ra9euVkpKitN2MjIyrOHDh1t16tSx6tSpYw0f\\\n",
       "PtzKyMhwGrN7926rS5culpeXlxUQEGBNmzbtqq83lfkw8nNgAAAYeQ0MAAAKDABgJAoMAGAkCgwA\\\n",
       "YCQKDABgpP8DjBg6b4Jef5oAAAAASUVORK5CYII=\\\n",
       "\"\n",
       "  frames[2] = \"data:image/png;base64,iVBORw0KGgoAAAANSUhEUgAAAbAAAAEgCAYAAADVKCZpAAAABHNCSVQICAgIfAhkiAAAAAlwSFlz\\\n",
       "AAALEgAACxIB0t1+/AAAADh0RVh0U29mdHdhcmUAbWF0cGxvdGxpYiB2ZXJzaW9uMy4xLjAsIGh0\\\n",
       "dHA6Ly9tYXRwbG90bGliLm9yZy+17YcXAAAd4klEQVR4nO3deVhVdeLH8Q8imyuKgAugiQijomYm\\\n",
       "uJYxj7iMW2494eQ4KlbatFlqWqbmqFmplTNTadOmbVoKaTpaZCwGbbimXW0wNVOHuCTmAnh+f/jj\\\n",
       "jldQwBEvX3i/nuf+4Tlfz/1+vvLczz3nnotudrvdEgAAhqnh6gkAAHA1KDAAgJEoMACAkSgwAICR\\\n",
       "KDAAgJEoMACAkSgwAICRKDAAgJEoMACAkSgwAICRKDAAgJEoMACAkSgwAICRKDCgEpk/f758fX2V\\\n",
       "nJzs6qkAlV5NV08AQPVz+PBhLV68WJmZmTp06JDsdrsaNmyoG264QXFxcRo1apQ8PDxcPU1UcpyB\\\n",
       "Abju/v3vf+v9999XvXr1NGDAAE2ePFl9+/bVoUOHNHnyZA0ZMkQFBQWuniYqOc7AAFx3UVFRysrK\\\n",
       "Uo0azu+h8/PzNXToUKWkpOjDDz/UiBEjXDRDmIAzMFxzBw8elK+vrwYMGKDs7Gzdf//9Cg8PV0BA\\\n",
       "gKKjo/XWW2/9T8dPS0vTHXfcobZt2yogIECtWrXSrbfeqhkzZsiy/vsfjB89elQLFy5UbGysWrdu\\\n",
       "LX9/f0VERGjcuHH67rvvrjjv48ePa9KkSQoLC1PTpk3Vp08fpaWlSZJOnTqlxx9/XO3atVNAQICi\\\n",
       "oqK0du3aYsdbuXKlfH19NX/+fH3xxRcaNGiQgoODFRwcrOHDhyszM7NcuX/44Qfdd999jucNDQ1V\\\n",
       "XFxcicc5efKkFi1apG7duikkJETNmjVT+/btNXr06Erx+Zqnp2ex8pIkDw8PDRgwQJJ04MCB6z0t\\\n",
       "GIYzMFSY3NxcxcbGytPTU4MGDdK5c+e0du1aTZ48WTVq1NCdd95Z7mNu2bJFI0eOVJ06ddSvXz81\\\n",
       "a9ZMdrtdBw4c0EsvvaTZs2erZs0LP9ZpaWlasmSJevbsqUGDBql27do6cOCAEhIS9PHHH+vjjz9W\\\n",
       "hw4dLjvvBg0aaMSIEfrpp5+0bt06DRs2TJs3b9b999+vvLw89e/fXydPntSaNWs0duxYNWvWTDff\\\n",
       "fHOx43399ddavHixevfurQkTJujAgQNKTExUamqq1q5dq6ioqFJzb926VXFxcTpz5oxiY2MVGhqq\\\n",
       "o0ePKjExUVu2bNGqVasUExMjSbIsS8OHD1d6erpuuukmxcXFydPTU0ePHlVaWpq2bt2qnj17lnvt\\\n",
       "r4fCwkJt3rxZktSuXTsXzwaVHQWGCrNr1y798Y9/1JIlS+Tu7i5Juueee9S9e3ctXbr0qgrs9ddf\\\n",
       "1/nz5/XRRx+pffv2Tvt++eUXR3lJUq9evfT999+rbt26TuN27typvn37as6cOVqzZk2J846Pj9fC\\\n",
       "hQvl5uYmSXr22Wc1d+5c/eEPf1DPnj21YsUKeXp6SpJuu+02TZgwQUuWLNHKlSuLHW/Lli1atGiR\\\n",
       "JkyY4Ni2bt06jRkzRpMnT1ZGRobjeUqSm5ursWPHysPDQ1u2bFFERIRj3759+xQTE6NJkyZp+/bt\\\n",
       "8vLy0p49e5Senq7+/ftr1apVTseyLEs5OTmXfa6L7dixQ+vXry/T2CJ33nmnmjdvXubx2dnZevnl\\\n",
       "l2VZlrKzs5WUlKQffvhBI0aMcJyJAZdDgaHC1KpVS/PmzXOUlyRFREQoKipKaWlpysvLU506da7q\\\n",
       "2D4+PsW2NWzY0OnP/v7+Jf7dyMhI9ezZU0lJScrPzy92t1vt2rX1xBNPOJXKqFGjNHfuXNntdj31\\\n",
       "1FOO8pKk22+/Xffee6927txZ4vO1bNlS48aNc9o2ePBgdenSRRkZGUpPT1d0dPRls77zzjv65Zdf\\\n",
       "tGDBAqfykqTw8HDddddd+tvf/qatW7eqT58+jn0lrZGbm1uxdbqcnTt3auHChWUaW6RHjx7lLrCL\\\n",
       "n6NGjRq6//77NXPmzCuWOiBRYKhALVu2VL169YptDwoKkiTZ7fZyF9iIESOUmJiomJgYDR06VD17\\\n",
       "9tTNN9982RfNTZs26dVXX1VmZqays7OL3dmWnZ2txo0bF5v3pfMqGlO/fv1iz+Xu7i5/f3/99NNP\\\n",
       "Jc6ha9euJX7e0717d2VkZGjHjh1XLLD09HRJ0u7duzV//vxi+/fv3y/pwtlYnz59FBERocjISK1Z\\\n",
       "s0Y//vij+vfvr6ioKHXq1Ene3t6XfZ5LxcXFKS4urszjr0br1q1lt9tVWFion376SRs2bNC8efOU\\\n",
       "kpKi999/v8xli+qJAkOFqV+/fonbi87ICgsLy33MQYMG6b333tOyZcv09ttv6/XXX5cktWnTRlOn\\\n",
       "TtXgwYMdY//+979r+vTp8vX1Ve/evRUUFCQfHx+5ublp/fr12rVrl86ePVvsOUoq3aJLkyXtK8p0\\\n",
       "udu+AwICStxedIb466+/XiHxhUujkvTmm29ecdypU6ccc0lMTNSiRYuUkJCg2bNnS7pwRjx06FDN\\\n",
       "mTNHfn5+VzzW9ebu7q7g4GBNnDhR/v7++vOf/6y5c+dq8eLFrp4aKjEKDMbp06eP+vTpo9OnT+ub\\\n",
       "b77Rli1btHz5cv3pT39SYmKievTooYKCAi1YsECBgYHaunVrsbOsL7/88rrN9/jx4yVuP3HihKTL\\\n",
       "l2KRov2fffaZOnbsWKbn9PX11bx58zRv3jxlZWUpLS1Nb731llauXKkff/xRiYmJpR7jenwGVpKi\\\n",
       "m1FSUlL+p+Og6qPAYCwfHx91795d3bt3V/PmzfXAAw9o/fr16tGjh7Kzs5Wbm6tevXoVK6+8vDxt\\\n",
       "3779us3ziy++0Pnz54tdRkxNTZWkYjejXOrmm29WQkKCtm3bVuYCu1iLFi3UokULjRw5Uh07dlRy\\\n",
       "crJyc3Mve4Zc5Hp8BlaSo0ePSpLTDTlASfgeGIySkpJS4qW6Y8eOSbpwmUy6cHmuVq1ayszMVF5e\\\n",
       "nmNcfn6+pk2bpuzs7OszYV34PtOKFSuctq1bt04ZGRkKCwsr9Tb60aNHy9fXV4sWLVJGRkax/ZZl\\\n",
       "adu2bTp37pwkKSsrS1lZWcXG5eXl6dSpU/Lw8ChTOcTFxclut5frUdbb8zMzM0u8hJyXl6dp06ZJ\\\n",
       "ktMNKUBJeIsDo0ybNk1HjhxRdHS0QkJC5O3trd27d+uTTz5Rw4YNNWbMGEkX7mabOHGiFi9erG7d\\\n",
       "uql///7Kz89XcnKycnJy1LNnz+v2hd6YmBjNmDFDW7ZsUdu2bR3fA/Px8dELL7xQ6t12DRo00Btv\\\n",
       "vKHRo0erT58+6tWrlyIiIuTh4aEjR47oq6++0uHDh5WVlSVPT0/H1xc6duyo8PBwNWnSRHa7XZs2\\\n",
       "bVJOTo4mT56s2rVrX5fsl/P0008rPT1dXbp0UVBQkGrVqqUjR45o8+bNys3NVefOnTVlyhSXzhGV\\\n",
       "HwUGozz88MNav369vv32W0cBNW3aVPfcc4/uvfdexx2OkjRjxgz5+fnpzTff1GuvvaZ69erp1ltv\\\n",
       "1cyZM0u8m6+idO7cWY888ojmzZunl19+WZLUu3dvPf7442W+JNirVy+lpqbqxRdf1CeffKKMjAzV\\\n",
       "rFlTgYGB6tKli5588knHZ2U33nijHnroIaWkpCgpKUk5OTlq2LChWrdurb/+9a8aMmRIhWUtqzFj\\\n",
       "xqhOnTr6+uuvlZqaqt9++02+vr7q0KGDhg4dqtGjR/PLfFEqN7vdbpU+DEB5rVy5UpMmTdLUqVM1\\\n",
       "ffp0V08HqHL4DAwAYCQKDABgJD4Dg0sdPHiw2O/ru5xr8R0jAFUHn4HBpZKTkzVw4MAyjU1MTKy0\\\n",
       "v0UdwPVHgQEAjMRnYAAAI1FgAAAjUWD/z2azuXoKLlNds1fX3FL1zV5dc0tVMzsFBgAwEgUGADAS\\\n",
       "BQYAMBIFBgAwEgUGADASBQYAMBIFBgAwUqX8VVJV8fsKAFAdhYWFVdixK2WBuYLNZqvQha7Mqmv2\\\n",
       "6ppbqr7Zq2tuqWpm5xIiAMBIFBgAwEgUGADASBQYAMBIFBgAwEgUGADASBQYAMBIFBgAwEgUGADA\\\n",
       "SBQYAMBIFBgAwEgUGADASBQYAMBIFBgAwEgUGADASBQYAMBIFBgAwEgUGADASBQYAMBIFBgAwEgU\\\n",
       "GADASBQYAMBIFBgAwEgUGADASBQYAMBIFBgAwEgUGADASBQYAMBIFBgAwEgUGADASBQYAMBIFBgA\\\n",
       "wEgUGADASBQYAMBIFBgAwEgUGADASBQYAMBIFBgAwEgUGADASBQYAMBIFBgAwEhudrvdcvUkLmWz\\\n",
       "2Vw9BQDANRAWFlZhx66UBeYKNputQhe6Mquu2atrbqn6Zq+uuaWqmZ1LiAAAI1FgAAAjUWAAACNR\\\n",
       "YAAAI1FgAAAjUWAAACNRYAAAI1FgAAAjUWAAACNRYAAAI1FgAAAjUWAAACNRYAAAI1FgAAAjUWAA\\\n",
       "ACNRYAAAI1FgAAAjUWAAACNRYAAAI1FgAAAjUWAAACNRYAAAI1FgAAAjUWAAACNRYAAAI1FgAAAj\\\n",
       "UWAAACNRYAAAI1FgAAAjUWAAACNRYAAAI1FgAAAjUWAAACNRYAAAI1FgAAAjUWAAACNRYAAAI1Fg\\\n",
       "AAAjUWAAACNRYAAAI7nZ7XbL1ZO4lM1mc/UUAADXQFhYWIUdu1IWmCvYbLYKXejKrLpmr665peqb\\\n",
       "vbrmlqpmdi4hAgCMRIEBAIxEgQEAjESBAQCMRIEBAIxEgQEAjESBAQCMRIEBAIxEgQEAjESBAQCM\\\n",
       "RIEBAIxEgQEAjESBAQCMRIEBAIxEgQEAjESBAQCMRIEBAIxEgQEAjESBAQCMRIEBAIxEgQEAjESB\\\n",
       "AQCMRIEBAIxEgQEAjESBAQCMRIEBAIxEgQEAjESBAQCMRIEBAIxEgQEAjESBAQCMRIEBAIxEgQEA\\\n",
       "jESBAQCMRIEBAIxEgQEAjESBAQCMRIEBAIxEgQEAjESBAQCM5Ga32y1XT+JSNpvN1VMAAFwDYWFh\\\n",
       "FXbsSllgrmCz2Sp0oSuz6pq9uuaWqm/26ppbqprZuYQIADASBQYAMBIFBgAwEgUGADASBQYAMBIF\\\n",
       "BgAwEgUGADASBQYAMBIFBgAwEgUGADASBQYAMBIFBgAwEgUGADASBQYAMBIFBgAwEgUGADASBQYA\\\n",
       "MBIFBgAwEgUGADASBQYAMBIFBgAwEgUGADASBQYAMBIFBgAwEgUGADASBQYAMBIFBgAwEgUGADAS\\\n",
       "BQYAMBIFBgAwEgUGADASBQYAMBIFBgAwEgUGADASBQYAMBIFBgAwEgUGADASBQYAMBIFBgAwEgUG\\\n",
       "ADASBQYAMJKb3W63XD2JS9lsNldPAQBwDYSFhVXYsStlgbmCzWar0IWuzKpr9uqaW6q+2atrbqlq\\\n",
       "ZucSIgDASBQYAMBIFBgAwEgUGADASBQYAMBIFBgAwEgUGADASBQYAMBIFBgAwEgUGADASBQYAMBI\\\n",
       "FBgAwEgUGADASBQYAMBIFBgAwEgUGADASBQYAMBIFBgAwEgUGADASBQYAMBIFBgAwEgUGADASBQY\\\n",
       "AMBIFBgAwEgUGADASBQYAMBIFBgAwEgUGADASBQYAMBIFBgAwEgUGADASBQYAMBIFBgAwEgUGADA\\\n",
       "SBQYyi37TGG5tldX5V0n1hUoHwoM5ZJ+7KyW7z2lPTn5Ttv35ORr+d5TSj921kUzq1zKu06sK1B+\\\n",
       "NV09AZgj/dhZffrThRfShKzTkqQ2DTy0JydfCVmnZUmO/VGBXq6apsuVd51YV+DqUGAok+wzhfrs\\\n",
       "6H/PAixdeLH9LidfttwCWReN/ezoWbWqX1N+3u7XfZ6uVt51auhdg3UFrhKXEFEmft7uGtjcR24X\\\n",
       "bbMkfX/Ji6ybpIHNfarti2x51ymsvgfrClwlCgxl1qaBhwa1cH6xvZibpEEtfNSmgcf1nFalU951\\\n",
       "Yl2Bq+Nmt9ut0oddXzabzdVTwBX864S7sn4r/t6nRa3z6uPPHXNFyrtOrCuqorCwsAo7dqX8DKwi\\\n",
       "A1+OzWZzyfNWBuXJvicnXyfzTquhT/F9JyXlNzLnTKEi/83Lu07Xe12r6897dc0tVc3sXEJEmV18\\\n",
       "V1xJim5AuPRW8OqmvOvEugJXhwJDmWSfKVTiwdPFbixoXb9msRsQEg+errZfvi3vOtly81lX4CpR\\\n",
       "YCgTP2933drkv99BKrqxYFjLWsVuQLi1iVe1vVuuvOsUVt+DdQWuUqX8DAyVU9GXaD87elYDmzvf\\\n",
       "RSddOEO4tYlXtf+ybXnXiXUFrg4FhnKJCvQq8cu0bRp4KNCnBmcI/6+868S6AuXHJUSU2+VeTHmR\\\n",
       "dVbedWJdgfKhwAAARqLAAABGqpS/iQMAgNJwBgYAMBIFBgAwEgUGADASBQYAMJKxBfbzzz/r7rvv\\\n",
       "VmhoqAIDAxUVFaWUlBRJUn5+vmbNmqVu3bqpadOmCg8P1/jx43Xo0CGnY5w9e1aPPPKIWrZsqaZN\\\n",
       "m+qOO+7QkSNHnMYcOnRIo0aNUtOmTdWyZUs9+uijOnfunNOYlJQU3XLLLQoMDFSHDh306quvuiz7\\\n",
       "pR544AH5+vrqhRdecNpuYvay5N6/f79Gjx6tkJAQNWnSRL169dK+ffuMzi2Vnj0vL0+PPPKI2rRp\\\n",
       "o8aNG6tz585atmyZ0zFMzB4ZGSlfX99ij5EjRzrGLF++XO3bt1dgYKBuueUWpaWlVfnczz33nHr3\\\n",
       "7q3g4GCFhoZq1KhR2rNnj9MxLMvS/PnzFRERocaNG2vAgAH67rvvnMbY7XbFx8crJCREISEhio+P\\\n",
       "l91udxqze/du9e/fX40bN9bvfvc7LVy4UJZVOe79M7LA7Ha7YmNjZVmW3nvvPaWnp+vpp5+Wv7+/\\\n",
       "JOm3337T9u3bNWXKFG3dulWrVq3SkSNHNHz4cBUUFDiOM336dCUmJmrFihXasGGDTp48qVGjRqmw\\\n",
       "8MIvTC0sLNSoUaOUl5enDRs2aMWKFUpISNCMGTMcx8jKytLIkSPVpUsXff7553rooYf06KOPat26\\\n",
       "dS7JfrF169bp66+/VpMmTYrtMy17WXJnZWUpNjZWzZs3V0JCgrZt26aZM2eqdu3axuYua/YZM2bo\\\n",
       "X//6l/7xj38oPT1dDz/8sGbPnq133nnH6OxJSUnat2+f47F161a5ublpyJAhkqQPPvhA06ZN08MP\\\n",
       "P6zPP/9cXbp00YgRI5zerFbF3CkpKRo3bpw2bdqkhIQE1axZU0OGDFFOTo7jGEuXLtWyZcu0cOFC\\\n",
       "ffrpp/L399fQoUN18uRJx5jx48drx44dWr16tVavXq0dO3Zo4sSJjv2//vqrhg4dqoCAAH366ada\\\n",
       "sGCBXnjhBb344osVkru8jLyNfs6cOUpNTdWmTZvK/Hf27t2r6Ohopaamqm3btsrNzVWrVq20bNky\\\n",
       "x7uaw4cPKzIyUqtXr1ZMTIw2b96skSNHaufOnQoKCpIkvfvuu/rLX/4im82mevXqadasWUpMTNQ3\\\n",
       "33zjeK777rtPe/fu1ebNm69tcJU9+48//qjY2FitXbtWw4cPV3x8vO677z5JMjJ7WXKPHz9ebm5u\\\n",
       "euWVV0rcb2JuqWzZu3btqoEDB+qxxx5zbOvfv7/atm2rRYsWGZv9Us8884yef/557du3Tz4+PoqJ\\\n",
       "iVHbtm31/PPPO8Z06tRJgwcP1qxZs6ps7kvl5eUpJCREK1euVL9+/WRZliIiIjRhwgRNmTJFknT6\\\n",
       "9GmFhYVp7ty5Gjt2rPbt26eoqCht3LhR0dHRkqRt27apX79++vLLLxUWFqYVK1boySef1Pfff+94\\\n",
       "3kWLFunVV1/Vnj175OZ2uf9H/Pow8gxs/fr1uummmzR27Fi1atVKPXr00Msvv3zF09qidx2+vr6S\\\n",
       "pMzMTOXn5+u2225zjAkKClJ4eLjS09MlSRkZGQoPD3f8UEtSTEyMzp49q8zMTMeYi49RNObbb79V\\\n",
       "fv61//+bypK9oKBA48eP15QpUxQeHl7sGCZmLy33+fPntXHjRoWHh2vYsGEKDQ1V79699cEHHxid\\\n",
       "uyzZJSk6OlobN27U4cOHJUnp6enatWuXYmJijM5+Mcuy9Oabb2rUqFHy8fHRuXPnlJmZWWw+t912\\\n",
       "myNTVcxdkry8PJ0/f97x+nbw4EEdO3bMac4+Pj7q1q2bU+46deooKirKMSY6Olq1a9d2GtO1a1en\\\n",
       "542JidHRo0d18ODBa561vIwssKysLK1YsUItWrTQmjVrdPfdd2v27NmXfed97tw5zZw5U3379lWz\\\n",
       "Zs0kScePH5e7u7v8/Pycxvr7++v48eOOMZdemvPz85O7u/sVx/j7+6ugoEDZ2dnXJO/FypJ9/vz5\\\n",
       "atiwocaNG1fiMUzMXlruEydOKC8vz/HZwIcffqhhw4ZpwoQJjjMXE3OXJbskLVy4UO3atVO7du3U\\\n",
       "qFEjDRgwQE8++aT69u1rdPaLJSUl6eDBg7rrrrskSdnZ2SosLCxxPhfPt6rlLsm0adMUGRmpLl26\\\n",
       "SJKOHTvmmOPFLs3t5+fndBbl5uamRo0alZq7aJ+rGfnb6M+fP68bb7xRs2bNkiR16NBBP/zwg5Yv\\\n",
       "X674+HinsQUFBYqPj1dubq7efvttV0z3miote3JyslatWqXk5GQXz/TaKi33+fPnJV24bDZ58mRJ\\\n",
       "Uvv27ZWZmalXXnlFsbGxLpv7/6osP+8vvfSSMjIy9Pbbbys4OFhpaWl6/PHHFRISot///veunP41\\\n",
       "8/rrr6tTp06KjIx09VSuq9JyP/bYY/riiy+0ceNGubtXr1/8bOQZWGBgYLFLY61bt3ZcPilSUFCg\\\n",
       "cePGaffu3Vq3bp0aNmzo2BcQEKDCwsJi755OnDihgIAAx5gTJ0447S9613elMSdOnFDNmjWLveu7\\\n",
       "FkrLnpKSop9//lnh4eHy8/OTn5+fDh06pFmzZqlNmzaOOZuWvbTcfn5+qlmz5hXHmJhbKj376dOn\\\n",
       "NWfOHM2ePVv9+vVTu3btFB8fr9tvv91x96mp2S9+jg0bNmjMmDGObUVnSSXN5+L5VrXcF5s+fbrW\\\n",
       "rFmjhIQEtWjRwrE9MDDQ8fcvPd7FmbKzs50uRVuWpf/85z+l5i7a52pGFlh0dLT279/vtG3//v0K\\\n",
       "Dg52/Dk/P19jx47V7t27lZiY6PgHLdKxY0d5eHgoKSnJse3IkSOODzYlqUuXLtq3b5/TLbdJSUny\\\n",
       "8vJSx44dHWMuPkbRmBtvvFEeHh7XJvBFSss+fvx4paamKjk52fFo0qSJ7r33XscdUyZmLy23p6en\\\n",
       "OnXqJJvNdtkxJuaWSs+en5+v/Pz8Yu++3d3dHWempmYvsmrVKnl5eWnYsGGObZ6enurYsWOJ8ynK\\\n",
       "VBVzF5k6daqjvFq3bu20r3nz5goMDHSa85kzZ7Rt2zan3Hl5ecrIyHCMycjI0KlTp5zGbNu2TWfO\\\n",
       "nHGMSUpKUpMmTdS8efNrmvVquE+bNu1JV0+ivIKCgrRw4ULVqFFDjRs31tatW/XUU0/pwQcf1E03\\\n",
       "3aSCggKNGTNG33zzjd544w3VrVtXp06d0qlTp+Tu7i4PDw95e3vr559/1vLlyx13JT744IOqV6+e\\\n",
       "Zs+erRo1aqhFixZKTEzUp59+qrZt22rv3r2aMmWKRowYoYEDB0qSbrjhBi1dulQnTpxQcHCwNmzY\\\n",
       "oGeffVZPPfWUIiIirnv22rVry9/f3+nx0ksv6ZZbblG/fv0kycjspeWWpAYNGmjBggUKCAhQvXr1\\\n",
       "lJCQoKVLl2revHlq1aqVkbnLkt3Ly0vJycmOm1gsy9L69ev13HPPaeLEiercubOx2aULZwWTJk1S\\\n",
       "bGysBg8e7LSvbt26mj9/vho3bixvb28tWrRIaWlpevHFF1W/fv0qm3vKlCl655139NprrykoKMjx\\\n",
       "+iZdKHY3NzcVFhZqyZIlCg0NVWFhoWbMmKFjx45pyZIl8vLyUqNGjfTVV19p9erVioyM1JEjR/Tg\\\n",
       "gw+qU6dOjlvpQ0ND9c9//lM7d+5UWFiYtm3bpieeeEIPPPCA080fLmO32y0TH++++67Vtm1by8vL\\\n",
       "ywoNDbUWLFhg5eTkWHa73dq+fbslqcTHsmXLHMc4duyYNWHCBKtBgwaWj4+PFRsba+3atcvpeXbu\\\n",
       "3GnFxsZaPj4+VoMGDaz4+Hjr2LFjTmM++ugjq3379panp6cVEhJiPffccy7LXtIjODjYmjt3rtM2\\\n",
       "E7OXJfeyZcus0NBQy9vb22rTpo21fPly43OXJfu+ffusO++802rSpInl7e1thYWFWXPnznUaY2r2\\\n",
       "hIQES5L1ySeflLj/mWeesYKDgy1PT0+rQ4cO1vr166vEv/mVcl/u9W3q1KmOMTk5OdbUqVOtwMBA\\\n",
       "y8vLy+rWrZuVlpbmdJysrCxr5MiRVt26da26detaI0eOtLKyspzGpKamWl27drW8vLyswMBAa9q0\\\n",
       "aVd8vbmeDyO/BwYAgJGfgQEAQIEBAIxEgQEAjESBAQCMRIEBAIz0f+tvvpYDop8HAAAAAElFTkSu\\\n",
       "QmCC\\\n",
       "\"\n",
       "  frames[3] = \"data:image/png;base64,iVBORw0KGgoAAAANSUhEUgAAAbAAAAEgCAYAAADVKCZpAAAABHNCSVQICAgIfAhkiAAAAAlwSFlz\\\n",
       "AAALEgAACxIB0t1+/AAAADh0RVh0U29mdHdhcmUAbWF0cGxvdGxpYiB2ZXJzaW9uMy4xLjAsIGh0\\\n",
       "dHA6Ly9tYXRwbG90bGliLm9yZy+17YcXAAAdw0lEQVR4nO3de1RVZf7H8Q8it0xFCRAVdESEUVFT\\\n",
       "A7xntERx1MxbKy3HpVJe+nWz1MxMzZTooqnNVNp00y5LG4U0HS0iFIXKvKcdbWFlpg5xTMwLl/37\\\n",
       "wx9nPIIC84MOD7xfa50/3Pvh2c/3OXg+Z+/9nIOb3W63BACAYeq4egAAAPw3CDAAgJEIMACAkQgw\\\n",
       "AICRCDAAgJEIMACAkQgwAICRCDAAgJEIMACAkQgwAICRCDAAgJEIMACAkQgwAICRCDCgGlm4cKF8\\\n",
       "fX2Vnp7u6qEA1R4BBqBaeO655+Tr6ytfX19t3brV1cOBAQgwAC63a9cuPffcc7rxxhtdPRQYhAAD\\\n",
       "4FK///67EhIS1LVrVw0cONDVw4FBCDBUumPHjsnX11cDBw5UTk6OHnzwQYWHhysgIEAxMTF69913\\\n",
       "/1/9Z2Rk6K677lK7du0UEBCg1q1b69Zbb9WsWbNkWf/5A+MnTpxQYmKi4uLi1KZNG/n7+ysiIkLj\\\n",
       "x4/Xt99+e91xnzp1SlOmTFFYWJiaNm2qfv36KSMjQ5J07tw5zZ49W+3bt1dAQICio6O1bt26Ev2t\\\n",
       "WrVKvr6+WrhwoXbu3KnBgwcrODhYwcHBGj58uHbv3l2hur///ns98MADjuOGhoZq9OjRpfZz9uxZ\\\n",
       "JSUlqXv37goJCVGzZs3UoUMHjRkzptrdX5s9e7ZOnDihV155RXXq8JKE8qvr6gGg5jpz5ozi4uLk\\\n",
       "6empwYMH69KlS1q3bp2mTp2qOnXq6O67765wn1u3btXIkSN14403asCAAWrWrJnsdruOHj2qV199\\\n",
       "VXPnzlXdupd/rTMyMrR48WL16tVLgwcPVr169XT06FElJyfrk08+0SeffKKOHTtec9yNGjXSiBEj\\\n",
       "9PPPP2v9+vUaNmyYtmzZogcffFB5eXmKj4/X2bNntXbtWo0bN07NmjXTLbfcUqK/r7/+Wi+99JL6\\\n",
       "9u2riRMn6ujRo0pJSdH27du1bt06RUdHl1l3WlqaRo8erQsXLiguLk6hoaE6ceKEUlJStHXrVq1e\\\n",
       "vVqxsbGSJMuyNHz4cGVmZqpLly4aPXq0PD09deLECWVkZCgtLU29evWq8NxXhS1btmjlypVKSkpS\\\n",
       "q1atXD0cGIYAQ5XZv3+/7rnnHi1evFju7u6SpEmTJqlHjx5asmTJfxVgb731loqKivTxxx+rQ4cO\\\n",
       "Tvt+/fVXR3hJUu/evfXdd9+pfv36Tu327dun/v37a968eVq7dm2p405ISFBiYqLc3NwkSS+88ILm\\\n",
       "z5+vv/zlL+rVq5dWrlwpT09PSdJtt92miRMnavHixVq1alWJ/rZu3aqkpCRNnDjRsW39+vUaO3as\\\n",
       "pk6dqqysLMdxSnPmzBmNGzdOHh4e2rp1qyIiIhz7Dh8+rNjYWE2ZMkV79uyRl5eXDh48qMzMTMXH\\\n",
       "x2v16tVOfVmWpdzc3Gse60p79+7Vhg0bytW22N13360WLVqUq21OTo6mTp2qPn36aMKECRU6DiAR\\\n",
       "YKhCN9xwgxYsWOAIL0mKiIhQdHS0MjIylJeX91/ftPfx8SmxrXHjxk7/9vf3L/VnIyMj1atXL6Wm\\\n",
       "pio/P18eHh5O++vVq6ennnrKKVRGjRql+fPny26365lnnnGElyTdeeedmjx5svbt21fq8Vq1aqXx\\\n",
       "48c7bRsyZIiioqKUlZWlzMxMxcTEXLPW999/X7/++qsWLVrkFF6SFB4ernvvvVevvPKK0tLS1K9f\\\n",
       "P8e+0ubIzc2txDxdy759+5SYmFiutsV69uxZ7gB78MEHdf78eS1btuy6AQ5cCwGGKtOqVSs1aNCg\\\n",
       "xPbmzZtLkux2e4UDbMSIEUpJSVFsbKyGDh2qXr166ZZbbrnmi+bmzZv1xhtvaPfu3crJyVFBQYHT\\\n",
       "/pycHDVp0qTEuK8eV3Gbhg0bljiWu7u7/P399fPPP5c6hm7dupV6b6dHjx7KysrS3r17rxtgmZmZ\\\n",
       "kqQDBw5o4cKFJfYfOXJE0uWzsX79+ikiIkKRkZFau3atfvjhB8XHxys6OlqdO3eWt7f3NY9ztdGj\\\n",
       "R2v06NHlbl8R7777rj7++GMtW7ZMwcHBVXIM1HwEGKpMw4YNS91efEZWWFhY4T4HDx6sDz/8UMuX\\\n",
       "L9d7772nt956S5LUtm1bTZ8+XUOGDHG0/dvf/qaZM2fK19dXffv2VfPmzeXj4yM3Nzdt2LBB+/fv\\\n",
       "18WLF0sco7TQLb40Wdq+4pquDsdiAQEBpW4vPkP87bffrlPx5UujkvTOO+9ct925c+ccY0lJSVFS\\\n",
       "UpKSk5M1d+5cSZfPiIcOHap58+bJz8/vun1VpZ9//lkzZ85U//79NWbMGJeNA+YjwGCcfv36qV+/\\\n",
       "fjp//rx27dqlrVu3asWKFfrrX/+qlJQU9ezZUwUFBVq0aJECAwOVlpZW4izryy+//MPGe+rUqVK3\\\n",
       "nz59WtK1Q7FY8f7PP/9cnTp1KtcxfX19tWDBAi1YsEDZ2dnKyMjQu+++q1WrVumHH35QSkpKmX1U\\\n",
       "1T2wo0eP6uzZs9q0aZN8fX1LbTN8+HBJ0rPPPqvJkydXaAyoPQgwGMvHx0c9evRQjx491KJFCz30\\\n",
       "0EPasGGDevbsqZycHJ05c0a9e/cuEV55eXnas2fPHzbOnTt3qqioqMRlxO3bt0tSicUoV7vllluU\\\n",
       "nJysHTt2lDvArtSyZUu1bNlSI0eOVKdOnZSenq4zZ85c8wy5WFXdA2vSpInuueeeUvdlZGTo6NGj\\\n",
       "io2NVdOmTdW2bdsKHR+1CwEGo2zbtk0xMTFOqw0l6eTJk5IuXyaTLl+eu+GGG7R7926nxSL5+fma\\\n",
       "MWOGcnJy/rAxHz16VCtXriyxCjErK0thYWFlLqMfM2aMXnjhBSUlJalLly6Kiopy2m9Zlnbu3Kku\\\n",
       "XbrI09NT2dnZki4H15Xy8vJ07tw5eXh4lJi/0lTVPbCwsDAtXbq01H2TJk3S0aNHNWnSJN1+++2V\\\n",
       "fmzULAQYjDJjxgwdP35cMTExCgkJkbe3tw4cOKBPP/1UjRs31tixYyVJderU0X333aeXXnpJ3bt3\\\n",
       "V3x8vPLz85Wenq7c3Fz16tXrD/tAb2xsrGbNmqWtW7eqXbt2js+B+fj4aOnSpWWuwGvUqJHefvtt\\\n",
       "jRkzRv369VPv3r0VEREhDw8PHT9+XF999ZV++uknZWdny9PT0/HxhU6dOik8PFxBQUGy2+3avHmz\\\n",
       "cnNzNXXqVNWrV+8PqR2oSgQYjPLoo49qw4YN+uabbxwB1LRpU02aNEmTJ092rHCUpFmzZsnPz0/v\\\n",
       "vPOO3nzzTTVo0EC33nqrnnzyyVJX81WVrl276rHHHtOCBQv02muvSZL69u2r2bNnl/uSYO/evbV9\\\n",
       "+3YtW7ZMn376qbKyslS3bl0FBgYqKipKTz/9tONe2c0336xHHnlE27ZtU2pqqnJzc9W4cWO1adNG\\\n",
       "zz77rO64444qqxX4I7nZ7Xar7GYAKmrVqlWaMmWKpk+frpkzZ7p6OECNwxePAQCMRIABAIzEPTC4\\\n",
       "1LFjx0p8X9+1VOR79gDUfNwDg0ulp6dr0KBB5WqbkpJSbb5FHYDrEWAAACNxDwwAYCQCDABgJALs\\\n",
       "/9hsNlcPwWVqa+21tW6p9tZeW+uWambtBBgAwEgEGADASAQYAMBIBBgAwEgEGADASAQYAMBIBBgA\\\n",
       "wEjV8qukauLnFQCgNgoLC6uyvqtlgLmCzWar0omuzmpr7bW1bqn21l5b65ZqZu1cQgQAGIkAAwAY\\\n",
       "iQADABiJAAMAGIkAAwAYiQADABiJAAMAGIkAAwAYiQADABiJAAMAGIkAAwAYiQADABiJAAMAGIkA\\\n",
       "AwAYiQADABiJAAMAGIkAAwAYiQADABiJAAMAGIkAAwAYiQADABiJAAMAGIkAAwAYiQADABiJAAMA\\\n",
       "GIkAAwAYiQADABiJAAMAGIkAAwAYiQADABiJAAMAGIkAAwAYiQADABiJAAMAGIkAAwAYiQADABiJ\\\n",
       "AAMAGIkAAwAYiQADABiJAAMAGIkAAwAYyc1ut1uuHsTVbDabq4cAAKgEYWFhVdZ3tQwwV7DZbFU6\\\n",
       "0dVZba29ttYt1d7aa2vdUs2snUuIAAAjEWAAACMRYAAAIxFgAAAjEWAAACMRYAAAIxFgAAAjEWAA\\\n",
       "ACMRYAAAIxFgAAAjEWAAACMRYAAAIxFgAAAjEWAAACMRYAAAIxFgAAAjEWAAACMRYAAAIxFgAAAj\\\n",
       "EWAAACMRYAAAIxFgAAAjEWAAACMRYAAAIxFgAAAjEWAAACMRYAAAIxFgAAAjEWAAACMRYAAAIxFg\\\n",
       "AAAjEWAAACMRYAAAIxFgAAAjEWAAACMRYAAAIxFgAAAjEWAAACMRYAAAIxFgAAAjudntdsvVg7ia\\\n",
       "zWZz9RAAAJUgLCysyvqulgHmCjabrUonujqrrbXX1rql2lt7ba1bqpm1cwkRAGAkAgwAYCQCDABg\\\n",
       "JAIMAGAkAgwAYCQCDABgJAIMAGAkAgwAYCQCDABgJAIMAGAkAgwAYCQCDABgJAIMAGAkAgwAYCQC\\\n",
       "DABgJAIMAGAkAgwAYCQCDABgJAIMAGAkAgwAYCQCDABgJAIMAGAkAgwAYCQCDABgJAIMAGAkAgwA\\\n",
       "YCQCDABgJAIMAGAkAgwAYCQCDABgJAIMAGAkAgwAYCQCDABgJAIMAGAkAgwAYCQCDABgJAIMAGAk\\\n",
       "AgwAYCQCDABgJAIMAGAkN7vdbrl6EFez2WyuHgIAoBKEhYVVWd/VMsBcwWazVelEV2e1tfbaWrdU\\\n",
       "e2uvrXVLNbN2LiECAIxEgAEAjESAAQCMRIABAIxEgAEAjESAAQCMRIABAIxEgAEAjESAAQCMRIAB\\\n",
       "AIxEgAEAjESAAQCMRIABAIxEgAEAjESAAQCMRIABAIxEgAEAjESAAQCMRIABAIxEgAEAjESAAQCM\\\n",
       "RIABAIxEgAEAjESAAQCMRIABAIxEgAEAjESAAQCMRIABAIxEgAEAjESAAQCMRIABAIxEgAEAjESA\\\n",
       "AQCMRIABAIxEgAEAjESAAQCMRIABAIxEgAEAjESAAQCMRIABAIxEgAEAjORmt9stVw/iajabzdVD\\\n",
       "AABUgrCwsCrru1oGmCvYbLYqnejqrLbWXlvrlmpv7bW1bqlm1s4lRACAkQgwAICRCDAAgJEIMACA\\\n",
       "kQgwAICRCDAAgJEIMACAkQgwAICRCDAAgJEIMACAkQgwAICRCDAAgJEIMACAkQgwAICRCDAAgJEI\\\n",
       "MACAkQgwAICRCDAAgJEIMACAkQgwAICRCDAAgJEIMACAkQgwAICRCDAAgJEIMACAkQgwAICRCDAA\\\n",
       "gJEIMACAkQgwAICRCDAAgJEIMACAkQgwAICRCDAAgJEIMACAkQgwVFjOhcIKba+tKjpPlTmvPEeo\\\n",
       "DQgwVEjmyYtaceicDubmO20/mJuvFYfOKfPkRReNrHqp6DxV5rzyHKG2qOvqAcAcmScv6rOfL7/4\\\n",
       "JWeflyS1beShg7n5Ss4+L0ty7I8O9HLVMF2uovNUmfNa3r7CiuoorDKLBlyAAEO55Fwo1Ocn/vPO\\\n",
       "3dLlF8hvc/NlO1Mg64q2n5+4qNYN68rP2/0PH6erVXSeGnvXqbR5rcixs+x11PdCYa18jlBzcAkR\\\n",
       "5eLn7a5BLXzkdsU2S9J3V70wukka1MKn1r4wVnSewhp6VNq8VuTYff0IL5iPMzCUW9tGHpLkuBR1\\\n",
       "NTdJg1v6ONrVVhWdp8qc1/L25fHv0vYCZnGz2+3V7jfZZrO5egi4jn+ddlf27yVP3lveUKR+/qxy\\\n",
       "K1bRearMeeU5QnURFlZ1d1ur5RlYVRZ8LTabzSXHrQ4qUvvB3HydzTuvxj4l952VlH+TOWdgVfmc\\\n",
       "V3SeKnNey9OXx7+za+XvO//Pa1bt3ANDuV25kq00xYsGrl6+XdtUdJ4qc17L29eRc27XaAGYgwBD\\\n",
       "ueRcKFTKsfMlFgO0aVi3xKKBlGPna+0HZis6T7Yz+ZU2rxU5dmqOe619jlBzEGAoFz9vd90a9J/P\\\n",
       "IBUvBhjW6gYNbum88u3WIK9au8KtovMU1tCj0ua1IseO8i2qtc8Rao5qeQ8M1VPxh2g/P3FRg1qU\\\n",
       "XEWXcuy8bg3yqtUfYpYqPk+VOa/l7avxb0WVUivgSgQYKiQ60KvUD9O2beShQJ86vKv/PxWdp8qc\\\n",
       "1/L0ZfutggUB1RCXEFFh13oxJbycVXSeKnNeeY5QGxBgAAAjEWAAACNVy2/iAACgLJyBAQCMRIAB\\\n",
       "AIxEgAEAjESAAQCMZGyA/fLLL7r//vsVGhqqwMBARUdHa9u2bZKk/Px8zZkzR927d1fTpk0VHh6u\\\n",
       "CRMm6Mcff3Tq4+LFi3rsscfUqlUrNW3aVHfddZeOHz/u1ObHH3/UqFGj1LRpU7Vq1UqPP/64Ll26\\\n",
       "5NRm27Zt6tOnjwIDA9WxY0e98cYbLqv9ag899JB8fX21dOlSp+0m1l6euo8cOaIxY8YoJCREQUFB\\\n",
       "6t27tw4fPmx03VLZtefl5emxxx5T27Zt1aRJE3Xt2lXLly936sPE2iMjI+Xr61viMXLkSEebFStW\\\n",
       "qEOHDgoMDFSfPn2UkZFR4+t+8cUX1bdvXwUHBys0NFSjRo3SwYMHnfqwLEsLFy5URESEmjRpooED\\\n",
       "B+rbb791amO325WQkKCQkBCFhIQoISFBdrvdqc2BAwcUHx+vJk2a6M9//rMSExNlWdVj7Z+RAWa3\\\n",
       "2xUXFyfLsvThhx8qMzNTzz33nPz9/SVJv//+u/bs2aNp06YpLS1Nq1ev1vHjxzV8+HAVFBQ4+pk5\\\n",
       "c6ZSUlK0cuVKbdy4UWfPntWoUaNUWHj5S04LCws1atQo5eXlaePGjVq5cqWSk5M1a9YsRx/Z2dka\\\n",
       "OXKkoqKi9MUXX+iRRx7R448/rvXr17uk9iutX79eX3/9tYKCgkrsM6328tSdnZ2tuLg4tWjRQsnJ\\\n",
       "ydqxY4eefPJJ1atXz9i6y1v7rFmz9K9//Ut///vflZmZqUcffVRz587V+++/b3TtqampOnz4sOOR\\\n",
       "lpYmNzc33XHHHZKkjz76SDNmzNCjjz6qL774QlFRURoxYoTTm9WaWPe2bds0fvx4bd68WcnJyapb\\\n",
       "t67uuOMO5ebmOvpYsmSJli9frsTERH322Wfy9/fX0KFDdfbsWUebCRMmaO/evVqzZo3WrFmjvXv3\\\n",
       "6r777nPs/+233zR06FAFBATos88+06JFi7R06VItW7asSuquKCOX0c+bN0/bt2/X5s2by/0zhw4d\\\n",
       "UkxMjLZv36527drpzJkzat26tZYvX+54V/PTTz8pMjJSa9asUWxsrLZs2aKRI0dq3759at68uSTp\\\n",
       "gw8+0P/8z//IZrOpQYMGmjNnjlJSUrRr1y7HsR544AEdOnRIW7ZsqdzCVf7af/jhB8XFxWndunUa\\\n",
       "Pny4EhIS9MADD0iSkbWXp+4JEybIzc1Nr7/+eqn7TaxbKl/t3bp106BBg/TEE084tsXHx6tdu3ZK\\\n",
       "SkoytvarPf/883r55Zd1+PBh+fj4KDY2Vu3atdPLL7/saNO5c2cNGTJEc+bMqbF1Xy0vL08hISFa\\\n",
       "tWqVBgwYIMuyFBERoYkTJ2ratGmSpPPnzyssLEzz58/XuHHjdPjwYUVHR2vTpk2KiYmRJO3YsUMD\\\n",
       "BgzQl19+qbCwMK1cuVJPP/20vvvuO8dxk5KS9MYbb+jgwYNyc3Ptn+Ux8gxsw4YN6tKli8aNG6fW\\\n",
       "rVurZ8+eeu211657Wlv8rsPX11eStHv3buXn5+u2225ztGnevLnCw8OVmZkpScrKylJ4eLjjl1qS\\\n",
       "YmNjdfHiRe3evdvR5so+itt88803ys+v/L+LVZ7aCwoKNGHCBE2bNk3h4eEl+jCx9rLqLioq0qZN\\\n",
       "mxQeHq5hw4YpNDRUffv21UcffWR03eWpXZJiYmK0adMm/fTTT5KkzMxM7d+/X7GxsUbXfiXLsvTO\\\n",
       "O+9o1KhR8vHx0aVLl7R79+4S47ntttscNdXEukuTl5enoqIix+vbsWPHdPLkSacx+/j4qHv37k51\\\n",
       "33jjjYqOjna0iYmJUb169ZzadOvWzem4sbGxOnHihI4dO1bptVaUkQGWnZ2tlStXqmXLllq7dq3u\\\n",
       "v/9+zZ0795rvvC9duqQnn3xS/fv3V7NmzSRJp06dkru7u/z8/Jza+vv769SpU442V1+a8/Pzk7u7\\\n",
       "+3Xb+Pv7q6CgQDk5OZVS75XKU/vChQvVuHFjjR8/vtQ+TKy9rLpPnz6tvLw8x72Bf/7znxo2bJgm\\\n",
       "TpzoOHMxse7y1C5JiYmJat++vdq3b6+bbrpJAwcO1NNPP63+/fsbXfuVUlNTdezYMd17772SpJyc\\\n",
       "HBUWFpY6nivHW9PqLs2MGTMUGRmpqKgoSdLJkycdY7zS1XX7+fk5nUW5ubnppptuKrPu4n2uZuS3\\\n",
       "0RcVFenmm2/WnDlzJEkdO3bU999/rxUrVighIcGpbUFBgRISEnTmzBm99957rhhupSqr9vT0dK1e\\\n",
       "vVrp6ekuHmnlKqvuoqLLfx4kPj5eU6dOlSR16NBBu3fv1uuvv664uDiXjf3/qzy/76+++qqysrL0\\\n",
       "3nvvKTg4WBkZGZo9e7ZCQkJ0++23u3L4leatt95S586dFRkZ6eqh/KHKqvuJJ57Qzp07tWnTJrm7\\\n",
       "164vazbyDCwwMLDEpbE2bdo4Lp8UKygo0Pjx43XgwAGtX79ejRs3duwLCAhQYWFhiXdPp0+fVkBA\\\n",
       "gKPN6dOnnfYXv+u7XpvTp0+rbt26Jd71VYayat+2bZt++eUXhYeHy8/PT35+fvrxxx81Z84ctW3b\\\n",
       "1jFm02ovq24/Pz/VrVv3um1MrFsqu/bz589r3rx5mjt3rgYMGKD27dsrISFBd955p2P1qam1X3mM\\\n",
       "jRs3auzYsY5txWdJpY3nyvHWtLqvNHPmTK1du1bJyclq2bKlY3tgYKDj56/u78qacnJynC5FW5al\\\n",
       "f//732XWXbzP1YwMsJiYGB05csRp25EjRxQcHOz4d35+vsaNG6cDBw4oJSXF8YQW69Spkzw8PJSa\\\n",
       "murYdvz4cceNTUmKiorS4cOHnZbcpqamysvLS506dXK0ubKP4jY333yzPDw8KqfgK5RV+4QJE7R9\\\n",
       "+3alp6c7HkFBQZo8ebJjxZSJtZdVt6enpzp37iybzXbNNibWLZVde35+vvLz80u8+3Z3d3ecmZpa\\\n",
       "e7HVq1fLy8tLw4YNc2zz9PRUp06dSh1PcU01se5i06dPd4RXmzZtnPa1aNFCgYGBTmO+cOGCduzY\\\n",
       "4VR3Xl6esrKyHG2ysrJ07tw5pzY7duzQhQsXHG1SU1MVFBSkFi1aVGqt/w33GTNmPO3qQVRU8+bN\\\n",
       "lZiYqDp16qhJkyZKS0vTM888o4cfflhdunRRQUGBxo4dq127duntt99W/fr1de7cOZ07d07u7u7y\\\n",
       "8PCQt7e3fvnlF61YscKxKvHhhx9WgwYNNHfuXNWpU0ctW7ZUSkqKPvvsM7Vr106HDh3StGnTNGLE\\\n",
       "CA0aNEiS9Kc//UlLlizR6dOnFRwcrI0bN+qFF17QM888o4iIiD+89nr16snf39/p8eqrr6pPnz4a\\\n",
       "MGCAJBlZe1l1S1KjRo20aNEiBQQEqEGDBkpOTtaSJUu0YMECtW7d2si6y1O7l5eX0tPTHYtYLMvS\\\n",
       "hg0b9OKLL+q+++5T165dja1dunxWMGXKFMXFxWnIkCFO++rXr6+FCxeqSZMm8vb2VlJSkjIyMrRs\\\n",
       "2TI1bNiwxtY9bdo0vf/++3rzzTfVvHlzx+ubdDnY3dzcVFhYqMWLFys0NFSFhYWaNWuWTp48qcWL\\\n",
       "F8vLy0s33XSTvvrqK61Zs0aRkZE6fvy4Hn74YXXu3NmxlD40NFT/+Mc/tG/fPoWFhWnHjh166qmn\\\n",
       "9NBDDzkt/nAZu91umfj44IMPrHbt2lleXl5WaGiotWjRIis3N9ey2+3Wnj17LEmlPpYvX+7o4+TJ\\\n",
       "k9bEiROtRo0aWT4+PlZcXJy1f/9+p+Ps27fPiouLs3x8fKxGjRpZCQkJ1smTJ53afPzxx1aHDh0s\\\n",
       "T09PKyQkxHrxxRddVntpj+DgYGv+/PlO20ysvTx1L1++3AoNDbW8vb2ttm3bWitWrDC+7vLUfvjw\\\n",
       "Yevuu++2goKCLG9vbyssLMyaP3++UxtTa09OTrYkWZ9++mmp+59//nkrODjY8vT0tDp27Ght2LCh\\\n",
       "Rjzn16v7Wq9v06dPd7TJzc21pk+fbgUGBlpeXl5W9+7drYyMDKd+srOzrZEjR1r169e36tevb40c\\\n",
       "OdLKzs52arN9+3arW7dulpeXlxUYGGjNmDHjuq83f+TDyM+BAQBg5D0wAAAIMACAkQgwAICRCDAA\\\n",
       "gJEIMACAkf4X2d7ch0loXDMAAAAASUVORK5CYII=\\\n",
       "\"\n",
       "  frames[4] = \"data:image/png;base64,iVBORw0KGgoAAAANSUhEUgAAAbAAAAEgCAYAAADVKCZpAAAABHNCSVQICAgIfAhkiAAAAAlwSFlz\\\n",
       "AAALEgAACxIB0t1+/AAAADh0RVh0U29mdHdhcmUAbWF0cGxvdGxpYiB2ZXJzaW9uMy4xLjAsIGh0\\\n",
       "dHA6Ly9tYXRwbG90bGliLm9yZy+17YcXAAAgAElEQVR4nO3deViVdf7/8RcCAq4osWiCjogw7pop\\\n",
       "7gszkJSauTXp5Dgqmdp8Wyw1K1Mz10orZ6bCps2tnzYJ4aXlkqEgWIlr0rEGK8fUiGNiLiz37w+H\\\n",
       "Mx5BBUc8fOD5uK5zXXXfn/tzv9/n0HmdezknN7vdbgkAAMNUc3UBAABcDwIMAGAkAgwAYCQCDABg\\\n",
       "JAIMAGAkAgwAYCQCDABgJAIMAGAkAgwAYCQCDABgJAIMAGAkAgwAYCQCDABgJAIMqEDmzp0rX19f\\\n",
       "JScnu7oUoMIjwAC4xPnz5xUfH6+oqCiFhobq1ltvVadOnTR58mRlZWW5ujwYwMPVBQCoevLz8zVw\\\n",
       "4EDt3LlTzZo10z333CNvb2/t3r1b8fHxWr16tZKSktSmTRtXl4oKjAADcNN99NFH2rlzp7p37651\\\n",
       "69bJ3d3dsW7BggV6/vnn9fLLLys+Pt6FVaKi4xQibrgjR47I19dXd955p7Kzs/V///d/Cg8PV0BA\\\n",
       "gCIjI/Xee+/9T/OnpKTo3nvvVcuWLRUQEKBmzZqpd+/emj59uizrv/+D8WPHjmn+/PmKiYlR8+bN\\\n",
       "5e/vr4iICI0ZM0ZfffXVVes+ceKEJk6cqLCwMDVs2FDR0dFKSUmRJJ05c0ZPP/20WrVqpYCAAHXu\\\n",
       "3FkffvhhsfmWL18uX19fzZ07Vzt37tSAAQMUHBys4OBgDRkyRBkZGWXq+9tvv9VDDz3k2G9oaKhG\\\n",
       "jBhR4jynT5/WwoUL1bVrV4WEhOjWW29VmzZtNHLkyApxfa3oFGF0dLRTeElSbGysJOmnn3662WXB\\\n",
       "MAQYys2pU6cUExOjXbt2acCAAfrDH/6gY8eOadKkSVqxYsV1zblp0ybdddddSklJUffu3TVp0iQN\\\n",
       "GDBAdevW1WuvvaaCggLH2JSUFC1evFh169bVgAEDNGHCBHXs2FEJCQmKiorSnj17rlr3V199paFD\\\n",
       "hyo6Olq7du3S4MGDtX//fg0YMEAff/yxYmNjNXjwYP3rX//S6NGjtWvXrhLn++KLLzRgwAD5+Pho\\\n",
       "3Lhx6tu3r7Zs2aJ+/fopLS2tVH1v27ZNPXv21MqVK9W2bVuNHz9effv21ebNmxUTE6PNmzc7xlqW\\\n",
       "pSFDhmjOnDny8fHRiBEjNHbsWEVGRiojI0Pbtm0rwzNePiIiIiRdfD0LCwud1m3cuFGS1Lt375td\\\n",
       "FgzDKUSUm/379+uPf/yjFi9e7PiU/eCDD6pbt25asmSJ7rvvvjLP+fbbb6uwsFAfffRRsesjP//8\\\n",
       "szw8/vsn3bNnT3399deqXbu207h9+/bpjjvu0KxZs7R27doS646Li9P8+fPl5uYmSXrhhRc0e/Zs\\\n",
       "3XXXXerRo4eWLVum6tWrS5L69u2rcePGafHixVq+fHmx+TZt2qSFCxdq3LhxjmXr1q3TqFGjNGnS\\\n",
       "JKWnpzv2U5JTp05p9OjR8vT01KZNmxxv/pKUmZmpqKgoTZw4UXv27JGXl5cOHjyotLQ0xcbGFvug\\\n",
       "YFmWcnJyrrivS+3du1dJSUmlGlvkvvvuU+PGja85LiYmRv3791diYqIiIyPVu3dveXt7KyMjQ6mp\\\n",
       "qfrzn/+siRMnlmnfqHoIMJSbGjVqaM6cOU6niCIiItS5c2elpKQoNzdXtWrVuq65fXx8ii2rX7++\\\n",
       "07/7+/uXuG3r1q3Vo0cPbd26VXl5efL09HRaX7NmTT3zzDNOoTJ8+HDNnj1bdrtdzz33nCO8JOme\\\n",
       "e+7RhAkTtG/fvhL317RpU40ZM8Zp2cCBA9WpUyelp6crLS1NkZGRV+x11apV+vnnnzVv3jyn8JKk\\\n",
       "8PBw3X///frrX/+qbdu2KTo62rGupOfIzc2t2PN0Jfv27dP8+fNLNbZI9+7dSxVgbm5ueuedd7Rg\\\n",
       "wQItWLBAX3/9tWNdt27dNGjQoGKvC3A5AgzlpmnTpqpTp06x5Y0aNZIk2e32MgfY0KFDlZiYqKio\\\n",
       "KA0aNEg9evTQ7bfffsU3zY0bN+rNN99URkaGsrOzlZ+f77Q+OztbQUFBxeq+vK6iMXXr1i22L3d3\\\n",
       "d/n7++vf//53iTV06dJF1aoVP1vfrVs3paena+/evVcNsKLTjAcOHNDcuXOLrT98+LCki0dj0dHR\\\n",
       "ioiIUOvWrbV27Vp99913io2NVefOndWhQwd5e3tfcT+XGzFihEaMGFHq8WVx7tw5jR8/Xh9//LHm\\\n",
       "zZun/v37q1atWsrIyNCTTz6pgQMHavHixbr//vvLZf+oHAgwlJu6deuWuLzoiOzS61WlNWDAAL3/\\\n",
       "/vtaunSpVq5cqbfffluS1KJFC02ZMkUDBw50jP3b3/6madOmydfXV3369FGjRo3k4+MjNzc3JSUl\\\n",
       "af/+/Tp//nyxfZQUukWnJktaV9TT5eFYJCAgoMTlRUeIv/zyy1U6vnhqVJLefffdq447c+aMo5bE\\\n",
       "xEQtXLhQCQkJmjlzpqSLR8SDBg3SrFmz5Ofnd9W5yttLL72kDz/8UM8//7zTqdXu3bvr/fffV7t2\\\n",
       "7TR9+nQNHjxYNWvWdGGlqMgIMBgnOjpa0dHROnv2rL788ktt2rRJ8fHx+tOf/qTExER1795d+fn5\\\n",
       "mjdvngIDA7Vt27ZiR1lXuuGiPJw4caLE5SdPnpR05VAsUrT+008/Vbt27Uq1T19fX82ZM0dz5sxR\\\n",
       "VlaWUlJS9N5772n58uX67rvvlJiYeM05yvMaWNGNGr169Sq2LigoSM2bN9fevXtls9lK3TOqHgIM\\\n",
       "xvLx8VG3bt3UrVs3NW7cWA8//LCSkpLUvXt3ZWdn69SpU+rZs2ex8MrNzb3iHYjlYefOnSosLCx2\\\n",
       "GnHHjh2SdM0v695+++1KSEhQamrqdb2ZN2nSRE2aNNGwYcPUrl07JScn69SpU1c8Qi5SntfALly4\\\n",
       "IOnKt8pnZ2dLEtfBcFXcRg+jbN++vcRTdcePH5d08TSZdPH0XI0aNZSRkaHc3FzHuLy8PE2dOtXx\\\n",
       "BnkzfPPNN1q2bJnTsnXr1ik9PV1hYWHq3LnzVbcfOXKkfH19tXDhQqWnpxdbb1mWUlNTHaGQlZVV\\\n",
       "4k8x5ebm6syZM/L09HS6W/NKRowYIbvdXqZHjx49rjmvJHXt2lWStGjRIp07d85p3RtvvKGjR48q\\\n",
       "KCio2E0rwKU4AoNRpk6dqqNHjyoyMlIhISHy9vbWgQMHtHnzZtWvX1+jRo2SJFWrVk0PPPCAXnrp\\\n",
       "JXXt2lWxsbHKy8tTcnKycnJy1KNHj5v2hd6oqChNnz5dmzZtUsuWLfXNN98oMTFRPj4+euWVV656\\\n",
       "C70k1atXT++8845Gjhyp6Oho9ezZUxEREfL09NTRo0f1+eef64cfflBWVpaqV6/u+PpCu3btFB4e\\\n",
       "rgYNGshut2vjxo3KycnRpEmTXH5dafLkydqwYYOSk5PVsWNH/f73v1fNmjW1e/du7dixQ+7u7lq0\\\n",
       "aFGxLzkDlyLAYJTHHntMSUlJ2r17tyOAGjZsqAcffFATJkxw3OEoSdOnT5efn5/effddvfXWW6pT\\\n",
       "p4569+6tp556qsS7+cpLx44d9fjjj2vOnDl6/fXXJUl9+vTR008/XepTgj179tSOHTv06quvavPm\\\n",
       "zUpPT5eHh4cCAwPVqVMnPfvss45rZe3bt9ejjz6q7du3a+vWrcrJyVH9+vXVvHlzPf/887r77rvL\\\n",
       "rdfSCgoK0meffaYlS5Zo48aNWrVqlfLz8+Xv76/Bgwdr0qRJat++vavLRAXnZrfbrWsPA1BWy5cv\\\n",
       "18SJEzVlyhRNmzbN1eUAlQ7XwAAARiLAAABG4hoYXOrIkSOl/mHf0n7HCEDVwDUwuFRycrL69+9f\\\n",
       "qrGJiYmlvk0bQOVHgAEAjMQ1MACAkQgwAICRCLD/sNlsri7BZapq71W1b6nq9l5V+5YqZ+8EGADA\\\n",
       "SAQYAMBIBBgAwEgEGADASAQYAMBIBBgAwEgEGADASBXyp6Qq4/cVAKAqCgsLK7e5K2SAuYLNZivX\\\n",
       "J7oiq6q9V9W+parbe1XtW6qcvXMKEQBgJAIMAGAkAgwAYCQCDABgJAIMAGAkAgwAYCQCDABgJAIM\\\n",
       "AGAkAgwAYCQCDABgJAIMAGAkAgwAYCQCDABgJAIMAGAkAgwAYCQCDABgJAIMAGAkAgwAYCQCDABg\\\n",
       "JAIMAGAkAgwAYCQCDABgJAIMAGAkAgwAYCQCDABgJAIMAGAkAgwAYCQCDABgJAIMAGAkAgwAYCQC\\\n",
       "DABgJAIMAGAkAgwAYCQCDABgJAIMAGAkAgwAYCQCDABgJAIMAGAkAgwAYCQCDABgJAIMAGAkN7vd\\\n",
       "brm6iMvZbDZXlwAAuAHCwsLKbe4KGWCuYLPZyvWJrsiqau9VtW+p6vZeVfuWKmfvnEIEABiJAAMA\\\n",
       "GIkAAwAYiQADABiJAAMAGIkAAwAYiQADABiJAAMAGIkAAwAYiQADABiJAAMAGIkAAwAYiQADABiJ\\\n",
       "AAMAGIkAAwAYiQADABiJAAMAGIkAAwAYiQADABiJAAMAGIkAAwAYiQADABiJAAMAGIkAAwAYiQAD\\\n",
       "ABiJAAMAGIkAAwAYiQADABiJAAMAGIkAAwAYiQADABiJAAMAGIkAAwAYiQADABiJAAMAGIkAAwAY\\\n",
       "iQADABiJAAMAGIkAAwAYiQADABjJzW63W64u4nI2m83VJQAAboCwsLBym7tCBpgr2Gy2cn2iK7Kq\\\n",
       "2ntV7Vuqur1X1b6lytk7pxABAEYiwAAARiLAAABGIsAAAEYiwAAARiLAAABGIsAAAEYiwAAARiLA\\\n",
       "AABGIsAAAEYiwAAARiLAAABGIsAAAEYiwAAARiLAAABGIsAAAEYiwAAARiLAAABGIsAAAEYiwAAA\\\n",
       "RiLAAABGIsAAAEYiwAAARiLAAABGIsAAAEYiwAAARiLAAABGIsAAAEYiwAAARiLAAABGIsAAAEYi\\\n",
       "wAAARiLAAABGIsAAAEYiwAAARiLAAABGIsAAAEYiwAAARiLAAABGIsAAAEZys9vtlquLuJzNZnN1\\\n",
       "CQCAGyAsLKzc5q6QAeYKNputXJ/oiqyq9l5V+5aqbu9VtW+pcvbOKUQAgJEIMACAkQgwAICRCDAA\\\n",
       "gJEIMACAkQgwAICRCDAAgJEIMACAkQgwAICRCDAAgJEIMACAkQgwAICRCDAAgJEIMACAkQgwAICR\\\n",
       "CDAAgJEIMACAkQgwAICRCDAAgJEIMACAkQgwAICRCDAAgJEIMACAkQgwAICRCDAAgJEIMACAkQgw\\\n",
       "AICRCDAAgJEIMACAkQgwAICRCDAAgJEIMACAkQgwAICRCDAAgJEIMACAkQgwAICRCDAAgJEIMACA\\\n",
       "kQgwAICRCDAAgJEIMACAkdzsdrvl6iIuZ7PZXF0CAOAGCAsLK7e5K2SAuYLNZivXJ7oiq6q9V9W+\\\n",
       "parbe1XtW6qcvXMKEQBgJAIMAGAkAgwAYCQCDABgJAIMAGAkAgwAYCQCDABgJAIMAGAkAgwAYCQC\\\n",
       "DABgJAIMAGAkAgwAYCQCDABgJAIMAGAkAgwAYCQCDABgJAIMAGAkAgwAYCQCDABgJAIMAGAkAgwA\\\n",
       "YCQCDABgJAIMAGAkAgwAYCQCDABgJAIMAGAkAgwAYCQCDABgJAIMAGAkAgwAYCQCDABgJAIMAGAk\\\n",
       "AgwAYCQCDABgJALMINnnCsq0vLLXcbV9lnctpdlvWWu73l5KWp99ruCKy4HKggAzRNrx84o/dEYH\\\n",
       "c/Kclh/MyVP8oTNKO36+StXhylpKs9+y1na9vZS0Xdrx85q7+xfN3X3aaTtXvEZAefJwdQG4trTj\\\n",
       "57Xl3xffdBKyzkqSWtTz1MGcPCVknZUlOdZ3DvSq9HW4spbS7Pfdr8/IcnNTo5rupartenspabvT\\\n",
       "Fwq1+ptflXkqX7Kk1d9YkqTa1as5zRVWWE1hN+xZAVyDAKvgss8V6NNj//3EbOnim9VXOXmyncqX\\\n",
       "dcnYT4+dV7O6HvLzdq+0dbiyltLs92x+obJyL56mq+/lphoe1a5aW33vatfVS0m1rD78q7Jy8/XT\\\n",
       "uUIVbZhpz9dfD+SqcW13+Xj894RLur2a+pwrKLfXCLgZOIVYwfl5u6t/Yx+5XbLMkvT1ZW9ubpL6\\\n",
       "N/YptzekilKHK2spzX59PKop3NdT4XU9VOM/gXG12sLqel5XLyXV4u3hJj+varp8Qz/vak7h5Sap\\\n",
       "jx/hBfNxBGaAFvU8JclxCuhybpIGNPFxjKvsdbiyltLsd0xEzTLVdr29lLSdv8/FUMq050tuUnhd\\\n",
       "D8eyS+fy/KmkPQFmqZABZrPZqtR+S8NTUu2z7sr6tfhBc5MahfL8qUC2n65//tL2Xt51lMWNqOV6\\\n",
       "XvPS7FdlrO16eylpO3dJXvkXj83cf7X0868l11eR/97LU1XtW3JN72Fh5Xe1tUIGWHk2fCU2m80l\\\n",
       "+y2tgzl5Op17VvV9iq87LSnvlus/2ihL7+VZR1n9r7Vc72temv1KKlNt19tLSdudPFug8xcuHoEV\\\n",
       "1HA+Aiuay/OnrAr9915eKvp/5+WpMvZeIQMMzi69G60kRRf+JZVreFSUOlxZS2n2u+zQGcmydItP\\\n",
       "ydeYLq/tenspabuTZwsunj78z4aZpy7+c1GIFc3V1s2NuxBhPG7iqOCyzxUo8cjZYhf0m9f1KHbh\\\n",
       "P/HI2XL7ompFqcOVtZRmv2fzC5Vpz1PmqXz9ml94zdpsp/Kuq5eSajmXbyn7fKEu3zD7XKHO/qeW\\\n",
       "orm2ZrvzpWYYjwCr4Py83dW7wX+/+1N0EX5w0xoa0MT5LrTeDbzK9S7EilCHK2spzX59PKqpSS13\\\n",
       "Na598S7Ea9UWVtfzunopqZbhzWpoQotaCq/r4QixcF8PTWhZS/c2q+k0VyffQu5ChPE4hWiAoi+v\\\n",
       "fnrsvPo3Ln73WuKRs+rdwKvcvzxcUepwZS2l2e8fm9csU23X28uVtpOk//ftr5LcNLSpj9N2RXPV\\\n",
       "/6VQgOkIMEN0DvQq8Qu5Lep5KtCn2k37NF1R6nBlLaXdb1lqu95eStquaJkkp+WXzmX7pYxNAxUQ\\\n",
       "AWaQK72J3exTQRWljqvts7xrKc1+y1rb9fZS0vqK9BoB5YVrYAAAIxFgAAAjudntdn5TBgBgHI7A\\\n",
       "AABGIsAAAEYiwAAARiLAAABGMjbAfvzxR40fP16hoaEKDAxU586dtX37dklSXl6eZsyYoa5du6ph\\\n",
       "w4YKDw/X2LFj9f333zvNcf78eT3++ONq2rSpGjZsqHvvvVdHjx51GvP9999r+PDhatiwoZo2baon\\\n",
       "nnhCFy5ccBqzfft29erVS4GBgWrbtq3efPNNl/V+uYcffli+vr565ZVXnJab2Htp+j58+LBGjhyp\\\n",
       "kJAQNWjQQD179lRmZqbRfUvX7j03N1ePP/64WrRooaCgIHXs2FFLly51msPE3lu3bi1fX99ij2HD\\\n",
       "hjnGxMfHq02bNgoMDFSvXr2UkpJS6ft+8cUX1adPHwUHBys0NFTDhw/XwYMHneawLEtz585VRESE\\\n",
       "goKCdOedd+qrr75yGmO32xUXF6eQkBCFhIQoLi5OdrvdacyBAwcUGxuroKAg/fa3v9X8+fNlWRXj\\\n",
       "3j8jA8xutysmJkaWZen9999XWlqaFixYIH9/f0nSr7/+qj179mjy5Mnatm2bVqxYoaNHj2rIkCHK\\\n",
       "z893zDNt2jQlJiZq2bJlWr9+vU6fPq3hw4eroODij5wWFBRo+PDhys3N1fr167Vs2TIlJCRo+vTp\\\n",
       "jjmysrI0bNgwderUSZ999pkeffRRPfHEE1q3bp1Ler/UunXr9MUXX6hBgwbF1pnWe2n6zsrKUkxM\\\n",
       "jBo3bqyEhASlpqbqqaeeUs2aNY3tu7S9T58+XR9//LH+/ve/Ky0tTY899phmzpypVatWGd371q1b\\\n",
       "lZmZ6Xhs27ZNbm5uuvvuuyVJH3zwgaZOnarHHntMn332mTp16qShQ4c6fVitjH1v375dY8aM0caN\\\n",
       "G5WQkCAPDw/dfffdysnJccyxZMkSLV26VPPnz9eWLVvk7++vQYMG6fTp044xY8eO1d69e7VmzRqt\\\n",
       "WbNGe/fu1QMPPOBY/8svv2jQoEEKCAjQli1bNG/ePL3yyit69dVXy6XvsjLyNvpZs2Zpx44d2rhx\\\n",
       "Y6m3OXTokCIjI7Vjxw61bNlSp06dUrNmzbR06VLHp5offvhBrVu31po1axQVFaVPPvlEw4YN0759\\\n",
       "+9SoUSNJ0urVq/WXv/xFNptNderU0YwZM5SYmKgvv/zSsa+HHnpIhw4d0ieffHJjG1fpe//uu+8U\\\n",
       "ExOjDz/8UEOGDFFcXJweeughSTKy99L0PXbsWLm5uemNN94ocb2JfUul671Lly7q37+/nnzyScey\\\n",
       "2NhYtWzZUgsXLjS298stWrRIL7/8sjIzM+Xj46OoqCi1bNlSL7/8smNMhw4dNHDgQM2YMaPS9n25\\\n",
       "3NxchYSEaPny5erXr58sy1JERITGjRunyZMnS5LOnj2rsLAwzZ49W6NHj1ZmZqY6d+6sDRs2KDIy\\\n",
       "UpKUmpqqfv36adeuXQoLC9OyZcv07LPP6uuvv3bsd+HChXrzzTd18OBBubm5FavlZjLyCCwpKUm3\\\n",
       "3XabRo8erWbNmql79+56/fXXr3pYW/Spw9fXV5KUkZGhvLw89e3b1zGmUaNGCg8PV1pamiQpPT1d\\\n",
       "4eHhjj9qSYqKitL58+eVkZHhGHPpHEVjdu/erby8vBvT8CVK03t+fr7Gjh2ryZMnKzw8vNgcJvZ+\\\n",
       "rb4LCwu1YcMGhYeHa/DgwQoNDVWfPn30wQcfGN13aXqXpMjISG3YsEE//PCDJCktLU379+9XVFSU\\\n",
       "0b1fyrIsvfvuuxo+fLh8fHx04cIFZWRkFKunb9++jp4qY98lyc3NVWFhoeP97ciRIzp+/LhTzT4+\\\n",
       "PuratatT37Vq1VLnzp0dYyIjI1WzZk2nMV26dHHab1RUlI4dO6YjR47c8F7LysgAy8rK0rJly9Sk\\\n",
       "SROtXbtW48eP18yZM6/4yfvChQt66qmndMcdd+jWW2+VJJ04cULu7u7y8/NzGuvv768TJ044xlx+\\\n",
       "as7Pz0/u7u5XHePv76/8/HxlZ2ffkH4vVZre586dq/r162vMmDElzmFi79fq++TJk8rNzXVcG/jn\\\n",
       "P/+pwYMHa9y4cY4jFxP7Lk3vkjR//ny1atVKrVq10i233KI777xTzz77rO644w6je7/U1q1bdeTI\\\n",
       "Ed1///2SpOzsbBUUFJRYz6X1Vra+SzJ16lS1bt1anTp1kiQdP37cUeOlLu/bz8/P6SjKzc1Nt9xy\\\n",
       "yzX7Llrnakb+mG9hYaHat2+vGTNmSJLatm2rb7/9VvHx8YqLi3Mam5+fr7i4OJ06dUorV650Rbk3\\\n",
       "1LV6T05O1ooVK5ScnOziSm+sa/VdWHjxfw8SGxurSZMmSZLatGmjjIwMvfHGG4qJiXFZ7f+r0vy9\\\n",
       "v/baa0pPT9fKlSsVHByslJQUPf300woJCdHvfvc7V5Z/w7z99tvq0KGDWrdu7epSbqpr9f3kk09q\\\n",
       "586d2rBhg9zdq9aPNRt5BBYYGFjs1Fjz5s0dp0+K5Ofna8yYMTpw4IDWrVun+vXrO9YFBASooKCg\\\n",
       "2KenkydPKiAgwDHm5MmTTuuLPvVdbczJkyfl4eFR7FPfjXCt3rdv364ff/xR4eHh8vPzk5+fn77/\\\n",
       "/nvNmDFDLVq0cNRsWu/X6tvPz08eHh5XHWNi39K1ez979qxmzZqlmTNnql+/fmrVqpXi4uJ0zz33\\\n",
       "OO4+NbX3S/exfv16jRo1yrGs6CippHourbey9X2padOmae3atUpISFCTJk0cywMDAx3bXz7fpT1l\\\n",
       "Z2c7nYq2LEs//fTTNfsuWudqRgZYZGSkDh8+7LTs8OHDCg4Odvx7Xl6eRo8erQMHDigxMdHxghZp\\\n",
       "166dPD09tXXrVseyo0ePOi5sSlKnTp2UmZnpdMvt1q1b5eXlpXbt2jnGXDpH0Zj27dvL09NTN9q1\\\n",
       "eh87dqx27Nih5ORkx6NBgwaaMGGC444pE3u/Vt/Vq1dXhw4dZLPZrjjGxL6la/eel5envLy8Yp++\\\n",
       "3d3dHUempvZeZMWKFfLy8tLgwYMdy6pXr6527dqVWE9RT5Wx7yJTpkxxhFfz5s2d1jVu3FiBgYFO\\\n",
       "NZ87d06pqalOfefm5io9Pd0xJj09XWfOnHEak5qaqnPnzjnGbN26VQ0aNFDjxo1vaK/Xw33q1KnP\\\n",
       "urqIsmrUqJHmz5+vatWqKSgoSNu2bdNzzz2nRx55RLfddpvy8/M1atQoffnll3rnnXdUu3ZtnTlz\\\n",
       "RmfOnJG7u7s8PT3l7e2tH3/8UfHx8Y67Eh955BHVqVNHM2fOVLVq1dSkSRMlJiZqy5YtatmypQ4d\\\n",
       "OqTJkydr6NCh6t+/vyTpN7/5jZYsWaKTJ08qODhY69ev1wsvvKDnnntOERERN733mjVryt/f3+nx\\\n",
       "2muvqVevXurXr58kGdn7tfqWpHr16mnevHkKCAhQnTp1lJCQoCVLlmjOnDlq1qyZkX2XpncvLy8l\\\n",
       "Jyc7bmKxLEtJSUl68cUX9cADD6hjx47G9i5dPCqYOHGiYmJiNHDgQKd1tWvX1ty5cxUUFCRvb28t\\\n",
       "XLhQKSkpevXVV1W3bt1K2/fkyZO1atUqvfXWW2rUqJHj/U26GOxubm4qKCjQ4sWLFRoaqoKCAk2f\\\n",
       "Pl3Hjx/X4sWL5eXlpVtuuUWff/651qxZo9atW+vo0aN65JFH1KFDB8et9KGhofrHP/6hffv2KSws\\\n",
       "TKmpqXrmmWf08MMPO9384TJ2u90y8bF69WqrZcuWlpeXlxUaGmrNmzfPysnJsex2u7Vnzx5LUomP\\\n",
       "pUuXOuY4fvy4NW7cOKtevXqWj4+PFRMTY+3fv99pP/v27bNiYmIsHx8fq169elZcXJx1/PhxpzEf\\\n",
       "ffSR1aZNG6t69epWSEiI9eKLL7qs95IewcHB1uzZs52Wmdh7afpeunSpFRoaanl7e1stWrSw4uPj\\\n",
       "je+7NL1nZmZa9913n9WgQQPL29vbCgsLs2bPnu00xtTeExISLEnW5s2bS1y/aNEiKzg42KpevbrV\\\n",
       "tm1bKykpqVK85lfr+0rvb1OmTHGMycnJsaZMmWIFBgZaXl5eVteuXa2UlBSnebKysqxhw4ZZtWvX\\\n",
       "tmrXrm0NGzbMysrKchqzY3zJbGgAAAA9SURBVMcOq0uXLpaXl5cVGBhoTZ069arvNzfzYeT3wAAA\\\n",
       "MPIaGAAABBgAwEgEGADASAQYAMBIBBgAwEj/HzPy5PP/Ga3WAAAAAElFTkSuQmCC\\\n",
       "\"\n",
       "  frames[5] = \"data:image/png;base64,iVBORw0KGgoAAAANSUhEUgAAAbAAAAEgCAYAAADVKCZpAAAABHNCSVQICAgIfAhkiAAAAAlwSFlz\\\n",
       "AAALEgAACxIB0t1+/AAAADh0RVh0U29mdHdhcmUAbWF0cGxvdGxpYiB2ZXJzaW9uMy4xLjAsIGh0\\\n",
       "dHA6Ly9tYXRwbG90bGliLm9yZy+17YcXAAAgAElEQVR4nO3deXzMd/4H8Nd3rmRykDsSSajIUQRF\\\n",
       "ibPIrhRF1dUtW/VD2qKHoqi2ilosLaq22xbbC22XLkkpW2XTkDTRqjMVQxtFyT0h9xzf3x+RaSZ3\\\n",
       "KpH5JK/n45EH8/1+5vP5vOc7mdd8j5lIer1eBhERkWAUTT0BIiKiP4IBRkREQmKAERGRkBhgREQk\\\n",
       "JAYYEREJiQFGRERCYoAREZGQGGBERCQkBhgREQmJAUZEREJigBERkZAYYEREJCQGGBERCYkBRnSX\\\n",
       "rVq1Ci4uLoiLi2vqqRAJjQFGRI3CYDDgnXfewaxZszBgwAB4enrCxcUF27Ztq/W+xcXF2LRpE4YM\\\n",
       "GQJ/f3/4+vqiZ8+eeOqpp5CZmXkXZk8iUDX1BIioecrPz8fixYsBAF5eXvD29sbVq1drvV9aWhrG\\\n",
       "jh2L5ORkhIeH4/HHH4dSqcTVq1dx+PBhpKenw8PDo7GnTwJggBFRo3BwcMC///1vhIWFoU2bNli1\\\n",
       "ahXWrFlT433MZjOeeOIJXLx4ETt37sTw4cOt1suyDLPZ3JjTJoHwECL9IZcvX4aLiwtGjhyJrKws\\\n",
       "PPfccwgJCYGXlxfCw8PxySef3FH/8fHxePTRR9G5c2d4eXmhY8eOGDx4MJYsWQJZ/v2PiF+/fh1r\\\n",
       "1qxBZGQkgoOD4enpidDQUEyfPh0//fRTjfNOT0/H7NmzERQUBF9fXwwbNgzx8fEASvceXnnlFXTp\\\n",
       "0gVeXl7o06cP9uzZU6m/7du3w8XFBatWrcJ3332H0aNHw9/fH/7+/hg/fjxOnjxZr7p//vlnPPPM\\\n",
       "M5ZxAwMDMXny5Cr7uXXrFtauXYt+/fohICAAbdu2RdeuXTFlyhSbOL+m0Wjw5z//GW3atKnzfb78\\\n",
       "8kskJCRg1qxZlcILACRJglKpbMhpksC4B0Z3JDc3F5GRkdBoNBg9ejRKSkqwZ88ezJkzBwqFAo89\\\n",
       "9li9+zx06BAmTpwIJycnDB8+HG3btoVer8elS5fw7rvvYtmyZVCpSp+68fHx2LBhAwYOHIjRo0fD\\\n",
       "0dERly5dQnR0NL766it89dVX6NatW7XzdnV1xYQJE/Dbb79h7969GDduHL7++ms899xzyMvLw4gR\\\n",
       "I3Dr1i3s3r0b06ZNQ9u2bXH//fdX6u+HH37A+vXrMWTIEMycOROXLl1CTEwMjh07hj179qBPnz61\\\n",
       "1h0bG4vJkyejqKgIkZGRCAwMxPXr1xETE4NDhw5hx44diIiIAFC6JzJ+/HgkJiaiZ8+emDx5MjQa\\\n",
       "Da5fv474+HjExsZi4MCB9X7sm9quXbsAAOPGjUNaWhoOHjyIzMxMeHl5YejQofD19W3iGZItYYDR\\\n",
       "HTl79iz++te/YsOGDZZ3xk8//TT69++PjRs3/qEA+/DDD2E2m/Hll1+ia9euVuuys7Mt4QUAgwYN\\\n",
       "woULF+Ds7GzV7syZM3jwwQexfPly7N69u8p5R0VFYc2aNZAkCQDwxhtvYMWKFXjooYcwcOBAbN26\\\n",
       "FRqNBgAwdOhQzJw5Exs2bMD27dsr9Xfo0CGsXbsWM2fOtCzbu3cvpk6dijlz5iApKckyTlVyc3Mx\\\n",
       "bdo0qNVqHDp0CKGhoZZ1KSkpiIiIwOzZs3Hq1CnY2dkhOTkZiYmJGDFiBHbs2GHVlyzLyMnJqXas\\\n",
       "8k6fPo19+/bVqW2Zxx57DO3atavXferqxIkTAErfECxevBiFhYWWdWq1Gi+++CIWLFjQKGOTeBhg\\\n",
       "dEccHBywcuVKq8M6oaGh6NOnD+Lj45GXlwcnJ6c/1LdWq620zM3Nzeq2p6dnlfcNCwvDwIEDceTI\\\n",
       "ERgMBqjVaqv1jo6OePXVV61CZdKkSVixYgX0ej1ef/11S3gBwCOPPIJZs2bhzJkzVY7XoUMHTJ8+\\\n",
       "3WrZmDFj0Lt3byQlJSExMRHh4eHV1vrpp58iOzsbq1evtgovAAgJCcHjjz+Of/zjH4iNjcWwYcMs\\\n",
       "66p6jCRJqvQ4VefMmTO1npeqaMCAAY0WYGVXGM6bNw/Tpk3DnDlz4OrqitjYWMybNw8rV66Er68v\\\n",
       "Jk+e3Cjjk1gYYHRHOnTogFatWlVa7ufnBwDQ6/X1DrAJEyYgJiYGERERGDt2LAYOHIj777+/2hfN\\\n",
       "gwcPYtu2bTh58iSysrJgNBqt1mdlZVU6D9OhQ4dK8ypr07p160pjKZVKeHp64rfffqtyDn379oVC\\\n",
       "UfmUcv/+/ZGUlITTp0/XGGCJiYkAgHPnzmHVqlWV1l+8eBFA6d7YsGHDEBoairCwMOzevRu//vor\\\n",
       "RowYgT59+qBHjx6wt7evdpyKJk+ebFNhUHaBxuDBg7Fu3TrL8tGjR0OtVuMvf/kL1q9fb1NzpqbD\\\n",
       "AKM70rp16yqXl+2RmUymevc5evRofP7559i8eTN27tyJDz/8EADQqVMnLFy4EGPGjLG0feedd7B4\\\n",
       "8WK4uLhgyJAh8PPzg1arhSRJ2LdvH86ePYvi4uJKY1QVumWHJqtaV1ZTxXAs4+XlVeXysj3Emzdv\\\n",
       "1lBx6aFRAPj4449rbJefn2+ZS0xMDNauXYvo6GgsW7YMQOke8dixY7F8+XK4u7vX2Jctat26NTIy\\\n",
       "MvDQQw9VWjds2DBoNBpcvHgRubm51T73qOVggJFNGjZsGIYNG4bCwkKcOHEChw4dwpYtW/DEE08g\\\n",
       "JiYGAwYMgNFoxOrVq+Ht7Y3Y2NhKe1nHjx+/a/NNT0+vcnlGRgaA6kOxTNn6//3vf+jevXudxnRx\\\n",
       "ccHKlSuxcuVKpKamIj4+Hp988gm2b9+OX3/9FTExMbX2YWvnwDp27IiMjIwqw0mpVMLZ2RlZWVko\\\n",
       "KipigBEDjGybVqtF//790b9/f7Rr1w7PP/889u3bhwEDBiArKwu5ubkYNGhQpfDKy8vDqVOn7to8\\\n",
       "v/vuO5jN5kqHEY8dOwYAlS5Gqej+++9HdHQ0EhIS6hxg5bVv3x7t27fHxIkT0b17d8TFxdVpL8XW\\\n",
       "zoENHjwYCQkJSE5OxiOPPGK1Lj09HVlZWXBychJy75IaHj8HRjbn6NGjVR6qS0tLA1B6mAwoPTzn\\\n",
       "4OCAkydPIi8vz9LOYDBg0aJFyMrKujsTBnDp0iVs3brVatnevXuRlJSEoKCgWi+jnzJlClxcXLB2\\\n",
       "7VokJSVVWi/LMhISElBSUgIASE1NRWpqaqV2eXl5yM/Ph1qttrpaszqTJ0+GXq+v109jXp4/ZcoU\\\n",
       "ODg4YMuWLVb1mUwmvPLKKwBKL46pS23U/PFZQDZn0aJFuHbtGsLDwxEQEAB7e3ucO3cO33zzDdzc\\\n",
       "3DB16lQAgEKhwJNPPon169ejX79+GDFiBAwGA+Li4pCTk4OBAwfetQ/0RkREYMmSJTh06BA6d+5s\\\n",
       "+RyYVqvFpk2baryEHgBcXV3x0UcfYcqUKRg2bBgGDRqE0NBQqNVqXLt2Dd9//z2uXr2K1NRUaDQa\\\n",
       "y8cXunfvjpCQEPj4+ECv1+PgwYPIycnBnDlz4OjoeFdqr8n69etx4cIFALBcwblz507L4d3g4GDM\\\n",
       "nTvX0r5t27ZYt24dZs+ejYEDB2LkyJFwdXXF0aNHcebMGXTs2BHLly+/+4WQTWKAkc2ZN28e9u3b\\\n",
       "hx9//NESQL6+vnj66acxa9YsyxWOALBkyRK4u7vj448/xgcffIBWrVph8ODBePnll6u8mq+x9OrV\\\n",
       "CwsWLMDKlSvx3nvvAQCGDBmCV155pc6HBAcNGoRjx47h7bffxjfffIOkpCSoVCp4e3ujd+/eeO21\\\n",
       "1yznyu677z688MILOHr0KI4cOYKcnBy4ubkhODgYf/vb3/Dwww83Wq31cejQIcth1DLHjx+3BFj/\\\n",
       "/v2tAgwoPcfm7++PDRs24KuvvkJBQQH8/Pzw7LPP4oUXXoCLi8tdmz/ZNkmv18u1NyOiqmzfvh2z\\\n",
       "Z8/GwoULLV9cS0R3B8+BERGRkBhgREQkJJ4Do0Z3+fLlSt/XV53G/IwRETUvPAdGjS4uLg6jRo2q\\\n",
       "U9uYmBghv0WdiO4+BhgREQmJ58CIiEhIDDAiIhISA+w2nU7X1FNoMi219pZaN9Bya2+pdQPNs3YG\\\n",
       "GBERCYkBRkREQmKAERGRkBhgREQkJAYYEREJiQFGRERCYoAREZGQbPKrpJrj5xWIiFqioKCgRuvb\\\n",
       "JgOsKeh0ukZ9oG1ZS629pdYNtNzaW2rdQPOsnYcQiYhISAwwIiISEgOMiIiExAAjIiIhMcCIiEhI\\\n",
       "DDAiIhISA4yIiITEACMiIiExwIiISEgMMCIiEhIDjIiIhMQAIyIiITHAiIhISAwwIiISEgOMiIiE\\\n",
       "xAAjIiIhMcCIiEhIDDAiIhISA4yIiITEACMiIiExwIiISEgMMCIiEhIDjIiIhMQAIyIiITHAiIhI\\\n",
       "SAwwIiISEgOMiIiExAAjIiIhMcCIiEhIDDAiIhISA4yIiITEACMiIiExwIiISEgMMCIiEhIDjIiI\\\n",
       "hMQAIyIiITHAiIhISAwwIiISEgOMiIiExAAjIiIhMcCIiEhIkl6vl5t6EhXpdLqmngIRETWAoKCg\\\n",
       "RuvbJgOsKeh0ukZ9oG1ZS629pdYNtNzaW2rdQPOsnYcQiYhISAwwIiISEgOMiIiExAAjIiIhMcCI\\\n",
       "iEhIDDAiIhISA4yIiITEACMiIiExwIiISEgMMCIiEhIDjIiIhMQAIyIiITHAiIhISAwwIiISEgOM\\\n",
       "iIiExAAjIiIhMcCIiEhIDDAiIhISA4yIiITEACMiIiExwIiISEgMMCIiEhIDjIiIhMQAIyIiITHA\\\n",
       "iIhISAwwIiISEgOMiIiExAAjIiIhMcCIiEhIDDAiIhISA4yIiITEACMiIiExwIiISEgMMCIiEhID\\\n",
       "jIiIhMQAIyIiITHAiIhISAwwIiISEgOMiIiExAAjIiIhSXq9Xm7qSVSk0+maegpERNQAgoKCGq1v\\\n",
       "mwywpqDT6Rr1gbZlLbX2llo30HJrb6l1A82zdh5CJCIiITHAiIhISAwwIiISEgOMiIiExAAjIiIh\\\n",
       "McCIiEhIDDAiIhISA4yIiITEACMiIiExwIiISEgMMCIiEhIDjIiIhMQAIyIiITHAiIhISAwwIiIS\\\n",
       "EgOMiIiExAAjIiIhMcCIiEhIDDAiIhISA4yIiITEACMiIiExwIiISEgMMCIiEhIDjIiIhMQAIyIi\\\n",
       "ITHAiIhISAwwIiISEgOMiIiExAAjIiIhMcCIiEhIDDAiIhISA4yIiITEACMiIiExwIiISEgMMCIi\\\n",
       "EhIDjIiIhMQAIyIiITHAiIhISAwwIiISEgOMiIiEJOn1ermpJ1GRTqdr6ikQEVEDCAoKarS+bTLA\\\n",
       "moJOp2vUB9qWtdTaW2rdQMutvaXWDTTP2nkIkYiIhMQAIyIiITHAiIhISAwwIiISEgOMiIiExAAj\\\n",
       "IiIhMcCIiEhIDDAiIhISA4yIiITEACMiIiExwIiISEgMMCIiEhIDjIiIhMQAIyIiITHAiIhISAww\\\n",
       "IiISEgOMiIiExAAjIiIhMcCIiEhIDDAiIhISA4yIiITEACMiIiExwIiISEgMMCIiEhIDjIiIhMQA\\\n",
       "IyIiITHAiIhISAwwIiISEgOMiIiExAAjIiIhMcCIiEhIDDAiIhISA4yIiITEACMiIiExwIiISEgM\\\n",
       "MCIiEhIDjIiIhMQAIyIiITHAiIhISAwwIiISEgOMiIiEJOn1ermpJ1GRTqdr6ikQEVEDCAoKarS+\\\n",
       "bTLAmoJOp2vUB9qWtdTaW2rdQMutvaXWDTTP2nkIkYiIhMQAIyIiITHAiIhISAwwIiISEgOMiIiE\\\n",
       "xAAjIiIhMcCIiEhIDDAiIhISA4yIiITEACMiIiExwIiISEgMMCIiEhIDjIiIhMQAIyIiITHAiIhI\\\n",
       "SAwwIiISEgOMiIiExAAjIiIhMcCIiEhIDDAiIhISA4yIiITEACMiIiExwIiISEgMMCIiEhIDjIiI\\\n",
       "hMQAIyIiITHAiIhISAwwIiISEgOMiIiExAAjIiIhMcCIiEhIDDAiIhISA4yIiITEACMiIiExwASS\\\n",
       "VWSq1/LGGrfsdnXL76bqxtTlGqpsV92/tfVXsU1V7Sour+/2qm15deuPpxdXeZ+Kj0H5PvSVV9U4\\\n",
       "BpEtUi5atOi1pp6ELcjOzoa7u3tTT6NaiWnF+CK1EG52CnhqlZblyTkGfHqpAGoJ8HNS/aG+a6q9\\\n",
       "4rhlt3OKzTh4tcgybkPMo76qe0w+u1iAtaduQSkBXdw0leZ8QW/A0RsluHGzEPG56nrVkJhWjLfO\\\n",
       "5iEhrRh+TirLuMk5Bmw6m4dvrhXD3U6Ba/mmem2v2rZv2Zwrrl95Ihd/+/EWCkxm9PO2s/S16uRN\\\n",
       "fKIrgEmWcZ+HplJf3/5WhLauTg3+XLJ1tv573piaY+0MsNtseeMmphXj8G/FkAFc0BvhZl/6Ipac\\\n",
       "Y0B0aiFkAL/cMkGj+GMvPNXVXnHca/lGnMgyIL3QhP9eLYK9UkJ6kRm/5ZuQmF5yx/Ooj+oek88u\\\n",
       "FuCjC/mQAZzKNuDyLSNS80yWOeeWyPgx04CbxWZ8l2WCk52mzjUkphXj4wv5+OWWCZnFZly5ZYS/\\\n",
       "kwoZRWZsPZ+P8zkG5BSb8UNGMXS3THBWK+q0vWrbvlfyTUi4UQIFgOsFZsv6lSdy8enFQgAyTmYa\\\n",
       "UGiSoQTwz+Q8fJ9pQIHBDF2uEWYZsFNKVn2ZjEbkmFQN/lyydbb8e97YmmPtkl6vl5t6ErZAp9Mh\\\n",
       "KCioqadRSVaRCVvO58NcbitJAIJaq6DLNaL8xlNIwIxQR7jbKyt2U6Oqaq84bqHRjBOZBrjaKZBd\\\n",
       "bEbZwO72pbfv81DDQaW4o3nUVXWPSRsHBXb9XAj59nKDWcaNQjPudVEhzyBbbtsrgSIT4CKVwNlB\\\n",
       "W6casopM2HQ2D99nlFj6hwS42ylurzdbjenjoEBvLw0cVIoat9cj92jxxS+F1W7ffKMZP2YaIMuA\\\n",
       "JAE9bs/RWS3h3Z/yIcu/39EMCR52ErJLZKDcckeVAgN9NLBXSZa+CgsLMSCgFRxUigZ9Ltk6W/09\\\n",
       "vxuaY+08B2bj3O2VGNVOC6ncMhnAhQovOBKAUe20DfaCU3FcrUqB4NYqZBf9Hl4AkFVsRnBrleWF\\\n",
       "v6HnUZe5AaVTul5QOpeyFWqFhJ4eauQZZcttNzsJhUYZbnYSVFLda3C3V2JioANCXNRWg2YVmS3h\\\n",
       "BQBqpYSenhp0cf09DGvaXkGt1TVuX4fbj7skAcGtVdCqFJAB3DTI6OmhturR016CJMEqvCBJuNdV\\\n",
       "BTd7pVVf9ziYLX019nOJqLEwwATQyVWN0e2tX+TKkwCMbq9FJ1d1NS0aZlxPrRIhLuUOK0lASOvf\\\n",
       "zwM11jzqMrcynlolQm6/SIe4qBDsokZIuVBzVCnQy1MDx9vhUp8aOrmqMT3UEaHV1ScBoa1VWNDN\\\n",
       "GdPvdarz9qpt+3pplXiykxO8tNaBEuyiRi9PDSRJgru9BEeVAo4qBdzty2qT0MtDjeByoVvWl7um\\\n",
       "6gMvd3MbEt0pmzzIrdPpWtS4daEG4FyoRGpB5fcc7R3MUGeaoMv84/1XV3vFcZUA7IwS9AYJLmoZ\\\n",
       "ygIZ2QUNN4/6qO4xUQJoKwHKAiC74PacDb/P2cMkI9cooRAS7AwF9apBDaCDrMQvRiX0BuvIcVHL\\\n",
       "6AAT1Jmld67P9qpt+4aWmPBrFes9ALRVSSg2SCi8fWWhAoDSLMFRKcPDVITsrCr60iqRmpVdp7k1\\\n",
       "N7b8e97YmqL2xjxsaZMB1hTHaW39+HByjgG38grhpq287hYAg8cff9dcU+0Vx80oNKG4xAitCiiW\\\n",
       "AJPD73svdzqP+qruMckoNOFarhGOt+eWUWhCseH2nAFkKhUoVpkBQyGK1Q71qiE5x4CfM/NRrDJA\\\n",
       "W+G3p1gCfoYKBg+n0r7qsb1q277nNWrc0hoqrb+gN+Ca0QA3O8myV5lvNMNkMuMmJGQqrffAyvq6\\\n",
       "XHgDbu5udZpbc2Lrv+eNqTnWbpMBRtbKXyFWFRlAdGohADToC0/FcTMKTUjRG60GTsktve2pVTba\\\n",
       "POoytzIZhabSOclAit6InGIz0sudt8s3mvF9hhHu9orS4+f1qCE5x2C52rBKMnA+14i1p27BTSPB\\\n",
       "Q1v1OaSKY9S2fdMLTTiaXIzgcoc6gdLw+j6jBACQVQTA3nz7/7fPyckyvs8snWtZiJX15Q0JrnWY\\\n",
       "G5Et4zkwG5dVZELM5cJKJ9mDW6sqnfiPuVzYYB9ErThuodGMC7mll3iXH9jdToELuUYUGM2NMo+6\\\n",
       "zA0onZKPQ+lcylYYzDJ+yDTA6fbVGgazjOxiGVqVhOxiGcayKynrUENWkQmfXypASvlPAEulV2Fa\\\n",
       "zjkBMJhk/JBRgrM5Bkt/NW0vXa6hxu1bcPtxl+XSiy0KjWZIAFqpJfyQabDqMaNILr1+Qyo3kizj\\\n",
       "pxwjsotMVn39UqCw9NXYzyWixsLPgd1mq5+RcFApoJZKP5sD/H6S/QFfe7jZl37OqMwQXzsEudT/\\\n",
       "XXNVtVccV6OQ8ICPHVQKCVqlhOxiM0JcVGjnrMJgH3vkG39/Cf6j86ir6h6TP/tpoZQknMoqfWFX\\\n",
       "KiSM8LeHj6MKWpUEfYmMACcVlJKE9k5KFJSUoLOHtk41OKgU0Col/HrLCH2JbLlg49kwZwzwscOV\\\n",
       "fBMyi8xQShLaOijg56yGu72y1u3V1V1T4/b95aYJkiRBX2zGPc5KuNsrMbq9FiPbaZFdbMLZ7N/7\\\n",
       "mxbqiOmhTvgt34TfCkvD091egf8LdcSo9g5WfXmrDGjb2qHBn0u2zlZ/z++G5lg7A+w2W964fk4q\\\n",
       "aBTA5TyT1RVinlol3OwV0OUaMcTXDn1ufxNDfVVXe8Vxh7S1h0YBZBabMTxAi0KTjCG+dogM0DbI\\\n",
       "POqjuseki5saKknCmWwD/hrkgKc7O1vNWSEBvTw1cNIo0Ms+D0oHpzrX4Oekgru9AlfyTWjjoMD0\\\n",
       "e53QyVUNT60S/k5KXM03oZVGgSc7OaGbu7rO26u27ZtWaEIvTw1USslq/SAfe+QUm3Aux4gnQh0x\\\n",
       "r2sr+Dmp4OOgxPUCEwxm4K/Bjvi/UKdKfRUX5mPSve4N/lyydbb8e97YmmPt/CDzbSKc4MwqMlX5\\\n",
       "2ZzqltdVbbVX7L/sdnXL76bqxtTlGhDUWl2pXfl/s6/8DDf/DvWuoezQWsV2FZfXd3vVtry69cfT\\\n",
       "i3G/l12l+2QXm60eg/J9HU/W4f5Olbd5U2zDu0mE3/PG0hxr50UcAqnuhaWxX3Aq9l92u7rld1N1\\\n",
       "Y1Z84a44Z3d7JbKruH9daqjrdqjv9qpteXXrK4ZXWduq2pctq+7oYHMOL2p+eBEHEREJiQFGRERC\\\n",
       "4jkwIiISEvfAiIhISAwwIiISEgOMiIiExAAjIiIhCRtgN27cwFNPPYXAwEB4e3ujT58+OHr0KADA\\\n",
       "YDBg6dKl6NevH3x9fRESEoIZM2bgypUrVn0UFxdjwYIF6NChA3x9ffHoo4/i2rVrVm2uXLmCSZMm\\\n",
       "wdfXFx06dMCLL76IkpISqzZHjx7FAw88AG9vb3Tr1g3btm1rstorev755+Hi4oJNmzZZLRex9rrU\\\n",
       "ffHiRUyZMgUBAQHw8fHBoEGDkJKSInTdQO215+XlYcGCBejUqRPatGmDXr16YfPmzVZ9iFh7WFgY\\\n",
       "XFxcKv1MnDjR0mbLli3o2rUrvL298cADDyA+Pr7Z1/3mm29iyJAh8Pf3R2BgICZNmoTk5GSrPmRZ\\\n",
       "xqpVqxAaGoo2bdpg5MiR+Omnn6za6PV6REVFISAgAAEBAYiKioJer7dqc+7cOYwYMQJt2rTBvffe\\\n",
       "izVr1lj9JfCmJGSA6fV6REZGQpZlfP7550hMTMTf//53eHp6AgAKCgpw6tQpzJ8/H7GxsdixYweu\\\n",
       "XbuG8ePHw2j8/fveFi9ejJiYGGzduhX79+/HrVu3MGnSJJhMpd+oYDKZMGnSJOTl5WH//v3YunUr\\\n",
       "oqOjsWTJEksfqampmDhxInr37o1vv/0WL7zwAl588UXs3bu3SWovb+/evfjhhx/g4+NTaZ1otdel\\\n",
       "7tTUVERGRqJdu3aIjo5GQkICXn75ZTg6Ogpbd11rX7JkCf773//in//8JxITEzFv3jwsW7YMn376\\\n",
       "qdC1HzlyBCkpKZaf2NhYSJKEhx9+GADwxRdfYNGiRZg3bx6+/fZb9O7dGxMmTLB6s9oc6z569Cim\\\n",
       "T5+OgwcPIjo6GiqVCg8//DBycnIsfWzcuBGbN2/GmjVrcPjwYXh6emLs2LG4deuWpc2MGTNw+vRp\\\n",
       "7Nq1C7t27cLp06fx5JNPWtbfvHkTY8eOhZeXFw4fPozVq1dj06ZNePvttxul7voS8jL65cuX49ix\\\n",
       "Yzh48GCd73P+/HmEh4fj2LFj6Ny5M3Jzc9GxY0ds3rzZ8q7m6tWrCAsLw65duxAREYGvv/4aEydO\\\n",
       "xJkzZ+Dn5wcA+Oyzz/Dss89Cp9OhVatWWLp0KWJiYnDixAnLWM888wzOnz+Pr7/+umELR91r//XX\\\n",
       "XxEZGYk9e/Zg/PjxiIqKwjPPPAMAQtZel7pnzJgBSZLw/vvvV7lexLqButXet29fjBo1Ci+99JJl\\\n",
       "2YgRI9C5c2esXbtW2NorWrduHd566y2kpKRAq9UiIiICnTt3xltvvWVp06NHD4wZMwZLly5ttnVX\\\n",
       "lJeXh4CAAGzfvh3Dhw+HLMsIDQ3FzJkzMX/+fABAYWEhgoKCsGLFCkybNg0pKSno06cPDhw4gPDw\\\n",
       "cABAQkIChg8fjuPHjyMoKAhbt27Fa6+9hgsXLljGXbt2LbZt24bk5GRIUnV/R/zuEHIPbN++fejZ\\\n",
       "syemTZuGjh07YsCAAXjvvfdq3K0te9fh4uICADh58iQMBgOGDh1qaePn54eQkBAkJiYCAJKSkhAS\\\n",
       "EmJ5UgNAREQEiouLcfLkSUub8n2Utfnxxx9hMFTzd6PuQF1qNxqNmDFjBubPn4+QkJBKfYhYe211\\\n",
       "m81mHDhwACEhIRg3bhwCAwMxZMgQfPHFF0LXXZfaASA8PBwHDhzA1atXAQCJiYk4e/YsIiIihK69\\\n",
       "PFmW8fHHH2PSpEnQarUoKSnByZMnK81n6NChlpqaY91VycvLg9lstry+Xb58GWlpaVZz1mq16Nev\\\n",
       "n1XdTk5O6NOnj6VNeHg4HBV0d6IAAAaGSURBVB0drdr07dvXatyIiAhcv34dly9fbvBa60vIAEtN\\\n",
       "TcXWrVvRvn177N69G0899RSWLVtW7TvvkpISvPzyy3jwwQfRtm1bAEB6ejqUSmWlb2f29PREenq6\\\n",
       "pU3FQ3Pu7u5QKpU1tvH09ITRaERWVhYaWl1qX7VqFdzc3DB9+vQq+xCx9trqzsjIQF5enuXcwH/+\\\n",
       "8x+MGzcOM2fOtOy5iFh3XWoHgDVr1qBLly7o0qULPDw8MHLkSLz22mt48MEHha69vCNHjuDy5ct4\\\n",
       "/PHHAQBZWVkwmUxVzqf8fJtb3VVZtGgRwsLC0Lt3bwBAWlqaZY7lVazb3d3dai9KkiR4eHjUWnfZ\\\n",
       "uqYm5Jf5ms1m3HfffVi6dCkAoFu3bvj555+xZcsWREVFWbU1Go2IiopCbm4udu7c2RTTbVC11R4X\\\n",
       "F4cdO3YgLi6uiWfasGqr22wu/ftXI0aMwJw5cwAAXbt2xcmTJ/H+++8jMjKyyeZ+p+ryfH/33XeR\\\n",
       "lJSEnTt3wt/fH/Hx8XjllVcQEBCAP/3pT005/Qbz4YcfokePHggLC2vqqdxVtdX90ksv4bvvvsOB\\\n",
       "AwegVLasL2MWcg/M29u70qGx4OBgy+GTMkajEdOnT8e5c+ewd+9euLm5WdZ5eXnBZDJVeveUkZEB\\\n",
       "Ly8vS5uMjAyr9WXv+mpqk5GRAZVK1Sh/e6e22o8ePYobN24gJCQE7u7ucHd3x5UrV7B06VJ06tTJ\\\n",
       "MmfRaq+tbnd3d6hUqhrbiFg3UHvthYWFWL58OZYtW4bhw4ejS5cuiIqKwiOPPGK5+lTU2suPsX//\\\n",
       "fkydOtWyrGwvqar5lJ9vc6u7vMWLF2P37t2Ijo5G+/btLcu9vb0t96/YX/masrKyrA5Fy7KMzMzM\\\n",
       "WusuW9fUhAyw8PBwXLx40WrZxYsX4e/vb7ltMBgwbdo0nDt3DjExMZYNWqZ79+5Qq9U4cuSIZdm1\\\n",
       "a9csJzYBoHfv3khJSbG65PbIkSOws7ND9+7dLW3K91HW5r777oNa3fB/0ba22mfMmIFjx44hLi7O\\\n",
       "8uPj44NZs2ZZrpgSsfba6tZoNOjRowd0Ol21bUSsG6i9doPBAIPBUOndt1KptOyZilp7mR07dsDO\\\n",
       "zg7jxo2zLNNoNOjevXuV8ymrqTnWXWbhwoWW8AoODrZa165dO3h7e1vNuaioCAkJCVZ15+XlISkp\\\n",
       "ydImKSkJ+fn5Vm0SEhJQVFRkaXPkyBH4+PigXbt2DVrrHyHkX2T28/PDmjVroFAo0KZNG8TGxuL1\\\n",
       "11/H3Llz0bNnTxiNRkydOhUnTpzARx99BGdnZ+Tn5yM/Px9KpRJqtRr29va4ceMGtmzZYrkqce7c\\\n",
       "uWjVqhWWLVsGhUKB9u3bIyYmBocPH0bnzp1x/vx5zJ8/HxMmTMCoUaMAAPfccw82btyIjIwM+Pv7\\\n",
       "Y//+/XjjjTfw+uuvIzQ09K7X7ujoCE9PT6ufd999Fw888ACGDx8OAELWXlvdAODq6orVq1fDy8sL\\\n",
       "rVq1QnR0NDZu3IiVK1eiY8eOQtZdl9rt7OwQFxdnuYhFlmXs27cPb775Jp588kn06tVL2NqB0r2C\\\n",
       "2bNnIzIyEmPGjLFa5+zsjFWrVqFNmzawt7fH2rVrER8fj7fffhutW7dutnXPnz8fn376KT744AP4\\\n",
       "+flZXt+A0mCXJAkmkwkbNmxAYGAgTCYTlixZgrS0NGzYsAF2dnbw8PDA999/j127diEsLAzXrl3D\\\n",
       "3Llz0aNHD8ul9IGBgfjXv/6FM2fOICgoCAkJCXj11Vfx/PPPW1380WT0er0s4s9nn30md+7cWbaz\\\n",
       "s5MDAwPl1atXyzk5ObJer5dPnTolA6jyZ/PmzZY+0tLS5JkzZ8qurq6yVquVIyMj5bNnz1qNc+bM\\\n",
       "GTkyMlLWarWyq6urHBUVJaelpVm1+fLLL+WuXbvKGo1GDggIkN98880mq72qH39/f3nFihVWy0Ss\\\n",
       "vS51b968WQ4MDJTt7e3lTp06yVu2bBG+7rrUnpKSIj/22GOyj4+PbG9vLwcFBckrVqywaiNq7dHR\\\n",
       "0TIA+Ztvvqly/bp162R/f39Zo9HI3bp1k/ft29cstnlNdVf3+rZw4UJLm5ycHHnhwoWyt7e3bGdn\\\n",
       "J/fr10+Oj4+36ic1NVWeOHGi7OzsLDs7O8sTJ06UU1NTrdocO3ZM7tu3r2xnZyd7e3vLixYtqvH1\\\n",
       "5m7+CPk5MCIiIiHPgRERETHAiIhISAwwIiISEgOMiIiExAAjIiIh/T9aum10QC5iLgAAAABJRU5E\\\n",
       "rkJggg==\\\n",
       "\"\n",
       "  frames[6] = \"data:image/png;base64,iVBORw0KGgoAAAANSUhEUgAAAbAAAAEgCAYAAADVKCZpAAAABHNCSVQICAgIfAhkiAAAAAlwSFlz\\\n",
       "AAALEgAACxIB0t1+/AAAADh0RVh0U29mdHdhcmUAbWF0cGxvdGxpYiB2ZXJzaW9uMy4xLjAsIGh0\\\n",
       "dHA6Ly9tYXRwbG90bGliLm9yZy+17YcXAAAgAElEQVR4nO3de1xUdd4H8M+ZK8NNBAFRQJMQ8p6Z\\\n",
       "mqll7iOpW2ml7pNuro+3tWzLzVZba9XMVde27OI+W6s93bTLZpuSrqblGohCZXhNRQ0veIOBAWYY\\\n",
       "5nLmPH8MMzIwCMb1B5/368XLZs7v/M7vO3M6nznn/AYkk8mkgIiISDCq5h4AERHRz8EAIyIiITHA\\\n",
       "iIhISAwwIiISEgOMiIiExAAjIiIhMcCIiEhIDDAiIhISA4yIiITEACMiIiExwIiISEgMMCIiEhID\\\n",
       "jIiIhMQAI2piK1asQFhYGNLS0pp7KERC0zT3AIiodbpw4QJeeeUVZGdn4/z58zCZTAgPD8dNN92E\\\n",
       "yZMnY9KkSdBqtT7r7N+/H9u3b0daWhrOnTsHk8mE6OhoDBkyBE888QR69+7dTNVQS8QzMCJqFD/9\\\n",
       "9BP++c9/IjQ0FGPHjsXcuXNx77334vz585g7dy7GjRsHp9Pps86jjz6K1157DWq1GuPHj8ecOXOQ\\\n",
       "kJCATz75BCNGjMAXX3zRTNVQS8QzMCJqFIMGDUJubi5UKt/PyQ6HA+PHj0d6ejr+9a9/YcKECd5l\\\n",
       "c+bMwcSJE9G5c2efdT788EPMmTMHTz75JEaNGgWdTtckNVDLxjMw+lnOnj2LsLAwjB07FkajEU8+\\\n",
       "+SSSkpIQFRWFwYMH44MPPqhX/xkZGfjVr36Fnj17IioqCjfffDPuvvtuLFq0CIpy7Y+IX7p0CatW\\\n",
       "rUJKSgq6d++OyMhIJCcnY/r06fjxxx+vO+6rV6/i8ccfR2JiIjp16oRRo0YhIyMDAGCxWPD888+j\\\n",
       "V69eiIqKwqBBg/D5559X62/Dhg0ICwvDihUrsH//ftx///2Ii4tDXFwcHn74YWRnZ99Q3WfOnMET\\\n",
       "Tzzh3W5CQgImT57st5/S0lKsXr0aQ4YMQXx8PDp37ow+ffpgypQpLeL+mk6nqxZeAKDVajF27FgA\\\n",
       "wOnTp32WzZs3r1p4AcB///d/IyEhAUajEceOHWucAZNweAZG9VJcXIyUlBTodDrcf//9sNvt+Pzz\\\n",
       "zzF37lyoVCo88sgjN9znrl27MHHiRAQHB2P06NHo3LkzTCYTTp8+jTfffBNLly6FRuPedTMyMrBm\\\n",
       "zRoMGzYM999/P4KCgnD69Gls2bIF//73v/Hvf/8bffv2rXHc7du3x4QJE3Dx4kVs3rwZDz30EHbu\\\n",
       "3Iknn3wSZrMZY8aMQWlpKTZt2oRp06ahc+fOuP3226v19/333+OVV17BiBEjMHPmTJw+fRqpqanY\\\n",
       "u3cvPv/8cwwaNKjWuvfs2YPJkyejvLwcKSkpSEhIwKVLl5Camopdu3Zh48aNGDlyJABAURQ8/PDD\\\n",
       "yMzMxG233YbJkydDp9Ph0qVLyMjIwJ49ezBs2LAbfu2bgizL2LlzJwCgV69edV7Pc79MrVY3yrhI\\\n",
       "PAwwqpcjR47g17/+NdasWeM9sMyZMwd33nknXn311Z8VYO+++y5cLhe++OIL9OnTx2dZYWGhN7wA\\\n",
       "YPjw4Th58iRCQkJ82h0+fBj33nsvXnjhBWzatMnvuGfNmoVVq1ZBkiQAwF//+lcsW7YMv/zlLzFs\\\n",
       "2DCsX7/ee6nqnnvuwcyZM7FmzRps2LChWn+7du3C6tWrMXPmTO9zmzdvxtSpUzF37lxkZWV5t+NP\\\n",
       "cXExpk2bBq1Wi127diE5Odm77MSJExg5ciQef/xxHDx4EHq9HseOHUNmZibGjBmDjRs3+vSlKAqK\\\n",
       "iopq3FZlhw4dwtatW+vU1uORRx5Bly5d6tzeaDTirbfegqIoMBqN2L17N86cOYMJEyZ4z8Rq8+23\\\n",
       "3+L48ePo3LkzevTocUPjpdaLAUb1EhgYiOXLl/t8Kk5OTsagQYOQkZEBs9mM4ODgn9W3wWCo9lx4\\\n",
       "eLjP48jISL/r9u7dG8OGDcPu3bvhcDiqzXYLCgrCn/70J59QmTRpEpYtWwaTyYQXX3zR5z7Lgw8+\\\n",
       "iMceewyHDx/2u71u3bph+vTpPs898MADGDhwILKyspCZmYnBgwfXWOtHH32EwsJCrFy50ie8ACAp\\\n",
       "KQmPPvoo/va3v2HPnj0YNWqUd5m/10iSpGqvU00OHz6MVatW1amtx9ChQ284wCpvQ6VS4cknn8Rz\\\n",
       "zz133VCvvP7s2bMBAH/+8595BkZeDDCql27duiE0NLTa87GxsQAAk8l0wwE2YcIEpKamYuTIkRg/\\\n",
       "fjyGDRuG22+/vcaD5o4dO/D2228jOzsbRqOx2sw2o9GIjh07Vht31XF52rRr167attRqNSIjI3Hx\\\n",
       "4kW/Y7jjjjv83u+58847kZWVhUOHDl03wDIzMwEAR48exYoVK6otP3XqFAD32dioUaOQnJyM3r17\\\n",
       "Y9OmTTh37hzGjBmDQYMGoX///ggICKhxO1VNnjwZkydPrnP7n6N79+4wmUyQZRkXL17Etm3bsHz5\\\n",
       "cqSnp+Of//zndcO2uLgYEyZMwJkzZ/D000/jgQceaNSxklgYYFQv7dq18/u851OyLMs33Of999+P\\\n",
       "Tz75BGvXrsWHH36Id999FwDQo0cPLFiwwOcg9r//+7949tlnERYWhhEjRiA2NhYGgwGSJGHr1q04\\\n",
       "cuQIbDZbtW34C13PpUl/yzw1VQ1Hj6ioKL/Pe84QS0pKrlOx+9IoALz//vvXbWexWLxjSU1NxerV\\\n",
       "q7FlyxYsXboUgPuMePz48XjhhRcQERFx3b6amlqtRlxcHGbPno3IyEj8z//8D5YtW4ZXXnnFb3uT\\\n",
       "yYQHH3wQBw4cwLx58/D888838YippWOAUYs0atQojBo1ClarFQcOHMCuXbuwbt06/OY3v0FqaiqG\\\n",
       "Dh0Kp9OJlStXIjo6Gnv27Kl2lvXtt9822XivXr3q9/n8/HwANYeih2f5f/7zH/Tr169O2wwLC8Py\\\n",
       "5cuxfPly5ObmIiMjAx988AE2bNiAc+fOITU1tdY+muIemD+eySjp6el+lxuNRowbNw6HDx/GwoUL\\\n",
       "sXDhwnptj1onBhi1aAaDAXfeeSfuvPNOdOnSBU899RS2bt2KoUOHwmg0ori4GMOHD68WXmazGQcP\\\n",
       "Hmyyce7fvx8ul6vaZcS9e/cCQLXJKFXdfvvt2LJlC/bt21fnAKusa9eu6Nq1KyZOnIh+/fohLS0N\\\n",
       "xcXFNZ4hezTFPTB/Ll26BAA+E3I8Ll++jHHjxuH48eNYsmQJnnrqqXpti1ovfg+MWpz09HS/l+qu\\\n",
       "XLkCwH2ZDHBfngsMDER2djbMZrO3ncPhwMKFC2E0GptmwHB/n2n9+vU+z23evBlZWVlITEysdRr9\\\n",
       "lClTEBYWhtWrVyMrK6vackVRsG/fPtjtdgBAbm4ucnNzq7Uzm82wWCzQarV+w6GqyZMnw2Qy3dBP\\\n",
       "XafnZ2dn+72EbDabvWdUlSekAO5fPzVmzBgcP34cK1euZHjRdfEMjFqchQsXIi8vD4MHD0Z8fDwC\\\n",
       "AgJw9OhRfPXVVwgPD8fUqVMBuGezzZ49G6+88gqGDBmCMWPGwOFwIC0tDUVFRRg2bFiTfaF35MiR\\\n",
       "WLRoEXbt2oWePXt6vwdmMBjw+uuv1zrbrn379njvvfcwZcoUjBo1CsOHD0dycjK0Wi3y8vLw3Xff\\\n",
       "4cKFC8jNzYVOp/N+faFfv35ISkpCTEwMTCYTduzYgaKiIsydOxdBQUFNUntN/vKXvyAzMxMDBw5E\\\n",
       "bGwsAgMDkZeXh507d6K4uBgDBgzA/PnzfdYZM2YMzp07hx49eqCoqMjvhJaxY8fWekZLbQMDjFqc\\\n",
       "p59+Glu3bsUPP/zgDaBOnTphzpw5eOyxx7wzHAFg0aJFiIiIwPvvv4933nkHoaGhuPvuu/Hcc8/5\\\n",
       "Pfg1lgEDBuCZZ57B8uXL8dZbbwEARowYgeeff77OlwSHDx+OvXv34o033sBXX32FrKwsaDQaREdH\\\n",
       "Y+DAgViyZIn3Xtmtt96K3//+90hPT8fu3btRVFSE8PBwdO/eHX/+858xbty4Rqu1rqZOnYrg4GB8\\\n",
       "//332Lt3L8rKyhAWFoa+ffti/PjxmDJlSrWvN5w7dw4AcOzYsRp/40Z8fDwDjAAAkslkUmpvRkT+\\\n",
       "bNiwAY8//jgWLFiAZ599trmHQ9Sm8B4YEREJiQFGRERC4j0wanRnz56t9vv6atIQ3zEioraB98Co\\\n",
       "0aWlpeG+++6rU9vU1NQW+1vUiahlYYAREZGQeA+MiIiExAAjIiIhMcAq5OTkNPcQmk1brb2t1g20\\\n",
       "3drbat1A66ydAUZEREJigBERkZAYYEREJCQGGBERCYkBRkREQmKAERGRkBhgREQkpBb5q6Ra4/cV\\\n",
       "iIjaosTExEbru0UGWHPIyclp1Be6JWurtbfVuoG2W3tbrRtonbXzEiIREQmJAUZEREJigBERkZAY\\\n",
       "YEREJCQGGBERCYkBRkREQmKAERGRkBhgREQkJAYYEREJiQFGRERCYoAREZGQGGBERCQkBhgREQmJ\\\n",
       "AUZEREJigBERkZAYYEREJCQGGBERCYkBRkREQmKAERGRkBhgREQkJAYYEREJiQFGRERCYoAREZGQ\\\n",
       "GGBERCQkBhgREQmJAUZEREJigBERkZAYYEREJCQGGBERCYkBRkREQmKAERGRkBhgREQkJAYYEREJ\\\n",
       "iQFGRERCYoAREZGQGGBERCQkBhgREQmJAUZEREJigBERkZAYYEREJCQGGBERCUkymUxKcw+iqpyc\\\n",
       "nOYeAhERNYDExMRG67tFBlhzyMnJadQXuiVrq7W31bqBtlt7W60baJ218xIiEREJiQFGRERCYoAR\\\n",
       "EZGQGGBERCQkBhgREQmJAUZEREJigBERkZAYYEREJCQGGBERCYkBRkREQmKAERGRkBhgREQkJAYY\\\n",
       "EREJiQFGRERCYoAREZGQGGBERCQkBhgREQmJAUZEREJigBERkZAYYEREJCQGGBERCYkBRkREQmKA\\\n",
       "ERGRkBhgREQkJAYYEREJiQFGRERCYoAREZGQGGBERCQkBhgREQmJAUZEREJigBERkZAYYEREJCQG\\\n",
       "GBERCYkBRkREQmKAERGRkBhgREQkJAYYEREJiQFGRERCYoAREZGQGGBERCQkyWQyKc09iKpycnKa\\\n",
       "ewhERNQAEhMTG63vFhlgzSEnJ6dRX+iWrK3W3lbrBtpu7W21bqB11s5LiEREJCQGGBERCYkBRkRE\\\n",
       "QmKAERGRkBhgREQkJAYYEREJiQFGRERCYoAREZGQGGBERCQkBhgREQmJAUZEREJigBERkZAYYERE\\\n",
       "JCQGGBERCYkBRkREQmKAERGRkBhgREQkJAYYEREJiQFGRERCYoAREZGQGGBERCQkBhgREQmJAUZE\\\n",
       "REJigBERkZAYYEREJCQGGBERCYkBRkREQmKAERGRkBhgREQkJAYYEREJiQFGRERCYoAREZGQGGBE\\\n",
       "RCQkBhgREQmJAUZEREJigBERkZAYYEREJCQGGBERCYkBRkREQmKAERGRkCSTyaQ09yCqysnJae4h\\\n",
       "EBFRA0hMTGy0vltkgDWHnJycRn2hW7K2WntbrRtou7W31bqB1lk7LyESEZGQGGBERCQkBhgREQmJ\\\n",
       "AUZEREJigBERkZAYYEREJCQGGBERCYkBRkREQmKAERGRkBhgREQkJAYYEREJiQFGRERCYoAREZGQ\\\n",
       "GGBERCQkBhgREQmJAUZEREJigBERkZAYYEREJCQGGBERCYkBRkREQmKAERGRkBhgREQkJAYYEREJ\\\n",
       "iQFGRERCYoAREZGQGGBERCQkBhgREQmJAUZEREJigBERkZAYYEREJCQGGBERCYkBRkREQmKAERGR\\\n",
       "kBhgREQkJAYYEREJiQFGRERCYoAREZGQGGBERCQkBhgREQmJAUZEREJigBERkZAkk8mkNPcgqsrJ\\\n",
       "yWnuIRARUQNITExstL5bZIA1h5ycnEZ9oVuytlp7W60baLu1t9W6gdZZOy8hEhGRkBhgREQkJAYY\\\n",
       "EREJiQFGRERCYoAREZGQGGBERCQkBhgREQmJAUZEREJigBERkZAYYEREJCQGGBERCYkBRkREQmKA\\\n",
       "ERGRkBhgREQkJAYYEREJiQFGRERCYoAREZGQGGBERCQkBhgREQmJAUZEREJigBERkZAYYEREJCQG\\\n",
       "GBERCYkBRkREQmKAERGRkBhgREQkJAYYEREJiQFGRERCYoAREZGQGGBERCQkBhgREQmJAUZEREJi\\\n",
       "gBERkZAYYEREJCQGWD0Yy+Uber65t1dTO5PjxtbzPM4pdvg8run5uo6zcj+V29b0/PX69IzBXx/+\\\n",
       "/q3rGGsah7/nc4odftvV9Hxt/da0/NurNr+vmb/3wfPfNb3nNW2j8rpNvd+3ZHwtmpd64cKFS5p7\\\n",
       "EC1BYWEhIiIi6tw+84oNn+VaEa5XIdKg9j5/rMiBj06XQSsBscGaBhtffbd3vfU35pgRGhTod/2q\\\n",
       "63keZ1614c1jFuSWOpFtdKDI5sKOC+X45mI51h+34HKZjO8KHN5x1TZOT795ZhnvnSzDvis2xAZr\\\n",
       "kF/uwkeny5BnduLj01Z8lWdDhF6F2GBNjTV9fKoMqw+WQi0BvcJ13naeMZ40OZB+2Y7LJVZkFGvr\\\n",
       "PEbPOF87YvaOz7PdY0UOvH7E7B3flxfKsez7UnxX4EBiu2vtUs9asSirGP+5aEN8sNq7nWv92hEb\\\n",
       "rK7Sbyk+PFWGrefKcajQ6bN8+YFiLPmuBNvOlePHIie6hmhwpsSJFdkl+CCnDBcs7vdHKwElDgUf\\\n",
       "nS7DSZMD31wsR+f2wdX2hZcOluI/F23oGqLxu595Xrum2u8b2o3+f349TX0MqK+GrL2lYIBVuJE3\\\n",
       "N/OKDV9ftEEBcNLkRHiAewc+VuTAllwrFAA/lcrQqRpmB67v9mpbv6ysHJdlXbX1q66XZ3HigNGB\\\n",
       "w4V27DhfjnJZQbbRgVK7gu/y7bhglpF22YZyWcF3BQ5IigKLDFy0OJF51V7jOD3bOW+RkXrWivxy\\\n",
       "GcUOBQeNDhwvcsDsUPDF2XJcsDhR5lRw1iLjSpmMI0XOajV9fKoM7520QAFwsNCBs6VO5JplXLXK\\\n",
       "+PJCOYrtCn4ocKDE5sJ+o4xgvQ5Xy124aJGvO0bPON8/acFPpTIKbC6cL3UiriJk1x+34HiRO8h3\\\n",
       "XbDiP5fssDhduGhxIdcso3s7DfZftePlg6UoKJeRX+7CqWIH4oM1yLPIeC+nDD+VOFFQ7sJ5i4y4\\\n",
       "YLW73x/NyMp34FSxA5fLZJjsLly1uhAXrMZbP5rx3skymB0uXLG6YLTJOFroQNolGw4XOWGyyThk\\\n",
       "dMKlAOfNMvZftaPYrmDfZTtkpxNFssZnX/jbUTN+KnGiyObC6RKnN8Q8+8l5i4x9l+1QAbhU5mr0\\\n",
       "/b4xNNRBvKmPAQ2hNQaYZDKZlOYeREuQk5ODxMTEWtsZy2WsO26Bq9KrJgFIbKdBTrH7gOqhkoAZ\\\n",
       "yUGICFBX7abO6ru9uqxfaCxEeES4z/pV17M6XThQ4ECgRsKPJidklwtmB6BRAU4XEK6TUOhQoJHc\\\n",
       "j4O1EjQqCT3CNDA7FfTvoIVBo6o2Ts92zA4Xsq7acdHivvRi0EiwOgGDxj1iq9MFAIgJVEOS3DXc\\\n",
       "HqVDYEWfEoCOgSp8esYKpWLMDpeCy1YXbgnTwOxQvI8D1EC5DIRJdoQEGhARoEKhzYVbO2i9/VV9\\\n",
       "LY3lMl4/YsZ3+XZv/5CACL2qYrl7fGVOF06VyAAUhGhVUEvuhlEGFcwOBWUVdQCAJEm4O0aPAA1w\\\n",
       "rMh5rV8AEQHufi9bZVwwO2F2wNtn5yA1grUqHDTaYXcpsFW6WqVVAZIE6FUSHC73OlqVhC7Bamjd\\\n",
       "g4FGkmC1WjE0PhSBGhUS22lw0GjHgQKHdwySBNzWQYc+EVrkFDthcbrwQ8VySQL6V7xWjbXfN5a6\\\n",
       "/n9+PU19DGgoDVF7S8MzsAp1/XQSqFEhXK/CSZPT53mjzeXzWAJwf1cDuoTU79NXfbdXl/WtVisC\\\n",
       "Aw0+61ddT6uSYFBLuFTmgkYFlMsSVJICu+wOGZUkQSXB+1irkhARoIICCUlhGrTTq/2O07Odn0pk\\\n",
       "BGkklNgVlDkVeI7zThfgrDhSRASoEKBRoUeYFhNvDoLJ5vvZy+xQYFBL3trUkoTEdhoU2RXvY40K\\\n",
       "KLEriAhQQe2SodVqYZUVJLXTIKyGMXrGGWVQ45xZRkF5pdfOqcDqvDYOrVqqWE/yjhsALE53gFZ+\\\n",
       "xwZE6fBk7xD066DDuVInCmzV+1VLEnRqCeWyAp1KhehAFQLUKsiKe5xmhwJJAlyKO7wC1ICioNLB\\\n",
       "VUJHgwqhejVuCdMiyqBGoc2FWK0d0aGB3n3B8/56Xjv3e6byPvYsL7S50L3dtfezsfb7xtIQZyFN\\\n",
       "fQxoKK3xDIwBVuFG3txIgxrhAdV3YA/PjtujvbZBxlbf7dW2fnl5GSbdElFt/arrBWlVMFSEjEYF\\\n",
       "2F0SwvUSXIr7k71akhCuV8GluMMrSKNCUti1eyk1jdOznQsWGaG6ayFWWUSACkFaFZLbaTD9lmAM\\\n",
       "7aj3W1OQVuU90CaFaRAfovE5MOtU7lBzuACn0wmtToukdrWP0TPOuGA1zlt8Q8xLApLbafB031D0\\\n",
       "CtfioNFRrQ5PwwFROjzTNwQ92msr+tXgfJUQ89CpJCS31yEuSA1Hpe4CNSpoJMDidJ+xBmhUCFC7\\\n",
       "P0i4PwBI6BSoQoRB7a0xWKvC6HgD8ovNMBgCq712gWoJHQxqn3s6Hp51/dfU8Pt9Y2iog3hTHwMa\\\n",
       "QmsMsJbx0aCKnJycFr9dLYAQqxq5ZdUncnYNdEFbICOnoOHGVt/tXX99BdqCXL/rV11PDUDvlGB1\\\n",
       "SAgFoFcAm0tCuez+9B+kuC8jqhyAHgrUZQoKy2ofp2c7xjIV2kNCkUsFz0SuADWgcijQQ0E3yNAW\\\n",
       "FCCnoOaa1AA6S4C6DCgsqxizQ4LJISFMq6CDrKDYKcEKCXpHWZ3H6BlnN0WNn5xqmBySz7Iw7bXx\\\n",
       "JQPortOiqEyNqhPSInQKBujKoC0werejBdANavzk8N/vAJ27k69KfZcHAghVuc8sAaDc4T54SooE\\\n",
       "neRCoOKE3nHtfega6EKyXcY5gxq5xsJq9XULdAEKkGv0v58l22Wca8L9vjE01PGlqY8BDaE5jq2N\\\n",
       "edmyRQZYc1ynvdHrw8eKHCg1WxFuqL6sFICjQ8N++qrv9q63/tlCIxwduvpdv+p6+VYZNrsTLrhQ\\\n",
       "YlMQKAGyCtCqFMgALJKEMgWI0EqwaVSQA6+d3VxvnJ7tyJBRVOaArJKhrTguyABcWhVsWhXOQANH\\\n",
       "h2D0aK+tsaZ8q4y8YieCKradb5Vhczhh0AA2AAVqFWwaF+CwwqYNrPMYPeM8U2CBTeOouD93jU2C\\\n",
       "d3ynS5w4aS/1qcOjRJHwnT0YIzqEeLdzrMiBM/lm2LTO6v0C+M7uvjZo07p8lhvLZZS4XNAC0Kgk\\\n",
       "6LSA3aVAURTYoEKZpIJBq/bWWArguE6Ls9bLCI8Ir1bfGasMSBI6RFQ/KHvWLTU4mmy/b2gNeR+o\\\n",
       "qY8B9cV7YK3YjZxeV55pVJPKM5Pqq77bq219a1k5ztu11davul6+VcYJk/uGvrFcgd3lQpFNgUpy\\\n",
       "36uxuxTvY7sM7/0mg0ZCUMVR3N84Pdu5apXxQ4EDBX6+Q2N1ui9bljgUnC91wu4C0i/ZqtWUb5Vx\\\n",
       "otgJKO6JFeWygnMWGZ6GFqd7hp1GBUguGVqNFkabCwb19cfoGadntmFNCmwupF2yYeu5chTb/Vxm\\\n",
       "rFB5dqJntuHxinFXZXG68GORAxcsLujV7kuKgDu8LpbJkBXAKgOyokCB76SOUgegkYAyGTCoJVic\\\n",
       "Cr68UA6V7EB4sO+R1/PaFVhdPu9Z5eVfXihHgLr6Mo+G3O8bQ0NdRmvqY0BDaI2XEPlF5htkLHdP\\\n",
       "9fa9HQ90b6dB5Qs/Ctzf+anvFxrru72fu37V9axOF04WOxGklWC0KZAVF6xOd0hZne7LdFb52mNZ\\\n",
       "AQptCkK0Ek4WO72zCGvajsXpwtGia+Fl0EgAJBg0knf2orHcBYes4EiRA2uPlMJSeUYfgJhAFU5W\\\n",
       "CgGHS8H3BQ4EayTv40KbO1ALbQo8t3Ii9O71ymoYo2ecn5wuw4nK3wCW3PfmPDMGAaCsYjZlnsUJ\\\n",
       "udJEiiiD2jvD0fOKf59vx9+PmvHOCbM3dD08/ToUBVetMqxO9wzHfKsLDpcCvVpCfrkLClAx29D9\\\n",
       "b7kMuOCedOF+VRTkl7tgdbhf36NF7pmEP5WpYHW6vPuC5/31jOFksRPlTsW7n5RVLFcUeN/Pxtzv\\\n",
       "W7KmPgZQzXgGVuFGZiFqJfd3PIBrN2vv6hRQ7abuiE56JIbV7xJCfbdXl/WtVisMgQaf9auup1NJ\\\n",
       "uCtGjwCNChIU5FtdCNOpoJKAW8K0CNGrEGNQw+JUEKZTwQUJfdtr0LuDDnfH6GGpdK/b33YuWFzQ\\\n",
       "qCQU210I0koI06uRGKZFcjsN4oPVKLG7D9oGjQrd2mnxX7EB8JzgeGr6r1gD1JKEg0Z3yKhVEsbE\\\n",
       "BSAmSAODRoLJriA+WAO1JKFrsBpldjt6dnDPErs7JgCWSpMTqr6WgRr35JBzpU6Y7Ip3wsbveodg\\\n",
       "aIzeO7FDq5IQrpMgSVLFAc49YePFge3QO8J3YkePMA1m93BfDj1rlmGqmMCR3F7r7TfPLKPIDthk\\\n",
       "9+sTaVCjf6Qe8/uGwKCRcKzICVlR4FLcXyO4rYMOnQLVKHECKsk9c/HWDjp0D9MiTK9GeIAaJpsL\\\n",
       "0RoHOrcL9O4L0YFq5BQ7vWPoFqrBb5KDvPvJTyUyJEmCyebCTSFqRASoG3W/bywNNQuxKY8BDaU1\\\n",
       "noExwCrcyJsbG6yBTgWcNcs+M408M5Nyip0Y0UmPQdH6BhlbfbdX2/oHL5dgbEL7autXXW9E5wDo\\\n",
       "VO4zrf6ROhSUuzA6PgBdQjUYHW+AQSOhZ3stTHYF47sa0CFQjRGd9EiJN1x3nJ7tFNldGBVrgE12\\\n",
       "H4zn9gpB/0gd8spk/KKzHpIkIVSnwq8TA3Ff10C/NfUK10IjSThc6MCvEwMxp2cIdCr3pb3R8Qao\\\n",
       "JGBApA7BOhUGBJihDgyu0xg944wIUOG8RUbHQBWm3xJcaRahumIWpQpP9QnBTaEanDTJ6BWh9c42\\\n",
       "TArTIiJAhUOFDnQN0eD3fdZdXy8AAA0GSURBVEMxKFqP2GANOug9/aoxPTnIZ3ZivlVGoEaFmEA1\\\n",
       "erTXeZcPjwlAid2F4yYnbgrVYGCUHvP7heL2SB0ulclwKRLG3WRAbLAGv4w3YGiMHlesMgZE6mCz\\\n",
       "WnxmnkYa1OgaosHpEifa61WY0zO42n7iWVejlppkv28MDXUQb+pjQENojQHGLzJX+Dk3OI3lst8v\\\n",
       "KNb0fH3Vd3s1tfv2WA5u71Fz7VXX8zzOKXYgsZ3W+7im5+s6zsr9APD5ErG/56/Xp2cM/vr2/Ft4\\\n",
       "/gzC47rd0Bg9baqOw9/zOcUOhOtV1drV9Hxt/XpUXf7tVRu6hWp8lhnLZRTaXNXeB89/1/Se1zSG\\\n",
       "yus29X7fkBp6IoNIr0VrnMTBAKvQGt/cumqrtbfVuoG2W3tbrRtonbVzEgcREQmJAUZERELiJUQi\\\n",
       "IhISz8CIiEhIDDAiIhISA4yIiITEACMiIiEJG2CXL1/Gb3/7WyQkJCA6OhqDBg1Ceno6AMDhcGDx\\\n",
       "4sUYMmQIOnXqhKSkJMyYMQPnz5/36cNms+GZZ55Bt27d0KlTJ/zqV79CXl6eT5vz589j0qRJ6NSp\\\n",
       "E7p164Y//OEPsNvtPm3S09Nx1113ITo6Gn379sXbb7/dbLVX9dRTTyEsLAyvv/66z/Mi1l6Xuk+d\\\n",
       "OoUpU6YgPj4eMTExGD58OE6cOCF03UDttZvNZjzzzDPo0aMHOnbsiAEDBmDt2rU+fYhYe+/evREW\\\n",
       "FlbtZ+LEid4269atQ58+fRAdHY277roLGRkZrb7ul19+GSNGjEBcXBwSEhIwadIkHDt2zKcPRVGw\\\n",
       "YsUKJCcno2PHjhg7dix+/PFHnzYmkwmzZs1CfHw84uPjMWvWLJhMJp82R48exZgxY9CxY0fccsst\\\n",
       "WLVqFRSlZcz9EzLATCYTUlJSoCgKPvnkE2RmZuIvf/kLIiMjAQBlZWU4ePAg5s+fjz179mDjxo3I\\\n",
       "y8vDww8/DKfz2u8pe/bZZ5Gamor169dj27ZtKC0txaRJkyDL7t9GIMsyJk2aBLPZjG3btmH9+vXY\\\n",
       "smULFi1a5O0jNzcXEydOxMCBA/HNN9/g97//Pf7whz9g8+bNzVJ7ZZs3b8b333+PmJiYastEq70u\\\n",
       "defm5iIlJQVdunTBli1bsG/fPjz33HMICgoStu661r5o0SJ8+eWX+Pvf/47MzEw8/fTTWLp0KT76\\\n",
       "6COha9+9ezdOnDjh/dmzZw8kScK4ceMAAJ999hkWLlyIp59+Gt988w0GDhyICRMm+HxYbY11p6en\\\n",
       "Y/r06dixYwe2bNkCjUaDcePGoaioyNvHq6++irVr12LVqlX4+uuvERkZifHjx6O0tNTbZsaMGTh0\\\n",
       "6BA+/fRTfPrppzh06BBmz57tXV5SUoLx48cjKioKX3/9NVauXInXX38db7zxRqPUfaOEnEb/wgsv\\\n",
       "YO/evdixY0ed1zl+/DgGDx6MvXv3omfPniguLsbNN9+MtWvXej/VXLhwAb1798ann36KkSNHYufO\\\n",
       "nZg4cSIOHz6M2NhYAMDHH3+M3/3ud8jJyUFoaCgWL16M1NRUHDhwwLutJ554AsePH8fOnTsbtnDU\\\n",
       "vfZz584hJSUFn3/+OR5++GHMmjULTzzxBAAIWXtd6p4xYwYkScI//vEPv8tFrBuoW+133HEH7rvv\\\n",
       "Pvzxj3/0PjdmzBj07NkTq1evFrb2ql566SW89tprOHHiBAwGA0aOHImePXvitdde87bp378/Hnjg\\\n",
       "ASxevLjV1l2V2WxGfHw8NmzYgNGjR0NRFCQnJ2PmzJmYP38+AMBqtSIxMRHLli3DtGnTcOLECQwa\\\n",
       "NAjbt2/H4MGDAQD79u3D6NGj8e233yIxMRHr16/HkiVLcPLkSe92V69ejbfffhvHjh2DJEnVxtKU\\\n",
       "hDwD27p1K2677TZMmzYNN998M4YOHYq33nrruqe1nk8dYWFhAIDs7Gw4HA7cc8893jaxsbFISkpC\\\n",
       "ZmYmACArKwtJSUnenRoARo4cCZvNhuzsbG+byn142vzwww9wOGr+u1E/V11qdzqdmDFjBubPn4+k\\\n",
       "pKRqfYhYe211u1wubN++HUlJSXjooYeQkJCAESNG4LPPPhO67rrUDgCDBw/G9u3bceHCBQBAZmYm\\\n",
       "jhw5gpEjRwpde2WKouD999/HpEmTYDAYYLfbkZ2dXW0899xzj7em1li3P2azGS6Xy3t8O3v2LK5c\\\n",
       "ueIzZoPBgCFDhvjUHRwcjEGDBnnbDB48GEFBQT5t7rjjDp/tjhw5EpcuXcLZs2cbvNYbJWSA5ebm\\\n",
       "Yv369ejatSs2bdqE3/72t1i6dGmNn7ztdjuee+453HvvvejcuTMA4OrVq1Cr1dV+O3NkZCSuXr3q\\\n",
       "bVP10lxERATUavV120RGRsLpdMJoNDZIvZXVpfYVK1YgPDwc06dP99uHiLXXVnd+fj7MZrP33sC/\\\n",
       "/vUvPPTQQ5g5c6b3zEXEuutSOwCsWrUKvXr1Qq9evdChQweMHTsWS5Yswb333it07ZXt3r0bZ8+e\\\n",
       "xaOPPgoAMBqNkGXZ73gqj7e11e3PwoUL0bt3bwwcOBAAcOXKFe8YK6tad0REhM9ZlCRJ6NChQ611\\\n",
       "e5Y1N03tTVoel8uFW2+9FYsXLwYA9O3bF2fOnMG6deswa9Ysn7ZOpxOzZs1CcXExPvzww+YYboOq\\\n",
       "rfa0tDRs3LgRaWlpzTzShlVb3S6X++9YjRkzBnPnzgUA9OnTB9nZ2fjHP/6BlJSUZht7fdVlf3/z\\\n",
       "zTeRlZWFDz/8EHFxccjIyMDzzz+P+Ph4/OIXv2jO4TeYd999F/3790fv3r2beyhNqra6//jHP2L/\\\n",
       "/v3Yvn071OqW9RvwG5uQZ2DR0dHVLo11797de/nEw+l0Yvr06Th69Cg2b96M8PBw77KoqCjIslzt\\\n",
       "01N+fj6ioqK8bfLz832Wez71Xa9Nfn4+NBpNo/ztndpqT09Px+XLl5GUlISIiAhERETg/PnzWLx4\\\n",
       "MXr06OEds2i111Z3REQENBrNdduIWDdQe+1WqxUvvPACli5ditGjR6NXr16YNWsWHnzwQe/sU1Fr\\\n",
       "r7yNbdu2YerUqd7nPGdJ/sZTebytre7Knn32WWzatAlbtmxB165dvc9HR0d716/aX+WajEajz6Vo\\\n",
       "RVFQUFBQa92eZc1NyAAbPHgwTp065fPcqVOnEBcX533scDgwbdo0HD16FKmpqd431KNfv37QarXY\\\n",
       "vXu397m8vDzvjU0AGDhwIE6cOOEz5Xb37t3Q6/Xo16+ft03lPjxtbr31Vmi1Df+XWGurfcaMGdi7\\\n",
       "dy/S0tK8PzExMXjssce8M6ZErL22unU6Hfr374+cnJwa24hYN1B77Q6HAw6Ho9qnb7Va7T0zFbV2\\\n",
       "j40bN0Kv1+Ohhx7yPqfT6dCvXz+/4/HU1Brr9liwYIE3vLp37+6zrEuXLoiOjvYZc3l5Ofbt2+dT\\\n",
       "t9lsRlZWlrdNVlYWLBaLT5t9+/ahvLzc22b37t2IiYlBly5dGrTWn0PIv8gcGxuLVatWQaVSoWPH\\\n",
       "jtizZw9efPFFzJs3D7fddhucTiemTp2KAwcO4L333kNISAgsFgssFgvUajW0Wi0CAgJw+fJlrFu3\\\n",
       "zjsrcd68eQgNDcXSpUuhUqnQtWtXpKam4uuvv0bPnj1x/PhxzJ8/HxMmTMB9990HALjpppvw6quv\\\n",
       "Ij8/H3Fxcdi2bRv++te/4sUXX0RycnKT1x4UFITIyEifnzfffBN33XUXRo8eDQBC1l5b3QDQvn17\\\n",
       "rFy5ElFRUQgNDcWWLVvw6quvYvny5bj55puFrLsutev1eqSlpXknsSiKgq1bt+Lll1/G7NmzMWDA\\\n",
       "AGFrB9xnBY8//jhSUlLwwAMP+CwLCQnBihUr0LFjRwQEBGD16tXIyMjAG2+8gXbt2rXauufPn4+P\\\n",
       "PvoI77zzDmJjY73HN8Ad7JIkQZZlrFmzBgkJCZBlGYsWLcKVK1ewZs0a6PV6dOjQAd999x0+/fRT\\\n",
       "9O7dG3l5eZg3bx769+/vnUqfkJCA//u//8Phw4eRmJiIffv24U9/+hOeeuopn8kfzcZkMiki/nz8\\\n",
       "8cdKz549Fb1eryQkJCgrV65UioqKFJPJpBw8eFAB4Pdn7dq13j6uXLmizJw5U2nfvr1iMBiUlJQU\\\n",
       "5ciRIz7bOXz4sJKSkqIYDAalffv2yqxZs5QrV674tPniiy+UPn36KDqdTomPj1defvnlZqvd309c\\\n",
       "XJyybNkyn+dErL0uda9du1ZJSEhQAgIClB49eijr1q0Tvu661H7ixAnlkUceUWJiYpSAgAAlMTFR\\\n",
       "WbZsmU8bUWvfsmWLAkD56quv/C5/6aWXlLi4OEWn0yl9+/ZVtm7d2ire8+vVXdPxbcGCBd42RUVF\\\n",
       "yoIFC5To6GhFr9crQ4YMUTIyMnz6yc3NVSZOnKiEhIQoISEhysSJE5Xc3FyfNnv37lXuuOMORa/X\\\n",
       "K9HR0crChQuve7xpyh8hvwdGREQk5D0wIiIiBhgREQmJAUZEREJigBERkZAYYEREJKT/B13gEhIe\\\n",
       "aw0pAAAAAElFTkSuQmCC\\\n",
       "\"\n",
       "  frames[7] = \"data:image/png;base64,iVBORw0KGgoAAAANSUhEUgAAAbAAAAEgCAYAAADVKCZpAAAABHNCSVQICAgIfAhkiAAAAAlwSFlz\\\n",
       "AAALEgAACxIB0t1+/AAAADh0RVh0U29mdHdhcmUAbWF0cGxvdGxpYiB2ZXJzaW9uMy4xLjAsIGh0\\\n",
       "dHA6Ly9tYXRwbG90bGliLm9yZy+17YcXAAAgAElEQVR4nO3deXwV9b3/8dfMnCUnGyEhhLBvgcgu\\\n",
       "KOCCivQngtddoXWpl6Joq7a1asWqdatVLq3VVu21BVu1bq22CsXqrYqIgNBqUQTBAAURFUJIAklO\\\n",
       "zjbz+2NyDjlZIJR14P18PM5DM2eW72fOzLzPzHznYFRVVTmIiIh4jHmoGyAiIvKfUICJiIgnKcBE\\\n",
       "RMSTFGAiIuJJCjAREfEkBZiIiHiSAkxERDxJASYiIp6kABMREU9SgImIiCcpwERExJMUYCIi4kkK\\\n",
       "MBER8SQFmMhBdv/995OXl8fChQsPdVNEPE0BJiIHVCKR4KmnnmLChAn06NGDTp06MXToUKZMmcLa\\\n",
       "tWt3O63jOJx33nnk5eWRl5dHfX39QWq1eIHvUDdARI5cNTU1XHLJJbzzzjsMHjyYb3zjG2RkZPDF\\\n",
       "F1+wZMkS1q5dS9++fVud/te//jULFy4kFAoRDocPYsvFCxRgInLA3HDDDbzzzjv84he/YMqUKc3e\\\n",
       "j8VirU77ySefcM899/Dd736XF198kU2bNh3IpooH6RKi/Ec2btxIXl4eZ511FhUVFXzve9+jf//+\\\n",
       "dOzYkdGjR/OHP/xhn+a/ePFivv71rzNw4EA6duxI3759Oe2007jttttwnF3/iPiXX37JjBkzGD9+\\\n",
       "PP369aOwsJDS0lKmTp3KJ598stt2b926lWuvvZaSkhI6d+7MGWecweLFiwGora3ljjvuYNCgQXTs\\\n",
       "2JFRo0bx8ssvN5vfM888Q15eHvfffz/vvfce55xzDt26daNbt25cdNFFLF++fK/qXr9+Pddff31q\\\n",
       "uX369OHSSy9tcT47d+5k5syZnHjiiXTv3p0uXbowZMgQLrvsssPi/try5cv505/+xAUXXNBieAH4\\\n",
       "/f4Wh0ejUaZNm0bv3r259dZbD2QzxcN0Bib7pLq6mvHjxxMIBDjnnHOIRqO8/PLLXHfddZimySWX\\\n",
       "XLLX83zjjTeYNGkS2dnZTJgwgS5dulBVVcW6det4/PHHufvuu/H53E138eLFPPTQQ4wZM4ZzzjmH\\\n",
       "rKws1q1bx5w5c/jb3/7G3/72N4YOHdpqu9u3b8/FF1/MF198wSuvvMKFF17I3//+d773ve9RU1PD\\\n",
       "xIkT2blzJy+99BJTpkyhS5cuHH/88c3m9/777/OLX/yCsWPHctVVV7Fu3Trmzp3LokWLePnllxk1\\\n",
       "atQe616wYAGXXnop9fX1jB8/nj59+vDll18yd+5c3njjDZ599lnGjRsHuPeGLrroIpYuXcqIESO4\\\n",
       "9NJLCQQCfPnllyxevJgFCxYwZsyYvV73+9OLL74IwIUXXkhVVRWvv/46mzdvJj8/n1NOOYXevXu3\\\n",
       "Ou1Pf/pTVq9ezZtvvkkgEDhYTRaPUYDJPvn444+5/PLLeeihh7AsC4Bvf/vbnHTSSTz88MP/UYA9\\\n",
       "+eST2LbNX//6V4YMGZL23vbt21PhBXDKKafw6aefkpOTkzbeihUrOPPMM7nnnnt46aWXWmz3tGnT\\\n",
       "mDFjBoZhAPDzn/+ce++9l//6r/9izJgxzJ49O3XwPP3007nqqqt46KGHeOaZZ5rN74033mDmzJlc\\\n",
       "ddVVqWGvvPIKV1xxBddddx3Lli1LLacl1dXVTJkyBb/fzxtvvEFpaWnqvTVr1jBu3DiuvfZaPvzw\\\n",
       "Q4LBIKtWrWLp0qVMnDiRZ599Nm1ejuNQWVnZ6rIa++ijj5g3b16bxk265JJL6NGjxx7H++CDDwDY\\\n",
       "tGkTxx57bFqbDMNg6tSpzJgxI7XdJC1evJhf/vKXTJ8+vdnnL9KYAkz2SWZmJvfdd1/aQai0tJRR\\\n",
       "o0axePFiampqyM7O/o/mHQqFmg3Lz89P+7uwsLDFaQcPHsyYMWOYP38+sVis2aWqrKwsfvzjH6eF\\\n",
       "yuTJk7n33nupqqriJz/5Sdo3/wsuuIDvfOc7rFixosXl9e7dm6lTp6YNO/fccxk5ciTLli1j6dKl\\\n",
       "jB49utVan3/+ebZv384DDzyQFl4A/fv355vf/CaPPfYYCxYs4Iwzzki919I6Mgyj2XpqzYoVK5gx\\\n",
       "Y0abxk06+eST2xRg27ZtA+C2227jrLPO4vbbb6dz5868//773HDDDcyaNYuCgoK0S4Q7duzgmmuu\\\n",
       "YdiwYfzgBz/Yq3bJ0UcBJvukd+/e5ObmNhvetWtXAKqqqvY6wC6++GLmzp3LuHHjOP/88xkzZgzH\\\n",
       "H398qwfN119/nSeeeILly5dTUVFBPB5Pe7+iooJOnTo1a3fTdiXHadeuXbNlWZZFYWEhX3zxRYtt\\\n",
       "OOGEEzDN5reUTzrpJJYtW8ZHH3202wBbunQpACtXruT+++9v9n6yu/maNWs444wzKC0tZfDgwbz0\\\n",
       "0kt89tlnTJw4kVGjRjF8+HAyMjJaXU5Tl156KZdeemmbx98btm0D0K9fP373u9+lvuSceuqpPPnk\\\n",
       "k5x66qk89thj3HjjjakvCz/84Q/ZunUrf/rTn9LOtEVaoi1E9km7du1aHJ48WCUSib2e5znnnMMf\\\n",
       "//hHHn30UZ577jmefPJJAAYMGMAtt9zCueeemxr317/+Nbfeeit5eXmMHTuWrl27EgqFMAyDefPm\\\n",
       "8fHHHxOJRJoto6XQTR4wW3ovWVPTcEzq2LFji8OTZ4g7duzYTcXupVGAp59+erfj1dbWptoyd+5c\\\n",
       "Zs6cyZw5c7j77rsB94z4/PPP55577qGgoGC38zrQktvGmWee2ewy4eDBg+nRowf//ve/WbNmDYMH\\\n",
       "D+Zvf/sbzz//PPfeey/9+/c/FE0Wj1GAyWHpjDPO4IwzziAcDvPBBx/wxhtvMGvWLP77v/+buXPn\\\n",
       "cvLJJxOPx3nggQcoKipiwYIFzc6y/vGPfxy09m7durXF4eXl5UDroZiUfP/tt99m2LBhbVpmXl4e\\\n",
       "9913H/fddx8bNmxg8eLF/OEPf+CZZ57hs88+Y+7cuXucx4G8B9a3b1/ef//9Vr/k5OXlAaQeTk72\\\n",
       "tLzjjju44447Wpwm+Rm/8847uj8mCjA5vIVCIU466SROOukkevTowfe//33mzZvHySefTEVFBdXV\\\n",
       "1ZxyyinNwqumpoYPP/zwoLXzvffew7btZpcRFy1aBLDHg+3xxx/PnDlzWLJkSZsDrLGePXvSs2dP\\\n",
       "Jk2axLBhw1i4cCHV1dWthkfSgbwHdtppp/HCCy+watWqZu9FIhHWrVsHQPfu3QEYOnQol19+eYvz\\\n",
       "+stf/pJ6KNqyrDbf45MjmwJMDjvvvvsuo0ePbnYPZMuWLYB7mQzcy3OZmZksX748rbNILBZj+vTp\\\n",
       "VFRUHLQ2r1u3jtmzZzfrhbhs2TJKSkr22I3+sssu4+c//zkzZ85kxIgRjBw5Mu19x3F47733GDFi\\\n",
       "BIFAgA0bNgBucDVWU1NDbW0tfr+/TfeQDuQ9sHPOOYd77rmHv/zlL1x99dWMGDEi9d7MmTPZsWMH\\\n",
       "Y8aMoaioCICJEycyceLEFuf19ttvU1NTw4MPPrhX9/jkyKYAk8PO9OnT2bx5M6NHj6Z79+5kZGSw\\\n",
       "cuVK3nzzTfLz87niiisAME2Tq6++ml/84heceOKJTJw4kVgsxsKFC6msrGTMmDEH7YHecePGcdtt\\\n",
       "t/HGG28wcODA1HNgoVCIX/3qV7vtQg/Qvn17nnrqKS677DLOOOMMTjnlFEpLS/H7/WzevJl//vOf\\\n",
       "fP7552zYsIFAIJB6fGHYsGH079+f4uLi1LNWlZWVXHfddWRlZR2U2luTlZXFY489xuTJk5kwYQJn\\\n",
       "n302xcXFvP/++yxZsoTCwkIeeuihQ9pG8TYFmBx2brzxRubNm8e//vWvVAB17tyZb3/723znO99J\\\n",
       "9XAEt4t2QUEBTz/9NL///e/Jzc3ltNNO4/bbb2+xN9+Bctxxx3HzzTdz33338Zvf/AaAsWPHcscd\\\n",
       "d7T5kuApp5zCokWLeOSRR3jzzTdZtmwZPp+PoqIiRo4cyV133ZW6V3bsscfygx/8gHfffZf58+dT\\\n",
       "WVlJfn4+/fr146c//SnnnXfeAat1b4wdO5Y333yTmTNn8vbbb7Njxw6Kior41re+xc0330xxcfGh\\\n",
       "bqJ4mFFVVeXseTQRackzzzzDtddeyy233KKfPBI5yPRbiCIi4kkKMBER8STdA5MDbuPGjc1+r681\\\n",
       "bX3GSERE98DkgFu4cCFnn312m8adO3fuIf8VdRHxBgWYiIh4ku6BiYiIJynARETEkxRgDcrKyg51\\\n",
       "Ew6Zo7X2o7VuOHprP1rrhiOzdgWYiIh4kgJMREQ8SQEmIiKepAATERFPUoCJiIgnKcBERMSTFGAi\\\n",
       "IuJJh+VPSR2JzyuIiByNSkpKDti8D8sAOxTKysoO6Io+nB2ttR+tdcPRW/vRWjccmbXrEqKIiHiS\\\n",
       "AkxERDxJASYiIp6kABMREU9SgImIiCcpwERExJMUYCIi4kkKMBER8SQFmIiIeJICTEREPEkBJiIi\\\n",
       "nqQAExERT1KAiYiIJynARETEkxRgIiLiSQowERHxJAWYiIh4kgJMREQ8SQEmIiKepAATERFPUoCJ\\\n",
       "iIgnKcBERMSTFGAiIuJJCjAREfEkBZiIiHiSAkxERDxJASYiIp6kABMREU9SgImIiCcpwERExJMU\\\n",
       "YCIi4kkKMBER8SQFmIiIeJICTEREPEkBJiIinqQAExERT1KAiYiIJynARETEkxRgIiLiSQowERHx\\\n",
       "JAWYiIh4klFVVeUc6kY0VVZWdqibICIi+0FJSckBm/dhGWCHQllZ2QFd0Yezo7X2o7VuOHprP1rr\\\n",
       "hiOzdl1CFBERT1KAiYiIJynARETEkxRgIiLiSQowERHxJAWYiIh4kgJMREQ8SQEmIiKepAATERFP\\\n",
       "UoCJiIgnKcBERMSTFGAiIuJJCjAREfEkBZiIiHiSAkxERDxJASYiIp6kABMREU9SgImIiCcpwERE\\\n",
       "xJMUYCIi4kkKMBER8SQFmIiIeJICTEREPEkBJiIinqQAExERT1KAiYiIJynARETEkxRgIiLiSQow\\\n",
       "ERHxJAWYiIh4kgJMREQ8SQEmIiKepAATERFPUoCJiIgnKcBERMSTFGAiIuJJCjAREfEkBZiIiHiS\\\n",
       "AkxERDxJASYiIp5kVFVVOYe6EU2VlZUd6iaIiMh+UFJScsDmfVgG2KFQVlZ2QFf04exorf1orRuO\\\n",
       "3tqP1rrhyKxdlxBFRMSTFGAiIuJJCjAREfEkBZiIiHiSAkxERDxJASYiIp6kABMREU9SgImIiCcp\\\n",
       "wERExJMUYCIi4kkKMBER8SQFmIiIeJICTEREPEkBJiIinqQAExERT1KAiYiIJynARETEkxRgIiLi\\\n",
       "SQowERHxJAWYiIh4kgJMREQ8SQEmIiKepAATERFPUoCJiIgnKcBERMSTFGAiIuJJCjAREfEkBZiI\\\n",
       "iHiSAkxERDxJASYiIp6kABMREU9SgImIiCcpwERExJMUYCIi4kkKMBER8SQFmIiIeJICTEREPEkB\\\n",
       "JiIinqQAExERT1KAiYiIJxlVVVXOoW5EU2VlZYe6CSIish+UlJQcsHkflgF2KJSVlR3QFX04O1pr\\\n",
       "P1rrhqO39qO1bjgya9clRBER8SQFmIiIeJICTEREPEkBJiIinqQAExERT1KAiYiIJynARETEkxRg\\\n",
       "IiLiSQowERHxJAWYiIh4kgJMREQ8SQEmIiKepAATERFPUoCJiIgnKcBERMSTFGAiIuJJCjAREfEk\\\n",
       "BZiIiHiSAkxERDxJASYiIp6kABMREU9SgImIiCcpwERExJMUYCIi4kkKMBER8SQFmIiIeJICTERE\\\n",
       "PEkBJiIinqQAExERT1KAiYiIJynARETEkxRgIiLiSQowERHxJAWYiIh4kgJMREQ8SQEmIiKepAAT\\\n",
       "ERFPUoCJiIgnKcBERMSTFGAiIuJJCjAREfEko6qqyjnUjWiqrKzsUDdBRET2g5KSkgM278MywA6F\\\n",
       "srKyA7qiD2dHa+1Ha91w9NZ+tNYNR2btuoQoIiKepAATERFPUoCJiIgnKcBERMSTFGAiIuJJCjAR\\\n",
       "EfEkBZiIiHiSAkxERDxJASYiIp6kABMREU9SgImIiCcpwERExJMUYCIi4kkKMBER8SQFmIiIeJIC\\\n",
       "TEREPEkBJiIinqQAExERT1KAiYiIJynARETEkxRgIiLiSQowERHxJAWYiIh4kgJMREQ8SQEmIiKe\\\n",
       "pAATERFPUoCJiIgnKcBERMSTFGAiIuJJCjAREfEkBZiIiHiSAkxERDxJASYiIp6kABMREU9SgO2D\\\n",
       "ivrEXg0/UMsrq461+F5FfSJteGvjVMV2v6ym0yX/LquOpf3deHjTZbfUnpbeS74az7vxsOTwlqZr\\\n",
       "/HfTtjVuU+PxG6+7luazu7Y21fRzaLzMxu3+x9ZIs3XY2nprWn9L6z45v5bWVWs1rdixa/6Nl9Va\\\n",
       "G1r6b0vrZV/WV2vz39v96WDulwf7GCDpfIe6AV61dEuEt7+McHaPEAPa+1PDV1XGmLsxzGnFQUYV\\\n",
       "BQ/48l5YW8djK2volm3xo+G5qfdWVcZ4YnUtkYTDZSWZAM2mX7olwp/Wh6mq8mMXRFLtbVxD0+mS\\\n",
       "7fCZ8PbmCCcUBbBMgwHt/ayqjJGwHV7fVE9e0KSknY+Le2cyqijY0J4aIgm4rCQzbd0s3RLhD2V1\\\n",
       "VEZsDKAikqA+ARf1DrF+R4ItdXG2Rxw+r00QNA2uGZjFt0qzG9pfx5Y6m7ygycmdArz7VZTPdsbZ\\\n",
       "GbP5rx4hYg4kbIc3NkfI8RtkWAYA3bItAnUWi1ZV0i3bYnLfTBZ8ESGScDi5U4B/lMdS666ltgYt\\\n",
       "+FZpdmpdvrC2jsc/qaFzpsX1g7JZWRnjyTV1dAiZ1McdamIONw3L4dPqGLM+qaVXjsXXumQw/4sI\\\n",
       "5/cKkeUzeGxlLdl+g2Pa+/lWaRY7ozZ/Wh9meyTBV3UJtoRtBuT5GVbo5+3NEUYXBVj8VZTVVTG6\\\n",
       "ZfvommVhANsjNl/UJYjbDt2zfRzT3sfxhbtqSjgO8zcFWVhfSacsi7N7hNgZtXn8k1o+3h6jQ4bJ\\\n",
       "gPZ+Lu4dIidgMndjmJ7ZPjbUxCnMMCmvt9u83e9aXwbfKs1qtL5qeXxVDV2yfFw3KDu1nSW3o+R8\\\n",
       "9nZ/2tN+2SdhUrLHubTNwT4GSHNGVVWVc6gbcTgoKyujpKRtm/bSLRHe+iICgAGc0zOU2vHmbAiT\\\n",
       "XKGnd94/G3Bry3thbR2PrNxJVcQGDIYW+PnR8FwAZq+uZXWl+y092wcdMncd4M7p6R6wXlhXx5qq\\\n",
       "OOFwmGHFOUzuk0lOwEzVsLkmjmMYqel65Vis35ng4+1RPqqIkWEZ1CcceuX4sHFP51dXxYjbEHeg\\\n",
       "U8jk5OIgozoGWLY1yurqODjufC7vl8WooiBLt0R4+tNaPtweY0vYJhyzsYEMCwzDJMcH1VGHmriD\\\n",
       "40DAgs6ZFmd2z6A25vCP8ihVEZsMy8B2IGY7VEUd/Cb4TYNOIZOvwjbRhEN9wsEyIOQzCJoGO6Jx\\\n",
       "MvwWBgZByyA/aOAAtXGHkGWQ4zfpmevjmw0hlmzrv3cmwIDSdj6mHpPNiooY/7uqhm31CcCgnR/q\\\n",
       "ElAbt6mOOhhAbsAADCJxBxuHmA1+A3rk+KhPONTFHWK228aikEX/PD9+EzbsjLOxJkE47s7HMty6\\\n",
       "CjJMtoRt6hMODmDbkOED04BoAuI2GAb4DOgQMsn2mfgtqKy3qYzaWI4DpsmwAj89cnx8URtnRWWc\\\n",
       "2pgNQKeQxZACP1l+k4AJa6riZPkNamMOvXIsumb79rjdL90S4amyOjbsiANQ2t7P1NIsVlRE+fWq\\\n",
       "GirqHcChW7aPXrk+giZ8Wh2nXzsfhSGL3jkW/96ZaPP+1Jb9cnvFdi4aXLzP++XBPgbsD3tzjPMK\\\n",
       "BViDtn64FfUJZq2uxW601gygpJ2Psuo4jVemacCVpVkUZFj/cbtaW16nTJPn1tbxRe2uSxWGYTAg\\\n",
       "z0fAMqiodw9EMdvhq7BNcabJyI4BMn0m4bjNxp0JtjWMEw6HCWWG6JBh0jPbR4bPIBy3+WCbG4DH\\\n",
       "dvBjAB9si5HpM/ikKk7CtqmJgc90D5b5AYNtUZuEDQkHAiaYhkHHkIllQF7QxGcYDe2E4woDXFqS\\\n",
       "yTNldSzZEuHzmgRVUZvklRejoSbHAfcw5/Kb7rwDlhuslRH3jGJn1CbmgO24B3nbcecRd9yDuN0w\\\n",
       "Lzv5t+EO8JnukmwHMn0GpgExG3L8Bl2yLAKWwYhCP5eVZPFMWR3/LI/iJBtjQLbPYMPOBHXxXet7\\\n",
       "e8TBNNxAj9juck3cNsCu9mFAls/9/2jCDWfTcMf3mW5bbMcN1ETDxA5gmWA4EHN2DTMarSMa/W3g\\\n",
       "zjNkucsNN6xfx3YI+gwMwyDTcqhLGMRth4Szq43tAgbtAhbtAu46+ips0ylkErAMhnfwk+kzW93u\\\n",
       "L+gV4g9ltbxfHtu1voCcgMG/d8Spi7stTzhQE3MoDJkUBE38pgEG5AdNKiM2wzv4CfnM1Hxb25/a\\\n",
       "ul9ur9hOhw75+7RfHuxjwP5yJAaYNX369LsOdSMOB9u3b6egoGCP42X6TPKDJp9WxdOGV0TstL+T\\\n",
       "38p65OzbVdrWllcTc8jyGeyIut/eAQoyTBwMwvFdu5BlGpS089Mj26Jd0N2J/KZ7ppFsczwex+/z\\\n",
       "0y3bol3QTI2T6TPpEDRpF7TwmwYhy+DLOhufCfUJA9NwiCYg5HPDymo4+FsGqTMdgNyASYa163Zr\\\n",
       "aXs/l/fLojTPT8eQxeZamx1Rm6gNcdshbqeHVnJ9+gz3IJ/jNxmc78cyjIa2uHVahjtNvNGB3We6\\\n",
       "//Wb7oHfNNz/ZvnAth0SGKn3AWzHIOSDokyLDJ9JaTsfl/fLTrX1s5pdwQ8QtcHBIdzw8ViGQV7Q\\\n",
       "TB20DXYFl9kwIHngC1qQ7TcIWib5QQPDgLhtkOk3sEyIJNx5G8lAbqjf11CL3RDuJrvCKvlq/Hew\\\n",
       "YZqQz0h99hmmA4ZJpg8w3PBy63enyfJDhmWRGzDIsEx3O8r1EbGhXztfaltqbbsvzfNTFLL4bGec\\\n",
       "bY3GiSbctiW3UdOAggyLLJ+Rto2E4w7983YtZ0/7U1v3y/r6OiYfU7BP++XBPgbsL209xnmJAqzB\\\n",
       "3ny4hSGL/IzmG3BS40sK+0Nry8vym+QG3BDL9Jlk+Zr0yWm4zHXdoByGFwbSps/ym4Qsg4qITTwW\\\n",
       "Z1BhiMKQ1XhSvtE3M226LL9JqCE0fSZEbfeym+24QWUZ7qUtG4OA6b4KMtLblbyMlFw3hSGLbtkW\\\n",
       "X4VtamI2MRvizq4zAcNwD3LJA3eO3+SEogBDCgJpbclpWBfJ6W3HDSWf6QaSg0GW36QoZKYOitg2\\\n",
       "TkPwurfG3HGLMy2y/GbqEmHTtm6qTQ+xgOkGaTgBHTJMTigKUhSy2BK2sR330p/TUEdy5QYt97Ji\\\n",
       "wDQY1THAMe391MbcS6e247bJbAg003DPDjMsg5DPIGAZJByDTJ8bRgln15cG09wVXCbuevM3hFfA\\\n",
       "NCjOtOjbzkdVfYwOIV/DGau7jIRDalmZPouCDMP97Azo385HjxwfE7qHUl+Ymmq63bvry8emJiGW\\\n",
       "Wl9xhw4ZFiM7BijOtNICoH+eL7U9tnV/ast+OTqzhhN7Fe52Pm1xsI8B+8ORGGCHx1eDJsrKyg77\\\n",
       "5fqBnLDFhrrmHTl7Ztr4tyUo27b/2tba8iygXwDKowZVYSPtvTy/Q28S+Le5DWk6vQUEYwZBP1h1\\\n",
       "1Wyva15D0+ksIBg3CMcMcoGgAxHboD7hHnyzHAefBbUJ97qdGXMIxxq1x0ng31aetm78QG/H4t9Y\\\n",
       "VGISNgxiNJy5NBycAzj4DSiwEnRIRNhesastyTsMVTGDDAzCDWdV2GAYNn73qhQhoIvPPUiuj5j4\\\n",
       "TTAcm5hjEE+Az3QI4WDG4gTZte5abGvcoiq2a32bQC7QHgerLkwHoMAyCcdMArinSnHHSF3SCxhg\\\n",
       "JGxyLYcOiQjUNXyOGKyPmtQnGoKo4ctBjmmTZTnUJtx1HQB8DgQMg4Sx65Jr8rQ1gXup1Y8DjoGR\\\n",
       "sLGA9tj0sRzCIYOIHU19dsllZRgO2SZgJ1KfXZ7fwapzyMGmNJrgs73Y7v1Abyz+HWthfRnQnihW\\\n",
       "nbvhBWMGVTEjtbzk9rg3+9Oe9su+hc5+O74c7GPA/nAojq0H8rLlYRlgh+I67d5eH15VGWNnTZj8\\\n",
       "UPP3dgKxDvv321dryysPJ/i04V5VZig9wCIGrMdHrIPby6vp9OXhBJFYnHBdmERmbtoZWLKGptOV\\\n",
       "hxNEonFsbHZEHDINSJjgNx0SQK1hUJVwzzr8Jtj+XWdgEWC94SfWIatZr63122qpJEI9NlHHTl12\\\n",
       "w3APxlEM4g5UJEy2WQH65flTbamN2xgYOH6H+phNHJt4w/IdwyRmOMQcN9g2x937PgnTJhaLU9/w\\\n",
       "JIlluWdpYcD2W0T8ZmrdtdTWiC9GqNHeUxt310cAg0RmgMqITUUiimM0BKRB6lKgDUQdyLBMdjgG\\\n",
       "26wA7YMmn26LURe3U+szajsNlyIddtomNbZ76RALonH3rC7qOMQbzpwaTiJT9w2jNjiWgd8AxzJJ\\\n",
       "mAaVmKxLmGwIh8nNCJAw3Q4v7rIc6h0Dx3YvH9t+9wwsYkAi08fOkMXqgJ+doVibt/tVlTHWl9cQ\\\n",
       "8cebr696mwAWiUx3/EjMHSeCu7zk9rg3+9Oe9su1tVuZMKzvHufTFgf7GLCvdA/sCLY3p9dNexq1\\\n",
       "5NOqOPkZZloo/KdaW155OMG/tsXYVp+gLu5eSguY6SG2LWLzYUWM1ZUxMv1m2rRrGnoFxuNxqhMW\\\n",
       "IZ97mS1p0VdR/lUeTU1XHk6wpsoNjIp6h6htUxlxMA0HyzCI2g7b6m2ittuxItkjrnG7ttXbbKpN\\\n",
       "0C3bojBksaoyxuzVtXxQHuHLOpvqqE2kySM0yctkjgMJx2Fr2CZmO2wJ26m2VEdtKiN2Q28+d7rk\\\n",
       "PaJIwg2PaEMPxZ0x271vlXCIO0bq/lLykl19wiFoGeyIOWzaGadbti+trcnenUnJNoB7P/KzmgSf\\\n",
       "VseJJNy2RBs6cjScDDXU4b58Jnxea/N5TZzt0V3rM+HQcF/N/f+6uFtHzHZfbm9J9/8N3JB3GtVs\\\n",
       "N1pvyeA0DaiMOGysSWA7sFWM1roAABLqSURBVDO+69JhOO4uJzl/w3CI20bqs6uI2NTHHd75MkKG\\\n",
       "lb6dNNZ4u19VGWP2JzWp3qfp68v9kOri7udYXp9I23Yr6u207bEt+1Nb9stPttfTpX32Pu+XB/sY\\\n",
       "sD8ciZcQ9SDzXqqoTzB3Y/qGa+De2G4cHQ4wd2N4nx9obG15xZkmKytjDV23XdsjDjl+975TUizh\\\n",
       "8H55lI8rY6mecuHkAaTJTJMHqeQ4a6pirKmOUxe3CcdtPq12u1JXRBwSjk04TsO9DPdyXm3caejK\\\n",
       "7h4ww3EIWm6nknijrmhrqmL8cV0dZdXufz/eHmVr2GZnzO3IkQyT1FkFuzpnxGyoidksr4ixM+YG\\\n",
       "R8JxqI3Z1DaEl2XsugeUPMDHbDdMowmIJ2BHDGLOrvtfcdu9F+RvqKc8bBNLOKypjvPCutpUW9c0\\\n",
       "furbcDthJIMG3F6Im2sT1MbdzijJ8Ep25nCcXe2L2m5w1MRsNtfa1MYaQjDmdo7xm26bkuvTdtwQ\\\n",
       "i9oQS5C6T2izq+NG8tX472jD9PVxh50xdx3Vxg1sx3F7AzoODkaqc4mDG5gx2/2MY7bjbkfbYkQT\\\n",
       "Dp9WxwnH7d1u92XVMV5YV5v6kpSUE0h2MnKnSjjwRW2ioV27er7kZ5ip5TSe7+4eHG7TfukY+7xf\\\n",
       "HuxjgLROZ2AN9qYXot/AfRaIXTdrT+2c0eym7tjOQUry9u0SQmvL+39dQwRMg4+2x6hPuAeEoQV+\\\n",
       "bh/RjpOLg6mOBpZh0CXTpGuOn4IM93muC3tnMrTAz1fhBBX1NvF4nEEdQkzpn5XqtOEzDSygXdCi\\\n",
       "IMMiYBqcWhwkw2di4FAetskLmJgGHJPnJydo0jnTYmfMxmcYOLjPYI0pDnJx70xiNqkb+b1yLC7s\\\n",
       "nel2xLAMPq9JsCPmuOHlOFgmZPsh5DPpmOHeN0o4uzoldM60uKB3iMIMi+0R9xmvvKBJjt8k0+ce\\\n",
       "8JPf3nvnWMQbQsOhoedfwCDPb2I7NlkNPSTzgibFmSa5AbebeG7AJORznwO7qNeutn62M05V1El1\\\n",
       "kLlhaC59cn2sqoxTF3ewDJMumaa7nhp6ZfpMaJ/htsdnuH8bBmSY7nNgyY4ZltHw/FymxbEdAvTO\\\n",
       "da+5hRue9fKZbvtDlkFxlpU6EzMb0irT1/D8HLuCMmBCUaZJhwy304GFeyYaMMAwTY4t8DOiMEiu\\\n",
       "36Aq5n4ZsAy3I8txhQF65vooznQfV+icZZFw3M+vIMPa7XY/pCBApmWwsSbR8Jyi24HnhiE59Mn1\\\n",
       "sbIyRjjutr2knZ/BBQE6Z7qfZ/92Pnrm+DitOEhtoz4Su9uf2rpfhsNhJvbJ26f98mAfA/aXI/EM\\\n",
       "TAHWYG8+3K7ZPgImbKxJNOt1lZ9hUlYdZ+x+fICxteUNyveT5TP5eHucfnm+1C9xJHvLfV6bIDdg\\\n",
       "cvWAbIYW+NOm75rtIy9gsrXeJpQI882B+YwqCqbVcG7PUNp0Y7tkEGjobTe8MMC2epsJ3TPokev2\\\n",
       "Tgv53BAtr7fpletjeGGASX0yGd89RLdsH5/XxMkNmKmHmJO1FWSYbA3bFARNeuX4yA0YZPstppZm\\\n",
       "0T5okR80yA9aOED7gMW3B2Zz49Bc8gIm1VGbHL9J33Z+vtE3E9MwyGzorfeNvpn0budnSL6f7VGH\\\n",
       "XrnuA7PFmRbDCwMcm1FLpZPBMe39fHdwDlHb7dL99T6ZGIYbYpc3+iWOZFs31SbolGmmeigOyvcT\\\n",
       "stzn40ra+bhjRDt65fpYV52gtL2fwgyLgGly1/Ht6Jvn4+PtcY5p7+OSkiy+Cttc3i+L/9c1g9VV\\\n",
       "Cbpl+ziuY5DvDs5hSL6fyqhDUaZJjt+9d3d8YZBzeoXYVm9zXq+QeykwZlOS52doQYBeOT7aB01M\\\n",
       "E7J87q96nFAU4MLeIQzDoFu2j355PjbXRDinZxYD8v1cWpLF8YUByuvd5/B65/oY2THIFf2yOLk4\\\n",
       "yOa6BKcWZ5DpNziuMIDPMtq03XfN9tEhmFxfVqr36aB898vAJ5Ux+rXz88NhOQwt8LMtYjOhe4hw\\\n",
       "wmFs5yDju4f2an9qy345OFjDGSX73gvxYB8D9ocjMcD0IHOD/+QGZ0V9otWHKg/Eg4utzbesOkZ+\\\n",
       "0Gz2XvLSRXJ4S9NX1CdYv349xw8oaTa8temSf5dVxyhp50/93Xh4fsPzZE2nazqs6XtJ2yN2at6N\\\n",
       "h4H7jb2l6ZJtaDp90zal5rdpPXTsmVp3jdvXlrY2fa/p59B4mcn2gPtbiL1zfWnrsOn4jdd94/qT\\\n",
       "82+87tfviKfO1pquq8bza9zuP79fxgUjSpp9zsllNG1D4893b7f7tq6v1ua/t/vT7tqxfdP6/dqR\\\n",
       "4WAfA/bFkdiJQwHW4Ej8cNvqaK39aK0bjt7aj9a64cisXZ04RETEkxRgIiLiSbqEKCIinqQzMBER\\\n",
       "8SQFmIiIeJICTEREPEkBJiIinuTZAPvqq6+45ppr6NOnD0VFRYwaNYp3330XgFgsxp133smJJ55I\\\n",
       "586d6d+/P1deeSWbNm1Km0ckEuHmm2+md+/edO7cma9//ets3rw5bZxNmzYxefJkOnfuTO/evfnh\\\n",
       "D39INBpNG+fdd9/l1FNPpaioiKFDh/LEE08cstqb+v73v09eXh6/+tWv0oZ7sfa21L127Vouu+wy\\\n",
       "unfvTnFxMaeccgpr1qzxdN2w59pramq4+eabGTBgAJ06deK4447j0UcfTZuHF2sfPHgweXl5zV6T\\\n",
       "Jk1KjTNr1iyGDBlCUVERp556KosXLz7i637wwQcZO3Ys3bp1o0+fPkyePJlVq1alzcNxHO6//35K\\\n",
       "S0vp1KkTZ511Fp988knaOFVVVUybNo3u3bvTvXt3pk2bRlVVVdo4K1euZOLEiXTq1IljjjmGGTNm\\\n",
       "4DiHR98/TwZYVVUV48ePx3Ec/vjHP7J06VL+53/+h8JC9ydi6urq+PDDD7nppptYsGABzz77LJs3\\\n",
       "b+aiiy4iHt/1O2W33norc+fOZfbs2bz66qvs3LmTyZMnk0i4vxyQSCSYPHkyNTU1vPrqq8yePZs5\\\n",
       "c+Zw2223peaxYcMGJk2axMiRI3nnnXf4wQ9+wA9/+ENeeeWVQ1J7Y6+88grvv/8+xcXFzd7zWu1t\\\n",
       "qXvDhg2MHz+eHj16MGfOHJYsWcLtt99OVlaWZ+tua+233XYb//d//8f//u//snTpUm688Ubuvvtu\\\n",
       "nn/+eU/XPn/+fNasWZN6LViwAMMwOO+88wD485//zPTp07nxxht55513GDlyJBdffHHal9Ujse53\\\n",
       "332XqVOn8vrrrzNnzhx8Ph/nnXcelZWVqXk8/PDDPProo8yYMYO33nqLwsJCzj//fHbu3Jka58or\\\n",
       "r+Sjjz7ixRdf5MUXX+Sjjz7i6quvTr2/Y8cOzj//fDp27Mhbb73FAw88wK9+9SseeeSRA1L33vJk\\\n",
       "N/p77rmHRYsW8frrr7d5mtWrVzN69GgWLVrEwIEDqa6upm/fvjz66KOpbzWff/45gwcP5sUXX2Tc\\\n",
       "uHH8/e9/Z9KkSaxYsYKuXbsC8MILL/Dd736XsrIycnNzufPOO5k7dy4ffPBBalnXX389q1ev5u9/\\\n",
       "//v+LZy21/7ZZ58xfvx4Xn75ZS666CKmTZvG9ddfD+DJ2ttS95VXXolhGPz2t79t8X0v1g1tq/2E\\\n",
       "E07g7LPP5kc/+lFq2MSJExk4cCAzZ870bO1N/exnP+OXv/wla9asIRQKMW7cOAYOHMgvf/nL1DjD\\\n",
       "hw/n3HPP5c477zxi626qpqaG7t2788wzzzBhwgQcx6G0tJSrrrqKm266CXB/yLikpIR7772XKVOm\\\n",
       "sGbNGkaNGsVrr73G6NGjAViyZAkTJkzgH//4ByUlJcyePZu77rqLTz/9NLXcmTNn8sQTT7Bq1SoM\\\n",
       "w2jWloPJk2dg8+bNY8SIEUyZMoW+ffty8skn85vf/Ga3p7XJbx15eXkALF++nFgsxumnn54ap2vX\\\n",
       "rvTv35+lS5cCsGzZMvr375/aqAHGjRtHJBJh+fLlqXEazyM5zr/+9S9isfR/N2p/aEvt8XicK6+8\\\n",
       "kptuuon+/fs3m4cXa99T3bZt89prr9G/f38uvPBC+vTpw9ixY/nzn//s6brbUjvA6NGjee211/j8\\\n",
       "888BWLp0KR9//DHjxo3zdO2NOY7D008/zeTJkwmFQkSjUZYvX96sPaeffnqqpiOx7pbU1NRg23bq\\\n",
       "+LZx40a2bNmS1uZQKMSJJ56YVnd2djajRo1KjTN69GiysrLSxjnhhBPSljtu3Di+/PJLNm7cuN9r\\\n",
       "3VueDLANGzYwe/ZsevbsyUsvvcQ111zD3Xff3eo372g0yu23386ZZ55Jly5dANi6dSuWZTX7debC\\\n",
       "wkK2bt2aGqfppbmCggIsy9rtOIWFhcTjcSoqKvZLvY21pfb777+f/Px8pk6d2uI8vFj7nuouLy+n\\\n",
       "pqYmdW/gL3/5CxdeeCFXXXVV6szFi3W3pXaAGTNmMGjQIAYNGkSHDh0466yzuOuuuzjzzDM9XXtj\\\n",
       "8+fPZ+PGjXzzm98EoKKigkQi0WJ7Grf3SKu7JdOnT2fw4MGMHDkSgC1btqTa2FjTugsKCtLOogzD\\\n",
       "oEOHDnusO/neoebb8yiHH9u2OfbYY7nzzjsBGDp0KOvXr2fWrFlMmzYtbdx4PM60adOorq7mueee\\\n",
       "OxTN3a/2VPvChQt59tlnWbhw4SFu6f61p7pt2/319YkTJ3LdddcBMGTIEJYvX85vf/tbxo8ff8ja\\\n",
       "vq/asr0//vjjLFu2jOeee45u3bqxePFi7rjjDrp3787Xvva1Q9n8/ebJJ59k+PDhDB48+FA35aDa\\\n",
       "U90/+tGPeO+993jttdewrMPrF/APNE+egRUVFTW7NNavX7/U5ZOkeDzO1KlTWblyJa+88gr5+fmp\\\n",
       "9zp27EgikWj27am8vJyOHTumxikvL097P/mtb3fjlJeX4/P5Dsi/vbOn2t99912++uor+vfvT0FB\\\n",
       "AQUFBWzatIk777yTAQMGpNrstdr3VHdBQQE+n2+343ixbthz7eFwmHvuuYe7776bCRMmMGjQIKZN\\\n",
       "m8YFF1yQ6n3q1dobL+PVV1/liiuuSA1LniW11J7G7T3S6m7s1ltv5aWXXmLOnDn07NkzNbyoqCg1\\\n",
       "fdP5Na6poqIi7VK04zhs27Ztj3Un3zvUPBlgo0ePZu3atWnD1q5dS7du3VJ/x2IxpkyZwsqVK5k7\\\n",
       "d27qA00aNmwYfr+f+fPnp4Zt3rw5dWMTYOTIkaxZsyaty+38+fMJBoMMGzYsNU7jeSTHOfbYY/H7\\\n",
       "9/+/xLqn2q+88koWLVrEwoULU6/i4mK+853vpHpMebH2PdUdCAQYPnw4ZWVlrY7jxbphz7XHYjFi\\\n",
       "sVizb9+WZaXOTL1ae9Kzzz5LMBjkwgsvTA0LBAIMGzasxfYkazoS60665ZZbUuHVr1+/tPd69OhB\\\n",
       "UVFRWpvr6+tZsmRJWt01NTUsW7YsNc6yZcuora1NG2fJkiXU19enxpk/fz7FxcX06NFjv9b6n/Dk\\\n",
       "v8jctWtXZsyYgWmadOrUiQULFvCTn/yEG264gREjRhCPx7niiiv44IMPeOqpp8jJyaG2tpba2los\\\n",
       "y8Lv95ORkcFXX33FrFmzUr0Sb7jhBnJzc7n77rsxTZOePXsyd+5c3nrrLQYOHMjq1au56aabuPji\\\n",
       "izn77LMB6NWrFw8//DDl5eV069aNV199lZ///Of85Cc/obS09KDXnpWVRWFhYdrr8ccf59RTT2XC\\\n",
       "hAkAnqx9T3UDtG/fngceeICOHTuSm5vLnDlzePjhh7nvvvvo27evJ+tuS+3BYJCFCxemOrE4jsO8\\\n",
       "efN48MEHufrqqznuuOM8Wzu4ZwXXXnst48eP59xzz017Lycnh/vvv59OnTqRkZHBzJkzWbx4MY88\\\n",
       "8gjt2rU7Yuu+6aabeP755/n9739P165dU8c3cIPdMAwSiQQPPfQQffr0IZFIcNttt7FlyxYeeugh\\\n",
       "gsEgHTp04J///CcvvvgigwcPZvPmzdxwww0MHz481ZW+T58+/O53v2PFihWUlJSwZMkSfvzjH/P9\\\n",
       "738/rfPHIVNVVeV48fXCCy84AwcOdILBoNOnTx/ngQcecCorK52qqirnww8/dIAWX48++mhqHlu2\\\n",
       "bHGuuuoqp3379k4oFHLGjx/vfPzxx2nLWbFihTN+/HgnFAo57du3d6ZNm+Zs2bIlbZy//vWvzpAh\\\n",
       "Q5xAIOB0797defDBBw9Z7S29unXr5tx7771pw7xYe1vqfvTRR50+ffo4GRkZzoABA5xZs2Z5vu62\\\n",
       "1L5mzRrnkksucYqLi52MjAynpKTEuffee9PG8Wrtc+bMcQDnzTffbPH9n/3sZ063bt2cQCDgDB06\\\n",
       "1Jk3b94R8Znvru7Wjm+33HJLapzKykrnlltucYqKipxgMOiceOKJzuLFi9Pms2HDBmfSpElOTk6O\\\n",
       "k5OT40yaNMnZsGFD2jiLFi1yTjjhBCcYDDpFRUXO9OnTd3u8OZgvTz4HJiIi4sl7YCIiIgowERHx\\\n",
       "JAWYiIh4kgJMREQ8SQEmIiKe9P8Bf7znYUs2makAAAAASUVORK5CYII=\\\n",
       "\"\n",
       "  frames[8] = \"data:image/png;base64,iVBORw0KGgoAAAANSUhEUgAAAbAAAAEgCAYAAADVKCZpAAAABHNCSVQICAgIfAhkiAAAAAlwSFlz\\\n",
       "AAALEgAACxIB0t1+/AAAADh0RVh0U29mdHdhcmUAbWF0cGxvdGxpYiB2ZXJzaW9uMy4xLjAsIGh0\\\n",
       "dHA6Ly9tYXRwbG90bGliLm9yZy+17YcXAAAgAElEQVR4nO3de3wU9b3/8dfM7CWbewghgAQQDEQQ\\\n",
       "QVRALqLQA0IrahFolVb9gWgRW21p1apVtBQprdd6PG3FU2u9tNWeSsSHtChFJAhYi6IoRhFEVAgh\\\n",
       "Cblu9jK/Pya7ySYBgoDJwPv5eOSh2Zmd+X4ms/Pe73e+uxjl5eU2IiIiLmO2dwNERES+DAWYiIi4\\\n",
       "kgJMRERcSQEmIiKupAATERFXUoCJiIgrKcBERMSVFGAiIuJKCjAREXElBZiIiLiSAkxERFxJASYi\\\n",
       "Iq6kABMREVdSgIkcI4sWLSIzM5M1a9a0d1NEjksKMBE5IqFQiEceeYS5c+cyevRocnJyyMzM5LHH\\\n",
       "HjvgczZv3sw999zDpEmTOPXUU8nJyaF///7MnDmTtWvXHvB5JSUl3HHHHYwcOZK8vDxOPvlkxowZ\\\n",
       "w3333UdFRcWxKE86ME97N0BE3K26uppbbrkFgC5dupCbm8unn3560OfceOONvPHGGwwaNIhJkyaR\\\n",
       "np7O1q1befHFF3nhhRf45S9/yZw5cxKes2PHDr72ta9RUlLCyJEjGTduHMFgkNWrV7NgwQKeeeYZ\\\n",
       "Xn75ZVJTU49ZrdKxKMBE5IgkJyfz17/+lUGDBtG1a1cWLVrE4sWLD/qcSy+9lEceeYT8/PyEx1ev\\\n",
       "Xs3UqVO57bbbuOiii8jNzY0ve+ihhygpKWH+/Pncdttt8cej0ShTp05l1apVPPvss1x55ZVHtT7p\\\n",
       "uDSEKAe1Y8cOMjMz+frXv05paSk/+MEP6N+/P126dGHEiBH86U9/OqLtFxUV8a1vfYuBAwfSpUsX\\\n",
       "TjnlFM477zxuvfVWbLvxHwv//PPPWbx4MRMnTqRfv37k5ORQUFDArFmzeO+99w7a7j179nDdddeR\\\n",
       "n59P9+7dmTBhAkVFRYDTe7j99ts57bTT6NKlC8OHD+fvf/97i+09+eSTZGZmsmjRIl5//XWmTJlC\\\n",
       "Xl4eeXl5XHrppWzatOmw6t62bRvXX399fL99+/bl8ssvb3U7lZWVLFmyhJEjR9KzZ09OOukkTj/9\\\n",
       "dGbOnNkh7q/5fD7+67/+i65du7b5Oddee22L8AIYO3YsY8aMob6+ntdffz1h2fbt2wGYPHlywuOm\\\n",
       "aTJx4kQA9u7de5itFzdTgEmbVFRUMHHiRDZu3MiUKVP49re/zeeff868efN46qmnvtQ2V65cyTe+\\\n",
       "8Q2KiooYPXo08+bNY8qUKWRkZPDb3/6WSCQSX7eoqIj777+fjIwMpkyZwty5cznrrLNYtmwZ48eP\\\n",
       "56233jpou9977z2mTZvGhAkT2LhxI1OnTuWdd95hypQp/OMf/2Dy5MlMnTqVjz/+mKuuuoqNGze2\\\n",
       "ur1///vfTJkyhUAgwNVXX824ceN45ZVXmDRpEuvXr29T3atXr+bcc8/l6aefZvDgwVx77bWMGzeO\\\n",
       "l19+mYkTJ/Lyyy/H17Vtm0svvZSFCxcSCAS4/PLLmT17NiNGjGDTpk2sXr36MI64O3i9XgA8nsQB\\\n",
       "ooKCAgBWrFiR8Hg0GuWf//wnhmEwduzYr6aR0iFoCFHa5J133uE73/kO999/P5ZlAfC9732PUaNG\\\n",
       "8cADD3DZZZcd9jYff/xxotEoL7zwAqeffnrCsn379iVcwM4991w++OAD0tLSEtbbvHkzF1xwAXfd\\\n",
       "dRfPPfdcq+2eM2cOixcvxjAMAH79619z9913841vfIMxY8awdOlSfD4fAOPGjePqq6/m/vvv58kn\\\n",
       "n2yxvZUrV7JkyRKuvvrq+GPPP/88V1xxBfPmzWPDhg3x/bSmoqKCq666Cq/Xy8qVK+MXZYCtW7cy\\\n",
       "fvx4rrvuOt566y38fj9btmxh/fr1TJ48ucUbBdu2KSsrO+C+mnr77bdZvnx5m9aNueyyy+jVq9dh\\\n",
       "PedIffLJJ6xevZrk5GRGjRqVsOwHP/gBK1asYPHixRQVFTFkyBDq6+tZvXo1n332Gffddx9nn332\\\n",
       "V9peaV8KMGmT5ORkFi5cGA8vcN4RDx8+nKKiIqqqqr70zfNAINDisU6dOiX8npOT0+pzBw0axJgx\\\n",
       "Y1i1ahWhUCj+7j0mJSWFn/3sZwmhMmPGDO6++27Ky8v5+c9/Hg8vgG9+85vMnTuXzZs3t7q/Pn36\\\n",
       "MGvWrITHLrroIoYNG8aGDRtYv349I0aMOGCtzzzzDPv27eOee+5JCC+A/v37893vfpf//u//ZvXq\\\n",
       "1UyYMCG+rLVjZBhGi+N0IJs3bz7kfanmRo8e/ZUGWG1tLbNmzSIYDHL33XeTmZmZsDwnJ4eVK1dy\\\n",
       "/fXXs2zZsvjwqWEYXHbZZep9nYAUYNImffr0IT09vcXjPXr0AKC8vPywA2zatGkUFhYyfvx4Lrnk\\\n",
       "EsaMGcPZZ599wIvmihUreOyxx9i0aROlpaWEw+GE5aWlpS3uw/Tp06dFu2LrZGRktNiXZVnk5OTw\\\n",
       "2WeftdqGc845B9NsOfI+atQoNmzYwNtvv33QAIsNM7777rssWrSoxfIPP/wQcHpjEyZMoKCggEGD\\\n",
       "BvHcc8/xySefMHnyZIYPH87QoUNJSko64H6au/zyy7n88svbvP5Xrb6+niuvvJKNGzcybdo05s2b\\\n",
       "12KdHTt28O1vf5uamhqeeeYZRowYQTgcZtWqVdxyyy0UFhZSWFjI4MGD26ECaQ8KMGmTjIyMVh+P\\\n",
       "9cia3q9qqylTpvCXv/yFhx9+mKeffprHH38cgAEDBnDTTTdx0UUXxdd95JFHuOWWW8jMzOT888+n\\\n",
       "R48eBAIBDMNg+fLlvPPOOwSDwRb7aC10Y0OTrS2L1dQ8HGO6dOnS6uOxHuL+/fsPUrEzNArwxBNP\\\n",
       "HHS96urqeFsKCwtZsmQJy5YtY8GCBYDTI77kkku46667yM7OPui2OrpgMMh3v/tdVqxYwfTp03nk\\\n",
       "kUdaHYadO3cuW7Zs4dVXX00Ycp42bRqBQICZM2dy++23s2zZsq+y+dKOFGDSriZMmMCECROora3l\\\n",
       "zTffZOXKlTz66KNceeWVFBYWMnr0aMLhMPfccw+5ubmsXr26RS/rQBMujoU9e/a0+nhJSQlw4FCM\\\n",
       "iS3/17/+xZAhQ9q0z8zMTBYuXMjChQvZvn07RUVF/OlPf+LJJ5/kk08+obCw8JDb6Kj3wGpqarj8\\\n",
       "8stZtWoVM2fO5MEHH2y1h1tZWcnatWvJyspqcb8UnHukAG+++eYxba90LAow6RACgQCjRo1i1KhR\\\n",
       "9OrVixtuuIHly5czevRoSktLqaio4Nxzz20RXlVVVQecgXgsvP7660Sj0RYX2di3R7R2cW3q7LPP\\\n",
       "ZtmyZaxbt67NAdZU79696d27N9OnT2fIkCGsWbOGioqKA/aQYzriPbDKykpmzJhBUVERs2fPZsmS\\\n",
       "JQecABPrEVdWVhIMBvH7/QnLY9Pnm98DleObptFLu3nttddaHarbvXs34AyTgTM8l5yczKZNm6iq\\\n",
       "qoqvFwqFuPnmmyktLf1qGgx89NFHLF26NOGx559/ng0bNpCfn8/w4cMP+vyZM2eSmZnJkiVL2LBh\\\n",
       "Q4vltm2zbt066uvrAeezT7HPPzVVVVVFdXU1Xq+3xXTz1lx++eWUl5cf1s+YMWMOud0vq7y8nEsu\\\n",
       "uYSioiKuu+46fvWrXx109mZWVhYFBQWEw+EWQRwOh1m4cCEA55133jFrs3Q86oFJu7n55pvZtWsX\\\n",
       "I0aMoGfPniQlJfHuu+/y8ssv06lTJ6644grA+aDqNddcw3333cfIkSOZPHkyoVCINWvWUFZWxpgx\\\n",
       "Y76yD/SOHz+eW2+9lZUrVzJw4EA++ugjCgsLCQQCPPTQQwe9CINzIf7jH//IzJkzmTBhAueeey4F\\\n",
       "BQV4vV527drFG2+8waeffsr27dvx+Xzxjy8MGTKE/v37061bN8rLy1mxYgVlZWXMmzePlJSUr6T2\\\n",
       "g7nvvvv44IMPAOIzOJ9++un48G6/fv248cYb4+vPnDmTN954g5NOOonU1NRWJ7SMHj06IUQXL17M\\\n",
       "9OnTuffee1m1ahXDhw8nEonwr3/9i+LiYnJycvjZz352LMuUDkYBJu3mRz/6EcuXL+c///lPPIC6\\\n",
       "d+/O9773PebOnRuf4Qhw6623kp2dzRNPPMEf/vAH0tPTOe+887jttttavfgdK2eddRY//vGPWbhw\\\n",
       "Ib/73e8AOP/887n99tvbPCR47rnnsnbtWn7zm9/w8ssvs2HDBjweD7m5uQwbNow777wzfq/sjDPO\\\n",
       "4Ic//CGvvfYaq1atoqysjE6dOtGvXz9+8YtfcPHFFx+zWg/HypUrW3wJ78aNG+MBNmrUqIQA27Fj\\\n",
       "BwC7du066NBm0wAbO3Ysq1at4sEHH2Tt2rU89thjGIZBXl4e1157LTfccMNhfRuIuJ9RXl5uH3o1\\\n",
       "kRPbk08+yXXXXcdNN90U/+JaEWlfugcmIiKupAATERFX0j0wOWp27NjR5i/2bY/v2ROR44vugclR\\\n",
       "s2bNGi688MI2rVtYWHhMp2mLyPFPASYiIq6ke2AiIuJKCjAREXElBViD4uLi9m5CuzlRaz9R64YT\\\n",
       "t/YTtW44PmtXgImIiCspwERExJUUYCIi4koKMBERcSUFmIiIuJICTEREXEkBJiIirtQhv0rqePy8\\\n",
       "gojIiSg/P/+YbbtDBlh7KC4uPqYHuiM7UWs/UeuGE7f2E7VuOD5r1xCiiIi4kgJMRERcSQEmIiKu\\\n",
       "pAATERFXUoCJiIgrKcBERMSVFGAiIuJKCjAREXElBZiIiLiSAkxERFxJASYiIq6kABMREVdSgImI\\\n",
       "iCspwERExJUUYCIi4koKMBERcSUFmIiIuJICTEREXEkBJiIirqQAExERV1KAiYiIKynARETElRRg\\\n",
       "IiLiSgowERFxJQWYiIi4kgJMRERcSQEmIiKupAATERFXUoCJiIgrKcBERMSVFGAiIuJKCjAREXEl\\\n",
       "BZiIiLiSAkxERFxJASYiIq6kABMREVdSgImIiCspwERExJUUYCIi4koKMBERcSUFmIiIuJJRXl5u\\\n",
       "t3cjmisuLm7vJoiIyFGQn59/zLbdIQOsPRQXFx/TA92Rnai1n6h1w4lb+4laNxyftWsIUUREXEkB\\\n",
       "JiIirqQAExERV1KAiYiIKynARETElRRgIiLiSgowERFxJQWYiIi4kgJMRERcSQEmIiKupAATERFX\\\n",
       "UoCJiIgrKcBERMSVFGAiIuJKCjAREXElBZiIiLiSAkxERFxJASYiIq6kABMREVdSgImIiCspwERE\\\n",
       "xJUUYCIi4koKMBERcSUFmIiIuJICTEREXEkBJiIirqQAExERV1KAiYiIKynARETElRRgIiLiSgow\\\n",
       "ERFxJQWYiIi4kgJMRERcSQEmIiKupAATERFXUoCJiIgrKcBERMSVFGAiIuJKCjAREXElBZiIiLiS\\\n",
       "UV5ebrd3I5orLi5u7yaIiMhRkJ+ff8y23SEDrD0UFxcf0wPdkZ2otZ+odcOJW/uJWjccn7VrCFFE\\\n",
       "RFxJASYiIq6kABMREVdSgImIiCspwERExJUUYCIi4koKMBERcSUFmIiIuJICTEREXEkBJiIirqQA\\\n",
       "ExERV1KAiYiIKynARETElRRgIiLiSgowERFxJQWYiIi4kgJMRERcSQEmIiKupAATERFXUoCJiIgr\\\n",
       "KcBERMSVFGAiIuJKCjAREXElBZiIiLiSAkxERFxJASYiIq6kABMREVdSgImIiCspwERExJUUYCIi\\\n",
       "4koKMBERcSUFmIiIuJICTEREXEkBJiIirqQAExERV1KAiYiIKynARETElRRgIiLiSgowERFxJQWY\\\n",
       "iIi4klFeXm63dyOaKy4ubu8miIjIUZCfn3/Mtt0hA6w9FBcXH9MD3ZGdqLWfqHXDiVv7iVo3HJ+1\\\n",
       "awhRRERcSQEmIiKupAATERFXUoCJiIgrKcBERMSVFGAiIuJKCjAREXElBZiIiLiSAkxERFxJASYi\\\n",
       "Iq6kABMREVdSgImIiCspwERExJUUYCIi4koKMBERcSUFmIiIuJICTEREXEkBJiIirqQAExERV1KA\\\n",
       "iYiIKynARETElRRgIiLiSgowERFxJQWYiIi4kgJMRERcSQEmIiKupAATERFXUoCJiIgrKcBERMSV\\\n",
       "FGAiIuJKCjAREXElBZiIiLiSAkxERFxJASYiIq6kABMREVdSgImIiCspwERExJUUYCIi4koKMBER\\\n",
       "cSUFmIiIuJICTEREXMkoLy+327sRzRUXF7d3E0RE5CjIz88/ZtvukAHWHoqLi4/pge7ITtTaT9S6\\\n",
       "4cSt/UStG47P2jWEKCIirqQAExERV1KAiYiIKynARETElRRgIiLiSgowERFxJQWYiIi4kgJMRERc\\\n",
       "SQEmIiKupAATERFXUoCJiIgrKcBERMSVFGAiIuJKCjAREXElBZiIiLiSAkxERFxJASYiIq6kABMR\\\n",
       "EVdSgImIiCspwERExJUUYCIi4koKMBERcSUFmIiIuJICTEREXEkBJiIirqQAExERV1KAiYiIKynA\\\n",
       "RETElRRgIiLiSgowERFxJQWYiIi4kgJMRERcSQEmIiKupAATERFX8rR3A9ystC4CQHaS1abHj9W+\\\n",
       "9gWjdPKbh2xHaV2k1XXKQ4nLmj6vuCJEJ3/r73Ni+236e36GN+E5sW00fbx5ezbuCdIn3dNi20CL\\\n",
       "7e+oDPO1HoH4c2P1xx6P7WPb/jB90j3xNm7bHyazYVud/Cb7glHKQ/C3bdUMyvaRn+GltC7Ctv1h\\\n",
       "zu7iZ+WntZzR2dfimBzoGMTqbLr9HZVhzujsY9v+MDurwoztnkR2ksXjWyv5Rq9k9gWjbC6tZ2z3\\\n",
       "JKc9wSiZfjPe3rO7+OPHJnY8yoPRePu+1iPAxj1BgPg65cEofdI9/GdvPb3SPPG25Gd4E47z5v3Q\\\n",
       "qaGmpseqqdhzgfjxaa7p+XSg86vpudH08abbbvr85ttp/vjhLm/elqPpYPs6mq9/aZ0C7EtavzvI\\\n",
       "n4pr8FsG/68ghQFZzotwS1mIx96vIhiBmfnJDM/1H8V9wf8rSE3Y16I39/NeWYiCLC8/HZrerB3V\\\n",
       "BCM2M/OTAfjX50Eu7BWIr7N+d5C/bqvlwz0+8vbt53sDU6msj/LXbbWATSe/yYqdQVK80DXZQygS\\\n",
       "pT4KKV6D0roon1dHyAlYZPlNKkPOxXNoZy9v7g2R6TfJz/CQ5Td5fXc9fTM8vF0aonuyxfWnpZLm\\\n",
       "MyncUcuOyjAv7wrSNWCSl+rBAEqDET6vcS5u3ZMtOvkN9gVttpSFqIvA+d2rGNzZT+9Uixd21LLu\\\n",
       "i3qqI3B250oqQlATilJWHyU3YFIXBWzYG4zgMw2SLINUrwEYlFT7KQuVk+k3mHtaKq9+FuT98jAn\\\n",
       "JZt8sD9C71SLX5+TSZrP5JF3qygPRgCD+qiNz4R9QZt9wSinZnk5Jd3D37fXEIxATpJB8f4wtWHo\\\n",
       "nGSyty5KOAqnZnlI9sCbe8MseGM/UaAyBFk+8JgmlfVRUrwmWX6D/SGbUzMs3quIkO41qAnbVIei\\\n",
       "GIZJt2SDndVReqdU8HFVlKht0y3ZoipkUxOxSTKhImQTsKBXmgfTMOjsN9hcFqZLwCRqwyf7/fTZ\\\n",
       "VYpl2HxcGSXLbxCxoSZsY9sQ8Bhk+Q321dkkeeBbfVP4rCbMzqoIPhO8lkmKx4if41vKQhTuqOW8\\\n",
       "bv74OR87bz/a7/zdbjw9jQt7BeLn7dul9SR5TK4ZkMLALC//+jzIgCwvW8pC8e3EtpuTZFJSF6V3\\\n",
       "qsX2qkj8PI4t753qYXtVOL5e0/M89noo3FFL34hJ/hG/Ihtfl81fU0331fRYyLFhlJeX2+3diI6g\\\n",
       "uLiY/Py2ndrrdwf5Y3EN2/eHASjI8jKrIAWApe9V8X5FGGw4Oc3iO/1SjugkXr87yBMfVPNxZQQM\\\n",
       "KMjwMOvUVAB+8eZ+NuwJUhexSbJMhnXx8dOh6U473q/m/TKnR5Dqgc7JHnqkWBjAlN4BKuuj/Pmj\\\n",
       "Gjbuqaekup6uaT5yAxbJHoM9tVH21EYorYsSBUJRGxPwWgYGEIo6j9kANlgm2DZ4TKiPgs8ADIOA\\\n",
       "BYZh4DGgrD6K3zRI8ZqcnGrSK93LRxX1vLUvTDgKURu8JliGs41Iw1lpGc5PMAJOfDi/906zMAzY\\\n",
       "WRkhGAU7tgxI7Eck/m40/DiP2/HfLJz9R2wI2c7YuteEvFSLvukedtdG+Kw6QihqY2AQitqEbTAN\\\n",
       "8BgGYdsmEoWw7fwciaZ1mIbTplhLY5s2W6mz6XKarBery2h4TtQGE5soRvxY2E2e2/QYGYDXcv6m\\\n",
       "6X6TUNQmFAGPadA9xeS0LC9juiXxcWU4/vxx3Z3z/YkPqinaXc/euigBD3RP8TCtT4CiL+pZtztI\\\n",
       "ZcjGY0CnJJMBWV56pFh8UBGmX4aHnIBFnzSLjysj7KyOsH1/mBSvQXXYpn+Ghy4Bi4GdvLy7L8Se\\\n",
       "2ghby8OkeqAqDL3TPeSlWEzp3Rhyy7bXYgP7Svdx6aBuRxws63cHeeWzYPwYtbav2LHoKCF2ONc4\\\n",
       "t1CANWjrH7e0LsKD71Ty75IQdpMjl53kDE+Vxq6mgGHAWTk+rj8t9UsNJ5TWRXjonSreKKlv3JcB\\\n",
       "2X6T+qjN5tIQlaFofEGaz2BQlhef5fSQwAmaL2qjdEt2Ai7ZY1IbjrKjMsLnNU5PJxQKYXo8BCM2\\\n",
       "SZZBkgV76myCEZtow5XNjl0dDecC2PRiadN4wY1d+LwGhHG6+BEabrYakOKBKAYZXoN99Tb1YTt+\\\n",
       "wW96ET0Uo2GbRzYo1BhgrbEadpTigWSPSXUoSjAK0ahTq01jkDQPmI7v4LU3ZTT58ZpOvX7LIM0L\\\n",
       "aV6TTH/juQVQF4lSG4Y3SoJ8WBGJ78trOv9XH7Gpb5K+tg2pPoPeqZazDcMZviwLRjk108N75WHq\\\n",
       "IzZf1ETommzhtYz48k5+k9K6aPw87xow8VkGZ3T2kuJxRgGKKxrDdV/pPjp37sTsgpQvPcRXWhfh\\\n",
       "0fernddGk2PUfF/gvAE5kn0dTcdjgGkI8TBlJ1nM6JtCVX1jTwuIB0ZT/TO9TO+b/KVP3uwki+l9\\\n",
       "k6kM2fHeFHbjvnICZnzYJ+CBnCSTylBDF6KB1zI4M8dHJ58Rv8AEPCbZSTZ7g1Gykwx2h51eTU6S\\\n",
       "SXXYubgke8C2DSK2TcR2lodtiESd/28aYh6jIVAMsKNOcNuG8649YjthFm3ooUVsSPYYdEoySfbY\\\n",
       "7KyOYDX0WuyoE0gHCoGEXoHpbDNqH5vQiNWW7oGuyRbVYZsUr4kvalMXsQk39LbsJseho4aXScuw\\\n",
       "PRyxXm/s7+c1nfPDMpxzamCWN35uGcCMvs5oRMSGmlAdn9U4e42912ra0/OYDeejv/H8xIZ9dVH6\\\n",
       "Z3rolGTRLwM+qAhzZo6PPbXR+HJofC14LYMzO3spqYvSL8NDssfExnleQi2GzYW9AkcUKNlJFhf2\\\n",
       "CiT0tFrdFxzxvuTgrJtvvvnO9m5ER7Bv3z6ys7PbtG5OwCIv1cPOyjB7gy2DCxqHFZuOjX8Zzr4s\\\n",
       "dlZH2NssJGP3dAKWQSe/RUrsAhDTMOQ477Q0hub4+KC88QWW4jUJWM69FjscIj3JR4bPxGNCbdjG\\\n",
       "MoyGXqWBp6H7ZDYM5zVsGtMAn9Uw9Ncw/JfqNZwemRG7ODnv3QMesHEuUl2TTVI8Jskek15pFpVh\\\n",
       "m4bbUtjNAsnACUi/5ezPbOgRWabTntj6sWG35n0Kk5ZDb4nrtPzNwgnhdK8zHJXhs/Cazr2zTF+s\\\n",
       "l+CEWOwv0vS4eBra2dagsBqef7A+UaxdHhP8Ztt7fJ6Gv0PsGhobpnXegBy4B2Y2tCl2zH2Ws51k\\\n",
       "j0GSx8BnGnROsjijs5ecgBVvY2woLXbe7g3alAcjVIaabNtwjq9pOD24UV199Mv0OqMXDfpneuLb\\\n",
       "TfWaTOoZINpwb67Fm0UD+md46JXmYVLPADUHGMM1gBHJVYw8OecQR+3QcgIWnZLMhNdU833FjkVH\\\n",
       "cTjXOLfokD2w4uLiDr9fL9AHi49DFuWhxAtBptemjx3Bu7eE4r1H3i4v0Me2+Djccl9ZXpt+yTYl\\\n",
       "9Qblta20gwjevU4j0motttc0hpwF+EMG3ZIAaimvNZwLV9TZTopt47GgGoOyiNFwstjU2Ub8Xbk3\\\n",
       "fhPFxmuCp+G+UL3tXJG9dtS5qDf0VJIAM2RTG3La19dnU+sz+DxoEo4YhEkcGjQb2unDxms5F16f\\\n",
       "AbURwDbiy2M9jFhPKHa/LHYhDtmN61gG1Md7To0XO6Ppc4BMj40ZClIbco5z/Jh7oK7epA4I2c4B\\\n",
       "MOzGz6SYQJrHpioMQds4aMgYOPco66MNPSS7ZS80Fl4+EyzDJsWC8ihEMFrcB2vK0/A8E0g1bapt\\\n",
       "MA0j/kYhYtsthj9j+yL23MYbhhgmpJrR+O9Z1GPV1LCvxnmod3IU795I/JyPn7cei1JMaiKN56fH\\\n",
       "cCbCZFsROkeCUOOci+Uhg0yvjVVjJ2y3oD7CJ7UWpTUm/rCR8DqIrZ9G43pNz/OY3slRTsmxj9r1\\\n",
       "xUvL11TTfTU9Fh1Fe1xbj+WwZYcMsPYYpz3c8eEtZSG2lVQR9IYJNDuKQWCb4SXU+ch7YPF97a0m\\\n",
       "6Am12FdZ2OazGpuAxyA5kBhgQQO24SHU2Zn0UVlVS6dA4/KS2gjBUJh9lbUkJSWRHDCoDkeJRJyL\\\n",
       "VLVhUBGxnQkbRuyCZ2A3XACjDUNopgEYBmEbkkyDuoabA5YBIcN0wsOwCdkGdRhEvU4PLAh8FIGP\\\n",
       "68POpAicC2rTi3IU54Jej0FdxLnIBgywG7pf0UjifbCmQ3k2jZMWok22F7t3YTfr89hN1wHKwwaZ\\\n",
       "yR5SPCZlYRsbZwJHbdimlgj12PFjYRuN2zUanhubfHEwNs7EA8NonLjS/DmxQA5GwTQNwhEItbJe\\\n",
       "c037BlVRIz45JWpDyHZqb3qsYv+NvYmAxskfPsupsSpqYplO778Mi0hyYw+sEgh1DiTMhN22t5rP\\\n",
       "wnUEiWJZjS0O2875Uhox2Wv5yPKbBEPOaykIRJI9Cdt93+elMhAiQoRgfeJrLmg461cGrPh6Tc/z\\\n",
       "mErgw+o9TBpyyiGOXNtsKQu1eE013VfTY9ERHI/3wDSJo8Hh/HG3lIUSZhseyNEYRtxSFkqYUdhU\\\n",
       "dTjKFzXR+D2wbsmtDyN2CU8w7Y8AABK/SURBVFh08hl0DjSOxZfURthaEaY6FGV3VT0ej4cUjzPL\\\n",
       "C6A+alMdotV7YKbRNAScZUbDvmL3wIyG4cbYc2P3wCyD+DBiXdi5BxY9gntg4SO6B3bgQbtYbyzd\\\n",
       "23gPLDb7svk9MGg5I7Ajaf0eWNsnccR6rU3vgaV6Dz6MCM5M2LWfN94Di4nYzkzW5vfAOje7VxQb\\\n",
       "RiypjfBBhTNFfk/tAY60AV0aptDHZjG2pmxfKVcO7XHEwdJ8tuEBmtShhhGPxwDTN3EcptK6CH/+\\\n",
       "qJqtzcIrO8l07hk1uSZsLQ/xl49qvvQHKEvrIvzloxq2ljcJL8PZV5rPoKQ2Sk3YuTjUhqGkLkqa\\\n",
       "14jPiAQIRWz+XVLPO2WhhnWhNhx1Zm5FbErr7IbhJOf5UdsZqqoJOyEWaph1V9/w39Z6CuGG3ljs\\\n",
       "nlDEdobU6qPOf0NR50IfapgAUhux2VcX5dOaKKFIwxT5Q4RXbH+xXlV99NhN4IjtywAqw/BZTYRQ\\\n",
       "FKpDUSpDNsGwU0vz2Zhti4OvXiw+DnV8D8TG+ZvWR5wLRijqnB8R26YmHOXdJueWDfz5o2r+sLWa\\\n",
       "/+wNNgkvA69p4DETp+6HolARjLKnLhrfBoYztf6DijD76pzwqm84j0MNB71TkolhNM7+DUVs/r03\\\n",
       "RH3E5oOKMDVhZ+i6X4Yn4e9i2waFO2qP6EPNpXURCnckhler+4Ij3pccnCZxNGjrDc5kj0myZbCj\\\n",
       "KkJ5w03ngiwv3x+Uxuhu/oSJHSenWUztk0x+5pd7B5bscSZafFIZprzhpk1BhofvD0pjbPckPqwI\\\n",
       "s7s24gzdWSZn5fi47cwMpx0Nkz4sw+CkZJMeaV6yk5zPgU3tk8zgbGfG1r66KDWhCLkpHvpleOmd\\\n",
       "5sEwnItMJNrw2S/DCbVkrzNhxGM6j1lm4wQLy8AZ1jEgYIHHcqbKB7wm6V6Detsm2TJI9VoUZFgM\\\n",
       "7uzHZ9iUBKPx3o7fciYbxO9FGc67fb/ZGFaxSRJ90p2b6DUhOx6oBo1j4kaTn+YXmsSJHc4lx8LZ\\\n",
       "j0HD569w9t0rzeL0bB+GAXURG8uAJMuIT3DwWjQck8Z3g0faG2taR2xyR2NLHbFeVfPnNWfi/O1i\\\n",
       "9yyNhpVi/aWWk1oSj5GJM3wYsKBzwMRrOZ9781sGXZMtzsj2cXHv5HjPHWBCjyQGZHn5vDpCaTBK\\\n",
       "Tdg5N3qkerj61BQsw2BPbYT6qPO3zAmYDMn20T/Ty75glP4ZHnqneTivm59gFAzDoLLepnuKRQRn\\\n",
       "wsbJDRM2wJnYURa0OSnZJGIb9E730DnJ+RzY2O5JCZMtamtrmdw380u/JsF5XXoNnM9m0tjTar4v\\\n",
       "gPO7+49oX0fT8TiJQwHW4HD+uD1SPXT2m+ysdj6XEhsmjM1O/LQqTLrPPOIPMcf2lZ0U25fJrFNT\\\n",
       "4/sqyPLy8f4ItWGbwZ198W/iiM0A+7Q6QrrP5JoBqQzO9rKjKhIf0uiR6iHTZ1IRsjFDdeRnJzN/\\\n",
       "SDqnd/Kypy5K7zSLUV397K2zyUt1AuekZJPcZIuCLOcriizglAwvp2Z56RxwwnZCDz91ETg53cM5\\\n",
       "Xf0Mz/VRHbYZ3XAxys/wMH9IOqMafu+abPF5TZST0yyGdPZxcpqHTL+BaRhk+Ez6Z3oZmOUhO8mi\\\n",
       "KuR80uxrJ/kY1yPA5LwkIrZNaW0UG4NzunhJ91ukeZyA7Z1mkeYz6eQziWKT7nU+P9Q9xXSGqyJh\\\n",
       "glGTTn6DHw5JI2LT8EFZi/1hm77pHh4YlcWEvACfVEXonGTSM9VL12Tnw82ZfgufZTAs188FeQE+\\\n",
       "r42Q7DHJT7eoDkexbcgNmAQjTi93QJaH3mkmu2ujZPmcwA5FIdsP6T4T27bJ8pv0SDHxWAZnd/ZQ\\\n",
       "E4HuySbJHgPLsEn2mPRNd75hpCDdojbSELSpFj7TwDIh0+vcf0vzOsNwuckWA7M8VIVtTk63yAmY\\\n",
       "1IbCnJrl56QUk7oIdE8xyfCZ+C2DZI/Ti++d5sy+zE4ymX1qGrnJzszRk9MsTk730iPFw3f6pTCx\\\n",
       "Z4BOSSbFFWHOb/jgbuy8La+3G6bdm/zw9DRm5qdQkOVlR2WEmlCU7CTnm1ku6h1gbzDKpJ4BaiM2\\\n",
       "53f3x7e7uzbCWTk+MvwmY7v5CdtOYIzu6qdTksmumghjuyUR8Dpv4rymkTB0F5sxWFwRZpC/ign5\\\n",
       "Rz4LsUeqB59Jwmuq+b7O70AfYobjM8B0D6zBlxkfPl6+C3Hbtm306dPnxPsuxF3b2ZnU/YT8LsTV\\\n",
       "725j7MA+wIn1XYj7dm47qveB3PRdiMfjPTAFWIPj8Y/bVidq7Sdq3XDi1n6i1g3HZ+2axCEiIq6k\\\n",
       "ABMREVfSEKKIiLiSemAiIuJKCjAREXElBZiIiLiSAkxERFzJtQH2xRdfcO2119K3b19yc3MZPnw4\\\n",
       "r732GgChUIg77riDkSNH0r17d/r378/s2bPZuXNnwjaCwSA//vGP6dOnD927d+db3/oWu3btSlhn\\\n",
       "586dzJgxg+7du9OnTx9+8pOfUF9fn7DOa6+9xtixY8nNzWXw4ME89thj7VZ7czfccAOZmZk89NBD\\\n",
       "CY+7sfa21P3hhx8yc+ZMevbsSbdu3Tj33HPZunWrq+uGQ9deVVXFj3/8YwYMGEDXrl0566yzePjh\\\n",
       "hxO24cbaBw0aRGZmZouf6dOnx9d59NFHOf3008nNzWXs2LEUFRUd93Xfe++9nH/++eTl5dG3b19m\\\n",
       "zJjBli1bErZh2zaLFi2ioKCArl278vWvf5333nsvYZ3y8nLmzJlDz5496dmzJ3PmzKG8vDxhnXff\\\n",
       "fZfJkyfTtWtXTj31VBYvXoxtd4y5f64MsPLyciZOnIht2/zlL39h/fr1/PKXvyQnx/mKmJqaGt56\\\n",
       "6y3mz5/P6tWreeqpp9i1axeXXnop4XDj95TdcsstFBYWsnTpUl588UUqKyuZMWMGkYjz7QGRSIQZ\\\n",
       "M2ZQVVXFiy++yNKlS1m2bBm33nprfBvbt29n+vTpDBs2jFdffZUf/vCH/OQnP+H5559vl9qbev75\\\n",
       "5/n3v/9Nt27dWixzW+1tqXv79u1MnDiRXr16sWzZMtatW8dtt91GSkqKa+tua+233nor//jHP/if\\\n",
       "//kf1q9fz49+9CMWLFjAM8884+raV61axdatW+M/q1evxjAMLr74YgD+9re/cfPNN/OjH/2IV199\\\n",
       "lWHDhjFt2rSEN6vHY92vvfYas2bNYsWKFSxbtgyPx8PFF19MWVlZfBsPPPAADz/8MIsXL+aVV14h\\\n",
       "JyeHSy65hMrKyvg6s2fP5u233+bZZ5/l2Wef5e233+aaa66JL9+/fz+XXHIJXbp04ZVXXuGee+7h\\\n",
       "oYce4je/+c0xqftwuXIa/V133cXatWtZsWJFm5/z/vvvM2LECNauXcvAgQOpqKjglFNO4eGHH46/\\\n",
       "q/n0008ZNGgQzz77LOPHj+ef//wn06dPZ/PmzfTo0QOAP//5z3z/+9+nuLiY9PR07rjjDgoLC3nz\\\n",
       "zTfj+7r++ut5//33+ec//3l0C6fttX/yySdMnDiRv//971x66aXMmTOH66+/HsCVtbel7tmzZ2MY\\\n",
       "Br///e9bXe7GuqFttZ9zzjlceOGF/PSnP40/NnnyZAYOHMiSJUtcW3tzv/rVr3jwwQfZunUrgUCA\\\n",
       "8ePHM3DgQB588MH4OkOHDuWiiy7ijjvuOG7rbq6qqoqePXvy5JNPMmnSJGzbpqCggKuvvpr58+cD\\\n",
       "zhcZ5+fnc/fdd3PVVVexdetWhg8fzksvvcSIESMAWLduHZMmTWLjxo3k5+ezdOlS7rzzTj744IP4\\\n",
       "fpcsWcJjjz3Gli1bMIzWvkL6q+PKHtjy5cs588wzueqqqzjllFMYPXo0v/vd7w7arY2968jMzARg\\\n",
       "06ZNhEIhxo0bF1+nR48e9O/fn/Xr1wOwYcMG+vfvHz+pAcaPH08wGGTTpk3xdZpuI7bOf/7zH0Kh\\\n",
       "lv+G15FqS+3hcJjZs2czf/58+vfv32Ibbqz9UHVHo1Feeukl+vfvz9SpU+nbty/nn38+f/vb31xd\\\n",
       "d1tqBxgxYgQvvfQSn376KQDr16/nnXfeYfz48a6uvSnbtnniiSeYMWMGgUCA+vp6Nm3a1KI948aN\\\n",
       "i9d0PNbdmqqqKqLRaPz6tmPHDnbv3p3Q5kAgwMiRIxPqTk1NZfjw4fF1RowYQUpKSsI655xzTsJ+\\\n",
       "x48fz+eff86OHTuOeq2Hy5UBtn37dpYuXUrv3r157rnnuPbaa1mwYMEB33nX19dz2223ccEFF3DS\\\n",
       "SScBsGfPHizLavHtzDk5OezZsye+TvOhuezsbCzLOug6OTk5hMNhSktLj0q9TbWl9kWLFtGpUydm\\\n",
       "zZrV6jbcWPuh6i4pKaGqqip+b+D//u//mDp1KldffXW85+LGuttSO8DixYs57bTTOO200+jcuTNf\\\n",
       "//rXufPOO7ngggtcXXtTq1atYseOHXz3u98FoLS0lEgk0mp7mrb3eKu7NTfffDODBg1i2LBhAOze\\\n",
       "vTvexqaa152dnZ3QizIMg86dOx+y7tiy9uY59CodTzQa5YwzzuCOO+4AYPDgwWzbto1HH32UOXPm\\\n",
       "JKwbDoeZM2cOFRUVPP300+3R3KPqULWvWbOGp556ijVr1rRzS4+uQ9UdjTrfbD558mTmzZsHwOmn\\\n",
       "n86mTZv4/e9/z8SJE9ut7UeqLef7b3/7WzZs2MDTTz9NXl4eRUVF3H777fTs2ZOvfe1r7dn8o+bx\\\n",
       "xx9n6NChDBo0qL2b8pU6VN0//elPef3113nppZewrI71DfjHmit7YLm5uS2Gxvr16xcfPokJh8PM\\\n",
       "mjWLd999l+eff55OnTrFl3Xp0oVIJNLi3VNJSQldunSJr1NSUpKwPPau72DrlJSU4PF4jsm/vXOo\\\n",
       "2l977TW++OIL+vfvT3Z2NtnZ2ezcuZM77riDAQMGxNvsttoPVXd2djYej+eg67ixbjh07bW1tdx1\\\n",
       "110sWLCASZMmcdpppzFnzhy++c1vxmefurX2pvt48cUXueKKK+KPxXpJrbWnaXuPt7qbuuWWW3ju\\\n",
       "uedYtmwZvXv3jj+em5sbf37z7TWtqbS0NGEo2rZt9u7de8i6Y8vamysDbMSIEXz44YcJj3344Yfk\\\n",
       "5eXFfw+FQlx11VW8++67FBYWxv+gMUOGDMHr9bJq1ar4Y7t27Yrf2AQYNmwYW7duTZhyu2rVKvx+\\\n",
       "P0OGDImv03QbsXXOOOMMvN6j/y+xHqr22bNns3btWtasWRP/6datG3Pnzo3PmHJj7Yeq2+fzMXTo\\\n",
       "UIqLiw+4jhvrhkPXHgqFCIVCLd59W5YV75m6tfaYp556Cr/fz9SpU+OP+Xw+hgwZ0mp7YjUdj3XH\\\n",
       "3HTTTfHw6tevX8KyXr16kZubm9Dmuro61q1bl1B3VVUVGzZsiK+zYcMGqqurE9ZZt24ddXV18XVW\\\n",
       "rVpFt27d6NWr11Gt9ctw5b/I3KNHDxYvXoxpmnTt2pXVq1fz85//nBtvvJEzzzyTcDjMFVdcwZtv\\\n",
       "vskf//hH0tLSqK6uprq6Gsuy8Hq9JCUl8cUXX/Doo4/GZyXeeOONpKens2DBAkzTpHfv3hQWFvLK\\\n",
       "K68wcOBA3n//febPn8+0adO48MILATj55JN54IEHKCkpIS8vjxdffJFf//rX/PznP6egoOArrz0l\\\n",
       "JYWcnJyEn9/+9reMHTuWSZMmAbiy9kPVDZCVlcU999xDly5dSE9PZ9myZTzwwAMsXLiQU045xZV1\\\n",
       "t6V2v9/PmjVr4pNYbNtm+fLl3HvvvVxzzTWcddZZrq0dnF7Bddddx8SJE7nooosSlqWlpbFo0SK6\\\n",
       "du1KUlISS5YsoaioiN/85jdkZGQct3XPnz+fZ555hj/84Q/06NEjfn0DJ9gNwyASiXD//ffTt29f\\\n",
       "IpEIt956K7t37+b+++/H7/fTuXNn3njjDZ599lkGDRrErl27uPHGGxk6dGh8Kn3fvn353//9XzZv\\\n",
       "3kx+fj7r1q3jZz/7GTfccEPC5I92U15ebrvx589//rM9cOBA2+/323379rXvueceu6yszC4vL7ff\\\n",
       "eustG2j15+GHH45vY/fu3fbVV19tZ2Vl2YFAwJ44caL9zjvvJOxn8+bN9sSJE+1AIGBnZWXZc+bM\\\n",
       "sXfv3p2wzgsvvGCffvrpts/ns3v27Gnfe++97VZ7az95eXn23XffnfCYG2tvS90PP/yw3bdvXzsp\\\n",
       "KckeMGCA/eijj7q+7rbUvnXrVvuyyy6zu3XrZiclJdn5+fn23XffnbCOW2tftmyZDdgvv/xyq8t/\\\n",
       "9atf2Xl5ebbP57MHDx5sL1++/Lj4mx+s7gNd32666ab4OmVlZfZNN91k5+bm2n6/3x45cqRdVFSU\\\n",
       "sJ3t27fb06dPt9PS0uy0tDR7+vTp9vbt2xPWWbt2rX3OOefYfr/fzs3NtW+++eaDXm++yh9Xfg5M\\\n",
       "RETElffAREREFGAiIuJKCjAREXElBZiIiLiSAkxERFzp/wNMJF+oJCmOtwAAAABJRU5ErkJggg==\\\n",
       "\"\n",
       "\n",
       "\n",
       "    /* set a timeout to make sure all the above elements are created before\n",
       "       the object is initialized. */\n",
       "    setTimeout(function() {\n",
       "        animb4fd88d6b8e44267a098c6448f472b98 = new Animation(frames, img_id, slider_id, 500.0,\n",
       "                                 loop_select_id);\n",
       "    }, 0);\n",
       "  })()\n",
       "</script>\n"
      ],
      "text/plain": [
       "<IPython.core.display.HTML object>"
      ]
     },
     "execution_count": 10,
     "metadata": {},
     "output_type": "execute_result"
    }
   ],
   "source": [
    "#: display animation\n",
    "HTML(anim.to_jshtml())"
   ]
  },
  {
   "cell_type": "markdown",
   "metadata": {
    "slideshow": {
     "slide_type": "slide"
    }
   },
   "source": [
    "## Visualize the distribution\n",
    "\n",
    "- We can plot the distribution of the sample median with a histogram.\n",
    "- This is an approximation using 128 samples.\n",
    "- Sample median is usually in the range [62,000, 70,000]."
   ]
  },
  {
   "cell_type": "code",
   "execution_count": 11,
   "metadata": {},
   "outputs": [
    {
     "data": {
      "image/png": "[encoded data removed]",
      "text/plain": [
       "<Figure size 432x288 with 1 Axes>"
      ]
     },
     "metadata": {},
     "output_type": "display_data"
    }
   ],
   "source": [
    "#: plot a histogram\n",
    "Table().with_column('Sample Medians', sample_medians).hist(bins=15, unit='$')\n",
    "\n",
    "# show each sample median as an 'x'\n",
    "plt.scatter(sample_medians, np.zeros_like(sample_medians), marker='x', s=80, alpha=.5).set_zorder(2)"
   ]
  },
  {
   "cell_type": "markdown",
   "metadata": {
    "slideshow": {
     "slide_type": "slide"
    }
   },
   "source": [
    "## The problem\n",
    "\n",
    "- Drawing new samples like this is costly (why not just do a census?)\n",
    "- Often, we can't ask for new samples from the population.\n",
    "- The bootstrap:\n",
    "    - the sample itself looks like the distribution.\n",
    "    - so re-sampling from the sample is like drawing from the distribution."
   ]
  },
  {
   "cell_type": "code",
   "execution_count": 12,
   "metadata": {},
   "outputs": [],
   "source": [
    "#: a trick to plot the sample and the distribution side-by-side\n",
    "bins=np.arange(10_000, 300_000, 10_000)\n",
    "labels = ['Population']*population.num_rows + ['Sample']*sample_500.num_rows\n",
    "together = population.append(sample_500).with_column('Label', labels)\n",
    "# together.show()"
   ]
  },
  {
   "cell_type": "code",
   "execution_count": 13,
   "metadata": {},
   "outputs": [
    {
     "data": {
      "image/png": "[encoded data removed]",
      "text/plain": [
       "<Figure size 432x288 with 1 Axes>"
      ]
     },
     "metadata": {},
     "output_type": "display_data"
    }
   ],
   "source": [
    "#: plot\n",
    "together.hist('Total Pay', group='Label', bins=bins)"
   ]
  },
  {
   "cell_type": "markdown",
   "metadata": {
    "slideshow": {
     "slide_type": "slide"
    }
   },
   "source": [
    "## The bootstrap\n",
    "\n",
    "- We have a sample of 500 salaries, we want another.\n",
    "- Can't draw from the population.\n",
    "- But the original sample looks like the population.\n",
    "- So we re-sample the sample."
   ]
  },
  {
   "cell_type": "markdown",
   "metadata": {
    "slideshow": {
     "slide_type": "slide"
    }
   },
   "source": [
    "## Discussion question\n",
    "\n",
    "Which of these effectively resamples the sample, simulating the drawing of a new sample of 500 people?\n",
    "\n",
    "- A) `np.random.choice(sample_500, 500, replace=True)`\n",
    "- B) `np.random.choice(sample_500, 500, replace=False)`\n",
    "- C) `sample_500.sample(with_replacement=True)`\n",
    "- D) `sample_500.sample(with_replacement=False)`"
   ]
  },
  {
   "cell_type": "markdown",
   "metadata": {
    "slideshow": {
     "slide_type": "slide"
    }
   },
   "source": [
    "## Answer\n",
    "\n",
    "- If we sample without replacement, we're just shuffling.\n",
    "- So we sample *with* replacement to get something new. (C)"
   ]
  },
  {
   "cell_type": "markdown",
   "metadata": {
    "slideshow": {
     "slide_type": "slide"
    }
   },
   "source": [
    "## Running the bootstrap\n",
    "\n",
    "- Now we can simulate new samples by bootstrapping\n",
    "- I.e., we sample with replacement from our original sample"
   ]
  },
  {
   "cell_type": "code",
   "execution_count": 14,
   "metadata": {},
   "outputs": [],
   "source": [
    "n_resamples = 5000\n",
    "\n",
    "boot_medians = make_array()\n",
    "for i in range(n_resamples):\n",
    "    # perform bootstrap resampling\n",
    "    resample = sample_500.sample(500, with_replacement=True)\n",
    "    \n",
    "    # compute the median\n",
    "    median = np.median(resample.column('Total Pay'))\n",
    "    \n",
    "    # tack it on to our list of medians\n",
    "    boot_medians = np.append(boot_medians, median)"
   ]
  },
  {
   "cell_type": "markdown",
   "metadata": {
    "slideshow": {
     "slide_type": "slide"
    }
   },
   "source": [
    "## Bootstrap distribution of the sample median\n",
    "\n",
    "- Most of the time, the sample median is in the range [60,000, 70,000].\n",
    "- Similar to what we found before.\n",
    "- The population median (red dot) is near the middle."
   ]
  },
  {
   "cell_type": "code",
   "execution_count": 15,
   "metadata": {},
   "outputs": [
    {
     "data": {
      "image/png": "[encoded data removed]",
      "text/plain": [
       "<Figure size 432x288 with 1 Axes>"
      ]
     },
     "metadata": {},
     "output_type": "display_data"
    }
   ],
   "source": [
    "#: visualize\n",
    "Table().with_column('Bootstrap Medians', boot_medians).hist(unit='$')\n",
    "plt.scatter(population_median, 0, color='red', s=80).set_zorder(2)"
   ]
  },
  {
   "cell_type": "markdown",
   "metadata": {
    "slideshow": {
     "slide_type": "slide"
    }
   },
   "source": [
    "## Bootstrap rules of thumb\n",
    "\n",
    "- The bootstrap is an awesome tool:\n",
    "    - We used just one sample to get the (approximate) distribution of the sample median.\n",
    "- But it has limitations:\n",
    "    - Requires sample to be good approximation of population.\n",
    "             - A large random sample will look like the population, by the Law of Averages/Large Numbers.\n",
    "    - Not good for sensitive parameters, like maximum.\n",
    "             - Don't want the parameter to be influenced by rare values in the population.\n",
    "    - Works best when probability distribution of the statistic is roughly bell-shaped.\n",
    "    - Can be slow (recommend 10,000+ bootstrap samples)"
   ]
  },
  {
   "cell_type": "markdown",
   "metadata": {
    "slideshow": {
     "slide_type": "slide"
    }
   },
   "source": [
    "## Example: bootstrapping in the German tank problem, version 1\n",
    "\n",
    "- Suppose the population consists of 400 tanks $\\leftarrow$ **parameter**\n",
    "- We observe a random sample of 30 tanks\n",
    "- Our estimator will be the *twice the sample mean* $\\leftarrow$ **statistic**"
   ]
  },
  {
   "cell_type": "code",
   "execution_count": 19,
   "metadata": {},
   "outputs": [
    {
     "data": {
      "text/html": [
       "<table border=\"1\" class=\"dataframe\">\n",
       "    <thead>\n",
       "        <tr>\n",
       "            <th>Serial Number</th>\n",
       "        </tr>\n",
       "    </thead>\n",
       "    <tbody>\n",
       "        <tr>\n",
       "            <td>1            </td>\n",
       "        </tr>\n",
       "        <tr>\n",
       "            <td>2            </td>\n",
       "        </tr>\n",
       "        <tr>\n",
       "            <td>3            </td>\n",
       "        </tr>\n",
       "        <tr>\n",
       "            <td>4            </td>\n",
       "        </tr>\n",
       "        <tr>\n",
       "            <td>5            </td>\n",
       "        </tr>\n",
       "        <tr>\n",
       "            <td>6            </td>\n",
       "        </tr>\n",
       "        <tr>\n",
       "            <td>7            </td>\n",
       "        </tr>\n",
       "        <tr>\n",
       "            <td>8            </td>\n",
       "        </tr>\n",
       "        <tr>\n",
       "            <td>9            </td>\n",
       "        </tr>\n",
       "        <tr>\n",
       "            <td>10           </td>\n",
       "        </tr>\n",
       "    </tbody>\n",
       "</table>\n",
       "<p>... (390 rows omitted)</p>"
      ],
      "text/plain": [
       "Serial Number\n",
       "1\n",
       "2\n",
       "3\n",
       "4\n",
       "5\n",
       "6\n",
       "7\n",
       "8\n",
       "9\n",
       "10\n",
       "... (390 rows omitted)"
      ]
     },
     "execution_count": 19,
     "metadata": {},
     "output_type": "execute_result"
    }
   ],
   "source": [
    "#: 400 tanks\n",
    "tank_population = Table().with_column('Serial Number', np.arange(400)+1)\n",
    "tank_population"
   ]
  },
  {
   "cell_type": "code",
   "execution_count": 18,
   "metadata": {
    "scrolled": true
   },
   "outputs": [
    {
     "data": {
      "text/html": [
       "<table border=\"1\" class=\"dataframe\">\n",
       "    <thead>\n",
       "        <tr>\n",
       "            <th>Serial Number</th>\n",
       "        </tr>\n",
       "    </thead>\n",
       "    <tbody>\n",
       "        <tr>\n",
       "            <td>151          </td>\n",
       "        </tr>\n",
       "        <tr>\n",
       "            <td>207          </td>\n",
       "        </tr>\n",
       "        <tr>\n",
       "            <td>192          </td>\n",
       "        </tr>\n",
       "        <tr>\n",
       "            <td>244          </td>\n",
       "        </tr>\n",
       "        <tr>\n",
       "            <td>386          </td>\n",
       "        </tr>\n",
       "        <tr>\n",
       "            <td>173          </td>\n",
       "        </tr>\n",
       "        <tr>\n",
       "            <td>95           </td>\n",
       "        </tr>\n",
       "        <tr>\n",
       "            <td>281          </td>\n",
       "        </tr>\n",
       "        <tr>\n",
       "            <td>353          </td>\n",
       "        </tr>\n",
       "        <tr>\n",
       "            <td>199          </td>\n",
       "        </tr>\n",
       "    </tbody>\n",
       "</table>\n",
       "<p>... (20 rows omitted)</p>"
      ],
      "text/plain": [
       "Serial Number\n",
       "151\n",
       "207\n",
       "192\n",
       "244\n",
       "386\n",
       "173\n",
       "95\n",
       "281\n",
       "353\n",
       "199\n",
       "... (20 rows omitted)"
      ]
     },
     "execution_count": 18,
     "metadata": {},
     "output_type": "execute_result"
    }
   ],
   "source": [
    "#: sample 30 tanks\n",
    "np.random.seed(48)\n",
    "tank_sample = tank_population.sample(30, with_replacement=False)\n",
    "tank_sample"
   ]
  },
  {
   "cell_type": "code",
   "execution_count": 20,
   "metadata": {
    "scrolled": true
   },
   "outputs": [
    {
     "data": {
      "text/plain": [
       "415.1333333333333"
      ]
     },
     "execution_count": 20,
     "metadata": {},
     "output_type": "execute_result"
    }
   ],
   "source": [
    "2*tank_sample.column('Serial Number').mean()"
   ]
  },
  {
   "cell_type": "markdown",
   "metadata": {
    "slideshow": {
     "slide_type": "slide"
    }
   },
   "source": [
    "## Running the bootstrap"
   ]
  },
  {
   "cell_type": "code",
   "execution_count": 21,
   "metadata": {},
   "outputs": [],
   "source": [
    "n_resamples = 5000\n",
    "\n",
    "boot_doubled_means = make_array()\n",
    "for i in range(n_resamples):\n",
    "    # resample\n",
    "    resample = tank_sample.sample(with_replacement=True)\n",
    "    \n",
    "    # compute doubled mean\n",
    "    boot_doubled_mean = 2*resample.column('Serial Number').mean()\n",
    "    \n",
    "    boot_doubled_means = np.append(boot_doubled_means, boot_doubled_mean)"
   ]
  },
  {
   "cell_type": "markdown",
   "metadata": {
    "slideshow": {
     "slide_type": "slide"
    }
   },
   "source": [
    "## Visualize\n",
    "\n",
    "- The bootstrap distribution surrounds the true parameter, 400."
   ]
  },
  {
   "cell_type": "code",
   "execution_count": 22,
   "metadata": {},
   "outputs": [
    {
     "data": {
      "text/plain": [
       "<matplotlib.collections.PathCollection at 0x11ed88978>"
      ]
     },
     "execution_count": 22,
     "metadata": {},
     "output_type": "execute_result"
    },
    {
     "data": {
      "image/png": "[encoded data removed]",
      "text/plain": [
       "<Figure size 432x288 with 1 Axes>"
      ]
     },
     "metadata": {},
     "output_type": "display_data"
    }
   ],
   "source": [
    "Table().with_column('Bootstrap Max', boot_doubled_means).hist(bins=np.arange(250, 550, 10))\n",
    "plt.scatter(400, 0, color='red')"
   ]
  },
  {
   "cell_type": "markdown",
   "metadata": {
    "slideshow": {
     "slide_type": "slide"
    }
   },
   "source": [
    "## Example: bootstrapping in the German tank problem, version 2\n",
    "\n",
    "- Suppose the population consists of 400 tanks $\\leftarrow$ **parameter**\n",
    "- We observe a random sample of 30 tanks\n",
    "- Our estimator will be the *maximum in the sample* $\\leftarrow$ **statistic**"
   ]
  },
  {
   "cell_type": "code",
   "execution_count": null,
   "metadata": {},
   "outputs": [],
   "source": [
    "#: 400 tanks\n",
    "tank_population = Table().with_column('Serial Number', np.arange(400)+1)"
   ]
  },
  {
   "cell_type": "code",
   "execution_count": 25,
   "metadata": {},
   "outputs": [
    {
     "data": {
      "text/html": [
       "<table border=\"1\" class=\"dataframe\">\n",
       "    <thead>\n",
       "        <tr>\n",
       "            <th>Serial Number</th>\n",
       "        </tr>\n",
       "    </thead>\n",
       "    <tbody>\n",
       "        <tr>\n",
       "            <td>151          </td>\n",
       "        </tr>\n",
       "        <tr>\n",
       "            <td>207          </td>\n",
       "        </tr>\n",
       "        <tr>\n",
       "            <td>192          </td>\n",
       "        </tr>\n",
       "        <tr>\n",
       "            <td>244          </td>\n",
       "        </tr>\n",
       "        <tr>\n",
       "            <td>386          </td>\n",
       "        </tr>\n",
       "        <tr>\n",
       "            <td>173          </td>\n",
       "        </tr>\n",
       "        <tr>\n",
       "            <td>95           </td>\n",
       "        </tr>\n",
       "        <tr>\n",
       "            <td>281          </td>\n",
       "        </tr>\n",
       "        <tr>\n",
       "            <td>353          </td>\n",
       "        </tr>\n",
       "        <tr>\n",
       "            <td>199          </td>\n",
       "        </tr>\n",
       "    </tbody>\n",
       "</table>\n",
       "<p>... (20 rows omitted)</p>"
      ],
      "text/plain": [
       "Serial Number\n",
       "151\n",
       "207\n",
       "192\n",
       "244\n",
       "386\n",
       "173\n",
       "95\n",
       "281\n",
       "353\n",
       "199\n",
       "... (20 rows omitted)"
      ]
     },
     "execution_count": 25,
     "metadata": {},
     "output_type": "execute_result"
    }
   ],
   "source": [
    "#: sample 30 tanks\n",
    "np.random.seed(48)\n",
    "tank_sample = tank_population.sample(30, with_replacement=False)\n",
    "tank_sample"
   ]
  },
  {
   "cell_type": "code",
   "execution_count": 24,
   "metadata": {
    "scrolled": true
   },
   "outputs": [
    {
     "data": {
      "text/plain": [
       "386"
      ]
     },
     "execution_count": 24,
     "metadata": {},
     "output_type": "execute_result"
    }
   ],
   "source": [
    "tank_sample.column('Serial Number').max()"
   ]
  },
  {
   "cell_type": "markdown",
   "metadata": {
    "slideshow": {
     "slide_type": "slide"
    }
   },
   "source": [
    "## Running the bootstrap"
   ]
  },
  {
   "cell_type": "code",
   "execution_count": 26,
   "metadata": {},
   "outputs": [],
   "source": [
    "n_resamples = 5000\n",
    "\n",
    "boot_maxes = make_array()\n",
    "for i in range(n_resamples):\n",
    "    # resample\n",
    "    resample = tank_sample.sample(with_replacement=True)\n",
    "    \n",
    "    # compute max\n",
    "    boot_max = resample.column('Serial Number').max()\n",
    "    \n",
    "    boot_maxes = np.append(boot_maxes, boot_max)"
   ]
  },
  {
   "cell_type": "markdown",
   "metadata": {
    "slideshow": {
     "slide_type": "slide"
    }
   },
   "source": [
    "## Visualize\n",
    "\n",
    "- The bootstrap distribution doesn't surround the true parameter, 400. Why?"
   ]
  },
  {
   "cell_type": "code",
   "execution_count": 27,
   "metadata": {
    "scrolled": true
   },
   "outputs": [
    {
     "data": {
      "text/plain": [
       "<matplotlib.collections.PathCollection at 0x11be05f98>"
      ]
     },
     "execution_count": 27,
     "metadata": {},
     "output_type": "execute_result"
    },
    {
     "data": {
      "image/png": "[encoded data removed]",
      "text/plain": [
       "<Figure size 432x288 with 1 Axes>"
      ]
     },
     "metadata": {},
     "output_type": "display_data"
    }
   ],
   "source": [
    "Table().with_column('Bootstrap Max', boot_maxes).hist(bins=np.arange(300, 405, 5))\n",
    "plt.scatter(400, 0, color='red')"
   ]
  },
  {
   "cell_type": "markdown",
   "metadata": {
    "slideshow": {
     "slide_type": "slide"
    }
   },
   "source": [
    "# Confidence Intervals"
   ]
  },
  {
   "cell_type": "markdown",
   "metadata": {},
   "source": [
    "## Confidence intervals\n",
    "\n",
    "- Bootstrapping approximates the distribution of an estimate\n",
    "- The true parameter typically lies in the bulk of the distribution\n",
    "- We can give an interval that we are confident that the correct value lies within"
   ]
  },
  {
   "cell_type": "markdown",
   "metadata": {
    "slideshow": {
     "slide_type": "slide"
    }
   },
   "source": [
    "## A 95% confidence interval for median salary\n",
    "\n",
    "- Recall our bootstrap distribution of the sample median\n",
    "- Suppose by \"bulk\", we mean containing the middle 95% of the area."
   ]
  },
  {
   "cell_type": "code",
   "execution_count": 28,
   "metadata": {},
   "outputs": [
    {
     "data": {
      "image/png": "[encoded data removed]",
      "text/plain": [
       "<Figure size 432x288 with 1 Axes>"
      ]
     },
     "metadata": {},
     "output_type": "display_data"
    }
   ],
   "source": [
    "#: visualize\n",
    "Table().with_column('Bootstrap Medians', boot_medians).hist()"
   ]
  },
  {
   "cell_type": "markdown",
   "metadata": {
    "slideshow": {
     "slide_type": "slide"
    }
   },
   "source": [
    "## Finding the endpoints\n",
    "\n",
    "- We want to find two points, $x$ and $y$, such that the area:\n",
    "    - to the left of $x$ is about 2.5%\n",
    "    - to the right of $y$ is about 2.5%\n",
    "- Then the interval $[x,y]$ will have about 95% of the total area\n",
    "- I.e., we want the 2.5th percentile and 97.5th percentile."
   ]
  },
  {
   "cell_type": "markdown",
   "metadata": {
    "slideshow": {
     "slide_type": "slide"
    }
   },
   "source": [
    "## Computing percentiles\n",
    "\n",
    "- Use `percentile()` function:\n",
    "    - First argument: percentile to find, a number in [0, 100]\n",
    "    - Second argument: array of values"
   ]
  },
  {
   "cell_type": "code",
   "execution_count": 29,
   "metadata": {},
   "outputs": [
    {
     "data": {
      "text/plain": [
       "66590.0"
      ]
     },
     "execution_count": 29,
     "metadata": {},
     "output_type": "execute_result"
    }
   ],
   "source": [
    "left = percentile(2.5, boot_medians)\n",
    "left"
   ]
  },
  {
   "cell_type": "code",
   "execution_count": 30,
   "metadata": {},
   "outputs": [
    {
     "data": {
      "text/plain": [
       "73243.0"
      ]
     },
     "execution_count": 30,
     "metadata": {},
     "output_type": "execute_result"
    }
   ],
   "source": [
    "right = percentile(97.5, boot_medians)\n",
    "right"
   ]
  },
  {
   "cell_type": "code",
   "execution_count": 31,
   "metadata": {},
   "outputs": [
    {
     "data": {
      "text/plain": [
       "[66590.0, 73243.0]"
      ]
     },
     "execution_count": 31,
     "metadata": {},
     "output_type": "execute_result"
    }
   ],
   "source": [
    "#: our interval is\n",
    "[left, right]"
   ]
  },
  {
   "cell_type": "markdown",
   "metadata": {
    "slideshow": {
     "slide_type": "slide"
    }
   },
   "source": [
    "## Visualizing our 95% confidence interval\n",
    "\n",
    "- Let's draw the interval on the histogram.\n",
    "- 95% of the bootstrap medians fell into this interval."
   ]
  },
  {
   "cell_type": "code",
   "execution_count": 32,
   "metadata": {},
   "outputs": [
    {
     "data": {
      "text/plain": [
       "[<matplotlib.lines.Line2D at 0x11c03c668>]"
      ]
     },
     "execution_count": 32,
     "metadata": {},
     "output_type": "execute_result"
    },
    {
     "data": {
      "image/png": "[encoded data removed]",
      "text/plain": [
       "<Figure size 432x288 with 1 Axes>"
      ]
     },
     "metadata": {},
     "output_type": "display_data"
    }
   ],
   "source": [
    "#: visualize\n",
    "Table().with_column('Bootstrap Medians', boot_medians).hist()\n",
    "plt.plot([left, right], [0, 0], color='lime', linewidth=10)"
   ]
  },
  {
   "cell_type": "markdown",
   "metadata": {
    "slideshow": {
     "slide_type": "slide"
    }
   },
   "source": [
    "## Discussion question\n",
    "\n",
    "Would an 80% confidence interval be bigger, smaller, or the same size?\n",
    "\n",
    "- A) Bigger\n",
    "- B) Smaller\n",
    "- C) The same size"
   ]
  },
  {
   "cell_type": "markdown",
   "metadata": {
    "slideshow": {
     "slide_type": "slide"
    }
   },
   "source": [
    "## Discussion Question\n",
    "\n",
    "Suppose you had the true distribution of the sample median and used it to compute a 100% confidence interval. And suppose you compute a 100% confidence interval using the bootstrap. Which is bigger?\n",
    "\n",
    "- A) The first confidence interval (from the true distribution).\n",
    "- B) The second confidence interval (from the boostrap).\n",
    "- C) They're the same size."
   ]
  },
  {
   "cell_type": "markdown",
   "metadata": {
    "slideshow": {
     "slide_type": "slide"
    }
   },
   "source": [
    "## Interpreting confidence intervals\n",
    "\n",
    "- 95% of our bootstrap medians fell within this interval\n",
    "- We're pretty confident that the true median does, too.\n",
    "- How confident should we be about this?"
   ]
  },
  {
   "cell_type": "markdown",
   "metadata": {
    "slideshow": {
     "slide_type": "slide"
    }
   },
   "source": [
    "## Capturing the correct value\n",
    "\n",
    "- If we run the bootstrap again, we get a different distribution.\n",
    "- And so we get a different 95% confidence interval.\n",
    "- 95% of the time, the interval will capture the correct median."
   ]
  },
  {
   "cell_type": "markdown",
   "metadata": {
    "slideshow": {
     "slide_type": "slide"
    }
   },
   "source": [
    "## Interpreting confidence intervals\n",
    "\n",
    "- Doesn't have to be for the same experiment!\n",
    "- Suppose you only ever make 95% confidence intervals.\n",
    "- Then roughly 95% of the CIs you make in your life will contain the true value of the thing being estimated."
   ]
  },
  {
   "cell_type": "markdown",
   "metadata": {
    "slideshow": {
     "slide_type": "slide"
    }
   },
   "source": [
    "## Misinterpreting confidence intervals\n",
    "\n",
    "- A 95% confidence interval has a 95% chance of containing the true value of the thing being estimated.\n",
    "- The interval is random, not the thing being estimated!"
   ]
  },
  {
   "cell_type": "markdown",
   "metadata": {
    "slideshow": {
     "slide_type": "slide"
    }
   },
   "source": [
    "## Misinterpreting confidence intervals\n",
    "\n",
    "- Our 95% confidence interval for the median salary was:"
   ]
  },
  {
   "cell_type": "code",
   "execution_count": 33,
   "metadata": {},
   "outputs": [
    {
     "data": {
      "text/plain": [
       "[66590.0, 73243.0]"
      ]
     },
     "execution_count": 33,
     "metadata": {},
     "output_type": "execute_result"
    }
   ],
   "source": [
    "#: remember...\n",
    "[left, right]"
   ]
  },
  {
   "cell_type": "markdown",
   "metadata": {},
   "source": [
    "- This does not mean that 95% of salaries are in this range!"
   ]
  },
  {
   "cell_type": "markdown",
   "metadata": {
    "slideshow": {
     "slide_type": "slide"
    }
   },
   "source": [
    "## The Big Simulation\n",
    "\n",
    "Testing the assumptions of our confidence percentile"
   ]
  },
  {
   "cell_type": "code",
   "execution_count": 34,
   "metadata": {},
   "outputs": [
    {
     "name": "stdout",
     "output_type": "stream",
     "text": [
      "Iteration: 0\n",
      "Iteration: 1\n",
      "Iteration: 2\n",
      "Iteration: 3\n",
      "Iteration: 4\n",
      "Iteration: 5\n",
      "Iteration: 6\n",
      "Iteration: 7\n",
      "Iteration: 8\n",
      "Iteration: 9\n",
      "Iteration: 10\n",
      "Iteration: 11\n",
      "Iteration: 12\n",
      "Iteration: 13\n",
      "Iteration: 14\n",
      "Iteration: 15\n",
      "Iteration: 16\n",
      "Iteration: 17\n",
      "Iteration: 18\n",
      "Iteration: 19\n",
      "Iteration: 20\n",
      "Iteration: 21\n",
      "Iteration: 22\n",
      "Iteration: 23\n",
      "Iteration: 24\n",
      "Iteration: 25\n",
      "Iteration: 26\n",
      "Iteration: 27\n",
      "Iteration: 28\n",
      "Iteration: 29\n",
      "Iteration: 30\n",
      "Iteration: 31\n",
      "Iteration: 32\n",
      "Iteration: 33\n",
      "Iteration: 34\n",
      "Iteration: 35\n",
      "Iteration: 36\n",
      "Iteration: 37\n",
      "Iteration: 38\n",
      "Iteration: 39\n",
      "Iteration: 40\n",
      "Iteration: 41\n",
      "Iteration: 42\n",
      "Iteration: 43\n",
      "Iteration: 44\n",
      "Iteration: 45\n",
      "Iteration: 46\n",
      "Iteration: 47\n",
      "Iteration: 48\n",
      "Iteration: 49\n",
      "Iteration: 50\n",
      "Iteration: 51\n",
      "Iteration: 52\n",
      "Iteration: 53\n",
      "Iteration: 54\n",
      "Iteration: 55\n",
      "Iteration: 56\n",
      "Iteration: 57\n",
      "Iteration: 58\n",
      "Iteration: 59\n",
      "Iteration: 60\n",
      "Iteration: 61\n",
      "Iteration: 62\n",
      "Iteration: 63\n",
      "Iteration: 64\n",
      "Iteration: 65\n",
      "Iteration: 66\n",
      "Iteration: 67\n",
      "Iteration: 68\n",
      "Iteration: 69\n",
      "Iteration: 70\n",
      "Iteration: 71\n",
      "Iteration: 72\n",
      "Iteration: 73\n",
      "Iteration: 74\n",
      "Iteration: 75\n",
      "Iteration: 76\n",
      "Iteration: 77\n",
      "Iteration: 78\n",
      "Iteration: 79\n",
      "Iteration: 80\n",
      "Iteration: 81\n",
      "Iteration: 82\n",
      "Iteration: 83\n",
      "Iteration: 84\n",
      "Iteration: 85\n",
      "Iteration: 86\n",
      "Iteration: 87\n",
      "Iteration: 88\n",
      "Iteration: 89\n",
      "Iteration: 90\n",
      "Iteration: 91\n",
      "Iteration: 92\n",
      "Iteration: 93\n",
      "Iteration: 94\n",
      "Iteration: 95\n",
      "Iteration: 96\n",
      "Iteration: 97\n",
      "Iteration: 98\n",
      "Iteration: 99\n"
     ]
    }
   ],
   "source": [
    "def bootstrap_median(sample_from_population, label, repetitions):\n",
    "    resampled_medians = []\n",
    "    for i in np.arange(repetitions):\n",
    "        resample = sample_from_population.sample()\n",
    "        median = np.median(resample.column(label))\n",
    "        resampled_medians.append(median)\n",
    "    return resampled_medians\n",
    "\n",
    "left_ends = make_array()\n",
    "right_ends = make_array()\n",
    "\n",
    "all_salaries = population.select('Total Pay')\n",
    "for i in np.arange(100):\n",
    "    sample_from_pop = all_salaries.sample(200, with_replacement=False)\n",
    "    medians = bootstrap_median(sample_from_pop, 'Total Pay', 5000)\n",
    "    left_ends = np.append(left_ends, percentile(2.5, medians))\n",
    "    right_ends = np.append(right_ends, percentile(97.5, medians))\n",
    "    print('Iteration:', i)\n",
    "\n",
    "intervals = Table().with_columns(\n",
    "    'Left', left_ends,\n",
    "    'Right', right_ends\n",
    ")"
   ]
  },
  {
   "cell_type": "code",
   "execution_count": 35,
   "metadata": {},
   "outputs": [
    {
     "data": {
      "text/html": [
       "<table border=\"1\" class=\"dataframe\">\n",
       "    <thead>\n",
       "        <tr>\n",
       "            <th>Left</th> <th>Right</th>\n",
       "        </tr>\n",
       "    </thead>\n",
       "    <tbody>\n",
       "        <tr>\n",
       "            <td>65041  </td> <td>75435  </td>\n",
       "        </tr>\n",
       "        <tr>\n",
       "            <td>64757  </td> <td>80189.5</td>\n",
       "        </tr>\n",
       "        <tr>\n",
       "            <td>62915.5</td> <td>75515.5</td>\n",
       "        </tr>\n",
       "    </tbody>\n",
       "</table>\n",
       "<p>... (97 rows omitted)</p>"
      ],
      "text/plain": [
       "<IPython.core.display.HTML object>"
      ]
     },
     "metadata": {},
     "output_type": "display_data"
    }
   ],
   "source": [
    "intervals.show(3)"
   ]
  },
  {
   "cell_type": "code",
   "execution_count": 36,
   "metadata": {},
   "outputs": [
    {
     "data": {
      "text/plain": [
       "93"
      ]
     },
     "execution_count": 36,
     "metadata": {},
     "output_type": "execute_result"
    }
   ],
   "source": [
    "(intervals\n",
    " .where('Left', are.below(population_median))\n",
    " .where('Right', are.above(population_median))\n",
    " .num_rows)\n",
    "#How many intervals contained the median? "
   ]
  },
  {
   "cell_type": "code",
   "execution_count": 37,
   "metadata": {},
   "outputs": [
    {
     "data": {
      "image/png": "[encoded data removed]",
      "text/plain": [
       "<Figure size 576x576 with 1 Axes>"
      ]
     },
     "metadata": {},
     "output_type": "display_data"
    }
   ],
   "source": [
    "replication_number = np.ndarray.astype(np.arange(1, 101), str)\n",
    "\n",
    "intervals2 = Table(replication_number).with_rows(make_array(left_ends, right_ends))\n",
    "\n",
    "plt.figure(figsize=(8,8))\n",
    "n=100\n",
    "for i in np.arange(n):\n",
    "    ends = intervals2.column(i)\n",
    "    plt.plot(ends, make_array(i+1, i+1), color='gold')\n",
    "plt.plot(make_array(population_median, population_median), make_array(0, n), color='red', lw=2)\n",
    "plt.xlabel('Median (dollars)')\n",
    "plt.ylabel('Replication')\n",
    "plt.title('Population Median and Intervals of Estimates');"
   ]
  },
  {
   "cell_type": "markdown",
   "metadata": {
    "slideshow": {
     "slide_type": "slide"
    }
   },
   "source": [
    "## Average Age of Moms"
   ]
  },
  {
   "cell_type": "code",
   "execution_count": 38,
   "metadata": {
    "slideshow": {
     "slide_type": "-"
    }
   },
   "outputs": [
    {
     "data": {
      "text/html": [
       "<table border=\"1\" class=\"dataframe\">\n",
       "    <thead>\n",
       "        <tr>\n",
       "            <th>Birth Weight</th> <th>Gestational Days</th> <th>Maternal Age</th> <th>Maternal Height</th> <th>Maternal Pregnancy Weight</th> <th>Maternal Smoker</th>\n",
       "        </tr>\n",
       "    </thead>\n",
       "    <tbody>\n",
       "        <tr>\n",
       "            <td>120         </td> <td>284             </td> <td>27          </td> <td>62             </td> <td>100                      </td> <td>False          </td>\n",
       "        </tr>\n",
       "        <tr>\n",
       "            <td>113         </td> <td>282             </td> <td>33          </td> <td>64             </td> <td>135                      </td> <td>False          </td>\n",
       "        </tr>\n",
       "        <tr>\n",
       "            <td>128         </td> <td>279             </td> <td>28          </td> <td>64             </td> <td>115                      </td> <td>True           </td>\n",
       "        </tr>\n",
       "        <tr>\n",
       "            <td>108         </td> <td>282             </td> <td>23          </td> <td>67             </td> <td>125                      </td> <td>True           </td>\n",
       "        </tr>\n",
       "        <tr>\n",
       "            <td>136         </td> <td>286             </td> <td>25          </td> <td>62             </td> <td>93                       </td> <td>False          </td>\n",
       "        </tr>\n",
       "        <tr>\n",
       "            <td>138         </td> <td>244             </td> <td>33          </td> <td>62             </td> <td>178                      </td> <td>False          </td>\n",
       "        </tr>\n",
       "        <tr>\n",
       "            <td>132         </td> <td>245             </td> <td>23          </td> <td>65             </td> <td>140                      </td> <td>False          </td>\n",
       "        </tr>\n",
       "        <tr>\n",
       "            <td>120         </td> <td>289             </td> <td>25          </td> <td>62             </td> <td>125                      </td> <td>False          </td>\n",
       "        </tr>\n",
       "        <tr>\n",
       "            <td>143         </td> <td>299             </td> <td>30          </td> <td>66             </td> <td>136                      </td> <td>True           </td>\n",
       "        </tr>\n",
       "        <tr>\n",
       "            <td>140         </td> <td>351             </td> <td>27          </td> <td>68             </td> <td>120                      </td> <td>False          </td>\n",
       "        </tr>\n",
       "    </tbody>\n",
       "</table>\n",
       "<p>... (1164 rows omitted)</p>"
      ],
      "text/plain": [
       "Birth Weight | Gestational Days | Maternal Age | Maternal Height | Maternal Pregnancy Weight | Maternal Smoker\n",
       "120          | 284              | 27           | 62              | 100                       | False\n",
       "113          | 282              | 33           | 64              | 135                       | False\n",
       "128          | 279              | 28           | 64              | 115                       | True\n",
       "108          | 282              | 23           | 67              | 125                       | True\n",
       "136          | 286              | 25           | 62              | 93                        | False\n",
       "138          | 244              | 33           | 62              | 178                       | False\n",
       "132          | 245              | 23           | 65              | 140                       | False\n",
       "120          | 289              | 25           | 62              | 125                       | False\n",
       "143          | 299              | 30           | 66              | 136                       | True\n",
       "140          | 351              | 27           | 68              | 120                       | False\n",
       "... (1164 rows omitted)"
      ]
     },
     "execution_count": 38,
     "metadata": {},
     "output_type": "execute_result"
    }
   ],
   "source": [
    "births = Table.read_table('baby.csv')\n",
    "births"
   ]
  },
  {
   "cell_type": "code",
   "execution_count": 39,
   "metadata": {},
   "outputs": [
    {
     "data": {
      "text/html": [
       "<table border=\"1\" class=\"dataframe\">\n",
       "    <thead>\n",
       "        <tr>\n",
       "            <th>Maternal Age</th>\n",
       "        </tr>\n",
       "    </thead>\n",
       "    <tbody>\n",
       "        <tr>\n",
       "            <td>27          </td>\n",
       "        </tr>\n",
       "        <tr>\n",
       "            <td>33          </td>\n",
       "        </tr>\n",
       "        <tr>\n",
       "            <td>28          </td>\n",
       "        </tr>\n",
       "        <tr>\n",
       "            <td>23          </td>\n",
       "        </tr>\n",
       "        <tr>\n",
       "            <td>25          </td>\n",
       "        </tr>\n",
       "        <tr>\n",
       "            <td>33          </td>\n",
       "        </tr>\n",
       "        <tr>\n",
       "            <td>23          </td>\n",
       "        </tr>\n",
       "        <tr>\n",
       "            <td>25          </td>\n",
       "        </tr>\n",
       "        <tr>\n",
       "            <td>30          </td>\n",
       "        </tr>\n",
       "        <tr>\n",
       "            <td>27          </td>\n",
       "        </tr>\n",
       "    </tbody>\n",
       "</table>\n",
       "<p>... (1164 rows omitted)</p>"
      ],
      "text/plain": [
       "Maternal Age\n",
       "27\n",
       "33\n",
       "28\n",
       "23\n",
       "25\n",
       "33\n",
       "23\n",
       "25\n",
       "30\n",
       "27\n",
       "... (1164 rows omitted)"
      ]
     },
     "execution_count": 39,
     "metadata": {},
     "output_type": "execute_result"
    }
   ],
   "source": [
    "ages = births.select('Maternal Age')\n",
    "ages"
   ]
  },
  {
   "cell_type": "markdown",
   "metadata": {
    "slideshow": {
     "slide_type": "slide"
    }
   },
   "source": [
    "## Bootstrapping the Mean"
   ]
  },
  {
   "cell_type": "code",
   "execution_count": 40,
   "metadata": {},
   "outputs": [],
   "source": [
    "sample_size = ages.num_rows\n",
    "n_resamples = 5000\n",
    "\n",
    "boot_means = make_array()\n",
    "for i in np.arange(n_resamples):\n",
    "    # perform bootstrap resampling\n",
    "    resample = ages.sample(sample_size, with_replacement=True)\n",
    "    \n",
    "    # compute the mean\n",
    "    mean = np.mean(resample.column('Maternal Age'))\n",
    "    \n",
    "    # append to our array of means\n",
    "    boot_means = np.append(boot_means, mean)"
   ]
  },
  {
   "cell_type": "code",
   "execution_count": 41,
   "metadata": {},
   "outputs": [
    {
     "data": {
      "text/plain": [
       "(26.9, 27.6)"
      ]
     },
     "execution_count": 41,
     "metadata": {},
     "output_type": "execute_result"
    }
   ],
   "source": [
    "left = percentile(2.5, boot_means)\n",
    "right = percentile(97.5, boot_means)\n",
    "np.round(left, 1), np.round(right, 1)"
   ]
  },
  {
   "cell_type": "markdown",
   "metadata": {
    "slideshow": {
     "slide_type": "slide"
    }
   },
   "source": [
    "## Visualization"
   ]
  },
  {
   "cell_type": "code",
   "execution_count": 42,
   "metadata": {},
   "outputs": [
    {
     "data": {
      "text/plain": [
       "[<matplotlib.lines.Line2D at 0x11e7bcac8>]"
      ]
     },
     "execution_count": 42,
     "metadata": {},
     "output_type": "execute_result"
    },
    {
     "data": {
      "image/png": "[encoded data removed]",
      "text/plain": [
       "<Figure size 432x288 with 1 Axes>"
      ]
     },
     "metadata": {},
     "output_type": "display_data"
    }
   ],
   "source": [
    "Table().with_column('Bootstrap Mean', boot_means).hist()\n",
    "plt.plot([left, right], [0, 0], color='lime', linewidth=10)"
   ]
  },
  {
   "cell_type": "markdown",
   "metadata": {
    "slideshow": {
     "slide_type": "slide"
    }
   },
   "source": [
    "## Discussion Question\n",
    "\n",
    "Our confidence interval is (26.9, 27.6)\n",
    "\n",
    "**True or False?**  \n",
    "About 95 percent of the mothers in the population were between 26.9 and 27.6 years old.\n",
    "\n",
    "A. True  \n",
    "B. False"
   ]
  },
  {
   "cell_type": "code",
   "execution_count": 44,
   "metadata": {
    "slideshow": {
     "slide_type": "fragment"
    }
   },
   "outputs": [
    {
     "data": {
      "text/plain": [
       "[<matplotlib.lines.Line2D at 0x11e9a01d0>]"
      ]
     },
     "execution_count": 44,
     "metadata": {},
     "output_type": "execute_result"
    },
    {
     "data": {
      "image/png": "[encoded data removed]",
      "text/plain": [
       "<Figure size 432x288 with 1 Axes>"
      ]
     },
     "metadata": {},
     "output_type": "display_data"
    }
   ],
   "source": [
    "baby = Table.read_table('baby.csv')\n",
    "baby.select('Maternal Age').hist()\n",
    "plt.plot([left, right], [0, 0], color='lime', linewidth=10)"
   ]
  },
  {
   "cell_type": "code",
   "execution_count": null,
   "metadata": {},
   "outputs": [],
   "source": []
  }
 ],
 "metadata": {
  "celltoolbar": "Slideshow",
  "kernelspec": {
   "display_name": "Python 3",
   "language": "python",
   "name": "python3"
  },
  "language_info": {
   "codemirror_mode": {
    "name": "ipython",
    "version": 3
   },
   "file_extension": ".py",
   "mimetype": "text/x-python",
   "name": "python",
   "nbconvert_exporter": "python",
   "pygments_lexer": "ipython3",
   "version": "3.7.3"
  },
  "livereveal": {
   "scroll": true,
   "transition": "none"
  }
 },
 "nbformat": 4,
 "nbformat_minor": 2
}
