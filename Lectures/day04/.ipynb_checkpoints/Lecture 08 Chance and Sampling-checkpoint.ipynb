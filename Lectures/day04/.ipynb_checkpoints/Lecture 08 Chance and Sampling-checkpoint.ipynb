{
 "cells": [
  {
   "cell_type": "markdown",
   "metadata": {
    "slideshow": {
     "slide_type": "slide"
    }
   },
   "source": [
    "# Lecture 8\n",
    "\n",
    "## Chance and Sampling"
   ]
  },
  {
   "cell_type": "markdown",
   "metadata": {
    "slideshow": {
     "slide_type": "slide"
    }
   },
   "source": [
    "## The \"Monty Hall\" Problem\n",
    "\n",
    "<img src=\"./monty.svg\" width=75% />"
   ]
  },
  {
   "cell_type": "markdown",
   "metadata": {
    "slideshow": {
     "slide_type": "slide"
    }
   },
   "source": [
    "## Discussion question\n",
    "\n",
    "- You originally selected door #1.\n",
    "- The host reveals door #3 to have a goat behind it.\n",
    "- You should:\n",
    "\n",
    "    - A) keep with door number #1; it has just as high a chance of winning as door #2.\n",
    "    - B) switch to door number #2; it has a higher chance of winning than door #1."
   ]
  },
  {
   "cell_type": "markdown",
   "metadata": {
    "slideshow": {
     "slide_type": "slide"
    }
   },
   "source": [
    "## Marilyn vos Savant's column\n",
    "\n",
    "\n",
    "<div style=\"display: flex; margin-top: .5in\">\n",
    "<div style=\"width: 45%;\">\n",
    "    <ul>\n",
    "        <li>vos Savant asked the question in <i>Parade</i> magazine.</li>\n",
    "        <li>She stated the correct answer: <i>switch</i>.</li>\n",
    "        <li>Received over 10,000 letters in disagreement.</li>\n",
    "        <li>Over 1,000 letters from people with Ph.D.s</li>\n",
    "    </ul>\n",
    "</div>\n",
    "<div style=\"width: 50%;\">\n",
    "    <img src=\"vos_savant.jpg\" width=75%>\n",
    "</div>\n",
    "</div>\n"
   ]
  },
  {
   "cell_type": "markdown",
   "metadata": {
    "slideshow": {
     "slide_type": "slide"
    }
   },
   "source": [
    "## In this lecture...\n",
    "\n",
    "- Simulate the Monty Hall problem many times.\n",
    "- Convince ourselves that switching is the best option."
   ]
  },
  {
   "cell_type": "code",
   "execution_count": null,
   "metadata": {},
   "outputs": [],
   "source": [
    "#: the usual suspects\n",
    "from datascience import *\n",
    "import numpy as np\n",
    "\n",
    "%matplotlib inline\n",
    "import matplotlib.pyplot as plots\n",
    "plots.style.use('fivethirtyeight')"
   ]
  },
  {
   "cell_type": "markdown",
   "metadata": {
    "slideshow": {
     "slide_type": "slide"
    }
   },
   "source": [
    "# Random Selection"
   ]
  },
  {
   "cell_type": "markdown",
   "metadata": {
    "slideshow": {
     "slide_type": "slide"
    }
   },
   "source": [
    "## Making a random choice\n",
    "\n",
    "- `np.random.choice(options)`\n",
    "- `options` is a list or array of values to choose from\n",
    "- Return a random element from `options`"
   ]
  },
  {
   "cell_type": "code",
   "execution_count": null,
   "metadata": {},
   "outputs": [],
   "source": [
    "# simulate a coin flip\n",
    "np.random.choice(['Heads', 'Tails'])"
   ]
  },
  {
   "cell_type": "markdown",
   "metadata": {
    "slideshow": {
     "slide_type": "slide"
    }
   },
   "source": [
    "## Making multiple random choices\n",
    "\n",
    "- `np.random.choice(options, n)`"
   ]
  },
  {
   "cell_type": "code",
   "execution_count": null,
   "metadata": {},
   "outputs": [],
   "source": [
    "#: simulate 10 coin flips\n",
    "np.random.choice(['Heads', 'Tails'], 10)"
   ]
  },
  {
   "cell_type": "markdown",
   "metadata": {
    "slideshow": {
     "slide_type": "slide"
    }
   },
   "source": [
    "## Summarizing the results\n",
    "\n",
    "- `np.count_nonzero(sequence)`\n",
    "- `sequence` can be a list or array\n",
    "- Given `sequence` of numbers, counts the number of nonzero entries.\n",
    "- Given `sequence` of Booleans, counts the number of `True` entries."
   ]
  },
  {
   "cell_type": "code",
   "execution_count": null,
   "metadata": {},
   "outputs": [],
   "source": [
    "np.count_nonzero([2, 0, 5, 8])"
   ]
  },
  {
   "cell_type": "code",
   "execution_count": null,
   "metadata": {},
   "outputs": [],
   "source": [
    "np.count_nonzero(make_array(True, False, True))"
   ]
  },
  {
   "cell_type": "markdown",
   "metadata": {
    "slideshow": {
     "slide_type": "slide"
    }
   },
   "source": [
    "## Counting the number of times a certain outcome occurs"
   ]
  },
  {
   "cell_type": "code",
   "execution_count": null,
   "metadata": {},
   "outputs": [],
   "source": [
    "coin_flips = np.random.choice(['Heads', 'Tails'], 10)\n",
    "coin_flips"
   ]
  },
  {
   "cell_type": "code",
   "execution_count": null,
   "metadata": {},
   "outputs": [],
   "source": [
    "coin_flips=='Heads'"
   ]
  },
  {
   "cell_type": "code",
   "execution_count": null,
   "metadata": {},
   "outputs": [],
   "source": [
    "np.count_nonzero(coin_flips=='Heads')"
   ]
  },
  {
   "cell_type": "markdown",
   "metadata": {
    "slideshow": {
     "slide_type": "slide"
    }
   },
   "source": [
    "## Replacement vs. without replacement\n",
    "\n",
    "- By default, `np.random.choice` selects *with* replacement.\n",
    "- That is, after making selection, that option is still available.\n",
    "- If an option can only be selected once, select *without* replacement."
   ]
  },
  {
   "cell_type": "code",
   "execution_count": null,
   "metadata": {},
   "outputs": [],
   "source": [
    "#: select a team of three people\n",
    "people = ['Sherlock Holmes', 'Dr. John Watson', 'D.I. Greg Lestrade', \\\n",
    "          'Mrs. Hudson', 'Mycroft Holmes', 'Molly Hooper', 'Jim Moriarty', 'Mary (Morstan) Watson']\n",
    "np.random.choice(people, 3, replace=False)"
   ]
  },
  {
   "cell_type": "markdown",
   "metadata": {
    "slideshow": {
     "slide_type": "slide"
    }
   },
   "source": [
    "# Simulation"
   ]
  },
  {
   "cell_type": "markdown",
   "metadata": {
    "slideshow": {
     "slide_type": "slide"
    }
   },
   "source": [
    "## Flipping coins\n",
    "\n",
    "- What is the probability of getting 60 or more heads if I flip 100 coins?\n",
    "    - Calculate the exact answer using math.\n",
    "    - Approximate the answer through simulation:\n",
    "        1. Figure out how to do one experiment (i.e., flip 100 coins).\n",
    "        2. Run the experiment a bunch of times.\n",
    "        3. Find the fraction of times where number of heads >= 60."
   ]
  },
  {
   "cell_type": "markdown",
   "metadata": {
    "slideshow": {
     "slide_type": "slide"
    }
   },
   "source": [
    "## Running the experiment once...\n",
    "\n",
    "- Use `np.random.choice` to flip 100 coins\n",
    "- Use `np.count_nonzero` to count number of heads.\n",
    "- Maybe put it in a function."
   ]
  },
  {
   "cell_type": "code",
   "execution_count": null,
   "metadata": {},
   "outputs": [],
   "source": [
    "coins = np.random.choice(['Heads', 'Tails'], 100)\n",
    "coins"
   ]
  },
  {
   "cell_type": "code",
   "execution_count": null,
   "metadata": {},
   "outputs": [],
   "source": [
    "np.count_nonzero(coins == 'Heads')"
   ]
  },
  {
   "cell_type": "code",
   "execution_count": null,
   "metadata": {},
   "outputs": [],
   "source": [
    "def coin_experiment():\n",
    "    coins = np.random.choice(['Heads', 'Tails'], 100)\n",
    "    return np.count_nonzero(coins == 'Heads')"
   ]
  },
  {
   "cell_type": "code",
   "execution_count": null,
   "metadata": {},
   "outputs": [],
   "source": [
    "coin_experiment()"
   ]
  },
  {
   "cell_type": "markdown",
   "metadata": {
    "slideshow": {
     "slide_type": "slide"
    }
   },
   "source": [
    "## Repeating the experiment\n",
    "\n",
    "- We can repeat this process many times by using a `for`-loop\n",
    "- Need to store the results in an array... use `np.append`!"
   ]
  },
  {
   "cell_type": "code",
   "execution_count": null,
   "metadata": {},
   "outputs": [],
   "source": [
    "n_repetitions = 10000\n",
    "\n",
    "# make head_counts array to store results\n",
    "head_counts = make_array()\n",
    "\n",
    "for i in np.arange(n_repetitions):\n",
    "    head_count = coin_experiment()\n",
    "    head_counts = np.append(head_counts, head_count)\n",
    "    \n",
    "head_counts"
   ]
  },
  {
   "cell_type": "code",
   "execution_count": null,
   "metadata": {},
   "outputs": [],
   "source": [
    "# in how many trials was the number of heads >= 60?\n",
    "at_least_60 = np.count_nonzero(head_counts >= 60)\n",
    "at_least_60"
   ]
  },
  {
   "cell_type": "code",
   "execution_count": null,
   "metadata": {},
   "outputs": [],
   "source": [
    "# what is this as a proportion?\n",
    "at_least_60 / n_repetitions"
   ]
  },
  {
   "cell_type": "markdown",
   "metadata": {
    "slideshow": {
     "slide_type": "slide"
    }
   },
   "source": [
    "## Visualizing the distribution"
   ]
  },
  {
   "cell_type": "code",
   "execution_count": null,
   "metadata": {},
   "outputs": [],
   "source": [
    "#: visualize distribution of trial results\n",
    "Table().with_columns(\n",
    "    'Number of Heads', head_counts\n",
    ").hist(bins=np.arange(30, 71))"
   ]
  },
  {
   "cell_type": "markdown",
   "metadata": {
    "slideshow": {
     "slide_type": "slide"
    }
   },
   "source": [
    "# Simulating Monty Hall"
   ]
  },
  {
   "cell_type": "markdown",
   "metadata": {
    "slideshow": {
     "slide_type": "slide"
    }
   },
   "source": [
    "## Simulation strategy\n",
    "\n",
    "1. Figure out how to simulate one game of Monty Hall.\n",
    "2. Play a bunch of games.\n",
    "3. Count the proportion of wins for each strategy (stay or switch)."
   ]
  },
  {
   "cell_type": "markdown",
   "metadata": {
    "slideshow": {
     "slide_type": "slide"
    }
   },
   "source": [
    "## Simulating a single game\n",
    "\n",
    "- We will make a function, `monty_hall()`, which simulates one play.\n",
    "- Returns a 3-element array describing situation after host reveals first door, before choosing to \"stay\" or \"switch\":\n",
    "\n",
    "```\n",
    "[\n",
    "    <prize behind original door>,\n",
    "    <prize revealed by Monty>,\n",
    "    <prize behind other door>\n",
    "]\n",
    "```\n",
    "\n",
    "- If the prize behind the original door is the car, staying wins.\n",
    "- If the prize behind the other door is the car, switching wins."
   ]
  },
  {
   "cell_type": "markdown",
   "metadata": {
    "slideshow": {
     "slide_type": "slide"
    }
   },
   "source": [
    "## Randomly pick an original door\n",
    "\n",
    "- Randomly assign a prize to the original choice of door.\n",
    "- You don't know what it is, yet, but Monty does."
   ]
  },
  {
   "cell_type": "code",
   "execution_count": null,
   "metadata": {},
   "outputs": [],
   "source": [
    "#: randomly assign original_door_prize to a prize\n",
    "prizes = ['Goat 1', 'Goat 2', 'Car']\n",
    "original_door_prize = np.random.choice(prizes)"
   ]
  },
  {
   "cell_type": "markdown",
   "metadata": {
    "slideshow": {
     "slide_type": "slide"
    }
   },
   "source": [
    "## What does Monty reveal?\n",
    "\n",
    "- If your original door contains the car, Monty reveals a goat at random.\n",
    "- If your original door contains a goat, Monty reveals the other goat."
   ]
  },
  {
   "cell_type": "code",
   "execution_count": null,
   "metadata": {},
   "outputs": [],
   "source": [
    "#: recall from last lecture...\n",
    "def other_one(arr, which_is_not):\n",
    "    if which_is_not == arr.item(0):\n",
    "        return arr.item(1)\n",
    "    elif which_is_not == arr.item(1):\n",
    "        return arr.item(0)\n",
    "    else:\n",
    "        print('Invalid input!')\n",
    "\n",
    "goats = make_array('Goat 1', 'Goat 2')\n",
    "other_one(goats, which_is_not='Goat 1')"
   ]
  },
  {
   "cell_type": "markdown",
   "metadata": {
    "slideshow": {
     "slide_type": "slide"
    }
   },
   "source": [
    "## What does Monty reveal?\n",
    "\n",
    "- If your original door contains the car, Monty reveals a goat at random.\n",
    "- If your original door contains a goat, Monty reveals the other goat."
   ]
  },
  {
   "cell_type": "code",
   "execution_count": null,
   "metadata": {},
   "outputs": [],
   "source": [
    "goats = make_array('Goat 1', 'Goat 2')\n",
    "\n",
    "if original_door_prize == 'Car':\n",
    "    revealed = np.random.choice(['Goat 1', 'Goat 2'])\n",
    "    other_door_prize = other_one(goats, which_is_not=revealed)\n",
    "else: # it is a goat\n",
    "    revealed = other_one(goats, which_is_not=original_door_prize)\n",
    "    other_door_prize = 'Car'"
   ]
  },
  {
   "cell_type": "markdown",
   "metadata": {
    "slideshow": {
     "slide_type": "slide"
    }
   },
   "source": [
    "## Putting it together..."
   ]
  },
  {
   "cell_type": "code",
   "execution_count": null,
   "metadata": {},
   "outputs": [],
   "source": [
    "def monty_hall():\n",
    "    # randomly assign original_door_prize to a prize\n",
    "    prizes = ['Goat 1', 'Goat 2', 'Car']\n",
    "    original_door_prize = np.random.choice(prizes)\n",
    "    \n",
    "    goats = make_array('Goat 1', 'Goat 2')\n",
    "\n",
    "    if original_door_prize == 'Car':\n",
    "        revealed = np.random.choice(['Goat 1', 'Goat 2'])\n",
    "        other_door_prize = other_one(goats, which_is_not=revealed)\n",
    "    else: # it is a goat\n",
    "        revealed = other_one(goats, which_is_not=original_door_prize)\n",
    "        other_door_prize = 'Car'\n",
    "\n",
    "    return make_array(original_door_prize, revealed, other_door_prize)"
   ]
  },
  {
   "cell_type": "code",
   "execution_count": null,
   "metadata": {},
   "outputs": [],
   "source": [
    "monty_hall()"
   ]
  },
  {
   "cell_type": "markdown",
   "metadata": {
    "slideshow": {
     "slide_type": "slide"
    }
   },
   "source": [
    "## Play a bunch of times"
   ]
  },
  {
   "cell_type": "code",
   "execution_count": null,
   "metadata": {},
   "outputs": [],
   "source": [
    "#: many simulations\n",
    "n_repetitions = 100\n",
    "\n",
    "behind_original = make_array()\n",
    "behind_revealed = make_array()\n",
    "behind_other = make_array()\n",
    "\n",
    "for i in np.arange(n_repetitions):\n",
    "    result = monty_hall()\n",
    "    behind_original = np.append(behind_original, result.item(0))\n",
    "    behind_revealed = np.append(behind_revealed, result.item(1))\n",
    "    behind_other = np.append(behind_other, result.item(2))"
   ]
  },
  {
   "cell_type": "markdown",
   "metadata": {
    "slideshow": {
     "slide_type": "slide"
    }
   },
   "source": [
    "## Counting successes..."
   ]
  },
  {
   "cell_type": "code",
   "execution_count": null,
   "metadata": {},
   "outputs": [],
   "source": [
    "#: make a table of results\n",
    "simulations = Table().with_columns(\n",
    "    'original', behind_original,\n",
    "    'revealed', behind_revealed,\n",
    "    'other', behind_other\n",
    ")\n",
    "simulations"
   ]
  },
  {
   "cell_type": "code",
   "execution_count": null,
   "metadata": {},
   "outputs": [],
   "source": [
    "simulations.group('original')"
   ]
  },
  {
   "cell_type": "code",
   "execution_count": null,
   "metadata": {},
   "outputs": [],
   "source": [
    "simulations.group('other')"
   ]
  },
  {
   "cell_type": "code",
   "execution_count": null,
   "metadata": {
    "scrolled": true
   },
   "outputs": [],
   "source": [
    "results = Table().with_columns(\n",
    "    'prize', make_array('Car', 'Goat 1', 'Goat 2'),\n",
    "    'stay', simulations.group('original').column('count'),\n",
    "    'other', simulations.group('other').column('count')\n",
    ")\n",
    "results.barh('prize')"
   ]
  },
  {
   "cell_type": "markdown",
   "metadata": {
    "slideshow": {
     "slide_type": "slide"
    }
   },
   "source": [
    "## A simpler simulation...\n",
    "\n",
    "- A function `simpler_monty_hall()`.\n",
    "- Returns \"switch\" if switching was the winning strategy.\n",
    "- Returns \"stay\" if staying was the winning strategy."
   ]
  },
  {
   "cell_type": "markdown",
   "metadata": {
    "slideshow": {
     "slide_type": "slide"
    }
   },
   "source": [
    "## Case-by-case"
   ]
  },
  {
   "cell_type": "code",
   "execution_count": null,
   "metadata": {},
   "outputs": [],
   "source": [
    "#: a simpler simulation of a single game\n",
    "\n",
    "def simpler_monty_hall():\n",
    "    original_prize = np.random.choice(['Car', 'Goat 1', 'Goat 2'])\n",
    "    \n",
    "    if original_prize == 'Car':\n",
    "        # We want to stay!\n",
    "        return 'stay'\n",
    "    else:\n",
    "        # The original prize is a goat.\n",
    "        # Monty will reveal the other goat.\n",
    "        # Switching wins!\n",
    "        return 'switch'"
   ]
  },
  {
   "cell_type": "markdown",
   "metadata": {
    "slideshow": {
     "slide_type": "slide"
    }
   },
   "source": [
    "## Play a bunch of times"
   ]
  },
  {
   "cell_type": "code",
   "execution_count": null,
   "metadata": {},
   "outputs": [],
   "source": [
    "#: many simulations\n",
    "\n",
    "n_repetitions = 100\n",
    "\n",
    "winning_strategies = make_array()\n",
    "for i in np.arange(n_repetitions):\n",
    "    winning_strategy = simpler_monty_hall()\n",
    "    winning_strategies = np.append(winning_strategies, winning_strategy)\n",
    "    \n",
    "np.count_nonzero(winning_strategies == 'switch') / n_repetitions"
   ]
  },
  {
   "cell_type": "markdown",
   "metadata": {
    "slideshow": {
     "slide_type": "slide"
    }
   },
   "source": [
    "# Probability"
   ]
  },
  {
   "cell_type": "markdown",
   "metadata": {
    "slideshow": {
     "slide_type": "slide"
    }
   },
   "source": [
    "## Probability Theory\n",
    "\n",
    "- So far, we have approximated some probabilities via simulation.\n",
    "- But we can calculate them directly using *math*."
   ]
  },
  {
   "cell_type": "markdown",
   "metadata": {
    "slideshow": {
     "slide_type": "slide"
    }
   },
   "source": [
    "## Terminology\n",
    "\n",
    "- **Outcome**: The result of an experiment.\n",
    "    - e.g., the possible outcomes of rolling a 6-sided die are 1, 2, 3, 4, 5, 6\n",
    "    - e.g., the possible outcomes of flipping a coin twice are HH, HT, TH, TT\n",
    "- **Event**: A set of outcomes.\n",
    "    - e.g., the event that the die lands on a even number is the collection of outcomes {2, 4, 6}.\n",
    "    - e.g., the event that there was at least one head in two flips: {HH, HT, TH}\n",
    "- **Probability**: A number between 0 and 1 which describes likelihood of event.\n",
    "    - 1 if that event always happens\n",
    "    - 0 if that event never happens\n",
    "    - Notation: if $X$ is an event, $P(X)$ is the probability of the event."
   ]
  },
  {
   "cell_type": "markdown",
   "metadata": {
    "slideshow": {
     "slide_type": "skip"
    }
   },
   "source": [
    "## Equally-likely outcomes\n",
    "\n",
    "- If all outcomes are equally likely, computing probabilities is done by counting:\n",
    "\n",
    "$$\n",
    "P(A) = \\frac{\n",
    "    \\text{# of outcomes that make $A$ happen}\n",
    "}{\n",
    "    \\text{total # of outcomes}\n",
    "}\n",
    "$$"
   ]
  },
  {
   "cell_type": "markdown",
   "metadata": {
    "slideshow": {
     "slide_type": "skip"
    }
   },
   "source": [
    "## Discussion question\n",
    "\n",
    "I have three cards: red, blue, and green. What is the chance that I choose a card at random, and it is green, then -- without putting it back -- I choose another card at random and it is red?\n",
    "\n",
    "- A) 1/9\n",
    "- B) 1/6\n",
    "- C) 1/3\n",
    "- D) 2/3\n",
    "- E) None of the above."
   ]
  },
  {
   "cell_type": "markdown",
   "metadata": {
    "slideshow": {
     "slide_type": "skip"
    }
   },
   "source": [
    "## Discussion question solved\n",
    "\n",
    "- The possible outcomes are: RG, RB, GR, GB, BR, BG.\n",
    "- The outcomes are equally-likely.\n",
    "- There is only one outcome which makes the event happen: GR.\n",
    "- Hence the probability is $1/6$."
   ]
  },
  {
   "cell_type": "markdown",
   "metadata": {
    "slideshow": {
     "slide_type": "skip"
    }
   },
   "source": [
    "## Conditional probabilities\n",
    "\n",
    "- Two events $A$ and $B$ can both happen.\n",
    "    - e.g.: $A$ is event \"roll is 3 or less\", $B$ is event \"roll is even\"\n",
    "- Suppose that we know $A$ has happened, but we don't know if $B$ has.\n",
    "- If $A$ has happened, we toss out outcomes where $A$ doesn't happen.\n",
    "- The conditional probability of $B$ given $A$ is:\n",
    "\n",
    "$$\n",
    "P(B \\text{ given } A)\n",
    "= \\frac{\n",
    "    \\text{# of outcomes satisfying both $A$ and $B$}\n",
    "}{\n",
    "    \\text{# of outcomes satisfying $A$}\n",
    "}\n",
    "$$"
   ]
  },
  {
   "cell_type": "markdown",
   "metadata": {
    "slideshow": {
     "slide_type": "skip"
    }
   },
   "source": [
    "## Discussion question\n",
    "\n",
    "I roll a six-sided die and don't tell you what the result is, but I tell you that it is less than or equal to three. What is the probability that the result is even?\n",
    "\n",
    "- A) 1/2\n",
    "- B) 1/3\n",
    "- C) 1/4\n",
    "- D) None of the above."
   ]
  },
  {
   "cell_type": "markdown",
   "metadata": {
    "slideshow": {
     "slide_type": "skip"
    }
   },
   "source": [
    "## Discussion problem solved\n",
    "\n",
    "- There are three outcomes where the roll is three or less: 1, 2, 3\n",
    "- There are is only one outcome where both $A$ and $B$ happen: 2\n",
    "- So $P(B \\text{ given } A) = 1/ 3$"
   ]
  },
  {
   "cell_type": "markdown",
   "metadata": {
    "slideshow": {
     "slide_type": "skip"
    }
   },
   "source": [
    "## Probability that two events both happen\n",
    "\n",
    "$$\n",
    "P(A \\text{ and } B) = \\frac{\n",
    "    \\text{# of outcomes satisfying $A$ and $B$ both}\n",
    "}{\n",
    "    \\text{total # of outcomes}\n",
    "}\n",
    "$$\n",
    "\n",
    "What is the probability that the roll is even and less than three?\n",
    "\n",
    "- Only one outcome: 2.\n",
    "- Six total outcomes.\n",
    "- Probability is $1/6$."
   ]
  },
  {
   "cell_type": "markdown",
   "metadata": {
    "slideshow": {
     "slide_type": "skip"
    }
   },
   "source": [
    "## Another way to compute that...\n",
    "\n",
    "We have two formulas with the same numerator:\n",
    "\n",
    "$$\n",
    "P(B \\text{ given } A)\n",
    "= \\frac{\n",
    "    \\text{# of outcomes satisfying both $A$ and $B$}\n",
    "}{\n",
    "    \\text{# of outcomes satisfying $A$}\n",
    "}\n",
    "$$\n",
    "\n",
    "$$\n",
    "P(A \\text{ and } B) = \\frac{\n",
    "    \\text{# of outcomes satisfying both $A$ and $B$}\n",
    "}{\n",
    "    \\text{total # of outcomes}\n",
    "}\n",
    "$$"
   ]
  },
  {
   "cell_type": "markdown",
   "metadata": {
    "slideshow": {
     "slide_type": "skip"
    }
   },
   "source": [
    "So:\n",
    "$$\n",
    "    P(B \\text{ given } A) \\cdot \\text{# of outcomes satisfying $A$}\n",
    "    =\n",
    "    P(A \\text{ and } B) \\cdot \\text{total # of outcomes}\n",
    "$$"
   ]
  },
  {
   "cell_type": "markdown",
   "metadata": {
    "slideshow": {
     "slide_type": "skip"
    }
   },
   "source": [
    "such that:\n",
    "$$\n",
    "    \\begin{align*}\n",
    "    P(A \\text{ and } B) &= \\frac{\n",
    "        P(B \\text{ given } A) \\cdot \\text{# of outcomes satisfying $A$}\n",
    "    }{\n",
    "        \\text{total # of outcomes}\n",
    "    }\\\\[1em]\n",
    "    &=\n",
    "    P(A \\text{ given } B) \\cdot P(A)\n",
    "    \\end{align*}\n",
    "$$"
   ]
  },
  {
   "cell_type": "markdown",
   "metadata": {
    "slideshow": {
     "slide_type": "skip"
    }
   },
   "source": [
    "## Probability that two events both happen\n",
    "\n",
    "$$\n",
    "    P(A \\text{ and } B)\n",
    "    =\n",
    "    P(A \\text{ given } B) \\cdot P(A)\n",
    "$$\n",
    "\n",
    "- Suppose $A$ happens half the time.\n",
    "- And $B$ happens half of the time that $A$ happens.\n",
    "- Then $A$ and $B$ happen together $1/2 \\cdot 1/2 = 1/4$ of the time."
   ]
  },
  {
   "cell_type": "markdown",
   "metadata": {
    "slideshow": {
     "slide_type": "skip"
    }
   },
   "source": [
    "## Discussion question\n",
    "\n",
    "I have three cards: red, blue, and green. I pick one card, then, without putting it back, I pick a second card. What is the probability that I pick one red and one green?\n",
    "\n",
    "- A) 1/6\n",
    "- B) 1/3\n",
    "- C) 5/6\n",
    "- D) None of the above."
   ]
  },
  {
   "cell_type": "markdown",
   "metadata": {
    "slideshow": {
     "slide_type": "skip"
    }
   },
   "source": [
    "## Discussion question solved\n",
    "\n",
    "- Remember that there are six outcomes: RG, RB, BG, BR, GR, GB.\n",
    "- Two of them contain both R and G.\n",
    "- Hence: $2/6 = 1/3$."
   ]
  },
  {
   "cell_type": "markdown",
   "metadata": {
    "slideshow": {
     "slide_type": "skip"
    }
   },
   "source": [
    "## What if $B$ isn't affected by $A$?\n",
    "\n",
    "- We have found that $P(A \\text{ and } B) = P(A \\text{ given } B)\\cdot P(B)$.\n",
    "- Sometimes $P(A \\text{ given } B) = P(A)$. Then $P(A \\text{ and } B) = P(A) \\cdot P(B)$\n",
    "- Example: Suppose we flip a fair coin three times.\n",
    "    - The probability that the second flip is heads doesn't depend on the result of the first flip.\n",
    "- What is the probability of getting tails three times in a row?\n",
    "    - $1/2 \\cdot 1/2 \\cdot 1/2 = 1/8$"
   ]
  },
  {
   "cell_type": "markdown",
   "metadata": {
    "slideshow": {
     "slide_type": "skip"
    }
   },
   "source": [
    "## Probability of either of two events happening\n",
    "\n",
    "$$\n",
    "P(A \\text{ or } B) = \\frac{\n",
    "    \\text{# of outcomes satisfying either $A$ or $B$}\n",
    "    }{\n",
    "    \\text{total # of outcomes}\n",
    "    }\n",
    "$$"
   ]
  },
  {
   "cell_type": "markdown",
   "metadata": {
    "slideshow": {
     "slide_type": "skip"
    }
   },
   "source": [
    "## Mutual exclusivity\n",
    "\n",
    "- Suppose that if $A$ happens, then $B$ doesn't, and if $B$ happens then $A$ doesn't.\n",
    "- Then the # of outcomes satisfying either A or B is just:\n",
    "$$\n",
    "    (\\text{# of outcomes satisfying $A$})\n",
    "    +\n",
    "    (\\text{# of outcomes satisfying $B$})\n",
    "$$\n",
    "- So **if** $A$ and $B$ are mutually exclusive:\n",
    "\n",
    "$$\n",
    "\\begin{align*}\n",
    "    P(A \\text{ or } B) \n",
    "    &= \\frac{\n",
    "        \\text{# of outcomes satisfying either $A$ or $B$}\n",
    "        }{\n",
    "        \\text{total # of outcomes}\n",
    "        }\n",
    "        \\\\[1em]\n",
    "    &= \\frac{\n",
    "            (\\text{# of outcomes satisfying $A$})\n",
    "            +\n",
    "            (\\text{# of outcomes satisfying $B$})\n",
    "        }{\n",
    "        \\text{total # of outcomes}\n",
    "        }\n",
    "        \\\\[1em]\n",
    "    &= \\frac{\n",
    "            (\\text{# of outcomes satisfying $A$})\n",
    "        }{\n",
    "        \\text{total # of outcomes}\n",
    "        }\n",
    "        +\n",
    "        \\frac{\n",
    "            (\\text{# of outcomes satisfying $B$})\n",
    "        }{\n",
    "        \\text{total # of outcomes}\n",
    "        }\n",
    "    \\\\[1em]\n",
    "    &= P(A) + P(B)\n",
    "\\end{align*}\n",
    "$$"
   ]
  },
  {
   "cell_type": "markdown",
   "metadata": {
    "slideshow": {
     "slide_type": "skip"
    }
   },
   "source": [
    "## Probability that an event *doesn't* happen\n",
    "\n",
    "- The probability that $A$ doesn't happen is just $1 - P(A)$.\n",
    "- Example:\n",
    "    - If the probability of a sunny day is 0.85, then the probability of a non-sunny day is 0.15."
   ]
  },
  {
   "cell_type": "markdown",
   "metadata": {
    "slideshow": {
     "slide_type": "skip"
    }
   },
   "source": [
    "## Discussion question\n",
    "\n",
    "What is the probability of at least one head in 3 tosses?\n",
    "\n",
    "- A) 1/2\n",
    "- B) 3/4\n",
    "- C) 7/8\n",
    "- D) None of the above."
   ]
  },
  {
   "cell_type": "markdown",
   "metadata": {
    "slideshow": {
     "slide_type": "skip"
    }
   },
   "source": [
    "## Discussion question solved\n",
    "\n",
    "- We use a trick: calculate the probability of getting no heads in 3 tossed.\n",
    "- Our answer is 1, minus that.\n",
    "- Probability of no heads: $P(TTT) = 1/2 \\cdot 1/2 \\cdot 1/2 = 1/8$.\n",
    "- Probability of at least one heads: $1 - 1/8 = 7/8$"
   ]
  },
  {
   "cell_type": "markdown",
   "metadata": {
    "slideshow": {
     "slide_type": "skip"
    }
   },
   "source": [
    "## Discussion question\n",
    "\n",
    "Every time I call my grandma, the probability that she answers her phone is 1/3. If I call my grandma three times today, what is the chance that I will talk to her?\n",
    "\n",
    "- A) 1/3\n",
    "- B) 2/3\n",
    "- C) 1/2\n",
    "- D) 1\n",
    "- E) None of the above."
   ]
  },
  {
   "cell_type": "markdown",
   "metadata": {
    "slideshow": {
     "slide_type": "skip"
    }
   },
   "source": [
    "## Discussion question solved\n",
    "\n",
    "- We calculate the probability that she doesn't answer her phone in three tries.\n",
    "- $2/3 \\cdot 2/3 \\cdot 2/3 = 8/27$.\n",
    "- But we want the probability of her answering *at least* once. So we subtract this from one.\n",
    "- $1 - 8/27 = 19/27$; none of the above!"
   ]
  },
  {
   "cell_type": "markdown",
   "metadata": {
    "slideshow": {
     "slide_type": "slide"
    }
   },
   "source": [
    "### Deterministic sample:\n",
    "* Sampling scheme doesn’t involve chance\n",
    "\n",
    "### Probability (random) sample:\n",
    "* Before the sample is drawn, you have to know the probability of selecting each group of people in the population\n",
    "* Not all individuals need to have an equal chance of being selected"
   ]
  },
  {
   "cell_type": "markdown",
   "metadata": {
    "slideshow": {
     "slide_type": "slide"
    }
   },
   "source": [
    "### Example: deterministic sample\n",
    "\n",
    "Sample of students: take 50% of students, alphabetically by last name\n",
    "\n",
    "### Example: probability sample\n",
    "\n",
    "Sample of students: flip a coin for each student in class (heads, keep; tails, leave)"
   ]
  },
  {
   "cell_type": "markdown",
   "metadata": {
    "slideshow": {
     "slide_type": "slide"
    }
   },
   "source": [
    "### Example: a probability sample\n",
    "* Population: 3 individuals (A, B, C)\n",
    "* Select a sample of 2\n",
    "    - A chosen with probability 1\n",
    "    - Choose B or C based on coin toss\n",
    "* Possible samples: AB, AC, BC\n",
    "    - Chance of AB: ½\n",
    "    - Chance of AC: ½\n",
    "    - Chance of BC = 0"
   ]
  },
  {
   "cell_type": "code",
   "execution_count": null,
   "metadata": {},
   "outputs": [],
   "source": [
    "#:\n",
    "top = Table.read_table('top_movies.csv')\n",
    "top = top.with_column('Row Index', np.arange(top.num_rows))\n",
    "top = top.move_to_start('Row Index')\n",
    "\n",
    "top"
   ]
  },
  {
   "cell_type": "markdown",
   "metadata": {
    "slideshow": {
     "slide_type": "slide"
    }
   },
   "source": [
    "### Example: deterministic or probabilistic sample?\n",
    "* a sample of 3 specific rows"
   ]
  },
  {
   "cell_type": "code",
   "execution_count": null,
   "metadata": {},
   "outputs": [],
   "source": [
    "top.take(make_array(3,5,8))"
   ]
  },
  {
   "cell_type": "code",
   "execution_count": null,
   "metadata": {},
   "outputs": [],
   "source": [
    "# with replacement\n",
    "top.sample(100).group('Row Index').sort('count', descending=True)"
   ]
  },
  {
   "cell_type": "code",
   "execution_count": null,
   "metadata": {},
   "outputs": [],
   "source": [
    "# without replacement\n",
    "top.sample(100, with_replacement=False).group('Row Index').sort('count', descending=True)"
   ]
  },
  {
   "cell_type": "markdown",
   "metadata": {
    "slideshow": {
     "slide_type": "fragment"
    }
   },
   "source": [
    "deterministic sample"
   ]
  },
  {
   "cell_type": "markdown",
   "metadata": {
    "slideshow": {
     "slide_type": "slide"
    }
   },
   "source": [
    "### Example: deterministic or probabilistic sample?\n",
    "* a sample via a where statement"
   ]
  },
  {
   "cell_type": "code",
   "execution_count": null,
   "metadata": {},
   "outputs": [],
   "source": [
    "top.where('Title', are.containing('and the'))"
   ]
  },
  {
   "cell_type": "markdown",
   "metadata": {
    "slideshow": {
     "slide_type": "fragment"
    }
   },
   "source": [
    "deterministic sample"
   ]
  },
  {
   "cell_type": "markdown",
   "metadata": {
    "slideshow": {
     "slide_type": "slide"
    }
   },
   "source": [
    "### Discussion question\n",
    "Is the following sampling scheme a deterministic or probabilistic sample?\n",
    "* Start with a random number; take every tenth row thereafter.\n",
    "\n",
    "|Option|Answer|\n",
    "|---|---|\n",
    "|A| Deterministic|\n",
    "|B| Probabilitstic|"
   ]
  },
  {
   "cell_type": "markdown",
   "metadata": {
    "slideshow": {
     "slide_type": "slide"
    }
   },
   "source": [
    "###  Answer\n",
    "* Start with a random number; take every tenth row thereafter.\n",
    "* Any given row is equally likely to be picked! (But not true within groups of rows!)\n",
    "* probability sampling (systematic sampling)"
   ]
  },
  {
   "cell_type": "code",
   "execution_count": null,
   "metadata": {
    "slideshow": {
     "slide_type": "-"
    }
   },
   "outputs": [],
   "source": [
    "start = np.random.choice(np.arange(10))\n",
    "top.take(np.arange(start, 200, 10))"
   ]
  },
  {
   "cell_type": "markdown",
   "metadata": {
    "slideshow": {
     "slide_type": "slide"
    }
   },
   "source": [
    "### Example: samples uniformly at random with(out) replacement\n",
    "* `Table.sample` method\n",
    "* `with_replacement=True` is default."
   ]
  },
  {
   "cell_type": "code",
   "execution_count": null,
   "metadata": {},
   "outputs": [],
   "source": [
    "# with replacement\n",
    "top.sample(5)"
   ]
  },
  {
   "cell_type": "code",
   "execution_count": null,
   "metadata": {},
   "outputs": [],
   "source": [
    "# without replacement\n",
    "top.sample(5, with_replacement=False)"
   ]
  },
  {
   "cell_type": "markdown",
   "metadata": {
    "slideshow": {
     "slide_type": "slide"
    }
   },
   "source": [
    "## Sample of Convenience\n",
    "* Example: sample consists of whoever walks by\n",
    "    - Just because you think you’re sampling “at random”, doesn’t mean you are.\n",
    "* If you can’t figure out ahead of time \n",
    "    * what’s the population\n",
    "    * what’s the chance of selection, for each group in the population  \n",
    " \n",
    " then you don’t have a random sample!"
   ]
  },
  {
   "cell_type": "markdown",
   "metadata": {
    "slideshow": {
     "slide_type": "slide"
    }
   },
   "source": [
    "### Examples: sample of convenience\n",
    "\n",
    "* Voluntary internet surveys\n",
    "* Interviewing people on Library Walk\n",
    "* The first 100 visits to a website after an email campaign begins."
   ]
  },
  {
   "cell_type": "markdown",
   "metadata": {
    "slideshow": {
     "slide_type": "slide"
    }
   },
   "source": [
    "### Samples of convenience: pros and cons\n",
    "* Pros: \n",
    "    - Easy and inexpensive\n",
    "    - Most common type of sample\n",
    "* Cons: \n",
    "    - Results won't generalize to the population as a whole\n",
    "    - Results are likely biased"
   ]
  },
  {
   "cell_type": "markdown",
   "metadata": {},
   "source": [
    "### Example: sample of convenience\n",
    "\n",
    "* Study: determine the average age and sex of gamblers at a casino \n",
    "* Methodology: conducted for three hours on a weekday afternoon \n",
    "* Bias: Might overrepresent elderly people who have retired and underrepresented by people of working age"
   ]
  }
 ],
 "metadata": {
  "celltoolbar": "Slideshow",
  "kernelspec": {
   "display_name": "Python 3",
   "language": "python",
   "name": "python3"
  },
  "language_info": {
   "codemirror_mode": {
    "name": "ipython",
    "version": 3
   },
   "file_extension": ".py",
   "mimetype": "text/x-python",
   "name": "python",
   "nbconvert_exporter": "python",
   "pygments_lexer": "ipython3",
   "version": "3.7.3"
  },
  "livereveal": {
   "scroll": true,
   "transition": "none"
  }
 },
 "nbformat": 4,
 "nbformat_minor": 2
}
