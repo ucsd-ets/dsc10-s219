{
 "cells": [
  {
   "cell_type": "markdown",
   "metadata": {
    "slideshow": {
     "slide_type": "slide"
    }
   },
   "source": [
    "# Lecture 09 \n",
    "\n",
    "## Sampling and Empirical Distributions"
   ]
  },
  {
   "cell_type": "markdown",
   "metadata": {
    "slideshow": {
     "slide_type": "slide"
    }
   },
   "source": [
    "## Announcements\n",
    "\n",
    "1. Exam is Thursday\n",
    "    - similar in format to practice exams\n",
    "    - Laura will cover solutions in discussion tomorrow\n",
    "    - covers Chapters 1 through 9 of the textbook\n",
    "    - bring your student ID\n",
    "    - will post seating chart on Piazza\n",
    "2. Slip day deadline for project is tonight\n",
    "3. Lab 5 and HW 4 due Friday this week"
   ]
  },
  {
   "cell_type": "markdown",
   "metadata": {
    "slideshow": {
     "slide_type": "slide"
    }
   },
   "source": [
    "### Deterministic sample:\n",
    "* Sampling scheme doesn’t involve chance\n",
    "\n",
    "### Probability (random) sample:\n",
    "* Before the sample is drawn, you have to know the probability of selecting each group of people in the population\n",
    "* Not all individuals need to have an equal chance of being selected"
   ]
  },
  {
   "cell_type": "markdown",
   "metadata": {
    "slideshow": {
     "slide_type": "slide"
    }
   },
   "source": [
    "### Example: deterministic sample\n",
    "\n",
    "Sample of students: take first half of students, alphabetically by last name\n",
    "\n",
    "### Example: probability sample\n",
    "\n",
    "Sample of students: flip a coin for each student in class (heads, keep; tails, leave)"
   ]
  },
  {
   "cell_type": "markdown",
   "metadata": {
    "slideshow": {
     "slide_type": "slide"
    }
   },
   "source": [
    "### Example: a probability sample\n",
    "* Population: 3 individuals (A, B, C)\n",
    "* Select a sample of 2\n",
    "    - A chosen with probability 1\n",
    "    - Choose B or C based on coin toss\n",
    "* Possible samples: AB, AC, BC\n",
    "    - Chance of AB: ½\n",
    "    - Chance of AC: ½\n",
    "    - Chance of BC = 0"
   ]
  },
  {
   "cell_type": "code",
   "execution_count": 51,
   "metadata": {
    "slideshow": {
     "slide_type": "slide"
    }
   },
   "outputs": [
    {
     "data": {
      "text/plain": [
       "{'width': 500, 'height': 500, 'scroll': True}"
      ]
     },
     "execution_count": 51,
     "metadata": {},
     "output_type": "execute_result"
    }
   ],
   "source": [
    "from datascience import *\n",
    "import numpy as np\n",
    "\n",
    "%matplotlib inline\n",
    "import matplotlib.pyplot as plt\n",
    "import warnings; warnings.simplefilter('ignore')\n",
    "\n",
    "plt.style.use('fivethirtyeight')\n",
    "\n",
    "from notebook.services.config import ConfigManager\n",
    "\n",
    "cm = ConfigManager()\n",
    "cm.update(\n",
    "   \"livereveal\", {\n",
    "       'width': 500,\n",
    "       'height': 500,\n",
    "       \"scroll\": True,\n",
    "})"
   ]
  },
  {
   "cell_type": "code",
   "execution_count": null,
   "metadata": {
    "slideshow": {
     "slide_type": "slide"
    }
   },
   "outputs": [],
   "source": [
    "top = Table.read_table('top_movies.csv')\n",
    "top = top.with_column('Row Index', np.arange(top.num_rows))\n",
    "top = top.move_to_start('Row Index')\n",
    "\n",
    "top"
   ]
  },
  {
   "cell_type": "markdown",
   "metadata": {
    "slideshow": {
     "slide_type": "slide"
    }
   },
   "source": [
    "### Example: deterministic or probabilistic sample?\n",
    "* a sample of 3 specific rows"
   ]
  },
  {
   "cell_type": "code",
   "execution_count": null,
   "metadata": {},
   "outputs": [],
   "source": [
    "# use take\n",
    "top.take(make_array(56, 78, 104))"
   ]
  },
  {
   "cell_type": "markdown",
   "metadata": {
    "slideshow": {
     "slide_type": "slide"
    }
   },
   "source": [
    "### Example: deterministic or probabilistic sample?\n",
    "* a sample via a where statement"
   ]
  },
  {
   "cell_type": "code",
   "execution_count": null,
   "metadata": {},
   "outputs": [],
   "source": [
    "# containing \"and the\"\n",
    "top.where('Title', are.containing('and the'))"
   ]
  },
  {
   "cell_type": "markdown",
   "metadata": {
    "slideshow": {
     "slide_type": "slide"
    }
   },
   "source": [
    "### Discussion question\n",
    "\n",
    "* Start with a random number from 0 to 9; take every tenth row thereafter.\n",
    "\n",
    "Is this:  \n",
    "A. Deterministic  \n",
    "B. Probabilistic  \n",
    "C. Neither\n"
   ]
  },
  {
   "cell_type": "markdown",
   "metadata": {
    "slideshow": {
     "slide_type": "slide"
    }
   },
   "source": [
    "### Discussion question\n",
    "\n",
    "* Start with a random number from 0 to 9; take every tenth row thereafter.\n",
    "\n",
    "If our table has 87 rows, what is the probability that row 34 is included in our sample?\n",
    "\n",
    "|Option|Answer|\n",
    "|---|---|\n",
    "|A| $\\dfrac{1}{87}$\n",
    "|B| $\\dfrac{34}{87}$\n",
    "|C| $\\dfrac{1}{10}$\n",
    "|D| none of the above"
   ]
  },
  {
   "cell_type": "markdown",
   "metadata": {
    "slideshow": {
     "slide_type": "slide"
    }
   },
   "source": [
    "###  Answer\n",
    "* Start with a random number; take every tenth row thereafter.\n",
    "* Any given row is equally likely to be picked! (But not true for groups of rows!)"
   ]
  },
  {
   "cell_type": "code",
   "execution_count": null,
   "metadata": {
    "slideshow": {
     "slide_type": "-"
    }
   },
   "outputs": [],
   "source": [
    "start = np.random.choice(np.arange(10))\n",
    "top.take(np.arange(start, 200, 10))"
   ]
  },
  {
   "cell_type": "markdown",
   "metadata": {
    "slideshow": {
     "slide_type": "slide"
    }
   },
   "source": [
    "### Example: sample uniformly at random with(out) replacement\n",
    "* `Table.sample` method\n",
    "* `with_replacement=True` is default."
   ]
  },
  {
   "cell_type": "code",
   "execution_count": null,
   "metadata": {},
   "outputs": [],
   "source": [
    "choices = np.arange(top.num_rows)\n",
    "sample = np.random.choice(choices, 5)\n",
    "top.take(sample)"
   ]
  },
  {
   "cell_type": "code",
   "execution_count": null,
   "metadata": {},
   "outputs": [],
   "source": [
    "# with replacement\n",
    "top.sample(100).group('Row Index').sort('count', descending=True)"
   ]
  },
  {
   "cell_type": "code",
   "execution_count": null,
   "metadata": {
    "scrolled": true
   },
   "outputs": [],
   "source": [
    "# without replacement\n",
    "top.sample(100, with_replacement=False).group('Row Index').sort('count', descending=True)"
   ]
  },
  {
   "cell_type": "markdown",
   "metadata": {
    "slideshow": {
     "slide_type": "-"
    }
   },
   "source": [
    "### Observe\n",
    "* When sample size is much less than population, sampling without replacement is similar to sampling with replacement.\n",
    "* When sample size is close to population, this is *not* true."
   ]
  },
  {
   "cell_type": "markdown",
   "metadata": {
    "slideshow": {
     "slide_type": "slide"
    }
   },
   "source": [
    "## Sample of Convenience\n",
    "* Example: sample consists of whoever walks by\n",
    "    - Just because you think you’re sampling “at random”, doesn’t mean you are.\n",
    "* If you can’t figure out ahead of time \n",
    "    * what’s the population\n",
    "    * what’s the chance of selection, for each group in the population\n",
    "\n",
    "then you don’t have a random sample!"
   ]
  },
  {
   "cell_type": "markdown",
   "metadata": {
    "slideshow": {
     "slide_type": "fragment"
    }
   },
   "source": [
    "### Examples: \n",
    "\n",
    "* Voluntary internet surveys\n",
    "* Interviewing people on Library Walk\n",
    "* The first 100 visits to a website after an email campaign begins."
   ]
  },
  {
   "cell_type": "markdown",
   "metadata": {
    "slideshow": {
     "slide_type": "slide"
    }
   },
   "source": [
    "### Samples of convenience: the most common type of sample\n",
    "\n",
    "* Pros: \n",
    "    - Easy \n",
    "    - Inexpensive\n",
    "* Cons: \n",
    "    - Results won't generalize to the population as a whole\n",
    "    - Results are likely biased"
   ]
  },
  {
   "cell_type": "markdown",
   "metadata": {
    "slideshow": {
     "slide_type": "fragment"
    }
   },
   "source": [
    "### Example: sample of convenience\n",
    "\n",
    "* Study: determine the average age of gamblers at a casino \n",
    "* Methodology: conducted for three hours on a weekday afternoon \n",
    "* Bias: Might overrepresent elderly people who have retired and underrepresent people of working age"
   ]
  },
  {
   "cell_type": "markdown",
   "metadata": {
    "slideshow": {
     "slide_type": "slide"
    }
   },
   "source": [
    "# Distributions"
   ]
  },
  {
   "cell_type": "markdown",
   "metadata": {
    "slideshow": {
     "slide_type": "slide"
    }
   },
   "source": [
    "## Probability Distribution\n",
    "* Random quantity with various possible values\n",
    "* “Probability distribution”:\n",
    "    - All the possible values of the quantity\n",
    "    - The probability of each of those values"
   ]
  },
  {
   "cell_type": "markdown",
   "metadata": {},
   "source": [
    "## Empirical Distribution\n",
    "\n",
    "* Based on observations\n",
    "* Observations can be from repetitions of an experiment\n",
    "* “Empirical Distribution”\n",
    "    - All observed values\n",
    "    - The proportion of counts of each value"
   ]
  },
  {
   "cell_type": "markdown",
   "metadata": {
    "slideshow": {
     "slide_type": "slide"
    }
   },
   "source": [
    "### Example: Dice\n",
    "* simulate a roll as a sample from a table"
   ]
  },
  {
   "cell_type": "code",
   "execution_count": null,
   "metadata": {},
   "outputs": [],
   "source": [
    "die =  (\n",
    "    Table()\n",
    "    .with_column('face', np.arange(1, 7, 1))\n",
    ")\n",
    "die"
   ]
  },
  {
   "cell_type": "code",
   "execution_count": null,
   "metadata": {},
   "outputs": [],
   "source": [
    "# roll a single die\n",
    "die.sample(1)"
   ]
  },
  {
   "cell_type": "markdown",
   "metadata": {
    "slideshow": {
     "slide_type": "slide"
    }
   },
   "source": [
    "### The probability distribution is uniform"
   ]
  },
  {
   "cell_type": "code",
   "execution_count": null,
   "metadata": {},
   "outputs": [],
   "source": [
    "bins =  np.arange(0.5, 6.6, 1)\n",
    "die.hist('face', bins=bins)"
   ]
  },
  {
   "cell_type": "markdown",
   "metadata": {
    "slideshow": {
     "slide_type": "slide"
    }
   },
   "source": [
    "### Roll the die and plot the empirical distribution\n",
    "* Try it for 10, 100, 1000, etc\n",
    "* What does it converge to?"
   ]
  },
  {
   "cell_type": "code",
   "execution_count": null,
   "metadata": {},
   "outputs": [],
   "source": [
    "die.sample(10)"
   ]
  },
  {
   "cell_type": "code",
   "execution_count": null,
   "metadata": {},
   "outputs": [],
   "source": [
    "die.sample(1000000).hist('face', bins=bins)\n",
    "# die.sample(10000000).hist('face', bins=bins)"
   ]
  },
  {
   "cell_type": "markdown",
   "metadata": {
    "slideshow": {
     "slide_type": "slide"
    }
   },
   "source": [
    "# Large Random Samples"
   ]
  },
  {
   "cell_type": "markdown",
   "metadata": {
    "slideshow": {
     "slide_type": "slide"
    }
   },
   "source": [
    "## Law of Averages/Law of Large Numbers\n",
    "\n",
    "* If a chance experiment is repeated \n",
    "    - many times,\n",
    "    - independently,\n",
    "    - under the same conditions,\n",
    "    \n",
    "then the proportion of times that an event occurs gets closer to the theoretical probability of the event.\n"
   ]
  },
  {
   "cell_type": "markdown",
   "metadata": {
    "slideshow": {
     "slide_type": "fragment"
    }
   },
   "source": [
    "*Example:* As you roll a die repeatedly, the proportion of times you roll a 5 gets closer to 1/6."
   ]
  },
  {
   "cell_type": "markdown",
   "metadata": {
    "slideshow": {
     "slide_type": "slide"
    }
   },
   "source": [
    "## Convergence of Empirical Histogram\n",
    "\n",
    "If the sample size is large, then the empirical distribution of a uniform random sample resembles the distribution of the population, with high probability.\n",
    "\n",
    "Depends on having a large random sample!"
   ]
  },
  {
   "cell_type": "markdown",
   "metadata": {
    "slideshow": {
     "slide_type": "slide"
    }
   },
   "source": [
    "## Application: Estimating Probabilities through Simulation\n",
    "\n",
    "* The law of averages justifies why we can estimate probabilities through simulation.\n",
    "* If we simulate many times, the empirical proportion of times that an event occurs is likely to be very close to the true probability of the event.\n",
    "\n",
    "### Estimating probability: rolling a die $N$ times"
   ]
  },
  {
   "cell_type": "markdown",
   "metadata": {
    "slideshow": {
     "slide_type": "slide"
    }
   },
   "source": [
    "### Discussion Question\n",
    "\n",
    "If you roll a die 4 times. What's P(at least one 6)?\n",
    "\n",
    "|Option|Answer|\n",
    "|---|---|\n",
    "|A| $5/6$|\n",
    "|B| $1-5/6$|\n",
    "|C| $1-(5/6)^4$|\n",
    "|D| $1-(1/6)^4$|\n",
    "|E| None of the above|\n"
   ]
  },
  {
   "cell_type": "markdown",
   "metadata": {
    "slideshow": {
     "slide_type": "slide"
    }
   },
   "source": [
    "### Answer for 4 rolls\n",
    "$$ P(\\text{at least one 6}) = 1 - P(\\text{no 6}) = 1 - \\left(\\dfrac{5}{6}\\right)^4$$"
   ]
  },
  {
   "cell_type": "markdown",
   "metadata": {
    "slideshow": {
     "slide_type": "fragment"
    }
   },
   "source": [
    "### Answer for N rolls\n",
    "$$ P(\\text{at least one 6}) = 1 - P(\\text{no 6}) = 1 - \\left(\\dfrac{5}{6}\\right)^N$$"
   ]
  },
  {
   "cell_type": "markdown",
   "metadata": {
    "slideshow": {
     "slide_type": "slide"
    }
   },
   "source": [
    "### Plot the true probability for each N"
   ]
  },
  {
   "cell_type": "code",
   "execution_count": null,
   "metadata": {},
   "outputs": [],
   "source": [
    "#:\n",
    "rolls = np.arange(1, 51)\n",
    "at_least_one = Table().with_columns('number of dice', rolls, 'Chance of getting at least one 6', 1-(5/6)**rolls)\n",
    "at_least_one.scatter('number of dice')"
   ]
  },
  {
   "cell_type": "markdown",
   "metadata": {
    "slideshow": {
     "slide_type": "slide"
    }
   },
   "source": [
    "### Estimate the probability for N=20\n",
    "* What is the chance of getting at least one 6 in 20 rolls?"
   ]
  },
  {
   "cell_type": "code",
   "execution_count": null,
   "metadata": {},
   "outputs": [],
   "source": [
    "faces = np.arange(1, 7)\n",
    "outcomes = np.random.choice(faces, 20) # pick random number from faces, 20 times\n",
    "outcomes"
   ]
  },
  {
   "cell_type": "code",
   "execution_count": null,
   "metadata": {},
   "outputs": [],
   "source": [
    "# number of sixes\n",
    "np.count_nonzero(outcomes == 6)"
   ]
  },
  {
   "cell_type": "code",
   "execution_count": null,
   "metadata": {},
   "outputs": [],
   "source": [
    "rolled6 = 0\n",
    "trials = 10000\n",
    "for i in np.arange(trials):\n",
    "    outcomes = np.random.choice(faces, 20)\n",
    "    if np.count_nonzero(outcomes == 6) >=1:\n",
    "        rolled6 = rolled6 + 1\n",
    "        \n",
    "#estimate the probability\n",
    "rolled6/trials"
   ]
  },
  {
   "cell_type": "markdown",
   "metadata": {
    "slideshow": {
     "slide_type": "slide"
    }
   },
   "source": [
    "### Estimate the probability for N=20\n",
    "* wrap the experiment in a function\n",
    "* run the experiment many times"
   ]
  },
  {
   "cell_type": "code",
   "execution_count": null,
   "metadata": {},
   "outputs": [],
   "source": [
    "def roll_20(trials):\n",
    "    rolled6 = 0\n",
    "    for i in np.arange(trials):\n",
    "        outcomes = np.random.choice(faces, 20)\n",
    "        if np.count_nonzero(outcomes == 6) >=1:\n",
    "            rolled6 = rolled6 + 1\n",
    "\n",
    "    return rolled6/trials\n",
    "\n",
    "roll_20(1000)"
   ]
  },
  {
   "cell_type": "code",
   "execution_count": null,
   "metadata": {},
   "outputs": [],
   "source": [
    "estimates = make_array()\n",
    "for i in np.arange(500):\n",
    "    estimates = np.append(estimates, roll_20(1000))\n",
    "    \n",
    "probs = Table().with_column('estimates', estimates)"
   ]
  },
  {
   "cell_type": "code",
   "execution_count": null,
   "metadata": {},
   "outputs": [],
   "source": [
    "probs.hist()\n",
    "true_prob = 1 - (5/6)**20\n",
    "plt.axvline(x=true_prob, c='r');"
   ]
  },
  {
   "cell_type": "markdown",
   "metadata": {
    "slideshow": {
     "slide_type": "slide"
    }
   },
   "source": [
    "## Sampling from a Population\n",
    "\n",
    "Knowing that large random samples resemble the population is extremly practical. This allows us to sample from a population instead of conducting a census."
   ]
  },
  {
   "cell_type": "markdown",
   "metadata": {
    "slideshow": {
     "slide_type": "slide"
    }
   },
   "source": [
    "### Example: distribution of flight delays\n",
    "* All United flights leaving SFO between 6/1/15 and 8/9/15.\n",
    "* This is the population."
   ]
  },
  {
   "cell_type": "code",
   "execution_count": null,
   "metadata": {},
   "outputs": [],
   "source": [
    "united = Table().read_table('united_summer2015.csv')\n",
    "united"
   ]
  },
  {
   "cell_type": "markdown",
   "metadata": {
    "slideshow": {
     "slide_type": "slide"
    }
   },
   "source": [
    "### Distribution of flight delays in the full population\n"
   ]
  },
  {
   "cell_type": "code",
   "execution_count": null,
   "metadata": {},
   "outputs": [],
   "source": [
    "united.num_rows"
   ]
  },
  {
   "cell_type": "code",
   "execution_count": null,
   "metadata": {},
   "outputs": [],
   "source": [
    "bins = np.arange(-20, 300, 10)\n",
    "united.hist('Delay', bins=bins, unit='minute')"
   ]
  },
  {
   "cell_type": "code",
   "execution_count": null,
   "metadata": {},
   "outputs": [],
   "source": [
    "# try larger N's\n",
    "N = 100\n",
    "united.sample(N).hist('Delay', bins=bins, unit='minute')"
   ]
  },
  {
   "cell_type": "markdown",
   "metadata": {
    "slideshow": {
     "slide_type": "slide"
    }
   },
   "source": [
    "### Estimating the mean\n",
    "* If the distribution of a sample looks like the distribution of the population, does the mean of the sample look like the mean of the population?\n",
    "* Calculate the mean of all delays (population)\n",
    "* Compare to the mean of uniform random samples."
   ]
  },
  {
   "cell_type": "code",
   "execution_count": null,
   "metadata": {},
   "outputs": [],
   "source": [
    "# calculate the mean of population\n",
    "united_mean = united.column('Delay').mean()\n",
    "united_mean"
   ]
  },
  {
   "cell_type": "code",
   "execution_count": null,
   "metadata": {},
   "outputs": [],
   "source": [
    "for n in np.arange(100, 10000, 200):\n",
    "    m = united.sample(n).column('Delay').mean()\n",
    "    print('number of flights: ', n, '    mean of sample: ', m)"
   ]
  },
  {
   "cell_type": "markdown",
   "metadata": {
    "slideshow": {
     "slide_type": "slide"
    }
   },
   "source": [
    "### Distribution of means from uniform samples with replacement\n",
    "* Nice curve around the mean.\n",
    "* Does the histogram skew one direction?"
   ]
  },
  {
   "cell_type": "code",
   "execution_count": null,
   "metadata": {},
   "outputs": [],
   "source": [
    "n_experiments = 10000\n",
    "means = make_array()\n",
    "for n in np.arange(n_experiments):\n",
    "    m = united.sample(100).column('Delay').mean()\n",
    "    means = np.append(m, means)\n",
    "\n",
    "Table().with_columns('mean', means).hist(bins=np.arange(0,40))\n",
    "plt.axvline(x=united_mean, c='r');"
   ]
  },
  {
   "cell_type": "markdown",
   "metadata": {
    "slideshow": {
     "slide_type": "slide"
    }
   },
   "source": [
    "### Distribution of means from uniform samples without replacement\n"
   ]
  },
  {
   "cell_type": "code",
   "execution_count": null,
   "metadata": {},
   "outputs": [],
   "source": [
    "n_experiments = 10000\n",
    "means = make_array()\n",
    "for n in np.arange(n_experiments):\n",
    "    m = united.sample(100, with_replacement=False).column('Delay').mean()\n",
    "    means = np.append(m, means)\n",
    "\n",
    "Table().with_columns('mean', means).hist(bins=np.arange(0,40))\n",
    "plt.axvline(x=united_mean, c='r');"
   ]
  },
  {
   "cell_type": "markdown",
   "metadata": {
    "slideshow": {
     "slide_type": "slide"
    }
   },
   "source": [
    "### Distribution of means from uniform samples of flights from Denver\n",
    "\n",
    "* How you sample matters.\n",
    "* This sample is a probability sample. \n",
    "     - Each flight from Denver is equally likely to be in the sample.\n",
    "     - Each flight from somewhere else is not in the sample.\n",
    "* Estimation of the mean is highly biased!"
   ]
  },
  {
   "cell_type": "code",
   "execution_count": null,
   "metadata": {},
   "outputs": [],
   "source": [
    "n_experiments = 10000\n",
    "means = make_array()\n",
    "\n",
    "den = united.where('Destination', 'DEN')\n",
    "for n in np.arange(n_experiments):\n",
    "    m = den.sample(100).column('Delay').mean()\n",
    "    means = np.append(m, means)\n",
    "\n",
    "Table().with_columns('mean', means).hist(bins=np.arange(0,40))\n",
    "plt.axvline(x=united_mean, c='r');"
   ]
  },
  {
   "cell_type": "markdown",
   "metadata": {
    "slideshow": {
     "slide_type": "slide"
    }
   },
   "source": [
    "### Distribution of means from evenly-spaced random samples\n",
    "* This sample is a probability sample.\n",
    "* Why does the histogram look this way?"
   ]
  },
  {
   "cell_type": "code",
   "execution_count": null,
   "metadata": {},
   "outputs": [],
   "source": [
    "n_experiments = 10000\n",
    "means = make_array()\n",
    "for n in np.arange(n_experiments):\n",
    "    start = np.random.choice(np.arange(20))\n",
    "    m = united.take(np.arange(start, united.num_rows, 50)).column('Delay').mean()\n",
    "    means = np.append(m, means)\n",
    "\n",
    "Table().with_columns('mean', means).hist(bins=np.arange(0,40))\n",
    "plt.axvline(x=united_mean, c='r');"
   ]
  },
  {
   "cell_type": "markdown",
   "metadata": {
    "slideshow": {
     "slide_type": "slide"
    }
   },
   "source": [
    "### Distribution of means from deterministic samples\n",
    "* Low variation and very high bias leads to confidence. \n",
    "* But we are way off because the sample was not taken uniformly at random.\n",
    "* How you sample matters!"
   ]
  },
  {
   "cell_type": "code",
   "execution_count": null,
   "metadata": {},
   "outputs": [],
   "source": [
    "n_experiments = 10000\n",
    "means = make_array()\n",
    "for n in np.arange(n_experiments):\n",
    "    m = united.take(np.arange(100)).column('Delay').mean()\n",
    "    means = np.append(m, means)\n",
    "\n",
    "Table().with_columns('mean', means).hist(bins=np.arange(0,40))\n",
    "plt.axvline(x=united_mean, c='r');"
   ]
  },
  {
   "cell_type": "markdown",
   "metadata": {
    "slideshow": {
     "slide_type": "slide"
    }
   },
   "source": [
    "# --- End Lecture 09 ---"
   ]
  },
  {
   "cell_type": "markdown",
   "metadata": {
    "slideshow": {
     "slide_type": "slide"
    }
   },
   "source": [
    "## Statistical Inference\n",
    "\n",
    "* Making conclusions based on data in random samples."
   ]
  },
  {
   "cell_type": "markdown",
   "metadata": {
    "slideshow": {
     "slide_type": "fragment"
    }
   },
   "source": [
    "### Use it to...\n",
    "* Guess the value of an unknown (fixed) number.\n",
    "* Create an estimate of the unknown quantity using a random sample."
   ]
  },
  {
   "cell_type": "markdown",
   "metadata": {
    "slideshow": {
     "slide_type": "slide"
    }
   },
   "source": [
    "### Terminology\n",
    "\n",
    "* Parameter: A number associated with the population\n",
    "* Statistic: A number calculated from the sample\n",
    "\n",
    "A statistic can be used as an estimate of a parameter."
   ]
  },
  {
   "cell_type": "markdown",
   "metadata": {
    "slideshow": {
     "slide_type": "slide"
    }
   },
   "source": [
    "## Approach\n",
    "\n",
    "* Figure out the code to generate one value of the statistic\n",
    "* Create an empty array in which you will collect all the simulated values\n",
    "* For each repetition of the process:\n",
    "    - Simulate one value of the statistic\n",
    "    - Append this value to the collection array"
   ]
  },
  {
   "attachments": {
    "image.png": {
     "image/png": "[encoded data removed]"
    }
   },
   "cell_type": "markdown",
   "metadata": {
    "slideshow": {
     "slide_type": "slide"
    }
   },
   "source": [
    "### Estimating the number of enemy planes in WWII\n",
    "\n",
    "![image.png](attachment:image.png)"
   ]
  },
  {
   "cell_type": "markdown",
   "metadata": {
    "slideshow": {
     "slide_type": "slide"
    }
   },
   "source": [
    "### Setup\n",
    "\n",
    "* Planes have serial numbers 1, 2, 3, …, N.\n",
    "* We don’t know N.\n",
    "* We would like to estimate N based on the serial numbers of the planes that we see."
   ]
  },
  {
   "cell_type": "markdown",
   "metadata": {
    "slideshow": {
     "slide_type": "slide"
    }
   },
   "source": [
    "### The main assumption\n",
    "The serial numbers of the planes that we see are a uniform random sample drawn with replacement from 1, 2, 3, …, N."
   ]
  },
  {
   "cell_type": "markdown",
   "metadata": {
    "slideshow": {
     "slide_type": "slide"
    }
   },
   "source": [
    "### Discussion Question\n",
    "\n",
    "If you saw these serial numbers, what would be your estimate of N?\n",
    "```\n",
    "170\t 271\t285\t 290\t 48\n",
    "235\t 24\t 90 \t 291 \t19\n",
    "```\n",
    "\n",
    "\n",
    "- A) 291\n",
    "- B) 350\n",
    "- C) 470\n",
    "- D) Not enough information\n",
    "- E) Different guess"
   ]
  },
  {
   "cell_type": "markdown",
   "metadata": {
    "slideshow": {
     "slide_type": "slide"
    }
   },
   "source": [
    "### The largest number observed\n",
    "\n",
    "* Is it likely to be close to N?\n",
    "    - How likely?\n",
    "    - How close?"
   ]
  },
  {
   "cell_type": "markdown",
   "metadata": {
    "slideshow": {
     "slide_type": "slide"
    }
   },
   "source": [
    "### Simulate Serial Numbers\n",
    "* Fix number of planes at 300\n",
    "* Sample uniformly with replacement"
   ]
  },
  {
   "cell_type": "code",
   "execution_count": null,
   "metadata": {
    "slideshow": {
     "slide_type": "-"
    }
   },
   "outputs": [],
   "source": [
    "#:\n",
    "N = 300\n",
    "serialno = Table().with_column('Serial number', np.arange(1, N))\n",
    "serialno"
   ]
  },
  {
   "cell_type": "markdown",
   "metadata": {
    "slideshow": {
     "slide_type": "slide"
    }
   },
   "source": [
    "### Estimate: attempt #1\n",
    "* Guess: number of planes equal to max observed in sample"
   ]
  },
  {
   "cell_type": "code",
   "execution_count": null,
   "metadata": {},
   "outputs": [],
   "source": [
    "# statistic\n",
    "serialno.sample(30).column(0).max()"
   ]
  },
  {
   "cell_type": "code",
   "execution_count": null,
   "metadata": {
    "scrolled": true
   },
   "outputs": [],
   "source": [
    "#:\n",
    "repetitions = 1000\n",
    "sample_size = 30\n",
    "maxes = make_array()\n",
    "for i in np.arange(repetitions):\n",
    "    m = serialno.sample(sample_size).column(0).max()\n",
    "    maxes = np.append(maxes, m)\n",
    "maxes"
   ]
  },
  {
   "cell_type": "code",
   "execution_count": null,
   "metadata": {
    "slideshow": {
     "slide_type": "-"
    }
   },
   "outputs": [],
   "source": [
    "estimates = Table().with_column(\"estimated_N\", maxes)\n",
    "estimates"
   ]
  },
  {
   "cell_type": "code",
   "execution_count": null,
   "metadata": {},
   "outputs": [],
   "source": [
    "estimates.hist(0, bins=np.arange(200, 400, 10))"
   ]
  },
  {
   "cell_type": "markdown",
   "metadata": {
    "slideshow": {
     "slide_type": "slide"
    }
   },
   "source": [
    "### Verdict on the estimate\n",
    "\n",
    "* The largest serial number observed is likely to be close to N.\n",
    "* But it is also likely to underestimate N."
   ]
  },
  {
   "cell_type": "markdown",
   "metadata": {
    "slideshow": {
     "slide_type": "slide"
    }
   },
   "source": [
    "### Estimate: attempt #2\n",
    "* Average of the serial numbers observed  ~  N/2\n",
    "* Try to estimate the number of planes using twice the average seen in the sample"
   ]
  },
  {
   "cell_type": "code",
   "execution_count": null,
   "metadata": {},
   "outputs": [],
   "source": [
    "#:\n",
    "repetitions = 1000\n",
    "sample_size = 30\n",
    "avgs = make_array()\n",
    "for i in np.arange(repetitions):\n",
    "    m = serialno.sample(sample_size).column(0).mean() * 2\n",
    "    avgs = np.append(avgs, m)\n",
    "avgs"
   ]
  },
  {
   "cell_type": "code",
   "execution_count": null,
   "metadata": {},
   "outputs": [],
   "source": [
    "#:\n",
    "estimates = Table().with_column(\"estimated_N\", avgs)\n",
    "estimates"
   ]
  },
  {
   "cell_type": "code",
   "execution_count": null,
   "metadata": {},
   "outputs": [],
   "source": [
    "#:\n",
    "estimates.hist(0, bins=np.arange(200, 400, 10))"
   ]
  },
  {
   "cell_type": "markdown",
   "metadata": {
    "slideshow": {
     "slide_type": "slide"
    }
   },
   "source": [
    "## Probability Distribution of a Statistic\n",
    "\n",
    "* Values of a statistic vary because random samples vary\n",
    "* “Sampling distribution” or “probability distribution” of the statistic\n",
    "    - All possible values of the statistic and all the corresponding probabilities.\n",
    "* Can be hard to calculate: \n",
    "    - either have to do the math or have to generate all possible samples and calculate the statistic based on each sample\n"
   ]
  },
  {
   "cell_type": "markdown",
   "metadata": {
    "slideshow": {
     "slide_type": "slide"
    }
   },
   "source": [
    "## Empirical Distribution of a Statistic\n",
    "* Empirical distribution of the statistic\n",
    "    - Based on simulated values of the statistic\n",
    "    - Consists of all the observed values of the statistic,\n",
    "    - and the proportion of times each value appeared\n",
    "\n",
    "* Good approximation to the probability distribution of the statistic \n",
    "    - if the number of repetitions in the simulation is large\n",
    "\n"
   ]
  },
  {
   "cell_type": "markdown",
   "metadata": {
    "slideshow": {
     "slide_type": "slide"
    }
   },
   "source": [
    "## Estimating the Number of Planes\n",
    "* Statistic: `max`, `2 * mean`\n",
    "* Probability distribution: \n",
    "    - e.g. likelihood `max` of a sample of 30 out of 300 is equal to N\n",
    "* Empirical distribution: histograms from our simulations"
   ]
  },
  {
   "cell_type": "markdown",
   "metadata": {
    "slideshow": {
     "slide_type": "slide"
    }
   },
   "source": [
    "## Bias and Variance\n",
    "* Which statistic was a better estimate?"
   ]
  },
  {
   "cell_type": "markdown",
   "metadata": {
    "slideshow": {
     "slide_type": "slide"
    }
   },
   "source": [
    "## Bias\n",
    "* Biased estimate: On average across all possible samples, the estimate is either too high or too low.\n",
    "* Bias creates a systematic error in one direction.\n",
    "* Good estimates typically have low bias."
   ]
  },
  {
   "cell_type": "markdown",
   "metadata": {
    "slideshow": {
     "slide_type": "slide"
    }
   },
   "source": [
    "## Variability\n",
    "\n",
    "* The degree to which the value of an estimate varies from one sample to another.\n",
    "* High variability makes it hard to estimate accurately.\n",
    "* Good estimates typically have low variability."
   ]
  },
  {
   "cell_type": "markdown",
   "metadata": {
    "slideshow": {
     "slide_type": "slide"
    }
   },
   "source": [
    "## Bias-variance trade-off\n",
    "* The max has low variability, but it is biased.\n",
    "* 2 * average has little bias, but it is highly variable.\n",
    "* Life is tough."
   ]
  },
  {
   "cell_type": "code",
   "execution_count": null,
   "metadata": {},
   "outputs": [],
   "source": []
  }
 ],
 "metadata": {
  "celltoolbar": "Slideshow",
  "kernelspec": {
   "display_name": "Python 3",
   "language": "python",
   "name": "python3"
  },
  "language_info": {
   "codemirror_mode": {
    "name": "ipython",
    "version": 3
   },
   "file_extension": ".py",
   "mimetype": "text/x-python",
   "name": "python",
   "nbconvert_exporter": "python",
   "pygments_lexer": "ipython3",
   "version": "3.7.3"
  },
  "livereveal": {
   "scroll": true,
   "transition": "none"
  }
 },
 "nbformat": 4,
 "nbformat_minor": 2
}
