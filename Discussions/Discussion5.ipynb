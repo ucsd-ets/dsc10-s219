{
 "cells": [
  {
   "cell_type": "code",
   "execution_count": 8,
   "metadata": {},
   "outputs": [],
   "source": [
    "import numpy as np\n",
    "from datascience import *\n",
    "%matplotlib inline\n",
    "import matplotlib.pyplot as plt"
   ]
  },
  {
   "cell_type": "code",
   "execution_count": 22,
   "metadata": {},
   "outputs": [
    {
     "data": {
      "text/html": [
       "<table border=\"1\" class=\"dataframe\">\n",
       "    <thead>\n",
       "        <tr>\n",
       "            <th>PLAYER</th> <th>POSITION</th> <th>TEAM</th> <th>SALARY</th>\n",
       "        </tr>\n",
       "    </thead>\n",
       "    <tbody>\n",
       "        <tr>\n",
       "            <td>Paul Millsap    </td> <td>PF      </td> <td>Atlanta Hawks</td> <td>18.6717</td>\n",
       "        </tr>\n",
       "        <tr>\n",
       "            <td>Al Horford      </td> <td>C       </td> <td>Atlanta Hawks</td> <td>12     </td>\n",
       "        </tr>\n",
       "        <tr>\n",
       "            <td>Tiago Splitter  </td> <td>C       </td> <td>Atlanta Hawks</td> <td>9.75625</td>\n",
       "        </tr>\n",
       "        <tr>\n",
       "            <td>Jeff Teague     </td> <td>PG      </td> <td>Atlanta Hawks</td> <td>8      </td>\n",
       "        </tr>\n",
       "        <tr>\n",
       "            <td>Kyle Korver     </td> <td>SG      </td> <td>Atlanta Hawks</td> <td>5.74648</td>\n",
       "        </tr>\n",
       "        <tr>\n",
       "            <td>Thabo Sefolosha </td> <td>SF      </td> <td>Atlanta Hawks</td> <td>4      </td>\n",
       "        </tr>\n",
       "        <tr>\n",
       "            <td>Mike Scott      </td> <td>PF      </td> <td>Atlanta Hawks</td> <td>3.33333</td>\n",
       "        </tr>\n",
       "        <tr>\n",
       "            <td>Kent Bazemore   </td> <td>SF      </td> <td>Atlanta Hawks</td> <td>2      </td>\n",
       "        </tr>\n",
       "        <tr>\n",
       "            <td>Dennis Schroder </td> <td>PG      </td> <td>Atlanta Hawks</td> <td>1.7634 </td>\n",
       "        </tr>\n",
       "        <tr>\n",
       "            <td>Tim Hardaway Jr.</td> <td>SG      </td> <td>Atlanta Hawks</td> <td>1.30452</td>\n",
       "        </tr>\n",
       "    </tbody>\n",
       "</table>\n",
       "<p>... (407 rows omitted)</p>"
      ],
      "text/plain": [
       "PLAYER           | POSITION | TEAM          | SALARY\n",
       "Paul Millsap     | PF       | Atlanta Hawks | 18.6717\n",
       "Al Horford       | C        | Atlanta Hawks | 12\n",
       "Tiago Splitter   | C        | Atlanta Hawks | 9.75625\n",
       "Jeff Teague      | PG       | Atlanta Hawks | 8\n",
       "Kyle Korver      | SG       | Atlanta Hawks | 5.74648\n",
       "Thabo Sefolosha  | SF       | Atlanta Hawks | 4\n",
       "Mike Scott       | PF       | Atlanta Hawks | 3.33333\n",
       "Kent Bazemore    | SF       | Atlanta Hawks | 2\n",
       "Dennis Schroder  | PG       | Atlanta Hawks | 1.7634\n",
       "Tim Hardaway Jr. | SG       | Atlanta Hawks | 1.30452\n",
       "... (407 rows omitted)"
      ]
     },
     "execution_count": 22,
     "metadata": {},
     "output_type": "execute_result"
    }
   ],
   "source": [
    "nba = Table.read_table('nba_salaries.csv')\n",
    "nba = nba.relabel(\"'15-'16 SALARY\", \"SALARY\")\n",
    "nba"
   ]
  },
  {
   "cell_type": "markdown",
   "metadata": {},
   "source": [
    "## Confidence Interval for Testing"
   ]
  },
  {
   "cell_type": "markdown",
   "metadata": {},
   "source": [
    "* Example:\n",
    "    * Null hypothesis: population average = x\n",
    "    * Alternative hypothesis: population average != x\n",
    "    * Construct (100 - p-value)% confidence interval for population average\n",
    "        * If x in confidence interval, can't reject null hypothesis\n",
    "        * If x *not* in confidence interval, **can** reject null hypothesis"
   ]
  },
  {
   "cell_type": "markdown",
   "metadata": {},
   "source": [
    "## Center and Spread"
   ]
  },
  {
   "cell_type": "markdown",
   "metadata": {},
   "source": [
    "* Center\n",
    "    * Mean\n",
    "    * Median\n",
    "* Spread\n",
    "    * Range\n",
    "        * Does not give idea of how data is distributed\n",
    "    * Standard deviation\n",
    "        * Spread from average\n",
    "        * Bulk of data within a few standard deviations from average"
   ]
  },
  {
   "cell_type": "code",
   "execution_count": 14,
   "metadata": {},
   "outputs": [
    {
     "data": {
      "text/plain": [
       "5.074814482014388"
      ]
     },
     "execution_count": 14,
     "metadata": {},
     "output_type": "execute_result"
    }
   ],
   "source": [
    "# Calculate mean\n",
    "salary_mean = np.mean(nba.column('SALARY'))\n",
    "salary_mean"
   ]
  },
  {
   "cell_type": "code",
   "execution_count": 15,
   "metadata": {},
   "outputs": [
    {
     "data": {
      "text/plain": [
       "5.215172804825777"
      ]
     },
     "execution_count": 15,
     "metadata": {},
     "output_type": "execute_result"
    }
   ],
   "source": [
    "# Calculate standard deviation\n",
    "salary_sd = np.std(nba.column('SALARY'))\n",
    "salary_sd"
   ]
  },
  {
   "cell_type": "code",
   "execution_count": 28,
   "metadata": {},
   "outputs": [
    {
     "data": {
      "text/plain": [
       "<matplotlib.collections.PathCollection at 0x1a26e3d9b0>"
      ]
     },
     "execution_count": 28,
     "metadata": {},
     "output_type": "execute_result"
    },
    {
     "data": {
      "image/png": "[encoded data removed]",
      "text/plain": [
       "<Figure size 432x288 with 1 Axes>"
      ]
     },
     "metadata": {
      "needs_background": "light"
     },
     "output_type": "display_data"
    }
   ],
   "source": [
    "plt.hist(nba.column('SALARY'))\n",
    "plt.scatter(salary_mean, 0, c='r')\n",
    "plt.scatter(salary_mean - salary_sd, 0, c='g')\n",
    "plt.scatter(salary_mean + salary_sd, 0, c='g')"
   ]
  },
  {
   "cell_type": "markdown",
   "metadata": {},
   "source": [
    "## Normal Curve"
   ]
  },
  {
   "cell_type": "markdown",
   "metadata": {},
   "source": [
    "* Standard units - represent data in terms of mean and standard deviation\n",
    "$$ z~~=~~\\frac{\\text{data value} - \\text{mean}}{\\text{standard deviation}}$$\n",
    "* Chebyshev's Inequality - No matter what the shape of the distribution, the proportion of values in the range “average ± z SDs” is at least \n",
    "$$1 - \\frac{1}{z^2}$$\n",
    "* For normal distribution:\n",
    "    * average ± 1 SD - about 68%\n",
    "    * average ± 2 SD - about 95%\n",
    "    * average ± 3 SD - about 99.73%"
   ]
  },
  {
   "cell_type": "code",
   "execution_count": null,
   "metadata": {},
   "outputs": [],
   "source": [
    "# Represent SALARY in histogram using standard units\n"
   ]
  },
  {
   "cell_type": "markdown",
   "metadata": {},
   "source": [
    "## Central Limit Theorem"
   ]
  },
  {
   "cell_type": "markdown",
   "metadata": {},
   "source": [
    "* Distribution of sums and averages of large random samples is roughly normal, regardless of distribution from which sample is drawn\n",
    "* Centered at population mean or sum\n",
    "* Spread varies with sample size\n",
    "    * Standard Deviation\n",
    "    $$\n",
    "    \\frac{\n",
    "        \\text{population standard dev.}\n",
    "    }{\n",
    "        \\sqrt{\\text{sample size}}\n",
    "    }\n",
    "    $$"
   ]
  },
  {
   "cell_type": "code",
   "execution_count": 10,
   "metadata": {},
   "outputs": [
    {
     "data": {
      "image/png": "[encoded data removed]",
      "text/plain": [
       "<Figure size 432x288 with 1 Axes>"
      ]
     },
     "metadata": {
      "needs_background": "light"
     },
     "output_type": "display_data"
    }
   ],
   "source": [
    "nba.group(\"SALARY\")"
   ]
  },
  {
   "cell_type": "code",
   "execution_count": 23,
   "metadata": {},
   "outputs": [],
   "source": [
    "def sample_mean_salaries(sample_size, repetitions=2000):\n",
    "    sample_means = make_array()\n",
    "    for i in np.arange(repetitions):\n",
    "        sample = nba.sample(sample_size)\n",
    "        sample_mean = sample.column('SALARY').mean()\n",
    "        sample_means = np.append(sample_means, sample_mean)\n",
    "    return sample_means"
   ]
  },
  {
   "cell_type": "code",
   "execution_count": 25,
   "metadata": {},
   "outputs": [],
   "source": [
    "sample_means = {}\n",
    "sample_sizes = [1, 4, 16, 64, 100, 900, 1600]\n",
    "\n",
    "for size in sample_sizes:\n",
    "    sample_means[size] = sample_mean_salaries(size)"
   ]
  },
  {
   "cell_type": "code",
   "execution_count": 27,
   "metadata": {},
   "outputs": [
    {
     "name": "stdout",
     "output_type": "stream",
     "text": [
      "SD of The Population: 5.215172804825777\n",
      "Sample Size: 1\n",
      "SD of This Distribution (Sample Mean): 5.365751135381695\n",
      "Sample Size: 4\n",
      "SD of This Distribution (Sample Mean): 2.6522746707374787\n",
      "Sample Size: 16\n",
      "SD of This Distribution (Sample Mean): 1.3564472566075245\n",
      "Sample Size: 64\n",
      "SD of This Distribution (Sample Mean): 0.6557939419523825\n",
      "Sample Size: 100\n",
      "SD of This Distribution (Sample Mean): 0.5205348024787686\n",
      "Sample Size: 900\n",
      "SD of This Distribution (Sample Mean): 0.16930515022871098\n",
      "Sample Size: 1600\n",
      "SD of This Distribution (Sample Mean): 0.1328379741269757\n"
     ]
    },
    {
     "data": {
      "image/png": "[encoded data removed]",
      "text/plain": [
       "<Figure size 432x288 with 1 Axes>"
      ]
     },
     "metadata": {
      "needs_background": "light"
     },
     "output_type": "display_data"
    },
    {
     "data": {
      "image/png": "[encoded data removed]",
      "text/plain": [
       "<Figure size 432x288 with 1 Axes>"
      ]
     },
     "metadata": {
      "needs_background": "light"
     },
     "output_type": "display_data"
    },
    {
     "data": {
      "image/png": "[encoded data removed]",
      "text/plain": [
       "<Figure size 432x288 with 1 Axes>"
      ]
     },
     "metadata": {
      "needs_background": "light"
     },
     "output_type": "display_data"
    },
    {
     "data": {
      "image/png": "[encoded data removed]",
      "text/plain": [
       "<Figure size 432x288 with 1 Axes>"
      ]
     },
     "metadata": {
      "needs_background": "light"
     },
     "output_type": "display_data"
    },
    {
     "data": {
      "image/png": "[encoded data removed]",
      "text/plain": [
       "<Figure size 432x288 with 1 Axes>"
      ]
     },
     "metadata": {
      "needs_background": "light"
     },
     "output_type": "display_data"
    },
    {
     "data": {
      "image/png": "[encoded data removed]",
      "text/plain": [
       "<Figure size 432x288 with 1 Axes>"
      ]
     },
     "metadata": {
      "needs_background": "light"
     },
     "output_type": "display_data"
    },
    {
     "data": {
      "image/png": "[encoded data removed]",
      "text/plain": [
       "<Figure size 432x288 with 1 Axes>"
      ]
     },
     "metadata": {
      "needs_background": "light"
     },
     "output_type": "display_data"
    }
   ],
   "source": [
    "#: plot the distributions\n",
    "print(\"SD of The Population:\", np.std(nba.column('SALARY')))\n",
    "bins = np.arange(0, 26, 0.5)\n",
    "for size in sample_sizes:\n",
    "    Table().with_column(\n",
    "        f'Sample Mean, size = {size}',\n",
    "        sample_means[size]\n",
    "    ).hist(bins=bins)\n",
    "    print(\"Sample Size:\", size)\n",
    "    print(\"SD of This Distribution (Sample Mean):\", np.std(sample_means[size]))"
   ]
  },
  {
   "cell_type": "markdown",
   "metadata": {},
   "source": [
    "## Prediction"
   ]
  },
  {
   "cell_type": "markdown",
   "metadata": {},
   "source": [
    "* Given one characteristic, predict another characteristic\n",
    "* Association - any pattern or relationship between variables\n",
    "* Correlation - a linear association\n",
    "* Correlation coefficient\n",
    "    - **Definition**: The correlation coefficient $r$ of two attributes $x$ and $y$ is the average value of the product of $x$ and $y$ when measured in standard units.\n",
    "    - If `x` and `y` are arrays (i.e. columns in a table): \n",
    "    ```\n",
    "    r = np.mean(x_su * y_su)\n",
    "    ```\n",
    "    where `x_su` and `y_su` are `x` and `y` converted to standard units.\n",
    "    - Measures how clustered points are around a straight line (linear association)\n",
    "    - Based on standard units\n",
    "    - $-1 \\leq r \\leq 1$\n",
    "    - $r = 1$: scatterplot is a line of slope 1.\n",
    "    - $r = -1$: scatterplot is a line of slope -1.\n",
    "    - $r = 0$: no linear association; *uncorrelated*.\n",
    "    "
   ]
  },
  {
   "cell_type": "code",
   "execution_count": 29,
   "metadata": {},
   "outputs": [],
   "source": [
    "framingham = Table.read_table('framingham.csv')"
   ]
  },
  {
   "cell_type": "code",
   "execution_count": null,
   "metadata": {},
   "outputs": [],
   "source": [
    "# Let's look at AGE and TOTCHOL\n",
    "# 1. Scatter data\n"
   ]
  },
  {
   "cell_type": "code",
   "execution_count": null,
   "metadata": {},
   "outputs": [],
   "source": [
    "# Represent data in standard units\n"
   ]
  },
  {
   "cell_type": "code",
   "execution_count": null,
   "metadata": {},
   "outputs": [],
   "source": [
    "# Calculate the correlation coefficient\n"
   ]
  }
 ],
 "metadata": {
  "kernelspec": {
   "display_name": "Python 3",
   "language": "python",
   "name": "python3"
  },
  "language_info": {
   "codemirror_mode": {
    "name": "ipython",
    "version": 3
   },
   "file_extension": ".py",
   "mimetype": "text/x-python",
   "name": "python",
   "nbconvert_exporter": "python",
   "pygments_lexer": "ipython3",
   "version": "3.6.8"
  }
 },
 "nbformat": 4,
 "nbformat_minor": 2
}
