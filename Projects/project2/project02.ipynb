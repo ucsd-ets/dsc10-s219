{
 "cells": [
  {
   "cell_type": "markdown",
   "metadata": {},
   "source": [
    "# Project 2: *2008 Flight Data* Due on Friday, September 6 at 11:59PM."
   ]
  },
  {
   "cell_type": "markdown",
   "metadata": {},
   "source": [
    "In this project, you will explore data from domestic US flights from 2008."
   ]
  },
  {
   "cell_type": "markdown",
   "metadata": {},
   "source": [
    "### Logistics\n",
    "\n",
    "\n",
    "**Deadline.** This project is due at 11:59pm on Friday, September 6. It's **much** better to be early than late, so start working now.\n",
    "\n",
    "**Partners.** You may work with one other partner. Only one of you should submit the project. On [okpy.org](http://okpy.org) and [Gradescope](https://www.gradescope.com) the person who submits should also designate their partner so that both of you receive credit.\n",
    "\n",
    "**Rules.** Don't share your code with anybody but your partner. You are welcome to discuss questions with other students, but don't share the answers. The experience of solving the problems in this project will prepare you for the final exam and your future in data science. If someone asks you for the answer, resist! Instead, you can demonstrate how you would solve a similar problem.\n",
    "\n",
    "**Support.** You are not alone! Come to office hours, post on Piazza, and talk to your classmates. If you want to ask about the details of your solution to a problem, make a private Piazza post and the staff will respond.\n",
    "\n",
    "**Tests.** Passing the tests for a question **does not** mean that you answered the question correctly. Tests usually only check that your table has the correct column labels or that your answer is of the correct type. However, more tests will be applied to verify the correctness of your submission in order to assign your final score, so be careful and check your work!\n",
    "\n",
    "**Advice.** Develop your answers incrementally. To perform a complicated table manipulation, break it up into steps, perform each step on a different line, give a new name to each result, and check that each intermediate result is what you expect. You can add any additional names or functions you want to the provided cells, and you can add additional cells as needed.\n",
    "\n",
    "All of the concepts necessary for this project are found in the textbook. If you are stuck on a particular problem, reading through the relevant textbook section often will help clarify the concept.\n",
    "\n",
    "To get started, load `datascience`, `numpy`, `pyplot`, and `ok`."
   ]
  },
  {
   "cell_type": "code",
   "execution_count": null,
   "metadata": {},
   "outputs": [],
   "source": [
    "from datascience import *\n",
    "import numpy as np\n",
    "\n",
    "%matplotlib inline\n",
    "import matplotlib.pyplot as plots\n",
    "plots.style.use('fivethirtyeight')\n",
    "#np.set_printoptions(legacy='1.13')\n",
    "\n",
    "from client.api.notebook import Notebook\n",
    "ok = Notebook('project02.ok')\n",
    "_ = ok.auth(inline=True)"
   ]
  },
  {
   "cell_type": "markdown",
   "metadata": {},
   "source": [
    "## Part 1: Getting to know the data"
   ]
  },
  {
   "cell_type": "code",
   "execution_count": null,
   "metadata": {},
   "outputs": [],
   "source": [
    "# load data\n",
    "airports = Table.read_table('airport_codes.csv')\n",
    "all_flights_2008 = Table.read_table('2008_flights.csv')"
   ]
  },
  {
   "cell_type": "code",
   "execution_count": null,
   "metadata": {},
   "outputs": [],
   "source": [
    "# don't change this class, just run it\n",
    "some_flights = all_flights_2008.take(np.arange(100))\n",
    "some_flights.show(5)"
   ]
  },
  {
   "cell_type": "markdown",
   "metadata": {},
   "source": [
    "In the `airports` table, each row contains information about an airport, identified by its unique IATA code (ex. SAN for San Diego International Airport, LAX for Los Angeles International Airport, etc). Most columns are self-explanatory, but some things to note are:\n",
    "* The `coordinates` column contains the longitudinal and latitudinal coordinates, **in that order**, separated by \", \".\n",
    "* Example: -162.899994, 61.934601 means 61.934601 N, 162.899994 E"
   ]
  },
  {
   "cell_type": "code",
   "execution_count": null,
   "metadata": {},
   "outputs": [],
   "source": [
    "airports.show(5)"
   ]
  },
  {
   "cell_type": "markdown",
   "metadata": {},
   "source": [
    "The `all_flights_2008` table has a row for a sample of domestic flights in 2008, and information about each one. For this project, we will assume these are all domestic flights of 2008. You may need to scroll to the right to see all of the columns. Some notes on each column:\n",
    "* `Month`: contains values 1-12\n",
    "* `Day`: contains values 1-31\n",
    "* `DayOfWeek`: 1 (Monday) - 7 (Sunday)\n",
    "* `DepTime`: actual departure time (local, hhmm)\n",
    "* `CRSDepTime`: scheduled departure time (local, hhmm)\n",
    "* `ArrTime`: actual arrival time (local, hhmm)\n",
    "* `CRSArrTime`: scheduled arrival time (local, hhmm)\n",
    "* `UniqueCarrier`: unique carrier code (airlines)\n",
    "* `FlightNum`: flight number for the unique carrier\n",
    "* `TailNum`: plane tail number\n",
    "* `ActualElapsedTime`: in minutes\n",
    "* `AirTime`: in minutes\n",
    "* `CRSElapsedTime`: in minutes\n",
    "* `ArrDelay`: arrival delay, in minutes\n",
    "* `DepDelay`: departure delay, in minutes\n",
    "* `Origin`: origin IATA airport code\n",
    "* `Dest`: destination IATA airport code\n",
    "* `Distance`: in miles\n",
    "* `TaxiIn`: taxi in time, in minutes\n",
    "* `TaxiOut`: taxi out time, in minutes\n",
    "* `Cancelled`: was the flight cancelled?\n",
    "* `CancellationCode`: reason for cancellation (A = carrier, B = weather, C = NAS, D = security)\n",
    "* `Diverted`: 1 = yes, 0 = no\n",
    "* `CarrierDelay`: in minutes\n",
    "* `WeatherDelay`: in minutes\n",
    "* `NASDelay`: in minutes\n",
    "* `SecurityDelay`: in minutes\n",
    "* `LateAircraftDelay`: in minutes\n",
    "\n",
    "**NOTE**: This table is large. We have created a table called `some_flights` that contains the first 100 rows of `all_flights_2008`. We recommend testing your code out on `some_flights` before running it on `all_flights_2008`, as it may take a few minutes."
   ]
  },
  {
   "cell_type": "code",
   "execution_count": null,
   "metadata": {},
   "outputs": [],
   "source": [
    "all_flights_2008.show(5)"
   ]
  },
  {
   "cell_type": "markdown",
   "metadata": {},
   "source": [
    "**Question 1**: Create a table `airports_with_coords` that is like `airports` but with two new columns: `latitude` and `longitude`. The `longitude` is the value before the \", \" in the `coordinate` column, and the `latitude` value is the value after the \", \". These columns should contain float values.\n",
    "\n",
    "*Hint: it might help to first write a function/functions that uses .split()*"
   ]
  },
  {
   "cell_type": "code",
   "execution_count": null,
   "metadata": {},
   "outputs": [],
   "source": [
    "airports_with_coords = ...\n",
    "airports_with_coords"
   ]
  },
  {
   "cell_type": "code",
   "execution_count": null,
   "metadata": {},
   "outputs": [],
   "source": [
    "_ = ok.grade('q1_1')"
   ]
  },
  {
   "cell_type": "markdown",
   "metadata": {},
   "source": [
    "**Question 2**: What is the IATA code of the northernmost airport in the table? Store it in variable `northernmost_airport`.\n",
    "\n",
    "Note: The northernmost airport is the one with the greatest latitude."
   ]
  },
  {
   "cell_type": "code",
   "execution_count": null,
   "metadata": {},
   "outputs": [],
   "source": [
    "northernmost_airport = ...\n",
    "northernmost_airport"
   ]
  },
  {
   "cell_type": "code",
   "execution_count": null,
   "metadata": {},
   "outputs": [],
   "source": [
    "_ = ok.grade('q1_2')"
   ]
  },
  {
   "cell_type": "markdown",
   "metadata": {},
   "source": [
    "**Question 3**: To get a good sense of the busiest airports in the US, create two arrays called `most_departures` and `most_arrivals` with the twenty airports that have the most departures and arrivals, respectively. (Would you expect these to be the same?)"
   ]
  },
  {
   "cell_type": "code",
   "execution_count": null,
   "metadata": {},
   "outputs": [],
   "source": [
    "most_departures = ...\n",
    "most_arrivals = ...\n",
    "most_departures"
   ]
  },
  {
   "cell_type": "code",
   "execution_count": null,
   "metadata": {},
   "outputs": [],
   "source": [
    "most_arrivals"
   ]
  },
  {
   "cell_type": "code",
   "execution_count": null,
   "metadata": {},
   "outputs": [],
   "source": [
    "_ = ok.grade('q1_3')"
   ]
  },
  {
   "cell_type": "markdown",
   "metadata": {},
   "source": [
    "**Question 4**: Since `all_flights_2008` has over 700,000 rows, lets take a look at flights from a single airline, specifically American Airlines. American Airlines flights have a UniqueCarrier value of 'AA'. Store all American Airlines flights in a table called `aa_flights`."
   ]
  },
  {
   "cell_type": "code",
   "execution_count": null,
   "metadata": {},
   "outputs": [],
   "source": [
    "aa_flights = ...\n",
    "aa_flights"
   ]
  },
  {
   "cell_type": "code",
   "execution_count": null,
   "metadata": {},
   "outputs": [],
   "source": [
    "_ = ok.grade('q1_4')"
   ]
  },
  {
   "cell_type": "markdown",
   "metadata": {},
   "source": [
    "**Question 5**: Of the American Airlines flights, let's examine those that are arriving to and departing from San Diego International Airport (IATA code SAN). Create tables `aa_san_in` and `aa_san_out` that contain the American Airlines flights arriving to and departing from SAN, respectively."
   ]
  },
  {
   "cell_type": "code",
   "execution_count": null,
   "metadata": {},
   "outputs": [],
   "source": [
    "aa_san_in = ...\n",
    "aa_san_out = ..."
   ]
  },
  {
   "cell_type": "code",
   "execution_count": null,
   "metadata": {},
   "outputs": [],
   "source": [
    "_ = ok.grade('q1_5')"
   ]
  },
  {
   "cell_type": "markdown",
   "metadata": {},
   "source": [
    "**Question 6**: We can tell if a flight is heading north or south based on the difference in the latitude value of the origin and destination airports. To see which flights departing SAN are heading north or south, let's create a table `aa_san_dests_with_lat_diff` that has two columns: `Dest` and `latitude_difference`. The values in `Dest` should contain every unique `Dest` value from `aa_san_out` and `latitude_difference` should contain the latitude differences from SAN (destination - origin).\n",
    "\n",
    "*Hint: it might be helpful to create a function*"
   ]
  },
  {
   "cell_type": "code",
   "execution_count": null,
   "metadata": {},
   "outputs": [],
   "source": [
    "aa_san_dests_with_lat_diff = ...\n",
    "aa_san_dests_with_lat_diff"
   ]
  },
  {
   "cell_type": "code",
   "execution_count": null,
   "metadata": {},
   "outputs": [],
   "source": [
    "_ = ok.grade('q1_6')"
   ]
  },
  {
   "cell_type": "markdown",
   "metadata": {},
   "source": [
    "**Question 7**: Considering San Diego is by the southern border of the continental US, are there any AA flights departing from SAN that are heading south? Assign `True` or `False` to `san_has_south_dest`."
   ]
  },
  {
   "cell_type": "code",
   "execution_count": null,
   "metadata": {},
   "outputs": [],
   "source": [
    "san_has_south_dest = ..."
   ]
  },
  {
   "cell_type": "code",
   "execution_count": null,
   "metadata": {},
   "outputs": [],
   "source": [
    "_ = ok.grade('q1_7')"
   ]
  },
  {
   "cell_type": "markdown",
   "metadata": {},
   "source": [
    "## Part 2: Flights by Season and Day of the Week"
   ]
  },
  {
   "cell_type": "markdown",
   "metadata": {},
   "source": [
    "It seems reasonable to expect that more flights occur during some days of the week than others. Additionally, the summer (June, July, August) is known to be a busy season for travel. Let's see if the distribution of flights among days of the week is the same during the summer as it is during the winter (December, January, February)."
   ]
  },
  {
   "cell_type": "markdown",
   "metadata": {},
   "source": [
    "**Question 1**:  Create an array `summer_flights_by_day_of_week` that contains the proportion of all American Airlines flights that occurred each day of the week during the months June (6), July (7), and August (8). Create a similar array `winter_flights_by_day_of_week` for the winter months (1, 2, 12)."
   ]
  },
  {
   "cell_type": "code",
   "execution_count": null,
   "metadata": {},
   "outputs": [],
   "source": [
    "summer_flights_by_day_of_week = ...\n",
    "summer_flights_by_day_of_week"
   ]
  },
  {
   "cell_type": "code",
   "execution_count": null,
   "metadata": {},
   "outputs": [],
   "source": [
    "winter_flights_by_day_of_week = ...\n",
    "winter_flights_by_day_of_week"
   ]
  },
  {
   "cell_type": "code",
   "execution_count": null,
   "metadata": {},
   "outputs": [],
   "source": [
    "_ = ok.grade('q2_1')"
   ]
  },
  {
   "cell_type": "markdown",
   "metadata": {},
   "source": [
    "**Question 2** Does the data seem to indicate that weekends are more likely to have flights than other days of the week? Set `q_2_2_answer` to your answer choice.\n",
    "\n",
    "1. No, in summer and winter.  \n",
    "2. Yes, in summer and winter.  \n",
    "3. Yes in summer, no in winter.  \n",
    "4. No in summer, yes in winter.  "
   ]
  },
  {
   "cell_type": "code",
   "execution_count": null,
   "metadata": {},
   "outputs": [],
   "source": [
    "q_2_2_answer = ..."
   ]
  },
  {
   "cell_type": "code",
   "execution_count": null,
   "metadata": {},
   "outputs": [],
   "source": [
    "_ = ok.grade('q2_2')"
   ]
  },
  {
   "cell_type": "markdown",
   "metadata": {},
   "source": [
    "The arrays we calculated in question 1, `summer_flights_by_day_of_week` and `winter_flights_by_day_of_week` represent the distribution of flights over the days of the week. Compare the values in these two arrays. You should find that the values are very close, suggesting that the distribution of flights across days of the week is similar in the summer and winter months. Let's explore whether this is true by performing an A/B test. \n",
    "\n",
    "We'll use the following null and alternative hypotheses:\n",
    "\n",
    "**Null Hypothesis:** The distribution of flights over days of the week in summer months is the same as the distribution of flights over days of the week in winter months.\n",
    "\n",
    "**Alternative Hypothesis:** The distribution of flights over days of the week in summer months is different from the distribution of flights over days of the week in winter months.\n",
    "\n",
    "As our test statistic, we will use the total variation distance (TVD) between two distributions."
   ]
  },
  {
   "cell_type": "markdown",
   "metadata": {},
   "source": [
    "**Question 3**: Which day of the week has most supports the alternative hypothesis? Assign a value 1-7 to `q_2_3_answer`."
   ]
  },
  {
   "cell_type": "code",
   "execution_count": null,
   "metadata": {},
   "outputs": [],
   "source": [
    "q_2_3_answer = ..."
   ]
  },
  {
   "cell_type": "code",
   "execution_count": null,
   "metadata": {},
   "outputs": [],
   "source": [
    "_ = ok.grade('q2_3')"
   ]
  },
  {
   "cell_type": "markdown",
   "metadata": {},
   "source": [
    "**Question 4.** What is the observed value of the test statistic? Save your answer as `day_dist_observed_statistic`."
   ]
  },
  {
   "cell_type": "code",
   "execution_count": null,
   "metadata": {
    "scrolled": true
   },
   "outputs": [],
   "source": [
    "day_dist_observed_statistic = ...\n",
    "day_dist_observed_statistic"
   ]
  },
  {
   "cell_type": "code",
   "execution_count": null,
   "metadata": {},
   "outputs": [],
   "source": [
    "_ = ok.grade('q2_4')"
   ]
  },
  {
   "cell_type": "markdown",
   "metadata": {},
   "source": [
    "Now that we have defined hypotheses and a test statistic, we are ready to conduct a hypothesis test. We'll start by defining a function to simulate the test statistic under the null hypothesis, and then use that function 1000 times to understand the distribution of the test statistic under the null hypothesis.\n",
    "\n",
    "**Question 5.** Write a function to simulate the test statistic under the null hypothesis. \n",
    "\n",
    "The `simulate_day_dist_null` function should simulate the null hypothesis *once* (not 1000 times) and return the value of the test statistic for that simulated sample.\n",
    "\n",
    "*Hints:*  \n",
    "* Remember, this is an A/B test.\n",
    "* Simulate a new sample (should it be with replacement or not?)\n",
    "* Think about what you want to change and what you want to keep the same as you generate this new sample."
   ]
  },
  {
   "cell_type": "code",
   "execution_count": null,
   "metadata": {},
   "outputs": [],
   "source": [
    "def simulate_day_dist_null():\n",
    "    # Fill in the body of the function\n",
    "    ..."
   ]
  },
  {
   "cell_type": "code",
   "execution_count": null,
   "metadata": {},
   "outputs": [],
   "source": [
    "# Do not change this cell\n",
    "simulate_day_dist_null()"
   ]
  },
  {
   "cell_type": "code",
   "execution_count": null,
   "metadata": {},
   "outputs": [],
   "source": [
    "_ = ok.grade('q2_5')"
   ]
  },
  {
   "cell_type": "markdown",
   "metadata": {},
   "source": [
    "**Question 6.** Fill in the blanks below to complete the simulation for the hypothesis test. Your simulation should compute 1000 values of the test statistic under the null hypothesis and store the result in the array `day_dist_simulated_stats`.\n",
    "\n",
    "*Hint*: You should use the function you wrote above in Question 5.\n",
    "\n",
    "*Warning*: running this cell takes about 5 minutes!  We encourage you to check your `simulate_day_dist_null()` code to make sure it works correctly before running this cell. If you are conviced that it does, then try running this cell to compute only a few values of the test statistic (say, five) before doing all 1000."
   ]
  },
  {
   "cell_type": "code",
   "execution_count": null,
   "metadata": {},
   "outputs": [],
   "source": [
    "day_dist_simulated_stats = ...\n",
    "for i in np.arange(1000):\n",
    "    # Fill in the body of the loop\n",
    "    ..."
   ]
  },
  {
   "cell_type": "markdown",
   "metadata": {},
   "source": [
    "The following cell will plot the histogram of the simulated test statistics, as well as a point for the observed test statistic."
   ]
  },
  {
   "cell_type": "code",
   "execution_count": null,
   "metadata": {},
   "outputs": [],
   "source": [
    "Table().with_column('Simulated TVDs', day_dist_simulated_stats).hist()\n",
    "plots.title('Prediction Under the Null Hypothesis');\n",
    "plots.scatter(day_dist_observed_statistic, 0, color='red', s=30);"
   ]
  },
  {
   "cell_type": "code",
   "execution_count": null,
   "metadata": {},
   "outputs": [],
   "source": [
    "_ = ok.grade('q2_6')"
   ]
  },
  {
   "cell_type": "markdown",
   "metadata": {},
   "source": [
    "**Question 7.** Which is the best interpretation of the results of this test? Set `q_2_7_answer` to your answer choice.\n",
    "1. Even though the distribution of flights across days of the week was slightly different in the summer and winter, the differences most likely were due to random chance and do not reflect any significant difference in the distribution of flights across days of the week in summer and winter.\n",
    "2. The seemingly slight difference between the distribution of flights across days of the week in the summer and winter is actually substantial and points to a significant difference in the distribution of flights across days of the week in summer and winter.\n",
    "3. It is hard to tell whether there is a meaningful difference in the distribution of flights across days of the week in summer and winter. Different people might interpret these same results differently."
   ]
  },
  {
   "cell_type": "code",
   "execution_count": null,
   "metadata": {},
   "outputs": [],
   "source": [
    "q_2_7_answer = ..."
   ]
  },
  {
   "cell_type": "code",
   "execution_count": null,
   "metadata": {},
   "outputs": [],
   "source": [
    "_ = ok.grade('q2_7')"
   ]
  },
  {
   "cell_type": "markdown",
   "metadata": {},
   "source": [
    "## Part 3: Cancellations"
   ]
  },
  {
   "cell_type": "markdown",
   "metadata": {},
   "source": [
    "`all_flights` provides a `CancellationCode` for each cancelled flight. We can examine how cancellations are distributed based on the latitude of the airport of origin."
   ]
  },
  {
   "cell_type": "code",
   "execution_count": null,
   "metadata": {},
   "outputs": [],
   "source": [
    "all_cancelled = all_flights_2008.where('Cancelled', 1)\n",
    "all_cancelled.show(5)"
   ]
  },
  {
   "cell_type": "markdown",
   "metadata": {},
   "source": [
    "We can see that `CancellationCode`s A and B, carrier or weather related cancellations, are cited the most in the table."
   ]
  },
  {
   "cell_type": "code",
   "execution_count": null,
   "metadata": {},
   "outputs": [],
   "source": [
    "all_cancelled.group('CancellationCode')"
   ]
  },
  {
   "cell_type": "markdown",
   "metadata": {},
   "source": [
    "**Question 1**: Generate an overlaid histogram that allows us to visually compare the distributions of cancelled flights by origin latitude, due to carrier (CancellationCode A) and weather (CancellationCode B)."
   ]
  },
  {
   "cell_type": "code",
   "execution_count": null,
   "metadata": {},
   "outputs": [],
   "source": [
    "# Generate your histogram here\n"
   ]
  },
  {
   "cell_type": "markdown",
   "metadata": {},
   "source": [
    "The distributions in the overlaid histogram look relatively similar, but they are not exactly the same. Are the differences in the distributions due to chance variation or to more substantial differences regarding the location of the airport? Let's do an A/B test with the following hypotheses:\n",
    "\n",
    "__Null Hypothesis__: The distributions of cancelled flights by latitude are the same for CancellationCodes A and B.\n",
    "\n",
    "__Alternative Hypothesis__: Flights departing from airports further north have more cancellations due to weather (CancellationCode B).\n",
    "\n",
    "We will use as our test statistic the difference between the mean origin latitude for CancellationCodes A and B (B - A)."
   ]
  },
  {
   "cell_type": "markdown",
   "metadata": {},
   "source": [
    "**Question 2**: Calculate the observed value of the test statistic and save the result as `observed_difference`."
   ]
  },
  {
   "cell_type": "code",
   "execution_count": null,
   "metadata": {},
   "outputs": [],
   "source": [
    "observed_difference = ...\n",
    "observed_difference"
   ]
  },
  {
   "cell_type": "code",
   "execution_count": null,
   "metadata": {},
   "outputs": [],
   "source": [
    "_ = ok.grade('q3_2')"
   ]
  },
  {
   "cell_type": "markdown",
   "metadata": {},
   "source": [
    "In order to determine whether this observed difference in means is large enough to indicate a difference between the groups, we need context. In particular, we need to see how the statistic would vary under the assumptions of the null hypothesis. If the null hypothesis is true, this means that the distribution of the origin latitude for CancellationCode A is the same as the distribution of the origin latitude for CancellationCode B. This means that if we shuffle the labels (A/B) associated with each cancelled flight, the averages of the two groups should come out about the same."
   ]
  },
  {
   "cell_type": "markdown",
   "metadata": {},
   "source": [
    "**Question 3**: Shuffle the labels (A/B) associated with each count of cancelled flights, then calculate the test statistic and save the result as `shuffled_difference`"
   ]
  },
  {
   "cell_type": "code",
   "execution_count": null,
   "metadata": {},
   "outputs": [],
   "source": [
    "shuffled_difference = ...\n",
    "shuffled_difference"
   ]
  },
  {
   "cell_type": "code",
   "execution_count": null,
   "metadata": {},
   "outputs": [],
   "source": [
    "_ = ok.grade('q3_3')"
   ]
  },
  {
   "cell_type": "markdown",
   "metadata": {},
   "source": [
    "**Question 4**: Now we need to try many different shuffles to see how the test statistic might have come out. Complete the code below to simulate 1000 values of the test statistic, and store the results in the array `differences`."
   ]
  },
  {
   "cell_type": "code",
   "execution_count": null,
   "metadata": {},
   "outputs": [],
   "source": [
    "differences = ...\n",
    "repetitions = 1000\n",
    "for i in np.arange(repetitions):\n",
    "    #Fill in the body of the loop\n",
    "    ..."
   ]
  },
  {
   "cell_type": "code",
   "execution_count": null,
   "metadata": {},
   "outputs": [],
   "source": [
    "_ = ok.grade('q3_4')"
   ]
  },
  {
   "cell_type": "markdown",
   "metadata": {},
   "source": [
    "The next cell plots a histogram of the test statistics stored in `differences` as well as a red dot for `observed_difference`."
   ]
  },
  {
   "cell_type": "code",
   "execution_count": null,
   "metadata": {},
   "outputs": [],
   "source": [
    "Table().with_column('Difference Between Group Means', differences).hist()\n",
    "plots.title('Prediction Under the Null Hypothesis');\n",
    "plots.scatter(observed_difference, 0, color='red', s=30);"
   ]
  },
  {
   "cell_type": "markdown",
   "metadata": {},
   "source": [
    "**Question 5**: Do the results of this test point towards the null hypothesis or the alternative hypothesis? Set `points_to_null` to be True or False."
   ]
  },
  {
   "cell_type": "code",
   "execution_count": null,
   "metadata": {},
   "outputs": [],
   "source": [
    "points_to_null = ..."
   ]
  },
  {
   "cell_type": "code",
   "execution_count": null,
   "metadata": {},
   "outputs": [],
   "source": [
    "_ = ok.grade('q3_5')"
   ]
  },
  {
   "cell_type": "markdown",
   "metadata": {},
   "source": [
    "## Part 4: Aircraft Mileage\n",
    "\n",
    "The dataset also identifies planes by `TailNum`. In this section, we will estimate how many miles a single aircraft flies in a year.\n",
    "\n",
    "It should be noted that `nan` is the most common `TailNum` value. In our calculations, we will exclude this."
   ]
  },
  {
   "cell_type": "markdown",
   "metadata": {},
   "source": [
    "**Question 1**: Create a table called `tailnum_mileage` with two columns: `TailNum` and `mileage`. `TailNum` should contain all unique `TailNum` values from the original table, except `nan`, and mileage should contain each aircrafts respective total distance travelled."
   ]
  },
  {
   "cell_type": "code",
   "execution_count": null,
   "metadata": {},
   "outputs": [],
   "source": [
    "tailnum_mileage = ...\n",
    "tailnum_mileage"
   ]
  },
  {
   "cell_type": "code",
   "execution_count": null,
   "metadata": {},
   "outputs": [],
   "source": [
    "_ = ok.grade('q4_1')"
   ]
  },
  {
   "cell_type": "markdown",
   "metadata": {},
   "source": [
    "**Question 2**: Calculate the average annual mileage of an aircraft and store your result as `average_mileage`. Do not include flights where `TailNum` is `nan`."
   ]
  },
  {
   "cell_type": "code",
   "execution_count": null,
   "metadata": {},
   "outputs": [],
   "source": [
    "average_mileage = ...\n",
    "average_mileage"
   ]
  },
  {
   "cell_type": "code",
   "execution_count": null,
   "metadata": {},
   "outputs": [],
   "source": [
    "_ = ok.grade('q4_2')"
   ]
  },
  {
   "cell_type": "markdown",
   "metadata": {},
   "source": [
    "Let's figure out a 99 percent confidence interval for the mileage an aircraft, so airlines can plan for how much each aircraft flies in a year.\n",
    "\n",
    "To start, we know the average annual mileage of an aircraft in our dataset, but let's see how different the average annual milesage could have been in another sample of flights. Unfortunately, we don't have another sample of flights available, but we can use the boostrap to simulate having more samples."
   ]
  },
  {
   "cell_type": "markdown",
   "metadata": {},
   "source": [
    "**Question 3**: Complete the function `bootstrap_mileage`, which should use bootstrapping to repeatedly resample from our dataset and compute the average annual mileage of each resample. The function should return an array called `average_mileages` containing the average annual mileage of each resample."
   ]
  },
  {
   "cell_type": "code",
   "execution_count": null,
   "metadata": {},
   "outputs": [],
   "source": [
    "def bootstrap_mileage(replications):\n",
    "    average_mileages = make_array()\n",
    "    \n",
    "    # Fill in the rest of this function\n",
    "    \n",
    "    return average_mileages"
   ]
  },
  {
   "cell_type": "code",
   "execution_count": null,
   "metadata": {},
   "outputs": [],
   "source": [
    "# Do not change this cell\n",
    "example_output = bootstrap_budget(10)\n",
    "example_output"
   ]
  },
  {
   "cell_type": "code",
   "execution_count": null,
   "metadata": {},
   "outputs": [],
   "source": [
    "_ = ok.grade('q4_3')"
   ]
  },
  {
   "cell_type": "markdown",
   "metadata": {},
   "source": [
    "Run the cell below to calculate ten thousand bootstrapped averages and display a histogram of the results"
   ]
  },
  {
   "cell_type": "code",
   "execution_count": null,
   "metadata": {},
   "outputs": [],
   "source": [
    "bootstrap_averages = bootstrap_mileage(10000)\n",
    "bootstrap_table = Table().with_column('Bootstrap Sample Average Annual Mileage', bootstrap_averages)\n",
    "bootstrap_table.hist(bins=20)"
   ]
  },
  {
   "cell_type": "markdown",
   "metadata": {},
   "source": [
    "**Question 4**: Is the histogram above roughly bell-shaped because of the Central Limit Theorem? Set `q_4_4_answer` to `True` if you think the Central Limit Theorem is at play here, or `False` if you think not."
   ]
  },
  {
   "cell_type": "code",
   "execution_count": null,
   "metadata": {},
   "outputs": [],
   "source": [
    "q_4_4_answer = ..."
   ]
  },
  {
   "cell_type": "code",
   "execution_count": null,
   "metadata": {},
   "outputs": [],
   "source": [
    "_ = ok.grade('q4_4')"
   ]
  },
  {
   "cell_type": "markdown",
   "metadata": {},
   "source": [
    "**Question 5**: Run the next cell. The output of this cell will depend on randomness, so you might get a different answer if you recalculate `bootstrap_averages`."
   ]
  },
  {
   "cell_type": "code",
   "execution_count": null,
   "metadata": {},
   "outputs": [],
   "source": [
    "np.count_nonzero(bootstrap_averages>95000)"
   ]
  },
  {
   "cell_type": "markdown",
   "metadata": {},
   "source": [
    "Suppose you were to run the cell above and it produced an output of 1. Interpret what that would mean and set `q_4_5_answer` to match the best interpretation below:\n",
    "\n",
    "1. The probability that an aircraft flies more than 95000 miles in a year is about 1 in ten thousand.\n",
    "2. The probability that an aircraft flies more than 95000 miles in a year is at most 1 in ten thousand.\n",
    "3. The probability that the average distance for all aircrafts is over 95000 miles is about 1 in ten thousand.\n",
    "4. The probability that the average distance for all aircrafts is over 95000 miles is at most 1 in ten thousand."
   ]
  },
  {
   "cell_type": "code",
   "execution_count": null,
   "metadata": {},
   "outputs": [],
   "source": [
    "q_4_5_answer = ..."
   ]
  },
  {
   "cell_type": "code",
   "execution_count": null,
   "metadata": {},
   "outputs": [],
   "source": [
    "_ = ok.grade('q4_5')"
   ]
  },
  {
   "cell_type": "markdown",
   "metadata": {},
   "source": [
    "**Question 6**: Set `left` and `right` to be the left and right endpoints of a 99% confidence interval for the average mileage of an aircraft in a year."
   ]
  },
  {
   "cell_type": "code",
   "execution_count": null,
   "metadata": {},
   "outputs": [],
   "source": [
    "left = ...\n",
    "right = ...\n",
    "left, right"
   ]
  },
  {
   "cell_type": "code",
   "execution_count": null,
   "metadata": {},
   "outputs": [],
   "source": [
    "_ = ok.grade('q4_6')"
   ]
  },
  {
   "cell_type": "markdown",
   "metadata": {},
   "source": [
    "## Congratulations! You have completed your final project! "
   ]
  },
  {
   "cell_type": "markdown",
   "metadata": {},
   "source": [
    "## To submit:\n",
    "\n",
    "1. Select `Run All` from the `Cell` menu to ensure that you have executed all cells, including the test cells.\n",
    "2. Read through the notebook to make sure everything is fine.\n",
    "3. Submit using the cell below.\n",
    "4. Save PDF and submit to Gradescope.\n",
    "5. Add your partner (if applicable) on both OKPY and Gradescope."
   ]
  },
  {
   "cell_type": "code",
   "execution_count": null,
   "metadata": {},
   "outputs": [],
   "source": [
    "# For your convenience, you can run this cell to run all the tests at once! \n",
    "# Remember that these just test the formatting, not the correctness of your answers.\n",
    "import os\n",
    "print(\"Running all tests...\")\n",
    "_ = [ok.grade(q[:-3]) for q in os.listdir(\"tests\") if q.startswith('q')]\n",
    "print(\"Finished running all tests.\")"
   ]
  },
  {
   "cell_type": "code",
   "execution_count": null,
   "metadata": {},
   "outputs": [],
   "source": [
    "_ = ok.submit()"
   ]
  }
 ],
 "metadata": {
  "kernelspec": {
   "display_name": "Python 3",
   "language": "python",
   "name": "python3"
  },
  "language_info": {
   "codemirror_mode": {
    "name": "ipython",
    "version": 3
   },
   "file_extension": ".py",
   "mimetype": "text/x-python",
   "name": "python",
   "nbconvert_exporter": "python",
   "pygments_lexer": "ipython3",
   "version": "3.6.5"
  }
 },
 "nbformat": 4,
 "nbformat_minor": 2
}
