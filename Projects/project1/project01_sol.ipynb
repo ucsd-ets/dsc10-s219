{
 "cells": [
  {
   "cell_type": "markdown",
   "metadata": {},
   "source": [
    "# Project 1: Titanic. Due Monday, August 19 at 11:59pm"
   ]
  },
  {
   "cell_type": "code",
   "execution_count": 97,
   "metadata": {},
   "outputs": [
    {
     "name": "stdout",
     "output_type": "stream",
     "text": [
      "=====================================================================\n",
      "Assignment: Project 1: Titanic\n",
      "OK, version v1.13.11\n",
      "=====================================================================\n",
      "\n"
     ]
    }
   ],
   "source": [
    "# Don't change this cell\n",
    "from datascience import *\n",
    "\n",
    "import matplotlib.pyplot as plots\n",
    "%matplotlib inline\n",
    "plots.style.use('fivethirtyeight')\n",
    "\n",
    "import numpy as np\n",
    "\n",
    "from client.api.notebook import Notebook\n",
    "ok = Notebook('project01_sol.ok')\n",
    "#_ = ok.auth(inline=True)"
   ]
  },
  {
   "cell_type": "markdown",
   "metadata": {},
   "source": [
    "## Announcements\n",
    "\n",
    "This assignment is due **Monday, Aug 19 at 11:59pm**. You can use a slip day to extend the deadline by 24 hours.\n",
    "\n",
    "Directly sharing answers is not okay, but discussing problems with the course staff or with other students is encouraged. \n",
    "\n",
    "The project is more challenging than the homeworks. You are encouraged to find a partner and use pair programming.\n",
    "\n",
    "Definitely start early so that you have time to get help if you're stuck. A calendar with lab hour times and locations appears on [https://sites.google.com/ucsd.edu/dsc10summer2019/staff-hours?authuser=0](https://sites.google.com/ucsd.edu/dsc10summer2019/staff-hours?authuser=0)."
   ]
  },
  {
   "cell_type": "markdown",
   "metadata": {},
   "source": [
    "## About the Titanic\n",
    "\n",
    "\"RMS Titanic was a British passenger liner that sank in the North Atlantic Ocean in 1912, after colliding with an iceberg during her maiden voyage from Southampton to New York City. Of the estimated 2,224 passengers and crew aboard, more than 1,500 died, making it one of modern history's deadliest commercial marine disasters during peacetime. RMS Titanic was the largest ship afloat at the time she entered service and was the second of three Olympic-class ocean liners operated by the White Star Line.\" (https://en.wikipedia.org/wiki/RMS_Titanic)"
   ]
  },
  {
   "cell_type": "markdown",
   "metadata": {},
   "source": [
    "![title](https://upload.wikimedia.org/wikipedia/commons/6/6e/St%C3%B6wer_Titanic.jpg)"
   ]
  },
  {
   "cell_type": "markdown",
   "metadata": {},
   "source": [
    "## Part 1: Understand and Modify Titanic Data"
   ]
  },
  {
   "cell_type": "markdown",
   "metadata": {},
   "source": [
    "In this section, you will attempt to understand the landscape of the Titanic dataset. You will explore the meaning and makeup of the columns by answering some questions about the dataset."
   ]
  },
  {
   "cell_type": "markdown",
   "metadata": {},
   "source": [
    "**The Data**\n",
    "\n",
    "This dataset has been modified from [Kaggle](https://www.kaggle.com/c/titanic) and includes the following information on Titanic passengers:\n",
    "\n",
    "1. `Survived`: 1 indicates that the passenger survived. 0 indicates that the passenger did not survive.\n",
    "2. `Pclass`: Passenger class status: 1 for upper class, 2 for middle class, 3 for lower class.\n",
    "3. `Name`: Passenger's name.\n",
    "4. `Sex`: Passenger's gender.\n",
    "5. `Age`: Passenger's age\n",
    "6. `Siblings/Spouses Aboard`: Total number of siblings and spouses aboard. Included are brothers, sisters, stepbrothers, stepsisters, husbands, and wives.\n",
    "7. `Parents/Children Aboard`: Total number of parents and children aboard. Included are mothers, fathers, daughters, sons, stepdaughters, stepsons.\n",
    "8. `Fare`: The fare (price) of the ticket, in British pounds.\n",
    "9. `First Name`: Passenger's first name."
   ]
  },
  {
   "cell_type": "markdown",
   "metadata": {},
   "source": [
    "First, load the Titanic dataset into a table.\n",
    "You should load the file using the path `data/titanic.csv` into a Table called `titanic`."
   ]
  },
  {
   "cell_type": "code",
   "execution_count": 98,
   "metadata": {},
   "outputs": [
    {
     "data": {
      "text/plain": [
       "Ellipsis"
      ]
     },
     "execution_count": 98,
     "metadata": {},
     "output_type": "execute_result"
    }
   ],
   "source": [
    "titanic = ...\n",
    "titanic"
   ]
  },
  {
   "cell_type": "code",
   "execution_count": 99,
   "metadata": {},
   "outputs": [
    {
     "data": {
      "text/html": [
       "<table border=\"1\" class=\"dataframe\">\n",
       "    <thead>\n",
       "        <tr>\n",
       "            <th>Survived</th> <th>Pclass</th> <th>Name</th> <th>Sex</th> <th>Age</th> <th>Siblings/Spouses Aboard</th> <th>Parents/Children Aboard</th> <th>Fare</th> <th>First Name</th>\n",
       "        </tr>\n",
       "    </thead>\n",
       "    <tbody>\n",
       "        <tr>\n",
       "            <td>0       </td> <td>2     </td> <td>Mr. William John Berriman             </td> <td>male  </td> <td>23  </td> <td>0                      </td> <td>0                      </td> <td>13.0 pounds   </td> <td>William   </td>\n",
       "        </tr>\n",
       "        <tr>\n",
       "            <td>1       </td> <td>3     </td> <td>Mrs. (Beila) Moor                     </td> <td>female</td> <td>27  </td> <td>0                      </td> <td>1                      </td> <td>12.475 pounds </td> <td>Beila     </td>\n",
       "        </tr>\n",
       "        <tr>\n",
       "            <td>0       </td> <td>3     </td> <td>Mr. Nestor Cyriel Vande Walle         </td> <td>male  </td> <td>28  </td> <td>0                      </td> <td>0                      </td> <td>9.5 pounds    </td> <td>Nestor    </td>\n",
       "        </tr>\n",
       "        <tr>\n",
       "            <td>0       </td> <td>3     </td> <td>Mr. Khalil Saad                       </td> <td>male  </td> <td>25  </td> <td>0                      </td> <td>0                      </td> <td>7.225 pounds  </td> <td>Khalil    </td>\n",
       "        </tr>\n",
       "        <tr>\n",
       "            <td>0       </td> <td>3     </td> <td>Miss. Gerda Ulrika Dahlberg           </td> <td>female</td> <td>22  </td> <td>0                      </td> <td>0                      </td> <td>10.5167 pounds</td> <td>Gerda     </td>\n",
       "        </tr>\n",
       "        <tr>\n",
       "            <td>0       </td> <td>2     </td> <td>Mr. Percival James R Sharp            </td> <td>male  </td> <td>27  </td> <td>0                      </td> <td>0                      </td> <td>26.0 pounds   </td> <td>Percival  </td>\n",
       "        </tr>\n",
       "        <tr>\n",
       "            <td>1       </td> <td>3     </td> <td>Master. Halim Gonios Moubarek         </td> <td>male  </td> <td>4   </td> <td>1                      </td> <td>1                      </td> <td>15.2458 pounds</td> <td>Halim     </td>\n",
       "        </tr>\n",
       "        <tr>\n",
       "            <td>0       </td> <td>3     </td> <td>Mr. Anders Johan Andersson            </td> <td>male  </td> <td>39  </td> <td>1                      </td> <td>5                      </td> <td>31.275 pounds </td> <td>Anders    </td>\n",
       "        </tr>\n",
       "        <tr>\n",
       "            <td>0       </td> <td>3     </td> <td>Mr. Frederick Sage                    </td> <td>male  </td> <td>17  </td> <td>8                      </td> <td>2                      </td> <td>69.55 pounds  </td> <td>Frederick </td>\n",
       "        </tr>\n",
       "        <tr>\n",
       "            <td>0       </td> <td>3     </td> <td>Mrs. Frederick (Augusta Tyler) Goodwin</td> <td>female</td> <td>43  </td> <td>1                      </td> <td>6                      </td> <td>46.9 pounds   </td> <td>Augusta   </td>\n",
       "        </tr>\n",
       "    </tbody>\n",
       "</table>\n",
       "<p>... (700 rows omitted)</p>"
      ],
      "text/plain": [
       "Survived | Pclass | Name                                   | Sex    | Age  | Siblings/Spouses Aboard | Parents/Children Aboard | Fare           | First Name\n",
       "0        | 2      | Mr. William John Berriman              | male   | 23   | 0                       | 0                       | 13.0 pounds    | William\n",
       "1        | 3      | Mrs. (Beila) Moor                      | female | 27   | 0                       | 1                       | 12.475 pounds  | Beila\n",
       "0        | 3      | Mr. Nestor Cyriel Vande Walle          | male   | 28   | 0                       | 0                       | 9.5 pounds     | Nestor\n",
       "0        | 3      | Mr. Khalil Saad                        | male   | 25   | 0                       | 0                       | 7.225 pounds   | Khalil\n",
       "0        | 3      | Miss. Gerda Ulrika Dahlberg            | female | 22   | 0                       | 0                       | 10.5167 pounds | Gerda\n",
       "0        | 2      | Mr. Percival James R Sharp             | male   | 27   | 0                       | 0                       | 26.0 pounds    | Percival\n",
       "1        | 3      | Master. Halim Gonios Moubarek          | male   | 4    | 1                       | 1                       | 15.2458 pounds | Halim\n",
       "0        | 3      | Mr. Anders Johan Andersson             | male   | 39   | 1                       | 5                       | 31.275 pounds  | Anders\n",
       "0        | 3      | Mr. Frederick Sage                     | male   | 17   | 8                       | 2                       | 69.55 pounds   | Frederick\n",
       "0        | 3      | Mrs. Frederick (Augusta Tyler) Goodwin | female | 43   | 1                       | 6                       | 46.9 pounds    | Augusta\n",
       "... (700 rows omitted)"
      ]
     },
     "execution_count": 99,
     "metadata": {},
     "output_type": "execute_result"
    }
   ],
   "source": [
    "titanic = Table.read_table('data/titanic.csv')\n",
    "titanic"
   ]
  },
  {
   "cell_type": "markdown",
   "metadata": {},
   "source": [
    "**Question 1.** Just for fun, what are the full names of the youngest and oldest passengers on board? Save your answers as `youngest` and `oldest`, and give the names exactly as they appear in the `Name` column."
   ]
  },
  {
   "cell_type": "code",
   "execution_count": 100,
   "metadata": {},
   "outputs": [
    {
     "data": {
      "text/plain": [
       "(Ellipsis, Ellipsis)"
      ]
     },
     "execution_count": 100,
     "metadata": {},
     "output_type": "execute_result"
    }
   ],
   "source": [
    "youngest = ...\n",
    "oldest = ...\n",
    "youngest, oldest"
   ]
  },
  {
   "cell_type": "code",
   "execution_count": 101,
   "metadata": {},
   "outputs": [
    {
     "data": {
      "text/plain": [
       "('Master. Viljo Hamalainen', 'Mr. Algernon Henry Wilson Barkworth')"
      ]
     },
     "execution_count": 101,
     "metadata": {},
     "output_type": "execute_result"
    }
   ],
   "source": [
    "youngest = titanic.sort(\"Age\").column(\"Name\").item(0)\n",
    "oldest = titanic.sort(\"Age\",descending=True).column(\"Name\").item(0)\n",
    "youngest, oldest"
   ]
  },
  {
   "cell_type": "code",
   "execution_count": 102,
   "metadata": {
    "scrolled": true
   },
   "outputs": [
    {
     "name": "stdout",
     "output_type": "stream",
     "text": [
      "~~~~~~~~~~~~~~~~~~~~~~~~~~~~~~~~~~~~~~~~~~~~~~~~~~~~~~~~~~~~~~~~~~~~~\n",
      "Running tests\n",
      "\n",
      "---------------------------------------------------------------------\n",
      "Test summary\n",
      "    Passed: 1\n",
      "    Failed: 0\n",
      "[ooooooooook] 100.0% passed\n",
      "\n"
     ]
    }
   ],
   "source": [
    "_ = ok.grade('q1_1')"
   ]
  },
  {
   "cell_type": "markdown",
   "metadata": {},
   "source": [
    "**Question 2.** Every passenger has a title, such as \"Miss.\" or \"Mr.\", which appears as the first word of the `Name` column. Define a function called `extract_title` that takes a string as an input and returns the first word in the string. Then, use your function to add a column to the `titanic` table called `Title` containing the title of each passenger.\n",
    "\n",
    "*Hint: Look up the available Python string methods.*\n",
    "\n",
    "*Note: Please include the period in the titles (i.e. \"Miss.\" not \"Miss\")*"
   ]
  },
  {
   "cell_type": "code",
   "execution_count": 103,
   "metadata": {},
   "outputs": [],
   "source": [
    "# Define your function extract_title here"
   ]
  },
  {
   "cell_type": "code",
   "execution_count": 104,
   "metadata": {},
   "outputs": [
    {
     "data": {
      "text/plain": [
       "False"
      ]
     },
     "execution_count": 104,
     "metadata": {},
     "output_type": "execute_result"
    }
   ],
   "source": [
    "'Title' in titanic.labels"
   ]
  },
  {
   "cell_type": "code",
   "execution_count": 105,
   "metadata": {},
   "outputs": [
    {
     "data": {
      "text/html": [
       "<table border=\"1\" class=\"dataframe\">\n",
       "    <thead>\n",
       "        <tr>\n",
       "            <th>Survived</th> <th>Pclass</th> <th>Name</th> <th>Sex</th> <th>Age</th> <th>Siblings/Spouses Aboard</th> <th>Parents/Children Aboard</th> <th>Fare</th> <th>First Name</th> <th>Title</th>\n",
       "        </tr>\n",
       "    </thead>\n",
       "    <tbody>\n",
       "        <tr>\n",
       "            <td>0       </td> <td>2     </td> <td>Mr. William John Berriman             </td> <td>male  </td> <td>23  </td> <td>0                      </td> <td>0                      </td> <td>13.0 pounds   </td> <td>William   </td> <td>Mr.    </td>\n",
       "        </tr>\n",
       "        <tr>\n",
       "            <td>1       </td> <td>3     </td> <td>Mrs. (Beila) Moor                     </td> <td>female</td> <td>27  </td> <td>0                      </td> <td>1                      </td> <td>12.475 pounds </td> <td>Beila     </td> <td>Mrs.   </td>\n",
       "        </tr>\n",
       "        <tr>\n",
       "            <td>0       </td> <td>3     </td> <td>Mr. Nestor Cyriel Vande Walle         </td> <td>male  </td> <td>28  </td> <td>0                      </td> <td>0                      </td> <td>9.5 pounds    </td> <td>Nestor    </td> <td>Mr.    </td>\n",
       "        </tr>\n",
       "        <tr>\n",
       "            <td>0       </td> <td>3     </td> <td>Mr. Khalil Saad                       </td> <td>male  </td> <td>25  </td> <td>0                      </td> <td>0                      </td> <td>7.225 pounds  </td> <td>Khalil    </td> <td>Mr.    </td>\n",
       "        </tr>\n",
       "        <tr>\n",
       "            <td>0       </td> <td>3     </td> <td>Miss. Gerda Ulrika Dahlberg           </td> <td>female</td> <td>22  </td> <td>0                      </td> <td>0                      </td> <td>10.5167 pounds</td> <td>Gerda     </td> <td>Miss.  </td>\n",
       "        </tr>\n",
       "        <tr>\n",
       "            <td>0       </td> <td>2     </td> <td>Mr. Percival James R Sharp            </td> <td>male  </td> <td>27  </td> <td>0                      </td> <td>0                      </td> <td>26.0 pounds   </td> <td>Percival  </td> <td>Mr.    </td>\n",
       "        </tr>\n",
       "        <tr>\n",
       "            <td>1       </td> <td>3     </td> <td>Master. Halim Gonios Moubarek         </td> <td>male  </td> <td>4   </td> <td>1                      </td> <td>1                      </td> <td>15.2458 pounds</td> <td>Halim     </td> <td>Master.</td>\n",
       "        </tr>\n",
       "        <tr>\n",
       "            <td>0       </td> <td>3     </td> <td>Mr. Anders Johan Andersson            </td> <td>male  </td> <td>39  </td> <td>1                      </td> <td>5                      </td> <td>31.275 pounds </td> <td>Anders    </td> <td>Mr.    </td>\n",
       "        </tr>\n",
       "        <tr>\n",
       "            <td>0       </td> <td>3     </td> <td>Mr. Frederick Sage                    </td> <td>male  </td> <td>17  </td> <td>8                      </td> <td>2                      </td> <td>69.55 pounds  </td> <td>Frederick </td> <td>Mr.    </td>\n",
       "        </tr>\n",
       "        <tr>\n",
       "            <td>0       </td> <td>3     </td> <td>Mrs. Frederick (Augusta Tyler) Goodwin</td> <td>female</td> <td>43  </td> <td>1                      </td> <td>6                      </td> <td>46.9 pounds   </td> <td>Augusta   </td> <td>Mrs.   </td>\n",
       "        </tr>\n",
       "    </tbody>\n",
       "</table>\n",
       "<p>... (700 rows omitted)</p>"
      ],
      "text/plain": [
       "Survived | Pclass | Name                                   | Sex    | Age  | Siblings/Spouses Aboard | Parents/Children Aboard | Fare           | First Name | Title\n",
       "0        | 2      | Mr. William John Berriman              | male   | 23   | 0                       | 0                       | 13.0 pounds    | William    | Mr.\n",
       "1        | 3      | Mrs. (Beila) Moor                      | female | 27   | 0                       | 1                       | 12.475 pounds  | Beila      | Mrs.\n",
       "0        | 3      | Mr. Nestor Cyriel Vande Walle          | male   | 28   | 0                       | 0                       | 9.5 pounds     | Nestor     | Mr.\n",
       "0        | 3      | Mr. Khalil Saad                        | male   | 25   | 0                       | 0                       | 7.225 pounds   | Khalil     | Mr.\n",
       "0        | 3      | Miss. Gerda Ulrika Dahlberg            | female | 22   | 0                       | 0                       | 10.5167 pounds | Gerda      | Miss.\n",
       "0        | 2      | Mr. Percival James R Sharp             | male   | 27   | 0                       | 0                       | 26.0 pounds    | Percival   | Mr.\n",
       "1        | 3      | Master. Halim Gonios Moubarek          | male   | 4    | 1                       | 1                       | 15.2458 pounds | Halim      | Master.\n",
       "0        | 3      | Mr. Anders Johan Andersson             | male   | 39   | 1                       | 5                       | 31.275 pounds  | Anders     | Mr.\n",
       "0        | 3      | Mr. Frederick Sage                     | male   | 17   | 8                       | 2                       | 69.55 pounds   | Frederick  | Mr.\n",
       "0        | 3      | Mrs. Frederick (Augusta Tyler) Goodwin | female | 43   | 1                       | 6                       | 46.9 pounds    | Augusta    | Mrs.\n",
       "... (700 rows omitted)"
      ]
     },
     "execution_count": 105,
     "metadata": {},
     "output_type": "execute_result"
    }
   ],
   "source": [
    "def extract_title(s):\n",
    "    return s.split()[0]\n",
    "\n",
    "title = titanic.apply(extract_title, 'Name')\n",
    "title\n",
    "\n",
    "titanic = titanic.with_column('Title', title)\n",
    "titanic"
   ]
  },
  {
   "cell_type": "code",
   "execution_count": 106,
   "metadata": {},
   "outputs": [
    {
     "name": "stdout",
     "output_type": "stream",
     "text": [
      "~~~~~~~~~~~~~~~~~~~~~~~~~~~~~~~~~~~~~~~~~~~~~~~~~~~~~~~~~~~~~~~~~~~~~\n",
      "Running tests\n",
      "\n",
      "---------------------------------------------------------------------\n",
      "Test summary\n",
      "    Passed: 1\n",
      "    Failed: 0\n",
      "[ooooooooook] 100.0% passed\n",
      "\n"
     ]
    }
   ],
   "source": [
    "_ = ok.grade('q1_2')"
   ]
  },
  {
   "cell_type": "markdown",
   "metadata": {},
   "source": [
    "**Question 3.** Make an array called `possible_titles` containing the different titles that were used by passengers on the Titanic. Each different title should appear only once, and titles should be alphabetically ordered.\n",
    "\n",
    "*Hint: Look up `np.unique`.*"
   ]
  },
  {
   "cell_type": "code",
   "execution_count": 107,
   "metadata": {},
   "outputs": [
    {
     "data": {
      "text/plain": [
       "Ellipsis"
      ]
     },
     "execution_count": 107,
     "metadata": {},
     "output_type": "execute_result"
    }
   ],
   "source": [
    "possible_titles = ...\n",
    "possible_titles"
   ]
  },
  {
   "cell_type": "code",
   "execution_count": 108,
   "metadata": {
    "scrolled": true
   },
   "outputs": [
    {
     "data": {
      "text/plain": [
       "array(['Capt.', 'Col.', 'Don.', 'Dr.', 'Lady.', 'Major.', 'Master.',\n",
       "       'Miss.', 'Mlle.', 'Mme.', 'Mr.', 'Mrs.', 'Ms.', 'Rev.', 'Sir.'], \n",
       "      dtype='<U7')"
      ]
     },
     "execution_count": 108,
     "metadata": {},
     "output_type": "execute_result"
    }
   ],
   "source": [
    "possible_titles = np.unique(title)\n",
    "possible_titles"
   ]
  },
  {
   "cell_type": "code",
   "execution_count": 109,
   "metadata": {
    "scrolled": true
   },
   "outputs": [
    {
     "name": "stdout",
     "output_type": "stream",
     "text": [
      "~~~~~~~~~~~~~~~~~~~~~~~~~~~~~~~~~~~~~~~~~~~~~~~~~~~~~~~~~~~~~~~~~~~~~\n",
      "Running tests\n",
      "\n",
      "---------------------------------------------------------------------\n",
      "Test summary\n",
      "    Passed: 1\n",
      "    Failed: 0\n",
      "[ooooooooook] 100.0% passed\n",
      "\n"
     ]
    }
   ],
   "source": [
    "_ = ok.grade('q1_3')"
   ]
  },
  {
   "cell_type": "markdown",
   "metadata": {},
   "source": [
    "**Question 4.** Sum the cost of the first two tickets in the table, without changing or converting data types at all. You should see that the sum does not make sense. Explain what causes this."
   ]
  },
  {
   "cell_type": "code",
   "execution_count": 110,
   "metadata": {},
   "outputs": [
    {
     "data": {
      "text/plain": [
       "Ellipsis"
      ]
     },
     "execution_count": 110,
     "metadata": {},
     "output_type": "execute_result"
    }
   ],
   "source": [
    "first_two = ...\n",
    "first_two"
   ]
  },
  {
   "cell_type": "code",
   "execution_count": 111,
   "metadata": {},
   "outputs": [
    {
     "data": {
      "text/plain": [
       "'13.0 pounds12.475 pounds'"
      ]
     },
     "execution_count": 111,
     "metadata": {},
     "output_type": "execute_result"
    }
   ],
   "source": [
    "first_two = titanic.column(\"Fare\").item(0)+titanic.column(\"Fare\").item(1)\n",
    "first_two"
   ]
  },
  {
   "cell_type": "markdown",
   "metadata": {},
   "source": [
    "<hr style=\"color:Maroon;background-color:Maroon;border:0 none; height: 3px;\">\n",
    "\n",
    "The sum does not make sense because we are doing string concatenation instead of summation of float.\n",
    "\n",
    "<hr style=\"color:Maroon;background-color:Maroon;border:0 none; height: 3px;\">"
   ]
  },
  {
   "cell_type": "markdown",
   "metadata": {},
   "source": [
    "**Question 5.** How much revenue did the Titanic generate in ticket sales? Save your answer as `total_revenue`.\n",
    "\n",
    "*Hint: Look up the available Python string methods.*\n",
    "\n",
    "*Hint: Our solution involved defining a function and using ``apply``.*"
   ]
  },
  {
   "cell_type": "code",
   "execution_count": 112,
   "metadata": {},
   "outputs": [
    {
     "data": {
      "text/plain": [
       "Ellipsis"
      ]
     },
     "execution_count": 112,
     "metadata": {},
     "output_type": "execute_result"
    }
   ],
   "source": [
    "total_revenue = ...\n",
    "total_revenue"
   ]
  },
  {
   "cell_type": "code",
   "execution_count": 113,
   "metadata": {},
   "outputs": [
    {
     "data": {
      "text/plain": [
       "23498.774400000002"
      ]
     },
     "execution_count": 113,
     "metadata": {},
     "output_type": "execute_result"
    }
   ],
   "source": [
    "def convert_fare(s):\n",
    "    return float(s.strip(' pounds'))\n",
    "\n",
    "total_revenue = titanic.apply(convert_fare, 'Fare').sum()\n",
    "total_revenue.sum()"
   ]
  },
  {
   "cell_type": "code",
   "execution_count": 114,
   "metadata": {},
   "outputs": [
    {
     "name": "stdout",
     "output_type": "stream",
     "text": [
      "~~~~~~~~~~~~~~~~~~~~~~~~~~~~~~~~~~~~~~~~~~~~~~~~~~~~~~~~~~~~~~~~~~~~~\n",
      "Running tests\n",
      "\n",
      "---------------------------------------------------------------------\n",
      "Test summary\n",
      "    Passed: 1\n",
      "    Failed: 0\n",
      "[ooooooooook] 100.0% passed\n",
      "\n"
     ]
    }
   ],
   "source": [
    "_ = ok.grade('q1_5')"
   ]
  },
  {
   "cell_type": "markdown",
   "metadata": {},
   "source": [
    "**Question 6.** One British pound in 1912 is equivalent to 113.27 pounds today, due to inflation. One British pound today is equivalent to one US dollar and 33 cents. How much revenue did the Titanic make, measured in today's US dollars, and rounded to the nearest cent? Save your answer as `revenue_dollars`."
   ]
  },
  {
   "cell_type": "code",
   "execution_count": 115,
   "metadata": {},
   "outputs": [
    {
     "data": {
      "text/plain": [
       "Ellipsis"
      ]
     },
     "execution_count": 115,
     "metadata": {},
     "output_type": "execute_result"
    }
   ],
   "source": [
    "revenue_dollars = ...\n",
    "revenue_dollars"
   ]
  },
  {
   "cell_type": "code",
   "execution_count": 116,
   "metadata": {},
   "outputs": [
    {
     "data": {
      "text/plain": [
       "3540069.21"
      ]
     },
     "execution_count": 116,
     "metadata": {},
     "output_type": "execute_result"
    }
   ],
   "source": [
    "revenue_dollars = round(total_revenue*113.27*1.33, 2)\n",
    "revenue_dollars"
   ]
  },
  {
   "cell_type": "code",
   "execution_count": 117,
   "metadata": {},
   "outputs": [
    {
     "name": "stdout",
     "output_type": "stream",
     "text": [
      "~~~~~~~~~~~~~~~~~~~~~~~~~~~~~~~~~~~~~~~~~~~~~~~~~~~~~~~~~~~~~~~~~~~~~\n",
      "Running tests\n",
      "\n",
      "---------------------------------------------------------------------\n",
      "Test summary\n",
      "    Passed: 1\n",
      "    Failed: 0\n",
      "[ooooooooook] 100.0% passed\n",
      "\n"
     ]
    }
   ],
   "source": [
    "_ = ok.grade('q1_6')"
   ]
  },
  {
   "cell_type": "markdown",
   "metadata": {},
   "source": [
    "## Part 2: Passenger Class and Survival Rate"
   ]
  },
  {
   "cell_type": "markdown",
   "metadata": {},
   "source": [
    "Now that we have a basic understanding of the data, we can investigate more interesting questions. In this section, we will explore the connection between a passenger's class and their chance of surviving.\n",
    "\n",
    "Here is the definition of **survival rate** (used in this part as well as parts 3 and 4): For any group of people, the survival rate of that group of people is the percentage of people in that group who survived."
   ]
  },
  {
   "cell_type": "markdown",
   "metadata": {},
   "source": [
    "**Question 1.** Create an array of size 3 called `class_percent` containing the percentage of passengers in each of the three classes. To do this, define variables\n",
    "1. `class1`: the percentage of people in class 1\n",
    "2. `class2`: the percentage of people in class 2\n",
    "3. `class3`: the percentage of people in class 3  \n",
    "\n",
    "The array `class_percent` should contain `class1`, `class2`, `class3` in this order."
   ]
  },
  {
   "cell_type": "code",
   "execution_count": 118,
   "metadata": {},
   "outputs": [
    {
     "data": {
      "text/plain": [
       "Ellipsis"
      ]
     },
     "execution_count": 118,
     "metadata": {},
     "output_type": "execute_result"
    }
   ],
   "source": [
    "class1 = ...\n",
    "class2 = ...\n",
    "class3 = ...\n",
    "class_percent = ...\n",
    "class_percent"
   ]
  },
  {
   "cell_type": "code",
   "execution_count": 119,
   "metadata": {},
   "outputs": [
    {
     "data": {
      "text/plain": [
       "array([ 24.08450704,  20.98591549,  54.92957746])"
      ]
     },
     "execution_count": 119,
     "metadata": {},
     "output_type": "execute_result"
    }
   ],
   "source": [
    "total_number_passengers = titanic.num_rows\n",
    "class1 = titanic.where(\"Pclass\",are.equal_to(1)).num_rows / total_number_passengers * 100\n",
    "class2 = titanic.where(\"Pclass\",are.equal_to(2)).num_rows / total_number_passengers * 100\n",
    "class3 = titanic.where(\"Pclass\",are.equal_to(3)).num_rows / total_number_passengers * 100\n",
    "class_percent = make_array(class1,class2,class3)\n",
    "class_percent"
   ]
  },
  {
   "cell_type": "code",
   "execution_count": 120,
   "metadata": {},
   "outputs": [
    {
     "name": "stdout",
     "output_type": "stream",
     "text": [
      "~~~~~~~~~~~~~~~~~~~~~~~~~~~~~~~~~~~~~~~~~~~~~~~~~~~~~~~~~~~~~~~~~~~~~\n",
      "Running tests\n",
      "\n",
      "---------------------------------------------------------------------\n",
      "Test summary\n",
      "    Passed: 1\n",
      "    Failed: 0\n",
      "[ooooooooook] 100.0% passed\n",
      "\n"
     ]
    }
   ],
   "source": [
    "_ = ok.grade('q2_1')"
   ]
  },
  {
   "cell_type": "markdown",
   "metadata": {},
   "source": [
    "**Question 2.** Create an array of size 3 called `survival_rate` containing, for each class, the percentage of passengers in that class that survived. Similarly, create an array of size 3 called `mean_age` containing, for each class, the average age of all passengers in that class. For both arrays, do 1st class, then 2nd class, then 3rd class."
   ]
  },
  {
   "cell_type": "code",
   "execution_count": 121,
   "metadata": {},
   "outputs": [
    {
     "data": {
      "text/plain": [
       "Ellipsis"
      ]
     },
     "execution_count": 121,
     "metadata": {},
     "output_type": "execute_result"
    }
   ],
   "source": [
    "survival_rate = ...\n",
    "survival_rate"
   ]
  },
  {
   "cell_type": "code",
   "execution_count": 122,
   "metadata": {},
   "outputs": [
    {
     "data": {
      "text/plain": [
       "Ellipsis"
      ]
     },
     "execution_count": 122,
     "metadata": {},
     "output_type": "execute_result"
    }
   ],
   "source": [
    "mean_age = ...\n",
    "mean_age"
   ]
  },
  {
   "cell_type": "code",
   "execution_count": 123,
   "metadata": {
    "scrolled": true
   },
   "outputs": [
    {
     "data": {
      "text/plain": [
       "(array([ 63.15789474,  45.63758389,  24.87179487]),\n",
       " array([ 38.8625731 ,  30.65550336,  25.16666667]))"
      ]
     },
     "execution_count": 123,
     "metadata": {},
     "output_type": "execute_result"
    }
   ],
   "source": [
    "# solution\n",
    "survival_rate = titanic.group('Pclass',np.mean).column('Survived mean') * 100 \n",
    "mean_age = titanic.group('Pclass',np.mean).column('Age mean')\n",
    "survival_rate, mean_age"
   ]
  },
  {
   "cell_type": "code",
   "execution_count": 124,
   "metadata": {},
   "outputs": [
    {
     "name": "stdout",
     "output_type": "stream",
     "text": [
      "~~~~~~~~~~~~~~~~~~~~~~~~~~~~~~~~~~~~~~~~~~~~~~~~~~~~~~~~~~~~~~~~~~~~~\n",
      "Running tests\n",
      "\n",
      "---------------------------------------------------------------------\n",
      "Test summary\n",
      "    Passed: 1\n",
      "    Failed: 0\n",
      "[ooooooooook] 100.0% passed\n",
      "\n"
     ]
    }
   ],
   "source": [
    "_ = ok.grade('q2_2')"
   ]
  },
  {
   "cell_type": "markdown",
   "metadata": {},
   "source": [
    "**Question 3.** Create a summary table called `stats_table` containing four columns:\n",
    "1. `Class`: 1, 2, 3\n",
    "2. `Survival Rate`: the survival rate, as a percentage, for each class\n",
    "3. `Mean Age`: the average age of passengers in each class\n",
    "4. `Percentage`: the percentage of passengers in each class\n",
    "\n",
    "*Note: Please have the first row be class 1, second be class 2, and third be class 3*"
   ]
  },
  {
   "cell_type": "code",
   "execution_count": 125,
   "metadata": {
    "scrolled": true
   },
   "outputs": [
    {
     "data": {
      "text/plain": [
       "Ellipsis"
      ]
     },
     "execution_count": 125,
     "metadata": {},
     "output_type": "execute_result"
    }
   ],
   "source": [
    "stats_table = ...\n",
    "stats_table"
   ]
  },
  {
   "cell_type": "code",
   "execution_count": 126,
   "metadata": {},
   "outputs": [
    {
     "data": {
      "text/html": [
       "<table border=\"1\" class=\"dataframe\">\n",
       "    <thead>\n",
       "        <tr>\n",
       "            <th>Class</th> <th>Survival Rate</th> <th>Mean Age</th> <th>Percentage</th>\n",
       "        </tr>\n",
       "    </thead>\n",
       "    <tbody>\n",
       "        <tr>\n",
       "            <td>1    </td> <td>63.1579      </td> <td>38.8626 </td> <td>24.0845   </td>\n",
       "        </tr>\n",
       "        <tr>\n",
       "            <td>2    </td> <td>45.6376      </td> <td>30.6555 </td> <td>20.9859   </td>\n",
       "        </tr>\n",
       "        <tr>\n",
       "            <td>3    </td> <td>24.8718      </td> <td>25.1667 </td> <td>54.9296   </td>\n",
       "        </tr>\n",
       "    </tbody>\n",
       "</table>"
      ],
      "text/plain": [
       "Class | Survival Rate | Mean Age | Percentage\n",
       "1     | 63.1579       | 38.8626  | 24.0845\n",
       "2     | 45.6376       | 30.6555  | 20.9859\n",
       "3     | 24.8718       | 25.1667  | 54.9296"
      ]
     },
     "execution_count": 126,
     "metadata": {},
     "output_type": "execute_result"
    }
   ],
   "source": [
    "stats_table = Table().with_columns('Class', np.arange(1,4),'Survival Rate',survival_rate,\\\n",
    "                                   'Mean Age',mean_age,'Percentage', class_percent)\n",
    "stats_table"
   ]
  },
  {
   "cell_type": "code",
   "execution_count": 127,
   "metadata": {},
   "outputs": [
    {
     "data": {
      "text/plain": [
       "array([ 63.15789474,  45.63758389,  24.87179487])"
      ]
     },
     "execution_count": 127,
     "metadata": {},
     "output_type": "execute_result"
    }
   ],
   "source": [
    "set(stats_table['Survival Rate'])\n",
    "stats_table['Survival Rate']"
   ]
  },
  {
   "cell_type": "code",
   "execution_count": 128,
   "metadata": {},
   "outputs": [
    {
     "data": {
      "text/plain": [
       "54.929577464788736"
      ]
     },
     "execution_count": 128,
     "metadata": {},
     "output_type": "execute_result"
    }
   ],
   "source": [
    "stats_table['Percentage'][2]"
   ]
  },
  {
   "cell_type": "code",
   "execution_count": 129,
   "metadata": {},
   "outputs": [
    {
     "name": "stdout",
     "output_type": "stream",
     "text": [
      "~~~~~~~~~~~~~~~~~~~~~~~~~~~~~~~~~~~~~~~~~~~~~~~~~~~~~~~~~~~~~~~~~~~~~\n",
      "Running tests\n",
      "\n",
      "---------------------------------------------------------------------\n",
      "Test summary\n",
      "    Passed: 1\n",
      "    Failed: 0\n",
      "[ooooooooook] 100.0% passed\n",
      "\n"
     ]
    }
   ],
   "source": [
    "_ = ok.grade('q2_3')"
   ]
  },
  {
   "cell_type": "markdown",
   "metadata": {},
   "source": [
    "**Question 4.** The table above shows that survival rates were different in different passenger classes. Is the `Percentage` column relevant for interpreting the values in the `Survival Rate` column? In other words, can we directly compare survival rates for different classes, or do we need to take into account the percentages of passengers in each class to draw accurate conclusions about which class of passengers is most likely to survive?"
   ]
  },
  {
   "cell_type": "markdown",
   "metadata": {},
   "source": [
    "<hr style=\"color:Maroon;background-color:Maroon;border:0 none; height: 3px;\">\n",
    "\n",
    "No, the percentage column is not relevant for interpreting the values in the Survival Rate. The survival rate is the rate within each\n",
    "class\n",
    "\n",
    "<hr style=\"color:Maroon;background-color:Maroon;border:0 none; height: 3px;\">"
   ]
  },
  {
   "cell_type": "markdown",
   "metadata": {},
   "source": [
    "**Question 5.** What does the following code calculate? Assign either 1, 2, 3, 4, or 5 to the name `code_interpretation` below."
   ]
  },
  {
   "cell_type": "code",
   "execution_count": 130,
   "metadata": {},
   "outputs": [
    {
     "data": {
      "text/plain": [
       "38.450704225352119"
      ]
     },
     "execution_count": 130,
     "metadata": {},
     "output_type": "execute_result"
    }
   ],
   "source": [
    "(survival_rate*class_percent/100).sum()"
   ]
  },
  {
   "cell_type": "markdown",
   "metadata": {},
   "source": [
    "1. The average of the survival rates for each of the three classes.\n",
    "2. The percentage of passengers aboard the Titanic that survived.\n",
    "3. The total survival rate of all three classes.\n",
    "4. The percentage of passengers aboard the Titanic in each of the three classes, all totaled.\n",
    "5. None of the above."
   ]
  },
  {
   "cell_type": "code",
   "execution_count": 131,
   "metadata": {},
   "outputs": [],
   "source": [
    "code_interpretation = ..."
   ]
  },
  {
   "cell_type": "code",
   "execution_count": 132,
   "metadata": {},
   "outputs": [],
   "source": [
    "code_interpretation = 2"
   ]
  },
  {
   "cell_type": "code",
   "execution_count": 133,
   "metadata": {},
   "outputs": [
    {
     "name": "stdout",
     "output_type": "stream",
     "text": [
      "~~~~~~~~~~~~~~~~~~~~~~~~~~~~~~~~~~~~~~~~~~~~~~~~~~~~~~~~~~~~~~~~~~~~~\n",
      "Running tests\n",
      "\n",
      "---------------------------------------------------------------------\n",
      "Test summary\n",
      "    Passed: 1\n",
      "    Failed: 0\n",
      "[ooooooooook] 100.0% passed\n",
      "\n"
     ]
    }
   ],
   "source": [
    "_ = ok.grade('q2_5')"
   ]
  },
  {
   "cell_type": "markdown",
   "metadata": {},
   "source": [
    "## Part 3: Survival of Men Versus Women"
   ]
  },
  {
   "cell_type": "markdown",
   "metadata": {},
   "source": [
    "In this section, we will explore the survival rates of men and women, both in general and for each class. All survival rates should be given as percentages (between 0 and 100)."
   ]
  },
  {
   "cell_type": "markdown",
   "metadata": {},
   "source": [
    "**Question 1.** Determine the overall women's survival rate and the overall men's survival rate. Save your answers in variables  `women_survival_rate` and `men_survival_rate`."
   ]
  },
  {
   "cell_type": "code",
   "execution_count": 134,
   "metadata": {},
   "outputs": [
    {
     "data": {
      "text/plain": [
       "(Ellipsis, Ellipsis)"
      ]
     },
     "execution_count": 134,
     "metadata": {},
     "output_type": "execute_result"
    }
   ],
   "source": [
    "women_survival_rate = ...\n",
    "men_survival_rate = ...\n",
    "women_survival_rate, men_survival_rate"
   ]
  },
  {
   "cell_type": "code",
   "execution_count": 135,
   "metadata": {},
   "outputs": [
    {
     "data": {
      "text/plain": [
       "74.50980392156863"
      ]
     },
     "execution_count": 135,
     "metadata": {},
     "output_type": "execute_result"
    }
   ],
   "source": [
    "women = titanic.where('Sex', 'female')\n",
    "women_survivors = women.group('Survived').column('count').item(1)\n",
    "women_survival_rate = women_survivors/women.num_rows*100\n",
    "women_survival_rate"
   ]
  },
  {
   "cell_type": "code",
   "execution_count": 136,
   "metadata": {},
   "outputs": [
    {
     "data": {
      "text/plain": [
       "18.24175824175824"
      ]
     },
     "execution_count": 136,
     "metadata": {},
     "output_type": "execute_result"
    }
   ],
   "source": [
    "men = titanic.where('Sex', 'male')\n",
    "men_survivors = men.group('Survived').column('count').item(1)\n",
    "men_survival_rate = men_survivors/men.num_rows*100\n",
    "men_survival_rate"
   ]
  },
  {
   "cell_type": "code",
   "execution_count": 137,
   "metadata": {},
   "outputs": [
    {
     "name": "stdout",
     "output_type": "stream",
     "text": [
      "~~~~~~~~~~~~~~~~~~~~~~~~~~~~~~~~~~~~~~~~~~~~~~~~~~~~~~~~~~~~~~~~~~~~~\n",
      "Running tests\n",
      "\n",
      "---------------------------------------------------------------------\n",
      "Test summary\n",
      "    Passed: 1\n",
      "    Failed: 0\n",
      "[ooooooooook] 100.0% passed\n",
      "\n"
     ]
    }
   ],
   "source": [
    "_ = ok.grade('q3_1')"
   ]
  },
  {
   "cell_type": "markdown",
   "metadata": {},
   "source": [
    "**Question 2.** Determine the women's survival rate for each class, and the men's survival rate for each class. Assign these six variables:\n",
    "1. `first_class_women_survival_rate`\n",
    "2. `second_class_women_survival_rate`\n",
    "3. `third_class_women_survival_rate`\n",
    "4. `first_class_men_survival_rate`\n",
    "5. `second_class_men_survival_rate`\n",
    "6. `third_class_men_survival_rate`\n"
   ]
  },
  {
   "cell_type": "code",
   "execution_count": 138,
   "metadata": {},
   "outputs": [
    {
     "data": {
      "text/plain": [
       "(Ellipsis, Ellipsis, Ellipsis, Ellipsis, Ellipsis, Ellipsis)"
      ]
     },
     "execution_count": 138,
     "metadata": {},
     "output_type": "execute_result"
    }
   ],
   "source": [
    "first_class_women_survival_rate = ...\n",
    "second_class_women_survival_rate = ...\n",
    "third_class_women_survival_rate = ...\n",
    "first_class_men_survival_rate = ...\n",
    "second_class_men_survival_rate = ...\n",
    "third_class_men_survival_rate = ...\n",
    "first_class_women_survival_rate, second_class_women_survival_rate, third_class_women_survival_rate, \\\n",
    "first_class_men_survival_rate, second_class_men_survival_rate, third_class_men_survival_rate\n"
   ]
  },
  {
   "cell_type": "code",
   "execution_count": 139,
   "metadata": {},
   "outputs": [
    {
     "data": {
      "text/plain": [
       "97.2972972972973"
      ]
     },
     "execution_count": 139,
     "metadata": {},
     "output_type": "execute_result"
    }
   ],
   "source": [
    "women = titanic.where('Sex', 'female')\n",
    "first_class_women = women.where('Pclass', 1)\n",
    "first_class_counts = first_class_women.group('Survived').column('count')\n",
    "first_class_women_survival_rate = first_class_counts.item(1)/(first_class_counts.item(0)+first_class_counts.item(1))*100\n",
    "first_class_women_survival_rate"
   ]
  },
  {
   "cell_type": "code",
   "execution_count": 140,
   "metadata": {},
   "outputs": [
    {
     "data": {
      "text/plain": [
       "93.65079365079364"
      ]
     },
     "execution_count": 140,
     "metadata": {},
     "output_type": "execute_result"
    }
   ],
   "source": [
    "second_class_women = women.where('Pclass', 2)\n",
    "second_class_counts = second_class_women.group('Survived').column('count')\n",
    "second_class_women_survival_rate = second_class_counts.item(1)/(second_class_counts.item(0)+second_class_counts.item(1))*100\n",
    "second_class_women_survival_rate"
   ]
  },
  {
   "cell_type": "code",
   "execution_count": 141,
   "metadata": {},
   "outputs": [
    {
     "data": {
      "text/plain": [
       "50.0"
      ]
     },
     "execution_count": 141,
     "metadata": {},
     "output_type": "execute_result"
    }
   ],
   "source": [
    "third_class_women = women.where('Pclass', 3)\n",
    "third_class_counts = third_class_women.group('Survived').column('count')\n",
    "third_class_women_survival_rate = third_class_counts.item(1)/(third_class_counts.item(0)+third_class_counts.item(1))*100\n",
    "third_class_women_survival_rate"
   ]
  },
  {
   "cell_type": "code",
   "execution_count": 142,
   "metadata": {},
   "outputs": [
    {
     "data": {
      "text/plain": [
       "37.11340206185567"
      ]
     },
     "execution_count": 142,
     "metadata": {},
     "output_type": "execute_result"
    }
   ],
   "source": [
    "men = titanic.where('Sex', 'male')\n",
    "first_class_men = men.where('Pclass', 1)\n",
    "first_class_men_counts = first_class_men.group('Survived').column('count')\n",
    "first_class_men_survival_rate = first_class_men_counts.item(1)/(first_class_men_counts.item(0)+first_class_men_counts.item(1))*100\n",
    "first_class_men_survival_rate"
   ]
  },
  {
   "cell_type": "code",
   "execution_count": 143,
   "metadata": {},
   "outputs": [
    {
     "data": {
      "text/plain": [
       "10.465116279069768"
      ]
     },
     "execution_count": 143,
     "metadata": {},
     "output_type": "execute_result"
    }
   ],
   "source": [
    "second_class_men = men.where('Pclass', 2)\n",
    "second_class_men_counts = second_class_men.group('Survived').column('count')\n",
    "second_class_men_survival_rate = second_class_men_counts.item(1)/(second_class_men_counts.item(0)+second_class_men_counts.item(1))*100\n",
    "second_class_men_survival_rate"
   ]
  },
  {
   "cell_type": "code",
   "execution_count": 144,
   "metadata": {},
   "outputs": [
    {
     "data": {
      "text/plain": [
       "13.970588235294118"
      ]
     },
     "execution_count": 144,
     "metadata": {},
     "output_type": "execute_result"
    }
   ],
   "source": [
    "third_class_men = men.where('Pclass', 3)\n",
    "third_class_men_counts = third_class_men.group('Survived').column('count')\n",
    "third_class_men_survival_rate = third_class_men_counts.item(1)/(third_class_men_counts.item(0)+third_class_men_counts.item(1))*100\n",
    "third_class_men_survival_rate"
   ]
  },
  {
   "cell_type": "code",
   "execution_count": 145,
   "metadata": {},
   "outputs": [
    {
     "name": "stdout",
     "output_type": "stream",
     "text": [
      "~~~~~~~~~~~~~~~~~~~~~~~~~~~~~~~~~~~~~~~~~~~~~~~~~~~~~~~~~~~~~~~~~~~~~\n",
      "Running tests\n",
      "\n",
      "---------------------------------------------------------------------\n",
      "Test summary\n",
      "    Passed: 1\n",
      "    Failed: 0\n",
      "[ooooooooook] 100.0% passed\n",
      "\n"
     ]
    }
   ],
   "source": [
    "_ = ok.grade('q3_2')"
   ]
  },
  {
   "cell_type": "markdown",
   "metadata": {},
   "source": [
    "**Question 3.**  Generate a chart or plot that allows one to easily compare the survival rates of men and women across the three classes. Make sure your chart or plot is clearly labeled and unambiguous."
   ]
  },
  {
   "cell_type": "code",
   "execution_count": 146,
   "metadata": {},
   "outputs": [],
   "source": [
    "# Make your visualization here."
   ]
  },
  {
   "cell_type": "code",
   "execution_count": 147,
   "metadata": {},
   "outputs": [
    {
     "data": {
      "image/png": "[encoded data removed]",
      "text/plain": [
       "<Figure size 432x288 with 1 Axes>"
      ]
     },
     "metadata": {},
     "output_type": "display_data"
    }
   ],
   "source": [
    "survival_table_by_sex = Table().with_columns(\n",
    "    \"Passenger Class\", make_array(1, 2, 3), \n",
    "    \"Men Survival Rate\", make_array(first_class_men_survival_rate, second_class_men_survival_rate, third_class_men_survival_rate), \n",
    "    \"Women Survival Rate\", make_array(first_class_women_survival_rate, second_class_women_survival_rate, third_class_women_survival_rate))\n",
    "survival_table_by_sex.barh('Passenger Class')"
   ]
  },
  {
   "cell_type": "markdown",
   "metadata": {},
   "source": [
    "**Question 4.**  The variables `men_survival_rate`, `first_class_men_survival_rate`, `second_class_men_survival_rate`, and `third_class_men_survival_rate` are related by an equation of the form\n",
    "\n",
    "$$\\text{men_survival_rate} = c_1*\\text{first_class_men_survival_rate}+ c_2*\\text{second_class_men_survival_rate} + c_3*\\text{third_class_men_survival_rate}.$$\n",
    "\n",
    "In this equation, the variable $c_1$ represents which of these quantities? Set `c1_meaning` to either 1, 2, or 3.\n",
    "1. the number of men in first class\n",
    "2. the percentage of men in first class\n",
    "3. the proportion of men in first class"
   ]
  },
  {
   "cell_type": "code",
   "execution_count": 148,
   "metadata": {},
   "outputs": [],
   "source": [
    "c1_meaning = ..."
   ]
  },
  {
   "cell_type": "code",
   "execution_count": 149,
   "metadata": {},
   "outputs": [
    {
     "data": {
      "text/plain": [
       "18.241758241758241"
      ]
     },
     "execution_count": 149,
     "metadata": {},
     "output_type": "execute_result"
    }
   ],
   "source": [
    "c1_meaning = 3\n",
    "((men.group('Pclass').column(1)/men.num_rows)*make_array(first_class_men_survival_rate, second_class_men_survival_rate, third_class_men_survival_rate)).sum()"
   ]
  },
  {
   "cell_type": "code",
   "execution_count": 150,
   "metadata": {},
   "outputs": [
    {
     "name": "stdout",
     "output_type": "stream",
     "text": [
      "~~~~~~~~~~~~~~~~~~~~~~~~~~~~~~~~~~~~~~~~~~~~~~~~~~~~~~~~~~~~~~~~~~~~~\n",
      "Running tests\n",
      "\n",
      "---------------------------------------------------------------------\n",
      "Test summary\n",
      "    Passed: 1\n",
      "    Failed: 0\n",
      "[ooooooooook] 100.0% passed\n",
      "\n"
     ]
    }
   ],
   "source": [
    "_ = ok.grade('q3_4')"
   ]
  },
  {
   "cell_type": "markdown",
   "metadata": {},
   "source": [
    "## Part 4: Survival of Women by Marital Status"
   ]
  },
  {
   "cell_type": "markdown",
   "metadata": {},
   "source": [
    "In this section, we will explore the survival rates of married women versus those of unmarried women. All survival rates should be given as percentages (between 0 and 100)."
   ]
  },
  {
   "cell_type": "markdown",
   "metadata": {},
   "source": [
    "**Question 1.** Recall that each passenger's name included a title. Assuming that \"Mrs.\" and \"Mme.\" (Madame) denote a married woman, and \"Miss.\" and \"Mlle.\" (Mademoiselle) denote an unmarried women, let's try to figure out whether the marital status of women affected their chance of survival. Calculate the survival rates for married and unmarried women, saving your answers in variables `married_rate` and `unmarried_rate`. Women with ambiguous titles, such as \"Lady\" and \"Ms.\", should not be included in either group.\n",
    "\n",
    "*Hint: The predicate `are.contained_in()` may be useful here.*"
   ]
  },
  {
   "cell_type": "code",
   "execution_count": 151,
   "metadata": {},
   "outputs": [
    {
     "data": {
      "text/plain": [
       "(Ellipsis, Ellipsis)"
      ]
     },
     "execution_count": 151,
     "metadata": {},
     "output_type": "execute_result"
    }
   ],
   "source": [
    "married_rate = ...\n",
    "unmarried_rate = ...\n",
    "married_rate, unmarried_rate"
   ]
  },
  {
   "cell_type": "code",
   "execution_count": 152,
   "metadata": {},
   "outputs": [
    {
     "data": {
      "text/plain": [
       "(80.808080808080803, 69.93464052287581)"
      ]
     },
     "execution_count": 152,
     "metadata": {},
     "output_type": "execute_result"
    }
   ],
   "source": [
    "married_rate = titanic.where('Title',are.contained_in(['Mrs.', 'Mme.'])).column('Survived').mean() * 100\n",
    "unmarried_rate = titanic.where('Title',are.contained_in(['Miss.', 'Mlle.'])).column('Survived').mean() * 100\n",
    "married_rate, unmarried_rate\n"
   ]
  },
  {
   "cell_type": "code",
   "execution_count": 153,
   "metadata": {},
   "outputs": [
    {
     "name": "stdout",
     "output_type": "stream",
     "text": [
      "~~~~~~~~~~~~~~~~~~~~~~~~~~~~~~~~~~~~~~~~~~~~~~~~~~~~~~~~~~~~~~~~~~~~~\n",
      "Running tests\n",
      "\n",
      "---------------------------------------------------------------------\n",
      "Test summary\n",
      "    Passed: 1\n",
      "    Failed: 0\n",
      "[ooooooooook] 100.0% passed\n",
      "\n"
     ]
    }
   ],
   "source": [
    "_ = ok.grade('q4_1')"
   ]
  },
  {
   "cell_type": "markdown",
   "metadata": {},
   "source": [
    "**Question 2.** Now, let’s compare the survival rate of children, `child_rate`, with the survival rate of adults, `adult_rate`. An adult is defined to be someone 18 years of age or older."
   ]
  },
  {
   "cell_type": "code",
   "execution_count": 154,
   "metadata": {},
   "outputs": [
    {
     "data": {
      "text/plain": [
       "(Ellipsis, Ellipsis)"
      ]
     },
     "execution_count": 154,
     "metadata": {},
     "output_type": "execute_result"
    }
   ],
   "source": [
    "child_rate = ...\n",
    "adult_rate = ...\n",
    "child_rate, adult_rate"
   ]
  },
  {
   "cell_type": "code",
   "execution_count": 155,
   "metadata": {},
   "outputs": [
    {
     "data": {
      "text/plain": [
       "(46.0, 37.213114754098356)"
      ]
     },
     "execution_count": 155,
     "metadata": {},
     "output_type": "execute_result"
    }
   ],
   "source": [
    "child_rate = titanic.where('Age',are.below(18)).column('Survived').mean() * 100\n",
    "adult_rate = titanic.where('Age',are.above_or_equal_to(18)).column('Survived').mean() * 100\n",
    "child_rate, adult_rate"
   ]
  },
  {
   "cell_type": "code",
   "execution_count": 156,
   "metadata": {},
   "outputs": [
    {
     "name": "stdout",
     "output_type": "stream",
     "text": [
      "~~~~~~~~~~~~~~~~~~~~~~~~~~~~~~~~~~~~~~~~~~~~~~~~~~~~~~~~~~~~~~~~~~~~~\n",
      "Running tests\n",
      "\n",
      "---------------------------------------------------------------------\n",
      "Test summary\n",
      "    Passed: 1\n",
      "    Failed: 0\n",
      "[ooooooooook] 100.0% passed\n",
      "\n"
     ]
    }
   ],
   "source": [
    "_ = ok.grade('q4_2')"
   ]
  },
  {
   "cell_type": "markdown",
   "metadata": {},
   "source": [
    "**Question 3.** How does your answer to Question 2 inform your interpetation of the data in Question 1? Choose the best answer (1, 2, or 3) and save it in variable `q3_answer`.\n",
    "1. The answer to Question 2 is **not relevant** to my interpretation of the data in Question 1. Knowing the children and adult survival rates does not affect whether marital status was important in determining survival.\n",
    "2. The answer to Question 2 makes me **more certain** that marital status was important in determining survival.\n",
    "3. The answer to Question 2 makes me **less certain** that marital status was important in determining survival."
   ]
  },
  {
   "cell_type": "code",
   "execution_count": 157,
   "metadata": {},
   "outputs": [],
   "source": [
    "q3_answer = ..."
   ]
  },
  {
   "cell_type": "code",
   "execution_count": 158,
   "metadata": {},
   "outputs": [],
   "source": [
    "q3_answer = 2"
   ]
  },
  {
   "cell_type": "code",
   "execution_count": 159,
   "metadata": {
    "scrolled": true
   },
   "outputs": [
    {
     "name": "stdout",
     "output_type": "stream",
     "text": [
      "~~~~~~~~~~~~~~~~~~~~~~~~~~~~~~~~~~~~~~~~~~~~~~~~~~~~~~~~~~~~~~~~~~~~~\n",
      "Running tests\n",
      "\n",
      "---------------------------------------------------------------------\n",
      "Test summary\n",
      "    Passed: 1\n",
      "    Failed: 0\n",
      "[ooooooooook] 100.0% passed\n",
      "\n"
     ]
    }
   ],
   "source": [
    "_ = ok.grade('q4_3')"
   ]
  },
  {
   "cell_type": "markdown",
   "metadata": {},
   "source": [
    "## Part 5: Baby Names"
   ]
  },
  {
   "cell_type": "markdown",
   "metadata": {},
   "source": [
    "Popular names are changing all the time! In this section, we will try to find out some interesting things about names around the time of the Titanic."
   ]
  },
  {
   "cell_type": "markdown",
   "metadata": {},
   "source": [
    "You can verify yourself that the average age of passengers onboard the Titanic was about 30 years old. Here, we provide you another dataset about popular names, based on social security records for people whose birth year is 1882 (Why 1882?). More information about this dataset can be found [here.](https://catalog.data.gov/dataset/baby-names-from-social-security-card-applications-national-level-data) The dataset contains a list of names with a count of how many babies born in 1882 were given that name."
   ]
  },
  {
   "cell_type": "markdown",
   "metadata": {},
   "source": [
    "**Question 1.** First, load the data from the file `data/names.csv` into a Table called `names`, then determine the lengths of the shortest and longest names in the dataset."
   ]
  },
  {
   "cell_type": "code",
   "execution_count": 160,
   "metadata": {},
   "outputs": [
    {
     "data": {
      "text/plain": [
       "(Ellipsis, Ellipsis)"
      ]
     },
     "execution_count": 160,
     "metadata": {},
     "output_type": "execute_result"
    }
   ],
   "source": [
    "names =  ...\n",
    "min_length = ...\n",
    "max_length = ...\n",
    "min_length, max_length"
   ]
  },
  {
   "cell_type": "code",
   "execution_count": 161,
   "metadata": {},
   "outputs": [
    {
     "data": {
      "text/html": [
       "<table border=\"1\" class=\"dataframe\">\n",
       "    <thead>\n",
       "        <tr>\n",
       "            <th>Name</th> <th>Occurrence</th>\n",
       "        </tr>\n",
       "    </thead>\n",
       "    <tbody>\n",
       "        <tr>\n",
       "            <td>Aaron  </td> <td>85        </td>\n",
       "        </tr>\n",
       "        <tr>\n",
       "            <td>Ab     </td> <td>5         </td>\n",
       "        </tr>\n",
       "        <tr>\n",
       "            <td>Abbie  </td> <td>80        </td>\n",
       "        </tr>\n",
       "        <tr>\n",
       "            <td>Abby   </td> <td>11        </td>\n",
       "        </tr>\n",
       "        <tr>\n",
       "            <td>Abe    </td> <td>50        </td>\n",
       "        </tr>\n",
       "        <tr>\n",
       "            <td>Abel   </td> <td>10        </td>\n",
       "        </tr>\n",
       "        <tr>\n",
       "            <td>Abigail</td> <td>14        </td>\n",
       "        </tr>\n",
       "        <tr>\n",
       "            <td>Abner  </td> <td>32        </td>\n",
       "        </tr>\n",
       "        <tr>\n",
       "            <td>Abraham</td> <td>91        </td>\n",
       "        </tr>\n",
       "        <tr>\n",
       "            <td>Abram  </td> <td>25        </td>\n",
       "        </tr>\n",
       "    </tbody>\n",
       "</table>\n",
       "<p>... (2002 rows omitted)</p>"
      ],
      "text/plain": [
       "Name    | Occurrence\n",
       "Aaron   | 85\n",
       "Ab      | 5\n",
       "Abbie   | 80\n",
       "Abby    | 11\n",
       "Abe     | 50\n",
       "Abel    | 10\n",
       "Abigail | 14\n",
       "Abner   | 32\n",
       "Abraham | 91\n",
       "Abram   | 25\n",
       "... (2002 rows omitted)"
      ]
     },
     "execution_count": 161,
     "metadata": {},
     "output_type": "execute_result"
    }
   ],
   "source": [
    "names = Table.read_table('data/names.csv')\n",
    "names"
   ]
  },
  {
   "cell_type": "code",
   "execution_count": 162,
   "metadata": {},
   "outputs": [
    {
     "data": {
      "text/plain": [
       "(2, 11)"
      ]
     },
     "execution_count": 162,
     "metadata": {},
     "output_type": "execute_result"
    }
   ],
   "source": [
    "max_length = max(names.apply(len,\"Name\"))\n",
    "min_length = min(names.apply(len,\"Name\"))\n",
    "min_length, max_length"
   ]
  },
  {
   "cell_type": "code",
   "execution_count": 163,
   "metadata": {},
   "outputs": [
    {
     "name": "stdout",
     "output_type": "stream",
     "text": [
      "~~~~~~~~~~~~~~~~~~~~~~~~~~~~~~~~~~~~~~~~~~~~~~~~~~~~~~~~~~~~~~~~~~~~~\n",
      "Running tests\n",
      "\n",
      "---------------------------------------------------------------------\n",
      "Test summary\n",
      "    Passed: 1\n",
      "    Failed: 0\n",
      "[ooooooooook] 100.0% passed\n",
      "\n"
     ]
    }
   ],
   "source": [
    "_ = ok.grade('q5_1')"
   ]
  },
  {
   "cell_type": "markdown",
   "metadata": {},
   "source": [
    "**Question 2.** Generate a chart or plot that allows one to easily compare the relative popularity of the top 20 baby names of 1882. Make sure your chart or plot is clearly labeled and unambiguous."
   ]
  },
  {
   "cell_type": "code",
   "execution_count": 164,
   "metadata": {},
   "outputs": [],
   "source": [
    "# Make your visualization here."
   ]
  },
  {
   "cell_type": "code",
   "execution_count": 165,
   "metadata": {},
   "outputs": [
    {
     "data": {
      "image/png": "[encoded data removed]",
      "text/plain": [
       "<Figure size 432x720 with 1 Axes>"
      ]
     },
     "metadata": {},
     "output_type": "display_data"
    }
   ],
   "source": [
    "names.sort('Occurrence', descending=True).take(np.arange(20)).barh('Name')"
   ]
  },
  {
   "cell_type": "markdown",
   "metadata": {},
   "source": [
    "**Question 3.** What proportion of babies born in 1882 had one of the top 3 most popular baby names? Remember that a proportion should be between 0 and 1."
   ]
  },
  {
   "cell_type": "code",
   "execution_count": 166,
   "metadata": {},
   "outputs": [
    {
     "data": {
      "text/plain": [
       "Ellipsis"
      ]
     },
     "execution_count": 166,
     "metadata": {},
     "output_type": "execute_result"
    }
   ],
   "source": [
    "proportion = ...\n",
    "proportion"
   ]
  },
  {
   "cell_type": "code",
   "execution_count": 167,
   "metadata": {},
   "outputs": [
    {
     "data": {
      "text/plain": [
       "0.1223474606492035"
      ]
     },
     "execution_count": 167,
     "metadata": {},
     "output_type": "execute_result"
    }
   ],
   "source": [
    "proportion = names.where('Name', are.contained_in(['John', 'William', 'Mary'])).column('Occurrence').sum()\\\n",
    "/names.column('Occurrence').sum()\n",
    "proportion"
   ]
  },
  {
   "cell_type": "code",
   "execution_count": 168,
   "metadata": {},
   "outputs": [
    {
     "name": "stdout",
     "output_type": "stream",
     "text": [
      "~~~~~~~~~~~~~~~~~~~~~~~~~~~~~~~~~~~~~~~~~~~~~~~~~~~~~~~~~~~~~~~~~~~~~\n",
      "Running tests\n",
      "\n",
      "---------------------------------------------------------------------\n",
      "Test summary\n",
      "    Passed: 1\n",
      "    Failed: 0\n",
      "[ooooooooook] 100.0% passed\n",
      "\n"
     ]
    }
   ],
   "source": [
    "_ = ok.grade('q5_3')"
   ]
  },
  {
   "cell_type": "markdown",
   "metadata": {},
   "source": [
    "**Question 4.** Of the first names of passengers on board the Titanic, which name was most popular according to the names dataset in 1882? How many Titanic passengers have that name? Save your answers to these two questions as `most_popular_name` and `most_popular_name_count`, respectively. "
   ]
  },
  {
   "cell_type": "code",
   "execution_count": 169,
   "metadata": {},
   "outputs": [
    {
     "data": {
      "text/plain": [
       "Ellipsis"
      ]
     },
     "execution_count": 169,
     "metadata": {},
     "output_type": "execute_result"
    }
   ],
   "source": [
    "most_popular_name = ...\n",
    "most_popular_name"
   ]
  },
  {
   "cell_type": "code",
   "execution_count": 170,
   "metadata": {},
   "outputs": [
    {
     "data": {
      "text/plain": [
       "Ellipsis"
      ]
     },
     "execution_count": 170,
     "metadata": {},
     "output_type": "execute_result"
    }
   ],
   "source": [
    "most_popular_name_count = ...\n",
    "most_popular_name_count"
   ]
  },
  {
   "cell_type": "code",
   "execution_count": 171,
   "metadata": {},
   "outputs": [
    {
     "data": {
      "text/plain": [
       "'John'"
      ]
     },
     "execution_count": 171,
     "metadata": {},
     "output_type": "execute_result"
    }
   ],
   "source": [
    "joined = titanic.join(\"First Name\",names,\"Name\")\n",
    "most_popular_name = joined.sort('Occurrence', descending=\"True\").column('First Name').item(0)\n",
    "most_popular_name"
   ]
  },
  {
   "cell_type": "code",
   "execution_count": 172,
   "metadata": {},
   "outputs": [
    {
     "data": {
      "text/plain": [
       "20"
      ]
     },
     "execution_count": 172,
     "metadata": {},
     "output_type": "execute_result"
    }
   ],
   "source": [
    "most_popular_name_count = joined.where('First Name', most_popular_name).num_rows\n",
    "most_popular_name_count"
   ]
  },
  {
   "cell_type": "code",
   "execution_count": 173,
   "metadata": {},
   "outputs": [
    {
     "name": "stdout",
     "output_type": "stream",
     "text": [
      "~~~~~~~~~~~~~~~~~~~~~~~~~~~~~~~~~~~~~~~~~~~~~~~~~~~~~~~~~~~~~~~~~~~~~\n",
      "Running tests\n",
      "\n",
      "---------------------------------------------------------------------\n",
      "Test summary\n",
      "    Passed: 1\n",
      "    Failed: 0\n",
      "[ooooooooook] 100.0% passed\n",
      "\n"
     ]
    }
   ],
   "source": [
    "_ = ok.grade('q5_4')"
   ]
  },
  {
   "cell_type": "markdown",
   "metadata": {},
   "source": [
    "**Question 5.** Surprisingly, the most common name among the Titanic passengers was not the most popular name of the time. Determine the most common name among the Titanic passengers, and save it as `most_common_name`. Determine how many passengers had that name and save it as `most_common_name_count.`"
   ]
  },
  {
   "cell_type": "code",
   "execution_count": 174,
   "metadata": {},
   "outputs": [
    {
     "data": {
      "text/plain": [
       "Ellipsis"
      ]
     },
     "execution_count": 174,
     "metadata": {},
     "output_type": "execute_result"
    }
   ],
   "source": [
    "most_common_name = ...\n",
    "most_common_name"
   ]
  },
  {
   "cell_type": "code",
   "execution_count": 175,
   "metadata": {},
   "outputs": [
    {
     "data": {
      "text/plain": [
       "Ellipsis"
      ]
     },
     "execution_count": 175,
     "metadata": {},
     "output_type": "execute_result"
    }
   ],
   "source": [
    "most_common_name_count = ...\n",
    "most_common_name_count"
   ]
  },
  {
   "cell_type": "code",
   "execution_count": 176,
   "metadata": {
    "scrolled": true
   },
   "outputs": [
    {
     "data": {
      "text/plain": [
       "'William'"
      ]
     },
     "execution_count": 176,
     "metadata": {},
     "output_type": "execute_result"
    }
   ],
   "source": [
    "most_common_name = titanic.group('First Name').sort('count', descending=True).column('First Name').item(0)\n",
    "most_common_name"
   ]
  },
  {
   "cell_type": "code",
   "execution_count": 177,
   "metadata": {},
   "outputs": [
    {
     "data": {
      "text/plain": [
       "26"
      ]
     },
     "execution_count": 177,
     "metadata": {},
     "output_type": "execute_result"
    }
   ],
   "source": [
    "most_common_name_count = titanic.where('First Name', most_common_name).num_rows\n",
    "most_common_name_count"
   ]
  },
  {
   "cell_type": "code",
   "execution_count": 178,
   "metadata": {},
   "outputs": [
    {
     "name": "stdout",
     "output_type": "stream",
     "text": [
      "~~~~~~~~~~~~~~~~~~~~~~~~~~~~~~~~~~~~~~~~~~~~~~~~~~~~~~~~~~~~~~~~~~~~~\n",
      "Running tests\n",
      "\n",
      "---------------------------------------------------------------------\n",
      "Test summary\n",
      "    Passed: 1\n",
      "    Failed: 0\n",
      "[ooooooooook] 100.0% passed\n",
      "\n"
     ]
    }
   ],
   "source": [
    "_ = ok.grade('q5_5')"
   ]
  },
  {
   "cell_type": "markdown",
   "metadata": {},
   "source": [
    "**Question 6.** Of the first names of passengers on board the Titanic, which names were least popular according to the names dataset in 1882? In this case, there are multiple names that are tied for least popular. For any one of these tied least popular names, how many Titanic passengers have that name?\n",
    "(the answer should be the same for each of the tied names). Save your answers to these two questions as `least_popular_names`, which should be an array, and `least_popular_name_count`, which should be an integer."
   ]
  },
  {
   "cell_type": "code",
   "execution_count": 179,
   "metadata": {},
   "outputs": [
    {
     "data": {
      "text/plain": [
       "Ellipsis"
      ]
     },
     "execution_count": 179,
     "metadata": {},
     "output_type": "execute_result"
    }
   ],
   "source": [
    "least_popular_names = ...\n",
    "least_popular_names"
   ]
  },
  {
   "cell_type": "code",
   "execution_count": 180,
   "metadata": {},
   "outputs": [
    {
     "data": {
      "text/plain": [
       "Ellipsis"
      ]
     },
     "execution_count": 180,
     "metadata": {},
     "output_type": "execute_result"
    }
   ],
   "source": [
    "least_popular_name_count = ...\n",
    "least_popular_name_count"
   ]
  },
  {
   "cell_type": "code",
   "execution_count": 181,
   "metadata": {},
   "outputs": [
    {
     "data": {
      "text/plain": [
       "array(['Adolf', 'Lionel'], \n",
       "      dtype='<U10')"
      ]
     },
     "execution_count": 181,
     "metadata": {},
     "output_type": "execute_result"
    }
   ],
   "source": [
    "joined = titanic.join(\"First Name\",names,\"Name\")\n",
    "min_occurrences = joined.column('Occurrence').min()\n",
    "least_popular_names = joined.where('Occurrence', min_occurrences).column('First Name')\n",
    "least_popular_names"
   ]
  },
  {
   "cell_type": "code",
   "execution_count": 182,
   "metadata": {},
   "outputs": [
    {
     "data": {
      "text/plain": [
       "1"
      ]
     },
     "execution_count": 182,
     "metadata": {},
     "output_type": "execute_result"
    }
   ],
   "source": [
    "least_popular_name_count = joined.where('First Name', least_popular_names.item(0)).num_rows\n",
    "least_popular_name_count"
   ]
  },
  {
   "cell_type": "code",
   "execution_count": 183,
   "metadata": {},
   "outputs": [
    {
     "name": "stdout",
     "output_type": "stream",
     "text": [
      "~~~~~~~~~~~~~~~~~~~~~~~~~~~~~~~~~~~~~~~~~~~~~~~~~~~~~~~~~~~~~~~~~~~~~\n",
      "Running tests\n",
      "\n",
      "---------------------------------------------------------------------\n",
      "Test summary\n",
      "    Passed: 1\n",
      "    Failed: 0\n",
      "[ooooooooook] 100.0% passed\n",
      "\n"
     ]
    }
   ],
   "source": [
    "_ = ok.grade('q5_6')"
   ]
  },
  {
   "cell_type": "markdown",
   "metadata": {},
   "source": [
    "**Question 7. (Extra Credit)** Interestingly, there are some first names that both males and females used during that time! Create an array called `names_for_both` that contains all first names that were used by male and female Titanic passengers."
   ]
  },
  {
   "cell_type": "code",
   "execution_count": 184,
   "metadata": {},
   "outputs": [
    {
     "data": {
      "text/plain": [
       "Ellipsis"
      ]
     },
     "execution_count": 184,
     "metadata": {},
     "output_type": "execute_result"
    }
   ],
   "source": [
    "names_for_both = ...\n",
    "names_for_both"
   ]
  },
  {
   "cell_type": "code",
   "execution_count": 185,
   "metadata": {},
   "outputs": [
    {
     "data": {
      "text/plain": [
       "array(['Jean'], \n",
       "      dtype='<U12')"
      ]
     },
     "execution_count": 185,
     "metadata": {},
     "output_type": "execute_result"
    }
   ],
   "source": [
    "names_for_both = titanic.select('First Name', 'Sex').group(['First Name', 'Sex']).\\\n",
    "drop('count').group('First Name').where('count', 2).column('First Name')\n",
    "names_for_both"
   ]
  },
  {
   "cell_type": "code",
   "execution_count": 186,
   "metadata": {},
   "outputs": [
    {
     "name": "stdout",
     "output_type": "stream",
     "text": [
      "~~~~~~~~~~~~~~~~~~~~~~~~~~~~~~~~~~~~~~~~~~~~~~~~~~~~~~~~~~~~~~~~~~~~~\n",
      "Running tests\n",
      "\n",
      "---------------------------------------------------------------------\n",
      "Test summary\n",
      "    Passed: 1\n",
      "    Failed: 0\n",
      "[ooooooooook] 100.0% passed\n",
      "\n"
     ]
    }
   ],
   "source": [
    "_ = ok.grade('q5_7')"
   ]
  },
  {
   "cell_type": "markdown",
   "metadata": {},
   "source": [
    "# Congratulations! You finished the project!"
   ]
  },
  {
   "cell_type": "markdown",
   "metadata": {},
   "source": [
    "## To submit:\n",
    "\n",
    "1. Select `Run All` from the `Cell` menu to ensure that you have executed all cells, including the test cells.\n",
    "2. Read through the notebook to make sure everything is fine.\n",
    "3. Submit using the cell below.\n",
    "4. Save PDF and submit to Gradescope.\n",
    "5. Add your partner (if applicable) on both OKPY and Gradescope."
   ]
  },
  {
   "cell_type": "code",
   "execution_count": 187,
   "metadata": {},
   "outputs": [
    {
     "name": "stdout",
     "output_type": "stream",
     "text": [
      "~~~~~~~~~~~~~~~~~~~~~~~~~~~~~~~~~~~~~~~~~~~~~~~~~~~~~~~~~~~~~~~~~~~~~\n",
      "Running tests\n",
      "\n",
      "---------------------------------------------------------------------\n",
      "Test summary\n",
      "    Passed: 1\n",
      "    Failed: 0\n",
      "[ooooooooook] 100.0% passed\n",
      "\n",
      "~~~~~~~~~~~~~~~~~~~~~~~~~~~~~~~~~~~~~~~~~~~~~~~~~~~~~~~~~~~~~~~~~~~~~\n",
      "Running tests\n",
      "\n",
      "---------------------------------------------------------------------\n",
      "Test summary\n",
      "    Passed: 1\n",
      "    Failed: 0\n",
      "[ooooooooook] 100.0% passed\n",
      "\n",
      "~~~~~~~~~~~~~~~~~~~~~~~~~~~~~~~~~~~~~~~~~~~~~~~~~~~~~~~~~~~~~~~~~~~~~\n",
      "Running tests\n",
      "\n",
      "---------------------------------------------------------------------\n",
      "Test summary\n",
      "    Passed: 1\n",
      "    Failed: 0\n",
      "[ooooooooook] 100.0% passed\n",
      "\n",
      "~~~~~~~~~~~~~~~~~~~~~~~~~~~~~~~~~~~~~~~~~~~~~~~~~~~~~~~~~~~~~~~~~~~~~\n",
      "Running tests\n",
      "\n",
      "---------------------------------------------------------------------\n",
      "Test summary\n",
      "    Passed: 1\n",
      "    Failed: 0\n",
      "[ooooooooook] 100.0% passed\n",
      "\n",
      "~~~~~~~~~~~~~~~~~~~~~~~~~~~~~~~~~~~~~~~~~~~~~~~~~~~~~~~~~~~~~~~~~~~~~\n",
      "Running tests\n",
      "\n",
      "---------------------------------------------------------------------\n",
      "Test summary\n",
      "    Passed: 1\n",
      "    Failed: 0\n",
      "[ooooooooook] 100.0% passed\n",
      "\n",
      "~~~~~~~~~~~~~~~~~~~~~~~~~~~~~~~~~~~~~~~~~~~~~~~~~~~~~~~~~~~~~~~~~~~~~\n",
      "Running tests\n",
      "\n",
      "---------------------------------------------------------------------\n",
      "Test summary\n",
      "    Passed: 1\n",
      "    Failed: 0\n",
      "[ooooooooook] 100.0% passed\n",
      "\n",
      "~~~~~~~~~~~~~~~~~~~~~~~~~~~~~~~~~~~~~~~~~~~~~~~~~~~~~~~~~~~~~~~~~~~~~\n",
      "Running tests\n",
      "\n",
      "---------------------------------------------------------------------\n",
      "Test summary\n",
      "    Passed: 1\n",
      "    Failed: 0\n",
      "[ooooooooook] 100.0% passed\n",
      "\n",
      "~~~~~~~~~~~~~~~~~~~~~~~~~~~~~~~~~~~~~~~~~~~~~~~~~~~~~~~~~~~~~~~~~~~~~\n",
      "Running tests\n",
      "\n",
      "---------------------------------------------------------------------\n",
      "Test summary\n",
      "    Passed: 1\n",
      "    Failed: 0\n",
      "[ooooooooook] 100.0% passed\n",
      "\n",
      "~~~~~~~~~~~~~~~~~~~~~~~~~~~~~~~~~~~~~~~~~~~~~~~~~~~~~~~~~~~~~~~~~~~~~\n",
      "Running tests\n",
      "\n",
      "---------------------------------------------------------------------\n",
      "Test summary\n",
      "    Passed: 1\n",
      "    Failed: 0\n",
      "[ooooooooook] 100.0% passed\n",
      "\n",
      "~~~~~~~~~~~~~~~~~~~~~~~~~~~~~~~~~~~~~~~~~~~~~~~~~~~~~~~~~~~~~~~~~~~~~\n",
      "Running tests\n",
      "\n",
      "---------------------------------------------------------------------\n",
      "Test summary\n",
      "    Passed: 1\n",
      "    Failed: 0\n",
      "[ooooooooook] 100.0% passed\n",
      "\n",
      "~~~~~~~~~~~~~~~~~~~~~~~~~~~~~~~~~~~~~~~~~~~~~~~~~~~~~~~~~~~~~~~~~~~~~\n",
      "Running tests\n",
      "\n",
      "---------------------------------------------------------------------\n",
      "Test summary\n",
      "    Passed: 1\n",
      "    Failed: 0\n",
      "[ooooooooook] 100.0% passed\n",
      "\n",
      "~~~~~~~~~~~~~~~~~~~~~~~~~~~~~~~~~~~~~~~~~~~~~~~~~~~~~~~~~~~~~~~~~~~~~\n",
      "Running tests\n",
      "\n",
      "---------------------------------------------------------------------\n",
      "Test summary\n",
      "    Passed: 1\n",
      "    Failed: 0\n",
      "[ooooooooook] 100.0% passed\n",
      "\n",
      "~~~~~~~~~~~~~~~~~~~~~~~~~~~~~~~~~~~~~~~~~~~~~~~~~~~~~~~~~~~~~~~~~~~~~\n",
      "Running tests\n",
      "\n",
      "---------------------------------------------------------------------\n",
      "Test summary\n",
      "    Passed: 1\n",
      "    Failed: 0\n",
      "[ooooooooook] 100.0% passed\n",
      "\n",
      "~~~~~~~~~~~~~~~~~~~~~~~~~~~~~~~~~~~~~~~~~~~~~~~~~~~~~~~~~~~~~~~~~~~~~\n",
      "Running tests\n",
      "\n",
      "---------------------------------------------------------------------\n",
      "Test summary\n",
      "    Passed: 1\n",
      "    Failed: 0\n",
      "[ooooooooook] 100.0% passed\n",
      "\n",
      "~~~~~~~~~~~~~~~~~~~~~~~~~~~~~~~~~~~~~~~~~~~~~~~~~~~~~~~~~~~~~~~~~~~~~\n",
      "Running tests\n",
      "\n",
      "---------------------------------------------------------------------\n",
      "Test summary\n",
      "    Passed: 1\n",
      "    Failed: 0\n",
      "[ooooooooook] 100.0% passed\n",
      "\n",
      "~~~~~~~~~~~~~~~~~~~~~~~~~~~~~~~~~~~~~~~~~~~~~~~~~~~~~~~~~~~~~~~~~~~~~\n",
      "Running tests\n",
      "\n",
      "---------------------------------------------------------------------\n",
      "Test summary\n",
      "    Passed: 1\n",
      "    Failed: 0\n",
      "[ooooooooook] 100.0% passed\n",
      "\n",
      "~~~~~~~~~~~~~~~~~~~~~~~~~~~~~~~~~~~~~~~~~~~~~~~~~~~~~~~~~~~~~~~~~~~~~\n",
      "Running tests\n",
      "\n",
      "---------------------------------------------------------------------\n",
      "Test summary\n",
      "    Passed: 1\n",
      "    Failed: 0\n",
      "[ooooooooook] 100.0% passed\n",
      "\n",
      "~~~~~~~~~~~~~~~~~~~~~~~~~~~~~~~~~~~~~~~~~~~~~~~~~~~~~~~~~~~~~~~~~~~~~\n",
      "Running tests\n",
      "\n",
      "---------------------------------------------------------------------\n",
      "Test summary\n",
      "    Passed: 1\n",
      "    Failed: 0\n",
      "[ooooooooook] 100.0% passed\n",
      "\n",
      "~~~~~~~~~~~~~~~~~~~~~~~~~~~~~~~~~~~~~~~~~~~~~~~~~~~~~~~~~~~~~~~~~~~~~\n",
      "Running tests\n",
      "\n",
      "---------------------------------------------------------------------\n",
      "Test summary\n",
      "    Passed: 1\n",
      "    Failed: 0\n",
      "[ooooooooook] 100.0% passed\n",
      "\n",
      "~~~~~~~~~~~~~~~~~~~~~~~~~~~~~~~~~~~~~~~~~~~~~~~~~~~~~~~~~~~~~~~~~~~~~\n",
      "Running tests\n",
      "\n",
      "---------------------------------------------------------------------\n",
      "Test summary\n",
      "    Passed: 1\n",
      "    Failed: 0\n",
      "[ooooooooook] 100.0% passed\n",
      "\n",
      "~~~~~~~~~~~~~~~~~~~~~~~~~~~~~~~~~~~~~~~~~~~~~~~~~~~~~~~~~~~~~~~~~~~~~\n",
      "Running tests\n",
      "\n",
      "---------------------------------------------------------------------\n",
      "Test summary\n",
      "    Passed: 1\n",
      "    Failed: 0\n",
      "[ooooooooook] 100.0% passed\n",
      "\n"
     ]
    }
   ],
   "source": [
    "# For your convenience, you can run this cell to run all the tests at once!\n",
    "import os\n",
    "_ = [ok.grade(q[:-3]) for q in os.listdir(\"tests\") if q.startswith('q')]"
   ]
  },
  {
   "cell_type": "code",
   "execution_count": 188,
   "metadata": {},
   "outputs": [],
   "source": [
    "#_ = ok.submit()"
   ]
  },
  {
   "cell_type": "markdown",
   "metadata": {},
   "source": [
    "## Don't forget to submit your PDF to Gradescope!"
   ]
  }
 ],
 "metadata": {
  "kernelspec": {
   "display_name": "Python 3",
   "language": "python",
   "name": "python3"
  },
  "language_info": {
   "codemirror_mode": {
    "name": "ipython",
    "version": 3
   },
   "file_extension": ".py",
   "mimetype": "text/x-python",
   "name": "python",
   "nbconvert_exporter": "python",
   "pygments_lexer": "ipython3",
   "version": "3.6.5"
  }
 },
 "nbformat": 4,
 "nbformat_minor": 2
}
