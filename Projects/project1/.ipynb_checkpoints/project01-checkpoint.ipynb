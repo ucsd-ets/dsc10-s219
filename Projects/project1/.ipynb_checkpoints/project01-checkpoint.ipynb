{
 "cells": [
  {
   "cell_type": "markdown",
   "metadata": {},
   "source": [
    "# Project 1: Titanic. Due Monday, August 19 at 11:59pm"
   ]
  },
  {
   "cell_type": "code",
   "execution_count": null,
   "metadata": {},
   "outputs": [],
   "source": [
    "# Don't change this cell\n",
    "from datascience import *\n",
    "\n",
    "import matplotlib.pyplot as plots\n",
    "%matplotlib inline\n",
    "plots.style.use('fivethirtyeight')\n",
    "\n",
    "import numpy as np\n",
    "\n",
    "from client.api.notebook import Notebook\n",
    "ok = Notebook('project01.ok')\n",
    "_ = ok.auth(inline=True)"
   ]
  },
  {
   "cell_type": "markdown",
   "metadata": {},
   "source": [
    "## Announcements\n",
    "\n",
    "This assignment is due **Monday, Aug 19 at 11:59pm**. You can use a slip day to extend the deadline by 24 hours.\n",
    "\n",
    "Directly sharing answers is not okay, but discussing problems with the course staff or with other students is encouraged. \n",
    "\n",
    "The project is more challenging than the homeworks. You are encouraged to find a partner and use pair programming.\n",
    "\n",
    "Definitely start early so that you have time to get help if you're stuck. A calendar with lab hour times and locations appears on [https://sites.google.com/ucsd.edu/dsc10summer2019/staff-hours?authuser=0](https://sites.google.com/ucsd.edu/dsc10summer2019/staff-hours?authuser=0)."
   ]
  },
  {
   "cell_type": "markdown",
   "metadata": {},
   "source": [
    "## About the Titanic\n",
    "\n",
    "\"RMS Titanic was a British passenger liner that sank in the North Atlantic Ocean in 1912, after colliding with an iceberg during her maiden voyage from Southampton to New York City. Of the estimated 2,224 passengers and crew aboard, more than 1,500 died, making it one of modern history's deadliest commercial marine disasters during peacetime. RMS Titanic was the largest ship afloat at the time she entered service and was the second of three Olympic-class ocean liners operated by the White Star Line.\" (https://en.wikipedia.org/wiki/RMS_Titanic)"
   ]
  },
  {
   "cell_type": "markdown",
   "metadata": {},
   "source": [
    "![title](https://upload.wikimedia.org/wikipedia/commons/6/6e/St%C3%B6wer_Titanic.jpg)"
   ]
  },
  {
   "cell_type": "markdown",
   "metadata": {},
   "source": [
    "## Part 1: Understand and Modify Titanic Data"
   ]
  },
  {
   "cell_type": "markdown",
   "metadata": {},
   "source": [
    "In this section, you will attempt to understand the landscape of the Titanic dataset. You will explore the meaning and makeup of the columns by answering some questions about the dataset."
   ]
  },
  {
   "cell_type": "markdown",
   "metadata": {},
   "source": [
    "**The Data**\n",
    "\n",
    "This dataset has been modified from [Kaggle](https://www.kaggle.com/c/titanic) and includes the following information on Titanic passengers:\n",
    "\n",
    "1. `Survived`: 1 indicates that the passenger survived. 0 indicates that the passenger did not survive.\n",
    "2. `Pclass`: Passenger class status: 1 for upper class, 2 for middle class, 3 for lower class.\n",
    "3. `Name`: Passenger's name.\n",
    "4. `Sex`: Passenger's gender.\n",
    "5. `Age`: Passenger's age\n",
    "6. `Siblings/Spouses Aboard`: Total number of siblings and spouses aboard. Included are brothers, sisters, stepbrothers, stepsisters, husbands, and wives.\n",
    "7. `Parents/Children Aboard`: Total number of parents and children aboard. Included are mothers, fathers, daughters, sons, stepdaughters, stepsons.\n",
    "8. `Fare`: The fare (price) of the ticket, in British pounds.\n",
    "9. `First Name`: Passenger's first name."
   ]
  },
  {
   "cell_type": "markdown",
   "metadata": {},
   "source": [
    "First, load the Titanic dataset into a table.\n",
    "You should load the file using the path `data/titanic.csv` into a Table called `titanic`."
   ]
  },
  {
   "cell_type": "code",
   "execution_count": null,
   "metadata": {},
   "outputs": [],
   "source": [
    "titanic = ...\n",
    "titanic"
   ]
  },
  {
   "cell_type": "markdown",
   "metadata": {},
   "source": [
    "**Question 1.** Just for fun, what are the full names of the youngest and oldest passengers on board? Save your answers as `youngest` and `oldest`, and give the names exactly as they appear in the `Name` column."
   ]
  },
  {
   "cell_type": "code",
   "execution_count": null,
   "metadata": {},
   "outputs": [],
   "source": [
    "youngest = ...\n",
    "oldest = ...\n",
    "youngest, oldest"
   ]
  },
  {
   "cell_type": "code",
   "execution_count": null,
   "metadata": {
    "scrolled": true
   },
   "outputs": [],
   "source": [
    "_ = ok.grade('q1_1')"
   ]
  },
  {
   "cell_type": "markdown",
   "metadata": {},
   "source": [
    "**Question 2.** Every passenger has a title, such as \"Miss.\" or \"Mr.\", which appears as the first word of the `Name` column. Define a function called `extract_title` that takes a string as an input and returns the first word in the string. Then, use your function to add a column to the `titanic` table called `Title` containing the title of each passenger.\n",
    "\n",
    "*Hint: Look up the available Python string methods.*\n",
    "\n",
    "*Note: Please include the period in the titles (i.e. \"Miss.\" not \"Miss\")*"
   ]
  },
  {
   "cell_type": "code",
   "execution_count": null,
   "metadata": {},
   "outputs": [],
   "source": [
    "# Define your function extract_title here\n",
    "\n",
    "# Add a column here\n",
    "titanic"
   ]
  },
  {
   "cell_type": "code",
   "execution_count": null,
   "metadata": {},
   "outputs": [],
   "source": [
    "_ = ok.grade('q1_2')"
   ]
  },
  {
   "cell_type": "markdown",
   "metadata": {},
   "source": [
    "**Question 3.** Make an array called `possible_titles` containing the different titles that were used by passengers on the Titanic. Each different title should appear only once, and titles should be alphabetically ordered.\n",
    "\n",
    "*Hint: Look up `np.unique`.*"
   ]
  },
  {
   "cell_type": "code",
   "execution_count": null,
   "metadata": {},
   "outputs": [],
   "source": [
    "possible_titles = ...\n",
    "possible_titles"
   ]
  },
  {
   "cell_type": "code",
   "execution_count": null,
   "metadata": {
    "scrolled": true
   },
   "outputs": [],
   "source": [
    "_ = ok.grade('q1_3')"
   ]
  },
  {
   "cell_type": "markdown",
   "metadata": {},
   "source": [
    "**Question 4.** Sum the cost of the first two tickets in the table, without changing or converting data types at all. You should see that the sum does not make sense. Explain what causes this."
   ]
  },
  {
   "cell_type": "code",
   "execution_count": null,
   "metadata": {},
   "outputs": [],
   "source": [
    "first_two = ...\n",
    "first_two"
   ]
  },
  {
   "cell_type": "markdown",
   "metadata": {},
   "source": [
    "<hr style=\"color:Maroon;background-color:Maroon;border:0 none; height: 3px;\">\n",
    "\n",
    "*Write your explanation here, replacing this text.*\n",
    "\n",
    "<hr style=\"color:Maroon;background-color:Maroon;border:0 none; height: 3px;\">"
   ]
  },
  {
   "cell_type": "markdown",
   "metadata": {},
   "source": [
    "**Question 5.** How much revenue did the Titanic generate in ticket sales? Save your answer as `total_revenue`.\n",
    "\n",
    "*Hint: Look up the available Python string methods.*\n",
    "\n",
    "*Hint: Our solution involved defining a function and using ``apply``.*"
   ]
  },
  {
   "cell_type": "code",
   "execution_count": null,
   "metadata": {},
   "outputs": [],
   "source": [
    "total_revenue = ...\n",
    "total_revenue"
   ]
  },
  {
   "cell_type": "code",
   "execution_count": null,
   "metadata": {},
   "outputs": [],
   "source": [
    "_ = ok.grade('q1_5')"
   ]
  },
  {
   "cell_type": "markdown",
   "metadata": {},
   "source": [
    "**Question 6.** One British pound in 1912 is equivalent to 113.27 pounds today, due to inflation. One British pound today is equivalent to one US dollar and 33 cents. How much revenue did the Titanic make, measured in today's US dollars, and rounded to the nearest cent? Save your answer as `revenue_dollars`."
   ]
  },
  {
   "cell_type": "code",
   "execution_count": null,
   "metadata": {},
   "outputs": [],
   "source": [
    "revenue_dollars = ...\n",
    "revenue_dollars"
   ]
  },
  {
   "cell_type": "code",
   "execution_count": null,
   "metadata": {},
   "outputs": [],
   "source": [
    "_ = ok.grade('q1_6')"
   ]
  },
  {
   "cell_type": "markdown",
   "metadata": {},
   "source": [
    "## Part 2: Passenger Class and Survival Rate"
   ]
  },
  {
   "cell_type": "markdown",
   "metadata": {},
   "source": [
    "Now that we have a basic understanding of the data, we can investigate more interesting questions. In this section, we will explore the connection between a passenger's class and their chance of surviving.\n",
    "\n",
    "Here is the definition of **survival rate** (used in this part as well as parts 3 and 4): For any group of people, the survival rate of that group of people is the percentage of people in that group who survived."
   ]
  },
  {
   "cell_type": "markdown",
   "metadata": {},
   "source": [
    "**Question 1.** Create an array of size 3 called `class_percent` containing the percentage of passengers in each of the three classes. To do this, define variables\n",
    "1. `class1`: the percentage of people in class 1\n",
    "2. `class2`: the percentage of people in class 2\n",
    "3. `class3`: the percentage of people in class 3  \n",
    "\n",
    "The array `class_percent` should contain `class1`, `class2`, `class3` in this order."
   ]
  },
  {
   "cell_type": "code",
   "execution_count": null,
   "metadata": {},
   "outputs": [],
   "source": [
    "class1 = ...\n",
    "class2 = ...\n",
    "class3 = ...\n",
    "class_percent = ...\n",
    "class_percent"
   ]
  },
  {
   "cell_type": "code",
   "execution_count": null,
   "metadata": {},
   "outputs": [],
   "source": [
    "_ = ok.grade('q2_1')"
   ]
  },
  {
   "cell_type": "markdown",
   "metadata": {},
   "source": [
    "**Question 2.** Create an array of size 3 called `survival_rate` containing, for each class, the percentage of passengers in that class that survived. Similarly, create an array of size 3 called `mean_age` containing, for each class, the average age of all passengers in that class. For both arrays, do 1st class, then 2nd class, then 3rd class."
   ]
  },
  {
   "cell_type": "code",
   "execution_count": null,
   "metadata": {},
   "outputs": [],
   "source": [
    "survival_rate = ...\n",
    "survival_rate"
   ]
  },
  {
   "cell_type": "code",
   "execution_count": null,
   "metadata": {},
   "outputs": [],
   "source": [
    "mean_age = ...\n",
    "mean_age"
   ]
  },
  {
   "cell_type": "code",
   "execution_count": null,
   "metadata": {},
   "outputs": [],
   "source": [
    "_ = ok.grade('q2_2')"
   ]
  },
  {
   "cell_type": "markdown",
   "metadata": {},
   "source": [
    "**Question 3.** Create a summary table called `stats_table` containing four columns:\n",
    "1. `Class`: 1, 2, 3\n",
    "2. `Survival Rate`: the survival rate, as a percentage, for each class\n",
    "3. `Mean Age`: the average age of passengers in each class\n",
    "4. `Percentage`: the percentage of passengers in each class\n",
    "\n",
    "*Note: Please have the first row be class 1, second be class 2, and third be class 3*"
   ]
  },
  {
   "cell_type": "code",
   "execution_count": null,
   "metadata": {
    "scrolled": true
   },
   "outputs": [],
   "source": [
    "stats_table = ...\n",
    "stats_table"
   ]
  },
  {
   "cell_type": "code",
   "execution_count": null,
   "metadata": {},
   "outputs": [],
   "source": [
    "_ = ok.grade('q2_3')"
   ]
  },
  {
   "cell_type": "markdown",
   "metadata": {},
   "source": [
    "**Question 4.** The table above shows that survival rates were different in different passenger classes. Is the `Percentage` column relevant for interpreting the values in the `Survival Rate` column? In other words, can we directly compare survival rates for different classes, or do we need to take into account the percentages of passengers in each class to draw accurate conclusions about which class of passengers is most likely to survive?"
   ]
  },
  {
   "cell_type": "markdown",
   "metadata": {},
   "source": [
    "<hr style=\"color:Maroon;background-color:Maroon;border:0 none; height: 3px;\">\n",
    "\n",
    "*Write your answer here, replacing this text.*\n",
    "\n",
    "<hr style=\"color:Maroon;background-color:Maroon;border:0 none; height: 3px;\">"
   ]
  },
  {
   "cell_type": "markdown",
   "metadata": {},
   "source": [
    "**Question 5.** What does the following code calculate? Assign either 1, 2, 3, 4, or 5 to the name `code_interpretation` below."
   ]
  },
  {
   "cell_type": "code",
   "execution_count": null,
   "metadata": {},
   "outputs": [],
   "source": [
    "(survival_rate*class_percent/100).sum()"
   ]
  },
  {
   "cell_type": "markdown",
   "metadata": {},
   "source": [
    "1. The average of the survival rates for each of the three classes.\n",
    "2. The percentage of passengers aboard the Titanic that survived.\n",
    "3. The total survival rate of all three classes.\n",
    "4. The percentage of passengers aboard the Titanic in each of the three classes, all totaled.\n",
    "5. None of the above."
   ]
  },
  {
   "cell_type": "code",
   "execution_count": null,
   "metadata": {},
   "outputs": [],
   "source": [
    "code_interpretation = ..."
   ]
  },
  {
   "cell_type": "code",
   "execution_count": null,
   "metadata": {},
   "outputs": [],
   "source": [
    "_ = ok.grade('q2_5')"
   ]
  },
  {
   "cell_type": "markdown",
   "metadata": {},
   "source": [
    "## Part 3: Survival of Men Versus Women"
   ]
  },
  {
   "cell_type": "markdown",
   "metadata": {},
   "source": [
    "In this section, we will explore the survival rates of men and women, both in general and for each class. All survival rates should be given as percentages (between 0 and 100)."
   ]
  },
  {
   "cell_type": "markdown",
   "metadata": {},
   "source": [
    "**Question 1.** Determine the overall women's survival rate and the overall men's survival rate. Save your answers in variables  `women_survival_rate` and `men_survival_rate`."
   ]
  },
  {
   "cell_type": "code",
   "execution_count": null,
   "metadata": {},
   "outputs": [],
   "source": [
    "women_survival_rate = ...\n",
    "men_survival_rate = ...\n",
    "women_survival_rate, men_survival_rate"
   ]
  },
  {
   "cell_type": "code",
   "execution_count": null,
   "metadata": {},
   "outputs": [],
   "source": [
    "_ = ok.grade('q3_1')"
   ]
  },
  {
   "cell_type": "markdown",
   "metadata": {},
   "source": [
    "**Question 2.** Determine the women's survival rate for each class, and the men's survival rate for each class. Assign these six variables:\n",
    "1. `first_class_women_survival_rate`\n",
    "2. `second_class_women_survival_rate`\n",
    "3. `third_class_women_survival_rate`\n",
    "4. `first_class_men_survival_rate`\n",
    "5. `second_class_men_survival_rate`\n",
    "6. `third_class_men_survival_rate`\n"
   ]
  },
  {
   "cell_type": "code",
   "execution_count": null,
   "metadata": {},
   "outputs": [],
   "source": [
    "first_class_women_survival_rate = ...\n",
    "second_class_women_survival_rate = ...\n",
    "third_class_women_survival_rate = ...\n",
    "first_class_men_survival_rate = ...\n",
    "second_class_men_survival_rate = ...\n",
    "third_class_men_survival_rate = ...\n",
    "first_class_women_survival_rate, second_class_women_survival_rate, third_class_women_survival_rate, \\\n",
    "first_class_men_survival_rate, second_class_men_survival_rate, third_class_men_survival_rate\n"
   ]
  },
  {
   "cell_type": "code",
   "execution_count": null,
   "metadata": {},
   "outputs": [],
   "source": [
    "_ = ok.grade('q3_2')"
   ]
  },
  {
   "cell_type": "markdown",
   "metadata": {},
   "source": [
    "**Question 3.**  Generate a chart or plot that allows one to easily compare the survival rates of men and women across the three classes. Make sure your chart or plot is clearly labeled and unambiguous."
   ]
  },
  {
   "cell_type": "code",
   "execution_count": null,
   "metadata": {},
   "outputs": [],
   "source": [
    "# Make your visualization here."
   ]
  },
  {
   "cell_type": "markdown",
   "metadata": {},
   "source": [
    "**Question 4.**  The variables `men_survival_rate`, `first_class_men_survival_rate`, `second_class_men_survival_rate`, and `third_class_men_survival_rate` are related by an equation of the form\n",
    "\n",
    "$$\\text{men_survival_rate} = c_1*\\text{first_class_men_survival_rate}+ c_2*\\text{second_class_men_survival_rate} + c_3*\\text{third_class_men_survival_rate}.$$\n",
    "\n",
    "In this equation, the variable $c_1$ represents which of these quantities? Set `c1_meaning` to either 1, 2, or 3.\n",
    "1. the number of men in first class\n",
    "2. the percentage of men in first class\n",
    "3. the proportion of men in first class"
   ]
  },
  {
   "cell_type": "code",
   "execution_count": null,
   "metadata": {},
   "outputs": [],
   "source": [
    "c1_meaning = ..."
   ]
  },
  {
   "cell_type": "code",
   "execution_count": null,
   "metadata": {},
   "outputs": [],
   "source": [
    "_ = ok.grade('q3_4')"
   ]
  },
  {
   "cell_type": "markdown",
   "metadata": {},
   "source": [
    "## Part 4: Survival of Women by Marital Status"
   ]
  },
  {
   "cell_type": "markdown",
   "metadata": {},
   "source": [
    "In this section, we will explore the survival rates of married women versus those of unmarried women. All survival rates should be given as percentages (between 0 and 100)."
   ]
  },
  {
   "cell_type": "markdown",
   "metadata": {},
   "source": [
    "**Question 1.** Recall that each passenger's name included a title. Assuming that \"Mrs.\" and \"Mme.\" (Madame) denote a married woman, and \"Miss.\" and \"Mlle.\" (Mademoiselle) denote an unmarried women, let's try to figure out whether the marital status of women affected their chance of survival. Calculate the survival rates for married and unmarried women, saving your answers in variables `married_rate` and `unmarried_rate`. Women with ambiguous titles, such as \"Lady\" and \"Ms.\", should not be included in either group.\n",
    "\n",
    "*Hint: The predicate `are.contained_in()` may be useful here.*"
   ]
  },
  {
   "cell_type": "code",
   "execution_count": null,
   "metadata": {},
   "outputs": [],
   "source": [
    "married_rate = ...\n",
    "unmarried_rate = ...\n",
    "married_rate, unmarried_rate"
   ]
  },
  {
   "cell_type": "code",
   "execution_count": null,
   "metadata": {},
   "outputs": [],
   "source": [
    "_ = ok.grade('q4_1')"
   ]
  },
  {
   "cell_type": "markdown",
   "metadata": {},
   "source": [
    "**Question 2.** Now, let’s compare the survival rate of children, `child_rate`, with the survival rate of adults, `adult_rate`. An adult is defined to be someone 18 years of age or older."
   ]
  },
  {
   "cell_type": "code",
   "execution_count": null,
   "metadata": {},
   "outputs": [],
   "source": [
    "child_rate = ...\n",
    "adult_rate = ...\n",
    "child_rate, adult_rate"
   ]
  },
  {
   "cell_type": "code",
   "execution_count": null,
   "metadata": {},
   "outputs": [],
   "source": [
    "_ = ok.grade('q4_2')"
   ]
  },
  {
   "cell_type": "markdown",
   "metadata": {},
   "source": [
    "**Question 3.** How does your answer to Question 2 inform your interpetation of the data in Question 1? Choose the best answer (1, 2, or 3) and save it in variable `q3_answer`.\n",
    "1. The answer to Question 2 is **not relevant** to my interpretation of the data in Question 1. Knowing the children and adult survival rates does not affect whether marital status was important in determining survival.\n",
    "2. The answer to Question 2 makes me **more certain** that marital status was important in determining survival.\n",
    "3. The answer to Question 2 makes me **less certain** that marital status was important in determining survival."
   ]
  },
  {
   "cell_type": "code",
   "execution_count": null,
   "metadata": {},
   "outputs": [],
   "source": [
    "q3_answer = ..."
   ]
  },
  {
   "cell_type": "code",
   "execution_count": null,
   "metadata": {
    "scrolled": true
   },
   "outputs": [],
   "source": [
    "_ = ok.grade('q4_3')"
   ]
  },
  {
   "cell_type": "markdown",
   "metadata": {},
   "source": [
    "## Part 5: Baby Names"
   ]
  },
  {
   "cell_type": "markdown",
   "metadata": {},
   "source": [
    "Popular names are changing all the time! In this section, we will try to find out some interesting things about names around the time of the Titanic."
   ]
  },
  {
   "cell_type": "markdown",
   "metadata": {},
   "source": [
    "You can verify yourself that the average age of passengers onboard the Titanic was about 30 years old. Here, we provide you another dataset about popular names, based on social security records for people whose birth year is 1882 (Why 1882?). More information about this dataset can be found [here.](https://catalog.data.gov/dataset/baby-names-from-social-security-card-applications-national-level-data) The dataset contains a list of names with a count of how many babies born in 1882 were given that name."
   ]
  },
  {
   "cell_type": "markdown",
   "metadata": {},
   "source": [
    "**Question 1.** First, load the data from the file `data/names.csv` into a Table called `names`, then determine the lengths of the shortest and longest names in the dataset."
   ]
  },
  {
   "cell_type": "code",
   "execution_count": null,
   "metadata": {},
   "outputs": [],
   "source": [
    "names =  ...\n",
    "min_length = ...\n",
    "max_length = ...\n",
    "min_length, max_length"
   ]
  },
  {
   "cell_type": "code",
   "execution_count": null,
   "metadata": {},
   "outputs": [],
   "source": [
    "_ = ok.grade('q5_1')"
   ]
  },
  {
   "cell_type": "markdown",
   "metadata": {},
   "source": [
    "**Question 2.** Generate a chart or plot that allows one to easily compare the relative popularity of the top 20 baby names of 1882. Make sure your chart or plot is clearly labeled and unambiguous."
   ]
  },
  {
   "cell_type": "code",
   "execution_count": null,
   "metadata": {},
   "outputs": [],
   "source": [
    "# Make your visualization here."
   ]
  },
  {
   "cell_type": "markdown",
   "metadata": {},
   "source": [
    "**Question 3.** What proportion of babies born in 1882 had one of the top 3 most popular baby names? Remember that a proportion should be between 0 and 1."
   ]
  },
  {
   "cell_type": "code",
   "execution_count": null,
   "metadata": {},
   "outputs": [],
   "source": [
    "proportion = ...\n",
    "proportion"
   ]
  },
  {
   "cell_type": "code",
   "execution_count": null,
   "metadata": {},
   "outputs": [],
   "source": [
    "_ = ok.grade('q5_3')"
   ]
  },
  {
   "cell_type": "markdown",
   "metadata": {},
   "source": [
    "**Question 4.** Of the first names of passengers on board the Titanic, which name was most popular according to the names dataset in 1882? How many Titanic passengers have that name? Save your answers to these two questions as `most_popular_name` and `most_popular_name_count`, respectively. "
   ]
  },
  {
   "cell_type": "code",
   "execution_count": null,
   "metadata": {},
   "outputs": [],
   "source": [
    "most_popular_name = ...\n",
    "most_popular_name"
   ]
  },
  {
   "cell_type": "code",
   "execution_count": null,
   "metadata": {},
   "outputs": [],
   "source": [
    "most_popular_name_count = ...\n",
    "most_popular_name_count"
   ]
  },
  {
   "cell_type": "code",
   "execution_count": null,
   "metadata": {},
   "outputs": [],
   "source": [
    "_ = ok.grade('q5_4')"
   ]
  },
  {
   "cell_type": "markdown",
   "metadata": {},
   "source": [
    "**Question 5.** Surprisingly, the most common name among the Titanic passengers was not the most popular name of the time. Determine the most common name among the Titanic passengers, and save it as `most_common_name`. Determine how many passengers had that name and save it as `most_common_name_count.`"
   ]
  },
  {
   "cell_type": "code",
   "execution_count": null,
   "metadata": {},
   "outputs": [],
   "source": [
    "most_common_name = ...\n",
    "most_common_name"
   ]
  },
  {
   "cell_type": "code",
   "execution_count": null,
   "metadata": {},
   "outputs": [],
   "source": [
    "most_common_name_count = ...\n",
    "most_common_name_count"
   ]
  },
  {
   "cell_type": "code",
   "execution_count": null,
   "metadata": {},
   "outputs": [],
   "source": [
    "_ = ok.grade('q5_5')"
   ]
  },
  {
   "cell_type": "markdown",
   "metadata": {},
   "source": [
    "**Question 6.** Of the first names of passengers on board the Titanic, which names were least popular according to the names dataset in 1882? In this case, there are multiple names that are tied for least popular. For any one of these tied least popular names, how many Titanic passengers have that name?\n",
    "(the answer should be the same for each of the tied names). Save your answers to these two questions as `least_popular_names`, which should be an array, and `least_popular_name_count`, which should be an integer."
   ]
  },
  {
   "cell_type": "code",
   "execution_count": null,
   "metadata": {},
   "outputs": [],
   "source": [
    "least_popular_names = ...\n",
    "least_popular_names"
   ]
  },
  {
   "cell_type": "code",
   "execution_count": null,
   "metadata": {},
   "outputs": [],
   "source": [
    "least_popular_name_count = ...\n",
    "least_popular_name_count"
   ]
  },
  {
   "cell_type": "code",
   "execution_count": null,
   "metadata": {},
   "outputs": [],
   "source": [
    "_ = ok.grade('q5_6')"
   ]
  },
  {
   "cell_type": "markdown",
   "metadata": {},
   "source": [
    "**Question 7. (Extra Credit)** Interestingly, there are some first names that both males and females used during that time! Create an array called `names_for_both` that contains all first names that were used by male and female Titanic passengers."
   ]
  },
  {
   "cell_type": "code",
   "execution_count": null,
   "metadata": {},
   "outputs": [],
   "source": [
    "names_for_both = ...\n",
    "names_for_both"
   ]
  },
  {
   "cell_type": "code",
   "execution_count": null,
   "metadata": {},
   "outputs": [],
   "source": [
    "_ = ok.grade('q5_7')"
   ]
  },
  {
   "cell_type": "markdown",
   "metadata": {},
   "source": [
    "# Congratulations! You finished the project!"
   ]
  },
  {
   "cell_type": "markdown",
   "metadata": {},
   "source": [
    "## To submit:\n",
    "\n",
    "1. Select `Run All` from the `Cell` menu to ensure that you have executed all cells, including the test cells.\n",
    "2. Read through the notebook to make sure everything is fine.\n",
    "3. Submit using the cell below.\n",
    "4. Save PDF and submit to Gradescope.\n",
    "5. Add your partner (if applicable) on both OKPY and Gradescope."
   ]
  },
  {
   "cell_type": "code",
   "execution_count": null,
   "metadata": {},
   "outputs": [],
   "source": [
    "# For your convenience, you can run this cell to run all the tests at once!\n",
    "import os\n",
    "_ = [ok.grade(q[:-3]) for q in os.listdir(\"tests\") if q.startswith('q')]"
   ]
  },
  {
   "cell_type": "code",
   "execution_count": null,
   "metadata": {
    "collapsed": true
   },
   "outputs": [],
   "source": [
    "_ = ok.submit()"
   ]
  },
  {
   "cell_type": "markdown",
   "metadata": {},
   "source": [
    "## Don't forget to submit your PDF to Gradescope!"
   ]
  }
 ],
 "metadata": {
  "kernelspec": {
   "display_name": "Python 3",
   "language": "python",
   "name": "python3"
  },
  "language_info": {
   "codemirror_mode": {
    "name": "ipython",
    "version": 3
   },
   "file_extension": ".py",
   "mimetype": "text/x-python",
   "name": "python",
   "nbconvert_exporter": "python",
   "pygments_lexer": "ipython3",
   "version": "3.6.5"
  }
 },
 "nbformat": 4,
 "nbformat_minor": 2
}
