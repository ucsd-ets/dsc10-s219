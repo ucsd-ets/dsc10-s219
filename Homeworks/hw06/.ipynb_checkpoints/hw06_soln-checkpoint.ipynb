{
 "cells": [
  {
   "cell_type": "markdown",
   "metadata": {},
   "source": [
    "# Homework 6: Probability and Hypothesis Testing\n",
    "## Due Friday August 30th at 11:59pm\n",
    "\n",
    "Directly sharing answers is not okay, but discussing problems with the course staff or with other students is encouraged. \n",
    "\n",
    "You should start early so that you have time to get help if you're stuck."
   ]
  },
  {
   "cell_type": "code",
   "execution_count": 1,
   "metadata": {},
   "outputs": [
    {
     "name": "stdout",
     "output_type": "stream",
     "text": [
      "=====================================================================\n",
      "Assignment: Homework 6: ...\n",
      "OK, version v1.13.11\n",
      "=====================================================================\n",
      "\n"
     ]
    }
   ],
   "source": [
    "#: Don't change this cell; just run it. \n",
    "\n",
    "import math\n",
    "import numpy as np\n",
    "from datascience import *\n",
    "\n",
    "%matplotlib inline\n",
    "import matplotlib.pyplot as plt\n",
    "plt.style.use('fivethirtyeight')\n",
    "\n",
    "from client.api.notebook import Notebook\n",
    "ok = Notebook('hw06_soln.ok')\n",
    "# _ = ok.auth(inline=True)"
   ]
  },
  {
   "cell_type": "markdown",
   "metadata": {},
   "source": [
    "**Important**: The `ok` tests don't usually tell you that your answer is correct. More often, they help catch careless mistakes. It's up to you to ensure that your answer is correct. If you're not sure, ask someone (not for the answer, but for some guidance about your approach)."
   ]
  },
  {
   "cell_type": "markdown",
   "metadata": {},
   "source": [
    "Once you're finished, you must do two things:\n",
    "\n",
    "### a. Turn into OK\n",
    "Select \"Save and Checkpoint\" in the File menu and then execute the `submit` cell below. The result will contain a link that you can use to check that your assignment has been submitted successfully. If you submit more than once before the deadline, we will only grade your final submission."
   ]
  },
  {
   "cell_type": "code",
   "execution_count": 4,
   "metadata": {},
   "outputs": [
    {
     "ename": "NameError",
     "evalue": "name 'ok' is not defined",
     "output_type": "error",
     "traceback": [
      "\u001b[1;31m---------------------------------------------------------------------------\u001b[0m",
      "\u001b[1;31mNameError\u001b[0m                                 Traceback (most recent call last)",
      "\u001b[1;32m<ipython-input-4-da9c12353f6b>\u001b[0m in \u001b[0;36m<module>\u001b[1;34m\u001b[0m\n\u001b[0;32m      1\u001b[0m \u001b[1;31m#: turn in your notebook\u001b[0m\u001b[1;33m\u001b[0m\u001b[1;33m\u001b[0m\u001b[0m\n\u001b[1;32m----> 2\u001b[1;33m \u001b[0m_\u001b[0m \u001b[1;33m=\u001b[0m \u001b[0mok\u001b[0m\u001b[1;33m.\u001b[0m\u001b[0msubmit\u001b[0m\u001b[1;33m(\u001b[0m\u001b[1;33m)\u001b[0m\u001b[1;33m\u001b[0m\u001b[0m\n\u001b[0m",
      "\u001b[1;31mNameError\u001b[0m: name 'ok' is not defined"
     ]
    }
   ],
   "source": [
    "#: turn in your notebook\n",
    "_ = ok.submit()"
   ]
  },
  {
   "cell_type": "markdown",
   "metadata": {},
   "source": [
    "### b. Turn PDF into Gradescope\n",
    "Select File > Download As > PDF via LaTeX in the File menu. Turn in this PDF file into the respective assignement at https://gradescope.com/.\n",
    "<br>\n",
    "If you submit more than once before the deadline, we will only grade your final submission"
   ]
  },
  {
   "cell_type": "markdown",
   "metadata": {},
   "source": [
    "## 1. Student IDs and Hydroflasks"
   ]
  },
  {
   "cell_type": "markdown",
   "metadata": {},
   "source": [
    "Suppose you are a good Samaritan with a great eye for lost items. As you walk around campus you find lost student ids and hydroflasks, and you post them on the Facebook group [UCSD Lost and Found](https://www.facebook.com/groups/ucsdlostandfound/) for the owners to find. The table `lost_table` contains all the lost items you've found."
   ]
  },
  {
   "cell_type": "code",
   "execution_count": 2,
   "metadata": {},
   "outputs": [
    {
     "data": {
      "text/html": [
       "<table border=\"1\" class=\"dataframe\">\n",
       "    <thead>\n",
       "        <tr>\n",
       "            <th>Lost Item</th>\n",
       "        </tr>\n",
       "    </thead>\n",
       "    <tbody>\n",
       "        <tr>\n",
       "            <td>Student id</td>\n",
       "        </tr>\n",
       "        <tr>\n",
       "            <td>Student id</td>\n",
       "        </tr>\n",
       "        <tr>\n",
       "            <td>Student id</td>\n",
       "        </tr>\n",
       "        <tr>\n",
       "            <td>Student id</td>\n",
       "        </tr>\n",
       "        <tr>\n",
       "            <td>Student id</td>\n",
       "        </tr>\n",
       "        <tr>\n",
       "            <td>Student id</td>\n",
       "        </tr>\n",
       "        <tr>\n",
       "            <td>Student id</td>\n",
       "        </tr>\n",
       "        <tr>\n",
       "            <td>Student id</td>\n",
       "        </tr>\n",
       "        <tr>\n",
       "            <td>Hydroflask</td>\n",
       "        </tr>\n",
       "        <tr>\n",
       "            <td>Student id</td>\n",
       "        </tr>\n",
       "    </tbody>\n",
       "</table>\n",
       "<p>... (990 rows omitted)</p>"
      ],
      "text/plain": [
       "Lost Item\n",
       "Student id\n",
       "Student id\n",
       "Student id\n",
       "Student id\n",
       "Student id\n",
       "Student id\n",
       "Student id\n",
       "Student id\n",
       "Hydroflask\n",
       "Student id\n",
       "... (990 rows omitted)"
      ]
     },
     "execution_count": 2,
     "metadata": {},
     "output_type": "execute_result"
    }
   ],
   "source": [
    "lost_table = Table.read_table('lost.csv')\n",
    "lost_table"
   ]
  },
  {
   "cell_type": "markdown",
   "metadata": {},
   "source": [
    "**Question 1.** You're interested in the proportion of ids that you've found. Calculate the true proportion of ids and store it in the variable `ids_true_prop`."
   ]
  },
  {
   "cell_type": "code",
   "execution_count": 3,
   "metadata": {},
   "outputs": [
    {
     "data": {
      "text/plain": [
       "0.655"
      ]
     },
     "execution_count": 3,
     "metadata": {},
     "output_type": "execute_result"
    }
   ],
   "source": [
    "#ids_true_prop\n",
    "ids_true_prop = lost_table.where('Lost Item', 'Student id').num_rows / lost_table.num_rows\n",
    "ids_true_prop"
   ]
  },
  {
   "cell_type": "code",
   "execution_count": 4,
   "metadata": {},
   "outputs": [
    {
     "name": "stdout",
     "output_type": "stream",
     "text": [
      "~~~~~~~~~~~~~~~~~~~~~~~~~~~~~~~~~~~~~~~~~~~~~~~~~~~~~~~~~~~~~~~~~~~~~\n",
      "Running tests\n",
      "\n",
      "---------------------------------------------------------------------\n",
      "Test summary\n",
      "    Passed: 1\n",
      "    Failed: 0\n",
      "[ooooooooook] 100.0% passed\n",
      "\n"
     ]
    }
   ],
   "source": [
    "#: grade 1.1\n",
    "_ = ok.grade('q1_1')"
   ]
  },
  {
   "cell_type": "markdown",
   "metadata": {},
   "source": [
    "**Question 2.** You are only able to randomly sample 150 different lost items. Which of the following would create a representative sample of lost items? Assign 1, 2, or 3 to `q1_2`.\n",
    "\n",
    "1. `lost_table.take(np.arange(150))`\n",
    "2. `lost_table.sample(150, with_replacement=False)`\n",
    "3. `lost_table.sample(150, with_replacement=True)`"
   ]
  },
  {
   "cell_type": "code",
   "execution_count": 5,
   "metadata": {},
   "outputs": [],
   "source": [
    "q1_2 = 2"
   ]
  },
  {
   "cell_type": "code",
   "execution_count": 6,
   "metadata": {},
   "outputs": [
    {
     "name": "stdout",
     "output_type": "stream",
     "text": [
      "~~~~~~~~~~~~~~~~~~~~~~~~~~~~~~~~~~~~~~~~~~~~~~~~~~~~~~~~~~~~~~~~~~~~~\n",
      "Running tests\n",
      "\n",
      "---------------------------------------------------------------------\n",
      "Test summary\n",
      "    Passed: 1\n",
      "    Failed: 0\n",
      "[ooooooooook] 100.0% passed\n",
      "\n"
     ]
    }
   ],
   "source": [
    "_ = ok.grade('q1_2')"
   ]
  },
  {
   "cell_type": "markdown",
   "metadata": {},
   "source": [
    "**Question 3.** You pick 150 different lost items using the sampling method you chose in question 2 above. Write a function called `pick_150_items` that simulates this. Specifically, the function should take no arguments and should return a table of 150 lost items selected as per your choice in question 2."
   ]
  },
  {
   "cell_type": "code",
   "execution_count": 6,
   "metadata": {},
   "outputs": [
    {
     "data": {
      "text/html": [
       "<table border=\"1\" class=\"dataframe\">\n",
       "    <thead>\n",
       "        <tr>\n",
       "            <th>Lost Item</th>\n",
       "        </tr>\n",
       "    </thead>\n",
       "    <tbody>\n",
       "        <tr>\n",
       "            <td>Student id</td>\n",
       "        </tr>\n",
       "        <tr>\n",
       "            <td>Student id</td>\n",
       "        </tr>\n",
       "        <tr>\n",
       "            <td>Hydroflask</td>\n",
       "        </tr>\n",
       "        <tr>\n",
       "            <td>Student id</td>\n",
       "        </tr>\n",
       "        <tr>\n",
       "            <td>Hydroflask</td>\n",
       "        </tr>\n",
       "        <tr>\n",
       "            <td>Student id</td>\n",
       "        </tr>\n",
       "        <tr>\n",
       "            <td>Student id</td>\n",
       "        </tr>\n",
       "        <tr>\n",
       "            <td>Hydroflask</td>\n",
       "        </tr>\n",
       "        <tr>\n",
       "            <td>Hydroflask</td>\n",
       "        </tr>\n",
       "        <tr>\n",
       "            <td>Student id</td>\n",
       "        </tr>\n",
       "    </tbody>\n",
       "</table>\n",
       "<p>... (140 rows omitted)</p>"
      ],
      "text/plain": [
       "Lost Item\n",
       "Student id\n",
       "Student id\n",
       "Hydroflask\n",
       "Student id\n",
       "Hydroflask\n",
       "Student id\n",
       "Student id\n",
       "Hydroflask\n",
       "Hydroflask\n",
       "Student id\n",
       "... (140 rows omitted)"
      ]
     },
     "execution_count": 6,
     "metadata": {},
     "output_type": "execute_result"
    }
   ],
   "source": [
    "# Place your answer here.\n",
    "\n",
    "def pick_150_items():\n",
    "    return lost_table.sample(150,with_replacement=False)\n",
    "\n",
    "pick_150_items()"
   ]
  },
  {
   "cell_type": "code",
   "execution_count": 6,
   "metadata": {},
   "outputs": [
    {
     "name": "stdout",
     "output_type": "stream",
     "text": [
      "~~~~~~~~~~~~~~~~~~~~~~~~~~~~~~~~~~~~~~~~~~~~~~~~~~~~~~~~~~~~~~~~~~~~~\n",
      "Running tests\n",
      "\n",
      "---------------------------------------------------------------------\n",
      "Test summary\n",
      "    Passed: 1\n",
      "    Failed: 0\n",
      "[ooooooooook] 100.0% passed\n",
      "\n"
     ]
    }
   ],
   "source": [
    "#: grade 1.3\n",
    "_ = ok.grade('q1_3')"
   ]
  },
  {
   "cell_type": "markdown",
   "metadata": {},
   "source": [
    "**Question 4.** As we mentioned, you are interested in knowing the true proportion of student ids of all the lost items you've found, but you can only look through 150 items at a time. Hence, you simulate this experiment in 500 trials. For each trial, you decide to calculate the proportion of student ids. Simulate the experiment and store the *array* of proportions in the variable `ids_empirical_props`."
   ]
  },
  {
   "cell_type": "code",
   "execution_count": 7,
   "metadata": {},
   "outputs": [
    {
     "data": {
      "text/plain": [
       "array([0.64666667, 0.63333333, 0.68      , 0.62666667, 0.64      ,\n",
       "       0.58666667, 0.61333333, 0.7       , 0.64      , 0.67333333,\n",
       "       0.68666667, 0.69333333, 0.66      , 0.62666667, 0.61333333,\n",
       "       0.67333333, 0.59333333, 0.62      , 0.63333333, 0.66666667,\n",
       "       0.61333333, 0.68666667, 0.67333333, 0.62666667, 0.64      ,\n",
       "       0.64666667, 0.62666667, 0.70666667, 0.65333333, 0.64      ,\n",
       "       0.64666667, 0.68666667, 0.66      , 0.59333333, 0.64666667,\n",
       "       0.58666667, 0.72      , 0.66666667, 0.59333333, 0.68666667,\n",
       "       0.74666667, 0.63333333, 0.64666667, 0.70666667, 0.67333333,\n",
       "       0.68      , 0.66666667, 0.7       , 0.69333333, 0.62666667,\n",
       "       0.61333333, 0.65333333, 0.68666667, 0.66666667, 0.68      ,\n",
       "       0.68      , 0.66666667, 0.66      , 0.6       , 0.63333333,\n",
       "       0.58666667, 0.60666667, 0.65333333, 0.64      , 0.73333333,\n",
       "       0.64      , 0.67333333, 0.67333333, 0.62      , 0.59333333,\n",
       "       0.64      , 0.65333333, 0.64666667, 0.64666667, 0.63333333,\n",
       "       0.58666667, 0.62666667, 0.69333333, 0.63333333, 0.61333333,\n",
       "       0.62666667, 0.66666667, 0.72      , 0.61333333, 0.74      ,\n",
       "       0.60666667, 0.68      , 0.62666667, 0.64      , 0.64      ,\n",
       "       0.68      , 0.63333333, 0.63333333, 0.63333333, 0.66      ,\n",
       "       0.61333333, 0.67333333, 0.74666667, 0.66666667, 0.63333333,\n",
       "       0.63333333, 0.68      , 0.62666667, 0.66666667, 0.63333333,\n",
       "       0.68      , 0.60666667, 0.69333333, 0.62666667, 0.59333333,\n",
       "       0.7       , 0.67333333, 0.64666667, 0.65333333, 0.69333333,\n",
       "       0.65333333, 0.66666667, 0.72666667, 0.66666667, 0.62666667,\n",
       "       0.6       , 0.64      , 0.69333333, 0.62666667, 0.63333333,\n",
       "       0.65333333, 0.64      , 0.64666667, 0.62      , 0.72      ,\n",
       "       0.66666667, 0.63333333, 0.64      , 0.70666667, 0.66666667,\n",
       "       0.68666667, 0.63333333, 0.65333333, 0.70666667, 0.66666667,\n",
       "       0.6       , 0.65333333, 0.69333333, 0.62666667, 0.68      ,\n",
       "       0.69333333, 0.67333333, 0.69333333, 0.60666667, 0.60666667,\n",
       "       0.66      , 0.63333333, 0.66666667, 0.65333333, 0.63333333,\n",
       "       0.68      , 0.66      , 0.68      , 0.65333333, 0.68666667,\n",
       "       0.64      , 0.7       , 0.64      , 0.63333333, 0.64666667,\n",
       "       0.64666667, 0.72      , 0.61333333, 0.66666667, 0.66      ,\n",
       "       0.6       , 0.67333333, 0.69333333, 0.70666667, 0.61333333,\n",
       "       0.63333333, 0.69333333, 0.67333333, 0.64666667, 0.66      ,\n",
       "       0.72      , 0.67333333, 0.67333333, 0.70666667, 0.64      ,\n",
       "       0.65333333, 0.61333333, 0.62      , 0.66      , 0.70666667,\n",
       "       0.64666667, 0.58666667, 0.64      , 0.62      , 0.68666667,\n",
       "       0.64666667, 0.66666667, 0.69333333, 0.64      , 0.6       ,\n",
       "       0.68      , 0.62      , 0.61333333, 0.67333333, 0.68666667,\n",
       "       0.68666667, 0.62666667, 0.68      , 0.67333333, 0.67333333,\n",
       "       0.68666667, 0.71333333, 0.71333333, 0.72666667, 0.62666667,\n",
       "       0.6       , 0.62      , 0.58      , 0.64      , 0.64      ,\n",
       "       0.67333333, 0.64666667, 0.66      , 0.66      , 0.61333333,\n",
       "       0.6       , 0.69333333, 0.67333333, 0.68666667, 0.7       ,\n",
       "       0.63333333, 0.67333333, 0.64666667, 0.69333333, 0.69333333,\n",
       "       0.61333333, 0.65333333, 0.70666667, 0.63333333, 0.60666667,\n",
       "       0.68      , 0.6       , 0.65333333, 0.62      , 0.67333333,\n",
       "       0.7       , 0.72      , 0.63333333, 0.59333333, 0.64666667,\n",
       "       0.59333333, 0.62      , 0.66      , 0.64666667, 0.64      ,\n",
       "       0.62      , 0.60666667, 0.64      , 0.68      , 0.66      ,\n",
       "       0.68666667, 0.66      , 0.67333333, 0.67333333, 0.64      ,\n",
       "       0.59333333, 0.68      , 0.65333333, 0.63333333, 0.68      ,\n",
       "       0.56666667, 0.72      , 0.66666667, 0.66666667, 0.64      ,\n",
       "       0.68666667, 0.66      , 0.7       , 0.58666667, 0.60666667,\n",
       "       0.66      , 0.65333333, 0.54666667, 0.71333333, 0.62666667,\n",
       "       0.67333333, 0.64666667, 0.72666667, 0.71333333, 0.68666667,\n",
       "       0.65333333, 0.7       , 0.61333333, 0.67333333, 0.61333333,\n",
       "       0.62      , 0.69333333, 0.65333333, 0.72      , 0.66666667,\n",
       "       0.66666667, 0.65333333, 0.59333333, 0.64      , 0.64      ,\n",
       "       0.66666667, 0.62666667, 0.65333333, 0.56      , 0.59333333,\n",
       "       0.57333333, 0.64666667, 0.65333333, 0.68      , 0.71333333,\n",
       "       0.65333333, 0.71333333, 0.64666667, 0.66666667, 0.67333333,\n",
       "       0.62666667, 0.63333333, 0.68      , 0.70666667, 0.66666667,\n",
       "       0.62666667, 0.62      , 0.70666667, 0.58666667, 0.66666667,\n",
       "       0.59333333, 0.66666667, 0.68      , 0.62666667, 0.62666667,\n",
       "       0.67333333, 0.58666667, 0.67333333, 0.65333333, 0.64666667,\n",
       "       0.64666667, 0.67333333, 0.66      , 0.56      , 0.62      ,\n",
       "       0.57333333, 0.63333333, 0.65333333, 0.62666667, 0.68666667,\n",
       "       0.58666667, 0.67333333, 0.66666667, 0.61333333, 0.66      ,\n",
       "       0.67333333, 0.66      , 0.64      , 0.66      , 0.63333333,\n",
       "       0.62      , 0.68      , 0.66666667, 0.68666667, 0.62      ,\n",
       "       0.7       , 0.64      , 0.64      , 0.67333333, 0.67333333,\n",
       "       0.66666667, 0.71333333, 0.63333333, 0.61333333, 0.64      ,\n",
       "       0.66      , 0.65333333, 0.65333333, 0.61333333, 0.65333333,\n",
       "       0.65333333, 0.61333333, 0.65333333, 0.62666667, 0.58666667,\n",
       "       0.67333333, 0.60666667, 0.61333333, 0.60666667, 0.70666667,\n",
       "       0.7       , 0.66666667, 0.65333333, 0.61333333, 0.65333333,\n",
       "       0.61333333, 0.64      , 0.67333333, 0.65333333, 0.65333333,\n",
       "       0.64666667, 0.58      , 0.58666667, 0.63333333, 0.66666667,\n",
       "       0.67333333, 0.65333333, 0.68      , 0.63333333, 0.66666667,\n",
       "       0.6       , 0.62666667, 0.66      , 0.60666667, 0.70666667,\n",
       "       0.6       , 0.64      , 0.65333333, 0.64      , 0.7       ,\n",
       "       0.67333333, 0.62      , 0.61333333, 0.66666667, 0.63333333,\n",
       "       0.64666667, 0.66666667, 0.61333333, 0.69333333, 0.68      ,\n",
       "       0.63333333, 0.75333333, 0.58666667, 0.66      , 0.61333333,\n",
       "       0.64666667, 0.68666667, 0.67333333, 0.64      , 0.66      ,\n",
       "       0.64      , 0.60666667, 0.68666667, 0.64      , 0.6       ,\n",
       "       0.63333333, 0.64666667, 0.66      , 0.66666667, 0.67333333,\n",
       "       0.66666667, 0.67333333, 0.66      , 0.7       , 0.68666667,\n",
       "       0.65333333, 0.60666667, 0.66      , 0.69333333, 0.62      ,\n",
       "       0.66666667, 0.61333333, 0.67333333, 0.67333333, 0.68      ,\n",
       "       0.65333333, 0.74666667, 0.66      , 0.68      , 0.69333333,\n",
       "       0.67333333, 0.67333333, 0.64      , 0.64666667, 0.68666667,\n",
       "       0.66666667, 0.66      , 0.70666667, 0.60666667, 0.67333333,\n",
       "       0.60666667, 0.71333333, 0.61333333, 0.70666667, 0.66      ,\n",
       "       0.70666667, 0.58666667, 0.67333333, 0.66      , 0.68      ,\n",
       "       0.65333333, 0.63333333, 0.71333333, 0.68666667, 0.66666667,\n",
       "       0.68      , 0.66666667, 0.66      , 0.67333333, 0.62666667])"
      ]
     },
     "execution_count": 7,
     "metadata": {},
     "output_type": "execute_result"
    }
   ],
   "source": [
    "# Place your answer here.\n",
    "\n",
    "ids_empirical_props = make_array()\n",
    "for _ in range(500):\n",
    "    proportion_ids = pick_150_items().group(\"Lost Item\").where(\"Lost Item\", are.equal_to(\"Student id\")).column(\"count\").item(0) / 150\n",
    "    ids_empirical_props = np.append(ids_empirical_props,  proportion_ids)\n",
    "\n",
    "ids_empirical_props"
   ]
  },
  {
   "cell_type": "code",
   "execution_count": 8,
   "metadata": {},
   "outputs": [
    {
     "name": "stdout",
     "output_type": "stream",
     "text": [
      "~~~~~~~~~~~~~~~~~~~~~~~~~~~~~~~~~~~~~~~~~~~~~~~~~~~~~~~~~~~~~~~~~~~~~\n",
      "Running tests\n",
      "\n",
      "---------------------------------------------------------------------\n",
      "Test summary\n",
      "    Passed: 1\n",
      "    Failed: 0\n",
      "[ooooooooook] 100.0% passed\n",
      "\n"
     ]
    }
   ],
   "source": [
    "#: grade 1.4\n",
    "_ = ok.grade('q1_4')"
   ]
  },
  {
   "cell_type": "markdown",
   "metadata": {},
   "source": [
    "**Question 5.** Now, compute the average of `ids_empirical_props`. You claim that this average is a good estimate of the proportion of student ids. Store your proportion in `ids_claim_prop`."
   ]
  },
  {
   "cell_type": "code",
   "execution_count": 8,
   "metadata": {},
   "outputs": [
    {
     "data": {
      "text/plain": [
       "0.6531866666666667"
      ]
     },
     "execution_count": 8,
     "metadata": {},
     "output_type": "execute_result"
    }
   ],
   "source": [
    "#ids_claim_prop\n",
    "ids_claim_prop = np.mean(ids_empirical_props)\n",
    "ids_claim_prop"
   ]
  },
  {
   "cell_type": "code",
   "execution_count": 10,
   "metadata": {},
   "outputs": [
    {
     "name": "stdout",
     "output_type": "stream",
     "text": [
      "~~~~~~~~~~~~~~~~~~~~~~~~~~~~~~~~~~~~~~~~~~~~~~~~~~~~~~~~~~~~~~~~~~~~~\n",
      "Running tests\n",
      "\n",
      "---------------------------------------------------------------------\n",
      "Test summary\n",
      "    Passed: 1\n",
      "    Failed: 0\n",
      "[ooooooooook] 100.0% passed\n",
      "\n"
     ]
    }
   ],
   "source": [
    "#: grade 1.5\n",
    "_ = ok.grade('q1_5')"
   ]
  },
  {
   "cell_type": "markdown",
   "metadata": {},
   "source": [
    "**Question 6.**  How far away is your claim from the true proportion of student ids? Compute the absolute difference between the two and store it in the variable `error`. Remember that you calculated the true proportion of ids in Question 1.\n"
   ]
  },
  {
   "cell_type": "code",
   "execution_count": 9,
   "metadata": {},
   "outputs": [
    {
     "data": {
      "text/plain": [
       "0.0018133333333333335"
      ]
     },
     "execution_count": 9,
     "metadata": {},
     "output_type": "execute_result"
    }
   ],
   "source": [
    "#error\n",
    "error = abs(ids_claim_prop - ids_true_prop)\n",
    "error"
   ]
  },
  {
   "cell_type": "code",
   "execution_count": 12,
   "metadata": {},
   "outputs": [
    {
     "name": "stdout",
     "output_type": "stream",
     "text": [
      "~~~~~~~~~~~~~~~~~~~~~~~~~~~~~~~~~~~~~~~~~~~~~~~~~~~~~~~~~~~~~~~~~~~~~\n",
      "Running tests\n",
      "\n",
      "---------------------------------------------------------------------\n",
      "Test summary\n",
      "    Passed: 1\n",
      "    Failed: 0\n",
      "[ooooooooook] 100.0% passed\n",
      "\n"
     ]
    }
   ],
   "source": [
    "#: grade 1.6\n",
    "_ = ok.grade('q1_6')"
   ]
  },
  {
   "cell_type": "markdown",
   "metadata": {},
   "source": [
    "## 2. Broken Phones"
   ]
  },
  {
   "cell_type": "markdown",
   "metadata": {},
   "source": [
    "A phone manufacturing company claims that it produces phones that are 99% non-faulty. In other words, only 1% of the phones that they manufacture have some fault in them. They open a retail shop in the friendly neighborhood of La Jolla. Because the phones are cheap and nice, 100 UCSD students have bought phones at this shop. However, it is soon discovered that four of the students had faulty phones. You're angry and argue that the company's claim is wrong. But the company is adament that they are right. You decide to investigate."
   ]
  },
  {
   "cell_type": "markdown",
   "metadata": {},
   "source": [
    "**Question 1.** Assign `null_probabilities` to a two-item *array* such that the first element contains the chance of a phone being functioning and the second element contains the chance that the phone is faulty under the **null hypothesis**."
   ]
  },
  {
   "cell_type": "code",
   "execution_count": 13,
   "metadata": {},
   "outputs": [
    {
     "data": {
      "text/plain": [
       "array([ 0.99,  0.01])"
      ]
     },
     "execution_count": 13,
     "metadata": {},
     "output_type": "execute_result"
    }
   ],
   "source": [
    "#...null_probabilities\n",
    "null_probabilities = make_array(0.99, 0.01)\n",
    "null_probabilities"
   ]
  },
  {
   "cell_type": "code",
   "execution_count": 14,
   "metadata": {},
   "outputs": [
    {
     "name": "stdout",
     "output_type": "stream",
     "text": [
      "~~~~~~~~~~~~~~~~~~~~~~~~~~~~~~~~~~~~~~~~~~~~~~~~~~~~~~~~~~~~~~~~~~~~~\n",
      "Running tests\n",
      "\n",
      "---------------------------------------------------------------------\n",
      "Test summary\n",
      "    Passed: 1\n",
      "    Failed: 0\n",
      "[ooooooooook] 100.0% passed\n",
      "\n"
     ]
    }
   ],
   "source": [
    "#: grade 2.1\n",
    "_ = ok.grade('q2_1')"
   ]
  },
  {
   "cell_type": "markdown",
   "metadata": {},
   "source": [
    "**Question 2.** Using the function you wrote above, simulate the buying of 100 phones 5,000 times, using the proportions that you assigned to `null_probabilities`. Create an *array* `simulations` with the number of faulty phones in each simulation.\n",
    "\n",
    "Note that the number of faulty phones in a simulation of sample size $x$ is the proportion of faulty phones in the simulation multiplied by $x$."
   ]
  },
  {
   "cell_type": "code",
   "execution_count": 15,
   "metadata": {},
   "outputs": [
    {
     "data": {
      "text/plain": [
       "array([ 2.,  2.,  1., ...,  1.,  0.,  3.])"
      ]
     },
     "execution_count": 15,
     "metadata": {},
     "output_type": "execute_result"
    }
   ],
   "source": [
    "# Place your answer here. It may contain several lines of code.\n",
    "\n",
    "simulations = make_array() # Can also be a list\n",
    "for _ in range(5000):\n",
    "    simulations = np.append(simulations, (sample_proportions(100, null_probabilities)).item(1) * 100)\n",
    "\n",
    "simulations"
   ]
  },
  {
   "cell_type": "code",
   "execution_count": 16,
   "metadata": {},
   "outputs": [
    {
     "data": {
      "image/png": "[encoded data removed]",
      "text/plain": [
       "<Figure size 432x288 with 1 Axes>"
      ]
     },
     "metadata": {},
     "output_type": "display_data"
    }
   ],
   "source": [
    "#: Consider the resulting histogram of the fault_statistics array\n",
    "Table().with_column(\"Faulty Statistic\", simulations).hist(bins=np.arange(8))"
   ]
  },
  {
   "cell_type": "code",
   "execution_count": 17,
   "metadata": {},
   "outputs": [
    {
     "name": "stdout",
     "output_type": "stream",
     "text": [
      "~~~~~~~~~~~~~~~~~~~~~~~~~~~~~~~~~~~~~~~~~~~~~~~~~~~~~~~~~~~~~~~~~~~~~\n",
      "Running tests\n",
      "\n",
      "---------------------------------------------------------------------\n",
      "Test summary\n",
      "    Passed: 1\n",
      "    Failed: 0\n",
      "[ooooooooook] 100.0% passed\n",
      "\n"
     ]
    }
   ],
   "source": [
    "#: grade 2.2\n",
    "_ = ok.grade('q2_2')"
   ]
  },
  {
   "cell_type": "markdown",
   "metadata": {},
   "source": [
    "**Question 3.** Using the results of your simulation, calculate an estimate of the p-value, i.e., the probability of observing four or more faulty phones under the null hypothesis. Assign your answer to `p_value_2_3`"
   ]
  },
  {
   "cell_type": "code",
   "execution_count": 18,
   "metadata": {},
   "outputs": [
    {
     "data": {
      "text/plain": [
       "0.019"
      ]
     },
     "execution_count": 18,
     "metadata": {},
     "output_type": "execute_result"
    }
   ],
   "source": [
    "#...p_value\n",
    "p_value_2_3 = np.count_nonzero(simulations >= 4) / 5000\n",
    "p_value_2_3"
   ]
  },
  {
   "cell_type": "code",
   "execution_count": 19,
   "metadata": {},
   "outputs": [
    {
     "name": "stdout",
     "output_type": "stream",
     "text": [
      "~~~~~~~~~~~~~~~~~~~~~~~~~~~~~~~~~~~~~~~~~~~~~~~~~~~~~~~~~~~~~~~~~~~~~\n",
      "Running tests\n",
      "\n",
      "---------------------------------------------------------------------\n",
      "Test summary\n",
      "    Passed: 1\n",
      "    Failed: 0\n",
      "[ooooooooook] 100.0% passed\n",
      "\n"
     ]
    }
   ],
   "source": [
    "#: grade 2.3\n",
    "_ = ok.grade('q2_3')"
   ]
  },
  {
   "cell_type": "markdown",
   "metadata": {},
   "source": [
    "**Question 4.** State precisely the null hypothesis and the alternative hypothesis for this experiment. Now that you have the results of your simulation, which hypothesis do you think is true? Explain."
   ]
  },
  {
   "cell_type": "markdown",
   "metadata": {},
   "source": [
    "<hr style=\"color:Maroon;background-color:Maroon;border:0 none; height: 3px;\">\n",
    "\n",
    "*Write your answer here.*\n",
    "\n",
    "<hr style=\"color:Maroon;background-color:Maroon;border:0 none; height: 3px;\">"
   ]
  },
  {
   "cell_type": "markdown",
   "metadata": {},
   "source": [
    "## 3. Bias towards customers"
   ]
  },
  {
   "cell_type": "markdown",
   "metadata": {},
   "source": [
    "The insurance company LivLife10 classifies its customers into 3 categories - low-income, mid-income and high-income. The company claims that it treats all of its customers equally and makes no compromises on the quality of the products that it provides. You know that the company has 10,000 customers, 40% of which are low-income customers, 30% mid-income and 30% high-income customers. However, over the past year, 60% of the complaints that the company has received are from low-income customers, 30% from mid-income customers and 10% from high-income customers. "
   ]
  },
  {
   "cell_type": "code",
   "execution_count": 20,
   "metadata": {},
   "outputs": [
    {
     "data": {
      "text/html": [
       "<table border=\"1\" class=\"dataframe\">\n",
       "    <thead>\n",
       "        <tr>\n",
       "            <th>Type of Customers</th> <th>Proportion of Customers</th> <th>Proportion of Complaints</th>\n",
       "        </tr>\n",
       "    </thead>\n",
       "    <tbody>\n",
       "        <tr>\n",
       "            <td>low-income       </td> <td>0.4                    </td> <td>0.6                     </td>\n",
       "        </tr>\n",
       "        <tr>\n",
       "            <td>mid-income       </td> <td>0.3                    </td> <td>0.3                     </td>\n",
       "        </tr>\n",
       "        <tr>\n",
       "            <td>high-income      </td> <td>0.3                    </td> <td>0.1                     </td>\n",
       "        </tr>\n",
       "    </tbody>\n",
       "</table>"
      ],
      "text/plain": [
       "Type of Customers | Proportion of Customers | Proportion of Complaints\n",
       "low-income        | 0.4                     | 0.6\n",
       "mid-income        | 0.3                     | 0.3\n",
       "high-income       | 0.3                     | 0.1"
      ]
     },
     "execution_count": 20,
     "metadata": {},
     "output_type": "execute_result"
    }
   ],
   "source": [
    "#: Don't change the below three lines\n",
    "type_of_customers = [\"low-income\", \"mid-income\", \"high-income\"]\n",
    "proportion_of_customers = np.array([0.4, 0.3, 0.3])\n",
    "proportion_of_complaints = np.array([0.6, 0.3, 0.1])\n",
    "\n",
    "insurance_customers = Table().with_columns(\n",
    "                        \"Type of Customers\", type_of_customers,\n",
    "                        \"Proportion of Customers\", proportion_of_customers,\n",
    "                        \"Proportion of Complaints\", proportion_of_complaints)\n",
    "insurance_customers"
   ]
  },
  {
   "cell_type": "markdown",
   "metadata": {},
   "source": [
    "You have a suspicion that the insurance company is biased towards its high-income customers. That is, the insurance company is providing a better product to the high-income customers than to others. A better product is one that generates lesser complaints. You decide to test your idea. Your null hypothesis is:\n",
    "\n",
    "**Null hypothesis**: The complaints are drawn from the population according to the proportion of customers which are low-, mid-, and high-income."
   ]
  },
  {
   "cell_type": "markdown",
   "metadata": {},
   "source": [
    "**Question 1.** What is the expected proportion of complaints that should be heard from the high-income customers under the null hypothesis? Assign your answer to `complaints_proportion_null`."
   ]
  },
  {
   "cell_type": "code",
   "execution_count": 21,
   "metadata": {},
   "outputs": [
    {
     "data": {
      "text/plain": [
       "0.3"
      ]
     },
     "execution_count": 21,
     "metadata": {},
     "output_type": "execute_result"
    }
   ],
   "source": [
    "#...complaints_proportion_null\n",
    "complaints_proportion_null = 0.3\n",
    "complaints_proportion_null"
   ]
  },
  {
   "cell_type": "code",
   "execution_count": 22,
   "metadata": {},
   "outputs": [
    {
     "name": "stdout",
     "output_type": "stream",
     "text": [
      "~~~~~~~~~~~~~~~~~~~~~~~~~~~~~~~~~~~~~~~~~~~~~~~~~~~~~~~~~~~~~~~~~~~~~\n",
      "Running tests\n",
      "\n",
      "---------------------------------------------------------------------\n",
      "Test summary\n",
      "    Passed: 1\n",
      "    Failed: 0\n",
      "[ooooooooook] 100.0% passed\n",
      "\n"
     ]
    }
   ],
   "source": [
    "#: grade 3.1\n",
    "_ = ok.grade('q3_1')"
   ]
  },
  {
   "cell_type": "markdown",
   "metadata": {},
   "source": [
    "**Question 2.** You wish to check the bias in the insurance company towards different categories of customers. However, there are three categories of customers: high-, mid-, and low-income. Which among the following do you think is **not** a reasonable choice of test statistic for your hypothesis. You may include more than one answer. Append all your choices in a *list* called `unreasonable_test_statistics`. For example, if you think statistics 1, 2, and 3 are unreasonable, you should have `unreasonable_test_statistics = [1,2,3]`\n",
    "\n",
    "1. Average of the absolute difference between proportion of customers and proportion of corresponding complaints\n",
    "2. The total number of complaints that the company has received in the past year\n",
    "3. The absolute difference between the sum of proportion of customers and the sum of proportion of corresponding complaints\n",
    "4. The total variation distance between the probability distribution of customers and the distribution of complaints\n",
    "5. Sum of the absolute difference between proportion of customers and proportion of corresponding complaints\n",
    "6. Average of the sum of the proportion of customers and the proportion of corresponding complaints"
   ]
  },
  {
   "cell_type": "code",
   "execution_count": 23,
   "metadata": {},
   "outputs": [
    {
     "data": {
      "text/plain": [
       "[2, 3, 6]"
      ]
     },
     "execution_count": 23,
     "metadata": {},
     "output_type": "execute_result"
    }
   ],
   "source": [
    "#...unreasonable_test_statistics\n",
    "unreasonable_test_statistics = [2, 3, 6] # Can be in any order; [2, 6, 3] is also correct\n",
    "unreasonable_test_statistics"
   ]
  },
  {
   "cell_type": "code",
   "execution_count": 24,
   "metadata": {},
   "outputs": [
    {
     "name": "stdout",
     "output_type": "stream",
     "text": [
      "~~~~~~~~~~~~~~~~~~~~~~~~~~~~~~~~~~~~~~~~~~~~~~~~~~~~~~~~~~~~~~~~~~~~~\n",
      "Running tests\n",
      "\n",
      "---------------------------------------------------------------------\n",
      "Test summary\n",
      "    Passed: 1\n",
      "    Failed: 0\n",
      "[ooooooooook] 100.0% passed\n",
      "\n"
     ]
    }
   ],
   "source": [
    "#: grade 3.2\n",
    "_ = ok.grade('q3_2')"
   ]
  },
  {
   "cell_type": "markdown",
   "metadata": {},
   "source": [
    "**Question 3.** Say you went ahead with the total variation distance as your test statistic\n",
    "\n",
    "Write a function called `total_variation_distance` that takes in two probability distributions as arrays and calculates the total variation distance between them."
   ]
  },
  {
   "cell_type": "code",
   "execution_count": 25,
   "metadata": {},
   "outputs": [],
   "source": [
    "# Place your answer here. It may contain several lines of code.\n",
    "\n",
    "def total_variation_distance(first_distrib, second_distrib):\n",
    "    return sum(np.abs(first_distrib - second_distrib)) / 2"
   ]
  },
  {
   "cell_type": "code",
   "execution_count": 26,
   "metadata": {},
   "outputs": [
    {
     "data": {
      "text/plain": [
       "1.0"
      ]
     },
     "execution_count": 26,
     "metadata": {},
     "output_type": "execute_result"
    }
   ],
   "source": [
    "#: Use the below code to test your function\n",
    "total_variation_distance(np.array([1,0,0]), np.array([0,0,1]))  # Output should be 1.0"
   ]
  },
  {
   "cell_type": "code",
   "execution_count": 27,
   "metadata": {},
   "outputs": [
    {
     "name": "stdout",
     "output_type": "stream",
     "text": [
      "~~~~~~~~~~~~~~~~~~~~~~~~~~~~~~~~~~~~~~~~~~~~~~~~~~~~~~~~~~~~~~~~~~~~~\n",
      "Running tests\n",
      "\n",
      "---------------------------------------------------------------------\n",
      "Test summary\n",
      "    Passed: 1\n",
      "    Failed: 0\n",
      "[ooooooooook] 100.0% passed\n",
      "\n"
     ]
    }
   ],
   "source": [
    "#: grade 3.3\n",
    "_ = ok.grade('q3_3')"
   ]
  },
  {
   "cell_type": "markdown",
   "metadata": {},
   "source": [
    "**Question 4.** Write a simulation which computes the TVD statistic 5000 times on data generated under the null hypothesis. Save the simulated statistics in an *array* called `empirical_tvds`.\n",
    "\n",
    "*Hint:* Use `sample_proportions`."
   ]
  },
  {
   "cell_type": "code",
   "execution_count": 28,
   "metadata": {},
   "outputs": [
    {
     "data": {
      "text/plain": [
       "array([ 0.0074,  0.0064,  0.013 , ...,  0.0114,  0.0072,  0.0048])"
      ]
     },
     "execution_count": 28,
     "metadata": {},
     "output_type": "execute_result"
    }
   ],
   "source": [
    "# Place your answer here. It may contain several lines of code.\n",
    "\n",
    "empirical_tvds = make_array()\n",
    "\n",
    "for _ in range(5000):\n",
    "    simulated_distribution = sample_proportions(10000, insurance_customers.column('Proportion of Customers'))\n",
    "    current_tvd = total_variation_distance(simulated_distribution, proportion_of_customers)\n",
    "    empirical_tvds = np.append(empirical_tvds, current_tvd)\n",
    "\n",
    "empirical_tvds"
   ]
  },
  {
   "cell_type": "code",
   "execution_count": 29,
   "metadata": {},
   "outputs": [
    {
     "name": "stdout",
     "output_type": "stream",
     "text": [
      "~~~~~~~~~~~~~~~~~~~~~~~~~~~~~~~~~~~~~~~~~~~~~~~~~~~~~~~~~~~~~~~~~~~~~\n",
      "Running tests\n",
      "\n",
      "---------------------------------------------------------------------\n",
      "Test summary\n",
      "    Passed: 1\n",
      "    Failed: 0\n",
      "[ooooooooook] 100.0% passed\n",
      "\n"
     ]
    }
   ],
   "source": [
    "#: grade 3.4\n",
    "_ = ok.grade('q3_4')"
   ]
  },
  {
   "cell_type": "markdown",
   "metadata": {},
   "source": [
    "**Question 5.** Calculate the total variation distance in the actual scenario, that is, the observed scenario. Save the result in `observed_tvd`."
   ]
  },
  {
   "cell_type": "code",
   "execution_count": 30,
   "metadata": {},
   "outputs": [
    {
     "data": {
      "text/plain": [
       "0.19999999999999996"
      ]
     },
     "execution_count": 30,
     "metadata": {},
     "output_type": "execute_result"
    }
   ],
   "source": [
    "#...observed_tvd\n",
    "observed_tvd = total_variation_distance(proportion_of_complaints, proportion_of_customers)\n",
    "observed_tvd"
   ]
  },
  {
   "cell_type": "markdown",
   "metadata": {},
   "source": [
    "Let us plot a histogram of `empirical_tvds` and compare that to our `observed_tvd`"
   ]
  },
  {
   "cell_type": "code",
   "execution_count": 31,
   "metadata": {},
   "outputs": [
    {
     "data": {
      "text/plain": [
       "<matplotlib.collections.PathCollection at 0x7f31286a3400>"
      ]
     },
     "execution_count": 31,
     "metadata": {},
     "output_type": "execute_result"
    },
    {
     "data": {
      "image/png": "[encoded data removed]",
      "text/plain": [
       "<Figure size 432x288 with 1 Axes>"
      ]
     },
     "metadata": {},
     "output_type": "display_data"
    }
   ],
   "source": [
    "#: Visualize\n",
    "Table().with_column(\"Empirical TVDs\", empirical_tvds).hist()\n",
    "plt.scatter(observed_tvd, 0, color='red', s=30)"
   ]
  },
  {
   "cell_type": "code",
   "execution_count": 32,
   "metadata": {},
   "outputs": [
    {
     "name": "stdout",
     "output_type": "stream",
     "text": [
      "~~~~~~~~~~~~~~~~~~~~~~~~~~~~~~~~~~~~~~~~~~~~~~~~~~~~~~~~~~~~~~~~~~~~~\n",
      "Running tests\n",
      "\n",
      "---------------------------------------------------------------------\n",
      "Test summary\n",
      "    Passed: 1\n",
      "    Failed: 0\n",
      "[ooooooooook] 100.0% passed\n",
      "\n"
     ]
    }
   ],
   "source": [
    "#: grade 3.5\n",
    "_ = ok.grade('q3_5')"
   ]
  },
  {
   "cell_type": "markdown",
   "metadata": {},
   "source": [
    "**Question 6.** Recall that the null hypothesis was that the complaints are drawn from the population according to the proportion of customers which where low-, mid-, and high-income.\n",
    "Looking at the histogram above, do you think it is likely that the null hypothesis is true? Write your answer in the variable `insurance_claim_true`. The value of the boolean variable should be `True` if you agree that the null hypothesis is true, and `False` otherwise."
   ]
  },
  {
   "cell_type": "code",
   "execution_count": 33,
   "metadata": {},
   "outputs": [
    {
     "data": {
      "text/plain": [
       "False"
      ]
     },
     "execution_count": 33,
     "metadata": {},
     "output_type": "execute_result"
    }
   ],
   "source": [
    "#...insurance_claim_true\n",
    "insurance_claim_true = False\n",
    "insurance_claim_true"
   ]
  },
  {
   "cell_type": "code",
   "execution_count": 34,
   "metadata": {},
   "outputs": [
    {
     "name": "stdout",
     "output_type": "stream",
     "text": [
      "~~~~~~~~~~~~~~~~~~~~~~~~~~~~~~~~~~~~~~~~~~~~~~~~~~~~~~~~~~~~~~~~~~~~~\n",
      "Running tests\n",
      "\n",
      "---------------------------------------------------------------------\n",
      "Test summary\n",
      "    Passed: 1\n",
      "    Failed: 0\n",
      "[ooooooooook] 100.0% passed\n",
      "\n"
     ]
    }
   ],
   "source": [
    "#: grade 3.6\n",
    "_ = ok.grade('q3_6')"
   ]
  },
  {
   "cell_type": "markdown",
   "metadata": {},
   "source": [
    "**Question 7.** Does this data show that the insurance company is providing a worse product to certain individuals because of their lower income level?"
   ]
  },
  {
   "cell_type": "markdown",
   "metadata": {},
   "source": [
    "<hr style=\"color:Maroon;background-color:Maroon;border:0 none; height: 3px;\">\n",
    "\n",
    "*Write your answer here.*\n",
    "\n",
    "<hr style=\"color:Maroon;background-color:Maroon;border:0 none; height: 3px;\">"
   ]
  },
  {
   "cell_type": "markdown",
   "metadata": {},
   "source": [
    "## 4. NBA Playoff Season"
   ]
  },
  {
   "cell_type": "markdown",
   "metadata": {},
   "source": [
    "It's the NBA playoffs, a tournament featuring basketball teams, and you want to see what the odds are that your favorite team wins! Conveniently, your friend is also Doctor Strange, who has the ability to see the future for us."
   ]
  },
  {
   "cell_type": "markdown",
   "metadata": {},
   "source": [
    "**Question 1.** A statistical forecasting website called FiveThirtyEight has projections that predict the odds of each team winning. Assume that the four teams in the tournament are: The Warriors, Bucks, Raptors, and Blazers. Pretend that FiveThirtyEight predicts that the Warriors have a 60% chance of winning, the Bucks have a 20% chance of winning, the Raptors have a 15% chance of winning, and the Blazers with a 5% chance of winning.\n",
    "\n",
    "Write down FiveThirtyEight's probability distribution as an *array*. It should contain 4 elements, each describing the probability of a team winning the tournament, and it should sum to 1. Name this array `hypothesis_model_distribution`."
   ]
  },
  {
   "cell_type": "code",
   "execution_count": 35,
   "metadata": {},
   "outputs": [
    {
     "data": {
      "text/plain": [
       "array([ 0.6 ,  0.2 ,  0.15,  0.05])"
      ]
     },
     "execution_count": 35,
     "metadata": {},
     "output_type": "execute_result"
    }
   ],
   "source": [
    "hypothesis_model_distribution = make_array(.6, .2, .15, .05)\n",
    "hypothesis_model_distribution"
   ]
  },
  {
   "cell_type": "code",
   "execution_count": 36,
   "metadata": {},
   "outputs": [
    {
     "name": "stdout",
     "output_type": "stream",
     "text": [
      "~~~~~~~~~~~~~~~~~~~~~~~~~~~~~~~~~~~~~~~~~~~~~~~~~~~~~~~~~~~~~~~~~~~~~\n",
      "Running tests\n",
      "\n",
      "---------------------------------------------------------------------\n",
      "Test summary\n",
      "    Passed: 1\n",
      "    Failed: 0\n",
      "[ooooooooook] 100.0% passed\n",
      "\n"
     ]
    }
   ],
   "source": [
    "#: grade 4.1\n",
    "_ = ok.grade('q4_1')"
   ]
  },
  {
   "cell_type": "markdown",
   "metadata": {},
   "source": [
    "**Question 2.** Say we want to test FiveThirtyEight's model. In particular, we wish to test if the probability that the Warriors win is 60%. Pretend your friend is Doctor Strange who can see  different versions of the future. He says that in 10 future realities, the Warriors win 9 out of 10 times! Greatly disturbed, you claim that FiveThirtyEight's model is wrong, but in order to substantiate your claim,  you need to simulate the process of seeing 10 futures under the assumptions of FiveThirtyEight's model, and determine how unlikely Doctor Strange's prediction really is.\n",
    "\n",
    "Write a simulation and run it 5000 times, maintaining an array differences which keeps track of the absolute difference between the number of times the Warriors won, out of 10, and the expected number (6) in each simulation."
   ]
  },
  {
   "cell_type": "code",
   "execution_count": 37,
   "metadata": {},
   "outputs": [],
   "source": [
    "# Place your answer here. It may contain several lines of code.\n",
    "\n",
    "n_repetitions = 5000\n",
    "differences = make_array()\n",
    "for i in np.arange(n_repetitions):\n",
    "    count = (sample_proportions(10, hypothesis_model_distribution) * 10).item(0)\n",
    "    differences = np.append(differences, abs(count-6))"
   ]
  },
  {
   "cell_type": "code",
   "execution_count": 38,
   "metadata": {},
   "outputs": [
    {
     "data": {
      "image/png": "[encoded data removed]",
      "text/plain": [
       "<Figure size 432x288 with 1 Axes>"
      ]
     },
     "metadata": {},
     "output_type": "display_data"
    }
   ],
   "source": [
    "#: Visualize with a histogram\n",
    "Table().with_column(\"Difference\", differences).hist(bins=np.arange(7))"
   ]
  },
  {
   "cell_type": "code",
   "execution_count": 39,
   "metadata": {},
   "outputs": [
    {
     "name": "stdout",
     "output_type": "stream",
     "text": [
      "~~~~~~~~~~~~~~~~~~~~~~~~~~~~~~~~~~~~~~~~~~~~~~~~~~~~~~~~~~~~~~~~~~~~~\n",
      "Running tests\n",
      "\n",
      "---------------------------------------------------------------------\n",
      "Test summary\n",
      "    Passed: 1\n",
      "    Failed: 0\n",
      "[ooooooooook] 100.0% passed\n",
      "\n"
     ]
    }
   ],
   "source": [
    "#: grade 4.2\n",
    "_ = ok.grade('q4_2')"
   ]
  },
  {
   "cell_type": "markdown",
   "metadata": {},
   "source": [
    "**Question 3.** Recall that we saw the Warriors win 9 of 10 times. Set the variable `null_hypothesis_boolean` below to `True` if you think FiveThirtyEight's model is plausible or `False` if it should be rejected."
   ]
  },
  {
   "cell_type": "code",
   "execution_count": 40,
   "metadata": {},
   "outputs": [],
   "source": [
    "#... null_hypothesis_boolean\n",
    "null_hypothesis_boolean = True  # Should be a boolean"
   ]
  },
  {
   "cell_type": "code",
   "execution_count": 41,
   "metadata": {},
   "outputs": [
    {
     "name": "stdout",
     "output_type": "stream",
     "text": [
      "~~~~~~~~~~~~~~~~~~~~~~~~~~~~~~~~~~~~~~~~~~~~~~~~~~~~~~~~~~~~~~~~~~~~~\n",
      "Running tests\n",
      "\n",
      "---------------------------------------------------------------------\n",
      "Test summary\n",
      "    Passed: 1\n",
      "    Failed: 0\n",
      "[ooooooooook] 100.0% passed\n",
      "\n"
     ]
    }
   ],
   "source": [
    "#: grade 4.3\n",
    "_ = ok.grade('q4_3')"
   ]
  },
  {
   "cell_type": "markdown",
   "metadata": {},
   "source": [
    "**Question 4.** Now, we check the p-value of our claim. That is, compute the proportion of times in our simulation that we saw a difference of 3 or more between the number of wins and the expected number of wins. Assign your result to `p_value_4_4`"
   ]
  },
  {
   "cell_type": "code",
   "execution_count": 42,
   "metadata": {},
   "outputs": [
    {
     "data": {
      "text/plain": [
       "0.094"
      ]
     },
     "execution_count": 42,
     "metadata": {},
     "output_type": "execute_result"
    }
   ],
   "source": [
    "#...p_value_4_4\n",
    "p_value_4_4 = np.count_nonzero(differences >= 3) / n_repetitions\n",
    "p_value_4_4"
   ]
  },
  {
   "cell_type": "code",
   "execution_count": 43,
   "metadata": {},
   "outputs": [
    {
     "name": "stdout",
     "output_type": "stream",
     "text": [
      "~~~~~~~~~~~~~~~~~~~~~~~~~~~~~~~~~~~~~~~~~~~~~~~~~~~~~~~~~~~~~~~~~~~~~\n",
      "Running tests\n",
      "\n",
      "---------------------------------------------------------------------\n",
      "Test summary\n",
      "    Passed: 1\n",
      "    Failed: 0\n",
      "[ooooooooook] 100.0% passed\n",
      "\n"
     ]
    }
   ],
   "source": [
    "#: grade 4.4\n",
    "_ = ok.grade('q4_4')"
   ]
  },
  {
   "cell_type": "markdown",
   "metadata": {},
   "source": [
    "## 5. Ramen Ratings"
   ]
  },
  {
   "cell_type": "markdown",
   "metadata": {},
   "source": [
    "![](menya.jpg)"
   ]
  },
  {
   "cell_type": "markdown",
   "metadata": {},
   "source": [
    "In this question, we will be using a ramen rating dataset to better our understanding of A/B testing. The dataset can be found on [kaggle](https://www.kaggle.com/residentmario/ramen-ratings). But the dataset has been cleaned and condensed for the purpose of this question. We also recommend eating at [Menya Ultra](http://menya-ultra.com/) before doing this question, as we did before we wrote this question."
   ]
  },
  {
   "cell_type": "markdown",
   "metadata": {},
   "source": [
    "**Question 1**. The ramen data is recorded in a CSV file called ramen.csv. It contains five columns: `Brand`, `Variety`, `Style`, `Country`, `Stars`. Read this file into a table called `ramen`."
   ]
  },
  {
   "cell_type": "code",
   "execution_count": 14,
   "metadata": {},
   "outputs": [
    {
     "data": {
      "text/html": [
       "<table border=\"1\" class=\"dataframe\">\n",
       "    <thead>\n",
       "        <tr>\n",
       "            <th>Brand</th> <th>Variety</th> <th>Style</th> <th>Country</th> <th>Stars</th>\n",
       "        </tr>\n",
       "    </thead>\n",
       "    <tbody>\n",
       "        <tr>\n",
       "            <td>New Touch     </td> <td>T's Restaurant Tantanmen                                   </td> <td>Cup  </td> <td>Japan      </td> <td>3.75 </td>\n",
       "        </tr>\n",
       "        <tr>\n",
       "            <td>Just Way      </td> <td>Noodles Spicy Hot Sesame Spicy Hot Sesame Guan-miao Noodles</td> <td>Pack </td> <td>Taiwan     </td> <td>1    </td>\n",
       "        </tr>\n",
       "        <tr>\n",
       "            <td>Nissin        </td> <td>Cup Noodles Chicken Vegetable                              </td> <td>Cup  </td> <td>USA        </td> <td>2.25 </td>\n",
       "        </tr>\n",
       "        <tr>\n",
       "            <td>Wei Lih       </td> <td>GGE Ramen Snack Tomato Flavor                              </td> <td>Pack </td> <td>Taiwan     </td> <td>2.75 </td>\n",
       "        </tr>\n",
       "        <tr>\n",
       "            <td>Ching's Secret</td> <td>Singapore Curry                                            </td> <td>Pack </td> <td>India      </td> <td>3.75 </td>\n",
       "        </tr>\n",
       "        <tr>\n",
       "            <td>Samyang Foods </td> <td>Kimchi song Song Ramen                                     </td> <td>Pack </td> <td>South Korea</td> <td>4.75 </td>\n",
       "        </tr>\n",
       "        <tr>\n",
       "            <td>Acecook       </td> <td>Spice Deli Tantan Men With Cilantro                        </td> <td>Cup  </td> <td>Japan      </td> <td>4    </td>\n",
       "        </tr>\n",
       "        <tr>\n",
       "            <td>Ripe'n'Dry    </td> <td>Hokkaido Soy Sauce Ramen                                   </td> <td>Pack </td> <td>Japan      </td> <td>0.25 </td>\n",
       "        </tr>\n",
       "        <tr>\n",
       "            <td>KOKA          </td> <td>The Original Spicy Stir-Fried Noodles                      </td> <td>Pack </td> <td>Singapore  </td> <td>2.5  </td>\n",
       "        </tr>\n",
       "        <tr>\n",
       "            <td>Tao Kae Noi   </td> <td>Creamy tom Yum Kung Flavour                                </td> <td>Pack </td> <td>Thailand   </td> <td>5    </td>\n",
       "        </tr>\n",
       "    </tbody>\n",
       "</table>\n",
       "<p>... (1968 rows omitted)</p>"
      ],
      "text/plain": [
       "Brand          | Variety                                                     | Style | Country     | Stars\n",
       "New Touch      | T's Restaurant Tantanmen                                    | Cup   | Japan       | 3.75\n",
       "Just Way       | Noodles Spicy Hot Sesame Spicy Hot Sesame Guan-miao Noodles | Pack  | Taiwan      | 1\n",
       "Nissin         | Cup Noodles Chicken Vegetable                               | Cup   | USA         | 2.25\n",
       "Wei Lih        | GGE Ramen Snack Tomato Flavor                               | Pack  | Taiwan      | 2.75\n",
       "Ching's Secret | Singapore Curry                                             | Pack  | India       | 3.75\n",
       "Samyang Foods  | Kimchi song Song Ramen                                      | Pack  | South Korea | 4.75\n",
       "Acecook        | Spice Deli Tantan Men With Cilantro                         | Cup   | Japan       | 4\n",
       "Ripe'n'Dry     | Hokkaido Soy Sauce Ramen                                    | Pack  | Japan       | 0.25\n",
       "KOKA           | The Original Spicy Stir-Fried Noodles                       | Pack  | Singapore   | 2.5\n",
       "Tao Kae Noi    | Creamy tom Yum Kung Flavour                                 | Pack  | Thailand    | 5\n",
       "... (1968 rows omitted)"
      ]
     },
     "execution_count": 14,
     "metadata": {},
     "output_type": "execute_result"
    }
   ],
   "source": [
    "ramen = Table.read_table('ramen.csv')\n",
    "ramen"
   ]
  },
  {
   "cell_type": "code",
   "execution_count": null,
   "metadata": {},
   "outputs": [],
   "source": [
    "#: grade 5.1\n",
    "_ = ok.grade('q5_1')"
   ]
  },
  {
   "cell_type": "markdown",
   "metadata": {},
   "source": [
    "**Question 2**. You may have noticed that the `Stars` column has strings instead of floats. Because we cannot compute numbers with strings, we need to convert them into floats. Change the `Stars` column so that all the data values are floats, and then resave that new table as `ramen` again. Find the mean star rating of all the ramen, and save it into a variable called `mean_star`."
   ]
  },
  {
   "cell_type": "code",
   "execution_count": 20,
   "metadata": {},
   "outputs": [
    {
     "data": {
      "text/plain": [
       "3.65451213346815"
      ]
     },
     "execution_count": 20,
     "metadata": {},
     "output_type": "execute_result"
    }
   ],
   "source": [
    "stars = ramen.apply(lambda x: float(x), 'Stars')\n",
    "ramen = ramen.with_column(\n",
    "    \"Stars\", stars\n",
    ")\n",
    "mean_star = stars.mean()\n",
    "mean_star"
   ]
  },
  {
   "cell_type": "markdown",
   "metadata": {},
   "source": [
    "**Question 3.** Notice that the two styles are \"Pack\" and \"Cup\". Using `ramen`, calculate the difference between the mean  stars between Pack and Cup. Assign your answer to `observed_difference`.\n",
    "\n",
    "$$\\text{observed difference} := \\text{mean Pack stars} - \\text{mean Cup stars}$$"
   ]
  },
  {
   "cell_type": "code",
   "execution_count": 33,
   "metadata": {},
   "outputs": [
    {
     "data": {
      "text/plain": [
       "0.20195811518324636"
      ]
     },
     "execution_count": 33,
     "metadata": {},
     "output_type": "execute_result"
    }
   ],
   "source": [
    "#...observed_difference\n",
    "group_means = ramen.group('Style', np.mean).column('Stars mean')\n",
    "observed_difference = group_means.item(1) - group_means.item(0)\n",
    "observed_difference"
   ]
  },
  {
   "cell_type": "code",
   "execution_count": 47,
   "metadata": {},
   "outputs": [
    {
     "name": "stdout",
     "output_type": "stream",
     "text": [
      "~~~~~~~~~~~~~~~~~~~~~~~~~~~~~~~~~~~~~~~~~~~~~~~~~~~~~~~~~~~~~~~~~~~~~\n",
      "Running tests\n",
      "\n",
      "---------------------------------------------------------------------\n",
      "Test summary\n",
      "    Passed: 1\n",
      "    Failed: 0\n",
      "[ooooooooook] 100.0% passed\n",
      "\n"
     ]
    }
   ],
   "source": [
    "#: grade 5.3\n",
    "_ = ok.grade('q5_3')"
   ]
  },
  {
   "cell_type": "markdown",
   "metadata": {},
   "source": [
    "**Question 4.** Interpret in words the number you obtained for `observed_difference`. Explain your answer below. Be as specific as possible."
   ]
  },
  {
   "cell_type": "markdown",
   "metadata": {},
   "source": [
    "<hr style=\"color:Maroon;background-color:Maroon;border:0 none; height: 3px;\">\n",
    "\n",
    "In our sample, the mean cup stars is lower than the mean pack stars by about 0.20 stars.\n",
    "\n",
    "<hr style=\"color:Maroon;background-color:Maroon;border:0 none; height: 3px;\">"
   ]
  },
  {
   "cell_type": "markdown",
   "metadata": {},
   "source": [
    "Now we want to conduct an A/B test (i.e. Permutation Test) to see if the by chance that the average star rating for pack was greater than cup. To remind you on the process of an A/B test, here is the textbook reference for the [process](https://www.inferentialthinking.com/chapters/12/1/AB_Testing.html). In your upcoming A/B test, we want to shuffle the `Stars` column and will keep the `Style` column in the same order.\n",
    "\n",
    "\n",
    "**Null hypothesis:** Star ratings on pack ramen and cup ramen come from the same distribution.  \n",
    "**Alternative hypothesis:** Star ratings on pack ramen is typically higher than cup ramen.\n",
    "\n",
    "Note: To make your simulation go faster, we want to drop the irrelevant columns before our A/B test. In other words, `ramen` could only need the `Stars` and `Style` column."
   ]
  },
  {
   "cell_type": "markdown",
   "metadata": {},
   "source": [
    "**Question 5.** Use a permutation test to calculate 5,000 differences using random permutations of the data. Store your 5,000 differences in the `differences` array."
   ]
  },
  {
   "cell_type": "code",
   "execution_count": 48,
   "metadata": {},
   "outputs": [
    {
     "data": {
      "text/plain": [
       "array([ 0.02806326,  0.00260471, -0.04838431, ...,  0.11472302,\n",
       "       -0.01415191, -0.0106999 ])"
      ]
     },
     "execution_count": 48,
     "metadata": {},
     "output_type": "execute_result"
    }
   ],
   "source": [
    "# differences = ...\n",
    "# for ... in ...:\n",
    "#     shuffled = ...\n",
    "#     difference = ...\n",
    "#     differences = ...\n",
    "ramen = ramen.select(['Stars', 'Style'])\n",
    "differences = make_array()\n",
    "for i in np.arange(2500):\n",
    "    shuffled_stars = ramen.sample(with_replacement=False).column('Stars')\n",
    "    shuffled = ramen.with_column('Shuffled Stars', shuffled_stars)\n",
    "    group_means = shuffled.group('Style', np.mean).column('Shuffled Stars mean')\n",
    "    difference = group_means[1] - group_means[0]\n",
    "    differences = np.append(differences, difference)\n",
    "differences"
   ]
  },
  {
   "cell_type": "code",
   "execution_count": 45,
   "metadata": {},
   "outputs": [
    {
     "data": {
      "text/plain": [
       "(-0.20487529086678302, 0.17153730366492148)"
      ]
     },
     "execution_count": 45,
     "metadata": {},
     "output_type": "execute_result"
    }
   ],
   "source": [
    "min(differences), max(differences)"
   ]
  },
  {
   "cell_type": "code",
   "execution_count": 49,
   "metadata": {},
   "outputs": [
    {
     "data": {
      "text/plain": [
       "(-0.178337987201862, 0.18649600058173377)"
      ]
     },
     "execution_count": 49,
     "metadata": {},
     "output_type": "execute_result"
    }
   ],
   "source": [
    "min(differences), max(differences)"
   ]
  },
  {
   "cell_type": "code",
   "execution_count": 49,
   "metadata": {},
   "outputs": [
    {
     "name": "stdout",
     "output_type": "stream",
     "text": [
      "~~~~~~~~~~~~~~~~~~~~~~~~~~~~~~~~~~~~~~~~~~~~~~~~~~~~~~~~~~~~~~~~~~~~~\n",
      "Running tests\n",
      "\n",
      "---------------------------------------------------------------------\n",
      "Test summary\n",
      "    Passed: 1\n",
      "    Failed: 0\n",
      "[ooooooooook] 100.0% passed\n",
      "\n"
     ]
    }
   ],
   "source": [
    "#: grade 5.4\n",
    "_ = ok.grade('q5_5')"
   ]
  },
  {
   "cell_type": "markdown",
   "metadata": {},
   "source": [
    "**Question 6.** Which of the follow choices best describes the purpose of the permutation test with regards to A/B testing? Assign either 1, 2, or 3 to `q5_5`.\n",
    "1. The permutation test generates a null distribution which we can use in testing our hypothesis.\n",
    "2. The permutation test mitigates noise in our data by generating new permutations of the data.\n",
    "3. The permutation test is a special case of the bootstrap and allows us to produce interval estimates."
   ]
  },
  {
   "cell_type": "code",
   "execution_count": 47,
   "metadata": {},
   "outputs": [],
   "source": [
    "q5_6 = 1"
   ]
  },
  {
   "cell_type": "code",
   "execution_count": 50,
   "metadata": {},
   "outputs": [
    {
     "data": {
      "image/png": "[encoded data removed]",
      "text/plain": [
       "<Figure size 432x288 with 1 Axes>"
      ]
     },
     "metadata": {},
     "output_type": "display_data"
    }
   ],
   "source": [
    "#: Just run this cell; do not change it\n",
    "Table().with_column('Difference in Mean', differences).hist()\n",
    "plt.scatter(observed_difference, 0, color='red', s=40);"
   ]
  },
  {
   "cell_type": "code",
   "execution_count": 51,
   "metadata": {},
   "outputs": [
    {
     "name": "stdout",
     "output_type": "stream",
     "text": [
      "~~~~~~~~~~~~~~~~~~~~~~~~~~~~~~~~~~~~~~~~~~~~~~~~~~~~~~~~~~~~~~~~~~~~~\n",
      "Running tests\n",
      "\n",
      "---------------------------------------------------------------------\n",
      "Test summary\n",
      "    Passed: 1\n",
      "    Failed: 0\n",
      "[ooooooooook] 100.0% passed\n",
      "\n"
     ]
    }
   ],
   "source": [
    "#: grade 5.6\n",
    "_ = ok.grade('q5_6')"
   ]
  },
  {
   "cell_type": "markdown",
   "metadata": {},
   "source": [
    "**Question 7.** Compute a p-value for the hypothesis. That is, under the null hypothesis, compute the probability that we would have obtained a difference equal to or lower than `observed_difference` by chance alone. Assign your answer to `p_val`."
   ]
  },
  {
   "cell_type": "code",
   "execution_count": 52,
   "metadata": {},
   "outputs": [
    {
     "data": {
      "text/plain": [
       "0.0"
      ]
     },
     "execution_count": 52,
     "metadata": {},
     "output_type": "execute_result"
    }
   ],
   "source": [
    "#...p_val\n",
    "p_val = np.count_nonzero(differences >= observed_difference) / len(differences)\n",
    "p_val"
   ]
  },
  {
   "cell_type": "code",
   "execution_count": null,
   "metadata": {},
   "outputs": [],
   "source": [
    "#: grade 5.7\n",
    "_ = ok.grade('q5_7')"
   ]
  },
  {
   "cell_type": "markdown",
   "metadata": {},
   "source": [
    "**Question 8.** Do you reject or fail to reject the null hypothesis at the 0.05 significance level? What conclusion can you make with regards to pack ramen and cup ramen? Explain your answer below. Be as specific as possible."
   ]
  },
  {
   "cell_type": "markdown",
   "metadata": {},
   "source": [
    "<hr style=\"color:Maroon;background-color:Maroon;border:0 none; height: 3px;\">\n",
    "\n",
    "We reject the null hypothesis. We can conclude with high probability that pack ramen star ratings are typically higher cup ramen star ratings.\n",
    "\n",
    "<hr style=\"color:Maroon;background-color:Maroon;border:0 none; height: 3px;\">"
   ]
  },
  {
   "cell_type": "markdown",
   "metadata": {},
   "source": [
    "**Question 9.** Suppose in this question you had shuffled the `Style` column and kept the `Stars` column in the same order. \n",
    "Which of the following is a true statement?\n",
    "\n",
    "1. Your new p-value would be 1 - (old p-value), where new p-value is with `Stars` shuffled and old p-value is with `Style` shuffled.\n",
    "2. We would conclude that pack ramen would have a lower star rating than cup ramen.\n",
    "3. The `Style` column cannot be shuffled because there are only two unique values.\n",
    "4. There is no difference in the A/B Test we had shuffled the `Style` column instead."
   ]
  },
  {
   "cell_type": "code",
   "execution_count": 54,
   "metadata": {},
   "outputs": [],
   "source": [
    "q5_9 = 4"
   ]
  },
  {
   "cell_type": "code",
   "execution_count": 55,
   "metadata": {},
   "outputs": [
    {
     "name": "stdout",
     "output_type": "stream",
     "text": [
      "~~~~~~~~~~~~~~~~~~~~~~~~~~~~~~~~~~~~~~~~~~~~~~~~~~~~~~~~~~~~~~~~~~~~~\n",
      "Running tests\n",
      "\n",
      "---------------------------------------------------------------------\n",
      "Test summary\n",
      "    Passed: 1\n",
      "    Failed: 0\n",
      "[ooooooooook] 100.0% passed\n",
      "\n"
     ]
    }
   ],
   "source": [
    "#: grade 5.9\n",
    "_ = ok.grade('q5_9')"
   ]
  },
  {
   "cell_type": "markdown",
   "metadata": {},
   "source": [
    "To submit:\n",
    "\n",
    "1. Select `Run All` from the `Cell` menu to ensure that you have executed all cells, including the test cells.\n",
    "3. Read through the notebook to make sure everything is fine.\n",
    "4. Submit using the cell below.\n",
    "5. Save PDF and submit to gradescope"
   ]
  },
  {
   "cell_type": "code",
   "execution_count": 54,
   "metadata": {},
   "outputs": [
    {
     "name": "stdout",
     "output_type": "stream",
     "text": [
      "~~~~~~~~~~~~~~~~~~~~~~~~~~~~~~~~~~~~~~~~~~~~~~~~~~~~~~~~~~~~~~~~~~~~~\n",
      "Running tests\n",
      "\n",
      "---------------------------------------------------------------------\n",
      "Test summary\n",
      "    Passed: 1\n",
      "    Failed: 0\n",
      "[ooooooooook] 100.0% passed\n",
      "\n",
      "~~~~~~~~~~~~~~~~~~~~~~~~~~~~~~~~~~~~~~~~~~~~~~~~~~~~~~~~~~~~~~~~~~~~~\n",
      "Running tests\n",
      "\n",
      "---------------------------------------------------------------------\n",
      "Test summary\n",
      "    Passed: 1\n",
      "    Failed: 0\n",
      "[ooooooooook] 100.0% passed\n",
      "\n",
      "~~~~~~~~~~~~~~~~~~~~~~~~~~~~~~~~~~~~~~~~~~~~~~~~~~~~~~~~~~~~~~~~~~~~~\n",
      "Running tests\n",
      "\n",
      "---------------------------------------------------------------------\n",
      "Test summary\n",
      "    Passed: 1\n",
      "    Failed: 0\n",
      "[ooooooooook] 100.0% passed\n",
      "\n",
      "~~~~~~~~~~~~~~~~~~~~~~~~~~~~~~~~~~~~~~~~~~~~~~~~~~~~~~~~~~~~~~~~~~~~~\n",
      "Running tests\n",
      "\n",
      "---------------------------------------------------------------------\n",
      "Test summary\n",
      "    Passed: 1\n",
      "    Failed: 0\n",
      "[ooooooooook] 100.0% passed\n",
      "\n",
      "~~~~~~~~~~~~~~~~~~~~~~~~~~~~~~~~~~~~~~~~~~~~~~~~~~~~~~~~~~~~~~~~~~~~~\n",
      "Running tests\n",
      "\n",
      "---------------------------------------------------------------------\n",
      "Test summary\n",
      "    Passed: 1\n",
      "    Failed: 0\n",
      "[ooooooooook] 100.0% passed\n",
      "\n",
      "~~~~~~~~~~~~~~~~~~~~~~~~~~~~~~~~~~~~~~~~~~~~~~~~~~~~~~~~~~~~~~~~~~~~~\n",
      "Running tests\n",
      "\n",
      "---------------------------------------------------------------------\n",
      "Test summary\n",
      "    Passed: 1\n",
      "    Failed: 0\n",
      "[ooooooooook] 100.0% passed\n",
      "\n",
      "~~~~~~~~~~~~~~~~~~~~~~~~~~~~~~~~~~~~~~~~~~~~~~~~~~~~~~~~~~~~~~~~~~~~~\n",
      "Running tests\n",
      "\n",
      "---------------------------------------------------------------------\n",
      "Test summary\n",
      "    Passed: 1\n",
      "    Failed: 0\n",
      "[ooooooooook] 100.0% passed\n",
      "\n",
      "~~~~~~~~~~~~~~~~~~~~~~~~~~~~~~~~~~~~~~~~~~~~~~~~~~~~~~~~~~~~~~~~~~~~~\n",
      "Running tests\n",
      "\n",
      "---------------------------------------------------------------------\n",
      "Test summary\n",
      "    Passed: 1\n",
      "    Failed: 0\n",
      "[ooooooooook] 100.0% passed\n",
      "\n",
      "~~~~~~~~~~~~~~~~~~~~~~~~~~~~~~~~~~~~~~~~~~~~~~~~~~~~~~~~~~~~~~~~~~~~~\n",
      "Running tests\n",
      "\n",
      "---------------------------------------------------------------------\n",
      "Test summary\n",
      "    Passed: 1\n",
      "    Failed: 0\n",
      "[ooooooooook] 100.0% passed\n",
      "\n",
      "~~~~~~~~~~~~~~~~~~~~~~~~~~~~~~~~~~~~~~~~~~~~~~~~~~~~~~~~~~~~~~~~~~~~~\n",
      "Running tests\n",
      "\n",
      "---------------------------------------------------------------------\n",
      "Test summary\n",
      "    Passed: 1\n",
      "    Failed: 0\n",
      "[ooooooooook] 100.0% passed\n",
      "\n",
      "~~~~~~~~~~~~~~~~~~~~~~~~~~~~~~~~~~~~~~~~~~~~~~~~~~~~~~~~~~~~~~~~~~~~~\n",
      "Running tests\n",
      "\n",
      "---------------------------------------------------------------------\n",
      "Test summary\n",
      "    Passed: 1\n",
      "    Failed: 0\n",
      "[ooooooooook] 100.0% passed\n",
      "\n",
      "~~~~~~~~~~~~~~~~~~~~~~~~~~~~~~~~~~~~~~~~~~~~~~~~~~~~~~~~~~~~~~~~~~~~~\n",
      "Running tests\n",
      "\n",
      "---------------------------------------------------------------------\n",
      "Test summary\n",
      "    Passed: 1\n",
      "    Failed: 0\n",
      "[ooooooooook] 100.0% passed\n",
      "\n",
      "~~~~~~~~~~~~~~~~~~~~~~~~~~~~~~~~~~~~~~~~~~~~~~~~~~~~~~~~~~~~~~~~~~~~~\n",
      "Running tests\n",
      "\n",
      "---------------------------------------------------------------------\n",
      "Test summary\n",
      "    Passed: 1\n",
      "    Failed: 0\n",
      "[ooooooooook] 100.0% passed\n",
      "\n",
      "~~~~~~~~~~~~~~~~~~~~~~~~~~~~~~~~~~~~~~~~~~~~~~~~~~~~~~~~~~~~~~~~~~~~~\n",
      "Running tests\n",
      "\n",
      "---------------------------------------------------------------------\n",
      "Test summary\n",
      "    Passed: 1\n",
      "    Failed: 0\n",
      "[ooooooooook] 100.0% passed\n",
      "\n",
      "~~~~~~~~~~~~~~~~~~~~~~~~~~~~~~~~~~~~~~~~~~~~~~~~~~~~~~~~~~~~~~~~~~~~~\n",
      "Running tests\n",
      "\n",
      "---------------------------------------------------------------------\n",
      "Test summary\n",
      "    Passed: 1\n",
      "    Failed: 0\n",
      "[ooooooooook] 100.0% passed\n",
      "\n",
      "~~~~~~~~~~~~~~~~~~~~~~~~~~~~~~~~~~~~~~~~~~~~~~~~~~~~~~~~~~~~~~~~~~~~~\n",
      "Running tests\n",
      "\n",
      "---------------------------------------------------------------------\n",
      "Test summary\n",
      "    Passed: 1\n",
      "    Failed: 0\n",
      "[ooooooooook] 100.0% passed\n",
      "\n",
      "~~~~~~~~~~~~~~~~~~~~~~~~~~~~~~~~~~~~~~~~~~~~~~~~~~~~~~~~~~~~~~~~~~~~~\n",
      "Running tests\n",
      "\n",
      "---------------------------------------------------------------------\n",
      "Test summary\n",
      "    Passed: 1\n",
      "    Failed: 0\n",
      "[ooooooooook] 100.0% passed\n",
      "\n",
      "~~~~~~~~~~~~~~~~~~~~~~~~~~~~~~~~~~~~~~~~~~~~~~~~~~~~~~~~~~~~~~~~~~~~~\n",
      "Running tests\n",
      "\n",
      "---------------------------------------------------------------------\n",
      "Test summary\n",
      "    Passed: 1\n",
      "    Failed: 0\n",
      "[ooooooooook] 100.0% passed\n",
      "\n",
      "~~~~~~~~~~~~~~~~~~~~~~~~~~~~~~~~~~~~~~~~~~~~~~~~~~~~~~~~~~~~~~~~~~~~~\n",
      "Running tests\n",
      "\n",
      "---------------------------------------------------------------------\n",
      "Test summary\n",
      "    Passed: 1\n",
      "    Failed: 0\n",
      "[ooooooooook] 100.0% passed\n",
      "\n",
      "~~~~~~~~~~~~~~~~~~~~~~~~~~~~~~~~~~~~~~~~~~~~~~~~~~~~~~~~~~~~~~~~~~~~~\n",
      "Running tests\n",
      "\n",
      "---------------------------------------------------------------------\n",
      "Test summary\n",
      "    Passed: 1\n",
      "    Failed: 0\n",
      "[ooooooooook] 100.0% passed\n",
      "\n",
      "~~~~~~~~~~~~~~~~~~~~~~~~~~~~~~~~~~~~~~~~~~~~~~~~~~~~~~~~~~~~~~~~~~~~~\n",
      "Running tests\n",
      "\n",
      "---------------------------------------------------------------------\n",
      "Test summary\n",
      "    Passed: 1\n",
      "    Failed: 0\n",
      "[ooooooooook] 100.0% passed\n",
      "\n",
      "~~~~~~~~~~~~~~~~~~~~~~~~~~~~~~~~~~~~~~~~~~~~~~~~~~~~~~~~~~~~~~~~~~~~~\n",
      "Running tests\n",
      "\n",
      "---------------------------------------------------------------------\n",
      "Test summary\n",
      "    Passed: 1\n",
      "    Failed: 0\n",
      "[ooooooooook] 100.0% passed\n",
      "\n",
      "~~~~~~~~~~~~~~~~~~~~~~~~~~~~~~~~~~~~~~~~~~~~~~~~~~~~~~~~~~~~~~~~~~~~~\n",
      "Running tests\n",
      "\n",
      "---------------------------------------------------------------------\n",
      "Test summary\n",
      "    Passed: 1\n",
      "    Failed: 0\n",
      "[ooooooooook] 100.0% passed\n",
      "\n"
     ]
    }
   ],
   "source": [
    "#: For your convenience, you can run this cell to run all the tests at once!\n",
    "import os\n",
    "_ = [ok.grade(q[:-3]) for q in os.listdir('tests') if q.startswith('q')]"
   ]
  },
  {
   "cell_type": "markdown",
   "metadata": {},
   "source": [
    "## Before submitting, select \"Kernel\" -> \"Restart & Run All\" from the menu!\n",
    "\n",
    "Then make sure that all of your cells ran without error."
   ]
  },
  {
   "cell_type": "code",
   "execution_count": null,
   "metadata": {},
   "outputs": [],
   "source": [
    "#: submit your notebook\n",
    "_ = ok.submit()"
   ]
  },
  {
   "cell_type": "markdown",
   "metadata": {},
   "source": [
    "## Don't forget to submit to both OK and Gradescope!"
   ]
  }
 ],
 "metadata": {
  "kernelspec": {
   "display_name": "Python 3",
   "language": "python",
   "name": "python3"
  },
  "language_info": {
   "codemirror_mode": {
    "name": "ipython",
    "version": 3
   },
   "file_extension": ".py",
   "mimetype": "text/x-python",
   "name": "python",
   "nbconvert_exporter": "python",
   "pygments_lexer": "ipython3",
   "version": "3.6.2"
  }
 },
 "nbformat": 4,
 "nbformat_minor": 2
}
