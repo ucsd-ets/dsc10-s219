{
 "cells": [
  {
   "cell_type": "markdown",
   "metadata": {},
   "source": [
    "# Homework 6: Probability and Hypothesis Testing\n",
    "## Due Friday August 30th at 11:59pm\n",
    "\n",
    "Directly sharing answers is not okay, but discussing problems with the course staff or with other students is encouraged. \n",
    "\n",
    "You should start early so that you have time to get help if you're stuck."
   ]
  },
  {
   "cell_type": "code",
   "execution_count": null,
   "metadata": {},
   "outputs": [],
   "source": [
    "#: Don't change this cell; just run it. \n",
    "\n",
    "import math\n",
    "import numpy as np\n",
    "from datascience import *\n",
    "\n",
    "%matplotlib inline\n",
    "import matplotlib.pyplot as plt\n",
    "plt.style.use('fivethirtyeight')\n",
    "\n",
    "from client.api.notebook import Notebook\n",
    "ok = Notebook('hw06.ok')\n",
    "_ = ok.auth(inline=True)"
   ]
  },
  {
   "cell_type": "markdown",
   "metadata": {},
   "source": [
    "**Important**: The `ok` tests don't usually tell you that your answer is correct. More often, they help catch careless mistakes. It's up to you to ensure that your answer is correct. If you're not sure, ask someone (not for the answer, but for some guidance about your approach)."
   ]
  },
  {
   "cell_type": "markdown",
   "metadata": {},
   "source": [
    "Once you're finished, you must do two things:\n",
    "\n",
    "### a. Turn into OK\n",
    "Select \"Save and Checkpoint\" in the File menu and then execute the `submit` cell below. The result will contain a link that you can use to check that your assignment has been submitted successfully. If you submit more than once before the deadline, we will only grade your final submission."
   ]
  },
  {
   "cell_type": "code",
   "execution_count": null,
   "metadata": {},
   "outputs": [],
   "source": [
    "#: turn in your notebook\n",
    "_ = ok.submit()"
   ]
  },
  {
   "cell_type": "markdown",
   "metadata": {},
   "source": [
    "### b. Turn PDF into Gradescope\n",
    "Select File > Download As > PDF via LaTeX in the File menu. Turn in this PDF file into the respective assignement at https://gradescope.com/.\n",
    "<br>\n",
    "If you submit more than once before the deadline, we will only grade your final submission"
   ]
  },
  {
   "cell_type": "markdown",
   "metadata": {},
   "source": [
    "## 1. Student IDs and Hydroflasks"
   ]
  },
  {
   "cell_type": "markdown",
   "metadata": {},
   "source": [
    "Suppose you are a good Samaritan with a great eye for lost items. As you walk around campus you find lost student ids and hydroflasks, and you post them on the Facebook group [UCSD Lost and Found](https://www.facebook.com/groups/ucsdlostandfound/) for the owners to find. Read `lost.csv` into a table called `lost_table`."
   ]
  },
  {
   "cell_type": "code",
   "execution_count": null,
   "metadata": {},
   "outputs": [],
   "source": [
    "lost_table = ...\n",
    "lost_table"
   ]
  },
  {
   "cell_type": "markdown",
   "metadata": {},
   "source": [
    "**Question 1.** You're interested in the proportion of ids that you've found. Calculate the true proportion of ids and store it in the variable `ids_true_prop`."
   ]
  },
  {
   "cell_type": "code",
   "execution_count": null,
   "metadata": {},
   "outputs": [],
   "source": [
    "ids_true_prop = ...\n",
    "ids_true_prop"
   ]
  },
  {
   "cell_type": "code",
   "execution_count": null,
   "metadata": {},
   "outputs": [],
   "source": [
    "#: grade 1.1\n",
    "_ = ok.grade('q1_1')"
   ]
  },
  {
   "cell_type": "markdown",
   "metadata": {},
   "source": [
    "**Question 2.** You are only able to randomly sample 150 different lost items. Which of the following would create a representative sample of lost items? Assign 1, 2, or 3 to `q1_2`.\n",
    "\n",
    "1. `lost_table.take(np.arange(150))`\n",
    "2. `lost_table.sample(150, with_replacement=False)`\n",
    "3. `lost_table.sample(150, with_replacement=True)`"
   ]
  },
  {
   "cell_type": "code",
   "execution_count": null,
   "metadata": {},
   "outputs": [],
   "source": [
    "q1_2 = ..."
   ]
  },
  {
   "cell_type": "code",
   "execution_count": null,
   "metadata": {},
   "outputs": [],
   "source": [
    "#: grade 1.2\n",
    "_ = ok.grade('q1_2')"
   ]
  },
  {
   "cell_type": "markdown",
   "metadata": {},
   "source": [
    "**Question 3.** You pick 150 different lost items using the sampling method you chose in question 2 above. Write a function called `pick_150_items` that simulates this. Specifically, the function should take no arguments and should return a table of 150 lost items selected as per your choice in question 2."
   ]
  },
  {
   "cell_type": "code",
   "execution_count": null,
   "metadata": {},
   "outputs": [],
   "source": [
    "# Place your answer here. \n"
   ]
  },
  {
   "cell_type": "code",
   "execution_count": null,
   "metadata": {},
   "outputs": [],
   "source": [
    "#: grade 1.3\n",
    "_ = ok.grade('q1_3')"
   ]
  },
  {
   "cell_type": "markdown",
   "metadata": {},
   "source": [
    "**Question 4.** As we mentioned, you are interested in knowing the true proportion of student ids of all the lost items you've found, but you can only look through 150 items at a time. Hence, you simulate this experiment in 500 trials. For each trial, you decide to calculate the proportion of student ids. Simulate the experiment and store the *array* of proportions in the variable `ids_empirical_props`."
   ]
  },
  {
   "cell_type": "code",
   "execution_count": null,
   "metadata": {},
   "outputs": [],
   "source": [
    "# Place your answer here. It may contain several lines of code.\n"
   ]
  },
  {
   "cell_type": "code",
   "execution_count": null,
   "metadata": {},
   "outputs": [],
   "source": [
    "#: grade 1.4\n",
    "_ = ok.grade('q1_4')"
   ]
  },
  {
   "cell_type": "markdown",
   "metadata": {},
   "source": [
    "**Question 5.** Now, compute the average of `ids_empirical_props`. You claim that this average is a good estimate of the proportion of student ids. Store your proportion in `ids_claim_prop`."
   ]
  },
  {
   "cell_type": "code",
   "execution_count": null,
   "metadata": {},
   "outputs": [],
   "source": [
    "ids_claim_prop = ...\n",
    "ids_claim_prop"
   ]
  },
  {
   "cell_type": "code",
   "execution_count": null,
   "metadata": {},
   "outputs": [],
   "source": [
    "#: grade 1.5\n",
    "_ = ok.grade('q1_5')"
   ]
  },
  {
   "cell_type": "markdown",
   "metadata": {},
   "source": [
    "**Question 6.**  How far away is your claim from the true proportion of student ids? Compute the absolute difference between the two and store it in the variable `error`. Remember that you calculated the true proportion of ids in Question 1."
   ]
  },
  {
   "cell_type": "code",
   "execution_count": null,
   "metadata": {},
   "outputs": [],
   "source": [
    "error = ...\n",
    "error"
   ]
  },
  {
   "cell_type": "code",
   "execution_count": null,
   "metadata": {},
   "outputs": [],
   "source": [
    "#: grade 1.6\n",
    "_ = ok.grade('q1_6')"
   ]
  },
  {
   "cell_type": "markdown",
   "metadata": {},
   "source": [
    "## 2. Broken Phones"
   ]
  },
  {
   "cell_type": "markdown",
   "metadata": {},
   "source": [
    "A phone manufacturing company claims that it produces phones that are 99% non-faulty. In other words, only 1% of the phones that they manufacture have some fault in them. They open a retail shop in the friendly neighbourhood of La Jolla. Because the phones are cheap and nice, 100 UCSD students have bought phones at this shop. However, it is soon discovered that four of the students had faulty phones. You're angry and argue that the company's claim is wrong. But the company is adament that they are right. You decide to investigate."
   ]
  },
  {
   "cell_type": "markdown",
   "metadata": {},
   "source": [
    "**Question 1.** Assign `null_probabilities` to a two-item *array* such that the first element contains the chance of a phone being functioning and the second element contains the chance that the phone is faulty under the **null hypothesis**."
   ]
  },
  {
   "cell_type": "code",
   "execution_count": null,
   "metadata": {},
   "outputs": [],
   "source": [
    "null_probabilities = ...\n",
    "null_probabilities"
   ]
  },
  {
   "cell_type": "code",
   "execution_count": null,
   "metadata": {},
   "outputs": [],
   "source": [
    "#: grade 2.1\n",
    "_ = ok.grade('q2_1')"
   ]
  },
  {
   "cell_type": "markdown",
   "metadata": {},
   "source": [
    "**Question 2.** Simulate the buying of 100 phones 5,000 times, using the proportions that you assigned to `null_probabilities`. Create an *array* `simulations` with the number of faulty phones in each simulation.\n",
    "\n",
    "Note that the number of faulty phones in a simulation of sample size $x$ is the proportion of faulty phones in the simulation multiplied by $x$.\n",
    "\n",
    "*Hint:* Use `sample_proportions()`."
   ]
  },
  {
   "cell_type": "code",
   "execution_count": null,
   "metadata": {},
   "outputs": [],
   "source": [
    "# Place your answer here. It may contain several lines of code.\n"
   ]
  },
  {
   "cell_type": "code",
   "execution_count": null,
   "metadata": {},
   "outputs": [],
   "source": [
    "#: Consider the resulting histogram of the fault_statistics array\n",
    "Table().with_column(\"Faulty Statistic\", simulations).hist(bins=np.arange(8))"
   ]
  },
  {
   "cell_type": "code",
   "execution_count": null,
   "metadata": {},
   "outputs": [],
   "source": [
    "#: grade 2.2\n",
    "_ = ok.grade('q2_2')"
   ]
  },
  {
   "cell_type": "markdown",
   "metadata": {},
   "source": [
    "**Question 3.** Using the results of your simulation, calculate an estimate of the p-value, i.e., the probability of observing four or more faulty phones under the null hypothesis. Assign your answer to `p_value_2_3`"
   ]
  },
  {
   "cell_type": "code",
   "execution_count": null,
   "metadata": {},
   "outputs": [],
   "source": [
    "p_value_2_3 = ...\n",
    "p_value_2_3"
   ]
  },
  {
   "cell_type": "code",
   "execution_count": null,
   "metadata": {},
   "outputs": [],
   "source": [
    "#: grade 2.3\n",
    "_ = ok.grade('q2_3')"
   ]
  },
  {
   "cell_type": "markdown",
   "metadata": {},
   "source": [
    "**Question 4.** State precisely the null hypothesis and the alternative hypothesis for this experiment. Now that you have the results of your simulation, which hypothesis do you think is true? Explain."
   ]
  },
  {
   "cell_type": "markdown",
   "metadata": {},
   "source": [
    "<hr style=\"color:Maroon;background-color:Maroon;border:0 none; height: 3px;\">\n",
    "\n",
    "*Write your answer here.*\n",
    "\n",
    "<hr style=\"color:Maroon;background-color:Maroon;border:0 none; height: 3px;\">"
   ]
  },
  {
   "cell_type": "markdown",
   "metadata": {},
   "source": [
    "## 3. Bias towards customers"
   ]
  },
  {
   "cell_type": "markdown",
   "metadata": {},
   "source": [
    "The insurance company LivLife10 classifies its customers into 3 categories - low-income, mid-income and high-income. The company claims that it treats all of its customers equally and makes no compromises on the quality of the products that it provides. You know that the company has 10,000 customers, 40% of which are low-income customers, 30% mid-income and 30% high-income customers. However, over the past year, 60% of the complaints that the company has received are from low-income customers, 30% from mid-income customers and 10% from high-income customers. "
   ]
  },
  {
   "cell_type": "code",
   "execution_count": null,
   "metadata": {},
   "outputs": [],
   "source": [
    "#: Don't change the below three lines\n",
    "type_of_customers = [\"low-income\", \"mid-income\", \"high-income\"]\n",
    "proportion_of_customers = np.array([0.4, 0.3, 0.3])\n",
    "proportion_of_complaints = np.array([0.6, 0.3, 0.1])\n",
    "\n",
    "insurance_customers = Table().with_columns(\n",
    "                        \"Type of Customers\", type_of_customers,\n",
    "                        \"Proportion of Customers\", proportion_of_customers,\n",
    "                        \"Proportion of Complaints\", proportion_of_complaints)\n",
    "insurance_customers"
   ]
  },
  {
   "cell_type": "markdown",
   "metadata": {},
   "source": [
    "You have a suspicion that the insurance company is biased towards its high-income customers. That is, the insurance company is providing a better product to the high-income customers than to others. A better product is one that generates lesser complaints. You decide to test your idea. Your null hypothesis is:\n",
    "\n",
    "**Null hypothesis**: The complaints are drawn from the population according to the proportion of customers which are low-, mid-, and high-income."
   ]
  },
  {
   "cell_type": "markdown",
   "metadata": {},
   "source": [
    "**Question 1.** What is the expected proportion of complaints that should be heard from the high-income customers under the null hypothesis? Assign your answer to `complaints_proportion_null`."
   ]
  },
  {
   "cell_type": "code",
   "execution_count": null,
   "metadata": {},
   "outputs": [],
   "source": [
    "complaints_proportion_null = ...\n",
    "complaints_proportion_null"
   ]
  },
  {
   "cell_type": "code",
   "execution_count": null,
   "metadata": {},
   "outputs": [],
   "source": [
    "#: grade 3.1\n",
    "_ = ok.grade('q3_1')"
   ]
  },
  {
   "cell_type": "markdown",
   "metadata": {},
   "source": [
    "**Question 2.** You wish to check the bias in the insurance company towards different categories of customers. However, there are three categories of customers: high-, mid-, and low-income. Which among the following do you think is **not** a reasonable choice of test statistic for your hypothesis. You may include more than one answer. Append all your choices in a *list* called `unreasonable_test_statistics`. For example, if you think statistics 1, 2, and 3 are unreasonable, you should have `unreasonable_test_statistics = [1,2,3]`\n",
    "\n",
    "1. Average of the absolute difference between proportion of customers and proportion of corresponding complaints\n",
    "2. The total number of complaints that the company has received in the past year\n",
    "3. The absolute difference between the sum of proportion of customers and the sum of proportion of corresponding complaints\n",
    "4. The total variation distance between the probability distribution of customers and the distribution of complaints\n",
    "5. Sum of the absolute difference between proportion of customers and proportion of corresponding complaints\n",
    "6. Average of the sum of the proportion of customers and the proportion of corresponding complaints"
   ]
  },
  {
   "cell_type": "code",
   "execution_count": null,
   "metadata": {},
   "outputs": [],
   "source": [
    "unreasonable_test_statistics = ...\n",
    "unreasonable_test_statistics"
   ]
  },
  {
   "cell_type": "code",
   "execution_count": null,
   "metadata": {},
   "outputs": [],
   "source": [
    "#: grade 3.2\n",
    "_ = ok.grade('q3_2')"
   ]
  },
  {
   "cell_type": "markdown",
   "metadata": {},
   "source": [
    "**Question 3.** Say you went ahead with the total variation distance as your test statistic\n",
    "\n",
    "Write a function called `total_variation_distance` that takes in two probability distributions as arrays and calculates the total variation distance between them."
   ]
  },
  {
   "cell_type": "code",
   "execution_count": null,
   "metadata": {},
   "outputs": [],
   "source": [
    "# Place your answer here. It may contain several lines of code.\n"
   ]
  },
  {
   "cell_type": "code",
   "execution_count": null,
   "metadata": {},
   "outputs": [],
   "source": [
    "#: Use the below code to test your function\n",
    "total_variation_distance(np.array([1,0,0]), np.array([0,0,1]))  # Output should be 1.0"
   ]
  },
  {
   "cell_type": "code",
   "execution_count": null,
   "metadata": {},
   "outputs": [],
   "source": [
    "#: grade 3.3\n",
    "_ = ok.grade('q3_3')"
   ]
  },
  {
   "cell_type": "markdown",
   "metadata": {},
   "source": [
    "**Question 4.** Write a simulation which computes the TVD statistic 5000 times on data generated under the null hypothesis. Save the simulated statistics in an *array* called `empirical_tvds`.\n",
    "\n",
    "*Hint:* Use `sample_proportions`."
   ]
  },
  {
   "cell_type": "code",
   "execution_count": null,
   "metadata": {},
   "outputs": [],
   "source": [
    "# Place your answer here. It may contain several lines of code.\n"
   ]
  },
  {
   "cell_type": "code",
   "execution_count": null,
   "metadata": {},
   "outputs": [],
   "source": [
    "#: grade 3.4\n",
    "_ = ok.grade('q3_4')"
   ]
  },
  {
   "cell_type": "markdown",
   "metadata": {},
   "source": [
    "**Question 5.** Calculate the total variation distance in the actual scenario, that is, the observed scenario. Save the result in `observed_tvd`."
   ]
  },
  {
   "cell_type": "code",
   "execution_count": null,
   "metadata": {},
   "outputs": [],
   "source": [
    "observed_tvd = ...\n",
    "observed_tvd"
   ]
  },
  {
   "cell_type": "markdown",
   "metadata": {},
   "source": [
    "Let us plot a histogram of `empirical_tvds` and compare that to our `observed_tvd`"
   ]
  },
  {
   "cell_type": "code",
   "execution_count": null,
   "metadata": {},
   "outputs": [],
   "source": [
    "#: Visualize\n",
    "Table().with_column(\"Empirical TVDs\", empirical_tvds).hist()\n",
    "plt.scatter(observed_tvd, 0, color='red', s=30)"
   ]
  },
  {
   "cell_type": "code",
   "execution_count": null,
   "metadata": {},
   "outputs": [],
   "source": [
    "#: grade 3.5\n",
    "_ = ok.grade('q3_5')"
   ]
  },
  {
   "cell_type": "markdown",
   "metadata": {},
   "source": [
    "**Question 6.** Recall that the null hypothesis was that the complaints are drawn from the population according to the proportion of customers which where low-, mid-, and high-income.\n",
    "Looking at the histogram above, do you think it is likely that the null hypothesis is true? Write your answer in the variable `insurance_claim_true`. The value of the boolean variable should be `True` if you agree that the null hypothesis is true, and `False` otherwise."
   ]
  },
  {
   "cell_type": "code",
   "execution_count": null,
   "metadata": {},
   "outputs": [],
   "source": [
    "insurance_claim_true = ...\n",
    "insurance_claim_true"
   ]
  },
  {
   "cell_type": "code",
   "execution_count": null,
   "metadata": {},
   "outputs": [],
   "source": [
    "#: grade 3.6\n",
    "_ = ok.grade('q3_6')"
   ]
  },
  {
   "cell_type": "markdown",
   "metadata": {},
   "source": [
    "**Question 7.** Does this data show that the insurance company is providing a worse product to certain individuals because of their lower income level?"
   ]
  },
  {
   "cell_type": "markdown",
   "metadata": {},
   "source": [
    "<hr style=\"color:Maroon;background-color:Maroon;border:0 none; height: 3px;\">\n",
    "\n",
    "*Write your answer here.*\n",
    "\n",
    "<hr style=\"color:Maroon;background-color:Maroon;border:0 none; height: 3px;\">"
   ]
  },
  {
   "cell_type": "markdown",
   "metadata": {},
   "source": [
    "## 4. NBA Playoff Season"
   ]
  },
  {
   "cell_type": "markdown",
   "metadata": {},
   "source": [
    "It's the NBA playoffs, a tournament featuring basketball teams, and you want to see what the odds are that your favorite team wins! Conveniently, your friend is also Doctor Strange, who has the ability to see the future for us."
   ]
  },
  {
   "cell_type": "markdown",
   "metadata": {},
   "source": [
    "**Question 1.** A statistical forecasting website called FiveThirtyEight has projections that predict the odds of each team winning. Assume that the four teams in the tournament are: The Warriors, Bucks, Raptors, and Blazers. Pretend that FiveThirtyEight predicts that the Warriors have a 60% chance of winning, the Bucks have a 20% chance of winning, the Raptors have a 15% chance of winning, and the Blazers with a 5% chance of winning.\n",
    "\n",
    "Write down FiveThirtyEight's probability distribution as an *array*. It should contain 4 elements, each describing the probability of a team winning the tournament, and it should sum to 1. Name this array `hypothesis_model_distribution`."
   ]
  },
  {
   "cell_type": "code",
   "execution_count": null,
   "metadata": {},
   "outputs": [],
   "source": [
    "hypothesis_model_distribution = ...\n",
    "hypothesis_model_distribution"
   ]
  },
  {
   "cell_type": "code",
   "execution_count": null,
   "metadata": {},
   "outputs": [],
   "source": [
    "#: grade 4.1\n",
    "_ = ok.grade('q4_1')"
   ]
  },
  {
   "cell_type": "markdown",
   "metadata": {},
   "source": [
    "**Question 2.** Say we want to test FiveThirtyEight's model. In particular, we wish to test if the probability that the Warriors win is 60%. Pretend your friend is Doctor Strange who can see  different versions of the future. He says that in 10 future realities, the Warriors win 9 out of 10 times! Greatly disturbed, you claim that FiveThirtyEight's model is wrong, but in order to substantiate your claim,  you need to simulate the process of seeing 10 futures under the assumptions of FiveThirtyEight's model, and determine how unlikely Doctor Strange's prediction really is.\n",
    "\n",
    "Write a simulation and run it 5000 times, maintaining an array differences which keeps track of the absolute difference between the number of times the Warriors won, out of 10, and the expected number (6) in each simulation."
   ]
  },
  {
   "cell_type": "code",
   "execution_count": null,
   "metadata": {},
   "outputs": [],
   "source": [
    "# Place your answer here. It may contain several lines of code.\n"
   ]
  },
  {
   "cell_type": "code",
   "execution_count": null,
   "metadata": {},
   "outputs": [],
   "source": [
    "#: Visualize with a histogram\n",
    "Table().with_column(\"Difference\", differences).hist(bins=np.arange(7))"
   ]
  },
  {
   "cell_type": "code",
   "execution_count": null,
   "metadata": {},
   "outputs": [],
   "source": [
    "#: grade 4.2\n",
    "_ = ok.grade('q4_2')"
   ]
  },
  {
   "cell_type": "markdown",
   "metadata": {},
   "source": [
    "**Question 3.** Recall that we saw the Warriors win 9 of 10 times. Set the variable `null_hypothesis_boolean` below to `True` if you think FiveThirtyEight's model is plausible or `False` if it should be rejected."
   ]
  },
  {
   "cell_type": "code",
   "execution_count": null,
   "metadata": {},
   "outputs": [],
   "source": [
    "null_hypothesis_boolean = ...\n",
    "null_hypothesis_boolean"
   ]
  },
  {
   "cell_type": "code",
   "execution_count": null,
   "metadata": {},
   "outputs": [],
   "source": [
    "#: grade 4.3\n",
    "_ = ok.grade('q4_3')"
   ]
  },
  {
   "cell_type": "markdown",
   "metadata": {},
   "source": [
    "**Question 4.** Now, we check the p-value of our claim. That is, compute the proportion of times in our simulation that we saw a difference of 3 or more between the number of wins and the expected number of wins. Assign your result to `p_value_4_4`"
   ]
  },
  {
   "cell_type": "code",
   "execution_count": null,
   "metadata": {},
   "outputs": [],
   "source": [
    "p_value_4_4 = ...\n",
    "p_value_4_4"
   ]
  },
  {
   "cell_type": "code",
   "execution_count": null,
   "metadata": {},
   "outputs": [],
   "source": [
    "#: grade 4.4\n",
    "_ = ok.grade('q4_4')"
   ]
  },
  {
   "cell_type": "markdown",
   "metadata": {},
   "source": [
    "## 5. Ramen Ratings"
   ]
  },
  {
   "cell_type": "markdown",
   "metadata": {},
   "source": [
    "![](menya.jpg)"
   ]
  },
  {
   "cell_type": "markdown",
   "metadata": {},
   "source": [
    "In this question, we will be using a ramen rating dataset to better our understanding of A/B testing. The dataset can be found on [kaggle](https://www.kaggle.com/residentmario/ramen-ratings). But the dataset has been cleaned and condensed for the purpose of this question. We also recommend eating at [Menya Ultra](http://menya-ultra.com/) before doing this question, as we did before we wrote this question."
   ]
  },
  {
   "cell_type": "markdown",
   "metadata": {},
   "source": [
    "**Question 1**. The ramen data is recorded in a CSV file called ramen.csv. It contains five columns: `Brand`, `Variety`, `Style`, `Country`, `Stars`. Read this file into a table called `ramen`."
   ]
  },
  {
   "cell_type": "code",
   "execution_count": null,
   "metadata": {},
   "outputs": [],
   "source": [
    "ramen = ...\n",
    "ramen"
   ]
  },
  {
   "cell_type": "code",
   "execution_count": null,
   "metadata": {},
   "outputs": [],
   "source": [
    "_ = ok.grade('q5_1')"
   ]
  },
  {
   "cell_type": "markdown",
   "metadata": {},
   "source": [
    "**Question 2**. You may have noticed that the `Stars` column has strings instead of floats. Because we cannot compute numbers with strings, we need to convert them into floats. Change the `Stars` column so that all the data values are floats, and then resave that new table as `ramen` again. Find the mean star rating of all the ramen, and save it into a variable called `mean_star`."
   ]
  },
  {
   "cell_type": "code",
   "execution_count": null,
   "metadata": {},
   "outputs": [],
   "source": [
    "mean_star = ...\n",
    "mean_star"
   ]
  },
  {
   "cell_type": "code",
   "execution_count": null,
   "metadata": {},
   "outputs": [],
   "source": [
    "_ = ok.grade('q5_2')"
   ]
  },
  {
   "cell_type": "markdown",
   "metadata": {},
   "source": [
    "**Question 3.** Notice that the two styles are \"Pack\" and \"Cup\". Using `ramen`, calculate the difference between the mean  stars between Pack and Cup. Assign your answer to `observed_difference`.\n",
    "\n",
    "$$\\text{observed difference} := \\text{mean Pack stars} - \\text{mean Cup stars}$$"
   ]
  },
  {
   "cell_type": "code",
   "execution_count": null,
   "metadata": {},
   "outputs": [],
   "source": [
    "observed_difference = ...\n",
    "observed_difference"
   ]
  },
  {
   "cell_type": "code",
   "execution_count": null,
   "metadata": {},
   "outputs": [],
   "source": [
    "_ = ok.grade('q5_3')"
   ]
  },
  {
   "cell_type": "markdown",
   "metadata": {},
   "source": [
    "**Question 4.** Interpret in words the number you obtained for `observed_difference`. Explain your answer below. Be as specific as possible."
   ]
  },
  {
   "cell_type": "markdown",
   "metadata": {},
   "source": [
    "<hr style=\"color:Maroon;background-color:Maroon;border:0 none; height: 3px;\">\n",
    "\n",
    "*Write your answer here.*\n",
    "\n",
    "<hr style=\"color:Maroon;background-color:Maroon;border:0 none; height: 3px;\">"
   ]
  },
  {
   "cell_type": "markdown",
   "metadata": {},
   "source": [
    "Now we want to conduct an A/B test (i.e. Permutation Test) to see if the by chance that the average star rating for pack was greater than cup. To remind you on the process of an A/B test, here is the textbook reference for the [process](https://www.inferentialthinking.com/chapters/12/1/AB_Testing.html). In your upcoming A/B test, we want to shuffle the `Stars` column and will keep the `Style` column in the same order.\n",
    "\n",
    "\n",
    "**Null hypothesis:** Star ratings on pack ramen and cup ramen come from the same distribution.  \n",
    "**Alternative hypothesis:** Star ratings on pack ramen is typically higher than cup ramen.\n",
    "\n",
    "Note: To make your simulation go faster, we want to drop the irrelevant columns before our A/B test. In other words, `ramen` could only need the `Stars` and `Style` column."
   ]
  },
  {
   "cell_type": "markdown",
   "metadata": {},
   "source": [
    "**Question 5.** Use a permutation test to calculate 5,000 differences using random permutations of the data. Store your 5,000 differences in the `differences` array."
   ]
  },
  {
   "cell_type": "code",
   "execution_count": null,
   "metadata": {},
   "outputs": [],
   "source": [
    "# differences = ...\n",
    "# for ... in ...:\n",
    "#     shuffled = ...\n",
    "#     difference = ...\n",
    "#     differences = ..."
   ]
  },
  {
   "cell_type": "code",
   "execution_count": null,
   "metadata": {},
   "outputs": [],
   "source": [
    "_ = ok.grade('q5_5')"
   ]
  },
  {
   "cell_type": "markdown",
   "metadata": {},
   "source": [
    "**Question 6.** Which of the follow choices best describes the purpose of the permutation test with regards to A/B testing? Assign either 1, 2, or 3 to `q5_5`.\n",
    "1. The permutation test generates a null distribution which we can use in testing our hypothesis.\n",
    "2. The permutation test mitigates noise in our data by generating new permutations of the data.\n",
    "3. The permutation test is a special case of the bootstrap and allows us to produce interval estimates."
   ]
  },
  {
   "cell_type": "code",
   "execution_count": null,
   "metadata": {},
   "outputs": [],
   "source": [
    "q5_6 = ..."
   ]
  },
  {
   "cell_type": "code",
   "execution_count": null,
   "metadata": {},
   "outputs": [],
   "source": [
    "#: Just run this cell; do not change it\n",
    "Table().with_column('Difference in Mean', differences).hist()\n",
    "plt.scatter(observed_difference, 0, color='red', s=40);"
   ]
  },
  {
   "cell_type": "code",
   "execution_count": null,
   "metadata": {},
   "outputs": [],
   "source": [
    "_ = ok.grade('q5_6')"
   ]
  },
  {
   "cell_type": "markdown",
   "metadata": {},
   "source": [
    "**Question 7.** Compute a p-value for the hypothesis. That is, under the null hypothesis, compute the probability that we would have obtained a difference equal to or lower than `observed_difference` by chance alone. Assign your answer to `p_val`."
   ]
  },
  {
   "cell_type": "code",
   "execution_count": null,
   "metadata": {},
   "outputs": [],
   "source": [
    "#...p_val\n",
    "p_val = ...\n",
    "p_val"
   ]
  },
  {
   "cell_type": "code",
   "execution_count": null,
   "metadata": {},
   "outputs": [],
   "source": [
    "_ = ok.grade('q5_7')"
   ]
  },
  {
   "cell_type": "markdown",
   "metadata": {},
   "source": [
    "**Question 8.** Do you reject or fail to reject the null hypothesis at the 0.05 significance level? What conclusion can you make with regards to pack ramen and cup ramen? Explain your answer below. Be as specific as possible."
   ]
  },
  {
   "cell_type": "markdown",
   "metadata": {},
   "source": [
    "<hr style=\"color:Maroon;background-color:Maroon;border:0 none; height: 3px;\">\n",
    "\n",
    "*Write your answer here.*\n",
    "\n",
    "<hr style=\"color:Maroon;background-color:Maroon;border:0 none; height: 3px;\">"
   ]
  },
  {
   "cell_type": "markdown",
   "metadata": {},
   "source": [
    "**Question 9.** Suppose in this question you had shuffled the `Style` column and kept the `Stars` column in the same order. \n",
    "Which of the following is a true statement?\n",
    "\n",
    "1. Your new p-value would be 1 - (old p-value), where new p-value is with `Stars` shuffled and old p-value is with `Style` shuffled.\n",
    "2. We would conclude that pack ramen would have a lower star rating than cup ramen.\n",
    "3. The `Style` column cannot be shuffled because there are only two unique values.\n",
    "4. There is no difference in the A/B Test we had shuffled the `Style` column instead."
   ]
  },
  {
   "cell_type": "code",
   "execution_count": null,
   "metadata": {},
   "outputs": [],
   "source": [
    "q5_9 = ..."
   ]
  },
  {
   "cell_type": "code",
   "execution_count": null,
   "metadata": {},
   "outputs": [],
   "source": [
    "_ = ok.grade('q5_9')"
   ]
  },
  {
   "cell_type": "markdown",
   "metadata": {},
   "source": [
    "To submit:\n",
    "\n",
    "1. Select `Run All` from the `Cell` menu to ensure that you have executed all cells, including the test cells.\n",
    "3. Read through the notebook to make sure everything is fine.\n",
    "4. Submit using the cell below.\n",
    "5. Save PDF and submit to gradescope"
   ]
  },
  {
   "cell_type": "code",
   "execution_count": null,
   "metadata": {},
   "outputs": [],
   "source": [
    "#: For your convenience, you can run this cell to run all the tests at once!\n",
    "import os\n",
    "_ = [ok.grade(q[:-3]) for q in os.listdir('tests') if q.startswith('q')]"
   ]
  },
  {
   "cell_type": "markdown",
   "metadata": {},
   "source": [
    "## Before submitting, select \"Kernel\" -> \"Restart & Run All\" from the menu!\n",
    "\n",
    "Then make sure that all of your cells ran without error."
   ]
  },
  {
   "cell_type": "code",
   "execution_count": null,
   "metadata": {},
   "outputs": [],
   "source": [
    "#: submit your notebook\n",
    "_ = ok.submit()"
   ]
  },
  {
   "cell_type": "markdown",
   "metadata": {},
   "source": [
    "## Don't forget to submit to both OK and Gradescope!"
   ]
  }
 ],
 "metadata": {
  "kernelspec": {
   "display_name": "Python 3",
   "language": "python",
   "name": "python3"
  },
  "language_info": {
   "codemirror_mode": {
    "name": "ipython",
    "version": 3
   },
   "file_extension": ".py",
   "mimetype": "text/x-python",
   "name": "python",
   "nbconvert_exporter": "python",
   "pygments_lexer": "ipython3",
   "version": "3.6.2"
  }
 },
 "nbformat": 4,
 "nbformat_minor": 2
}
