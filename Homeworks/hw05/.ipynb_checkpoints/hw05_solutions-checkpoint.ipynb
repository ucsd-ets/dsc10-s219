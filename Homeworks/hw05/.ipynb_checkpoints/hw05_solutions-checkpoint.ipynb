{
 "cells": [
  {
   "cell_type": "markdown",
   "metadata": {},
   "source": [
    "# Homework 5: Group, Join, Conditionals, Iteration, Randomness. \n",
    "## Due Monday May 26th, 11:59pm\n",
    "\n",
    "Directly sharing answers is not okay, but discussing problems with the course staff or with other students is encouraged. \n",
    "\n",
    "You should start early so that you have time to get help if you're stuck."
   ]
  },
  {
   "cell_type": "code",
   "execution_count": 1,
   "metadata": {},
   "outputs": [
    {
     "name": "stdout",
     "output_type": "stream",
     "text": [
      "=====================================================================\n",
      "Assignment: Homework 5: Group, Join, Conditionals, Iteration, Randomness.\n",
      "OK, version v1.13.11\n",
      "=====================================================================\n",
      "\n"
     ]
    }
   ],
   "source": [
    "# Don't change this cell; just run it. \n",
    "\n",
    "import numpy as np\n",
    "from datascience import *\n",
    "\n",
    "%matplotlib inline\n",
    "import matplotlib.pyplot as plt\n",
    "plt.style.use('fivethirtyeight')\n",
    "\n",
    "from client.api.notebook import Notebook\n",
    "ok = Notebook('hw05_solutions.ok')\n",
    "#_ = ok.auth(inline=True)"
   ]
  },
  {
   "cell_type": "markdown",
   "metadata": {},
   "source": [
    "**Important**: The `ok` tests don't usually tell you that your answer is correct. More often, they help catch careless mistakes. It's up to you to ensure that your answer is correct. If you're not sure, ask someone (not for the answer, but for some guidance about your approach)."
   ]
  },
  {
   "cell_type": "markdown",
   "metadata": {},
   "source": [
    "Once you're finished, you must do two things:\n",
    "\n",
    "### a. Turn into OK\n",
    "Select \"Save and Checkpoint\" in the File menu and then execute the `submit` cell below. The result will contain a link that you can use to check that your assignment has been submitted successfully. If you submit more than once before the deadline, we will only grade your final submission."
   ]
  },
  {
   "cell_type": "code",
   "execution_count": null,
   "metadata": {},
   "outputs": [],
   "source": [
    "_ = ok.submit()"
   ]
  },
  {
   "cell_type": "markdown",
   "metadata": {
    "collapsed": true
   },
   "source": [
    "### b. Turn PDF into Gradescope\n",
    "Select File > Download As > PDF via LaTeX in the File menu. Turn in this PDF file into the respective assignement at https://gradescope.com/.\n",
    "<br>\n",
    "If you submit more than once before the deadline, we will only grade your final submission"
   ]
  },
  {
   "cell_type": "markdown",
   "metadata": {},
   "source": [
    "## 1. Owners and Pets"
   ]
  },
  {
   "cell_type": "markdown",
   "metadata": {},
   "source": [
    "![](corgi.png)"
   ]
  },
  {
   "cell_type": "markdown",
   "metadata": {},
   "source": [
    "With midterm season upon us, many of you may want to destress by looking at photos of cute pets. We will be manipulating datasets that are created through the join function.\n",
    "\n",
    "**Question 1.** The data is in a CSV file called `Pets.csv`. Read this file into a table `pets`."
   ]
  },
  {
   "cell_type": "code",
   "execution_count": 2,
   "metadata": {},
   "outputs": [
    {
     "name": "stderr",
     "output_type": "stream",
     "text": [
      "c:\\users\\joshu\\appdata\\local\\programs\\python\\python36\\lib\\site-packages\\datascience\\tables.py:132: FutureWarning: read_table is deprecated, use read_csv instead.\n",
      "  df = pandas.read_table(filepath_or_buffer, *args, **vargs)\n"
     ]
    },
    {
     "data": {
      "text/html": [
       "<table border=\"1\" class=\"dataframe\">\n",
       "    <thead>\n",
       "        <tr>\n",
       "            <th>PetID</th> <th>Name</th> <th>Kind</th> <th>Gender</th> <th>Age</th> <th>OwnerID</th>\n",
       "        </tr>\n",
       "    </thead>\n",
       "    <tbody>\n",
       "        <tr>\n",
       "            <td>J6-8562</td> <td>Blackie   </td> <td>Dog   </td> <td>male  </td> <td>11  </td> <td>5168   </td>\n",
       "        </tr>\n",
       "        <tr>\n",
       "            <td>Q0-2001</td> <td>Roomba    </td> <td>Cat   </td> <td>male  </td> <td>9   </td> <td>5508   </td>\n",
       "        </tr>\n",
       "        <tr>\n",
       "            <td>M0-2904</td> <td>Simba     </td> <td>Cat   </td> <td>male  </td> <td>1   </td> <td>3086   </td>\n",
       "        </tr>\n",
       "        <tr>\n",
       "            <td>R3-7551</td> <td>Keller    </td> <td>Parrot</td> <td>female</td> <td>2   </td> <td>7908   </td>\n",
       "        </tr>\n",
       "        <tr>\n",
       "            <td>P2-7342</td> <td>Cuddles   </td> <td>Dog   </td> <td>male  </td> <td>13  </td> <td>4378   </td>\n",
       "        </tr>\n",
       "        <tr>\n",
       "            <td>X0-8765</td> <td>Vuitton   </td> <td>Parrot</td> <td>female</td> <td>11  </td> <td>7581   </td>\n",
       "        </tr>\n",
       "        <tr>\n",
       "            <td>Z4-5652</td> <td>Priya     </td> <td>Cat   </td> <td>female</td> <td>7   </td> <td>7343   </td>\n",
       "        </tr>\n",
       "        <tr>\n",
       "            <td>Z4-4045</td> <td>Simba     </td> <td>Cat   </td> <td>male  </td> <td>0   </td> <td>2700   </td>\n",
       "        </tr>\n",
       "        <tr>\n",
       "            <td>M8-7852</td> <td>Cookie    </td> <td>Cat   </td> <td>female</td> <td>8   </td> <td>7606   </td>\n",
       "        </tr>\n",
       "        <tr>\n",
       "            <td>J2-3320</td> <td>Heisenberg</td> <td>Dog   </td> <td>male  </td> <td>3   </td> <td>1319   </td>\n",
       "        </tr>\n",
       "    </tbody>\n",
       "</table>\n",
       "<p>... (90 rows omitted)</p>"
      ],
      "text/plain": [
       "PetID   | Name       | Kind   | Gender | Age  | OwnerID\n",
       "J6-8562 | Blackie    | Dog    | male   | 11   | 5168\n",
       "Q0-2001 | Roomba     | Cat    | male   | 9    | 5508\n",
       "M0-2904 | Simba      | Cat    | male   | 1    | 3086\n",
       "R3-7551 | Keller     | Parrot | female | 2    | 7908\n",
       "P2-7342 | Cuddles    | Dog    | male   | 13   | 4378\n",
       "X0-8765 | Vuitton    | Parrot | female | 11   | 7581\n",
       "Z4-5652 | Priya      | Cat    | female | 7    | 7343\n",
       "Z4-4045 | Simba      | Cat    | male   | 0    | 2700\n",
       "M8-7852 | Cookie     | Cat    | female | 8    | 7606\n",
       "J2-3320 | Heisenberg | Dog    | male   | 3    | 1319\n",
       "... (90 rows omitted)"
      ]
     },
     "execution_count": 2,
     "metadata": {},
     "output_type": "execute_result"
    }
   ],
   "source": [
    "pets = Table().read_table('Pets.csv')\n",
    "pets\n"
   ]
  },
  {
   "cell_type": "code",
   "execution_count": 3,
   "metadata": {
    "scrolled": true
   },
   "outputs": [
    {
     "name": "stdout",
     "output_type": "stream",
     "text": [
      "~~~~~~~~~~~~~~~~~~~~~~~~~~~~~~~~~~~~~~~~~~~~~~~~~~~~~~~~~~~~~~~~~~~~~\n",
      "Running tests\n",
      "\n",
      "---------------------------------------------------------------------\n",
      "Test summary\n",
      "    Passed: 1\n",
      "    Failed: 0\n",
      "[ooooooooook] 100.0% passed\n",
      "\n"
     ]
    }
   ],
   "source": [
    "_ = ok.grade('q1_1')"
   ]
  },
  {
   "cell_type": "markdown",
   "metadata": {},
   "source": [
    "**Question 2.** At the moment, there is no way for us to pair the individual pet with its owner. Fortunately, `Pets.csv` provided us with **OwnerID** which allows us to find the owner's name. You are given a new table in `new_owners.csv` that contains the columns **Unnamed: 0**, **OwnerID**, **Name**, **Surname**, **State**, **StateFull**, and **ZipCode**. Join this table with `Pets.csv` and assign your new table to `owners_pets`."
   ]
  },
  {
   "cell_type": "code",
   "execution_count": 4,
   "metadata": {},
   "outputs": [
    {
     "data": {
      "text/html": [
       "<table border=\"1\" class=\"dataframe\">\n",
       "    <thead>\n",
       "        <tr>\n",
       "            <th>OwnerID</th> <th>PetID</th> <th>Name</th> <th>Kind</th> <th>Gender</th> <th>Age</th> <th>Unnamed: 0</th> <th>Name_2</th> <th>Surname</th> <th>State</th> <th>StateFull</th> <th>ZipCode</th>\n",
       "        </tr>\n",
       "    </thead>\n",
       "    <tbody>\n",
       "        <tr>\n",
       "            <td>1070   </td> <td>U8-6473</td> <td>Biscuit   </td> <td>Dog </td> <td>female</td> <td>3   </td> <td>4         </td> <td>Jessica </td> <td>Velazquez</td> <td>MI   </td> <td>Michigan </td> <td>48034  </td>\n",
       "        </tr>\n",
       "        <tr>\n",
       "            <td>1132   </td> <td>T2-2142</td> <td>Stowe     </td> <td>Cat </td> <td>female</td> <td>15  </td> <td>16        </td> <td>Rosa    </td> <td>Quarles  </td> <td>MI   </td> <td>Michigan </td> <td>48034  </td>\n",
       "        </tr>\n",
       "        <tr>\n",
       "            <td>1202   </td> <td>N7-6805</td> <td>Enyo      </td> <td>Cat </td> <td>female</td> <td>12  </td> <td>20        </td> <td>Susan   </td> <td>Jackson  </td> <td>MI   </td> <td>Michigan </td> <td>48154  </td>\n",
       "        </tr>\n",
       "        <tr>\n",
       "            <td>1306   </td> <td>F2-3235</td> <td>Danger    </td> <td>Dog </td> <td>male  </td> <td>8   </td> <td>64        </td> <td>Benjamin</td> <td>Spears   </td> <td>MI   </td> <td>Michigan </td> <td>49612  </td>\n",
       "        </tr>\n",
       "        <tr>\n",
       "            <td>1306   </td> <td>L2-1834</td> <td>Collette  </td> <td>Dog </td> <td>female</td> <td>4   </td> <td>64        </td> <td>Benjamin</td> <td>Spears   </td> <td>MI   </td> <td>Michigan </td> <td>49612  </td>\n",
       "        </tr>\n",
       "        <tr>\n",
       "            <td>1312   </td> <td>L4-4205</td> <td>Rumba     </td> <td>Cat </td> <td>male  </td> <td>5   </td> <td>56        </td> <td>Charles </td> <td>Chidester</td> <td>MI   </td> <td>Michigan </td> <td>49316  </td>\n",
       "        </tr>\n",
       "        <tr>\n",
       "            <td>1319   </td> <td>J2-3320</td> <td>Heisenberg</td> <td>Dog </td> <td>male  </td> <td>3   </td> <td>47        </td> <td>Joe     </td> <td>Custer   </td> <td>MI   </td> <td>Michigan </td> <td>48185  </td>\n",
       "        </tr>\n",
       "        <tr>\n",
       "            <td>1334   </td> <td>J0-7893</td> <td>Crockett  </td> <td>Dog </td> <td>male  </td> <td>12  </td> <td>43        </td> <td>Jason   </td> <td>Cantwell </td> <td>MI   </td> <td>Michigan </td> <td>48075  </td>\n",
       "        </tr>\n",
       "        <tr>\n",
       "            <td>1546   </td> <td>U6-4890</td> <td>Blackie   </td> <td>Dog </td> <td>male  </td> <td>6   </td> <td>88        </td> <td>Joseph  </td> <td>Blow     </td> <td>MI   </td> <td>Michigan </td> <td>48075  </td>\n",
       "        </tr>\n",
       "        <tr>\n",
       "            <td>1653   </td> <td>P9-6519</td> <td>Cookie    </td> <td>Cat </td> <td>female</td> <td>6   </td> <td>24        </td> <td>Carolyn </td> <td>Crane    </td> <td>MI   </td> <td>Michigan </td> <td>48933  </td>\n",
       "        </tr>\n",
       "    </tbody>\n",
       "</table>\n",
       "<p>... (90 rows omitted)</p>"
      ],
      "text/plain": [
       "OwnerID | PetID   | Name       | Kind | Gender | Age  | Unnamed: 0 | Name_2   | Surname   | State | StateFull | ZipCode\n",
       "1070    | U8-6473 | Biscuit    | Dog  | female | 3    | 4          | Jessica  | Velazquez | MI    | Michigan  | 48034\n",
       "1132    | T2-2142 | Stowe      | Cat  | female | 15   | 16         | Rosa     | Quarles   | MI    | Michigan  | 48034\n",
       "1202    | N7-6805 | Enyo       | Cat  | female | 12   | 20         | Susan    | Jackson   | MI    | Michigan  | 48154\n",
       "1306    | F2-3235 | Danger     | Dog  | male   | 8    | 64         | Benjamin | Spears    | MI    | Michigan  | 49612\n",
       "1306    | L2-1834 | Collette   | Dog  | female | 4    | 64         | Benjamin | Spears    | MI    | Michigan  | 49612\n",
       "1312    | L4-4205 | Rumba      | Cat  | male   | 5    | 56         | Charles  | Chidester | MI    | Michigan  | 49316\n",
       "1319    | J2-3320 | Heisenberg | Dog  | male   | 3    | 47         | Joe      | Custer    | MI    | Michigan  | 48185\n",
       "1334    | J0-7893 | Crockett   | Dog  | male   | 12   | 43         | Jason    | Cantwell  | MI    | Michigan  | 48075\n",
       "1546    | U6-4890 | Blackie    | Dog  | male   | 6    | 88         | Joseph   | Blow      | MI    | Michigan  | 48075\n",
       "1653    | P9-6519 | Cookie     | Cat  | female | 6    | 24         | Carolyn  | Crane     | MI    | Michigan  | 48933\n",
       "... (90 rows omitted)"
      ]
     },
     "execution_count": 4,
     "metadata": {},
     "output_type": "execute_result"
    }
   ],
   "source": [
    "new_owners = Table.read_table('new_owners.csv')\n",
    "owners_pets = pets.join('OwnerID', new_owners)\n",
    "owners_pets#owners_pets.where('Age',10).where('Kind','Cat').column('ZipCode')[0]"
   ]
  },
  {
   "cell_type": "code",
   "execution_count": 5,
   "metadata": {},
   "outputs": [
    {
     "name": "stdout",
     "output_type": "stream",
     "text": [
      "~~~~~~~~~~~~~~~~~~~~~~~~~~~~~~~~~~~~~~~~~~~~~~~~~~~~~~~~~~~~~~~~~~~~~\n",
      "Running tests\n",
      "\n",
      "---------------------------------------------------------------------\n",
      "Test summary\n",
      "    Passed: 1\n",
      "    Failed: 0\n",
      "[ooooooooook] 100.0% passed\n",
      "\n"
     ]
    }
   ],
   "source": [
    "_ = ok.grade('q1_2')"
   ]
  },
  {
   "cell_type": "markdown",
   "metadata": {},
   "source": [
    "**Question 3**. You might notice that there two name columns: **Name** and **Name_2**. This is because both `Pets.csv` and `new_owners.csv` have a name column, and the table wants to be able to differentiate between the two columns. This is a common problem with joins, and it is important to differentiate between the two. There is also an irrelevant column `Unnamed: 0` that doesn't provide any information. Edit `owners_pets` by renaming `Name_2` to `OwnerName`, and by dropping `Unnamed: 0` from `owners_pets`."
   ]
  },
  {
   "cell_type": "code",
   "execution_count": 6,
   "metadata": {
    "scrolled": true
   },
   "outputs": [
    {
     "data": {
      "text/html": [
       "<table border=\"1\" class=\"dataframe\">\n",
       "    <thead>\n",
       "        <tr>\n",
       "            <th>OwnerID</th> <th>PetID</th> <th>Name</th> <th>Kind</th> <th>Gender</th> <th>Age</th> <th>OwnerName</th> <th>Surname</th> <th>State</th> <th>StateFull</th> <th>ZipCode</th>\n",
       "        </tr>\n",
       "    </thead>\n",
       "    <tbody>\n",
       "        <tr>\n",
       "            <td>1070   </td> <td>U8-6473</td> <td>Biscuit   </td> <td>Dog </td> <td>female</td> <td>3   </td> <td>Jessica  </td> <td>Velazquez</td> <td>MI   </td> <td>Michigan </td> <td>48034  </td>\n",
       "        </tr>\n",
       "        <tr>\n",
       "            <td>1132   </td> <td>T2-2142</td> <td>Stowe     </td> <td>Cat </td> <td>female</td> <td>15  </td> <td>Rosa     </td> <td>Quarles  </td> <td>MI   </td> <td>Michigan </td> <td>48034  </td>\n",
       "        </tr>\n",
       "        <tr>\n",
       "            <td>1202   </td> <td>N7-6805</td> <td>Enyo      </td> <td>Cat </td> <td>female</td> <td>12  </td> <td>Susan    </td> <td>Jackson  </td> <td>MI   </td> <td>Michigan </td> <td>48154  </td>\n",
       "        </tr>\n",
       "        <tr>\n",
       "            <td>1306   </td> <td>F2-3235</td> <td>Danger    </td> <td>Dog </td> <td>male  </td> <td>8   </td> <td>Benjamin </td> <td>Spears   </td> <td>MI   </td> <td>Michigan </td> <td>49612  </td>\n",
       "        </tr>\n",
       "        <tr>\n",
       "            <td>1306   </td> <td>L2-1834</td> <td>Collette  </td> <td>Dog </td> <td>female</td> <td>4   </td> <td>Benjamin </td> <td>Spears   </td> <td>MI   </td> <td>Michigan </td> <td>49612  </td>\n",
       "        </tr>\n",
       "        <tr>\n",
       "            <td>1312   </td> <td>L4-4205</td> <td>Rumba     </td> <td>Cat </td> <td>male  </td> <td>5   </td> <td>Charles  </td> <td>Chidester</td> <td>MI   </td> <td>Michigan </td> <td>49316  </td>\n",
       "        </tr>\n",
       "        <tr>\n",
       "            <td>1319   </td> <td>J2-3320</td> <td>Heisenberg</td> <td>Dog </td> <td>male  </td> <td>3   </td> <td>Joe      </td> <td>Custer   </td> <td>MI   </td> <td>Michigan </td> <td>48185  </td>\n",
       "        </tr>\n",
       "        <tr>\n",
       "            <td>1334   </td> <td>J0-7893</td> <td>Crockett  </td> <td>Dog </td> <td>male  </td> <td>12  </td> <td>Jason    </td> <td>Cantwell </td> <td>MI   </td> <td>Michigan </td> <td>48075  </td>\n",
       "        </tr>\n",
       "        <tr>\n",
       "            <td>1546   </td> <td>U6-4890</td> <td>Blackie   </td> <td>Dog </td> <td>male  </td> <td>6   </td> <td>Joseph   </td> <td>Blow     </td> <td>MI   </td> <td>Michigan </td> <td>48075  </td>\n",
       "        </tr>\n",
       "        <tr>\n",
       "            <td>1653   </td> <td>P9-6519</td> <td>Cookie    </td> <td>Cat </td> <td>female</td> <td>6   </td> <td>Carolyn  </td> <td>Crane    </td> <td>MI   </td> <td>Michigan </td> <td>48933  </td>\n",
       "        </tr>\n",
       "    </tbody>\n",
       "</table>\n",
       "<p>... (90 rows omitted)</p>"
      ],
      "text/plain": [
       "OwnerID | PetID   | Name       | Kind | Gender | Age  | OwnerName | Surname   | State | StateFull | ZipCode\n",
       "1070    | U8-6473 | Biscuit    | Dog  | female | 3    | Jessica   | Velazquez | MI    | Michigan  | 48034\n",
       "1132    | T2-2142 | Stowe      | Cat  | female | 15   | Rosa      | Quarles   | MI    | Michigan  | 48034\n",
       "1202    | N7-6805 | Enyo       | Cat  | female | 12   | Susan     | Jackson   | MI    | Michigan  | 48154\n",
       "1306    | F2-3235 | Danger     | Dog  | male   | 8    | Benjamin  | Spears    | MI    | Michigan  | 49612\n",
       "1306    | L2-1834 | Collette   | Dog  | female | 4    | Benjamin  | Spears    | MI    | Michigan  | 49612\n",
       "1312    | L4-4205 | Rumba      | Cat  | male   | 5    | Charles   | Chidester | MI    | Michigan  | 49316\n",
       "1319    | J2-3320 | Heisenberg | Dog  | male   | 3    | Joe       | Custer    | MI    | Michigan  | 48185\n",
       "1334    | J0-7893 | Crockett   | Dog  | male   | 12   | Jason     | Cantwell  | MI    | Michigan  | 48075\n",
       "1546    | U6-4890 | Blackie    | Dog  | male   | 6    | Joseph    | Blow      | MI    | Michigan  | 48075\n",
       "1653    | P9-6519 | Cookie     | Cat  | female | 6    | Carolyn   | Crane     | MI    | Michigan  | 48933\n",
       "... (90 rows omitted)"
      ]
     },
     "execution_count": 6,
     "metadata": {},
     "output_type": "execute_result"
    }
   ],
   "source": [
    "owners_pets = owners_pets.drop('Unnamed: 0').relabel('Name_2', 'OwnerName')\n",
    "owners_pets"
   ]
  },
  {
   "cell_type": "code",
   "execution_count": 7,
   "metadata": {},
   "outputs": [
    {
     "name": "stdout",
     "output_type": "stream",
     "text": [
      "~~~~~~~~~~~~~~~~~~~~~~~~~~~~~~~~~~~~~~~~~~~~~~~~~~~~~~~~~~~~~~~~~~~~~\n",
      "Running tests\n",
      "\n",
      "---------------------------------------------------------------------\n",
      "Test summary\n",
      "    Passed: 1\n",
      "    Failed: 0\n",
      "[ooooooooook] 100.0% passed\n",
      "\n"
     ]
    }
   ],
   "source": [
    "_ = ok.grade('q1_3')"
   ]
  },
  {
   "cell_type": "markdown",
   "metadata": {},
   "source": [
    "**Question 4.** If you paid close attention, you might notice that several pets have the same owner. This is why `new_owners.csv` and `Pets.csv` have a different number of rows. What proportion of all owners have more than one pet? Save your answer to `multiple_owners`. \n",
    "\n",
    "*Note*: Your answer should be between 0 and 1.\n",
    "\n"
   ]
  },
  {
   "cell_type": "code",
   "execution_count": 8,
   "metadata": {},
   "outputs": [
    {
     "data": {
      "text/plain": [
       "0.0898876404494382"
      ]
     },
     "execution_count": 8,
     "metadata": {},
     "output_type": "execute_result"
    }
   ],
   "source": [
    "owners_group = owners_pets.group('OwnerID')\n",
    "multiple_owners_count = owners_group.where(owners_group.column('count') > 1).num_rows\n",
    "multiple_owners = multiple_owners_count/new_owners.num_rows\n",
    "multiple_owners"
   ]
  },
  {
   "cell_type": "code",
   "execution_count": 9,
   "metadata": {},
   "outputs": [
    {
     "name": "stdout",
     "output_type": "stream",
     "text": [
      "~~~~~~~~~~~~~~~~~~~~~~~~~~~~~~~~~~~~~~~~~~~~~~~~~~~~~~~~~~~~~~~~~~~~~\n",
      "Running tests\n",
      "\n",
      "---------------------------------------------------------------------\n",
      "Test summary\n",
      "    Passed: 1\n",
      "    Failed: 0\n",
      "[ooooooooook] 100.0% passed\n",
      "\n"
     ]
    }
   ],
   "source": [
    "_ = ok.grade('q1_4')"
   ]
  },
  {
   "cell_type": "markdown",
   "metadata": {},
   "source": [
    "**Question 5.** You may have noticed that there are several owners who own three pets. Find the first name of the owners (`OwnerName`) who own three pets, and save them in an array called `three_pet_owners`.\n",
    "\n",
    "*Hint 1*: Looking at the different \"where\" [predicates](http://data8.org/datascience/predicates.html) may help you solve this question.\n",
    "\n",
    "*Hint 2*: You may wish to use np.unique."
   ]
  },
  {
   "cell_type": "code",
   "execution_count": 10,
   "metadata": {},
   "outputs": [
    {
     "data": {
      "text/plain": [
       "array(['Charles', 'Lee', 'Stacey'], \n",
       "      dtype='<U11')"
      ]
     },
     "execution_count": 10,
     "metadata": {},
     "output_type": "execute_result"
    }
   ],
   "source": [
    "owners_three = owners_pets.group('OwnerID').sort('count', descending = True).take([0, 1, 2])['OwnerID']\n",
    "three_pet_owners = np.unique(owners_pets.where('OwnerID', are.contained_in(owners_three)).column('OwnerName'))\n",
    "three_pet_owners"
   ]
  },
  {
   "cell_type": "code",
   "execution_count": 11,
   "metadata": {},
   "outputs": [
    {
     "name": "stdout",
     "output_type": "stream",
     "text": [
      "~~~~~~~~~~~~~~~~~~~~~~~~~~~~~~~~~~~~~~~~~~~~~~~~~~~~~~~~~~~~~~~~~~~~~\n",
      "Running tests\n",
      "\n",
      "---------------------------------------------------------------------\n",
      "Test summary\n",
      "    Passed: 1\n",
      "    Failed: 0\n",
      "[ooooooooook] 100.0% passed\n",
      "\n"
     ]
    }
   ],
   "source": [
    "_ = ok.grade('q1_5')"
   ]
  },
  {
   "cell_type": "markdown",
   "metadata": {},
   "source": [
    "## 2. Choosing A Pet"
   ]
  },
  {
   "cell_type": "markdown",
   "metadata": {},
   "source": [
    "You really want to get a pet, but there are too many great animals to decide upon! Here are a number of factors that will go into your decision of what pet to get. \n",
    "\n",
    "1. Cuteness (1 = not cute at all, 10 = extremely cute)\n",
    "2. Activity Level (1 = barely active, 10 = extremely active)\n",
    "3. Cost (1 = Cheap, 10 = Expensive)\n",
    "\n",
    "**Question 1**. Define a function called `choose_pet` that takes five arguments: `table`, `cuteness_score`, `lower_activity_level`, `upper_activity_level`,and `cost_score`. You function should return a list of pets that meet the following requirements.\n",
    "\n",
    "1. If a pet's cuteness is greater than or equal to `cuteness_score`, return a list of those pets.\n",
    "2. If your `cuteness_score` is not met, return a list of pets that have activity levels between `lower_activity_level` and `upper_activity_level` (inclusive).\n",
    "3. If your cuteness and activity level requirements are not met, return a list of pets whose cost is less than or equal to `cost_score`.\n",
    "4. If none of your requirements are met, return \"There's no match.\""
   ]
  },
  {
   "cell_type": "code",
   "execution_count": 12,
   "metadata": {},
   "outputs": [
    {
     "data": {
      "text/plain": [
       "\"There's no match.\""
      ]
     },
     "execution_count": 12,
     "metadata": {},
     "output_type": "execute_result"
    }
   ],
   "source": [
    "choosing_pets = Table.read_table(\"choosingpets.csv\")\n",
    "\n",
    "# Define your function here:\n",
    "def choose_pet(table, cuteness_score, lower_activity_level, upper_activity_level, cost_score):\n",
    "    if table.where('Cuteness', are.above_or_equal_to(cuteness_score)).num_rows > 0:\n",
    "        return list(table.where('Cuteness', are.above_or_equal_to(cuteness_score)).column(0))\n",
    "    elif table.where('Activity Level', are.between_or_equal_to(lower_activity_level,upper_activity_level)).num_rows > 0:\n",
    "        return list(table.where('Activity Level', are.between_or_equal_to(lower_activity_level,upper_activity_level)).column(0))\n",
    "    elif table.where('Cost', are.below_or_equal_to(cost_score)).num_rows > 0:\n",
    "        return list(table.where('Cost', are.below_or_equal_to(cost_score)).column(0))\n",
    "    else:\n",
    "        return \"There's no match.\"\n",
    "\n",
    "set(choose_pet(choosing_pets,8,3,7,10)) == set(['Turtle','Tarantula']) # should return ['Turtle','Tarantula']\n",
    "#set(choose_pet(choosing_pets,9,4,6,3)) #== set(['Dog', 'Parrot', 'Rabbit', 'Squirrel', 'Turtle', 'Tarantula', 'Fish']) # should return  ['Dog', 'Parrot', 'Rabbit', 'Squirrel', 'Turtle', 'Tarantula', 'Fish']\n",
    "set(choose_pet(choosing_pets,9,1,2,4)) == set(['Guinea Pig', 'Hamster', 'Tarantula', 'Scorpian']) # should return ['Guinea Pig', 'Hamster', 'Tarantula', 'Scorpian']\n",
    "choose_pet(choosing_pets,10,1,1,1) # should return \"There's no match.\""
   ]
  },
  {
   "cell_type": "code",
   "execution_count": 13,
   "metadata": {},
   "outputs": [
    {
     "name": "stdout",
     "output_type": "stream",
     "text": [
      "~~~~~~~~~~~~~~~~~~~~~~~~~~~~~~~~~~~~~~~~~~~~~~~~~~~~~~~~~~~~~~~~~~~~~\n",
      "Running tests\n",
      "\n",
      "---------------------------------------------------------------------\n",
      "Test summary\n",
      "    Passed: 1\n",
      "    Failed: 0\n",
      "[ooooooooook] 100.0% passed\n",
      "\n"
     ]
    }
   ],
   "source": [
    "_ = ok.grade('q2_1')"
   ]
  },
  {
   "cell_type": "markdown",
   "metadata": {},
   "source": [
    "## 3. String Manipulation on Names"
   ]
  },
  {
   "cell_type": "markdown",
   "metadata": {},
   "source": [
    "Unfortunately, an incident happened and UC San Diego's records of students, tutors, and professors were messed up. Knowing that you are a data scientist, UC San Diego asked you to help restore the records. In this problem, you will reconstruct each record that accurately indicates the first name, last name, and academic status of the indivdual. Use a `for` loop to combine a list of **first names**, a list of the **last names**, and a list of their **academic statuses** of the individual into a new list called `restored_records`.\n",
    "\n",
    "When combining the three parts, you should: \n",
    "* Capitalize the first letter of the first and last names.\n",
    "* Insert \"is a\" between the last name and academic stauts of the individual.\n",
    "* Insert a period right after the academic status.\n",
    "* Ensure that the words are properly spaced.\n",
    "\n",
    "For example, given the list `[\"christopher\", \"justin\"]`,  `[\"nolan\", “eldridge”]`, and `[\"Student\", \"Professor\"]`, you should create the list `['Christipher Nolan is a Student.', 'Justin Eldridge is a Professor.']`.\n",
    "\n",
    "**Hint:** *Check out the string method [.title()](https://www.geeksforgeeks.org/title-in-python/)*"
   ]
  },
  {
   "cell_type": "code",
   "execution_count": 103,
   "metadata": {},
   "outputs": [
    {
     "data": {
      "text/plain": [
       "['Joshua Shu is a Tutor.',\n",
       " 'Amanda Chan is a Tutor.',\n",
       " 'Robert Twomey is a Professor.',\n",
       " 'Janine Tiefenbruck is a Professor.',\n",
       " 'Marina Langlois is a Professor.',\n",
       " 'Aaron Fraenkel is a Professor.',\n",
       " 'Steven White is a Student.']"
      ]
     },
     "execution_count": 103,
     "metadata": {},
     "output_type": "execute_result"
    }
   ],
   "source": [
    "first_name = ['joshua', 'amanda', 'robert', 'janine', 'marina', 'aaron', 'steven']\n",
    "last_name = ['shu', 'chan', 'twomey', 'tiefenbruck', 'langlois', 'fraenkel', 'white']\n",
    "status = ['Tutor', 'Tutor', 'Professor', 'Professor', 'Professor', 'Professor', 'Student']\n",
    "\n",
    "restored_records = []\n",
    "for i in range(len(first_name)):\n",
    "    combined = first_name[i].title() + \" \" + last_name[i].title() + \" is a \" + status[i] + \".\"\n",
    "    restored_records.append(combined)\n",
    "    \n",
    "restored_records"
   ]
  },
  {
   "cell_type": "code",
   "execution_count": 105,
   "metadata": {},
   "outputs": [
    {
     "data": {
      "text/plain": [
       "True"
      ]
     },
     "execution_count": 105,
     "metadata": {},
     "output_type": "execute_result"
    }
   ],
   "source": [
    "set(restored_records) == set(['Joshua Shu is a Tutor.','Amanda Chan is a Tutor.','Robert Twomey is a Professor.','Janine Tiefenbruck is a Professor.','Marina Langlois is a Professor.','Aaron Fraenkel is a Professor.','Steven White is a Student.'])"
   ]
  },
  {
   "cell_type": "code",
   "execution_count": 15,
   "metadata": {},
   "outputs": [
    {
     "name": "stdout",
     "output_type": "stream",
     "text": [
      "~~~~~~~~~~~~~~~~~~~~~~~~~~~~~~~~~~~~~~~~~~~~~~~~~~~~~~~~~~~~~~~~~~~~~\n",
      "Running tests\n",
      "\n",
      "---------------------------------------------------------------------\n",
      "Test summary\n",
      "    Passed: 1\n",
      "    Failed: 0\n",
      "[ooooooooook] 100.0% passed\n",
      "\n"
     ]
    }
   ],
   "source": [
    "_ = ok.grade('q3_1')"
   ]
  },
  {
   "cell_type": "markdown",
   "metadata": {},
   "source": [
    "## 4.  Go for lottery (Do not plan a career on it!)"
   ]
  },
  {
   "cell_type": "markdown",
   "metadata": {
    "collapsed": true
   },
   "source": [
    "You went to the nearest supermarket(or the gas station if you prefer) and bought a powerball ticket. To play you select five different numbers from 1 to 69 for the white balls and select one number from 1 to 26 for the red Powerball. For the sake of simplicity, assume that you have to match the numbers **in the exact order** to win the jackpot. All questions in this part assumes the setting of a single draw unless stated otherwise."
   ]
  },
  {
   "cell_type": "markdown",
   "metadata": {},
   "source": [
    "**Question 1.** What is the probability that you win the jackpot? Assign your answer to `jackpot_chance`.\n",
    "\n",
    "**Hint**: *Since you are choosing five different numbers for the white balls, the denominator should be decreasing. The probability of getting the first number correct is 1/69, the second is 1/68, and so on...*"
   ]
  },
  {
   "cell_type": "code",
   "execution_count": 9,
   "metadata": {},
   "outputs": [
    {
     "data": {
      "text/plain": [
       "2.85191484418642e-11"
      ]
     },
     "execution_count": 9,
     "metadata": {},
     "output_type": "execute_result"
    }
   ],
   "source": [
    "#...jackpot_chance\n",
    "jackpot_chance = (1/69) * (1/68) * (1/67) * (1/66) * (1/65) * (1/26)\n",
    "jackpot_chance"
   ]
  },
  {
   "cell_type": "code",
   "execution_count": 10,
   "metadata": {},
   "outputs": [
    {
     "name": "stdout",
     "output_type": "stream",
     "text": [
      "~~~~~~~~~~~~~~~~~~~~~~~~~~~~~~~~~~~~~~~~~~~~~~~~~~~~~~~~~~~~~~~~~~~~~\n",
      "Running tests\n",
      "\n",
      "---------------------------------------------------------------------\n",
      "Test summary\n",
      "    Passed: 1\n",
      "    Failed: 0\n",
      "[ooooooooook] 100.0% passed\n",
      "\n"
     ]
    }
   ],
   "source": [
    "#: grade 4.1\n",
    "_ = ok.grade('q4_1')"
   ]
  },
  {
   "cell_type": "markdown",
   "metadata": {},
   "source": [
    "**Question 2.** Your chances of winning the jackpot is quite low, but you can still win money if you have at least one number correct. What is the probability that you get at least one number correct and win some money? Assign your answer to `non_losing_prob`. "
   ]
  },
  {
   "cell_type": "code",
   "execution_count": 11,
   "metadata": {},
   "outputs": [
    {
     "data": {
      "text/plain": [
       "0.10813823857302107"
      ]
     },
     "execution_count": 11,
     "metadata": {},
     "output_type": "execute_result"
    }
   ],
   "source": [
    "#...non_losing_prob\n",
    "non_losing_prob = 1 - (68/69) * (67/68) * (66/67) * (65/66) * (64/65) * (25/26)\n",
    "non_losing_prob"
   ]
  },
  {
   "cell_type": "code",
   "execution_count": 12,
   "metadata": {},
   "outputs": [
    {
     "name": "stdout",
     "output_type": "stream",
     "text": [
      "~~~~~~~~~~~~~~~~~~~~~~~~~~~~~~~~~~~~~~~~~~~~~~~~~~~~~~~~~~~~~~~~~~~~~\n",
      "Running tests\n",
      "\n",
      "---------------------------------------------------------------------\n",
      "Test summary\n",
      "    Passed: 1\n",
      "    Failed: 0\n",
      "[ooooooooook] 100.0% passed\n",
      "\n"
     ]
    }
   ],
   "source": [
    "_ = ok.grade('q4_2')"
   ]
  },
  {
   "cell_type": "markdown",
   "metadata": {},
   "source": [
    "**Question 3.** Write a function called `simulate_one_ticket`. It should take **no arguments**, and it should return **an array** with 6 random numbers. The first five numbers are all between 1 and 69 and different from each other. The last number should be between 1 and 26."
   ]
  },
  {
   "cell_type": "code",
   "execution_count": 4,
   "metadata": {},
   "outputs": [
    {
     "data": {
      "text/plain": [
       "array([20, 38, 56, 32, 12, 10])"
      ]
     },
     "execution_count": 4,
     "metadata": {},
     "output_type": "execute_result"
    }
   ],
   "source": [
    "# Place your answer here. It may contain several lines of code.\n",
    "\n",
    "def simulate_one_ticket():\n",
    "    \"\"\"Simulate one ticket that you buy.\"\"\"\n",
    "    white_balls = np.random.choice(np.arange(1, 70), size=5, replace=True)\n",
    "    balls = white_balls\n",
    "    red_ball = np.random.choice(np.arange(1, 27))\n",
    "    balls = np.append(balls, red_ball)\n",
    "    return balls\n",
    "\n",
    "simulate_one_ticket()"
   ]
  },
  {
   "cell_type": "code",
   "execution_count": 21,
   "metadata": {},
   "outputs": [
    {
     "name": "stdout",
     "output_type": "stream",
     "text": [
      "~~~~~~~~~~~~~~~~~~~~~~~~~~~~~~~~~~~~~~~~~~~~~~~~~~~~~~~~~~~~~~~~~~~~~\n",
      "Running tests\n",
      "\n",
      "---------------------------------------------------------------------\n",
      "Test summary\n",
      "    Passed: 1\n",
      "    Failed: 0\n",
      "[ooooooooook] 100.0% passed\n",
      "\n"
     ]
    }
   ],
   "source": [
    "_ = ok.grade('q4_3')"
   ]
  },
  {
   "cell_type": "markdown",
   "metadata": {},
   "source": [
    "**Question 4.** It's draw day, and you checked the lucky numbers posted, which happened to be white(19, 50, 36, 53, 68), red(12). Suppose you didn't win the jackpot, and you are a bit depressed. You want to remind yourself how unlikely it is to win a jackpot. Call the function `simulate_one_ticket` 100000 times (at least $200000 if you were to buy that many!). How many times did you win the jackpot? Assign your answer to `count_jackpot`."
   ]
  },
  {
   "cell_type": "code",
   "execution_count": 5,
   "metadata": {},
   "outputs": [
    {
     "data": {
      "text/plain": [
       "0"
      ]
     },
     "execution_count": 5,
     "metadata": {},
     "output_type": "execute_result"
    }
   ],
   "source": [
    "count_jackpot = 0\n",
    "for _ in range(100_000):\n",
    "    if (simulate_one_ticket()==[19, 50, 36, 53, 68, 12]).all():\n",
    "        count_jackpot += 1\n",
    "count_jackpot"
   ]
  },
  {
   "cell_type": "code",
   "execution_count": 23,
   "metadata": {
    "scrolled": true
   },
   "outputs": [
    {
     "name": "stdout",
     "output_type": "stream",
     "text": [
      "~~~~~~~~~~~~~~~~~~~~~~~~~~~~~~~~~~~~~~~~~~~~~~~~~~~~~~~~~~~~~~~~~~~~~\n",
      "Running tests\n",
      "\n",
      "---------------------------------------------------------------------\n",
      "Test summary\n",
      "    Passed: 1\n",
      "    Failed: 0\n",
      "[ooooooooook] 100.0% passed\n",
      "\n"
     ]
    }
   ],
   "source": [
    "_ = ok.grade('q4_4')"
   ]
  },
  {
   "cell_type": "markdown",
   "metadata": {},
   "source": [
    "## 5. Yahtzee "
   ]
  },
  {
   "cell_type": "markdown",
   "metadata": {},
   "source": [
    "In the dice game Yahtzee, players roll and reroll dice, trying to meet certain objectives. A player rolls five dice on the first roll, and after looking at the results, *can choose to* reroll any number of them on the second roll. Similarly, after looking at the results of the second roll, the player can choose to reroll any number of those for the third roll. After the third roll, no more rolling is allowed.\n",
    "\n",
    "One objective in Yahtzee is to roll as many 6's as possible. The standard strategy is as follows:\n",
    "* Roll all five dice.\n",
    "* Keep any that are 6's. Reroll all other dice.\n",
    "* Keep any that are 6's. Reroll all other dice.\n",
    "The number of 6's at the end of this process determined the player's score. "
   ]
  },
  {
   "cell_type": "markdown",
   "metadata": {},
   "source": [
    "**Question 1.** Create an array called `my_dice` that contains the results of a first Yahtzee roll (that is, five random numbers between 1 and 6)."
   ]
  },
  {
   "cell_type": "code",
   "execution_count": 2,
   "metadata": {},
   "outputs": [
    {
     "data": {
      "text/plain": [
       "array([2, 6, 6, 2, 2])"
      ]
     },
     "execution_count": 2,
     "metadata": {},
     "output_type": "execute_result"
    }
   ],
   "source": [
    "my_dice = np.random.choice(np.arange(1,7), 5)\n",
    "my_dice"
   ]
  },
  {
   "cell_type": "code",
   "execution_count": 3,
   "metadata": {},
   "outputs": [
    {
     "name": "stdout",
     "output_type": "stream",
     "text": [
      "~~~~~~~~~~~~~~~~~~~~~~~~~~~~~~~~~~~~~~~~~~~~~~~~~~~~~~~~~~~~~~~~~~~~~\n",
      "Running tests\n",
      "\n",
      "---------------------------------------------------------------------\n",
      "Test summary\n",
      "    Passed: 1\n",
      "    Failed: 0\n",
      "[ooooooooook] 100.0% passed\n",
      "\n"
     ]
    }
   ],
   "source": [
    "_ = ok.grade('q5_1')"
   ]
  },
  {
   "cell_type": "markdown",
   "metadata": {},
   "source": [
    "**Question 2.** Define a function called `reroll()` that takes one Yahtzee roll, `roll` as its input and returns the updated roll as its ouput. The function should not change the contents of `roll`, but, rather, should output an updated copy of `roll` after one additional turn. Your function should implement the standard strategy for rolling 6's, that is, keep all dice that were a 6 and reroll all other dice.\n",
    "\n",
    "**Hint** *You can test out your function by repeatedly rerolling. Since you are keeping all the 6's you ever roll, eventually you should get all 6's by repeatedly rerolling.*"
   ]
  },
  {
   "cell_type": "code",
   "execution_count": 4,
   "metadata": {},
   "outputs": [],
   "source": [
    "def reroll(roll):\n",
    "    updated_dice = np.arange(5)\n",
    "    for i in np.arange(5):\n",
    "        if roll[i] != 6:\n",
    "            updated_dice[i] = np.random.choice(np.arange(1,7), 1)\n",
    "        else:\n",
    "            updated_dice[i] = 6\n",
    "    return updated_dice"
   ]
  },
  {
   "cell_type": "markdown",
   "metadata": {},
   "source": [
    "Now, practice taking a complete turn at Yahtzee, and see how many 6's you can get! Re-run the code cell from question 5.1 to roll new dice. Then use your `reroll()` function twice, and calculate the number of 6's you have at the end of your turn. "
   ]
  },
  {
   "cell_type": "code",
   "execution_count": 5,
   "metadata": {},
   "outputs": [
    {
     "data": {
      "text/plain": [
       "array([1, 6, 6, 6, 4])"
      ]
     },
     "execution_count": 5,
     "metadata": {},
     "output_type": "execute_result"
    }
   ],
   "source": [
    "# Practice taking a turn here. How many 6's did you get?\n",
    "second_roll = reroll(my_dice)\n",
    "third_roll = reroll(second_roll)\n",
    "third_roll"
   ]
  },
  {
   "cell_type": "markdown",
   "metadata": {},
   "source": [
    "Now we will alter the rules of Yahtzee so that we are no longer restricted by only 3 rerolls.\n",
    "\n",
    "**Question 3.** Now, use a for loop to help you take 20,000 turns at Yahtzee. On each turn, you should roll the dice, then reroll as many times as many turns until all five dice are 6. (A `while` loop will be useful here) When all five dices are 6, count the number of times you have rerolled. Record the number of rerolls into an array called `reroll_array` that contains the number of rerolls it took to get five dices with 6. \n",
    "\n",
    "**Note:** Your initial roll of the dice will **NOT** count as a reroll. i.e. If your initial roll of the dice were somehow all 6s, then you have rerolled 0 times.\n",
    "\n",
    "**Hint:** Try taking 10 turns with a `for` loop. Once you are sure you have that figured out, change it to 20,000 turns. It will take a little while (about a minute) for Python to perform the calculations when you are doing 20,000 turns."
   ]
  },
  {
   "cell_type": "code",
   "execution_count": 85,
   "metadata": {},
   "outputs": [
    {
     "data": {
      "text/plain": [
       "11.9108"
      ]
     },
     "execution_count": 85,
     "metadata": {},
     "output_type": "execute_result"
    }
   ],
   "source": [
    "reroll_array = make_array()\n",
    "\n",
    "for _ in range(20000):\n",
    "    my_dice = np.random.choice(np.arange(1,7), 5)\n",
    "    counter = 0\n",
    "    while np.count_nonzero(my_dice == 6) != 5:\n",
    "        my_dice = reroll(my_dice)\n",
    "        counter += 1\n",
    "    reroll_array = np.append(counter, reroll_array)\n",
    "\n",
    "np.mean(reroll_array)\n",
    "\n",
    "# A simulation of 200000 trials was 12.0067"
   ]
  },
  {
   "cell_type": "code",
   "execution_count": null,
   "metadata": {},
   "outputs": [],
   "source": [
    "_ = ok.grade('q5_3')"
   ]
  },
  {
   "cell_type": "markdown",
   "metadata": {},
   "source": [
    "**Question 4.** Use the data you have collected to approximate the number rerolls you would expect to take to get five 6s. Store your result in a variable called `expected_rerolls.` \n",
    "\n",
    "Note that this does not need to be a whole number. "
   ]
  },
  {
   "cell_type": "code",
   "execution_count": 89,
   "metadata": {},
   "outputs": [
    {
     "data": {
      "text/plain": [
       "11.9108"
      ]
     },
     "execution_count": 89,
     "metadata": {},
     "output_type": "execute_result"
    }
   ],
   "source": [
    "expected_rerolls = np.mean(reroll_array)\n",
    "expected_rerolls"
   ]
  },
  {
   "cell_type": "code",
   "execution_count": 30,
   "metadata": {},
   "outputs": [
    {
     "name": "stdout",
     "output_type": "stream",
     "text": [
      "~~~~~~~~~~~~~~~~~~~~~~~~~~~~~~~~~~~~~~~~~~~~~~~~~~~~~~~~~~~~~~~~~~~~~\n",
      "Running tests\n",
      "\n",
      "---------------------------------------------------------------------\n",
      "Test summary\n",
      "    Passed: 1\n",
      "    Failed: 0\n",
      "[ooooooooook] 100.0% passed\n",
      "\n"
     ]
    }
   ],
   "source": [
    "_ = ok.grade('q5_4')"
   ]
  },
  {
   "cell_type": "markdown",
   "metadata": {},
   "source": [
    "**Question 5.** Use the data you have collected to approximate the most common number of rerolls it takes to get all five dices to be 6. Store your result in a variable called `most_common_reroll` that is an integer."
   ]
  },
  {
   "cell_type": "code",
   "execution_count": 101,
   "metadata": {},
   "outputs": [
    {
     "data": {
      "text/plain": [
       "8"
      ]
     },
     "execution_count": 101,
     "metadata": {},
     "output_type": "execute_result"
    }
   ],
   "source": [
    "helper = Table().with_column('reroll', reroll_array).group('reroll')\n",
    "most_common_reroll = int(helper.sort('count', descending = True).column('reroll')[0])\n",
    "most_common_reroll"
   ]
  },
  {
   "cell_type": "code",
   "execution_count": null,
   "metadata": {},
   "outputs": [],
   "source": [
    "_ = ok.grade('q5_5')"
   ]
  },
  {
   "cell_type": "markdown",
   "metadata": {},
   "source": [
    "\n",
    "To submit:\n",
    "\n",
    "1. Select `Run All` from the `Cell` menu to ensure that you have executed all cells, including the test cells.\n",
    "3. Read through the notebook to make sure everything is fine.\n",
    "4. Submit using the cell below.\n",
    "5. Save PDF and submit to gradescope"
   ]
  },
  {
   "cell_type": "code",
   "execution_count": 34,
   "metadata": {},
   "outputs": [
    {
     "name": "stdout",
     "output_type": "stream",
     "text": [
      "~~~~~~~~~~~~~~~~~~~~~~~~~~~~~~~~~~~~~~~~~~~~~~~~~~~~~~~~~~~~~~~~~~~~~\n",
      "Running tests\n",
      "\n",
      "---------------------------------------------------------------------\n",
      "Test summary\n",
      "    Passed: 1\n",
      "    Failed: 0\n",
      "[ooooooooook] 100.0% passed\n",
      "\n",
      "~~~~~~~~~~~~~~~~~~~~~~~~~~~~~~~~~~~~~~~~~~~~~~~~~~~~~~~~~~~~~~~~~~~~~\n",
      "Running tests\n",
      "\n",
      "---------------------------------------------------------------------\n",
      "Test summary\n",
      "    Passed: 1\n",
      "    Failed: 0\n",
      "[ooooooooook] 100.0% passed\n",
      "\n",
      "~~~~~~~~~~~~~~~~~~~~~~~~~~~~~~~~~~~~~~~~~~~~~~~~~~~~~~~~~~~~~~~~~~~~~\n",
      "Running tests\n",
      "\n",
      "---------------------------------------------------------------------\n",
      "Test summary\n",
      "    Passed: 1\n",
      "    Failed: 0\n",
      "[ooooooooook] 100.0% passed\n",
      "\n",
      "~~~~~~~~~~~~~~~~~~~~~~~~~~~~~~~~~~~~~~~~~~~~~~~~~~~~~~~~~~~~~~~~~~~~~\n",
      "Running tests\n",
      "\n",
      "---------------------------------------------------------------------\n",
      "Test summary\n",
      "    Passed: 1\n",
      "    Failed: 0\n",
      "[ooooooooook] 100.0% passed\n",
      "\n",
      "~~~~~~~~~~~~~~~~~~~~~~~~~~~~~~~~~~~~~~~~~~~~~~~~~~~~~~~~~~~~~~~~~~~~~\n",
      "Running tests\n",
      "\n",
      "---------------------------------------------------------------------\n",
      "Test summary\n",
      "    Passed: 1\n",
      "    Failed: 0\n",
      "[ooooooooook] 100.0% passed\n",
      "\n",
      "~~~~~~~~~~~~~~~~~~~~~~~~~~~~~~~~~~~~~~~~~~~~~~~~~~~~~~~~~~~~~~~~~~~~~\n",
      "Running tests\n",
      "\n",
      "---------------------------------------------------------------------\n",
      "Test summary\n",
      "    Passed: 1\n",
      "    Failed: 0\n",
      "[ooooooooook] 100.0% passed\n",
      "\n",
      "~~~~~~~~~~~~~~~~~~~~~~~~~~~~~~~~~~~~~~~~~~~~~~~~~~~~~~~~~~~~~~~~~~~~~\n",
      "Running tests\n",
      "\n",
      "---------------------------------------------------------------------\n",
      "Test summary\n",
      "    Passed: 1\n",
      "    Failed: 0\n",
      "[ooooooooook] 100.0% passed\n",
      "\n",
      "~~~~~~~~~~~~~~~~~~~~~~~~~~~~~~~~~~~~~~~~~~~~~~~~~~~~~~~~~~~~~~~~~~~~~\n",
      "Running tests\n",
      "\n",
      "---------------------------------------------------------------------\n",
      "Test summary\n",
      "    Passed: 1\n",
      "    Failed: 0\n",
      "[ooooooooook] 100.0% passed\n",
      "\n",
      "~~~~~~~~~~~~~~~~~~~~~~~~~~~~~~~~~~~~~~~~~~~~~~~~~~~~~~~~~~~~~~~~~~~~~\n",
      "Running tests\n",
      "\n",
      "---------------------------------------------------------------------\n",
      "Test summary\n",
      "    Passed: 1\n",
      "    Failed: 0\n",
      "[ooooooooook] 100.0% passed\n",
      "\n",
      "~~~~~~~~~~~~~~~~~~~~~~~~~~~~~~~~~~~~~~~~~~~~~~~~~~~~~~~~~~~~~~~~~~~~~\n",
      "Running tests\n",
      "\n",
      "---------------------------------------------------------------------\n",
      "Test summary\n",
      "    Passed: 1\n",
      "    Failed: 0\n",
      "[ooooooooook] 100.0% passed\n",
      "\n",
      "~~~~~~~~~~~~~~~~~~~~~~~~~~~~~~~~~~~~~~~~~~~~~~~~~~~~~~~~~~~~~~~~~~~~~\n",
      "Running tests\n",
      "\n",
      "---------------------------------------------------------------------\n",
      "Test summary\n",
      "    Passed: 1\n",
      "    Failed: 0\n",
      "[ooooooooook] 100.0% passed\n",
      "\n",
      "~~~~~~~~~~~~~~~~~~~~~~~~~~~~~~~~~~~~~~~~~~~~~~~~~~~~~~~~~~~~~~~~~~~~~\n",
      "Running tests\n",
      "\n",
      "---------------------------------------------------------------------\n",
      "Test summary\n",
      "    Passed: 1\n",
      "    Failed: 0\n",
      "[ooooooooook] 100.0% passed\n",
      "\n",
      "~~~~~~~~~~~~~~~~~~~~~~~~~~~~~~~~~~~~~~~~~~~~~~~~~~~~~~~~~~~~~~~~~~~~~\n",
      "Running tests\n",
      "\n",
      "---------------------------------------------------------------------\n",
      "Test summary\n",
      "    Passed: 1\n",
      "    Failed: 0\n",
      "[ooooooooook] 100.0% passed\n",
      "\n",
      "~~~~~~~~~~~~~~~~~~~~~~~~~~~~~~~~~~~~~~~~~~~~~~~~~~~~~~~~~~~~~~~~~~~~~\n",
      "Running tests\n",
      "\n",
      "---------------------------------------------------------------------\n",
      "Test summary\n",
      "    Passed: 1\n",
      "    Failed: 0\n",
      "[ooooooooook] 100.0% passed\n",
      "\n"
     ]
    }
   ],
   "source": [
    "# For your convenience, you can run this cell to run all the tests at once!\n",
    "import os\n",
    "_ = [ok.grade(q[:-3]) for q in os.listdir('tests') if q.startswith('q')]"
   ]
  },
  {
   "cell_type": "code",
   "execution_count": null,
   "metadata": {},
   "outputs": [],
   "source": [
    "_ = ok.submit()"
   ]
  },
  {
   "cell_type": "markdown",
   "metadata": {},
   "source": [
    "## Don't forget to submit to both OK and Gradescope!"
   ]
  }
 ],
 "metadata": {
  "kernelspec": {
   "display_name": "Python 3",
   "language": "python",
   "name": "python3"
  },
  "language_info": {
   "codemirror_mode": {
    "name": "ipython",
    "version": 3
   },
   "file_extension": ".py",
   "mimetype": "text/x-python",
   "name": "python",
   "nbconvert_exporter": "python",
   "pygments_lexer": "ipython3",
   "version": "3.6.2"
  }
 },
 "nbformat": 4,
 "nbformat_minor": 2
}
