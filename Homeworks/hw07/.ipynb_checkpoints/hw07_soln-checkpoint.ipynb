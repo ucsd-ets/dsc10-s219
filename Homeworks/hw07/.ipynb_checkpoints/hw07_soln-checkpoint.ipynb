{
 "cells": [
  {
   "cell_type": "markdown",
   "metadata": {},
   "source": [
    "# Homework 7: Percentiles, Bootstrap, A/B Testing\n",
    "## Due Monday September 02, 11:59pm\n",
    "\n",
    "Directly sharing answers is not okay, but discussing problems with the course staff or with other students is encouraged. \n",
    "\n",
    "You should start early so that you have time to get help if you're stuck."
   ]
  },
  {
   "cell_type": "code",
   "execution_count": 2,
   "metadata": {},
   "outputs": [
    {
     "name": "stdout",
     "output_type": "stream",
     "text": [
      "=====================================================================\n",
      "Assignment: Homework 7\n",
      "OK, version v1.13.11\n",
      "=====================================================================\n",
      "\n"
     ]
    }
   ],
   "source": [
    "#:\n",
    "import math\n",
    "import numpy as np\n",
    "from datascience import *\n",
    "import matplotlib.pyplot as plt\n",
    "plt.style.use('fivethirtyeight')\n",
    "%matplotlib inline\n",
    "\n",
    "from client.api.notebook import Notebook\n",
    "ok = Notebook('hw07_soln.ok')\n",
    "#_ = ok.auth(inline=True)"
   ]
  },
  {
   "cell_type": "markdown",
   "metadata": {},
   "source": [
    "**Important**: The `ok` tests don't usually tell you that your answer is correct. More often, they help catch careless mistakes. It's up to you to ensure that your answer is correct. If you're not sure, ask someone (not for the answer, but for some guidance about your approach)."
   ]
  },
  {
   "cell_type": "markdown",
   "metadata": {},
   "source": [
    "Once you're finished, you must do two things:\n",
    "\n",
    "### a. Turn into OK\n",
    "Select \"Save and Checkpoint\" in the File menu and then run the submission cell at the end of the notebook. The result will contain a link that you can use to check that your assignment has been submitted successfully. If you submit more than once before the deadline, we'll only grade your final submission."
   ]
  },
  {
   "cell_type": "markdown",
   "metadata": {},
   "source": [
    "### b. Turn PDF into Gradescope\n",
    "Select File > Download As > PDF via LaTeX in the File menu. Turn in this PDF file into the respective assignement at https://gradescope.com/.\n",
    "<br>\n",
    "If you submit more than once before the deadline, we will only grade your final submission"
   ]
  },
  {
   "cell_type": "markdown",
   "metadata": {},
   "source": [
    "## 1. Percentiles"
   ]
  },
  {
   "cell_type": "markdown",
   "metadata": {},
   "source": [
    "**The General Definition**\n",
    "\n",
    "> Let $p$ be a number between 0 and 100. The $p$th percentile of a collection is the smallest value in the collection that is *at least as large* as $p$% of all the values. "
   ]
  },
  {
   "cell_type": "markdown",
   "metadata": {},
   "source": [
    "![](percentile_example.jpg)"
   ]
  },
  {
   "cell_type": "markdown",
   "metadata": {},
   "source": [
    "By this definition, any percentile between 0 and 100 can be computed for any collection of values and is always an element of the collection. Suppose there are $n$ elements in the collection. To find the $p$th percentile:\n",
    "\n",
    "1. Sort the collection in increasing order.\n",
    "2. Find $p$% of $n$: $\\frac p{100}*n$. Call that $h$. If $h$ is an integer, define $k = h$. Otherwise, let $k$ be the smallest integer greater than $h$.\n",
    "3. Take the $k$th element of the sorted collection."
   ]
  },
  {
   "cell_type": "markdown",
   "metadata": {},
   "source": [
    "**Question 1.** Assign the number of elements in `values` to the variable `n`. Define `k` as above -- your answer should be an integer. Assign the 65th percentile of the array `values` to `sixty_fifth_percentile`. You must use the variables provided for you when solving this problem. For this problem only, you may *not* use `percentile()`.\n",
    "\n",
    "*Hint:* Using `math.ceil()` will round up a number to the next nearest whole number. `math` has already been imported for you."
   ]
  },
  {
   "cell_type": "code",
   "execution_count": 2,
   "metadata": {},
   "outputs": [
    {
     "data": {
      "text/plain": [
       "array([ 32,  34,  45,  54,  65,  73,  84,  87,  99, 103])"
      ]
     },
     "execution_count": 2,
     "metadata": {},
     "output_type": "execute_result"
    }
   ],
   "source": [
    "#: don't change the values in this array!\n",
    "values = make_array(34, 65, 103, 73, 84, 32, 45, 87, 99, 54)\n",
    "values.sort()  # This line sorts the array\n",
    "values"
   ]
  },
  {
   "cell_type": "code",
   "execution_count": 3,
   "metadata": {},
   "outputs": [],
   "source": [
    "#...n\n",
    "n = len(values)"
   ]
  },
  {
   "cell_type": "code",
   "execution_count": 4,
   "metadata": {},
   "outputs": [],
   "source": [
    "#...k\n",
    "k = math.ceil(65/100 * n)"
   ]
  },
  {
   "cell_type": "code",
   "execution_count": 5,
   "metadata": {},
   "outputs": [
    {
     "data": {
      "text/plain": [
       "84"
      ]
     },
     "execution_count": 5,
     "metadata": {},
     "output_type": "execute_result"
    }
   ],
   "source": [
    "#...sixty_fifth_percentile\n",
    "sixty_fifth_percentile = values.item(k-1)\n",
    "sixty_fifth_percentile"
   ]
  },
  {
   "cell_type": "code",
   "execution_count": null,
   "metadata": {},
   "outputs": [],
   "source": [
    "_ = ok.grade('q1_1')"
   ]
  },
  {
   "cell_type": "markdown",
   "metadata": {},
   "source": [
    "**Question 2.** The table `chess_data.csv` contains some simple data taken from chess website lichess taken from [kaggle]. The columns include `turns`, `white_rating`, `black_rating`, and `winner`. Use the bins provided."
   ]
  },
  {
   "cell_type": "code",
   "execution_count": 4,
   "metadata": {},
   "outputs": [],
   "source": [
    "#: read in the table\n",
    "chess = Table().read_table('chess_data.csv')\n",
    "chess_bins = np.arange(700, 2800, 100)"
   ]
  },
  {
   "cell_type": "code",
   "execution_count": 5,
   "metadata": {
    "scrolled": true
   },
   "outputs": [
    {
     "data": {
      "image/png": "[encoded data removed]",
      "text/plain": [
       "<Figure size 432x288 with 1 Axes>"
      ]
     },
     "metadata": {
      "needs_background": "light"
     },
     "output_type": "display_data"
    }
   ],
   "source": [
    "# plot your histogram here\n",
    "chess.hist('white_rating', bins=chess_bins)"
   ]
  },
  {
   "cell_type": "markdown",
   "metadata": {},
   "source": [
    "**Question 3.** Find the absolute difference between the 95th percentile of White's rating and Black's rating, and assign it to `absolute difference`. You may use `percentile()`."
   ]
  },
  {
   "cell_type": "code",
   "execution_count": 11,
   "metadata": {},
   "outputs": [
    {
     "data": {
      "text/plain": [
       "5"
      ]
     },
     "execution_count": 11,
     "metadata": {},
     "output_type": "execute_result"
    }
   ],
   "source": [
    "#...absolute_difference\n",
    "absolute_difference = int(abs(percentile(95, chess.column('white_rating')) - percentile(95, chess.column('black_rating'))))\n",
    "absolute_difference"
   ]
  },
  {
   "cell_type": "code",
   "execution_count": null,
   "metadata": {
    "scrolled": true
   },
   "outputs": [],
   "source": [
    "_ = ok.grade('q1_3')"
   ]
  },
  {
   "cell_type": "markdown",
   "metadata": {},
   "source": [
    "**Question 4**. Suppose you only want to look at games that lasted 20 games or less. In an array `chess_quartiles`, put the values for the first, second, and third quartiles (in that order) of the chess ratings for white. Make sure your values are in the correct order. You may use `percentile()`."
   ]
  },
  {
   "cell_type": "code",
   "execution_count": 18,
   "metadata": {},
   "outputs": [
    {
     "data": {
      "text/plain": [
       "array([1290, 1485, 1654])"
      ]
     },
     "execution_count": 18,
     "metadata": {},
     "output_type": "execute_result"
    }
   ],
   "source": [
    "df = chess.where('turns', are.below(21)).column('white_rating')\n",
    "first_quartile = percentile(25, df)\n",
    "second_quartile = percentile(50, df)\n",
    "third_quartile = percentile(75, df)\n",
    "chess_quartiles = make_array(first_quartile, second_quartile, third_quartile)\n",
    "chess_quartiles"
   ]
  },
  {
   "cell_type": "code",
   "execution_count": null,
   "metadata": {},
   "outputs": [],
   "source": [
    "_ = ok.grade('q1_4')"
   ]
  },
  {
   "cell_type": "markdown",
   "metadata": {},
   "source": [
    "You might notice that the median rating seems to be lower than the median of all of `white_rating`. This seems to indicate that lower rated players have shorter games."
   ]
  },
  {
   "cell_type": "markdown",
   "metadata": {},
   "source": [
    "**Question 5.** Shaun surveyed his class to find the total number of siblings each of his classmates has. You can see his findings below in the table `siblings`. For instance, 2 people have 0 siblings, 4 have 1 sibling, and so on. If one of his classmates, Jake, has some number of siblings that falls in the 75th percentile of Shaun's data, how many siblings does Jake have? Assign your answer to the value `jake_siblings`. You may use `percentile()`."
   ]
  },
  {
   "cell_type": "code",
   "execution_count": 11,
   "metadata": {},
   "outputs": [
    {
     "data": {
      "text/html": [
       "<table border=\"1\" class=\"dataframe\">\n",
       "    <thead>\n",
       "        <tr>\n",
       "            <th>Siblings</th> <th>Frequency</th>\n",
       "        </tr>\n",
       "    </thead>\n",
       "    <tbody>\n",
       "        <tr>\n",
       "            <td>0       </td> <td>2        </td>\n",
       "        </tr>\n",
       "        <tr>\n",
       "            <td>1       </td> <td>4        </td>\n",
       "        </tr>\n",
       "        <tr>\n",
       "            <td>2       </td> <td>5        </td>\n",
       "        </tr>\n",
       "        <tr>\n",
       "            <td>3       </td> <td>4        </td>\n",
       "        </tr>\n",
       "        <tr>\n",
       "            <td>4       </td> <td>3        </td>\n",
       "        </tr>\n",
       "        <tr>\n",
       "            <td>5       </td> <td>1        </td>\n",
       "        </tr>\n",
       "        <tr>\n",
       "            <td>8       </td> <td>1        </td>\n",
       "        </tr>\n",
       "    </tbody>\n",
       "</table>"
      ],
      "text/plain": [
       "Siblings | Frequency\n",
       "0        | 2\n",
       "1        | 4\n",
       "2        | 5\n",
       "3        | 4\n",
       "4        | 3\n",
       "5        | 1\n",
       "8        | 1"
      ]
     },
     "execution_count": 11,
     "metadata": {},
     "output_type": "execute_result"
    }
   ],
   "source": [
    "#: load the data\n",
    "siblings = Table().read_table('siblings.csv')\n",
    "siblings"
   ]
  },
  {
   "cell_type": "code",
   "execution_count": 12,
   "metadata": {},
   "outputs": [
    {
     "data": {
      "text/plain": [
       "3.0"
      ]
     },
     "execution_count": 12,
     "metadata": {},
     "output_type": "execute_result"
    }
   ],
   "source": [
    "#...jake_siblings\n",
    "\n",
    "num_siblings = make_array()\n",
    "for num in np.arange(siblings.num_rows):\n",
    "    for frequency in np.arange(siblings.column('Frequency').item(num)):\n",
    "        num_siblings = np.append(num_siblings, siblings.column('Siblings').item(num))\n",
    "jake_siblings = percentile(75, num_siblings)\n",
    "jake_siblings"
   ]
  },
  {
   "cell_type": "code",
   "execution_count": null,
   "metadata": {},
   "outputs": [],
   "source": [
    "_ = ok.grade('q1_5')"
   ]
  },
  {
   "cell_type": "markdown",
   "metadata": {},
   "source": [
    "## 2. In-N-Out and Five Guys"
   ]
  },
  {
   "cell_type": "markdown",
   "metadata": {},
   "source": [
    "Suppose you are a burger lover and a regular at In-N-Out. When you get your third In-N-Out burger of the week, you notice that your patty is extremely small. Your friend tells you In-N-Out patties have always been this small, but you are doubtful and decide to investigate.\n",
    "\n",
    "Ideally, you would want to figure out the exact mean weight of all In-N-Out burger patties. However, it's not feasible to obtain the mean weight of *all* In-N-Out patties (i.e. the mean weight of the population)."
   ]
  },
  {
   "cell_type": "markdown",
   "metadata": {},
   "source": [
    "**Question 1.** Complete the statement below by filling in the blanks."
   ]
  },
  {
   "cell_type": "markdown",
   "metadata": {},
   "source": [
    "<hr style=\"color:Maroon;background-color:Maroon;border:0 none; height: 3px;\">\n",
    "\n",
    "Therefore, you want to collect a sample of In-N-Out patties to obtain a __sample___ statistic to estimate the __population___ parameter.\n",
    "\n",
    "<hr style=\"color:Maroon;background-color:Maroon;border:0 none; height: 3px;\">"
   ]
  },
  {
   "cell_type": "markdown",
   "metadata": {},
   "source": [
    "Your other friend, who works at In-N-Out, agreed to weigh all the patties during his shift. He also does the same with Five Guys, since he works there as well. You decide to use this data as your sample."
   ]
  },
  {
   "cell_type": "markdown",
   "metadata": {},
   "source": [
    "**Question 2.** Your data is recorded in a CSV file called `burgers.csv`. Read this file into a table named `burgers`."
   ]
  },
  {
   "cell_type": "code",
   "execution_count": 13,
   "metadata": {},
   "outputs": [
    {
     "data": {
      "text/html": [
       "<table border=\"1\" class=\"dataframe\">\n",
       "    <thead>\n",
       "        <tr>\n",
       "            <th>Place</th> <th>Patty Weight (Ounces)</th>\n",
       "        </tr>\n",
       "    </thead>\n",
       "    <tbody>\n",
       "        <tr>\n",
       "            <td>In-N-Out </td> <td>2.03965              </td>\n",
       "        </tr>\n",
       "        <tr>\n",
       "            <td>Five Guys</td> <td>3.24888              </td>\n",
       "        </tr>\n",
       "        <tr>\n",
       "            <td>In-N-Out </td> <td>1.97796              </td>\n",
       "        </tr>\n",
       "        <tr>\n",
       "            <td>Five Guys</td> <td>3.40318              </td>\n",
       "        </tr>\n",
       "        <tr>\n",
       "            <td>Five Guys</td> <td>3.12093              </td>\n",
       "        </tr>\n",
       "        <tr>\n",
       "            <td>In-N-Out </td> <td>1.96627              </td>\n",
       "        </tr>\n",
       "        <tr>\n",
       "            <td>In-N-Out </td> <td>2.05846              </td>\n",
       "        </tr>\n",
       "        <tr>\n",
       "            <td>Five Guys</td> <td>3.16576              </td>\n",
       "        </tr>\n",
       "        <tr>\n",
       "            <td>In-N-Out </td> <td>1.98543              </td>\n",
       "        </tr>\n",
       "        <tr>\n",
       "            <td>Five Guys</td> <td>3.16855              </td>\n",
       "        </tr>\n",
       "    </tbody>\n",
       "</table>\n",
       "<p>... (90 rows omitted)</p>"
      ],
      "text/plain": [
       "Place     | Patty Weight (Ounces)\n",
       "In-N-Out  | 2.03965\n",
       "Five Guys | 3.24888\n",
       "In-N-Out  | 1.97796\n",
       "Five Guys | 3.40318\n",
       "Five Guys | 3.12093\n",
       "In-N-Out  | 1.96627\n",
       "In-N-Out  | 2.05846\n",
       "Five Guys | 3.16576\n",
       "In-N-Out  | 1.98543\n",
       "Five Guys | 3.16855\n",
       "... (90 rows omitted)"
      ]
     },
     "execution_count": 13,
     "metadata": {},
     "output_type": "execute_result"
    }
   ],
   "source": [
    "#...burgers\n",
    "burgers = Table.read_table('burgers.csv')\n",
    "burgers"
   ]
  },
  {
   "cell_type": "code",
   "execution_count": null,
   "metadata": {},
   "outputs": [],
   "source": [
    "_ = ok.grade('q2_2')"
   ]
  },
  {
   "cell_type": "markdown",
   "metadata": {},
   "source": [
    "**Question 3.** For now, you only care about the weights of the In-N-Out patties. Create a new table with the rows of `burgers` where the value of `Place` is \"In-N-Out\". Assign this new table to `in_n_out`."
   ]
  },
  {
   "cell_type": "code",
   "execution_count": 14,
   "metadata": {},
   "outputs": [
    {
     "data": {
      "text/html": [
       "<table border=\"1\" class=\"dataframe\">\n",
       "    <thead>\n",
       "        <tr>\n",
       "            <th>Place</th> <th>Patty Weight (Ounces)</th>\n",
       "        </tr>\n",
       "    </thead>\n",
       "    <tbody>\n",
       "        <tr>\n",
       "            <td>In-N-Out</td> <td>2.03965              </td>\n",
       "        </tr>\n",
       "        <tr>\n",
       "            <td>In-N-Out</td> <td>1.97796              </td>\n",
       "        </tr>\n",
       "        <tr>\n",
       "            <td>In-N-Out</td> <td>1.96627              </td>\n",
       "        </tr>\n",
       "        <tr>\n",
       "            <td>In-N-Out</td> <td>2.05846              </td>\n",
       "        </tr>\n",
       "        <tr>\n",
       "            <td>In-N-Out</td> <td>1.98543              </td>\n",
       "        </tr>\n",
       "        <tr>\n",
       "            <td>In-N-Out</td> <td>1.5906               </td>\n",
       "        </tr>\n",
       "        <tr>\n",
       "            <td>In-N-Out</td> <td>2.09618              </td>\n",
       "        </tr>\n",
       "        <tr>\n",
       "            <td>In-N-Out</td> <td>2.01034              </td>\n",
       "        </tr>\n",
       "        <tr>\n",
       "            <td>In-N-Out</td> <td>1.72951              </td>\n",
       "        </tr>\n",
       "        <tr>\n",
       "            <td>In-N-Out</td> <td>2.1223               </td>\n",
       "        </tr>\n",
       "    </tbody>\n",
       "</table>\n",
       "<p>... (40 rows omitted)</p>"
      ],
      "text/plain": [
       "Place    | Patty Weight (Ounces)\n",
       "In-N-Out | 2.03965\n",
       "In-N-Out | 1.97796\n",
       "In-N-Out | 1.96627\n",
       "In-N-Out | 2.05846\n",
       "In-N-Out | 1.98543\n",
       "In-N-Out | 1.5906\n",
       "In-N-Out | 2.09618\n",
       "In-N-Out | 2.01034\n",
       "In-N-Out | 1.72951\n",
       "In-N-Out | 2.1223\n",
       "... (40 rows omitted)"
      ]
     },
     "execution_count": 14,
     "metadata": {},
     "output_type": "execute_result"
    }
   ],
   "source": [
    "#...in_n_out\n",
    "in_n_out = burgers.where('Place', 'In-N-Out')\n",
    "in_n_out"
   ]
  },
  {
   "cell_type": "code",
   "execution_count": null,
   "metadata": {},
   "outputs": [],
   "source": [
    "_ = ok.grade('q2_3')"
   ]
  },
  {
   "cell_type": "markdown",
   "metadata": {},
   "source": [
    "**Question 4.** Calculate the mean weight of `in_n_out` patties and assign it to `in_n_out_mean`. "
   ]
  },
  {
   "cell_type": "code",
   "execution_count": 15,
   "metadata": {},
   "outputs": [
    {
     "data": {
      "text/plain": [
       "2.0076955103010916"
      ]
     },
     "execution_count": 15,
     "metadata": {},
     "output_type": "execute_result"
    }
   ],
   "source": [
    "#...in_n_out_mean\n",
    "in_n_out_mean = in_n_out.column('Patty Weight (Ounces)').mean()\n",
    "in_n_out_mean"
   ]
  },
  {
   "cell_type": "code",
   "execution_count": null,
   "metadata": {},
   "outputs": [],
   "source": [
    "_ = ok.grade('q2_4')"
   ]
  },
  {
   "cell_type": "markdown",
   "metadata": {},
   "source": [
    "You're done! Or are you? You have a single point estimate for the true mean In-N-Out patty weight. However, you don't know how uncertain your estimate is and you don't know how much these estimates could vary. In other words, you don't have a sense of how good your estimate is. You may have gotten a particular statistic for one sample, but you could also get a completely different one for another sample.\n",
    "\n",
    "This is where the idea of resampling via the [bootstrap](https://ucsd-ets.github.io/dsc10-fa18-textbook/chapters/13/2/Bootstrap) comes in. Let's assume that our original sample resembles the population fairly well. We can then resample from our original sample to produce even more estimates, which we can then use to produce an interval estimate for the true mean weight of In-N-Out patties."
   ]
  },
  {
   "cell_type": "markdown",
   "metadata": {},
   "source": [
    "**Question 5.** Fill out the following code to produce 5,000 bootstrapped estimates for the  *mean* weight of In-N-Out patties. Store your 5,000 estimates in the `in_n_out_means` array."
   ]
  },
  {
   "cell_type": "code",
   "execution_count": 16,
   "metadata": {},
   "outputs": [],
   "source": [
    "# in_n_out_means = ...\n",
    "# for ... in ...:\n",
    "#     resample = ...\n",
    "#     resample_mean = ...\n",
    "#     in_n_out_means = ...   \n",
    "    \n",
    "in_n_out_means = make_array()\n",
    "for i in np.arange(5000):\n",
    "    resample = in_n_out.sample()\n",
    "    resample_mean = np.mean(resample.column('Patty Weight (Ounces)'))\n",
    "    in_n_out_means = np.append(in_n_out_means, resample_mean)"
   ]
  },
  {
   "cell_type": "code",
   "execution_count": 17,
   "metadata": {},
   "outputs": [
    {
     "data": {
      "image/png": "[encoded data removed]",
      "text/plain": [
       "<Figure size 432x288 with 1 Axes>"
      ]
     },
     "metadata": {
      "needs_background": "light"
     },
     "output_type": "display_data"
    }
   ],
   "source": [
    "#: This cell displays a histogram of in_n_out_means\n",
    "Table().with_column('Estimated Mean', in_n_out_means).hist()"
   ]
  },
  {
   "cell_type": "code",
   "execution_count": null,
   "metadata": {},
   "outputs": [],
   "source": [
    "_ = ok.grade('q2_5')"
   ]
  },
  {
   "cell_type": "markdown",
   "metadata": {},
   "source": [
    "**Question 6.** Using the array `in_n_out_means`, compute an approximate 95% confidence interval for the true mean weight of In-N-Out patties. (Compute the lower and upper ends of the interval, named `lower_bound` and `upper_bound`, respectively.)\n",
    "\n",
    "*Hint:* Use `percentile()`."
   ]
  },
  {
   "cell_type": "code",
   "execution_count": 18,
   "metadata": {},
   "outputs": [
    {
     "data": {
      "text/plain": [
       "1.965756664760305"
      ]
     },
     "execution_count": 18,
     "metadata": {},
     "output_type": "execute_result"
    }
   ],
   "source": [
    "#...lower_bound\n",
    "lower_bound = percentile(2.5, in_n_out_means)\n",
    "lower_bound"
   ]
  },
  {
   "cell_type": "code",
   "execution_count": 19,
   "metadata": {},
   "outputs": [
    {
     "data": {
      "text/plain": [
       "2.0499757080805856"
      ]
     },
     "execution_count": 19,
     "metadata": {},
     "output_type": "execute_result"
    }
   ],
   "source": [
    "#...upper_bound\n",
    "upper_bound = percentile(97.5, in_n_out_means)\n",
    "upper_bound"
   ]
  },
  {
   "cell_type": "code",
   "execution_count": 20,
   "metadata": {},
   "outputs": [
    {
     "name": "stdout",
     "output_type": "stream",
     "text": [
      "Bootstrapped 95% confidence interval for the true mean weight of In-N-Out patties: [1.965757, 2.049976]\n"
     ]
    }
   ],
   "source": [
    "#: the confidence interval\n",
    "print(\"Bootstrapped 95% confidence interval for the true mean weight of In-N-Out patties: [{:f}, {:f}]\".format(lower_bound, upper_bound))"
   ]
  },
  {
   "cell_type": "code",
   "execution_count": null,
   "metadata": {},
   "outputs": [],
   "source": [
    "_ = ok.grade('q2_6')"
   ]
  },
  {
   "cell_type": "markdown",
   "metadata": {},
   "source": [
    "**Question 7.** Which of the following would make the histogram narrower? Assign either 1 or 2 to `q2_7`.\n",
    "1. Starting with a larger original sample size.\n",
    "2. Increasing the number of resamples (repetitions of bootstrap)."
   ]
  },
  {
   "cell_type": "code",
   "execution_count": 21,
   "metadata": {},
   "outputs": [
    {
     "data": {
      "text/plain": [
       "1"
      ]
     },
     "execution_count": 21,
     "metadata": {},
     "output_type": "execute_result"
    }
   ],
   "source": [
    "#...q2_7\n",
    "q2_7 = 1\n",
    "q2_7"
   ]
  },
  {
   "cell_type": "code",
   "execution_count": null,
   "metadata": {},
   "outputs": [],
   "source": [
    "_ = ok.grade('q2_7')"
   ]
  },
  {
   "cell_type": "markdown",
   "metadata": {},
   "source": [
    "**Question 8.** Suppose you want to find the weight of the heaviest In-N-Out patty (maximum weight out of the entire population). Would your bootstrap procedure be effective in estimating the weight of the heaviest In-N-Out patty? Explain your answer below."
   ]
  },
  {
   "cell_type": "markdown",
   "metadata": {},
   "source": [
    "<hr style=\"color:Maroon;background-color:Maroon;border:0 none; height: 3px;\">\n",
    "\n",
    "No. Bootstrap is not an effective procedure for estimating sensitive population parameters such as the maximum. This is because the maximum of the resamples can only be as large as the maximum of the original sample, which is unlikely to contain the maximum of the whole population, leading to an underestimate in most cases.\n",
    "\n",
    "<hr style=\"color:Maroon;background-color:Maroon;border:0 none; height: 3px;\">"
   ]
  },
  {
   "cell_type": "markdown",
   "metadata": {},
   "source": [
    "**Question 9.** Suppose you're wondering how heavy the average In-N-Out patty is compared to the average Five Guys patty. Using the same bootstrap procedure, compute an approximate 95% confidence interval for the true mean difference in weight between In-N-Out and Five Guys patties. Store your 5,000 estimates in the `difference_means` array. Use the original `burgers` table for this.\n",
    "\n",
    "$$\\text{difference_mean} := \\text{mean weight of In-N-Out} - \\text{mean weight of Five Guys}$$"
   ]
  },
  {
   "cell_type": "code",
   "execution_count": 22,
   "metadata": {},
   "outputs": [],
   "source": [
    "# You may need to add lines for additional code!\n",
    "# difference_means = ...\n",
    "# for ... in ...:\n",
    "#     resample = ...\n",
    "#     resample_mean = ...\n",
    "#     difference_means = ...\n",
    "\n",
    "difference_means = make_array()\n",
    "for i in np.arange(5000):\n",
    "    resample = burgers.sample().group('Place', np.mean)\n",
    "    resampled_in_n_out_mean = resample.where('Place', 'In-N-Out').column('Patty Weight (Ounces) mean')\n",
    "    resampled_five_guys_mean = resample.where('Place', 'Five Guys').column('Patty Weight (Ounces) mean')\n",
    "    resample_mean = resampled_in_n_out_mean - resampled_five_guys_mean\n",
    "    difference_means = np.append(difference_means, resample_mean)"
   ]
  },
  {
   "cell_type": "code",
   "execution_count": 23,
   "metadata": {},
   "outputs": [
    {
     "data": {
      "image/png": "[encoded data removed]",
      "text/plain": [
       "<Figure size 432x288 with 1 Axes>"
      ]
     },
     "metadata": {
      "needs_background": "light"
     },
     "output_type": "display_data"
    }
   ],
   "source": [
    "#: This cell displays a histogram of difference_means\n",
    "Table().with_column('Estimated Mean Difference', difference_means).hist()"
   ]
  },
  {
   "cell_type": "code",
   "execution_count": null,
   "metadata": {},
   "outputs": [],
   "source": [
    "_ = ok.grade('q2_9')"
   ]
  },
  {
   "cell_type": "markdown",
   "metadata": {},
   "source": [
    "**Question 10.** Compute the 95% confidence interval for the mean difference in weights of In-N-Out and Five Guys patties. Assign the left and right endpoints to `left_endpoint` and `right_endpoint` respectively. "
   ]
  },
  {
   "cell_type": "code",
   "execution_count": 24,
   "metadata": {},
   "outputs": [],
   "source": [
    "#...left_endpoint\n",
    "left_endpoint = percentile(2.5, difference_means)"
   ]
  },
  {
   "cell_type": "code",
   "execution_count": 25,
   "metadata": {},
   "outputs": [],
   "source": [
    "#...right_endpoint\n",
    "right_endpoint = percentile(97.5, difference_means)"
   ]
  },
  {
   "cell_type": "code",
   "execution_count": 26,
   "metadata": {},
   "outputs": [
    {
     "name": "stdout",
     "output_type": "stream",
     "text": [
      "Bootstrapped 95% confidence interval for the mean difference in weights of In-N-Out and Five Guys patties: [-1.358523, -1.218665]\n"
     ]
    }
   ],
   "source": [
    "#: the confidence interval\n",
    "print(\"Bootstrapped 95% confidence interval for the mean difference in weights of In-N-Out and Five Guys patties: [{:f}, {:f}]\".format(left_endpoint, right_endpoint))"
   ]
  },
  {
   "cell_type": "code",
   "execution_count": null,
   "metadata": {},
   "outputs": [],
   "source": [
    "_ = ok.grade('q2_10')"
   ]
  },
  {
   "cell_type": "markdown",
   "metadata": {},
   "source": [
    "**Question 11:** Based on your histogram and confidence interval, would you say with high probability that the mean In-N-Out patty is lighter than the mean Five Guys patty? Explain your answer."
   ]
  },
  {
   "cell_type": "markdown",
   "metadata": {},
   "source": [
    "<hr style=\"color:Maroon;background-color:Maroon;border:0 none; height: 3px;\">\n",
    "\n",
    "Yes. 0 is contained in the very fair right tail of the histogram (or may not even be contained at all) and the 95% confidence interval contains only negative values.\n",
    "\n",
    "<hr style=\"color:Maroon;background-color:Maroon;border:0 none; height: 3px;\">"
   ]
  },
  {
   "cell_type": "markdown",
   "metadata": {},
   "source": [
    "**Question 12.** Would changing the units of weight from ounces to grams change your conclusion? Assign a boolean (`True` if it would and `False` otherwise) to the name `q2_12`."
   ]
  },
  {
   "cell_type": "code",
   "execution_count": 27,
   "metadata": {},
   "outputs": [],
   "source": [
    "#...q2_12\n",
    "q2_12 = False"
   ]
  },
  {
   "cell_type": "code",
   "execution_count": null,
   "metadata": {},
   "outputs": [],
   "source": [
    "_ = ok.grade('q2_12')"
   ]
  },
  {
   "cell_type": "markdown",
   "metadata": {},
   "source": [
    "## 3. Voting For the Best Burger\n"
   ]
  },
  {
   "cell_type": "markdown",
   "metadata": {},
   "source": [
    "Even though In-N-Out disappointed you with a small burger patty, they still are the number one ranked burger, according to [ranker.com](https://www.ranker.com/crowdranked-list/top-fast-food-burgers). Suppose 10,000 were people selected uniformly at random from among voters in the US and were asked to vote for the best burger between the top five places in that article, In-N-Out, Five Guys, Wendys, Burger King, and Whataburger. Here are the following approximate proportions of votes from the sample:\n",
    "\n",
    "|Place  | Proportion|\n",
    "|:------------:|:------------:|\n",
    "|In-N-Out | 0.36 |\n",
    "|Five Guys | 0.35 |\n",
    "|Wendys | 0.19 |\n",
    "|Burger King | 0.07 |\n",
    "|Whataburger   | 0.03 |\n",
    "\n",
    "These proportions represent a uniform random sample of the population of the US. We will attempt to estimate the corresponding *population parameters* - the proportions of each kind of burger voter in the entire population.  We will use confidence intervals to compute a range of values that reflects the uncertainty of our estimate.\n",
    "\n",
    "Load `burger_votes.csv` to a variable called `votes`."
   ]
  },
  {
   "cell_type": "code",
   "execution_count": 3,
   "metadata": {},
   "outputs": [
    {
     "data": {
      "text/html": [
       "<table border=\"1\" class=\"dataframe\">\n",
       "    <thead>\n",
       "        <tr>\n",
       "            <th>Place</th>\n",
       "        </tr>\n",
       "    </thead>\n",
       "    <tbody>\n",
       "        <tr>\n",
       "            <td>In-N-Out   </td>\n",
       "        </tr>\n",
       "        <tr>\n",
       "            <td>Burger King</td>\n",
       "        </tr>\n",
       "        <tr>\n",
       "            <td>Wendys     </td>\n",
       "        </tr>\n",
       "        <tr>\n",
       "            <td>Five Guys  </td>\n",
       "        </tr>\n",
       "        <tr>\n",
       "            <td>In-N-Out   </td>\n",
       "        </tr>\n",
       "        <tr>\n",
       "            <td>In-N-Out   </td>\n",
       "        </tr>\n",
       "        <tr>\n",
       "            <td>Five Guys  </td>\n",
       "        </tr>\n",
       "        <tr>\n",
       "            <td>Five Guys  </td>\n",
       "        </tr>\n",
       "        <tr>\n",
       "            <td>Five Guys  </td>\n",
       "        </tr>\n",
       "        <tr>\n",
       "            <td>In-N-Out   </td>\n",
       "        </tr>\n",
       "    </tbody>\n",
       "</table>\n",
       "<p>... (9990 rows omitted)</p>"
      ],
      "text/plain": [
       "Place\n",
       "In-N-Out\n",
       "Burger King\n",
       "Wendys\n",
       "Five Guys\n",
       "In-N-Out\n",
       "In-N-Out\n",
       "Five Guys\n",
       "Five Guys\n",
       "Five Guys\n",
       "In-N-Out\n",
       "... (9990 rows omitted)"
      ]
     },
     "execution_count": 3,
     "metadata": {},
     "output_type": "execute_result"
    }
   ],
   "source": [
    "votes = Table.read_table('burger_votes.csv')\n",
    "votes"
   ]
  },
  {
   "cell_type": "markdown",
   "metadata": {},
   "source": [
    "**Question 1** Define a function `proportions_in_resamples` that uses 3,000 bootstrapped samples to compute estimates of the true proportion of voters in the population who will vote for In-N-Out. It returns an array of these statistics."
   ]
  },
  {
   "cell_type": "code",
   "execution_count": 4,
   "metadata": {},
   "outputs": [],
   "source": [
    "def proportions_in_resamples():\n",
    "    statistics = make_array()\n",
    "    num_votes = votes.num_rows\n",
    "    for i in np.arange(3000):\n",
    "        bootstrap = votes.sample()\n",
    "        sample_statistic = np.count_nonzero(bootstrap.column('Place') == 'In-N-Out')/num_votes\n",
    "        statistics = np.append(statistics, sample_statistic)\n",
    "    return statistics"
   ]
  },
  {
   "cell_type": "code",
   "execution_count": 5,
   "metadata": {},
   "outputs": [
    {
     "data": {
      "image/png": "[encoded data removed]",
      "text/plain": [
       "<Figure size 432x288 with 1 Axes>"
      ]
     },
     "metadata": {},
     "output_type": "display_data"
    }
   ],
   "source": [
    "# run this code to produce a histogram\n",
    "boot_proportions = proportions_in_resamples()\n",
    "Table().with_column('Estimated Proportion', boot_proportions).hist(bins=np.arange(0.33,0.39,0.005))"
   ]
  },
  {
   "cell_type": "code",
   "execution_count": 6,
   "metadata": {},
   "outputs": [],
   "source": [
    "#: grade 3.1\n",
    "_ = ok.grade('q3_1')"
   ]
  },
  {
   "cell_type": "markdown",
   "metadata": {},
   "source": [
    "**Question 2.** Using the array `boot_proportions`, compute an approximate 95% confidence interval for the true proportions of voters who would vote for In-N-Out.  (Compute the lower and upper ends of the interval, named `lower_bound` and `upper_bound`, respectively.)"
   ]
  },
  {
   "cell_type": "code",
   "execution_count": 8,
   "metadata": {},
   "outputs": [
    {
     "data": {
      "text/plain": [
       "0.3508"
      ]
     },
     "execution_count": 8,
     "metadata": {},
     "output_type": "execute_result"
    }
   ],
   "source": [
    "#...lower_bound\n",
    "lower_bound = percentile(2.5, boot_proportions)\n",
    "lower_bound"
   ]
  },
  {
   "cell_type": "code",
   "execution_count": 9,
   "metadata": {},
   "outputs": [
    {
     "data": {
      "text/plain": [
       "0.3697"
      ]
     },
     "execution_count": 9,
     "metadata": {},
     "output_type": "execute_result"
    }
   ],
   "source": [
    "#...upper_bound\n",
    "upper_bound = percentile(97.5, boot_proportions)\n",
    "upper_bound"
   ]
  },
  {
   "cell_type": "code",
   "execution_count": 10,
   "metadata": {},
   "outputs": [
    {
     "name": "stdout",
     "output_type": "stream",
     "text": [
      "Bootstrapped 95% confidence interval for the proportion of In-N-Out voters in the population: [0.350800, 0.369700]\n"
     ]
    }
   ],
   "source": [
    "#: print the confidence interval\n",
    "print(\"Bootstrapped 95% confidence interval for the proportion of In-N-Out voters in the population: [{:f}, {:f}]\".format(lower_bound, upper_bound))"
   ]
  },
  {
   "cell_type": "code",
   "execution_count": null,
   "metadata": {},
   "outputs": [],
   "source": [
    "#: grade 3.2\n",
    "_ = ok.grade('q3_2')"
   ]
  },
  {
   "cell_type": "markdown",
   "metadata": {},
   "source": [
    "**Question 3.** The survey results seem to indicate that In-N-Out just beats out Five Guys. We would like to use confidence intervals to determine a range of likely values for In-N-Out's true *lead*. In-N-Out's lead over Five Guys is defined as:\n",
    "\n",
    "$$\\text{(In-N-Out's proportion of the vote)} - \\text{(Five Guys's proportion of the vote)}.$$\n",
    "\n",
    "Define a function `leads_in_resamples` that uses the 3000 bootstrapped samples to estimate In-N-Out's lead over Five Guys, and returns your bootstrap estimates."
   ]
  },
  {
   "cell_type": "code",
   "execution_count": 11,
   "metadata": {},
   "outputs": [],
   "source": [
    "# place your bootstrap\n",
    "def leads_in_resamples():\n",
    "    statistics = make_array()\n",
    "    for i in np.arange(3000):\n",
    "        bootstrap = votes.sample()\n",
    "        num_votes = votes.num_rows\n",
    "        sample_statistic = np.count_nonzero(bootstrap.column('Place') == 'In-N-Out')/num_votes - np.count_nonzero(bootstrap.column('Place') == 'Five Guys')/num_votes\n",
    "        statistics = np.append(statistics, sample_statistic)\n",
    "    return statistics"
   ]
  },
  {
   "cell_type": "code",
   "execution_count": 12,
   "metadata": {},
   "outputs": [
    {
     "data": {
      "image/png": "[encoded data removed]",
      "text/plain": [
       "<Figure size 432x288 with 1 Axes>"
      ]
     },
     "metadata": {},
     "output_type": "display_data"
    }
   ],
   "source": [
    "# run this code to plot the histogram\n",
    "boot_leads = leads_in_resamples()\n",
    "Table().with_column('Estimated Lead', boot_leads).hist(bins=np.arange(-0.02,0.04,0.005))"
   ]
  },
  {
   "cell_type": "code",
   "execution_count": null,
   "metadata": {},
   "outputs": [],
   "source": [
    "#: grade 3.3\n",
    "_ = ok.grade('q3_3')"
   ]
  },
  {
   "cell_type": "markdown",
   "metadata": {},
   "source": [
    "**Question 4.** Compute an approximate 95% confidence interval for the difference in proportions."
   ]
  },
  {
   "cell_type": "code",
   "execution_count": 14,
   "metadata": {},
   "outputs": [
    {
     "data": {
      "text/plain": [
       "-0.007099999999999995"
      ]
     },
     "execution_count": 14,
     "metadata": {},
     "output_type": "execute_result"
    }
   ],
   "source": [
    "#...diff_lower_bound \n",
    "diff_lower_bound = percentile(2.5, boot_leads)\n",
    "diff_lower_bound"
   ]
  },
  {
   "cell_type": "code",
   "execution_count": 15,
   "metadata": {},
   "outputs": [
    {
     "data": {
      "text/plain": [
       "0.02639999999999998"
      ]
     },
     "execution_count": 15,
     "metadata": {},
     "output_type": "execute_result"
    }
   ],
   "source": [
    "#...diff_upper_bound\n",
    "diff_upper_bound = percentile(97.5, boot_leads)\n",
    "diff_upper_bound"
   ]
  },
  {
   "cell_type": "code",
   "execution_count": 16,
   "metadata": {},
   "outputs": [
    {
     "name": "stdout",
     "output_type": "stream",
     "text": [
      "Bootstrapped 95% confidence interval for In-N-Out's lead over Five Guys: [-0.007100, 0.026400]\n"
     ]
    }
   ],
   "source": [
    "#: print the confidence interval\n",
    "print(\"Bootstrapped 95% confidence interval for In-N-Out's lead over Five Guys: [{:f}, {:f}]\".format(diff_lower_bound, diff_upper_bound))"
   ]
  },
  {
   "cell_type": "code",
   "execution_count": null,
   "metadata": {},
   "outputs": [],
   "source": [
    "#: grade\n",
    "_ = ok.grade('q3_4')"
   ]
  },
  {
   "cell_type": "markdown",
   "metadata": {},
   "source": [
    "**Question 5**. Suppose your confidence interval for the proportion of people that would vote for In-N-Out was [0.34,0.36]. Does this mean that there is a 95% probability that 35% of the population would vote for In-N-Out? Assign `True` or `False` to `q3_5`."
   ]
  },
  {
   "cell_type": "code",
   "execution_count": 17,
   "metadata": {},
   "outputs": [
    {
     "data": {
      "text/plain": [
       "False"
      ]
     },
     "execution_count": 17,
     "metadata": {},
     "output_type": "execute_result"
    }
   ],
   "source": [
    "q3_5 = False\n",
    "q3_5"
   ]
  },
  {
   "cell_type": "code",
   "execution_count": null,
   "metadata": {},
   "outputs": [],
   "source": [
    "_ = ok.grade('q3_5')"
   ]
  },
  {
   "cell_type": "markdown",
   "metadata": {},
   "source": [
    "**Question 6.**\n",
    "Suppose we produced 100,000 new samples (each one a uniform random sample of 10,000 voters) and created a 95% confidence interval from each one. Roughly how many of those 100,000 intervals do you expect will actually contain the true proportion of the population? Assign your answer to the variable `how_many` below. It should be the *number* of intervals, not the proportion or percentage."
   ]
  },
  {
   "cell_type": "code",
   "execution_count": 19,
   "metadata": {},
   "outputs": [
    {
     "data": {
      "text/plain": [
       "95000.0"
      ]
     },
     "execution_count": 19,
     "metadata": {},
     "output_type": "execute_result"
    }
   ],
   "source": [
    "#...how_many\n",
    "how_many = 100000 * .95\n",
    "how_many"
   ]
  },
  {
   "cell_type": "code",
   "execution_count": 18,
   "metadata": {},
   "outputs": [],
   "source": [
    "#: grade\n",
    "_ = ok.grade('q3_6')"
   ]
  },
  {
   "cell_type": "markdown",
   "metadata": {},
   "source": [
    "**Question 7.**\n",
    "\n",
    "Suppose you computed 80%, 90%, and 99% confidence intervals from one sample, but forgot to label which confidence interval represented which confidence levels. Match each interval to the appropiate confidence level by assigning a list to `q3_7`. The list should contain the numbers 1,2,3 in the order that points to 80%, 90%, and 99% confidence intervals.\n",
    "\n",
    "**1.** $[.3441,.3489]$:\n",
    "\n",
    "**2.**   $[.3444,.3487]$: \n",
    "\n",
    "**3.**   $[.3434,.3491]$:"
   ]
  },
  {
   "cell_type": "code",
   "execution_count": null,
   "metadata": {},
   "outputs": [],
   "source": [
    "q3_7 = [2,1,3]\n",
    "q3_7"
   ]
  },
  {
   "cell_type": "code",
   "execution_count": null,
   "metadata": {},
   "outputs": [],
   "source": [
    "#: grade\n",
    "_ = ok.grade('q3_7')"
   ]
  },
  {
   "cell_type": "markdown",
   "metadata": {},
   "source": [
    "## 4. Grouped Means"
   ]
  },
  {
   "cell_type": "markdown",
   "metadata": {},
   "source": [
    "Suppose you'd like to know about the ages of the people in a small town.  The local government collects this data about everyone in the town, but to ensure that you don't see any individual's age, it only makes public the number of people of each age.  (This could have been done by calling `group` on the original data table.)  So the first few rows of the dataset look something like this:"
   ]
  },
  {
   "cell_type": "code",
   "execution_count": 28,
   "metadata": {},
   "outputs": [
    {
     "data": {
      "text/html": [
       "<table border=\"1\" class=\"dataframe\">\n",
       "    <thead>\n",
       "        <tr>\n",
       "            <th>age</th> <th>count</th>\n",
       "        </tr>\n",
       "    </thead>\n",
       "    <tbody>\n",
       "        <tr>\n",
       "            <td>0   </td> <td>33   </td>\n",
       "        </tr>\n",
       "        <tr>\n",
       "            <td>3   </td> <td>53   </td>\n",
       "        </tr>\n",
       "        <tr>\n",
       "            <td>5   </td> <td>37   </td>\n",
       "        </tr>\n",
       "        <tr>\n",
       "            <td>6   </td> <td>52   </td>\n",
       "        </tr>\n",
       "        <tr>\n",
       "            <td>9   </td> <td>58   </td>\n",
       "        </tr>\n",
       "        <tr>\n",
       "            <td>10  </td> <td>58   </td>\n",
       "        </tr>\n",
       "        <tr>\n",
       "            <td>13  </td> <td>87   </td>\n",
       "        </tr>\n",
       "        <tr>\n",
       "            <td>14  </td> <td>79   </td>\n",
       "        </tr>\n",
       "        <tr>\n",
       "            <td>16  </td> <td>75   </td>\n",
       "        </tr>\n",
       "        <tr>\n",
       "            <td>19  </td> <td>85   </td>\n",
       "        </tr>\n",
       "    </tbody>\n",
       "</table>\n",
       "<p>... (30 rows omitted)</p>"
      ],
      "text/plain": [
       "age  | count\n",
       "0    | 33\n",
       "3    | 53\n",
       "5    | 37\n",
       "6    | 52\n",
       "9    | 58\n",
       "10   | 58\n",
       "13   | 87\n",
       "14   | 79\n",
       "16   | 75\n",
       "19   | 85\n",
       "... (30 rows omitted)"
      ]
     },
     "execution_count": 28,
     "metadata": {},
     "output_type": "execute_result"
    }
   ],
   "source": [
    "#: run this cell, but don't change it!\n",
    "ages = Table.read_table(\"small_town_ages.csv\")\n",
    "ages"
   ]
  },
  {
   "cell_type": "markdown",
   "metadata": {},
   "source": [
    "That means there were 33 people age 0, 53 people age 3, etc. Nobody is age 4."
   ]
  },
  {
   "cell_type": "markdown",
   "metadata": {},
   "source": [
    "**Question 1.** You first want to compute the mean age of the people in the town.\n",
    "\n",
    "Write a function called `grouped_mean`.  It should take as its argument a table like the one above, except that the columns might have different names.  It should return the mean of the numbers in the dataset, assuming the first column contains the numbers themselves and the second column contains the count of each number, as in the example.\n",
    "\n",
    "*Remember:* Even if you don't know the column name for the first column, you can access it by saying `tbl.column(0)`."
   ]
  },
  {
   "cell_type": "code",
   "execution_count": 29,
   "metadata": {},
   "outputs": [],
   "source": [
    "# write your code here\n",
    "def grouped_mean(t):\n",
    "    assert t.num_columns == 2, 'Expected a 2-column table t'\n",
    "    total_values = sum(t.column(0)*t.column(1))\n",
    "    total_count = sum(t.column(1))\n",
    "    return total_values/total_count"
   ]
  },
  {
   "cell_type": "code",
   "execution_count": 30,
   "metadata": {},
   "outputs": [
    {
     "data": {
      "text/plain": [
       "40.654680365296805"
      ]
     },
     "execution_count": 30,
     "metadata": {},
     "output_type": "execute_result"
    }
   ],
   "source": [
    "#: here's what your function says about the mean age\n",
    "grouped_mean(ages)"
   ]
  },
  {
   "cell_type": "code",
   "execution_count": 31,
   "metadata": {},
   "outputs": [
    {
     "name": "stdout",
     "output_type": "stream",
     "text": [
      "Your code passes the first example.\n",
      "Your code passes the second example.\n"
     ]
    }
   ],
   "source": [
    "#: this cell tests your function on two examples\n",
    "example = Table().with_columns('age', [1, 4, 6, 7, 9, 12], 'count', [3, 4, 10, 6, 14, 12])\n",
    "example2 = Table().with_columns('age', [12, 23, 36, 43, 57, 61], 'count', [52, 98, 203, 171, 106, 87])\n",
    "\n",
    "if not (7.925 <= grouped_mean(example) <= 8.055):\n",
    "    print('Your code fails the first example.')\n",
    "else:\n",
    "    print('Your code passes the first example.')\n",
    "\n",
    "if not (39.85 <= grouped_mean(example2) <= 40.7):\n",
    "    print('Your code fails the second example.')\n",
    "else:\n",
    "    print('Your code passes the second example.')"
   ]
  },
  {
   "cell_type": "code",
   "execution_count": null,
   "metadata": {},
   "outputs": [],
   "source": [
    "#: grade\n",
    "_ = ok.grade('q4_1')"
   ]
  },
  {
   "cell_type": "markdown",
   "metadata": {},
   "source": [
    "**Question 2.**\n",
    "You next want to summarize how spread out the ages are, so you decide to compute their standard deviation.\n",
    "\n",
    "Write a function called `grouped_std`.  It should take as its argument a table like the one above, except that the columns might have different names.  It should return the standard deviation of the numbers in the dataset, assuming the first column contains the numbers and the second column contains the count of each number, as in the example.\n",
    "\n",
    "*Hint:* You can think of the standard deviation as the square root of the mean of transformed version of the original dataset.  The numbers in the transformed dataset are the squared deviations from the mean.  You've already written a function that computes means of grouped numbers, so that should be useful."
   ]
  },
  {
   "cell_type": "code",
   "execution_count": 32,
   "metadata": {},
   "outputs": [],
   "source": [
    "# write your function here\n",
    "def grouped_std(t):\n",
    "    mean = grouped_mean(t)\n",
    "    sq_dev = (t.column(0) - mean)**2\n",
    "    new_table = Table().with_columns('squared deviations', sq_dev, 'count', t.column(1))\n",
    "    variance = grouped_mean(new_table)\n",
    "    return variance**0.5"
   ]
  },
  {
   "cell_type": "code",
   "execution_count": 33,
   "metadata": {},
   "outputs": [
    {
     "data": {
      "text/plain": [
       "20.271080712532278"
      ]
     },
     "execution_count": 33,
     "metadata": {},
     "output_type": "execute_result"
    }
   ],
   "source": [
    "#: here's what your function says about the standard deviation of the ages\n",
    "grouped_std(ages)"
   ]
  },
  {
   "cell_type": "code",
   "execution_count": 34,
   "metadata": {},
   "outputs": [
    {
     "name": "stdout",
     "output_type": "stream",
     "text": [
      "Your code passes the first example.\n",
      "Your code passes the second example.\n"
     ]
    }
   ],
   "source": [
    "#: this cell tests your function on two examples\n",
    "if not (2.965 <= grouped_std(example) <= 3.105):\n",
    "    print('Your code fails the first example.')\n",
    "else:\n",
    "    print('Your code passes the first example.')\n",
    "\n",
    "if not (13.83 <= grouped_std(example2) <= 14.42):\n",
    "    print('Your code fails the second example.')\n",
    "else:\n",
    "    print('Your code passes the second example.')"
   ]
  },
  {
   "cell_type": "code",
   "execution_count": null,
   "metadata": {},
   "outputs": [],
   "source": [
    "#: grade\n",
    "_ = ok.grade('q4_2')"
   ]
  },
  {
   "cell_type": "markdown",
   "metadata": {},
   "source": [
    "**Question 3.**\n",
    "Maybe you aren't sure whether your code for the previous question is correct. We want to test `grouped_mean` and `grouped_std` against the analogous NumPy functions. But to do that, we need to do some preprocessing of the data. There's a NumPy function that will make this easy, but we haven't seen it before. Luckily, NumPy comes with complete documentation. In this problem, we'll get practice in reading it.\n",
    "\n",
    "The built-in NumPy function `np.std` computes the standard deviation of an array of numbers.  It doesn't work for grouped data, so you couldn't have just used it in your answer to question 2!  But we can use it to check `grouped_std` by manually duplicating each number once for each count, putting the duplicated numbers into an array, and calling `np.mean` or `np.std` on the result. That is, given the following table:\n",
    "\n",
    "|age|count|\n",
    "|-|-|\n",
    "|12|1|\n",
    "|18|2|\n",
    "|25|4|\n",
    "\n",
    "we could create the following array by hand:\n",
    "\n",
    "$$\\verb|make_array(12, 18, 18, 25, 25, 25, 25)|$$\n",
    "\n",
    "Then we could use `np.std` on this new array to check that our function `grouped_std` works as intended.\n",
    "\n",
    "But manually creating such an array is a pain! If the town has 1,000 residents, you'll be stuck typing an array of 1,000 entries. It turns out that NumPy has a function, `np.repeat`, which can help us here. The documentation of the function is shown below:"
   ]
  },
  {
   "cell_type": "code",
   "execution_count": 35,
   "metadata": {},
   "outputs": [
    {
     "name": "stdout",
     "output_type": "stream",
     "text": [
      "Help on function repeat in module numpy.core.fromnumeric:\n",
      "\n",
      "repeat(a, repeats, axis=None)\n",
      "    Repeat elements of an array.\n",
      "    \n",
      "    Parameters\n",
      "    ----------\n",
      "    a : array_like\n",
      "        Input array.\n",
      "    repeats : int or array of ints\n",
      "        The number of repetitions for each element.  `repeats` is broadcasted\n",
      "        to fit the shape of the given axis.\n",
      "    axis : int, optional\n",
      "        The axis along which to repeat values.  By default, use the\n",
      "        flattened input array, and return a flat output array.\n",
      "    \n",
      "    Returns\n",
      "    -------\n",
      "    repeated_array : ndarray\n",
      "        Output array which has the same shape as `a`, except along\n",
      "        the given axis.\n",
      "    \n",
      "    See Also\n",
      "    --------\n",
      "    tile : Tile an array.\n",
      "    \n",
      "    Examples\n",
      "    --------\n",
      "    >>> np.repeat(3, 4)\n",
      "    array([3, 3, 3, 3])\n",
      "    >>> x = np.array([[1,2],[3,4]])\n",
      "    >>> np.repeat(x, 2)\n",
      "    array([1, 1, 2, 2, 3, 3, 4, 4])\n",
      "    >>> np.repeat(x, 3, axis=1)\n",
      "    array([[1, 1, 1, 2, 2, 2],\n",
      "           [3, 3, 3, 4, 4, 4]])\n",
      "    >>> np.repeat(x, [1, 2], axis=0)\n",
      "    array([[1, 2],\n",
      "           [3, 4],\n",
      "           [3, 4]])\n",
      "\n"
     ]
    }
   ],
   "source": [
    "#: run this to read the documentation for `np.repeat`\n",
    "help(np.repeat)"
   ]
  },
  {
   "cell_type": "markdown",
   "metadata": {},
   "source": [
    "The documentation above doesn't tell us *exactly* how to do what we want, but it is a good starting point. Try experimenting with the function on some small examples. You can ignore the `axis` keyword argument.\n",
    "\n",
    "Now, using the above documentation, write a function called `ungroup_table` which accepts a table with two columns -- the first being the objects (such as ages), and the second column being the count of each object -- and returns an array with each object duplicated the appropriate number of times. Your function should not assume anything about the column names.\n",
    "\n",
    "*Hint*: Your function should be simple if you use `np.repeat` properly."
   ]
  },
  {
   "cell_type": "code",
   "execution_count": 36,
   "metadata": {},
   "outputs": [],
   "source": [
    "# write your function here\n",
    "def ungroup_table(t):\n",
    "    return np.repeat(ages.column(0), ages.column(1))"
   ]
  },
  {
   "cell_type": "markdown",
   "metadata": {},
   "source": [
    "Now we can check to see if your functions above -- `grouped_mean` and `grouped_std` -- agree with the NumPy functions. They should give very similar answers!"
   ]
  },
  {
   "cell_type": "code",
   "execution_count": 37,
   "metadata": {},
   "outputs": [
    {
     "data": {
      "text/plain": [
       "20.271080712532275"
      ]
     },
     "execution_count": 37,
     "metadata": {},
     "output_type": "execute_result"
    }
   ],
   "source": [
    "#: check this against `grouped_std(ages)`\n",
    "np.std(ungroup_table(ages))"
   ]
  },
  {
   "cell_type": "code",
   "execution_count": 38,
   "metadata": {},
   "outputs": [
    {
     "data": {
      "text/plain": [
       "40.654680365296805"
      ]
     },
     "execution_count": 38,
     "metadata": {},
     "output_type": "execute_result"
    }
   ],
   "source": [
    "#: check this against `grouped_mean(ages)`\n",
    "np.mean(ungroup_table(ages))"
   ]
  },
  {
   "cell_type": "code",
   "execution_count": null,
   "metadata": {},
   "outputs": [],
   "source": [
    "#: grade\n",
    "_ = ok.grade('q4_3')"
   ]
  },
  {
   "cell_type": "markdown",
   "metadata": {},
   "source": [
    "To submit:\n",
    "\n",
    "1. Select `Kernel -> Restart & Run All` to ensure that you have executed all cells, including the test cells.\n",
    "3. Read through the notebook to make sure everything is fine and all tests passed.\n",
    "4. Submit using the cell below.\n",
    "5. Save PDF and submit to gradescope"
   ]
  },
  {
   "cell_type": "code",
   "execution_count": null,
   "metadata": {},
   "outputs": [],
   "source": [
    "#: Run all tests at once\n",
    "import os\n",
    "_ = [ok.grade(q[:-3]) for q in os.listdir('tests') if q.startswith('q')]"
   ]
  },
  {
   "cell_type": "markdown",
   "metadata": {},
   "source": [
    "## Before submitting, select \"Kernel\" -> \"Restart & Run All\" from the menu!\n",
    "\n",
    "Then make sure that all of your cells ran without error."
   ]
  },
  {
   "cell_type": "code",
   "execution_count": null,
   "metadata": {},
   "outputs": [],
   "source": [
    "#: Submit your notebook\n",
    "_ = ok.submit()"
   ]
  },
  {
   "cell_type": "markdown",
   "metadata": {},
   "source": [
    "## Don't forget to submit to both OK and Gradescope!"
   ]
  }
 ],
 "metadata": {
  "kernelspec": {
   "display_name": "Python 3",
   "language": "python",
   "name": "python3"
  },
  "language_info": {
   "codemirror_mode": {
    "name": "ipython",
    "version": 3
   },
   "file_extension": ".py",
   "mimetype": "text/x-python",
   "name": "python",
   "nbconvert_exporter": "python",
   "pygments_lexer": "ipython3",
   "version": "3.6.2"
  }
 },
 "nbformat": 4,
 "nbformat_minor": 2
}
